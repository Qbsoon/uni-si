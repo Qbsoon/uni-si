{
 "cells": [
  {
   "cell_type": "code",
   "execution_count": 7,
   "metadata": {},
   "outputs": [],
   "source": [
    "import pandas as pd\n",
    "import rdflib"
   ]
  },
  {
   "cell_type": "code",
   "execution_count": 119,
   "metadata": {},
   "outputs": [],
   "source": [
    "def csv_to_rdf(csv_file, rdf_file, dtype_mapping=None):\n",
    "    # Read the CSV file into a DataFrame\n",
    "    df = pd.read_csv(csv_file)\n",
    "\n",
    "    # Create an RDF graph\n",
    "    g = rdflib.Graph()\n",
    "\n",
    "    # Define a base URI for our RDF graph\n",
    "    base_uri = rdflib.URIRef(\"http://example.org/\")\n",
    "\n",
    "    # Iterate over the DataFrame and create RDF triples\n",
    "    for i, row in df.iterrows():\n",
    "        row_uri = rdflib.URIRef(f\"{base_uri}row{i}\")\n",
    "        for column in df.columns:\n",
    "            predicate = rdflib.URIRef(f\"{base_uri}{column}\")\n",
    "            if column in dtype_mapping:\n",
    "                object_value = rdflib.Literal(row[column], datatype=dtype_mapping[column])\n",
    "            else:\n",
    "                print(\"type missing in map\")\n",
    "                object_value = rdflib.Literal(row[column])\n",
    "            g.add((row_uri, predicate, object_value))\n",
    "\n",
    "    # Serialize the RDF graph to a file (Turtle format)\n",
    "    g.serialize(destination=rdf_file, format=\"turtle\")\n",
    "    print(f\"RDF graph has been saved to {rdf_file}\")"
   ]
  },
  {
   "cell_type": "code",
   "execution_count": 115,
   "metadata": {},
   "outputs": [],
   "source": [
    "def rdf_to_csv(rdf_file, csv_file):\n",
    "    # Create an RDF graph and parse the RDF file\n",
    "    g = rdflib.Graph()\n",
    "    g.parse(rdf_file, format=\"turtle\")\n",
    "\n",
    "    # Initialize a dictionary to hold rows for the CSV\n",
    "    rows = {}\n",
    "\n",
    "    # Iterate over the RDF triples to build the CSV structure\n",
    "    for subject, predicate, obj in g:\n",
    "        if isinstance(subject, rdflib.URIRef) and isinstance(predicate, rdflib.URIRef):\n",
    "            # Extract the row index from the subject URI (e.g., \"row0\", \"row1\", ...)\n",
    "            row_index = str(subject).split('/')[-1]\n",
    "            column_name = str(predicate).split('/')[-1]\n",
    "\n",
    "            # Initialize the row if it doesn't exist\n",
    "            if row_index not in rows:\n",
    "                rows[row_index] = {}\n",
    "\n",
    "            # Add the object value to the corresponding row and column\n",
    "            rows[row_index][column_name] = obj\n",
    "\n",
    "    # Convert the dictionary of rows into a DataFrame\n",
    "    df = pd.DataFrame.from_dict(rows, orient='index')\n",
    "    # Write the DataFrame to a CSV file\n",
    "    df.to_csv(csv_file, index=False)\n",
    "    print(f\"CSV file has been saved to {csv_file}\")"
   ]
  },
  {
   "cell_type": "code",
   "execution_count": 120,
   "metadata": {},
   "outputs": [
    {
     "name": "stdout",
     "output_type": "stream",
     "text": [
      "RDF graph has been saved to mushroom.ttl\n"
     ]
    }
   ],
   "source": [
    "dmap = {\"cap-diameter\": rdflib.XSD.int, \"cap-shape\": rdflib.XSD.int, \"gill-attachment\": rdflib.XSD.int, \"gill-color\": rdflib.XSD.int, \"stem-height\": rdflib.XSD.float, \"stem-width\": rdflib.XSD.int, \"stem-color\": rdflib.XSD.int, \"season\": rdflib.XSD.float, \"class\": rdflib.XSD.int}\n",
    "csv_to_rdf('mushroom_cleaned.csv', 'mushroom.ttl', dmap)"
   ]
  },
  {
   "cell_type": "code",
   "execution_count": 85,
   "metadata": {},
   "outputs": [
    {
     "name": "stdout",
     "output_type": "stream",
     "text": [
      "CSV file has been saved to mushroom_rdf.csv\n"
     ]
    }
   ],
   "source": [
    "rdf_to_csv('mushroom.ttl', 'mushroom_rdf.csv')"
   ]
  },
  {
   "cell_type": "code",
   "execution_count": 91,
   "metadata": {},
   "outputs": [],
   "source": [
    "def check_csv(left_side, right_side):\n",
    "    left = pd.read_csv(left_side)\n",
    "    right = pd.read_csv(right_side)\n",
    "    left = left.reindex(sorted(left.columns), axis=1)\n",
    "    right = right.reindex(sorted(right.columns), axis=1)\n",
    "    left.sort_values(by=left.columns.tolist(), inplace=True)\n",
    "    right.sort_values(by=right.columns.tolist(), inplace=True)\n",
    "    left.reset_index(drop=True, inplace=True)\n",
    "    right.reset_index(drop=True, inplace=True)\n",
    "    for col in left.columns:\n",
    "        if type(left[col][0]) != type(right[col][0]):\n",
    "            right[col] = right[col].astype(type(left[col][0]))\n",
    "    return left.equals(right)"
   ]
  },
  {
   "cell_type": "code",
   "execution_count": 90,
   "metadata": {},
   "outputs": [
    {
     "name": "stdout",
     "output_type": "stream",
     "text": [
      "True\n"
     ]
    }
   ],
   "source": [
    "print(check_csv('mushroom_cleaned.csv', 'mushroom_rdf.csv'))"
   ]
  }
 ],
 "metadata": {
  "kernelspec": {
   "display_name": "si",
   "language": "python",
   "name": "python3"
  },
  "language_info": {
   "codemirror_mode": {
    "name": "ipython",
    "version": 3
   },
   "file_extension": ".py",
   "mimetype": "text/x-python",
   "name": "python",
   "nbconvert_exporter": "python",
   "pygments_lexer": "ipython3",
   "version": "3.11.9"
  }
 },
 "nbformat": 4,
 "nbformat_minor": 2
}
