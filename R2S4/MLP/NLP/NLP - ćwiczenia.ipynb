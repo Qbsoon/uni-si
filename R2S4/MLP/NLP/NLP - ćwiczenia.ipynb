{
 "cells": [
  {
   "cell_type": "markdown",
   "metadata": {
    "id": "6YN7WzlCXWU2"
   },
   "source": [
    "# Przetwarzanie języka naturalnego\n",
    "\n",
    "\n",
    "Nauczymy się przetwarzania języka naturalnego. Omówimy różne koncepcje, takie jak tokenizacja, wyprowadzanie i lematyzacja w celu przetwarzania tekstu. Następnie omówimy, jak zbudować model Bag of Words i wykorzystać go do klasyfikacji tekstu. Zobaczymy, jak wykorzystać uczenie maszynowe do analizy sentymentu danego zdania. Następnie omówimy modelowanie tematów i wdrożymy system identyfikacji tematów w danym dokumencie.\n",
    "\n",
    "Pod koniec będziesz wiedział:\n",
    "- Jak zainstalować odpowiednie pakiety\n",
    "- Tokenizacja danych tekstowych\n",
    "- Konwertowanie słów na ich formy podstawowe przy użyciu tematyki konwersyjnej\n",
    "- Konwertowanie słów na ich formy podstawowe za pomocą lematyzacji Dzielenie danych tekstowych na fragmenty\n",
    "- Wyodrębnianie macierzy terminów dokumentu za pomocą modelu Bag of Words\n",
    "- Budowanie predyktora kategorii\n",
    "- Konstruowanie identyfikatora płci\n",
    "- Budowanie analizatora nastrojów (sentymentu)\n",
    "- Modelowanie tematyczne z wykorzystaniem ukrytej alokacji Dirichleta\n",
    "\n",
    "## Wprowadzenie i instalacja pakietów\n",
    "Przetwarzanie języka naturalnego (NLP) stało się ważną częścią nowoczesnych systemów. Jest szeroko stosowany w wyszukiwarkach, interfejsach konwersacyjnych, procesorach dokumentów i tak dalej. Maszyny dobrze radzą sobie z danymi strukturalnymi. Ale jeśli chodzi o pracę z tekstem o dowolnej formie, mają trudności. Celem NLP jest opracowanie algorytmów, które umożliwią komputerom zrozumienie dowolnego tekstu i pomogą im zrozumieć język.\n",
    "\n",
    "Jedną z najtrudniejszych rzeczy w przetwarzaniu dowolnego języka naturalnego jest ogromna liczba jego odmian. Kontekst odgrywa bardzo ważną rolę w zrozumieniu danego zdania. Ludzie są w tym wspaniali, ponieważ byliśmy szkoleni przez wiele lat. Natychmiast wykorzystujemy naszą przeszłą wiedzę, aby zrozumieć kontekst i wiedzieć, o czym mówi druga osoba.\n",
    "\n",
    "Aby rozwiązać ten problem, badacze NLP zaczęli opracowywać różne aplikacje z wykorzystaniem metod uczenia maszynowego. Aby zbudować takie aplikacje, musimy zebrać duży korpus tekstu, a następnie wyszkolić algorytm do wykonywania różnych zadań, takich jak kategoryzowanie tekstu, analizowanie sentymentów lub modelowanie tematów. Te algorytmy są uczone do wykrywania wzorców w wejściowych danych tekstowych i uzyskiwania z nich szczegółowych informacji.\n",
    "W tym rozdziale omówimy różne podstawowe pojęcia, które są używane do analizy tekstu i tworzenia aplikacji NLP. To pozwoli nam zrozumieć, jak wydobyć znaczące informacje z podanych danych tekstowych. Do tworzenia tych aplikacji użyjemy pakietu Pythona o nazwie Natural Language Toolkit (NLTK). Upewnij się, że zainstalowałeś."
   ]
  },
  {
   "cell_type": "code",
   "execution_count": null,
   "metadata": {
    "id": "fDHcxj37XWU5"
   },
   "outputs": [],
   "source": [
    "#conda install nltk"
   ]
  },
  {
   "cell_type": "code",
   "execution_count": null,
   "metadata": {
    "id": "On_fAniJXWU6"
   },
   "outputs": [],
   "source": [
    "#conda install scikit-learn"
   ]
  },
  {
   "cell_type": "code",
   "execution_count": 1,
   "metadata": {
    "id": "O_njsJFuXWU7"
   },
   "outputs": [],
   "source": [
    "import nltk"
   ]
  },
  {
   "cell_type": "code",
   "execution_count": 5,
   "metadata": {
    "id": "ovA0XaSUXWU7"
   },
   "outputs": [
    {
     "name": "stderr",
     "output_type": "stream",
     "text": [
      "[nltk_data] Downloading package punkt to /root/nltk_data...\n",
      "[nltk_data]   Package punkt is already up-to-date!\n",
      "[nltk_data] Downloading package wordnet to /root/nltk_data...\n",
      "[nltk_data]   Package wordnet is already up-to-date!\n",
      "[nltk_data] Downloading package brown to /root/nltk_data...\n",
      "[nltk_data]   Package brown is already up-to-date!\n",
      "[nltk_data] Downloading package punkt_tab to /root/nltk_data...\n",
      "[nltk_data]   Unzipping tokenizers/punkt_tab.zip.\n"
     ]
    },
    {
     "data": {
      "text/plain": [
       "True"
      ]
     },
     "execution_count": 5,
     "metadata": {},
     "output_type": "execute_result"
    }
   ],
   "source": [
    "nltk.download(\"punkt\")\n",
    "nltk.download('wordnet')\n",
    "nltk.download('brown')\n",
    "nltk.download('punkt_tab')"
   ]
  },
  {
   "cell_type": "markdown",
   "metadata": {
    "id": "T3pPYv_HXWU8"
   },
   "source": [
    "## Tokenizacja danych tekstowych\n",
    "\n",
    "Kiedy mamy do czynienia z tekstem, musimy podzielić go na mniejsze części do analizy. W tym miejscu pojawia się tokenizacja. Jest to proces dzielenia tekstu wejściowego na zestaw części, takich jak słowa lub zdania. Te elementy nazywane są żetonami. W zależności od tego, co chcemy zrobić, możemy zdefiniować własne metody podziału tekstu na wiele tokenów. Przyjrzyjmy się, jak tokenizować tekst wejściowy za pomocą NLTK."
   ]
  },
  {
   "cell_type": "code",
   "execution_count": 2,
   "metadata": {
    "id": "DG92HxL2XWU8"
   },
   "outputs": [],
   "source": [
    "from nltk.tokenize import sent_tokenize, word_tokenize, WordPunctTokenizer"
   ]
  },
  {
   "cell_type": "code",
   "execution_count": 6,
   "metadata": {
    "id": "3baofMDqXWU9"
   },
   "outputs": [
    {
     "name": "stdout",
     "output_type": "stream",
     "text": [
      "\n",
      "Sentence tokenizer:\n",
      "['Do you know how tokenization works?', \"It's actually quite interesting!\", \"Let's analyze a couple of sentences and figure it out.\"]\n",
      "\n",
      "Word tokenizer:\n",
      "['Do', 'you', 'know', 'how', 'tokenization', 'works', '?', 'It', \"'s\", 'actually', 'quite', 'interesting', '!', 'Let', \"'s\", 'analyze', 'a', 'couple', 'of', 'sentences', 'and', 'figure', 'it', 'out', '.']\n",
      "\n",
      "Word punct tokenizer:\n",
      "['Do', 'you', 'know', 'how', 'tokenization', 'works', '?', 'It', \"'\", 's', 'actually', 'quite', 'interesting', '!', 'Let', \"'\", 's', 'analyze', 'a', 'couple', 'of', 'sentences', 'and', 'figure', 'it', 'out', '.']\n"
     ]
    }
   ],
   "source": [
    "# Define input text\n",
    "input_text = \"Do you know how tokenization works? It's actually quite interesting! Let's analyze a couple of sentences and figure it out.\"\n",
    "\n",
    "# Sentence tokenizer\n",
    "print(\"\\nSentence tokenizer:\")\n",
    "print(sent_tokenize(text=input_text, language=\"english\"))\n",
    "\n",
    "# Word tokenizer\n",
    "print(\"\\nWord tokenizer:\")\n",
    "print(word_tokenize(input_text))\n",
    "\n",
    "# WordPunct tokenizer\n",
    "print(\"\\nWord punct tokenizer:\")\n",
    "print(WordPunctTokenizer().tokenize(input_text))\n"
   ]
  },
  {
   "cell_type": "markdown",
   "metadata": {
    "id": "xxTmxX9eXWU9"
   },
   "source": [
    "## Konwersja słów do ich form podstawowych\n",
    "\n",
    "Praca z tekstem ma wiele odmian. Musimy radzić sobie z różnymi formami tego samego słowa i umożliwić komputerowi zrozumienie, że te różne słowa mają tę samą formę podstawową. Na przykład słowo śpiewać może występować w wielu formach, takich jak śpiew, piosenkarz, śpiew, piosenkarz i tak dalej. Właśnie widzieliśmy zestaw słów o podobnym znaczeniu. Ludzie mogą łatwo zidentyfikować te podstawowe formy i wyprowadzić kontekst.\n",
    "\n",
    "Kiedy analizujemy tekst, warto wyodrębnić te podstawowe formy. Umożliwi nam to uzyskanie przydatnych statystyk do analizy wprowadzonego tekstu. Stemming jest jednym ze sposobów osiągnięcia tego. Celem stemmera jest zredukowanie słów w ich różnych formach do wspólnej formy podstawowej. Jest to w zasadzie proces heurystyczny, który odcina końce słów, aby wyodrębnić ich podstawowe formy. Zobaczmy, jak to zrobić za pomocą NLTK."
   ]
  },
  {
   "cell_type": "code",
   "execution_count": 8,
   "metadata": {
    "id": "4lCZECt9XWU9"
   },
   "outputs": [],
   "source": [
    "from nltk.stem.porter import PorterStemmer\n",
    "from nltk.stem.lancaster import LancasterStemmer\n",
    "from nltk.stem.snowball import SnowballStemmer"
   ]
  },
  {
   "cell_type": "code",
   "execution_count": 10,
   "metadata": {
    "id": "ZqckSouwXWU-"
   },
   "outputs": [
    {
     "name": "stdout",
     "output_type": "stream",
     "text": [
      "\n",
      "       INPUT WORD          PORTER       LANCASTER        SNOWBALL \n",
      " ====================================================================\n",
      "         writing           write            writ           write\n",
      "          calves            calv            calv            calv\n",
      "              be              be              be              be\n",
      "         branded           brand           brand           brand\n",
      "           horse            hors            hors            hors\n",
      "          horses            hors            hors            hors\n",
      "       randomize          random          random          random\n",
      "        possibly         possibl            poss         possibl\n",
      "       provision          provis          provid          provis\n",
      "        hospital          hospit          hospit          hospit\n",
      "            kept            kept            kept            kept\n",
      "        scratchy        scratchi        scratchy        scratchi\n",
      "            code            code             cod            code\n"
     ]
    }
   ],
   "source": [
    "input_words = ['writing', 'calves', 'be', 'branded', 'horse', 'horses', 'randomize',\n",
    "        'possibly', 'provision', 'hospital', 'kept', 'scratchy', 'code']\n",
    "\n",
    "# Create various stemmer objects\n",
    "porter = PorterStemmer()\n",
    "lancaster = LancasterStemmer()\n",
    "snowball = SnowballStemmer('english')\n",
    "\n",
    "# Create a list of stemmer names for display\n",
    "stemmer_names = ['PORTER', 'LANCASTER', 'SNOWBALL']\n",
    "formatted_text = '{:>16}' * (len(stemmer_names) + 1)\n",
    "print('\\n', formatted_text.format('INPUT WORD', *stemmer_names),\n",
    "        '\\n', '='*68)\n",
    "\n",
    "# Stem each word and display the output\n",
    "for word in input_words:\n",
    "    output = [word, porter.stem(word), lancaster.stem(word), snowball.stem(word)]\n",
    "    print(formatted_text.format(*output))"
   ]
  },
  {
   "cell_type": "markdown",
   "metadata": {
    "id": "-s2z-dhaXWU-"
   },
   "source": [
    "Porozmawiajmy trochę o trzech algorytmach rdzenia, które są tutaj używane. W zasadzie wszyscy starają się osiągnąć ten sam cel. Różnica między nimi polega na poziomie ścisłości, który jest używany do uzyskania formy podstawowej.\n",
    "\n",
    "Stemmer Porter  jest najmniej rygorystyczna, a Lancaster najsurowsza. Jeśli uważnie przyjrzysz się wynikom, zauważysz różnice. Stemmery zachowują się inaczej, jeśli chodzi o słowa takie jak possibly lub provision. Wyjścia stemplowane, które są uzyskiwane z lancastera Lancaster są nieco zaciemnione, ponieważ bardzo redukują słowa. Jednocześnie algorytm jest naprawdę szybki. Dobrą zasadą jest użycie łodygi Snowball, ponieważ jest to dobry kompromis między szybkością a ścisłością."
   ]
  },
  {
   "cell_type": "markdown",
   "metadata": {
    "id": "_PSWAqDlXWU-"
   },
   "source": [
    "## Konwersja słów do ich form podstawowych za pomocą lematyzacji\n",
    "\n",
    "Lematyzacja to kolejny sposób na zredukowanie słów do ich podstawowych form. W poprzedniej sekcji widzieliśmy, że formy podstawowe, które uzyskano z tych macierzystych, nie miały sensu. Na przykład wszyscy trzej hodowcy powiedzieli, że podstawową formą calves jest calv, co nie jest prawdziwym słowem. Lematyzacja wymaga bardziej uporządkowanego podejścia do rozwiązania tego problemu.\n",
    "W procesie lematyzacji wykorzystuje się słownictwo i analizę morfologiczną słów. Formy podstawowe uzyskuje poprzez usunięcie końcówek fleksyjnych, takich jak ing czy ed. Ta podstawowa forma dowolnego słowa jest znana jako lemat. Jeśli lemmatyzujesz słowo calves, powinieneś otrzymać calf jako wynik. Należy zauważyć, że wynik zależy od tego, czy słowo jest czasownikiem, czy rzeczownikiem. Przyjrzyjmy się, jak to zrobić za pomocą NLTK."
   ]
  },
  {
   "cell_type": "code",
   "execution_count": 11,
   "metadata": {
    "id": "O308GvhLXWU-"
   },
   "outputs": [
    {
     "name": "stdout",
     "output_type": "stream",
     "text": [
      "\n",
      "               INPUT WORD         NOUN LEMMATIZER         VERB LEMMATIZER \n",
      " ===========================================================================\n",
      "                 writing                 writing                   write\n",
      "                  calves                    calf                   calve\n",
      "                      be                      be                      be\n",
      "                     are                     are                      be\n",
      "                      is                      is                      be\n",
      "                 branded                 branded                   brand\n",
      "                   horse                   horse                   horse\n",
      "                  horses                   horse                   horse\n",
      "               randomize               randomize               randomize\n",
      "                possibly                possibly                possibly\n",
      "               provision               provision               provision\n",
      "                hospital                hospital                hospital\n",
      "                    kept                    kept                    keep\n",
      "                scratchy                scratchy                scratchy\n",
      "                    code                    code                    code\n"
     ]
    }
   ],
   "source": [
    "from nltk.stem import WordNetLemmatizer\n",
    "\n",
    "input_words = ['writing', 'calves', 'be', 'are', 'is', 'branded', 'horse', 'horses','randomize',\n",
    "        'possibly', 'provision', 'hospital', 'kept', 'scratchy', 'code']\n",
    "\n",
    "# Create lemmatizer object\n",
    "lemmatizer = WordNetLemmatizer()\n",
    "\n",
    "# Create a list of lemmatizer names for display\n",
    "lemmatizer_names = ['NOUN LEMMATIZER', 'VERB LEMMATIZER']\n",
    "formatted_text = '{:>24}' * (len(lemmatizer_names) + 1)\n",
    "print('\\n', formatted_text.format('INPUT WORD', *lemmatizer_names),\n",
    "        '\\n', '='*75)\n",
    "\n",
    "# Lemmatize each word and display the output\n",
    "for word in input_words:\n",
    "    output = [word, lemmatizer.lemmatize(word, pos='n'),\n",
    "           lemmatizer.lemmatize(word, pos='v')]\n",
    "    print(formatted_text.format(*output))"
   ]
  },
  {
   "cell_type": "markdown",
   "metadata": {
    "id": "7QSFi5qZXWU-"
   },
   "source": [
    "## Dzielenie danych tekstowych na porcje\n",
    "\n",
    "W celu dalszej analizy dane tekstowe zwykle trzeba podzielić na części. Ten proces jest nazywany fragmentacją. Jest to często używane w analizie tekstu. Warunki używane do podzielenia tekstu na fragmenty mogą się różnić w zależności od problemu. To nie to samo, co tokenizacja, w której również dzielimy tekst na części. Podczas dzielenia na fragmenty nie stosujemy się do żadnych ograniczeń, a fragmenty wyjściowe muszą mieć znaczenie.\n",
    "Kiedy mamy do czynienia z dużymi dokumentami tekstowymi, ważne staje się podzielenie tekstu na fragmenty, aby wydobyć znaczące informacje. W tej sekcji zobaczymy, jak podzielić tekst wejściowy na kilka części."
   ]
  },
  {
   "cell_type": "code",
   "execution_count": 12,
   "metadata": {
    "id": "JOCxDw4rXWU-"
   },
   "outputs": [],
   "source": [
    "import numpy as np\n",
    "from nltk.corpus import brown"
   ]
  },
  {
   "cell_type": "code",
   "execution_count": 13,
   "metadata": {
    "id": "n7_P2Pw-XWU_"
   },
   "outputs": [],
   "source": [
    "# Split the input text into chunks, where each chunk contains N words\n",
    "def chunker(input_data, N):\n",
    "    input_words = input_data.split(' ')\n",
    "    output = []\n",
    "\n",
    "    cur_chunk = []\n",
    "    count = 0\n",
    "    for word in input_words:\n",
    "        cur_chunk.append(word)\n",
    "        count += 1\n",
    "        if count == N:\n",
    "            output.append(' '.join(cur_chunk))\n",
    "            count, cur_chunk = 0, []\n",
    "\n",
    "    output.append(' '.join(cur_chunk))\n",
    "\n",
    "    return output"
   ]
  },
  {
   "cell_type": "code",
   "execution_count": 14,
   "metadata": {
    "id": "zFP7yGRcXWU_"
   },
   "outputs": [
    {
     "name": "stdout",
     "output_type": "stream",
     "text": [
      "\n",
      "Number of text chunks = 18 \n",
      "\n",
      "Chunk 1 ==> The Fulton County Grand Jury said Friday an investigation of Atlanta's recent primary election produ\n",
      "Chunk 2 ==> '' . ( 2 ) Fulton legislators `` work with city officials to pass enabling legislation that will per\n",
      "Chunk 3 ==> . Construction bonds Meanwhile , it was learned the State Highway Department is very near being read\n",
      "Chunk 4 ==> , anonymous midnight phone calls and veiled threats of violence . The former county school superinte\n",
      "Chunk 5 ==> Harris , Bexar , Tarrant and El Paso would be $451,500 , which would be a savings of $157,460 yearly\n",
      "Chunk 6 ==> set it for public hearing on Feb. 22 . The proposal would have to receive final legislative approval\n",
      "Chunk 7 ==> College . He has served as a border patrolman and was in the Signal Corps of the U.S. Army . Denton \n",
      "Chunk 8 ==> of his staff were doing on the address involved composition and wording , rather than last minute de\n",
      "Chunk 9 ==> plan alone would boost the base to $5,000 a year and the payroll tax to 6.5 per cent -- 3.25 per cen\n",
      "Chunk 10 ==> nursing homes In the area of `` community health services '' , the President called for doubling the\n",
      "Chunk 11 ==> of its Angola policy prove harsh , there has been a noticeable relaxation of tension . The general ,\n",
      "Chunk 12 ==> system which will prevent Laos from being used as a base for Communist attacks on neighboring Thaila\n",
      "Chunk 13 ==> reform in recipient nations . In Laos , the administration looked at the Eisenhower administration e\n",
      "Chunk 14 ==> . He is not interested in being named a full-time director . Noting that President Kennedy has hande\n",
      "Chunk 15 ==> said , `` to obtain the views of the general public and religious , labor and special-interest group\n",
      "Chunk 16 ==> '' . Mr. Reama , far from really being retired , is engaged in industrial relations counseling . A p\n",
      "Chunk 17 ==> making enforcement of minor offenses more effective . Nothing has been done yet to take advantage of\n",
      "Chunk 18 ==> to tell the people where he stands on the tax issue '' . Defends Ike Earlier , Mitchell said in a st\n"
     ]
    }
   ],
   "source": [
    "# Read the first 12000 words from the Brown corpus\n",
    "input_data = ' '.join(brown.words()[:12000])\n",
    "\n",
    "# Define the number of words in each chunk\n",
    "chunk_size = 700\n",
    "\n",
    "chunks = chunker(input_data, chunk_size)\n",
    "print('\\nNumber of text chunks =', len(chunks), '\\n')\n",
    "for i, chunk in enumerate(chunks):\n",
    "    print('Chunk', i+1, '==>', chunk[:100])"
   ]
  },
  {
   "cell_type": "code",
   "execution_count": 15,
   "metadata": {
    "id": "K8mhqHkwXWU_"
   },
   "outputs": [
    {
     "data": {
      "text/plain": [
       "\"The Fulton County Grand Jury said Friday an investigation of Atlanta's recent primary election produced `` no evidence '' that any irregularities took place . The jury further said in term-end presentments that the City Executive Committee , which had over-all charge of the election , `` deserves the praise and thanks of the City of Atlanta '' for the manner in which the election was conducted . The September-October term jury had been charged by Fulton Superior Court Judge Durwood Pye to investigate reports of possible `` irregularities '' in the hard-fought primary which was won by Mayor-nominate Ivan Allen Jr. . `` Only a relative handful of such reports was received '' , the jury said , `` considering the widespread interest in the election , the number of voters and the size of this city '' . The jury said it did find that many of Georgia's registration and election laws `` are outmoded or inadequate and often ambiguous '' . It recommended that Fulton legislators act `` to have these laws studied and revised to the end of modernizing and improving them '' . The grand jury commented on a number of other topics , among them the Atlanta and Fulton County purchasing departments which it said `` are well operated and follow generally accepted practices which inure to the best interest of both governments '' . Merger proposed However , the jury said it believes `` these two offices should be combined to achieve greater efficiency and reduce the cost of administration '' . The City Purchasing Department , the jury said , `` is lacking in experienced clerical personnel as a result of city personnel policies '' . It urged that the city `` take steps to remedy '' this problem . Implementation of Georgia's automobile title law was also recommended by the outgoing jury . It urged that the next Legislature `` provide enabling funds and re-set the effective date so that an orderly implementation of the law may be effected '' . The grand jury took a swipe at the State Welfare Department's handling of federal funds granted for child welfare services in foster homes . `` This is one of the major items in the Fulton County general assistance program '' , the jury said , but the State Welfare Department `` has seen fit to distribute these funds through the welfare departments of all the counties in the state with the exception of Fulton County , which receives none of this money . The jurors said they realize `` a proportionate distribution of these funds might disable this program in our less populous counties '' . Nevertheless , `` we feel that in the future Fulton County should receive some portion of these available funds '' , the jurors said . `` Failure to do this will continue to place a disproportionate burden '' on Fulton taxpayers . The jury also commented on the Fulton ordinary's court which has been under fire for its practices in the appointment of appraisers , guardians and administrators and the awarding of fees and compensation . Wards protected The jury said it found the court `` has incorporated into its operating procedures the recommendations '' of two previous grand juries , the Atlanta Bar Association and an interim citizens committee . `` These actions should serve to protect in fact and in effect the court's wards from undue costs and its appointed and elected servants from unmeritorious criticisms '' , the jury said . Regarding Atlanta's new multi-million-dollar airport , the jury recommended `` that when the new management takes charge Jan. 1 the airport be operated in a manner that will eliminate political influences '' . The jury did not elaborate , but it added that `` there should be periodic surveillance of the pricing practices of the concessionaires for the purpose of keeping the prices reasonable '' . Ask jail deputies On other matters , the jury recommended that : ( 1 ) Four additional deputies be employed at the Fulton County Jail and `` a doctor , medical intern or extern be employed for night and weekend duty at the jail\""
      ]
     },
     "execution_count": 15,
     "metadata": {},
     "output_type": "execute_result"
    }
   ],
   "source": [
    "chunks[0]"
   ]
  },
  {
   "cell_type": "markdown",
   "metadata": {
    "id": "Ow5yDW1HXWU_"
   },
   "source": [
    "## Wyodrębnianie częstotliwości terminów za pomocą modelu Bag of Words\n",
    "\n",
    "Jednym z głównych celów analizy tekstu jest konwersja tekstu do postaci numerycznej, abyśmy mogli wykorzystać na nim uczenie maszynowe. Rozważmy dokumenty tekstowe, które zawierają wiele milionów słów. Aby przeanalizować te dokumenty, musimy wyodrębnić tekst i przekształcić go w formę reprezentacji numerycznej.\n",
    "\n",
    "Algorytmy uczenia maszynowego potrzebują danych liczbowych do pracy, aby móc analizować dane i wyodrębniać znaczące informacje. W tym miejscu pojawia się model Bag of Words. Model ten wyodrębnia słownictwo ze wszystkich słów w dokumentach i buduje model przy użyciu matrycy terminów dokumentu. To pozwala nam przedstawić każdy dokument jako zbiór słów. Po prostu śledzimy liczbę słów i pomijamy szczegóły gramatyczne i kolejność słów.\n",
    "\n",
    "Zobaczmy, o co chodzi w macierzy terminów dokumentu. Macierz terminów dokumentu to w zasadzie tabela, która podaje liczbę różnych słów występujących w dokumencie. Tak więc dokument tekstowy można przedstawić jako ważoną kombinację różnych słów. Możemy ustawić progi i wybrać słowa, które są bardziej znaczące. W pewnym sensie tworzymy histogram wszystkich słów w dokumencie, który będzie używany jako wektor cech. Ten wektor cech jest używany do klasyfikacji tekstu.\n",
    "\n",
    "Rozważ następujące zdania:\n",
    "- Sentence 1: The children are playing in the hall\n",
    "- Sentence 2: The hall has a lot of space\n",
    "- Sentence 3: Lots of children like playing in an open space\n",
    "\n",
    "Jeśli weźmiesz pod uwagę wszystkie trzy zdania, mamy dziewięć niepowtarzalnych słów:\n",
    "- the\n",
    "- children\n",
    "- are\n",
    "- playing\n",
    "- in\n",
    "- hall\n",
    "- has\n",
    "- a\n",
    "- lot\n",
    "- of\n",
    "- space\n",
    "- like\n",
    "- an\n",
    "- open\n",
    "\n",
    "Jest tutaj 14 różnych słów. Skonstruujmy histogram dla każdego zdania, używając liczby słów w każdym zdaniu. Każdy wektor cech będzie 14-wymiarowy, ponieważ w sumie mamy 14 różnych słów:\n",
    "\n",
    "- Sentence 1: [2, 1, 1, 1, 1, 1, 0, 0, 0, 0, 0, 0, 0, 0]\n",
    "- Sentence 2: [1, 0, 0, 0, 0, 1, 1, 1, 1, 1, 1, 0, 0, 0]\n",
    "- Sentence 3: [0, 1, 0, 1, 1, 0, 0, 0, 1, 1, 1, 1, 1, 1]\n",
    "\n",
    "Teraz, gdy wyodrębniliśmy te wektory cech, możemy użyć algorytmów uczenia maszynowego do analizy tych danych.\n",
    "Zobaczmy, jak zbudować model Bag of Words w NLTK."
   ]
  },
  {
   "cell_type": "code",
   "execution_count": null,
   "metadata": {
    "id": "odQov2RzXWU_"
   },
   "outputs": [],
   "source": [
    "import numpy as np\n",
    "from sklearn.feature_extraction.text import CountVectorizer\n",
    "from nltk.corpus import brown"
   ]
  },
  {
   "cell_type": "code",
   "execution_count": null,
   "metadata": {
    "id": "gnIjobjSXWU_"
   },
   "outputs": [],
   "source": [
    "# Read the data from the Brown corpus\n",
    "input_data = ' '.join(brown.words()[:5400])\n",
    "\n",
    "# Number of words in each chunk\n",
    "chunk_size = 800\n",
    "\n",
    "text_chunks = chunker(input_data, chunk_size)\n",
    "\n",
    "# Convert to dict items\n",
    "chunks = []\n",
    "for count, chunk in enumerate(text_chunks):\n",
    "    d = {'index': count,\n",
    "         'text': chunk}\n",
    "    chunks.append(d)"
   ]
  },
  {
   "cell_type": "code",
   "execution_count": null,
   "metadata": {
    "id": "n_mx1CVPXWVA"
   },
   "outputs": [],
   "source": [
    "len(chunks)"
   ]
  },
  {
   "cell_type": "code",
   "execution_count": null,
   "metadata": {
    "id": "qKUcpISxXWVA"
   },
   "outputs": [],
   "source": [
    "# Extract the document term matrix\n",
    "# min_df=7 - we ignore words that appear in less than 7 docs\n",
    "# max_df=20 - we ignore words that appear in more than 20 docs\n",
    "count_vectorizer = CountVectorizer(min_df=7, max_df=20)\n",
    "document_term_matrix = count_vectorizer.fit_transform([chunk['text'] for chunk in chunks])"
   ]
  },
  {
   "cell_type": "code",
   "execution_count": null,
   "metadata": {
    "id": "3yyhm90qXWVA"
   },
   "outputs": [],
   "source": [
    "document_term_matrix"
   ]
  },
  {
   "cell_type": "code",
   "execution_count": null,
   "metadata": {
    "id": "UmHdfrvkXWVA"
   },
   "outputs": [],
   "source": [
    "# Extract the vocabulary and display it\n",
    "vocabulary = np.array(count_vectorizer.get_feature_names_out())\n",
    "print(\"\\nVocabulary:\\n\", vocabulary)"
   ]
  },
  {
   "cell_type": "code",
   "execution_count": null,
   "metadata": {
    "id": "ndCWtQaNXWVA"
   },
   "outputs": [],
   "source": [
    "vocabulary"
   ]
  },
  {
   "cell_type": "code",
   "execution_count": null,
   "metadata": {
    "id": "NULYlY2kXWVA"
   },
   "outputs": [],
   "source": [
    "# Generate names for chunks\n",
    "chunk_names = []\n",
    "for i in range(len(text_chunks)):\n",
    "    chunk_names.append('Chunk-' + str(i+1))"
   ]
  },
  {
   "cell_type": "code",
   "execution_count": null,
   "metadata": {
    "id": "1QcfbQYKXWVA"
   },
   "outputs": [],
   "source": [
    "document_term_matrix.data"
   ]
  },
  {
   "cell_type": "code",
   "execution_count": null,
   "metadata": {
    "id": "bfBAkRm2XWVB"
   },
   "outputs": [],
   "source": [
    "# Print the document term matrix\n",
    "print(\"\\nDocument term matrix:\")\n",
    "formatted_text = '{:>12}' * (len(chunk_names) + 1)\n",
    "print('\\n', formatted_text.format('Word', *chunk_names), '\\n')\n",
    "for word, item in zip(vocabulary, document_term_matrix.T):\n",
    "    # 'item' is a 'csr_matrix' data structure\n",
    "    output = [word] + [str(freq) for freq in item.data]\n",
    "    print(formatted_text.format(*output))"
   ]
  },
  {
   "cell_type": "markdown",
   "metadata": {
    "id": "R4gAHD1EXWVB"
   },
   "source": [
    "## Budowanie predyktora kategorii\n",
    "\n",
    "**Predyktor kategorii służy do przewidywania kategorii, do której należy dany fragment tekstu**. Jest to często używane w klasyfikacji tekstu do kategoryzowania dokumentów tekstowych. Wyszukiwarki często używają tego narzędzia do porządkowania wyników wyszukiwania według trafności. Załóżmy na przykład, że chcemy przewidzieć, czy dane zdanie należy do sportu, polityki czy nauki. Aby to zrobić, budujemy korpus danych i trenujemy algorytm. Algorytm ten można następnie wykorzystać do wnioskowania o nieznanych danych.\n",
    "\n",
    "Aby zbudować ten predyktor, użyjemy miary zwanej **TermFrequency - Inverse Document Frequency (tf-idf)**. W zestawie dokumentów musimy zrozumieć znaczenie każdego słowa. Statystyka tf-idf pomaga nam zrozumieć, jak ważne jest dane słowo dla dokumentu w zestawie dokumentów.\n",
    "\n",
    "Rozważmy pierwszą część tej miary. **tf dla danego terminu $t$ i dokumentu $d$ wyliczmay dzieląc liczbą wystąpień termu $t$ w dokumencie $d$ przez sumę liczby wystąpień wszystkich termów w dokumencie $d$**. Częstotliwość terminu (tf) jest w zasadzie miarą tego, jak często każde słowo pojawia się w danym dokumencie. Ponieważ różne dokumenty mają różną liczbę słów, dokładne liczby na histogramie będą się różnić. Aby mieć równe szanse, musimy znormalizować histogramy. Więc dzielimy liczbę każdego słowa przez całkowitą liczbę słów w danym dokumencie, aby otrzymać **częstotliwość terminu**.\n",
    "\n",
    "Druga część miary to odwrotna częstotliwość dokumentów (idf). **idf, dla danego terminu $t$ i zbioru dokumentów $D$, obliczmay dzieląc liczbę dokumentów w korpusie przez liczba dokumentów w których ten termin (przynajmniej raz) występuje - wynik logarytmizujemy.** idf jest miarą unikalności słowa w dokumencie w kontekście zestawiu/korpusu dokumentów. Kiedy oblicza się częstotliwość terminu, zakłada się, że wszystkie słowa są jednakowo ważne. Ale nie możemy po prostu polegać na częstotliwości każdego słowa, ponieważ słowa takie jak \"i\" pojawiają się często. Aby zrównoważyć częstotliwości tych powszechnie występujących słów, musimy zmniejszyć ich wagę i zważyć rzadkie słowa. Pomaga nam to również zidentyfikować słowa, które są unikalne dla każdego dokumentu, co z kolei pomaga nam sformułować charakterystyczny wektor cech. idf jest zasadniczo ułamkiem dokumentów, które zawierają dane słowo.\n",
    "\n",
    "Następnie łączymy częstotliwość terminów i odwrotną częstotliwość dokumentów, aby sformułować wektor cech do kategoryzacji dokumentów. Zobaczmy, jak zbudować predyktor kategorii."
   ]
  },
  {
   "cell_type": "code",
   "execution_count": null,
   "metadata": {
    "id": "KxtnlKd-XWVB"
   },
   "outputs": [],
   "source": [
    "from nltk.tokenize import sent_tokenize, word_tokenize\n",
    "from sklearn.feature_extraction.text import CountVectorizer\n",
    "import math\n",
    "\n",
    "text = '''A sentence is typically associated with a clause and a clause can be either a clause simplex or a clause complex. A clause is a clause simplex if it represents a single process going on through time and it is a clause complex if it represents a logical relation between two or more processes and is thus composed of two or more clause simplexes.\n",
    "\n",
    "A clause (simplex) typically contains a predication structure with a subject noun phrase and a finite verb. Although the subject is usually a noun phrase, other kinds of phrases (such as gerund phrases) work as well, and some languages allow subjects to be omitted. In the examples below, the subject of the outmost clause simplex is in italics and the subject of boiling is in square brackets. Notice that there is clause embedding in the second and third examples.\n",
    "\n",
    "[Water] boils at 100 degrees Celsius.\n",
    "It is quite interesting that [water] boils at 100 degrees Celsius.\n",
    "The fact that [water] boils at 100 degrees Celsius is quite interesting.\n",
    "There are two types of clauses: independent and non-independent/interdependent. An independent clause realises a speech act such as a statement, a question, a command or an offer. A non-independent clause does not realise any act. A non-independent clause (simplex or complex) is usually logically related to other non-independent clauses. Together they usually constitute a single independent clause (complex). For that reason, non-independent clauses are also called interdependent. For instance, the non-independent clause because I have no friends is related to the non-independent clause I don't go out in I don't go out, because I have no friends. The whole clause complex is independent because it realises a statement. What is stated is the causal nexus between having no friend and not going out. When such a statement is acted out, the fact that the speaker doesn't go out is already established, therefore it cannot be stated. What is still open and under negotiation is the reason for that fact. The causal nexus is represented by the independent clause complex and not by the two interdependent clause simplexes.\n",
    "'''\n",
    "docs = sent_tokenize(text) # 21 zdań\n",
    "\n",
    "for index, doc in enumerate(docs):\n",
    "    print(str(index)+\".\", doc)\n",
    "\n",
    "count_vectorizer = CountVectorizer()\n",
    "\n",
    "doc_term_matrix = count_vectorizer.fit_transform([doc for doc in docs])\n",
    "vocabulary = count_vectorizer.get_feature_names_out()\n",
    "\n",
    "def tf(term, doc_nr, vocabulary, doc_term_matrix):\n",
    "    term = term.lower()\n",
    "    tf=0\n",
    "    if term in vocabulary:\n",
    "        term_index = np.where(vocabulary == term)\n",
    "        t_number = doc_term_matrix[doc_nr, term_index]\n",
    "        all_occ = 0\n",
    "        for position in range(len(vocabulary)):\n",
    "            all_occ += doc_term_matrix[doc_nr, position]\n",
    "    return t_number/all_occ\n",
    "\n",
    "def idf(term, docs, vocabulary, doc_term_matrix):\n",
    "    term_index = np.where(vocabulary == term)\n",
    "    number_of_docs = len(docs)\n",
    "    docs_with_term = 0\n",
    "    for doc_nr in range(number_of_docs):\n",
    "        if doc_term_matrix[doc_nr, term_index] > 0:\n",
    "            docs_with_term += 1\n",
    "    return math.log(number_of_docs / docs_with_term)\n",
    "\n",
    "def tfidf(term, doc_nr, docs, vocabulary, doc_term_matrix):\n",
    "    tf_result = tf(term, doc_nr, vocabulary, doc_term_matrix)\n",
    "    idf_result = idf(term, docs, vocabulary, doc_term_matrix)\n",
    "    return tf_result*idf_result\n",
    "\n",
    "doc_nr = 0\n",
    "word = \"clause\"\n",
    "\n",
    "tf_result = tf(word, doc_nr, vocabulary, doc_term_matrix)\n",
    "print(\"tf =\",round(tf_result,2))\n",
    "\n",
    "idf_result = idf(word, docs, vocabulary, doc_term_matrix)\n",
    "print(\"idf =\",round(idf_result,2))\n",
    "\n",
    "tfidf_result = tfidf(word, doc_nr, docs, vocabulary, doc_term_matrix)\n",
    "print(\"tfidf =\",round(tfidf_result,2))"
   ]
  },
  {
   "cell_type": "code",
   "execution_count": null,
   "metadata": {
    "id": "ZZ3LUyiVXWVB"
   },
   "outputs": [],
   "source": [
    "doc_nr = 0\n",
    "for word in word_tokenize(docs[doc_nr]):\n",
    "    if len(word) > 1:\n",
    "        tf_result = tf(word, doc_nr, vocabulary, doc_term_matrix)\n",
    "        idf_result = idf(word, docs, vocabulary, doc_term_matrix)\n",
    "        tfidf_result = tfidf(word, doc_nr, docs, vocabulary, doc_term_matrix)\n",
    "        print(round(tfidf_result,2), \"(\", round(tf_result,2), round(idf_result,2),\")\", word)"
   ]
  },
  {
   "cell_type": "markdown",
   "metadata": {
    "id": "KltD9w4IXWVB"
   },
   "source": [
    "## 20newsgroups"
   ]
  },
  {
   "cell_type": "code",
   "execution_count": null,
   "metadata": {
    "id": "O0m10aN0XWVB"
   },
   "outputs": [],
   "source": [
    "from sklearn.datasets import fetch_20newsgroups\n",
    "from sklearn.naive_bayes import MultinomialNB\n",
    "from sklearn.feature_extraction.text import TfidfTransformer\n",
    "from sklearn.feature_extraction.text import CountVectorizer"
   ]
  },
  {
   "cell_type": "code",
   "execution_count": null,
   "metadata": {
    "id": "HB8qeeVxXWVC"
   },
   "outputs": [],
   "source": [
    "help(fetch_20newsgroups)"
   ]
  },
  {
   "cell_type": "code",
   "execution_count": null,
   "metadata": {
    "id": "--DHpp_9XWVC"
   },
   "outputs": [],
   "source": [
    "# Define the category map\n",
    "category_map = {'talk.politics.misc': 'Politics',\n",
    "                'rec.autos': 'Autos',\n",
    "                'rec.sport.hockey': 'Hockey',\n",
    "                'sci.electronics': 'Electronics',\n",
    "                'sci.med': 'Medicine'}"
   ]
  },
  {
   "cell_type": "code",
   "execution_count": null,
   "metadata": {
    "id": "MHGiQRchXWVC"
   },
   "outputs": [],
   "source": [
    "# Get the training dataset\n",
    "training_data = fetch_20newsgroups(subset='train',\n",
    "                                   categories=category_map.keys(),\n",
    "                                   shuffle=True,\n",
    "                                   random_state=5)"
   ]
  },
  {
   "cell_type": "code",
   "execution_count": null,
   "metadata": {
    "id": "H577irT8XWVG"
   },
   "outputs": [],
   "source": [
    "training_data.data[1]"
   ]
  },
  {
   "cell_type": "code",
   "execution_count": null,
   "metadata": {
    "id": "BzXTb-EhXWVG"
   },
   "outputs": [],
   "source": [
    "training_data.target_names"
   ]
  },
  {
   "cell_type": "code",
   "execution_count": null,
   "metadata": {
    "id": "-d6dHDb8XWVG"
   },
   "outputs": [],
   "source": [
    "# Build a count vectorizer and extract term counts\n",
    "count_vectorizer = CountVectorizer()\n",
    "train_tc = count_vectorizer.fit_transform(training_data.data)\n",
    "print(\"\\nDimensions of training data:\", train_tc.shape)"
   ]
  },
  {
   "cell_type": "code",
   "execution_count": null,
   "metadata": {
    "id": "o2WpytpSXWVG"
   },
   "outputs": [],
   "source": [
    "# Create the tf-idf transformer\n",
    "tfidf = TfidfTransformer()\n",
    "train_tfidf = tfidf.fit_transform(train_tc)"
   ]
  },
  {
   "cell_type": "code",
   "execution_count": null,
   "metadata": {
    "id": "svMpKFL9XWVG"
   },
   "outputs": [],
   "source": [
    "# Train a Multinomial Naive Bayes classifier\n",
    "classifier = MultinomialNB().fit(train_tfidf, training_data.target)"
   ]
  },
  {
   "cell_type": "code",
   "execution_count": null,
   "metadata": {
    "id": "3foRRKaTXWVG"
   },
   "outputs": [],
   "source": [
    "# Define test data\n",
    "input_data = [\n",
    "    'You need to be careful with cars when you are driving on slippery roads',\n",
    "    'A lot of devices can be operated wirelessly',\n",
    "    'Players need to be careful when they are close to goal posts',\n",
    "    'Political debates help us understand the perspectives of both sides',\n",
    "    'Citroën intends to reinforce Berlingo\\'s adventurous spirit with this special edition, through an expressive and distinctive version, for a way of life geared towards freedom and action. Based on the core Feel Pack version of the range, the Berlingo Rip Curl has adopted an even more dynamic appearance with specific colour schemes both inside and out, and has been enhanced for the occasion by a number of features for even greater on-board comfort.'\n",
    "]\n",
    "\n",
    "# Transform input data using count vectorizer\n",
    "input_tc = count_vectorizer.transform(input_data)\n",
    "\n",
    "# Transform vectorized data using tfidf transformer\n",
    "input_tfidf = tfidf.transform(input_tc)\n",
    "\n",
    "# Predict the output categories\n",
    "predictions = classifier.predict(input_tfidf)\n",
    "\n",
    "# Print the outputs\n",
    "for sent, category in zip(input_data, predictions):\n",
    "    print('\\nInput:', sent, '\\nPredicted category:', \\\n",
    "            category_map[training_data.target_names[category]])"
   ]
  },
  {
   "cell_type": "markdown",
   "metadata": {
    "id": "-E9zaDRDXWVG"
   },
   "source": [
    "## Konstruowanie identyfikatora płci w oparciu o imiona\n",
    "\n",
    "Identyfikacja płci jest interesującym problemem. W tym przypadku użyjemy heurystyki do skonstruowania wektora cech i użyjemy go do wytrenowania klasyfikatora. Heurystyka, która zostanie tutaj użyta, to ostatnie N liter danej nazwy. Na przykład, jeśli imię kończy się na \"ia\", najprawdopodobniej jest to imię żeńskie, na przykład Amelia lub Genelia. Z drugiej strony, jeśli imię kończy się na \"rk\", prawdopodobnie jest to imię męskie, takie jak Mark lub Clark. Ponieważ nie jesteśmy pewni dokładnej liczby liter, których należy użyć, będziemy bawić się tym parametrem, aby dowiedzieć się, jaka jest najlepsza odpowiedź."
   ]
  },
  {
   "cell_type": "code",
   "execution_count": null,
   "metadata": {
    "id": "Qd30tun-XWVG"
   },
   "outputs": [],
   "source": [
    "import random\n",
    "import nltk\n",
    "from nltk import NaiveBayesClassifier\n",
    "from nltk.classify import accuracy as nltk_accuracy\n",
    "from nltk.corpus import names"
   ]
  },
  {
   "cell_type": "code",
   "execution_count": null,
   "metadata": {
    "id": "l6w8Ynl4XWVG"
   },
   "outputs": [],
   "source": [
    "nltk.download('names')"
   ]
  },
  {
   "cell_type": "code",
   "execution_count": null,
   "metadata": {
    "id": "iP3tIV7xXWVG"
   },
   "outputs": [],
   "source": [
    "names.words('male.txt')"
   ]
  },
  {
   "cell_type": "code",
   "execution_count": null,
   "metadata": {
    "id": "EENJtD45XWVG"
   },
   "outputs": [],
   "source": [
    "# Extract last N letters from the input word and that will act as our \"feature\"\n",
    "def extract_features(word, N=2):\n",
    "    last_n_letters = word[-N:]\n",
    "    return {'feature': last_n_letters.lower()}"
   ]
  },
  {
   "cell_type": "code",
   "execution_count": null,
   "metadata": {
    "id": "qj-RbXDeXWVG"
   },
   "outputs": [],
   "source": [
    "extract_features(\"Marky\", N=1)"
   ]
  },
  {
   "cell_type": "code",
   "execution_count": null,
   "metadata": {
    "id": "UFIekx9wXWVG"
   },
   "outputs": [],
   "source": [
    "# Create training data using labeled names available in NLTK\n",
    "male_list = [(name, 'male') for name in names.words('male.txt')]\n",
    "female_list = [(name, 'female') for name in names.words('female.txt')]\n",
    "data = (male_list + female_list)\n",
    "\n",
    "# Seed the random number generator\n",
    "random.seed(5)\n",
    "# Shuffle the data\n",
    "random.shuffle(data)\n",
    "\n",
    "# Create test data\n",
    "input_names = ['Alexander', 'Danielle', 'David', 'Cheryl', 'Robert']\n",
    "\n",
    "# Define the number of samples used for train and test\n",
    "num_train = int(0.8 * len(data))"
   ]
  },
  {
   "cell_type": "code",
   "execution_count": null,
   "metadata": {
    "id": "kquHCNqmXWVG"
   },
   "outputs": [],
   "source": [
    "data[0]"
   ]
  },
  {
   "cell_type": "markdown",
   "metadata": {
    "id": "EtJCowNKXWVH"
   },
   "source": [
    "Będziemy używać ostatnich N znaków jako wektora cech do przewidywania płci. Będziemy zmieniać ten parametr, aby zobaczyć, jak zmienia się wydajność. W takim przypadku przejdziemy od 1 do 6:"
   ]
  },
  {
   "cell_type": "code",
   "execution_count": null,
   "metadata": {
    "id": "92jvEQfFXWVH"
   },
   "outputs": [],
   "source": [
    "# Iterate through different lengths to compare the accuracy\n",
    "for i in range(1, 6):\n",
    "    print('\\nNumber of end letters:', i)\n",
    "    features = [(extract_features(n, i), gender) for (n, gender) in data]\n",
    "    train_data, test_data = features[:num_train], features[num_train:]\n",
    "    classifier = NaiveBayesClassifier.train(train_data)\n",
    "\n",
    "    # Compute the accuracy of the classifier\n",
    "    accuracy = round(100 * nltk_accuracy(classifier, test_data), 2)\n",
    "    print('Accuracy = ' + str(accuracy) + '%')\n",
    "\n",
    "    # Predict outputs for input names using the trained classifier model\n",
    "    for name in input_names:\n",
    "        print(name, '==>', classifier.classify(extract_features(name, i)))"
   ]
  },
  {
   "cell_type": "markdown",
   "metadata": {
    "id": "1GGAQOY6XWVH"
   },
   "source": [
    "## Budowanie analizatora nastrojów\n",
    "\n",
    "**Analiza sentymentu** to proces określania nastroju danego fragmentu tekstu. Na przykład może służyć do określenia, czy recenzja filmu jest pozytywna, czy negatywna. Jest to jedno z najpopularniejszych zastosowań przetwarzania języka naturalnego. W zależności od problemu możemy dodać więcej kategorii. **Ta technika jest zwykle używana, aby zorientować się, jak ludzie myślą o określonym produkcie, marce lub temacie. Jest często używany do analizowania kampanii marketingowych, sondaży, obecności w mediach społecznościowych, recenzji produktów w witrynach e-commerce i tak dalej.** Zobaczmy, jak określić sentyment recenzji filmu.\n",
    "\n",
    "Do zbudowania tego klasyfikatora użyjemy klasyfikatora Naive Bayes. Najpierw musimy wyodrębnić wszystkie unikalne słowa z tekstu. Klasyfikator NLTK wymaga uporządkowania tych danych w postaci słownika, aby mógł je przyswoić. Po podzieleniu danych tekstowych na zestawy danych uczących i testujących, wyszkolimy klasyfikator Naive Bayes, aby klasyfikował recenzje na pozytywne i negatywne. Wydrukujemy również najważniejsze słowa informacyjne, aby wskazać pozytywne i negatywne recenzje. Ta informacja jest interesująca, ponieważ mówi nam, jakie słowa są używane do określenia różnych reakcji."
   ]
  },
  {
   "cell_type": "code",
   "execution_count": null,
   "metadata": {
    "id": "08hnyCwQXWVH"
   },
   "outputs": [],
   "source": [
    "from nltk.corpus import movie_reviews\n",
    "from nltk.classify import NaiveBayesClassifier\n",
    "from nltk.classify.util import accuracy as nltk_accuracy"
   ]
  },
  {
   "cell_type": "code",
   "execution_count": null,
   "metadata": {
    "id": "uIJXFUkaXWVH"
   },
   "outputs": [],
   "source": [
    " # Extract features from the input list of words\n",
    "def extract_features(words):\n",
    "    return dict([(word, True) for word in words])"
   ]
  },
  {
   "cell_type": "code",
   "execution_count": null,
   "metadata": {
    "id": "VkhO5LByXWVH"
   },
   "outputs": [],
   "source": [
    "#nltk.download('movie_reviews')"
   ]
  },
  {
   "cell_type": "code",
   "execution_count": null,
   "metadata": {
    "id": "PTym1009XWVH"
   },
   "outputs": [],
   "source": [
    "movie_reviews.fileids('pos')"
   ]
  },
  {
   "cell_type": "code",
   "execution_count": null,
   "metadata": {
    "id": "em4XbGqzXWVH"
   },
   "outputs": [],
   "source": [
    "movie_reviews.words(fileids=['pos/cv000_29590.txt'])"
   ]
  },
  {
   "cell_type": "code",
   "execution_count": null,
   "metadata": {
    "id": "dCo6tM6WXWVH"
   },
   "outputs": [],
   "source": [
    "# Load the reviews from the corpus\n",
    "fileids_pos = movie_reviews.fileids('pos')\n",
    "fileids_neg = movie_reviews.fileids('neg')\n",
    "\n",
    "# Extract the features from the reviews\n",
    "features_pos = [(extract_features(movie_reviews.words(fileids=[f])), 'Positive') for f in fileids_pos]\n",
    "features_neg = [(extract_features(movie_reviews.words(fileids=[f])), 'Negative') for f in fileids_neg]\n",
    "\n",
    "# Define the train and test split (80% and 20%)\n",
    "threshold = 0.8\n",
    "num_pos = int(threshold * len(features_pos))\n",
    "num_neg = int(threshold * len(features_neg))\n",
    "\n",
    "# Create training and training datasets\n",
    "features_train = features_pos[:num_pos] + features_neg[:num_neg]\n",
    "features_test = features_pos[num_pos:] + features_neg[num_neg:]\n",
    "\n",
    "# Print the number of datapoints used\n",
    "print('\\nNumber of training datapoints:', len(features_train))\n",
    "print('Number of test datapoints:', len(features_test))"
   ]
  },
  {
   "cell_type": "code",
   "execution_count": null,
   "metadata": {
    "id": "han8PkfbXWVH"
   },
   "outputs": [],
   "source": [
    "features_neg[0]"
   ]
  },
  {
   "cell_type": "code",
   "execution_count": null,
   "metadata": {
    "id": "qY8_-0bIXWVH"
   },
   "outputs": [],
   "source": [
    "# Train a Naive Bayes classifier\n",
    "classifier = NaiveBayesClassifier.train(features_train)\n",
    "print('\\nAccuracy of the classifier:', nltk_accuracy(classifier, features_test))\n",
    "\n",
    "\n",
    "N = 15\n",
    "print('\\nTop ' + str(N) + ' most informative words:')\n",
    "for i, item in enumerate(classifier.most_informative_features()):\n",
    "    print(str(i+1) + '. ' + item[0])\n",
    "    if i == N - 1:\n",
    "        break"
   ]
  },
  {
   "cell_type": "code",
   "execution_count": null,
   "metadata": {
    "id": "L2tf7YdBXWVH"
   },
   "outputs": [],
   "source": [
    "# Test input movie reviews\n",
    "input_reviews = [\n",
    "    'The costumes in this movie were great',\n",
    "    'I think the story was terrible and the characters were very weak',\n",
    "    'People say that the director of the movie is amazing',\n",
    "    'This is such an idiotic movie. I will not recommend it to anyone.'\n",
    "]\n",
    "\n",
    "print(\"\\nMovie review predictions:\")\n",
    "for review in input_reviews:\n",
    "    print(\"\\nReview:\", review)\n",
    "\n",
    "    # Compute the probabilities\n",
    "    probabilities = classifier.prob_classify(extract_features(review.split()))\n",
    "\n",
    "    # Pick the maximum value\n",
    "    predicted_sentiment = probabilities.max()\n",
    "\n",
    "    # Print outputs\n",
    "    print(\"Predicted sentiment:\", predicted_sentiment)\n",
    "    print(\"Probability:\", round(probabilities.prob(predicted_sentiment), 2))"
   ]
  },
  {
   "cell_type": "markdown",
   "metadata": {
    "id": "xh4O8XAxXWVI"
   },
   "source": [
    "## Modelowanie tematyczne z wykorzystaniem ukrytej alokacji Dirichleta (Latent Dirichlet Allocation, LDA, LDiA)\n",
    "**Modelowanie tematyczne to proces identyfikowania wzorców w danych tekstowych, które odpowiadają tematowi**. Jeśli tekst zawiera wiele tematów, można użyć tej techniki do zidentyfikowania i oddzielenia tych tematów w tekście wejściowym. Robimy to, aby odkryć ukrytą strukturę tematyczną w danym zestawie dokumentów.\n",
    "\n",
    "Modelowanie tematyczne pomaga nam w optymalnym organizowaniu naszych dokumentów, które można następnie wykorzystać do analizy. Jedną rzeczą, na którą należy zwrócić uwagę w przypadku algorytmów modelowania tematycznego, jest to, że nie potrzebujemy żadnych oznaczonych danych. Jest to jak **uczenie się bez nadzoru**, w którym algorytm samodzielnie identyfikuje wzorce. Biorąc pod uwagę ogromną ilość danych tekstowych generowanych w Internecie, modelowanie tematyczne staje się bardzo ważne, ponieważ umożliwia podsumowanie wszystkich tych danych, co w innym przypadku nie byłoby możliwe.\n",
    "\n",
    "**Utajona alokacja Dirichleta** to technika modelowania tematycznego, w której podstawową intuicją jest to, że dany fragment tekstu jest połączeniem wielu tematów. Rozważmy następujące zdanie\n",
    "\n",
    "- \"Wizualizacja danych jest ważnym narzędziem w analizie finansowej\".\n",
    "\n",
    "To zdanie zawiera wiele tematów, takich jak \"dane\", \"wizualizacja\", \"finanse\" i tak dalej. Ta szczególna kombinacja pomaga nam zidentyfikować ten tekst w dużym dokumencie. W istocie jest to model statystyczny, który próbuje uchwycić tę ideę i stworzyć na jej podstawie model.\n",
    "\n",
    "Model ten zakłada, że dokumenty są generowane z losowego procesu na podstawie tych tematów. **Temat to po prostu podział na ustalony zbiór słów.**"
   ]
  },
  {
   "cell_type": "code",
   "execution_count": null,
   "metadata": {
    "id": "czPy7SL3XWVI"
   },
   "outputs": [],
   "source": [
    "#conda install gensim"
   ]
  },
  {
   "cell_type": "code",
   "execution_count": null,
   "metadata": {
    "id": "IDSCM59IXWVI"
   },
   "outputs": [],
   "source": [
    "from nltk.tokenize import RegexpTokenizer\n",
    "from nltk.corpus import stopwords\n",
    "from nltk.stem.snowball import SnowballStemmer\n",
    "from gensim import models, corpora"
   ]
  },
  {
   "cell_type": "code",
   "execution_count": null,
   "metadata": {
    "id": "stOcLD2sXWVI"
   },
   "outputs": [],
   "source": [
    "# Load input data\n",
    "def load_data(input_file):\n",
    "    data = []\n",
    "    with open(input_file, 'r') as f:\n",
    "        for line in f.readlines():\n",
    "            data.append(line[:-1])\n",
    "\n",
    "    return data"
   ]
  },
  {
   "cell_type": "code",
   "execution_count": null,
   "metadata": {
    "id": "RKZv28BcXWVI"
   },
   "outputs": [],
   "source": [
    "#from nltk.stem import WordNetLemmatizer\n",
    "\n",
    "# Processor function for tokenizing, removing stop words, and stemming\n",
    "def process(input_text):\n",
    "    # Create a regular expression tokenizer\n",
    "    tokenizer = RegexpTokenizer(r'\\w+')\n",
    "\n",
    "    # Create a Snowball stemmer\n",
    "    stemmer = SnowballStemmer('english')\n",
    "\n",
    "    # Create lemmatizer object\n",
    "    lemmatizer = WordNetLemmatizer()\n",
    "\n",
    "    # Get the list of stop words\n",
    "    stop_words = stopwords.words('english')\n",
    "\n",
    "    # Tokenize the input string\n",
    "    tokens = tokenizer.tokenize(input_text.lower())\n",
    "\n",
    "    # Remove the stop words\n",
    "    tokens = [x for x in tokens if not x in stop_words]\n",
    "\n",
    "    # Perform stemming on the tokenized words\n",
    "    tokens_stemmed = [stemmer.stem(x) for x in tokens]\n",
    "\n",
    "#     # Perform stemming on the tokenized words\n",
    "#     tokens_lemmatized = [lemmatizer.lemmatize(x) for x in tokens]\n",
    "\n",
    "    return tokens_stemmed"
   ]
  },
  {
   "cell_type": "code",
   "execution_count": null,
   "metadata": {
    "id": "rZ6uxvPLXWVI"
   },
   "outputs": [],
   "source": [
    "#conda install train"
   ]
  },
  {
   "cell_type": "code",
   "execution_count": null,
   "metadata": {
    "id": "yMm2Au98XWVI"
   },
   "outputs": [],
   "source": [
    "# Load input data\n",
    "data = load_data('data.txt')\n",
    "print(len(data))\n",
    "data[0]"
   ]
  },
  {
   "cell_type": "code",
   "execution_count": null,
   "metadata": {
    "id": "q_wHG2WiXWVI"
   },
   "outputs": [],
   "source": [
    "# Create training data using labeled names available in NLTK\n",
    "male_list = [(name, 'male') for name in names.words('male.txt')]\n",
    "female_list = [(name, 'female') for name in names.words('female.txt')]\n",
    "data = (male_list + female_list)\n",
    "data"
   ]
  },
  {
   "cell_type": "code",
   "execution_count": null,
   "metadata": {
    "id": "P2oGgauQXWVI"
   },
   "outputs": [],
   "source": [
    "#nltk.download('stopwords')"
   ]
  },
  {
   "cell_type": "code",
   "execution_count": null,
   "metadata": {
    "id": "-o_XnkMaXWVI"
   },
   "outputs": [],
   "source": [
    "# Create a list for sentence tokens\n",
    "tokens = [process(sentence) for sentence in data]\n",
    "tokens[0]"
   ]
  },
  {
   "cell_type": "code",
   "execution_count": null,
   "metadata": {
    "id": "ULDAn-4KXWVI"
   },
   "outputs": [],
   "source": [
    "# Create a dictionary based on the sentence tokens\n",
    "dict_tokens = corpora.Dictionary(documents=tokens)"
   ]
  },
  {
   "cell_type": "code",
   "execution_count": null,
   "metadata": {
    "id": "EO-Hngl7XWVI"
   },
   "outputs": [],
   "source": [
    "dict_tokens[1]"
   ]
  },
  {
   "cell_type": "code",
   "execution_count": null,
   "metadata": {
    "id": "OG1tW3YLXWVJ"
   },
   "outputs": [],
   "source": [
    "# Create a document-term matrix\n",
    "doc_term_mat = [dict_tokens.doc2bow(token) for token in tokens]\n",
    "doc_term_mat[0]"
   ]
  },
  {
   "cell_type": "code",
   "execution_count": null,
   "metadata": {
    "id": "ibI3oSTNXWVJ"
   },
   "outputs": [],
   "source": [
    "# Define the number of topics for the LDA model\n",
    "num_topics = 2\n",
    "\n",
    "# Generate the LDA model\n",
    "ldamodel = models.ldamodel.LdaModel(doc_term_mat,\n",
    "                                    num_topics=num_topics,\n",
    "                                    id2word=dict_tokens,\n",
    "                                    passes=30)\n",
    "\n",
    "num_words = 5\n",
    "print('\\nTop ' + str(num_words) + ' contributing words to each topic:')\n",
    "for item in ldamodel.print_topics(num_topics=num_topics, num_words=num_words):\n",
    "    print('\\nTopic', item[0])\n",
    "\n",
    "    # Print the contributing words along with their relative contributions\n",
    "    list_of_strings = item[1].split(' + ')\n",
    "    for text in list_of_strings:\n",
    "        weight = text.split('*')[0]\n",
    "        word = text.split('*')[1]\n",
    "        print(word, '==>', str(round(float(weight) * 100, 2)) + '%')"
   ]
  },
  {
   "cell_type": "markdown",
   "metadata": {
    "id": "-9BXxLp5XWVJ"
   },
   "source": [
    "Widzimy, że dość dobrze rozdziela dwa tematy - matematykę i historię. Jeśli przyjrzysz się tekstowi, możesz sprawdzić, czy każde zdanie dotyczy matematyki lub historii."
   ]
  },
  {
   "cell_type": "markdown",
   "metadata": {
    "id": "ZPm-nQwWXWVJ"
   },
   "source": [
    "## Podsumowanie\n",
    "\n",
    "Poznaliśmy różne koncepcje leżące u podstaw przetwarzania języka naturalnego. Omówiliśmy tokenizację i sposób rozdzielania tekstu wejściowego na wiele tokenów. Dowiedzieliśmy się, jak zredukować słowa do ich podstawowych form, używając tematyki i lematyzacji. Zaimplementowaliśmy fragment tekstu, aby podzielić tekst wejściowy na porcje w oparciu o predefiniowane warunki.\n",
    "\n",
    "Omówiliśmy model Bag of Words i stworzyliśmy macierz terminów dokumentu dla tekstu wejściowego. Następnie nauczyliśmy się kategoryzować tekst za pomocą uczenia maszynowego. Skonstruowaliśmy identyfikator płci za pomocą heurystyki. Wykorzystaliśmy uczenie maszynowe do analizy nastrojów recenzji filmów. Omówiliśmy modelowanie tematów i wdrożyliśmy system identyfikacji tematów w danym dokumencie."
   ]
  },
  {
   "cell_type": "code",
   "execution_count": null,
   "metadata": {
    "id": "jnp0a8JcXWVJ"
   },
   "outputs": [],
   "source": []
  }
 ],
 "metadata": {
  "colab": {
   "provenance": []
  },
  "kernelspec": {
   "display_name": "si",
   "language": "python",
   "name": "python3"
  },
  "language_info": {
   "codemirror_mode": {
    "name": "ipython",
    "version": 3
   },
   "file_extension": ".py",
   "mimetype": "text/x-python",
   "name": "python",
   "nbconvert_exporter": "python",
   "pygments_lexer": "ipython3",
   "version": "3.11.9"
  }
 },
 "nbformat": 4,
 "nbformat_minor": 0
}
