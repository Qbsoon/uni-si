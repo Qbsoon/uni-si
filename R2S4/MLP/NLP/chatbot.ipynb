{
 "cells": [
  {
   "cell_type": "code",
   "execution_count": 36,
   "metadata": {},
   "outputs": [],
   "source": [
    "import csv\n",
    "from IPython.display import display\n",
    "import random\n",
    "from PyQt5.QtWidgets import QApplication, QVBoxLayout, QWidget, QPushButton, QLineEdit, QLabel\n",
    "from PyQt5.QtGui import QScreen, QGuiApplication\n",
    "from PyQt5.QtCore import Qt\n",
    "import sys\n",
    "import os\n",
    "from nltk.stem.snowball import SnowballStemmer\n",
    "from nltk.tokenize import word_tokenize"
   ]
  },
  {
   "cell_type": "code",
   "execution_count": 2,
   "metadata": {},
   "outputs": [],
   "source": [
    "with open('interactions.csv', 'w') as file:\n",
    "    dialog = csv.writer(file, delimiter=',', quotechar='\"', quoting=csv.QUOTE_MINIMAL)\n",
    "    dialog.writerow(['Hello', 'Hello! How can I help you?'])\n",
    "    dialog.writerow(['How are you?', 'Good. Thank you for asking. And you?'])\n",
    "    dialog.writerow(['What are you?', 'I am a chatbot.'])\n",
    "    dialog.writerow(['What are your interests?', 'I like talking to people.'])\n",
    "    dialog.writerow(['Thank you', 'You are welcome. I am glad I could help.'])\n",
    "    dialog.writerow(['Goodbye', 'Goodbye! Have a nice day!'])\n",
    "    dialog.writerow(['How was your morning?', 'It was quite good, thank you!'])\n",
    "    dialog.writerow(['What do you like to eat?', 'I love pizza!'])\n",
    "    dialog.writerow(['Can you recommend a book?', 'I recommend The Witcher!'])\n",
    "    dialog.writerow(['Who are you?', 'I am a virtual conversation assistant.'])\n",
    "    dialog.writerow(['I like programming', 'I also really like programming in Python!'])\n",
    "    dialog.writerow(['What is your favorite city?', 'I love the atmosphere of Krakow.'])\n",
    "    dialog.writerow(['Do you like extreme sports?', 'Yes, especially bungee jumping.'])\n",
    "    dialog.writerow(['Can you play an instrument?', 'I would like to learn to play the guitar.'])\n",
    "    dialog.writerow(['What is your favorite cuisine?', 'I love Italian cuisine.'])\n",
    "    dialog.writerow(['Do you have any pets?', 'Unfortunately, I don’t, but I really like dogs.'])\n",
    "    dialog.writerow(['What is your favorite programming language?', 'Of course, Python!'])\n",
    "    dialog.writerow(['Where do you like to spend your holidays?', 'By the sea in a warm climate.'])\n",
    "    dialog.writerow(['Do you know any jokes?', 'Some say I am one big joke myself.'])\n",
    "    dialog.writerow(['Do you like fantasy books?', 'Yes, especially Tolkien.'])\n",
    "    dialog.writerow(['What kind of music do you listen to most often?', 'Mainly rock and pop.'])\n",
    "    dialog.writerow(['Do you have a favorite athlete?', 'I admire Robert Lewandowski.'])\n",
    "    dialog.writerow(['Do you know any foreign languages?', 'A bit of English and German.'])\n",
    "    dialog.writerow(['What are your goals for the future?', 'To help people in conversations.'])\n",
    "    dialog.writerow(['What inspires you the most?', 'Human creativity and intelligence.'])\n",
    "    dialog.writerow(['Do you like cooking?', 'Yes, I enjoy it.'])\n",
    "    dialog.writerow(['What is your favorite season?', 'I love summer evenings.'])\n",
    "    dialog.writerow(['Do you read daily newspapers?', 'Sometimes I browse online news.'])\n",
    "    dialog.writerow(['What is your favorite color?', 'Blue, it reminds me of the sky.'])\n",
    "    dialog.writerow(['How do you like to spend your free time?', 'I like browsing memes on the internet.'])\n",
    "    dialog.writerow(['Do you like watching movies?', 'Very much, especially science fiction.'])\n",
    "    dialog.writerow(['What is your biggest dream?', 'To discover the meaning of existence.'])\n",
    "    dialog.writerow(['Is finding love important?', 'For many people, it is the most important thing.'])\n",
    "    dialog.writerow(['Can you draw something?', 'I don’t have artistic skills.'])\n",
    "    dialog.writerow(['How do you deal with stress?', 'I try to breathe deeply and think positively.'])\n",
    "    dialog.writerow(['Do you ride a bike?', 'I love long bike trips.'])\n",
    "    dialog.writerow(['What is your favorite movie?', 'It’s hard to choose, but Inception is high on the list.'])\n",
    "    dialog.writerow(['Do you know any magic tricks?', 'Unfortunately, none.'])\n",
    "    dialog.writerow(['Do you like stand-up performances?', 'Yes, sometimes they are really funny.'])\n",
    "    dialog.writerow(['Where would you like to go now?', 'Japan sounds interesting.'])\n",
    "    dialog.writerow(['What is the best advice you have ever received?', 'Learn from mistakes and try again.'])\n",
    "    dialog.writerow(['Do you like learning new skills?', 'Yes, it’s always an interesting adventure.'])\n",
    "    dialog.writerow(['Do you play computer games?', 'Yes, I like logic games and RPGs.'])\n",
    "    dialog.writerow(['What is your greatest achievement?', 'Providing meaningful answers in real-time.'])\n",
    "    dialog.writerow(['Do you like surprising people?', 'Positive surprises are great.'])\n",
    "    dialog.writerow(['What do you value in friendship?', 'Honesty and mutual support.'])\n",
    "    dialog.writerow(['Do you have any favorite quotes?', 'Life is short, laugh often.'])\n",
    "    dialog.writerow(['Do you like taking risks?', 'It depends on the situation, but I tend to be cautious.'])\n",
    "    dialog.writerow(['What is your opinion on coffee?', 'I like the smell, but I rarely drink it.'])\n",
    "    dialog.writerow(['Can you describe yourself in one word?', 'Curious.'])\n",
    "    dialog.writerow(['What do you do when you are bored?', 'I look for new information and learn.'])"
   ]
  },
  {
   "cell_type": "code",
   "execution_count": 41,
   "metadata": {},
   "outputs": [],
   "source": [
    "#QT_App\n",
    "\n",
    "class Chatbot():\n",
    "    def __init__(self, dialog_file):\n",
    "        self.dialog_file = dialog_file\n",
    "        self.stemmer = SnowballStemmer(\"english\")\n",
    "    \n",
    "    def make_dialog_tuples(self):\n",
    "        dialog = []\n",
    "        with open(self.dialog_file, newline='') as file:\n",
    "            csv_reader = csv.reader(file, delimiter=',', quotechar='\"')\n",
    "            for row in csv_reader:\n",
    "                dialog.append((row[0], row[1]))\n",
    "        return dialog\n",
    "    \n",
    "    def split_and_clean(self, sentence):\n",
    "        interpoint = ',.?!\\'\":\\\\;@#$%^&*/+-=_`~<>{}()[]'\n",
    "        tokenized = word_tokenize(sentence.lower())\n",
    "        for token in tokenized:\n",
    "            if token in interpoint:\n",
    "                tokenized.remove(token)\n",
    "        return [self.stemmer.stem(word) for word in tokenized if word.isalpha()]\n",
    "    \n",
    "    def find_matching(self, input_prompt, dialog):\n",
    "        answer = 'I don\\'t know how to answer that.'\n",
    "        intersection_len_req = 0\n",
    "        input_prompt = set(self.split_and_clean(input_prompt))\n",
    "        for index, pair in enumerate(dialog):\n",
    "            match = set(self.split_and_clean(pair[0]))\n",
    "            intersection_len = len(set.intersection(input_prompt, match))\n",
    "            if intersection_len > intersection_len_req:\n",
    "                answer = index\n",
    "                intersection_len_req = intersection_len\n",
    "            if intersection_len == intersection_len_req and intersection_len != 0:\n",
    "                if random.randint(0, 1) == 1:\n",
    "                    answer = index\n",
    "        \n",
    "        display(f'\\tPrompt: {input_prompt}')\n",
    "        if answer != 'I don\\'t know how to answer that.':\n",
    "            answer = dialog[answer][1]\n",
    "        return answer\n",
    "    \n",
    "    def ask(self, prompt):\n",
    "        dialog = self.make_dialog_tuples()\n",
    "        answer = self.find_matching(prompt, dialog)\n",
    "        return answer\n",
    "\n",
    "class ChatbotApp(QWidget):\n",
    "    def __init__(self, dialog_file):\n",
    "        super().__init__()\n",
    "        self.setWindowTitle(\"ChatBot\")\n",
    "        self.setGeometry(100, 100, 400, 200)\n",
    "        self.chatbot = Chatbot(dialog_file)\n",
    "\n",
    "        self.layout = QVBoxLayout()\n",
    "\n",
    "        self.input_field = QLineEdit(self)\n",
    "        self.input_field.setPlaceholderText(\"Podaj promopt\")\n",
    "        self.layout.addWidget(self.input_field)\n",
    "\n",
    "        self.button = QPushButton(\"Wyślij\", self)\n",
    "        self.button.clicked.connect(self.submit_onClick)\n",
    "        self.layout.addWidget(self.button)\n",
    "\n",
    "        self.label_prompt = QLabel(\"Prompt:\", self)\n",
    "        self.layout.addWidget(self.label_prompt)\n",
    "\n",
    "        self.label_decomposition = QLabel(\"Rozkład:\", self)\n",
    "        self.layout.addWidget(self.label_decomposition)\n",
    "\n",
    "        self.output_field = QLabel(\"Odpowiedź\", self)\n",
    "        self.layout.addWidget(self.output_field)\n",
    "\n",
    "        quit_button = QPushButton(\"Wyjdź\", self)\n",
    "        quit_button.clicked.connect(self.close_application)\n",
    "        self.layout.addWidget(quit_button)\n",
    "\n",
    "        self.setLayout(self.layout)\n",
    "        self.centerWindow()\n",
    "\n",
    "    def centerWindow(self):\n",
    "        screen_geometry = QApplication.primaryScreen().availableGeometry()\n",
    "        window_geometry = self.frameGeometry()\n",
    "        window_geometry.moveCenter(screen_geometry.center())\n",
    "        self.move(window_geometry.topLeft())\n",
    "\n",
    "    def close_application(self):\n",
    "        QApplication.quit()\n",
    "\n",
    "    def submit_onClick(self):\n",
    "        response = self.chatbot.ask(self.input_field.text())\n",
    "        self.label_prompt.setText(f\"Prompt: {self.input_field.text()}\")\n",
    "        self.label_decomposition.setText(f\"Rozkład: {self.chatbot.split_and_clean(self.input_field.text())}\")\n",
    "        self.output_field.setText(f\"Odpowiedź: {response}\")\n",
    "        self.input_field.clear()"
   ]
  },
  {
   "cell_type": "code",
   "execution_count": 40,
   "metadata": {},
   "outputs": [
    {
     "data": {
      "text/plain": [
       "'quadruple'"
      ]
     },
     "execution_count": 40,
     "metadata": {},
     "output_type": "execute_result"
    }
   ],
   "source": [
    "stems = SnowballStemmer(\"english\")\n",
    "x = \"quadruple\"\n",
    "stems.stem(x)\n",
    "x.lower()"
   ]
  },
  {
   "cell_type": "code",
   "execution_count": 42,
   "metadata": {},
   "outputs": [
    {
     "name": "stderr",
     "output_type": "stream",
     "text": [
      "Dropped Escape call with ulEscapeCode : 0x03007703\n"
     ]
    },
    {
     "data": {
      "text/plain": [
       "\"\\tPrompt: {'hello'}\""
      ]
     },
     "metadata": {},
     "output_type": "display_data"
    },
    {
     "data": {
      "text/plain": [
       "\"\\tPrompt: {'you', 'onli', 'tri', 'ca', 'can', 'help', 'me'}\""
      ]
     },
     "metadata": {},
     "output_type": "display_data"
    }
   ],
   "source": [
    "#Uruchomienie do aplikacji QT\n",
    "#QGuiApplication.setAttribute(Qt.AA_EnableHighDpiScaling, True) #Również brało udział w skalowaniu\n",
    "#QGuiApplication.setAttribute(Qt.AA_UseHighDpiPixmaps, True)    #Również brało udział w skalowaniu\n",
    "\n",
    "#os.environ['QT_SCALE_FACTOR'] = '1.5' #Potrzebowałem wyskalować aplikację\n",
    "\n",
    "app = QApplication(sys.argv)\n",
    "window = ChatbotApp(\"interactions.csv\")\n",
    "window.show()\n",
    "try:\n",
    "    app.exec_()\n",
    "finally:\n",
    "    del app             #Zamykanie w naturalny sposób z nieznanego powodu wyrzuca błąd, dopiero uczę się QT\n",
    "\n",
    "#Wiem, że Aplikację QT powinno się robić w QML, a nie na widżetach, ale nie chciałem już tutaj więcej plików tworzyć dla takiego prostego przykładu.\n",
    "#Przy bardziej zaawansowanych zadaniach w przyszłości pewnie przerzucę się na QML"
   ]
  }
 ],
 "metadata": {
  "kernelspec": {
   "display_name": "si",
   "language": "python",
   "name": "python3"
  },
  "language_info": {
   "codemirror_mode": {
    "name": "ipython",
    "version": 3
   },
   "file_extension": ".py",
   "mimetype": "text/x-python",
   "name": "python",
   "nbconvert_exporter": "python",
   "pygments_lexer": "ipython3",
   "version": "3.11.9"
  }
 },
 "nbformat": 4,
 "nbformat_minor": 2
}
