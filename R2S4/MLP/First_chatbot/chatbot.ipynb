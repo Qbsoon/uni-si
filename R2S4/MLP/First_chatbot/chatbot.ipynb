{
 "cells": [
  {
   "cell_type": "code",
   "execution_count": 5,
   "metadata": {},
   "outputs": [],
   "source": [
    "from pystempel import Stemmer\n",
    "import csv\n",
    "import ipywidgets as widgets\n",
    "from IPython.display import display\n",
    "import random\n",
    "import spacy\n",
    "from PyQt5.QtWidgets import QApplication, QVBoxLayout, QWidget, QPushButton, QLineEdit, QLabel\n",
    "from PyQt5.QtGui import QScreen, QGuiApplication\n",
    "from PyQt5.QtCore import Qt\n",
    "import sys\n",
    "import os"
   ]
  },
  {
   "cell_type": "code",
   "execution_count": 9,
   "metadata": {},
   "outputs": [],
   "source": [
    "with open('interactions.csv', 'w') as file:\n",
    "    dialog = csv.writer(file, delimiter=',', quotechar='\"', quoting=csv.QUOTE_MINIMAL)\n",
    "    dialog.writerow(['Witaj', 'Witaj! W czym mogę ci poomóc?'])\n",
    "    dialog.writerow(['Jak się masz?', 'Dobrze. Dziękuję, że pytasz. A ty?'])\n",
    "    dialog.writerow(['Czym jesteś?', 'Jestem chatbotem.'])\n",
    "    dialog.writerow(['Jakie masz zainteresowania?', 'Lubię rozmawiać z ludźmi.'])\n",
    "    dialog.writerow(['Dziękuję', \"Proszę bardzo. Cieszę się, że mogłem pomóc.\"])\n",
    "    dialog.writerow(['Do widzenia', 'Do widzenia! Miłego dnia!'])\n",
    "    dialog.writerow(['Jak minął ci poranek?', 'Był całkiem niezły, dziękuję!'])\n",
    "    dialog.writerow(['Co lubisz jeść?', 'Uwielbiam pizzę!'])\n",
    "    dialog.writerow(['Polecisz jakąś książkę?', \"Polecam 'Wiedźmina'!\"])\n",
    "    dialog.writerow(['Kim jesteś?', 'Jestem wirtualnym asystentem do rozmów.'])\n",
    "    dialog.writerow(['Lubię programowanie', 'Ja też bardzo lubię programować w Pythonie!'])\n",
    "    dialog.writerow([\"Jakie jest Twoje ulubione miasto?\", \"Uwielbiam atmosferę Krakowa.\"])\n",
    "    dialog.writerow([\"Lubisz sporty ekstremalne?\", \"Tak, szczególnie skoki na bungee.\"])\n",
    "    dialog.writerow([\"Czy potrafisz grać na instrumencie?\", \"Chciałbym nauczyć się gry na gitarze.\"])\n",
    "    dialog.writerow([\"Jaka kuchnia świata ci najbardziej smakuje?\", \"Kocham kuchnię włoską.\"])\n",
    "    dialog.writerow([\"Masz jakieś zwierzęta domowe?\", \"Niestety, nie mam, ale bardzo lubię psy.\"])\n",
    "    dialog.writerow([\"Jaki jest twój ulubiony język programowania?\", \"Oczywiście Python!\"])\n",
    "    dialog.writerow([\"Gdzie najchętniej spędzasz wakacje?\", \"Nad morzem w ciepłym klimacie.\"])\n",
    "    dialog.writerow([\"Znasz jakieś dowcipy?\", \"Niektórzy mówią, że sama jestem jednym wielkim żartem.\"])\n",
    "    dialog.writerow([\"Czy lubisz książki fantasy?\", \"Tak, szczególnie Tolkiena.\"])\n",
    "    dialog.writerow([\"Jakiej muzyki słuchasz najczęściej?\", \"Głównie rock i pop.\"])\n",
    "    dialog.writerow([\"Czy masz ulubionego sportowca?\", \"Podziwiam Roberta Lewandowskiego.\"])\n",
    "    dialog.writerow([\"Znasz jakieś języki obce?\", \"Trochę angielskiego i niemieckiego.\"])\n",
    "    dialog.writerow([\"Jakie są twoje cele na przyszłość?\", \"Pomagać ludziom w rozmowach.\"])\n",
    "    dialog.writerow([\"Co cię najbardziej inspiruje?\", \"Ludzka kreatywność i inteligencja.\"])\n",
    "    dialog.writerow([\"Lubisz gotować?\", \"Tak, sprawia mi to przyjemność.\"])\n",
    "    dialog.writerow([\"Masz ulubioną porę roku?\", \"Uwielbiam letnie wieczory.\"])\n",
    "    dialog.writerow([\"Czy czytasz gazety codzienne?\", \"Czasem przeglądam wiadomości online.\"])\n",
    "    dialog.writerow([\"Jaki jest twój ulubiony kolor?\", \"Niebieski, przypomina mi niebo.\"])\n",
    "    dialog.writerow([\"Jak lubisz spędzać wolny czas?\", \"Lubię przeglądać memy w internecie.\"])\n",
    "    dialog.writerow([\"Czy lubisz oglądać filmy?\", \"Bardzo, szczególnie science fiction.\"])\n",
    "    dialog.writerow([\"Jakie jest twoje największe marzenie?\", \"Odkryć sens istnienia.\"])\n",
    "    dialog.writerow([\"Znaleźć miłość to ważna sprawa?\", \"Dla wielu ludzi najważniejsza.\"])\n",
    "    dialog.writerow([\"Czy potrafisz coś narysować?\", \"Nie mam umiejętności plastycznych.\"])\n",
    "    dialog.writerow([\"Jak radzisz sobie ze stresem?\", \"Staram się oddychać głęboko i myśleć pozytywnie.\"])\n",
    "    dialog.writerow([\"Czy jeździsz na rowerze?\", \"Uwielbiam długie wycieczki rowerowe.\"])\n",
    "    dialog.writerow([\"Jaki jest twój ulubiony film?\", \"Trudno wybrać, ale 'Incepcja' jest wysoko na liście.\"])\n",
    "    dialog.writerow([\"Znasz jakieś sztuczki magiczne?\", \"Niestety, żadnych.\"])\n",
    "    dialog.writerow([\"Czy lubisz występy stand-upowe?\", \"Tak, czasem są naprawdę zabawne.\"])\n",
    "    dialog.writerow([\"Gdzie chciałbyś teraz pojechać?\", \"Japonia brzmi ciekawie.\"])\n",
    "    dialog.writerow([\"Jaka jest najlepsza rada, jaką kiedykolwiek otrzymałeś?\", \"Ucz się na błędach i próbuj ponownie.\"])\n",
    "    dialog.writerow([\"Lubisz zdobywać nowe umiejętności?\", \"Tak, to zawsze ciekawa przygoda.\"])\n",
    "    dialog.writerow([\"Czy grasz w gry komputerowe?\", \"Tak, lubię gry logiczne i RPG.\"])\n",
    "    dialog.writerow([\"Jakie jest twoje największe osiągnięcie?\", \"Udzielanie sensownych odpowiedzi w czasie rzeczywistym.\"])\n",
    "    dialog.writerow([\"Czy lubisz zaskakiwać ludzi?\", \"Pozytywne niespodzianki są świetne.\"])\n",
    "    dialog.writerow([\"Co cenisz w przyjaźni?\", \"Szczerość i wzajemne wsparcie.\"])\n",
    "    dialog.writerow([\"Masz jakieś ulubione cytaty?\", \"Życie jest krótkie, śmiej się często.\"])\n",
    "    dialog.writerow([\"Czy lubisz podejmować ryzyko?\", \"Zależy od sytuacji, ale bywam ostrożny.\"])\n",
    "    dialog.writerow([\"Jaki jest twój stosunek do kawy?\", \"Lubię zapach, ale piję ją rzadko.\"])\n",
    "    dialog.writerow([\"Możesz opisać siebie jednym słowem?\", \"Ciekawski.\"])\n",
    "    dialog.writerow([\"Co robisz, gdy się nudzisz?\", \"Szukam nowych informacji i uczę się.\"])\n",
    "\n",
    "# Mam nadzieję, że ilość przykładowych promptów nie wpływa na ocenę, bo skupiłem się bardziej na oknach, a promptów dałem tylko kilka przykładowych, żeby cokolwiek sobie sprawdzić\n",
    "# Następnie wygenerowałem do 6 moich ręcznych kilka z GitHub Copilot in-line generation"
   ]
  },
  {
   "cell_type": "code",
   "execution_count": null,
   "metadata": {},
   "outputs": [],
   "source": [
    "#PyStempel\n",
    "stemmer = Stemmer.polimorf()\n",
    "class Chatbot():\n",
    "    def __init__(self, dialog_file):\n",
    "        self.dialog_file = dialog_file\n",
    "    \n",
    "    def make_dialog_tuples(self):\n",
    "        dialog = []\n",
    "        with open(self.dialog_file, newline='') as file:\n",
    "            csv_reader = csv.reader(file, delimiter=',', quotechar='\"')\n",
    "            for row in csv_reader:\n",
    "                dialog.append((row[0], row[1]))\n",
    "        return dialog\n",
    "    \n",
    "    def split_and_clean(self, sentence):\n",
    "        interpoint = ',.?!\\'\":\\\\;@#$%^&*/+-=_`~<>{}()[]'    #Rozszerzyłem listę znaków\n",
    "        if len(sentence[0])>1:          #Warunek upewniający się, czy to jest zdanie, czy tylko jedno słowo\n",
    "            for word in sentence:       #Zmieniłem sprawdzanie znaków, teraz usuwa znaki nawet ze środka\n",
    "                if word[0] in interpoint:\n",
    "                    word = word[1:]\n",
    "                if word[-1] in interpoint:\n",
    "                    word = word[:-1]\n",
    "        else:\n",
    "            if sentence[0] in interpoint:\n",
    "                sentence = sentence[1:]\n",
    "            if sentence[-1] in interpoint:\n",
    "                sentence = sentence[:-1]\n",
    "        for inter in interpoint:\n",
    "            if inter not in '\\'':\n",
    "                sentence.replace(inter, '')\n",
    "        sentence_tokenized = [word.lower() for word in sentence.split()]\n",
    "        sentence_tokenized_clean = []\n",
    "        for word in sentence_tokenized:\n",
    "            sentence_tokenized_clean.append(stemmer(word))\n",
    "        return sentence_tokenized_clean\n",
    "    \n",
    "    def find_matching(self, input_prompt, dialog):\n",
    "        answer = 'Nie posiadam na to odpowiedzi.'\n",
    "        intersection_len_req = 0\n",
    "        input_prompt = set(self.split_and_clean(input_prompt.lower()))  #Wyrzuciłem poza for, bo nie ma powodu wykonywać się wiele razy\n",
    "        for index, pair in enumerate(dialog):\n",
    "            match = set(self.split_and_clean(pair[0]))\n",
    "            intersection_len = len(set.intersection(input_prompt, match))\n",
    "            if intersection_len > intersection_len_req:\n",
    "                answer = index\n",
    "                intersection_len_req = intersection_len\n",
    "            if intersection_len == intersection_len_req and intersection_len != 0:\n",
    "                if random.randint(0, 1) == 1:\n",
    "                    answer = index\n",
    "        \n",
    "        display(f'\\tPrompt: {input_prompt}')\n",
    "        if answer != 'Nie posiadam na to odpowiedzi.':\n",
    "            answer = dialog[answer][1]\n",
    "        return answer\n",
    "    \n",
    "    def run(self):\n",
    "        dialog = self.make_dialog_tuples()\n",
    "        input_prompt = widgets.Text(\n",
    "            value='',\n",
    "            placeholder='Witaj',\n",
    "            description=\"Prompt:\",\n",
    "        )\n",
    "        submit_button = widgets.Button(description='Submit')\n",
    "        def on_submit(b):\n",
    "            if not input_prompt:\n",
    "                display('Puste')\n",
    "            else:\n",
    "                answer = self.find_matching(input_prompt.value, dialog)\n",
    "                display(f'Response: {answer}')\n",
    "        submit_button.on_click(on_submit)\n",
    "        display(input_prompt, submit_button)"
   ]
  },
  {
   "cell_type": "code",
   "execution_count": 10,
   "metadata": {},
   "outputs": [],
   "source": [
    "#Spacy\n",
    "class Chatbot():\n",
    "    def __init__(self, dialog_file):\n",
    "        self.dialog_file = dialog_file\n",
    "        self.nlp = spacy.load(\"pl_core_news_md\")\n",
    "    \n",
    "    def make_dialog_tuples(self):\n",
    "        dialog = []\n",
    "        with open(self.dialog_file, newline='') as file:\n",
    "            csv_reader = csv.reader(file, delimiter=',', quotechar='\"')\n",
    "            for row in csv_reader:\n",
    "                dialog.append((row[0], row[1]))\n",
    "        return dialog\n",
    "    \n",
    "    def split_and_clean(self, sentence):\n",
    "        doc = self.nlp(sentence)\n",
    "        return [token.lemma_.lower() for token in doc if token.is_alpha]\n",
    "    \n",
    "    def find_matching(self, input_prompt, dialog):\n",
    "        answer = 'Nie posiadam na to odpowiedzi.'\n",
    "        intersection_len_req = 0\n",
    "        input_prompt = set(self.split_and_clean(input_prompt))  #Wyrzuciłem poza for, bo nie ma powodu wykonywać się wiele razy\n",
    "        for index, pair in enumerate(dialog):\n",
    "            match = set(self.split_and_clean(pair[0]))\n",
    "            intersection_len = len(set.intersection(input_prompt, match))\n",
    "            if intersection_len > intersection_len_req:\n",
    "                answer = index\n",
    "                intersection_len_req = intersection_len\n",
    "            if intersection_len == intersection_len_req and intersection_len != 0:\n",
    "                if random.randint(0, 1) == 1:\n",
    "                    answer = index\n",
    "        \n",
    "        display(f'\\tPrompt: {input_prompt}')\n",
    "        if answer != 'Nie posiadam na to odpowiedzi.':\n",
    "            answer = dialog[answer][1]\n",
    "        return answer\n",
    "    \n",
    "    def run(self):\n",
    "        dialog = self.make_dialog_tuples()\n",
    "        input_prompt = widgets.Text(\n",
    "            value='',\n",
    "            placeholder='Witaj',\n",
    "            description=\"Prompt:\",\n",
    "        )\n",
    "        submit_button = widgets.Button(description='Submit')\n",
    "        def on_submit(b):\n",
    "            if not input_prompt:\n",
    "                display('Puste')\n",
    "            else:\n",
    "                answer = self.find_matching(input_prompt.value, dialog)\n",
    "                display(f'Response: {answer}')\n",
    "        submit_button.on_click(on_submit)\n",
    "        display(input_prompt, submit_button)"
   ]
  },
  {
   "cell_type": "code",
   "execution_count": 19,
   "metadata": {},
   "outputs": [],
   "source": [
    "#QT_App\n",
    "class Chatbot():\n",
    "    def __init__(self, dialog_file):\n",
    "        self.dialog_file = dialog_file\n",
    "        self.nlp = spacy.load(\"pl_core_news_md\")\n",
    "    \n",
    "    def make_dialog_tuples(self):\n",
    "        dialog = []\n",
    "        with open(self.dialog_file, newline='') as file:\n",
    "            csv_reader = csv.reader(file, delimiter=',', quotechar='\"')\n",
    "            for row in csv_reader:\n",
    "                dialog.append((row[0], row[1]))\n",
    "        return dialog\n",
    "    \n",
    "    def split_and_clean(self, sentence):\n",
    "        doc = self.nlp(sentence)\n",
    "        return [token.lemma_.lower() for token in doc if token.is_alpha]\n",
    "    \n",
    "    def find_matching(self, input_prompt, dialog):\n",
    "        answer = 'Nie posiadam na to odpowiedzi.'\n",
    "        intersection_len_req = 0\n",
    "        input_prompt = set(self.split_and_clean(input_prompt))\n",
    "        for index, pair in enumerate(dialog):\n",
    "            match = set(self.split_and_clean(pair[0]))\n",
    "            intersection_len = len(set.intersection(input_prompt, match))\n",
    "            if intersection_len > intersection_len_req:\n",
    "                answer = index\n",
    "                intersection_len_req = intersection_len\n",
    "            if intersection_len == intersection_len_req and intersection_len != 0:\n",
    "                if random.randint(0, 1) == 1:\n",
    "                    answer = index\n",
    "        \n",
    "        display(f'\\tPrompt: {input_prompt}')\n",
    "        if answer != 'Nie posiadam na to odpowiedzi.':\n",
    "            answer = dialog[answer][1]\n",
    "        return answer\n",
    "    \n",
    "    def ask(self, prompt):\n",
    "        dialog = self.make_dialog_tuples()\n",
    "        answer = self.find_matching(prompt, dialog)\n",
    "        return answer\n",
    "\n",
    "class ChatbotApp(QWidget):\n",
    "    def __init__(self, dialog_file):\n",
    "        super().__init__()\n",
    "        self.setWindowTitle(\"ChatBot\")\n",
    "        self.setGeometry(100, 100, 400, 200)\n",
    "        self.chatbot = Chatbot(dialog_file)\n",
    "\n",
    "        self.layout = QVBoxLayout()\n",
    "\n",
    "        self.input_field = QLineEdit(self)\n",
    "        self.input_field.setPlaceholderText(\"Podaj promopt\")\n",
    "        self.layout.addWidget(self.input_field)\n",
    "\n",
    "        self.button = QPushButton(\"Wyślij\", self)\n",
    "        self.button.clicked.connect(self.submit_onClick)\n",
    "        self.layout.addWidget(self.button)\n",
    "\n",
    "        self.label_prompt = QLabel(\"Prompt:\", self)\n",
    "        self.layout.addWidget(self.label_prompt)\n",
    "\n",
    "        self.label_decomposition = QLabel(\"Rozkład:\", self)\n",
    "        self.layout.addWidget(self.label_decomposition)\n",
    "\n",
    "        self.output_field = QLabel(\"Odpowiedź\", self)\n",
    "        self.layout.addWidget(self.output_field)\n",
    "\n",
    "        quit_button = QPushButton(\"Wyjdź\", self)\n",
    "        quit_button.clicked.connect(self.close_application)\n",
    "        self.layout.addWidget(quit_button)\n",
    "\n",
    "        self.setLayout(self.layout)\n",
    "        self.centerWindow()\n",
    "\n",
    "    def centerWindow(self):\n",
    "        screen_geometry = QApplication.primaryScreen().availableGeometry()\n",
    "        window_geometry = self.frameGeometry()\n",
    "        window_geometry.moveCenter(screen_geometry.center())\n",
    "        self.move(window_geometry.topLeft())\n",
    "\n",
    "    def close_application(self):\n",
    "        QApplication.quit()\n",
    "\n",
    "    def submit_onClick(self):\n",
    "        response = self.chatbot.ask(self.input_field.text())\n",
    "        self.label_prompt.setText(f\"Prompt: {self.input_field.text()}\")\n",
    "        self.label_decomposition.setText(f\"Rozkład: {self.chatbot.split_and_clean(self.input_field.text())}\")\n",
    "        self.output_field.setText(f\"Odpowiedź: {response}\")\n",
    "        self.input_field.clear()"
   ]
  },
  {
   "cell_type": "code",
   "execution_count": 20,
   "metadata": {},
   "outputs": [
    {
     "name": "stderr",
     "output_type": "stream",
     "text": [
      "Dropped Escape call with ulEscapeCode : 0x03007703\n"
     ]
    },
    {
     "data": {
      "text/plain": [
       "\"\\tPrompt: {'program', 'na', 'witaj', 'o', 'świat', 'ten', 'wśród'}\""
      ]
     },
     "metadata": {},
     "output_type": "display_data"
    }
   ],
   "source": [
    "#Uruchomienie do aplikacji QT\n",
    "#QGuiApplication.setAttribute(Qt.AA_EnableHighDpiScaling, True) #Również brało udział w skalowaniu\n",
    "#QGuiApplication.setAttribute(Qt.AA_UseHighDpiPixmaps, True)    #Również brało udział w skalowaniu\n",
    "\n",
    "#os.environ['QT_SCALE_FACTOR'] = '1.5' #Potrzebowałem wyskalować aplikację\n",
    "\n",
    "app = QApplication(sys.argv)\n",
    "window = ChatbotApp(\"interactions.csv\")\n",
    "window.show()\n",
    "try:\n",
    "    app.exec_()\n",
    "finally:\n",
    "    del app             #Zamykanie w naturalny sposób z nieznanego powodu wyrzuca błąd, dopiero uczę się QT\n",
    "\n",
    "#Wiem, że Aplikację QT powinno się robić w QML, a nie na widżetach, ale nie chciałem już tutaj więcej plików tworzyć dla takiego prostego przykładu.\n",
    "#Przy bardziej zaawansowanych zadaniach w przyszłości pewnie przerzucę się na QML"
   ]
  },
  {
   "cell_type": "code",
   "execution_count": null,
   "metadata": {},
   "outputs": [
    {
     "data": {
      "text/plain": [
       "()"
      ]
     },
     "execution_count": 80,
     "metadata": {},
     "output_type": "execute_result"
    }
   ],
   "source": [
    "text = \"To jest tekst\"\n",
    "nlp = spacy.load(\"pl_core_news_md\")\n",
    "doc = nlp(text)"
   ]
  },
  {
   "cell_type": "code",
   "execution_count": null,
   "metadata": {},
   "outputs": [
    {
     "data": {
      "application/vnd.jupyter.widget-view+json": {
       "model_id": "d4838d7a498440aeb3b008f1795ffa7a",
       "version_major": 2,
       "version_minor": 0
      },
      "text/plain": [
       "Text(value='', description='Prompt:', placeholder='Witaj')"
      ]
     },
     "metadata": {},
     "output_type": "display_data"
    },
    {
     "data": {
      "application/vnd.jupyter.widget-view+json": {
       "model_id": "a4cb05165b074197b627f8602d3c0fbd",
       "version_major": 2,
       "version_minor": 0
      },
      "text/plain": [
       "Button(description='Submit', style=ButtonStyle())"
      ]
     },
     "metadata": {},
     "output_type": "display_data"
    },
    {
     "data": {
      "text/plain": [
       "\"\\tPrompt: {'witaj'}\""
      ]
     },
     "metadata": {},
     "output_type": "display_data"
    },
    {
     "data": {
      "text/plain": [
       "'Response: Witaj! W czym mogę ci poomóc?'"
      ]
     },
     "metadata": {},
     "output_type": "display_data"
    },
    {
     "data": {
      "text/plain": [
       "\"\\tPrompt: {'dziękować'}\""
      ]
     },
     "metadata": {},
     "output_type": "display_data"
    },
    {
     "data": {
      "text/plain": [
       "'Response: Proszę bardzo. Cieszę się, że mogłem pomóc.'"
      ]
     },
     "metadata": {},
     "output_type": "display_data"
    }
   ],
   "source": [
    "#Uruchomienie do aplikacji na widżetach jupyer\n",
    "chatbot = Chatbot('interactions.csv')\n",
    "chatbot.run()"
   ]
  }
 ],
 "metadata": {
  "kernelspec": {
   "display_name": "bin",
   "language": "python",
   "name": "python3"
  },
  "language_info": {
   "codemirror_mode": {
    "name": "ipython",
    "version": 3
   },
   "file_extension": ".py",
   "mimetype": "text/x-python",
   "name": "python",
   "nbconvert_exporter": "python",
   "pygments_lexer": "ipython3",
   "version": "3.11.9"
  }
 },
 "nbformat": 4,
 "nbformat_minor": 2
}
