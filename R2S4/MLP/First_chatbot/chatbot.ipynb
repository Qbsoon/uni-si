{
 "cells": [
  {
   "cell_type": "code",
   "execution_count": 47,
   "metadata": {},
   "outputs": [
    {
     "name": "stderr",
     "output_type": "stream",
     "text": [
      "Loading: 100%|██████████| 11368252/11368252 [00:04<00:00, 2603097.48bytes/s]\n"
     ]
    }
   ],
   "source": [
    "from pystempel import Stemmer\n",
    "import csv\n",
    "import ipywidgets as widgets\n",
    "from IPython.display import display\n",
    "stemmer = Stemmer.polimorf()"
   ]
  },
  {
   "cell_type": "code",
   "execution_count": 2,
   "metadata": {},
   "outputs": [],
   "source": [
    "with open('interactions.csv', 'w') as file:\n",
    "    dialog = csv.writer(file, delimiter=',', quotechar='\"', quoting=csv.QUOTE_MINIMAL)\n",
    "    dialog.writerow(['Witaj', 'Witaj! W czym mogę ci poomóc?'])\n",
    "    dialog.writerow(['Jak się masz?', 'Dobrze. Dziękuję, że pytasz. A ty?'])\n",
    "    dialog.writerow(['Czym jesteś?', 'Jestem chatbotem.'])\n",
    "    dialog.writerow(['Jakie masz zainteresowania?', 'Lubię rozmawiać z ludźmi.'])\n",
    "    dialog.writerow(['Dziękuję', \"Proszę bardzo. Cieszę się, że mogłem pomóc.\"])\n",
    "    dialog.writerow(['Do widzenia', 'Do widzenia! Miłego dnia!'])"
   ]
  },
  {
   "cell_type": "code",
   "execution_count": 56,
   "metadata": {},
   "outputs": [],
   "source": [
    "class Chatbot():\n",
    "    def __init__(self, dialog_file):\n",
    "        self.dialog_file = dialog_file\n",
    "    \n",
    "    def make_dialog_tuples(self):\n",
    "        dialog = []\n",
    "        with open(self.dialog_file, newline='') as file:\n",
    "            csv_reader = csv.reader(file, delimiter=',', quotechar='\"')\n",
    "            for row in csv_reader:\n",
    "                dialog.append((row[0], row[1]))\n",
    "        return dialog\n",
    "    \n",
    "    def split_and_clean(self, sentence):\n",
    "        interpoint = ',.?!\\'\":\\\\;@#$%^&*/+-=_`~<>{}()[]'    #Rozszerzyłem listę znaków\n",
    "        if len(sentence[0])>1:          #Warunek upewniający się, czy to jest zdanie, czy tylko jedno słowo\n",
    "            for word in sentence:       #Zmieniłem sprawdzanie znaków, teraz usuwa znaki nawet ze środka\n",
    "                if word[0] in interpoint:\n",
    "                    word = word[1:]\n",
    "                if word[-1] in interpoint:\n",
    "                    word = word[:-1]\n",
    "        else:\n",
    "            if sentence[0] in interpoint:\n",
    "                sentence = sentence[1:]\n",
    "            if sentence[-1] in interpoint:\n",
    "                sentence = sentence[:-1]\n",
    "        for inter in interpoint:\n",
    "            if inter not in '\\'':\n",
    "                sentence.replace(inter, '')\n",
    "        sentence_tokenized = [word.lower() for word in sentence.split()]\n",
    "        sentence_tokenized_clean = []\n",
    "        for word in sentence_tokenized:\n",
    "            sentence_tokenized_clean.append(stemmer(word))\n",
    "        return sentence_tokenized_clean\n",
    "    \n",
    "    def find_matching(self, input_prompt, dialog):\n",
    "        answer = 'Nie posiadam na to odpowiedzi.'\n",
    "        intersection_len_req = 0\n",
    "        input_prompt = set(self.split_and_clean(input_prompt.lower()))  #Wyrzuciłem poza for, bo nie mają powodu wykonywać się wiele razy\n",
    "        for index, pair in enumerate(dialog):\n",
    "            match = set(self.split_and_clean(pair[0]))\n",
    "            intersection_len = len(set.intersection(input_prompt, match))\n",
    "            if intersection_len > intersection_len_req:\n",
    "                answer = pair[1]\n",
    "                display(f'\\tPrompt: {input_prompt}')\n",
    "                display(f'\\tResponse: {match}')\n",
    "        return answer\n",
    "    \n",
    "    def run(self):\n",
    "        dialog = self.make_dialog_tuples()\n",
    "        input_prompt = widgets.Text(\n",
    "            value='',\n",
    "            placeholder='Witaj',\n",
    "            description=\"Prompt:\",\n",
    "        )\n",
    "        submit_button = widgets.Button(description='Submit')\n",
    "        def on_submit(b):\n",
    "            if not input_prompt:\n",
    "                display('Puste')\n",
    "            else:\n",
    "                answer = self.find_matching(input_prompt.value, dialog)\n",
    "                display(f'Response: {answer}')\n",
    "        submit_button.on_click(on_submit)\n",
    "        display(input_prompt, submit_button)"
   ]
  },
  {
   "cell_type": "code",
   "execution_count": 57,
   "metadata": {},
   "outputs": [
    {
     "data": {
      "application/vnd.jupyter.widget-view+json": {
       "model_id": "1e0e0ed3f1814cab87becb824ebbe98d",
       "version_major": 2,
       "version_minor": 0
      },
      "text/plain": [
       "Text(value='', description='Prompt:', placeholder='Witaj')"
      ]
     },
     "metadata": {},
     "output_type": "display_data"
    },
    {
     "data": {
      "application/vnd.jupyter.widget-view+json": {
       "model_id": "eb435713f57e47578606ba4b93e94f95",
       "version_major": 2,
       "version_minor": 0
      },
      "text/plain": [
       "Button(description='Submit', style=ButtonStyle())"
      ]
     },
     "metadata": {},
     "output_type": "display_data"
    },
    {
     "data": {
      "text/plain": [
       "\"\\tPrompt: {'witać'}\""
      ]
     },
     "metadata": {},
     "output_type": "display_data"
    },
    {
     "data": {
      "text/plain": [
       "\"\\tResponse: {'witać'}\""
      ]
     },
     "metadata": {},
     "output_type": "display_data"
    },
    {
     "data": {
      "text/plain": [
       "'Response: Witaj! W czym mogę ci poomóc?'"
      ]
     },
     "metadata": {},
     "output_type": "display_data"
    }
   ],
   "source": [
    "chatbot = Chatbot('interactions.csv')\n",
    "chatbot.run()"
   ]
  }
 ],
 "metadata": {
  "kernelspec": {
   "display_name": "si",
   "language": "python",
   "name": "python3"
  },
  "language_info": {
   "codemirror_mode": {
    "name": "ipython",
    "version": 3
   },
   "file_extension": ".py",
   "mimetype": "text/x-python",
   "name": "python",
   "nbconvert_exporter": "python",
   "pygments_lexer": "ipython3",
   "version": "3.11.9"
  }
 },
 "nbformat": 4,
 "nbformat_minor": 2
}
