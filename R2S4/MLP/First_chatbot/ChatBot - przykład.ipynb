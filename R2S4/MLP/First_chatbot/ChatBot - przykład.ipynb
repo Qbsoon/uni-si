{
 "cells": [
  {
   "cell_type": "markdown",
   "metadata": {
    "id": "IYo_ejG7qKjy"
   },
   "source": [
    "# ChatBot"
   ]
  },
  {
   "cell_type": "code",
   "execution_count": null,
   "metadata": {
    "colab": {
     "base_uri": "https://localhost:8080/"
    },
    "executionInfo": {
     "elapsed": 2825,
     "status": "ok",
     "timestamp": 1743426931152,
     "user": {
      "displayName": "Michał Kalisz",
      "userId": "17100998895722089579"
     },
     "user_tz": -120
    },
    "id": "gEcPNAjpeaoj",
    "outputId": "b1dd98a0-8a2b-4f3a-c88f-96627e200373"
   },
   "outputs": [
    {
     "name": "stdout",
     "output_type": "stream",
     "text": [
      "Requirement already satisfied: pystempel in /usr/local/lib/python3.11/dist-packages (2.0.0)\n",
      "Requirement already satisfied: sortedcontainers<3.0.0,>=2.4.0 in /usr/local/lib/python3.11/dist-packages (from pystempel) (2.4.0)\n",
      "Requirement already satisfied: tqdm<5.0.0,>=4.65.0 in /usr/local/lib/python3.11/dist-packages (from pystempel) (4.67.1)\n"
     ]
    }
   ],
   "source": [
    "!pip install pystempel"
   ]
  },
  {
   "cell_type": "code",
   "execution_count": null,
   "metadata": {
    "colab": {
     "base_uri": "https://localhost:8080/"
    },
    "executionInfo": {
     "elapsed": 13313,
     "status": "ok",
     "timestamp": 1743426944467,
     "user": {
      "displayName": "Michał Kalisz",
      "userId": "17100998895722089579"
     },
     "user_tz": -120
    },
    "id": "DhBBt-kjeUB5",
    "outputId": "d93ced4b-47f2-43b9-c9e0-b9f8a89f7ba3"
   },
   "outputs": [
    {
     "name": "stderr",
     "output_type": "stream",
     "text": [
      "Loading: 100%|██████████| 11368252/11368252 [00:13<00:00, 854277.95bytes/s] \n"
     ]
    }
   ],
   "source": [
    "import csv\n",
    "from pystempel import Stemmer\n",
    "\n",
    "stemmer = Stemmer.polimorf()"
   ]
  },
  {
   "cell_type": "code",
   "execution_count": null,
   "metadata": {
    "colab": {
     "base_uri": "https://localhost:8080/"
    },
    "executionInfo": {
     "elapsed": 8,
     "status": "ok",
     "timestamp": 1743426965634,
     "user": {
      "displayName": "Michał Kalisz",
      "userId": "17100998895722089579"
     },
     "user_tz": -120
    },
    "id": "3Y0NqlkLVgDP",
    "outputId": "b867ed2d-96a8-4642-bf6b-ae049fa8ef63",
    "scrolled": true
   },
   "outputs": [
    {
     "name": "stdout",
     "output_type": "stream",
     "text": [
      "komputer --> komputer\n",
      "komputery --> komputer\n",
      "komputerami --> komputer\n",
      "był --> być\n",
      "jest --> być\n",
      "są --> być\n",
      "były --> były\n",
      "pierzyna --> pierzyna\n",
      "pierzyny --> pierzyna\n",
      "pierza --> pierze\n",
      "źółtego --> źółty\n",
      "brązowym --> brązowy\n"
     ]
    }
   ],
   "source": [
    "for word in ['komputer', 'komputery', 'komputerami', 'był', 'jest', 'są', 'były', 'pierzyna', 'pierzyny', 'pierza', 'źółtego', 'brązowym']:\n",
    "  print(f'{word} --> {stemmer(word)}')"
   ]
  },
  {
   "cell_type": "code",
   "execution_count": null,
   "metadata": {
    "colab": {
     "base_uri": "https://localhost:8080/"
    },
    "executionInfo": {
     "elapsed": 12,
     "status": "ok",
     "timestamp": 1743426637126,
     "user": {
      "displayName": "Michał Kalisz",
      "userId": "17100998895722089579"
     },
     "user_tz": -120
    },
    "id": "bLSXFDv5qKjz",
    "outputId": "ede1103b-7332-4ed7-fb22-4078c13222d7",
    "scrolled": true
   },
   "outputs": [
    {
     "name": "stdout",
     "output_type": "stream",
     "text": [
      "... --> ...\n",
      "i --> i\n",
      "ujrzał --> ujrzeć\n",
      "Pan --> Pawumeowy\n",
      "pracę --> praca\n",
      "naszą --> nasz\n",
      "i --> i\n",
      "był --> być\n",
      "zadowolony --> zadowolony\n",
      ", --> ,\n",
      "a --> ativus\n",
      "potem --> pot\n",
      "zapytawszy --> zapytać\n",
      "o --> ojciec\n",
      "zarobki --> zarobki\n",
      "nasze --> nasze\n",
      "- --> -\n",
      "usiadł --> usiąść\n",
      "i --> i\n",
      "zapłakał --> zapłakać\n",
      "... --> ...\n"
     ]
    }
   ],
   "source": [
    "for word in ['...', 'i', 'ujrzał', 'Pan', 'pracę', 'naszą', 'i', 'był', 'zadowolony', ',', 'a', 'potem', 'zapytawszy', 'o', 'zarobki', 'nasze', '-', 'usiadł', 'i', 'zapłakał', '...']:\n",
    "  print(f'{word} --> {stemmer(word)}')"
   ]
  },
  {
   "cell_type": "code",
   "execution_count": null,
   "metadata": {
    "id": "pvA4OSPW1WKL"
   },
   "outputs": [],
   "source": [
    "with open('dialogs.csv', 'w') as file:\n",
    "  csv_writer = csv.writer(file, delimiter=',', quotechar='\"', quoting=csv.QUOTE_MINIMAL)\n",
    "\n",
    "  csv_writer.writerow(['Cześć', 'Cześć'])\n",
    "  csv_writer.writerow(['Co u ciebie słychać?', 'Dobrze, dziękuję.'])\n",
    "  csv_writer.writerow(['Powiedz coś miłego', 'Jesteś najbardziej interesującym człowiekiem jakiego znam!'])\n",
    "  csv_writer.writerow(['Czy jesteś sztuczną inteligencją?', 'Oczywiście, nie widać?'])\n",
    "  csv_writer.writerow(['Niezwykłe', 'Tak, wiem. Dziękuję za komplement!'])\n",
    "  # ...\n",
    "  csv_writer.writerow(['pa', 'Pa, pa!'])"
   ]
  },
  {
   "cell_type": "code",
   "execution_count": null,
   "metadata": {
    "colab": {
     "base_uri": "https://localhost:8080/",
     "height": 460
    },
    "executionInfo": {
     "elapsed": 198903,
     "status": "error",
     "timestamp": 1743427329259,
     "user": {
      "displayName": "Michał Kalisz",
      "userId": "17100998895722089579"
     },
     "user_tz": -120
    },
    "id": "g9aRa6wp773K",
    "outputId": "f1c83ea9-6b1e-40b1-f648-86bcf68e0a59"
   },
   "outputs": [
    {
     "name": "stdout",
     "output_type": "stream",
     "text": [
      "ty: cześć\n",
      "\tuser speaks: {'cześć'}\n",
      "\tmatching: {'cześć'}\n",
      "chatbot: Cześć\n",
      "ty: coś miłego\n",
      "\tuser speaks: {'miły', 'coś'}\n",
      "\tmatching: {'miły', 'powiedzieć', 'coś'}\n",
      "chatbot: Jesteś najbardziej interesującym człowiekiem jakiego znam!\n"
     ]
    },
    {
     "ename": "KeyboardInterrupt",
     "evalue": "Interrupted by user",
     "output_type": "error",
     "traceback": [
      "\u001b[0;31m---------------------------------------------------------------------------\u001b[0m",
      "\u001b[0;31mKeyboardInterrupt\u001b[0m                         Traceback (most recent call last)",
      "\u001b[0;32m<ipython-input-28-ead247bcb53f>\u001b[0m in \u001b[0;36m<cell line: 0>\u001b[0;34m()\u001b[0m\n\u001b[1;32m     51\u001b[0m \u001b[0;34m\u001b[0m\u001b[0m\n\u001b[1;32m     52\u001b[0m \u001b[0mchatbot\u001b[0m \u001b[0;34m=\u001b[0m \u001b[0mChatbot\u001b[0m\u001b[0;34m(\u001b[0m\u001b[0;34m'dialogs.csv'\u001b[0m\u001b[0;34m)\u001b[0m\u001b[0;34m\u001b[0m\u001b[0;34m\u001b[0m\u001b[0m\n\u001b[0;32m---> 53\u001b[0;31m \u001b[0mchatbot\u001b[0m\u001b[0;34m.\u001b[0m\u001b[0mrun\u001b[0m\u001b[0;34m(\u001b[0m\u001b[0;34m)\u001b[0m\u001b[0;34m\u001b[0m\u001b[0;34m\u001b[0m\u001b[0m\n\u001b[0m",
      "\u001b[0;32m<ipython-input-28-ead247bcb53f>\u001b[0m in \u001b[0;36mrun\u001b[0;34m(self)\u001b[0m\n\u001b[1;32m     48\u001b[0m         \u001b[0manswer\u001b[0m \u001b[0;34m=\u001b[0m \u001b[0mself\u001b[0m\u001b[0;34m.\u001b[0m\u001b[0mfind_matching\u001b[0m\u001b[0;34m(\u001b[0m\u001b[0muser_phrase\u001b[0m\u001b[0;34m,\u001b[0m \u001b[0mpairs\u001b[0m\u001b[0;34m)\u001b[0m\u001b[0;34m\u001b[0m\u001b[0;34m\u001b[0m\u001b[0m\n\u001b[1;32m     49\u001b[0m         \u001b[0mprint\u001b[0m\u001b[0;34m(\u001b[0m\u001b[0;34mf'chatbot: {answer}'\u001b[0m\u001b[0;34m)\u001b[0m\u001b[0;34m\u001b[0m\u001b[0;34m\u001b[0m\u001b[0m\n\u001b[0;32m---> 50\u001b[0;31m       \u001b[0muser_phrase\u001b[0m \u001b[0;34m=\u001b[0m \u001b[0minput\u001b[0m\u001b[0;34m(\u001b[0m\u001b[0;34m\"ty: \"\u001b[0m\u001b[0;34m)\u001b[0m\u001b[0;34m\u001b[0m\u001b[0;34m\u001b[0m\u001b[0m\n\u001b[0m\u001b[1;32m     51\u001b[0m \u001b[0;34m\u001b[0m\u001b[0m\n\u001b[1;32m     52\u001b[0m \u001b[0mchatbot\u001b[0m \u001b[0;34m=\u001b[0m \u001b[0mChatbot\u001b[0m\u001b[0;34m(\u001b[0m\u001b[0;34m'dialogs.csv'\u001b[0m\u001b[0;34m)\u001b[0m\u001b[0;34m\u001b[0m\u001b[0;34m\u001b[0m\u001b[0m\n",
      "\u001b[0;32m/usr/local/lib/python3.11/dist-packages/ipykernel/kernelbase.py\u001b[0m in \u001b[0;36mraw_input\u001b[0;34m(self, prompt)\u001b[0m\n\u001b[1;32m   1175\u001b[0m                 \u001b[0;34m\"raw_input was called, but this frontend does not support input requests.\"\u001b[0m\u001b[0;34m\u001b[0m\u001b[0;34m\u001b[0m\u001b[0m\n\u001b[1;32m   1176\u001b[0m             )\n\u001b[0;32m-> 1177\u001b[0;31m         return self._input_request(\n\u001b[0m\u001b[1;32m   1178\u001b[0m             \u001b[0mstr\u001b[0m\u001b[0;34m(\u001b[0m\u001b[0mprompt\u001b[0m\u001b[0;34m)\u001b[0m\u001b[0;34m,\u001b[0m\u001b[0;34m\u001b[0m\u001b[0;34m\u001b[0m\u001b[0m\n\u001b[1;32m   1179\u001b[0m             \u001b[0mself\u001b[0m\u001b[0;34m.\u001b[0m\u001b[0m_parent_ident\u001b[0m\u001b[0;34m[\u001b[0m\u001b[0;34m\"shell\"\u001b[0m\u001b[0;34m]\u001b[0m\u001b[0;34m,\u001b[0m\u001b[0;34m\u001b[0m\u001b[0;34m\u001b[0m\u001b[0m\n",
      "\u001b[0;32m/usr/local/lib/python3.11/dist-packages/ipykernel/kernelbase.py\u001b[0m in \u001b[0;36m_input_request\u001b[0;34m(self, prompt, ident, parent, password)\u001b[0m\n\u001b[1;32m   1217\u001b[0m             \u001b[0;32mexcept\u001b[0m \u001b[0mKeyboardInterrupt\u001b[0m\u001b[0;34m:\u001b[0m\u001b[0;34m\u001b[0m\u001b[0;34m\u001b[0m\u001b[0m\n\u001b[1;32m   1218\u001b[0m                 \u001b[0;31m# re-raise KeyboardInterrupt, to truncate traceback\u001b[0m\u001b[0;34m\u001b[0m\u001b[0;34m\u001b[0m\u001b[0m\n\u001b[0;32m-> 1219\u001b[0;31m                 \u001b[0;32mraise\u001b[0m \u001b[0mKeyboardInterrupt\u001b[0m\u001b[0;34m(\u001b[0m\u001b[0;34m\"Interrupted by user\"\u001b[0m\u001b[0;34m)\u001b[0m \u001b[0;32mfrom\u001b[0m \u001b[0;32mNone\u001b[0m\u001b[0;34m\u001b[0m\u001b[0;34m\u001b[0m\u001b[0m\n\u001b[0m\u001b[1;32m   1220\u001b[0m             \u001b[0;32mexcept\u001b[0m \u001b[0mException\u001b[0m\u001b[0;34m:\u001b[0m\u001b[0;34m\u001b[0m\u001b[0;34m\u001b[0m\u001b[0m\n\u001b[1;32m   1221\u001b[0m                 \u001b[0mself\u001b[0m\u001b[0;34m.\u001b[0m\u001b[0mlog\u001b[0m\u001b[0;34m.\u001b[0m\u001b[0mwarning\u001b[0m\u001b[0;34m(\u001b[0m\u001b[0;34m\"Invalid Message:\"\u001b[0m\u001b[0;34m,\u001b[0m \u001b[0mexc_info\u001b[0m\u001b[0;34m=\u001b[0m\u001b[0;32mTrue\u001b[0m\u001b[0;34m)\u001b[0m\u001b[0;34m\u001b[0m\u001b[0;34m\u001b[0m\u001b[0m\n",
      "\u001b[0;31mKeyboardInterrupt\u001b[0m: Interrupted by user"
     ]
    }
   ],
   "source": [
    "class Chatbot():\n",
    "\n",
    "  def __init__(self, csv_dialogs_file):\n",
    "    self.csv_dialogs_file = csv_dialogs_file\n",
    "\n",
    "\n",
    "  def create_dialog_tuples(self):\n",
    "    pairs = []\n",
    "    with open(self.csv_dialogs_file, newline='') as file:\n",
    "      csv_reader = csv.reader(file, delimiter=',', quotechar='\"')\n",
    "      for row in csv_reader:\n",
    "        pairs.append((row[0], row[1]))\n",
    "    return pairs\n",
    "\n",
    "  def split_and_clean(self, sentence):\n",
    "    punkt = ',.?!\\'\";@#$%&*+-_`<>{}()'\n",
    "    sentence_tokenized = [word.lower() for word in sentence.split()]\n",
    "    sentence_tokenized_clean = []\n",
    "    for word in sentence_tokenized:\n",
    "      if word[0] in punkt:\n",
    "        word = word[1:]\n",
    "      if word[-1] in punkt:\n",
    "        word = word[:-1]\n",
    "      sentence_tokenized_clean.append(stemmer(word))\n",
    "    return sentence_tokenized_clean\n",
    "\n",
    "  def find_matching(self, user_phrase, pairs):\n",
    "    answer = 'Nie wiem.'\n",
    "    intersection_len_prev = 0\n",
    "    for index, pair in enumerate(pairs):\n",
    "      user_speaks = set(self.split_and_clean(user_phrase.lower()))\n",
    "      matching = set(self.split_and_clean(pair[0]))\n",
    "      intersection_len = len(set.intersection(user_speaks, matching))\n",
    "      if intersection_len > intersection_len_prev:\n",
    "        answer = pairs[index][1]\n",
    "        print(f'\\tuser speaks: {user_speaks}')\n",
    "        print(f'\\tmatching: {matching}')\n",
    "    return answer\n",
    "\n",
    "  def run(self):\n",
    "    pairs = self.create_dialog_tuples()\n",
    "    user_phrase = input(\"ty: \")\n",
    "    while True:\n",
    "      if not user_phrase:\n",
    "        print('END')\n",
    "        break\n",
    "      else:\n",
    "        answer = self.find_matching(user_phrase, pairs)\n",
    "        print(f'chatbot: {answer}')\n",
    "      user_phrase = input(\"ty: \")\n",
    "\n",
    "chatbot = Chatbot('dialogs.csv')\n",
    "chatbot.run()"
   ]
  },
  {
   "cell_type": "code",
   "execution_count": null,
   "metadata": {
    "id": "JmgCXx8UqKj0"
   },
   "outputs": [],
   "source": []
  }
 ],
 "metadata": {
  "celltoolbar": "Slideshow",
  "colab": {
   "provenance": []
  },
  "kernelspec": {
   "display_name": "Python 3 (ipykernel)",
   "language": "python",
   "name": "python3"
  },
  "language_info": {
   "codemirror_mode": {
    "name": "ipython",
    "version": 3
   },
   "file_extension": ".py",
   "mimetype": "text/x-python",
   "name": "python",
   "nbconvert_exporter": "python",
   "pygments_lexer": "ipython3",
   "version": "3.9.13"
  },
  "rise": {
   "_comment1": "this is my comment",
   "enable_chalkboard": true,
   "footer": "<div style=\"background-color: none; color: grey; font-size: 1.5em; padding: 0.4em; margin-left: 0em;\">MK &#169; 2023</div>",
   "header": "<div style=\"background-color: none; color: grey; font-size: 2em; text-transform: uppercase; padding: 0.4em; margin-left: 0em;\">Python</div>",
   "height": "100%",
   "scroll": true,
   "slideNumber": "true",
   "theme": "simple",
   "transition": "fade",
   "width": "95%"
  }
 },
 "nbformat": 4,
 "nbformat_minor": 0
}
