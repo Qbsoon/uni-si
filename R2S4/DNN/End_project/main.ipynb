{
 "cells": [
  {
   "cell_type": "code",
   "execution_count": 3,
   "id": "1f758013",
   "metadata": {},
   "outputs": [
    {
     "name": "stderr",
     "output_type": "stream",
     "text": [
      "/usr/lib/python3.11/site-packages/tqdm/auto.py:21: TqdmWarning: IProgress not found. Please update jupyter and ipywidgets. See https://ipywidgets.readthedocs.io/en/stable/user_install.html\n",
      "  from .autonotebook import tqdm as notebook_tqdm\n",
      "WARNING: All log messages before absl::InitializeLog() is called are written to STDERR\n",
      "E0000 00:00:1748653007.468353     463 cuda_dnn.cc:8310] Unable to register cuDNN factory: Attempting to register factory for plugin cuDNN when one has already been registered\n",
      "E0000 00:00:1748653007.475299     463 cuda_blas.cc:1418] Unable to register cuBLAS factory: Attempting to register factory for plugin cuBLAS when one has already been registered\n"
     ]
    }
   ],
   "source": [
    "import os\n",
    "import cv2\n",
    "import numpy as np\n",
    "import torch\n",
    "from ultralytics import YOLO\n",
    "import matplotlib.pyplot as plt\n",
    "from IPython.display import display, clear_output\n",
    "import random\n",
    "from pathlib import Path\n",
    "import pandas as pd\n",
    "from transformers import TrOCRProcessor, VisionEncoderDecoderModel\n",
    "import math\n",
    "import torch.optim as optim\n",
    "import torch.nn as nn\n",
    "from torchvision.models import resnet18, efficientnet_b3\n",
    "from torch.utils.data import Dataset, DataLoader, random_split\n",
    "from torchvision import transforms\n",
    "from PIL import Image\n",
    "import onnxruntime as ort"
   ]
  },
  {
   "cell_type": "code",
   "execution_count": 4,
   "id": "ef3fe375",
   "metadata": {},
   "outputs": [
    {
     "data": {
      "text/plain": [
       "True"
      ]
     },
     "execution_count": 4,
     "metadata": {},
     "output_type": "execute_result"
    }
   ],
   "source": [
    "torch.cuda.is_available()"
   ]
  },
  {
   "cell_type": "code",
   "execution_count": 5,
   "id": "3999a172",
   "metadata": {},
   "outputs": [],
   "source": [
    "import kagglehub\n",
    "#dataset_path = kagglehub.dataset_download(\"jessicali9530/lfw-dataset\")\n",
    "dataset_path = kagglehub.dataset_download(\"chiragsaipanuganti/morph\")"
   ]
  },
  {
   "cell_type": "code",
   "execution_count": 34,
   "id": "2f68a3b0",
   "metadata": {},
   "outputs": [
    {
     "data": {
      "text/plain": [
       "'/root/.cache/kagglehub/datasets/chiragsaipanuganti/morph/versions/2'"
      ]
     },
     "execution_count": 34,
     "metadata": {},
     "output_type": "execute_result"
    }
   ],
   "source": [
    "dataset_path"
   ]
  },
  {
   "cell_type": "code",
   "execution_count": 6,
   "id": "ffdb5d0a",
   "metadata": {},
   "outputs": [],
   "source": [
    "image_paths = []\n",
    "for root, dirs, files in os.walk(dataset_path):\n",
    "    for file in files:\n",
    "        if file.lower().endswith(('.jpg')):\n",
    "            image_paths.append(os.path.join(root, file))"
   ]
  },
  {
   "cell_type": "code",
   "execution_count": 36,
   "id": "595db6f2",
   "metadata": {},
   "outputs": [],
   "source": [
    "def populate_whitecard(image_paths, naming, height=1540, width=1754, im_width=250, im_height=250, spacing=80):\n",
    "    whitecard = np.ones((height, width, 3), dtype=np.uint8) * 255\n",
    "    x = 10\n",
    "    y = 10\n",
    "\n",
    "    diagonal_size = int(np.sqrt(im_width**2 + im_height**2)) + 10\n",
    "\n",
    "    for i, name in zip(image_paths, naming):\n",
    "        img = cv2.imread(i)\n",
    "        img = cv2.resize(img, (im_width, im_height))\n",
    "        img = cv2.cvtColor(img, cv2.COLOR_BGR2RGB)\n",
    "\n",
    "        rot_canvas = np.ones((diagonal_size, diagonal_size, 3), dtype=np.uint8) * 255\n",
    "        start_x = (diagonal_size - im_width) // 2\n",
    "        start_y = (diagonal_size - im_height) // 2\n",
    "        rot_canvas[start_y:start_y + im_height, start_x:start_x + im_width] = img\n",
    "\n",
    "        rot_angle = random.uniform(-180, 180)\n",
    "        center = (diagonal_size // 2, diagonal_size // 2)\n",
    "        rot_matrix = cv2.getRotationMatrix2D(center, rot_angle, 1.0)\n",
    "        rot_img = cv2.warpAffine(rot_canvas, rot_matrix, (diagonal_size, diagonal_size), borderValue=(255, 255, 255))\n",
    "\n",
    "        whitecard[y:y+diagonal_size, x:x+diagonal_size] = rot_img\n",
    "\n",
    "        cv2.putText(whitecard, str(name), (x + diagonal_size // 2, y + diagonal_size + (spacing // 2)), \n",
    "                   cv2.FONT_HERSHEY_SCRIPT_COMPLEX, 1.3, (0, 0, 0), 2, cv2.LINE_AA)\n",
    "\n",
    "        x += diagonal_size + 40\n",
    "        if x > (width-diagonal_size):\n",
    "            x = 10\n",
    "            y += diagonal_size + spacing\n",
    "        if y > (height-diagonal_size):\n",
    "            return whitecard\n",
    "    return whitecard\n",
    "\n",
    "def get_cards(image_paths, num, im_width, im_height):\n",
    "    cards = []\n",
    "    random.shuffle(image_paths)\n",
    "    for i in range(num):\n",
    "        card = populate_whitecard(image_paths[i*20:(i+1)*20], [f\"{i*20+j+1}\" for j in range(20)], im_height=im_height, im_width=im_width)\n",
    "        cards.append(card)\n",
    "    return cards"
   ]
  },
  {
   "cell_type": "code",
   "execution_count": 40,
   "id": "1dd01749",
   "metadata": {},
   "outputs": [],
   "source": [
    "cards = get_cards(image_paths, 10, im_width=200, im_height=200)\n",
    "\n",
    "output_path = Path(\"cards\")\n",
    "\n",
    "output_path.mkdir(exist_ok=True)\n",
    "\n",
    "for i, card in enumerate(cards):\n",
    "    card_bgr = cv2.cvtColor(card, cv2.COLOR_RGB2BGR)\n",
    "    cv2.imwrite(f'cards/card_{i+1}.jpg', card_bgr)"
   ]
  },
  {
   "cell_type": "code",
   "execution_count": 4,
   "id": "1e2aef52",
   "metadata": {},
   "outputs": [],
   "source": [
    "def populate_whitecard_labels_v2(image_paths, naming, height=1540, width=1754, im_width=250, im_height=250, spacing=80):\n",
    "    whitecard = np.ones((height, width, 3), dtype=np.uint8) * 255\n",
    "    x = 10\n",
    "    y = 10\n",
    "\n",
    "    diagonal_size = int(np.sqrt(im_width**2 + im_height**2)) + 10\n",
    "    label_entries = []\n",
    "\n",
    "    for i, name in zip(image_paths, naming):\n",
    "        img = cv2.imread(i)\n",
    "        img = cv2.resize(img, (im_width, im_height))\n",
    "        img = cv2.cvtColor(img, cv2.COLOR_BGR2RGB)\n",
    "\n",
    "        rot_canvas = np.ones((diagonal_size, diagonal_size, 3), dtype=np.uint8) * 255\n",
    "        start_x = (diagonal_size - im_width) // 2\n",
    "        start_y = (diagonal_size - im_height) // 2\n",
    "        rot_canvas[start_y:start_y + im_height, start_x:start_x + im_width] = img\n",
    "\n",
    "        rot_angle = random.uniform(-180, 180)\n",
    "        center = (diagonal_size // 2, diagonal_size // 2)\n",
    "        rot_matrix = cv2.getRotationMatrix2D(center, rot_angle, 1.0)\n",
    "        rot_img = cv2.warpAffine(rot_canvas, rot_matrix, (diagonal_size, diagonal_size), borderValue=(255, 255, 255))\n",
    "\n",
    "        whitecard[y:y+diagonal_size, x:x+diagonal_size] = rot_img\n",
    "\n",
    "        cv2.putText(whitecard, str(name), (x + diagonal_size // 2, y + diagonal_size + (spacing // 2)), \n",
    "                   cv2.FONT_HERSHEY_SCRIPT_COMPLEX, 1.3, (0, 0, 0), 2, cv2.LINE_AA)\n",
    "        \n",
    "        photo_x_center = (x + diagonal_size / 2) / width\n",
    "        photo_y_center = (y + diagonal_size / 2) / height\n",
    "        photo_width = diagonal_size / width\n",
    "        photo_height = (diagonal_size + spacing) / height\n",
    "        label_entries.append(f\"0 {photo_x_center:.6f} {photo_y_center:.6f} {photo_width:.6f} {photo_height:.6f}\")\n",
    "\n",
    "        id_x_center = photo_x_center\n",
    "        id_y_center = (y + diagonal_size + spacing / 2) / height\n",
    "        id_width = photo_width\n",
    "        id_height = spacing / height\n",
    "        label_entries.append(f\"1 {id_x_center:.6f} {id_y_center:.6f} {id_width:.6f} {id_height:.6f}\")\n",
    "\n",
    "        x += diagonal_size + 40\n",
    "        if x > (width-diagonal_size):\n",
    "            x = 10\n",
    "            y += diagonal_size + spacing\n",
    "        if y > (height-diagonal_size):\n",
    "            break\n",
    "    return whitecard, label_entries\n",
    "\n",
    "def get_cards_labels(image_paths, num, im_width, im_height, output_path, starting_idx=0):\n",
    "    images_path = Path(\"images\") / Path(output_path)\n",
    "    images_path.mkdir(parents=True, exist_ok=True)\n",
    "    labels_path = Path(\"labels\") / Path(output_path)\n",
    "    labels_path.mkdir(parents=True, exist_ok=True)\n",
    "    cards = []\n",
    "\n",
    "    random.shuffle(image_paths)\n",
    "    for i in range(starting_idx, starting_idx+num):\n",
    "        imgs = image_paths[i*50:(i+1)*50]\n",
    "        names = [f\"{i*50+j+1}\" for j in range(len(imgs))]\n",
    "        card, labels = populate_whitecard_labels_v2(imgs, names, im_width=im_width, im_height=im_height)\n",
    "        filename = f\"card_{i+1}\"\n",
    "        \n",
    "        card_bgr = cv2.cvtColor(card, cv2.COLOR_RGB2BGR)\n",
    "        cv2.imwrite(str(images_path / f\"{filename}.jpg\"), card_bgr)\n",
    "\n",
    "        with open(labels_path / f\"{filename}.txt\", \"w\") as f:\n",
    "            f.write(\"\\n\".join(labels))\n",
    "    return cards"
   ]
  },
  {
   "cell_type": "code",
   "execution_count": 5,
   "id": "e69643e8",
   "metadata": {},
   "outputs": [],
   "source": [
    "for i in ['train_v2', 'valid_v2', 'test_v2']:\n",
    "    get_cards_labels(image_paths, num=30, im_width=250, im_height=250, output_path=i, starting_idx=0)\n",
    "    get_cards_labels(image_paths, num=30, im_width=200, im_height=200, output_path=i, starting_idx=30)\n",
    "    get_cards_labels(image_paths, num=30, im_width=150, im_height=150, output_path=i, starting_idx=60)\n",
    "    get_cards_labels(image_paths, num=15, im_width=175, im_height=175, output_path=i, starting_idx=90)\n",
    "    get_cards_labels(image_paths, num=15, im_width=275, im_height=275, output_path=i, starting_idx=105)"
   ]
  },
  {
   "cell_type": "code",
   "execution_count": 23,
   "id": "c6ed8656",
   "metadata": {},
   "outputs": [],
   "source": [
    "def populate_card_labels_v3(image_path, height=400, width=400, im_width=250, im_height=250):\n",
    "\tcard = np.ones((height, width, 3), dtype=np.uint8) * 255\n",
    "\timg = cv2.imread(image_path)\n",
    "\timg = cv2.resize(img, (im_width, im_height))\n",
    "\timg = cv2.cvtColor(img, cv2.COLOR_BGR2RGB)\n",
    "\n",
    "\tdiagonal_size = int(np.sqrt(im_width**2 + im_height**2)) + 10\n",
    "\trot_canvas = np.ones((diagonal_size, diagonal_size, 3), dtype=np.uint8) * 255\n",
    "\tstart_x = (diagonal_size - im_width) // 2\n",
    "\tstart_y = (diagonal_size - im_height) // 2\n",
    "\trot_canvas[start_y:start_y + im_height, start_x:start_x + im_width] = img\n",
    "\n",
    "\trot_angle = random.uniform(-179, 180)\n",
    "\tcenter = (diagonal_size // 2, diagonal_size // 2)\n",
    "\trot_matrix = cv2.getRotationMatrix2D(center, rot_angle, 1.0)\n",
    "\trot_img = cv2.warpAffine(rot_canvas, rot_matrix, (diagonal_size, diagonal_size), borderValue=(255, 255, 255))\n",
    "\n",
    "\tcard_x = (width - diagonal_size) // 2\n",
    "\tcard_y = (height - diagonal_size) // 2\n",
    "\tcard[card_y:card_y+diagonal_size, card_x:card_x+diagonal_size] = rot_img\n",
    "\n",
    "\tcorners = np.array([\n",
    "\t\t[start_x, start_y],\n",
    "\t\t[start_x + im_width, start_y],\n",
    "\t\t[start_x + im_width, start_y + im_height],\n",
    "\t\t[start_x, start_y + im_height]\n",
    "\t], dtype=np.float32)\n",
    "\n",
    "\tones = np.ones((corners.shape[0], 1))\n",
    "\tcorners_homo = np.hstack([corners, ones])\n",
    "\trotated_corners = (rot_matrix @ corners_homo.T).T\n",
    "\n",
    "\tx_min, y_min = rotated_corners.min(axis=0)\n",
    "\tx_max, y_max = rotated_corners.max(axis=0)\n",
    "\n",
    "\tbbox_cx = (x_min + x_max) / 2 / diagonal_size\n",
    "\tbbox_cy = (y_min + y_max) / 2 / diagonal_size\n",
    "\tbbox_w = (x_max - x_min) / diagonal_size\n",
    "\tbbox_h = (y_max - y_min) / diagonal_size\n",
    "\n",
    "\tnorm_corners = []\n",
    "\tfor x, y in rotated_corners:\n",
    "\t\tnorm_corners.extend([x / diagonal_size, y / diagonal_size, 2])\n",
    "\n",
    "\tlabel = [0, bbox_cx, bbox_cy, bbox_w, bbox_h] + norm_corners\n",
    "\n",
    "\treturn card, label\n",
    "\n",
    "def get_cards_labels(image_paths, num, im_width, im_height, output_path, starting_idx=0):\n",
    "\toutput_path = Path(output_path)\n",
    "\timages_path = \"images\" / output_path\n",
    "\tlabels_path = \"labels\" / output_path\n",
    "\timages_path.mkdir(parents=True, exist_ok=True)\n",
    "\tlabels_path.mkdir(parents=True, exist_ok=True)\n",
    "\tcards = []\n",
    "\n",
    "\trandom.shuffle(image_paths)\n",
    "    \n",
    "\tfor i in range(starting_idx, starting_idx+num):\n",
    "\t\tcard, label = populate_card_labels_v3(\n",
    "\t\t\timage_paths[i],\n",
    "\t\t\tim_width=im_width,\n",
    "\t\t\tim_height=im_height\n",
    "\t\t)\n",
    "\n",
    "\t\tfilename = f\"card_{i+1}\"\n",
    "\t\timage_file = images_path / f\"{filename}.jpg\"\n",
    "\t\tlabel_file = labels_path / f\"{filename}.txt\"\n",
    "        \n",
    "\t\tcard_bgr = cv2.cvtColor(card, cv2.COLOR_RGB2BGR)\n",
    "\t\tcv2.imwrite(str(image_file), card_bgr)\n",
    "        \n",
    "\t\tlabel_line = \" \".join(f\"{v:.6f}\" if isinstance(v, float) else str(v) for v in label)\n",
    "\n",
    "\t\twith open(label_file, \"w\") as f:\n",
    "\t\t\tf.write(label_line)\n",
    "\n",
    "\t\tcards.append({\"filename\": f\"{filename}.jpg\", \"label\": label})\n",
    "    \n",
    "\treturn cards"
   ]
  },
  {
   "cell_type": "code",
   "execution_count": 24,
   "id": "d30162b1",
   "metadata": {},
   "outputs": [],
   "source": [
    "for i in ['train_v3', 'valid_v3', 'test_v3']:\n",
    "\tfor j, k in zip([250, 200, 150, 175, 275], [0, 500, 1000, 1500, 2000]):\n",
    "\t\tcards = get_cards_labels(image_paths, num=500, im_width=j, im_height=j, output_path=i, starting_idx=k)"
   ]
  },
  {
   "cell_type": "code",
   "execution_count": 11,
   "id": "a9949717",
   "metadata": {},
   "outputs": [],
   "source": [
    "model = YOLO('yolo11n.pt')  # nano\n",
    "model = YOLO('yolo11s.pt')  # small\n",
    "model = YOLO('yolo11m.pt')  # medium\n",
    "model = YOLO('yolo11l.pt')  # large\n",
    "model = YOLO('yolo11x.pt')  # extra large"
   ]
  },
  {
   "cell_type": "code",
   "execution_count": 9,
   "id": "325a5712",
   "metadata": {},
   "outputs": [
    {
     "name": "stdout",
     "output_type": "stream",
     "text": [
      "Downloading https://github.com/ultralytics/assets/releases/download/v8.3.0/yolo11x-pose.pt to 'yolo11x-pose.pt'...\n"
     ]
    },
    {
     "name": "stderr",
     "output_type": "stream",
     "text": [
      "100%|██████████| 113M/113M [00:11<00:00, 10.4MB/s] \n"
     ]
    }
   ],
   "source": [
    "#model = YOLO('yolo11n-pose.pt')  # nano\n",
    "#model = YOLO('yolo11s-pose.pt')  # small\n",
    "#model = YOLO('yolo11m-pose.pt')  # medium\n",
    "#model = YOLO('yolo11l-pose.pt')  # large\n",
    "model = YOLO('yolo11x-pose.pt')  # extra large"
   ]
  },
  {
   "cell_type": "code",
   "execution_count": 30,
   "id": "3c45c61b",
   "metadata": {},
   "outputs": [
    {
     "name": "stdout",
     "output_type": "stream",
     "text": [
      "New https://pypi.org/project/ultralytics/8.3.146 available 😃 Update with 'pip install -U ultralytics'\n",
      "Ultralytics 8.3.144 🚀 Python-3.11.9 torch-2.6.0+cu124 CUDA:0 (NVIDIA GeForce RTX 4070 Ti SUPER, 16376MiB)\n",
      "\u001b[34m\u001b[1mengine/trainer: \u001b[0magnostic_nms=False, amp=True, augment=False, auto_augment=randaugment, batch=8, bgr=0.0, box=7.5, cache=False, cfg=None, classes=None, close_mosaic=10, cls=0.5, conf=None, copy_paste=0.0, copy_paste_mode=flip, cos_lr=False, cutmix=0.0, data=person_entry.yaml, degrees=0.0, deterministic=True, device=None, dfl=1.5, dnn=False, dropout=0.0, dynamic=False, embed=None, epochs=100, erasing=0.4, exist_ok=False, fliplr=0.5, flipud=0.0, format=torchscript, fraction=1.0, freeze=None, half=False, hsv_h=0.015, hsv_s=0.7, hsv_v=0.4, imgsz=1024, int8=False, iou=0.7, keras=False, kobj=1.0, line_width=None, lr0=0.01, lrf=0.01, mask_ratio=4, max_det=300, mixup=0.0, mode=train, model=yolo11x.pt, momentum=0.937, mosaic=1.0, multi_scale=False, name=person_entry_model5, nbs=64, nms=False, opset=None, optimize=False, optimizer=auto, overlap_mask=True, patience=100, perspective=0.0, plots=True, pose=12.0, pretrained=True, profile=False, project=None, rect=False, resume=False, retina_masks=False, save=True, save_conf=False, save_crop=False, save_dir=runs/detect/person_entry_model5, save_frames=False, save_json=False, save_period=-1, save_txt=False, scale=0.5, seed=0, shear=0.0, show=False, show_boxes=True, show_conf=True, show_labels=True, simplify=True, single_cls=False, source=None, split=val, stream_buffer=False, task=detect, time=None, tracker=botsort.yaml, translate=0.1, val=True, verbose=True, vid_stride=1, visualize=False, warmup_bias_lr=0.1, warmup_epochs=3.0, warmup_momentum=0.8, weight_decay=0.0005, workers=8, workspace=None\n",
      "Overriding model.yaml nc=80 with nc=1\n",
      "\n",
      "                   from  n    params  module                                       arguments                     \n",
      "  0                  -1  1      2784  ultralytics.nn.modules.conv.Conv             [3, 96, 3, 2]                 \n",
      "  1                  -1  1    166272  ultralytics.nn.modules.conv.Conv             [96, 192, 3, 2]               \n",
      "  2                  -1  2    389760  ultralytics.nn.modules.block.C3k2            [192, 384, 2, True, 0.25]     \n",
      "  3                  -1  1   1327872  ultralytics.nn.modules.conv.Conv             [384, 384, 3, 2]              \n",
      "  4                  -1  2   1553664  ultralytics.nn.modules.block.C3k2            [384, 768, 2, True, 0.25]     \n",
      "  5                  -1  1   5309952  ultralytics.nn.modules.conv.Conv             [768, 768, 3, 2]              \n",
      "  6                  -1  2   5022720  ultralytics.nn.modules.block.C3k2            [768, 768, 2, True]           \n",
      "  7                  -1  1   5309952  ultralytics.nn.modules.conv.Conv             [768, 768, 3, 2]              \n",
      "  8                  -1  2   5022720  ultralytics.nn.modules.block.C3k2            [768, 768, 2, True]           \n",
      "  9                  -1  1   1476864  ultralytics.nn.modules.block.SPPF            [768, 768, 5]                 \n",
      " 10                  -1  2   3264768  ultralytics.nn.modules.block.C2PSA           [768, 768, 2]                 \n",
      " 11                  -1  1         0  torch.nn.modules.upsampling.Upsample         [None, 2, 'nearest']          \n",
      " 12             [-1, 6]  1         0  ultralytics.nn.modules.conv.Concat           [1]                           \n",
      " 13                  -1  2   5612544  ultralytics.nn.modules.block.C3k2            [1536, 768, 2, True]          \n",
      " 14                  -1  1         0  torch.nn.modules.upsampling.Upsample         [None, 2, 'nearest']          \n",
      " 15             [-1, 4]  1         0  ultralytics.nn.modules.conv.Concat           [1]                           \n",
      " 16                  -1  2   1700352  ultralytics.nn.modules.block.C3k2            [1536, 384, 2, True]          \n",
      " 17                  -1  1   1327872  ultralytics.nn.modules.conv.Conv             [384, 384, 3, 2]              \n",
      " 18            [-1, 13]  1         0  ultralytics.nn.modules.conv.Concat           [1]                           \n",
      " 19                  -1  2   5317632  ultralytics.nn.modules.block.C3k2            [1152, 768, 2, True]          \n",
      " 20                  -1  1   5309952  ultralytics.nn.modules.conv.Conv             [768, 768, 3, 2]              \n",
      " 21            [-1, 10]  1         0  ultralytics.nn.modules.conv.Concat           [1]                           \n",
      " 22                  -1  2   5612544  ultralytics.nn.modules.block.C3k2            [1536, 768, 2, True]          \n",
      " 23        [16, 19, 22]  1   3146707  ultralytics.nn.modules.head.Detect           [1, [384, 768, 768]]          \n",
      "YOLO11x summary: 357 layers, 56,874,931 parameters, 56,874,915 gradients, 195.4 GFLOPs\n",
      "\n",
      "Transferred 1009/1015 items from pretrained weights\n",
      "Freezing layer 'model.23.dfl.conv.weight'\n",
      "\u001b[34m\u001b[1mAMP: \u001b[0mrunning Automatic Mixed Precision (AMP) checks...\n",
      "\u001b[34m\u001b[1mAMP: \u001b[0mchecks passed ✅\n",
      "\u001b[34m\u001b[1mtrain: \u001b[0mFast image access ✅ (ping: 0.0±0.0 ms, read: 7753.7±1999.4 MB/s, size: 329.3 KB)\n"
     ]
    },
    {
     "name": "stderr",
     "output_type": "stream",
     "text": [
      "\u001b[34m\u001b[1mtrain: \u001b[0mScanning /repos/uni-si/R2S4/DNN/End_project/labels/train... 120 images, 0 backgrounds, 0 corrupt: 100%|██████████| 120/120 [00:00<00:00, 1081.81it/s]"
     ]
    },
    {
     "name": "stdout",
     "output_type": "stream",
     "text": [
      "\u001b[34m\u001b[1mtrain: \u001b[0mNew cache created: /repos/uni-si/R2S4/DNN/End_project/labels/train.cache\n",
      "\u001b[34m\u001b[1malbumentations: \u001b[0mBlur(p=0.01, blur_limit=(3, 7)), MedianBlur(p=0.01, blur_limit=(3, 7)), ToGray(p=0.01, method='weighted_average', num_output_channels=3), CLAHE(p=0.01, clip_limit=(1.0, 4.0), tile_grid_size=(8, 8))\n"
     ]
    },
    {
     "name": "stderr",
     "output_type": "stream",
     "text": [
      "\n"
     ]
    },
    {
     "name": "stdout",
     "output_type": "stream",
     "text": [
      "\u001b[34m\u001b[1mval: \u001b[0mFast image access ✅ (ping: 0.0±0.0 ms, read: 1304.3±1551.3 MB/s, size: 364.4 KB)\n"
     ]
    },
    {
     "name": "stderr",
     "output_type": "stream",
     "text": [
      "\u001b[34m\u001b[1mval: \u001b[0mScanning /repos/uni-si/R2S4/DNN/End_project/labels/valid... 120 images, 0 backgrounds, 0 corrupt: 100%|██████████| 120/120 [00:00<00:00, 982.55it/s]"
     ]
    },
    {
     "name": "stdout",
     "output_type": "stream",
     "text": [
      "\u001b[34m\u001b[1mval: \u001b[0mNew cache created: /repos/uni-si/R2S4/DNN/End_project/labels/valid.cache\n"
     ]
    },
    {
     "name": "stderr",
     "output_type": "stream",
     "text": [
      "\n"
     ]
    },
    {
     "name": "stdout",
     "output_type": "stream",
     "text": [
      "Plotting labels to runs/detect/person_entry_model5/labels.jpg... \n",
      "\u001b[34m\u001b[1moptimizer:\u001b[0m 'optimizer=auto' found, ignoring 'lr0=0.01' and 'momentum=0.937' and determining best 'optimizer', 'lr0' and 'momentum' automatically... \n",
      "\u001b[34m\u001b[1moptimizer:\u001b[0m AdamW(lr=0.002, momentum=0.9) with parameter groups 167 weight(decay=0.0), 174 weight(decay=0.0005), 173 bias(decay=0.0)\n",
      "Image sizes 1024 train, 1024 val\n",
      "Using 8 dataloader workers\n",
      "Logging results to \u001b[1mruns/detect/person_entry_model5\u001b[0m\n",
      "Starting training for 100 epochs...\n",
      "\n",
      "      Epoch    GPU_mem   box_loss   cls_loss   dfl_loss  Instances       Size\n"
     ]
    },
    {
     "name": "stderr",
     "output_type": "stream",
     "text": [
      "      1/100      36.7G      2.094      2.429      2.566        234       1024: 100%|██████████| 15/15 [06:19<00:00, 25.28s/it]\n",
      "                 Class     Images  Instances      Box(P          R      mAP50  mAP50-95): 100%|██████████| 8/8 [01:46<00:00, 13.37s/it]"
     ]
    },
    {
     "name": "stdout",
     "output_type": "stream",
     "text": [
      "                   all        120       2040      0.452       0.85      0.464       0.33\n"
     ]
    },
    {
     "name": "stderr",
     "output_type": "stream",
     "text": [
      "\n"
     ]
    },
    {
     "name": "stdout",
     "output_type": "stream",
     "text": [
      "\n",
      "      Epoch    GPU_mem   box_loss   cls_loss   dfl_loss  Instances       Size\n"
     ]
    },
    {
     "name": "stderr",
     "output_type": "stream",
     "text": [
      "      2/100      19.6G      1.013      1.243      1.427        245       1024: 100%|██████████| 15/15 [02:44<00:00, 10.94s/it]\n",
      "                 Class     Images  Instances      Box(P          R      mAP50  mAP50-95): 100%|██████████| 8/8 [01:15<00:00,  9.44s/it]"
     ]
    },
    {
     "name": "stdout",
     "output_type": "stream",
     "text": [
      "                   all        120       2040    0.00126     0.0221   0.000649   6.49e-05\n"
     ]
    },
    {
     "name": "stderr",
     "output_type": "stream",
     "text": [
      "\n"
     ]
    },
    {
     "name": "stdout",
     "output_type": "stream",
     "text": [
      "\n",
      "      Epoch    GPU_mem   box_loss   cls_loss   dfl_loss  Instances       Size\n"
     ]
    },
    {
     "name": "stderr",
     "output_type": "stream",
     "text": [
      "      3/100      19.5G       1.07     0.8237      1.415        161       1024: 100%|██████████| 15/15 [02:26<00:00,  9.76s/it]\n",
      "                 Class     Images  Instances      Box(P          R      mAP50  mAP50-95): 100%|██████████| 8/8 [01:00<00:00,  7.62s/it]"
     ]
    },
    {
     "name": "stdout",
     "output_type": "stream",
     "text": [
      "                   all        120       2040          0          0          0          0\n"
     ]
    },
    {
     "name": "stderr",
     "output_type": "stream",
     "text": [
      "\n"
     ]
    },
    {
     "name": "stdout",
     "output_type": "stream",
     "text": [
      "\n",
      "      Epoch    GPU_mem   box_loss   cls_loss   dfl_loss  Instances       Size\n"
     ]
    },
    {
     "name": "stderr",
     "output_type": "stream",
     "text": [
      "      4/100      19.6G     0.9679     0.7604      1.355        235       1024: 100%|██████████| 15/15 [01:57<00:00,  7.81s/it]\n",
      "                 Class     Images  Instances      Box(P          R      mAP50  mAP50-95): 100%|██████████| 8/8 [00:26<00:00,  3.35s/it]"
     ]
    },
    {
     "name": "stdout",
     "output_type": "stream",
     "text": [
      "                   all        120       2040          0          0          0          0\n"
     ]
    },
    {
     "name": "stderr",
     "output_type": "stream",
     "text": [
      "\n"
     ]
    },
    {
     "name": "stdout",
     "output_type": "stream",
     "text": [
      "\n",
      "      Epoch    GPU_mem   box_loss   cls_loss   dfl_loss  Instances       Size\n"
     ]
    },
    {
     "name": "stderr",
     "output_type": "stream",
     "text": [
      "      5/100      19.3G      0.884     0.6571      1.297        200       1024: 100%|██████████| 15/15 [01:50<00:00,  7.36s/it]\n",
      "                 Class     Images  Instances      Box(P          R      mAP50  mAP50-95): 100%|██████████| 8/8 [00:31<00:00,  3.98s/it]"
     ]
    },
    {
     "name": "stdout",
     "output_type": "stream",
     "text": [
      "                   all        120       2040          0          0          0          0\n"
     ]
    },
    {
     "name": "stderr",
     "output_type": "stream",
     "text": [
      "\n"
     ]
    },
    {
     "name": "stdout",
     "output_type": "stream",
     "text": [
      "\n",
      "      Epoch    GPU_mem   box_loss   cls_loss   dfl_loss  Instances       Size\n"
     ]
    },
    {
     "name": "stderr",
     "output_type": "stream",
     "text": [
      "      6/100      19.6G     0.8722     0.6347      1.334        187       1024: 100%|██████████| 15/15 [01:35<00:00,  6.39s/it]\n",
      "                 Class     Images  Instances      Box(P          R      mAP50  mAP50-95): 100%|██████████| 8/8 [00:27<00:00,  3.42s/it]"
     ]
    },
    {
     "name": "stdout",
     "output_type": "stream",
     "text": [
      "                   all        120       2040          0          0          0          0\n"
     ]
    },
    {
     "name": "stderr",
     "output_type": "stream",
     "text": [
      "\n"
     ]
    },
    {
     "name": "stdout",
     "output_type": "stream",
     "text": [
      "\n",
      "      Epoch    GPU_mem   box_loss   cls_loss   dfl_loss  Instances       Size\n"
     ]
    },
    {
     "name": "stderr",
     "output_type": "stream",
     "text": [
      "      7/100      19.6G     0.9144     0.8017      1.331        179       1024: 100%|██████████| 15/15 [02:03<00:00,  8.20s/it]\n",
      "                 Class     Images  Instances      Box(P          R      mAP50  mAP50-95): 100%|██████████| 8/8 [00:39<00:00,  4.96s/it]"
     ]
    },
    {
     "name": "stdout",
     "output_type": "stream",
     "text": [
      "                   all        120       2040       0.03      0.529     0.0243     0.0115\n"
     ]
    },
    {
     "name": "stderr",
     "output_type": "stream",
     "text": [
      "\n"
     ]
    },
    {
     "name": "stdout",
     "output_type": "stream",
     "text": [
      "\n",
      "      Epoch    GPU_mem   box_loss   cls_loss   dfl_loss  Instances       Size\n"
     ]
    },
    {
     "name": "stderr",
     "output_type": "stream",
     "text": [
      "      8/100      19.6G     0.8268     0.6917      1.248        267       1024: 100%|██████████| 15/15 [02:03<00:00,  8.25s/it]\n",
      "                 Class     Images  Instances      Box(P          R      mAP50  mAP50-95): 100%|██████████| 8/8 [00:48<00:00,  6.00s/it]"
     ]
    },
    {
     "name": "stdout",
     "output_type": "stream",
     "text": [
      "                   all        120       2040          0          0          0          0\n"
     ]
    },
    {
     "name": "stderr",
     "output_type": "stream",
     "text": [
      "\n"
     ]
    },
    {
     "name": "stdout",
     "output_type": "stream",
     "text": [
      "\n",
      "      Epoch    GPU_mem   box_loss   cls_loss   dfl_loss  Instances       Size\n"
     ]
    },
    {
     "name": "stderr",
     "output_type": "stream",
     "text": [
      "      9/100      19.6G     0.7426     0.6656      1.201        196       1024: 100%|██████████| 15/15 [01:56<00:00,  7.78s/it]\n",
      "                 Class     Images  Instances      Box(P          R      mAP50  mAP50-95): 100%|██████████| 8/8 [00:40<00:00,  5.03s/it]"
     ]
    },
    {
     "name": "stdout",
     "output_type": "stream",
     "text": [
      "                   all        120       2040    0.00699    0.00049     0.0035     0.0007\n"
     ]
    },
    {
     "name": "stderr",
     "output_type": "stream",
     "text": [
      "\n"
     ]
    },
    {
     "name": "stdout",
     "output_type": "stream",
     "text": [
      "\n",
      "      Epoch    GPU_mem   box_loss   cls_loss   dfl_loss  Instances       Size\n"
     ]
    },
    {
     "name": "stderr",
     "output_type": "stream",
     "text": [
      "     10/100      19.6G      0.866     0.5944      1.293        287       1024: 100%|██████████| 15/15 [01:45<00:00,  7.02s/it]\n",
      "                 Class     Images  Instances      Box(P          R      mAP50  mAP50-95): 100%|██████████| 8/8 [00:31<00:00,  3.95s/it]"
     ]
    },
    {
     "name": "stdout",
     "output_type": "stream",
     "text": [
      "                   all        120       2040      0.165      0.289      0.128       0.04\n"
     ]
    },
    {
     "name": "stderr",
     "output_type": "stream",
     "text": [
      "\n"
     ]
    },
    {
     "name": "stdout",
     "output_type": "stream",
     "text": [
      "\n",
      "      Epoch    GPU_mem   box_loss   cls_loss   dfl_loss  Instances       Size\n"
     ]
    },
    {
     "name": "stderr",
     "output_type": "stream",
     "text": [
      "     11/100      19.6G      0.788     0.5502      1.211        206       1024: 100%|██████████| 15/15 [01:55<00:00,  7.70s/it]\n",
      "                 Class     Images  Instances      Box(P          R      mAP50  mAP50-95): 100%|██████████| 8/8 [00:39<00:00,  4.97s/it]"
     ]
    },
    {
     "name": "stdout",
     "output_type": "stream",
     "text": [
      "                   all        120       2040          0          0          0          0\n"
     ]
    },
    {
     "name": "stderr",
     "output_type": "stream",
     "text": [
      "\n"
     ]
    },
    {
     "name": "stdout",
     "output_type": "stream",
     "text": [
      "\n",
      "      Epoch    GPU_mem   box_loss   cls_loss   dfl_loss  Instances       Size\n"
     ]
    },
    {
     "name": "stderr",
     "output_type": "stream",
     "text": [
      "     12/100      19.6G     0.7103      0.521      1.139        268       1024: 100%|██████████| 15/15 [01:53<00:00,  7.55s/it]\n",
      "                 Class     Images  Instances      Box(P          R      mAP50  mAP50-95): 100%|██████████| 8/8 [00:46<00:00,  5.82s/it]"
     ]
    },
    {
     "name": "stdout",
     "output_type": "stream",
     "text": [
      "                   all        120       2040      0.454      0.435       0.39      0.262\n"
     ]
    },
    {
     "name": "stderr",
     "output_type": "stream",
     "text": [
      "\n"
     ]
    },
    {
     "name": "stdout",
     "output_type": "stream",
     "text": [
      "\n",
      "      Epoch    GPU_mem   box_loss   cls_loss   dfl_loss  Instances       Size\n"
     ]
    },
    {
     "name": "stderr",
     "output_type": "stream",
     "text": [
      "     13/100      19.6G     0.6224     0.4431      1.089        262       1024: 100%|██████████| 15/15 [02:10<00:00,  8.73s/it]\n",
      "                 Class     Images  Instances      Box(P          R      mAP50  mAP50-95): 100%|██████████| 8/8 [00:37<00:00,  4.69s/it]"
     ]
    },
    {
     "name": "stdout",
     "output_type": "stream",
     "text": [
      "                   all        120       2040      0.992       0.98      0.994      0.883\n"
     ]
    },
    {
     "name": "stderr",
     "output_type": "stream",
     "text": [
      "\n"
     ]
    },
    {
     "name": "stdout",
     "output_type": "stream",
     "text": [
      "\n",
      "      Epoch    GPU_mem   box_loss   cls_loss   dfl_loss  Instances       Size\n"
     ]
    },
    {
     "name": "stderr",
     "output_type": "stream",
     "text": [
      "     14/100      19.4G     0.6062     0.4485      1.088        219       1024: 100%|██████████| 15/15 [01:49<00:00,  7.33s/it]\n",
      "                 Class     Images  Instances      Box(P          R      mAP50  mAP50-95): 100%|██████████| 8/8 [00:25<00:00,  3.17s/it]"
     ]
    },
    {
     "name": "stdout",
     "output_type": "stream",
     "text": [
      "                   all        120       2040      0.954      0.978       0.99      0.898\n"
     ]
    },
    {
     "name": "stderr",
     "output_type": "stream",
     "text": [
      "\n"
     ]
    },
    {
     "name": "stdout",
     "output_type": "stream",
     "text": [
      "\n",
      "      Epoch    GPU_mem   box_loss   cls_loss   dfl_loss  Instances       Size\n"
     ]
    },
    {
     "name": "stderr",
     "output_type": "stream",
     "text": [
      "     15/100      19.6G     0.5894     0.4149      1.074        234       1024: 100%|██████████| 15/15 [01:47<00:00,  7.19s/it]\n",
      "                 Class     Images  Instances      Box(P          R      mAP50  mAP50-95): 100%|██████████| 8/8 [00:45<00:00,  5.70s/it]"
     ]
    },
    {
     "name": "stdout",
     "output_type": "stream",
     "text": [
      "                   all        120       2040      0.731      0.947      0.856      0.728\n"
     ]
    },
    {
     "name": "stderr",
     "output_type": "stream",
     "text": [
      "\n"
     ]
    },
    {
     "name": "stdout",
     "output_type": "stream",
     "text": [
      "\n",
      "      Epoch    GPU_mem   box_loss   cls_loss   dfl_loss  Instances       Size\n"
     ]
    },
    {
     "name": "stderr",
     "output_type": "stream",
     "text": [
      "     16/100      19.6G     0.5556     0.3863      1.057        146       1024: 100%|██████████| 15/15 [01:55<00:00,  7.68s/it]\n",
      "                 Class     Images  Instances      Box(P          R      mAP50  mAP50-95): 100%|██████████| 8/8 [00:48<00:00,  6.02s/it]"
     ]
    },
    {
     "name": "stdout",
     "output_type": "stream",
     "text": [
      "                   all        120       2040      0.949      0.958      0.982       0.81\n"
     ]
    },
    {
     "name": "stderr",
     "output_type": "stream",
     "text": [
      "\n"
     ]
    },
    {
     "name": "stdout",
     "output_type": "stream",
     "text": [
      "\n",
      "      Epoch    GPU_mem   box_loss   cls_loss   dfl_loss  Instances       Size\n"
     ]
    },
    {
     "name": "stderr",
     "output_type": "stream",
     "text": [
      "     17/100      19.6G     0.5337     0.3722      1.044        311       1024: 100%|██████████| 15/15 [01:52<00:00,  7.49s/it]\n",
      "                 Class     Images  Instances      Box(P          R      mAP50  mAP50-95): 100%|██████████| 8/8 [00:43<00:00,  5.48s/it]"
     ]
    },
    {
     "name": "stdout",
     "output_type": "stream",
     "text": [
      "                   all        120       2040      0.506      0.173      0.199       0.17\n"
     ]
    },
    {
     "name": "stderr",
     "output_type": "stream",
     "text": [
      "\n"
     ]
    },
    {
     "name": "stdout",
     "output_type": "stream",
     "text": [
      "\n",
      "      Epoch    GPU_mem   box_loss   cls_loss   dfl_loss  Instances       Size\n"
     ]
    },
    {
     "name": "stderr",
     "output_type": "stream",
     "text": [
      "     18/100      19.6G     0.4947     0.3524      1.015        221       1024: 100%|██████████| 15/15 [02:02<00:00,  8.16s/it]\n",
      "                 Class     Images  Instances      Box(P          R      mAP50  mAP50-95): 100%|██████████| 8/8 [00:56<00:00,  7.05s/it]"
     ]
    },
    {
     "name": "stdout",
     "output_type": "stream",
     "text": [
      "                   all        120       2040      0.917       0.75      0.843      0.685\n"
     ]
    },
    {
     "name": "stderr",
     "output_type": "stream",
     "text": [
      "\n"
     ]
    },
    {
     "name": "stdout",
     "output_type": "stream",
     "text": [
      "\n",
      "      Epoch    GPU_mem   box_loss   cls_loss   dfl_loss  Instances       Size\n"
     ]
    },
    {
     "name": "stderr",
     "output_type": "stream",
     "text": [
      "     19/100      19.5G     0.5129     0.3606      1.009        286       1024: 100%|██████████| 15/15 [01:58<00:00,  7.88s/it]\n",
      "                 Class     Images  Instances      Box(P          R      mAP50  mAP50-95): 100%|██████████| 8/8 [00:37<00:00,  4.63s/it]"
     ]
    },
    {
     "name": "stdout",
     "output_type": "stream",
     "text": [
      "                   all        120       2040      0.527       0.48      0.577      0.412\n"
     ]
    },
    {
     "name": "stderr",
     "output_type": "stream",
     "text": [
      "\n"
     ]
    },
    {
     "name": "stdout",
     "output_type": "stream",
     "text": [
      "\n",
      "      Epoch    GPU_mem   box_loss   cls_loss   dfl_loss  Instances       Size\n"
     ]
    },
    {
     "name": "stderr",
     "output_type": "stream",
     "text": [
      "     20/100      19.6G      0.504     0.3662      1.013        237       1024: 100%|██████████| 15/15 [01:41<00:00,  6.80s/it]\n",
      "                 Class     Images  Instances      Box(P          R      mAP50  mAP50-95): 100%|██████████| 8/8 [00:32<00:00,  4.03s/it]"
     ]
    },
    {
     "name": "stdout",
     "output_type": "stream",
     "text": [
      "                   all        120       2040      0.834      0.516      0.701      0.513\n"
     ]
    },
    {
     "name": "stderr",
     "output_type": "stream",
     "text": [
      "\n"
     ]
    },
    {
     "name": "stdout",
     "output_type": "stream",
     "text": [
      "\n",
      "      Epoch    GPU_mem   box_loss   cls_loss   dfl_loss  Instances       Size\n"
     ]
    },
    {
     "name": "stderr",
     "output_type": "stream",
     "text": [
      "     21/100      19.6G     0.4605     0.3352     0.9839        214       1024: 100%|██████████| 15/15 [01:36<00:00,  6.41s/it]\n",
      "                 Class     Images  Instances      Box(P          R      mAP50  mAP50-95): 100%|██████████| 8/8 [00:28<00:00,  3.55s/it]"
     ]
    },
    {
     "name": "stdout",
     "output_type": "stream",
     "text": [
      "                   all        120       2040       0.23      0.261      0.174     0.0556\n"
     ]
    },
    {
     "name": "stderr",
     "output_type": "stream",
     "text": [
      "\n"
     ]
    },
    {
     "name": "stdout",
     "output_type": "stream",
     "text": [
      "\n",
      "      Epoch    GPU_mem   box_loss   cls_loss   dfl_loss  Instances       Size\n"
     ]
    },
    {
     "name": "stderr",
     "output_type": "stream",
     "text": [
      "     22/100      19.4G     0.4492     0.3282     0.9855        235       1024: 100%|██████████| 15/15 [02:04<00:00,  8.27s/it]\n",
      "                 Class     Images  Instances      Box(P          R      mAP50  mAP50-95): 100%|██████████| 8/8 [00:47<00:00,  5.89s/it]"
     ]
    },
    {
     "name": "stdout",
     "output_type": "stream",
     "text": [
      "                   all        120       2040      0.871       0.68      0.819      0.652\n"
     ]
    },
    {
     "name": "stderr",
     "output_type": "stream",
     "text": [
      "\n"
     ]
    },
    {
     "name": "stdout",
     "output_type": "stream",
     "text": [
      "\n",
      "      Epoch    GPU_mem   box_loss   cls_loss   dfl_loss  Instances       Size\n"
     ]
    },
    {
     "name": "stderr",
     "output_type": "stream",
     "text": [
      "     23/100      19.5G     0.4062     0.3023     0.9408        199       1024: 100%|██████████| 15/15 [01:53<00:00,  7.60s/it]\n",
      "                 Class     Images  Instances      Box(P          R      mAP50  mAP50-95): 100%|██████████| 8/8 [00:25<00:00,  3.13s/it]"
     ]
    },
    {
     "name": "stdout",
     "output_type": "stream",
     "text": [
      "                   all        120       2040          1      0.999      0.995      0.923\n"
     ]
    },
    {
     "name": "stderr",
     "output_type": "stream",
     "text": [
      "\n"
     ]
    },
    {
     "name": "stdout",
     "output_type": "stream",
     "text": [
      "\n",
      "      Epoch    GPU_mem   box_loss   cls_loss   dfl_loss  Instances       Size\n"
     ]
    },
    {
     "name": "stderr",
     "output_type": "stream",
     "text": [
      "     24/100      19.6G     0.4076      0.303     0.9569        250       1024: 100%|██████████| 15/15 [01:41<00:00,  6.77s/it]\n",
      "                 Class     Images  Instances      Box(P          R      mAP50  mAP50-95): 100%|██████████| 8/8 [00:46<00:00,  5.79s/it]"
     ]
    },
    {
     "name": "stdout",
     "output_type": "stream",
     "text": [
      "                   all        120       2040          1          1      0.995      0.948\n"
     ]
    },
    {
     "name": "stderr",
     "output_type": "stream",
     "text": [
      "\n"
     ]
    },
    {
     "name": "stdout",
     "output_type": "stream",
     "text": [
      "\n",
      "      Epoch    GPU_mem   box_loss   cls_loss   dfl_loss  Instances       Size\n"
     ]
    },
    {
     "name": "stderr",
     "output_type": "stream",
     "text": [
      "     25/100      19.6G     0.3685     0.2768     0.9249        202       1024: 100%|██████████| 15/15 [01:50<00:00,  7.35s/it]\n",
      "                 Class     Images  Instances      Box(P          R      mAP50  mAP50-95): 100%|██████████| 8/8 [00:40<00:00,  5.04s/it]"
     ]
    },
    {
     "name": "stdout",
     "output_type": "stream",
     "text": [
      "                   all        120       2040          1          1      0.995      0.967\n"
     ]
    },
    {
     "name": "stderr",
     "output_type": "stream",
     "text": [
      "\n"
     ]
    },
    {
     "name": "stdout",
     "output_type": "stream",
     "text": [
      "\n",
      "      Epoch    GPU_mem   box_loss   cls_loss   dfl_loss  Instances       Size\n"
     ]
    },
    {
     "name": "stderr",
     "output_type": "stream",
     "text": [
      "     26/100      19.6G     0.3791      0.283      0.956        238       1024: 100%|██████████| 15/15 [02:09<00:00,  8.63s/it]\n",
      "                 Class     Images  Instances      Box(P          R      mAP50  mAP50-95): 100%|██████████| 8/8 [00:47<00:00,  5.88s/it]"
     ]
    },
    {
     "name": "stdout",
     "output_type": "stream",
     "text": [
      "                   all        120       2040      0.287      0.305      0.235      0.117\n"
     ]
    },
    {
     "name": "stderr",
     "output_type": "stream",
     "text": [
      "\n"
     ]
    },
    {
     "name": "stdout",
     "output_type": "stream",
     "text": [
      "\n",
      "      Epoch    GPU_mem   box_loss   cls_loss   dfl_loss  Instances       Size\n"
     ]
    },
    {
     "name": "stderr",
     "output_type": "stream",
     "text": [
      "     27/100      19.6G     0.3471     0.2771     0.9344        182       1024: 100%|██████████| 15/15 [01:35<00:00,  6.35s/it]\n",
      "                 Class     Images  Instances      Box(P          R      mAP50  mAP50-95): 100%|██████████| 8/8 [00:39<00:00,  4.92s/it]"
     ]
    },
    {
     "name": "stdout",
     "output_type": "stream",
     "text": [
      "                   all        120       2040      0.164      0.134     0.0681     0.0234\n"
     ]
    },
    {
     "name": "stderr",
     "output_type": "stream",
     "text": [
      "\n"
     ]
    },
    {
     "name": "stdout",
     "output_type": "stream",
     "text": [
      "\n",
      "      Epoch    GPU_mem   box_loss   cls_loss   dfl_loss  Instances       Size\n"
     ]
    },
    {
     "name": "stderr",
     "output_type": "stream",
     "text": [
      "     28/100      19.5G     0.3527     0.2686     0.9401        290       1024: 100%|██████████| 15/15 [01:37<00:00,  6.51s/it]\n",
      "                 Class     Images  Instances      Box(P          R      mAP50  mAP50-95): 100%|██████████| 8/8 [00:43<00:00,  5.40s/it]"
     ]
    },
    {
     "name": "stdout",
     "output_type": "stream",
     "text": [
      "                   all        120       2040      0.999      0.995      0.995      0.924\n"
     ]
    },
    {
     "name": "stderr",
     "output_type": "stream",
     "text": [
      "\n"
     ]
    },
    {
     "name": "stdout",
     "output_type": "stream",
     "text": [
      "\n",
      "      Epoch    GPU_mem   box_loss   cls_loss   dfl_loss  Instances       Size\n"
     ]
    },
    {
     "name": "stderr",
     "output_type": "stream",
     "text": [
      "     29/100      19.5G     0.3336     0.2539     0.9195        211       1024: 100%|██████████| 15/15 [01:41<00:00,  6.74s/it]\n",
      "                 Class     Images  Instances      Box(P          R      mAP50  mAP50-95): 100%|██████████| 8/8 [00:28<00:00,  3.60s/it]"
     ]
    },
    {
     "name": "stdout",
     "output_type": "stream",
     "text": [
      "                   all        120       2040          1      0.999      0.995      0.983\n"
     ]
    },
    {
     "name": "stderr",
     "output_type": "stream",
     "text": [
      "\n"
     ]
    },
    {
     "name": "stdout",
     "output_type": "stream",
     "text": [
      "\n",
      "      Epoch    GPU_mem   box_loss   cls_loss   dfl_loss  Instances       Size\n"
     ]
    },
    {
     "name": "stderr",
     "output_type": "stream",
     "text": [
      "     30/100      19.4G     0.3493     0.2603     0.9268        225       1024: 100%|██████████| 15/15 [01:41<00:00,  6.75s/it]\n",
      "                 Class     Images  Instances      Box(P          R      mAP50  mAP50-95): 100%|██████████| 8/8 [00:28<00:00,  3.57s/it]"
     ]
    },
    {
     "name": "stdout",
     "output_type": "stream",
     "text": [
      "                   all        120       2040          1          1      0.995      0.985\n"
     ]
    },
    {
     "name": "stderr",
     "output_type": "stream",
     "text": [
      "\n"
     ]
    },
    {
     "name": "stdout",
     "output_type": "stream",
     "text": [
      "\n",
      "      Epoch    GPU_mem   box_loss   cls_loss   dfl_loss  Instances       Size\n"
     ]
    },
    {
     "name": "stderr",
     "output_type": "stream",
     "text": [
      "     31/100      19.6G      0.352     0.2526     0.9049        313       1024: 100%|██████████| 15/15 [01:55<00:00,  7.73s/it]\n",
      "                 Class     Images  Instances      Box(P          R      mAP50  mAP50-95): 100%|██████████| 8/8 [00:42<00:00,  5.36s/it]"
     ]
    },
    {
     "name": "stdout",
     "output_type": "stream",
     "text": [
      "                   all        120       2040          1          1      0.995      0.978\n"
     ]
    },
    {
     "name": "stderr",
     "output_type": "stream",
     "text": [
      "\n"
     ]
    },
    {
     "name": "stdout",
     "output_type": "stream",
     "text": [
      "\n",
      "      Epoch    GPU_mem   box_loss   cls_loss   dfl_loss  Instances       Size\n"
     ]
    },
    {
     "name": "stderr",
     "output_type": "stream",
     "text": [
      "     32/100      19.6G     0.3578      0.258     0.9262        182       1024: 100%|██████████| 15/15 [01:40<00:00,  6.73s/it]\n",
      "                 Class     Images  Instances      Box(P          R      mAP50  mAP50-95): 100%|██████████| 8/8 [00:29<00:00,  3.72s/it]"
     ]
    },
    {
     "name": "stdout",
     "output_type": "stream",
     "text": [
      "                   all        120       2040          1      0.999      0.995      0.991\n"
     ]
    },
    {
     "name": "stderr",
     "output_type": "stream",
     "text": [
      "\n"
     ]
    },
    {
     "name": "stdout",
     "output_type": "stream",
     "text": [
      "\n",
      "      Epoch    GPU_mem   box_loss   cls_loss   dfl_loss  Instances       Size\n"
     ]
    },
    {
     "name": "stderr",
     "output_type": "stream",
     "text": [
      "     33/100      19.6G     0.4004     0.2664     0.9503        213       1024: 100%|██████████| 15/15 [01:59<00:00,  7.94s/it]\n",
      "                 Class     Images  Instances      Box(P          R      mAP50  mAP50-95): 100%|██████████| 8/8 [00:39<00:00,  4.95s/it]"
     ]
    },
    {
     "name": "stdout",
     "output_type": "stream",
     "text": [
      "                   all        120       2040          1          1      0.995      0.985\n"
     ]
    },
    {
     "name": "stderr",
     "output_type": "stream",
     "text": [
      "\n"
     ]
    },
    {
     "name": "stdout",
     "output_type": "stream",
     "text": [
      "\n",
      "      Epoch    GPU_mem   box_loss   cls_loss   dfl_loss  Instances       Size\n"
     ]
    },
    {
     "name": "stderr",
     "output_type": "stream",
     "text": [
      "     34/100      19.6G     0.3727     0.2572     0.9234        206       1024: 100%|██████████| 15/15 [01:55<00:00,  7.68s/it]\n",
      "                 Class     Images  Instances      Box(P          R      mAP50  mAP50-95): 100%|██████████| 8/8 [00:29<00:00,  3.73s/it]"
     ]
    },
    {
     "name": "stdout",
     "output_type": "stream",
     "text": [
      "                   all        120       2040          1          1      0.995       0.99\n"
     ]
    },
    {
     "name": "stderr",
     "output_type": "stream",
     "text": [
      "\n"
     ]
    },
    {
     "name": "stdout",
     "output_type": "stream",
     "text": [
      "\n",
      "      Epoch    GPU_mem   box_loss   cls_loss   dfl_loss  Instances       Size\n"
     ]
    },
    {
     "name": "stderr",
     "output_type": "stream",
     "text": [
      "     35/100      19.5G     0.3568     0.2507     0.9418        206       1024: 100%|██████████| 15/15 [01:46<00:00,  7.13s/it]\n",
      "                 Class     Images  Instances      Box(P          R      mAP50  mAP50-95): 100%|██████████| 8/8 [00:34<00:00,  4.26s/it]"
     ]
    },
    {
     "name": "stdout",
     "output_type": "stream",
     "text": [
      "                   all        120       2040      0.996      0.993      0.995      0.982\n"
     ]
    },
    {
     "name": "stderr",
     "output_type": "stream",
     "text": [
      "\n"
     ]
    },
    {
     "name": "stdout",
     "output_type": "stream",
     "text": [
      "\n",
      "      Epoch    GPU_mem   box_loss   cls_loss   dfl_loss  Instances       Size\n"
     ]
    },
    {
     "name": "stderr",
     "output_type": "stream",
     "text": [
      "     36/100      19.6G     0.3282     0.2371     0.8966        301       1024: 100%|██████████| 15/15 [01:48<00:00,  7.22s/it]\n",
      "                 Class     Images  Instances      Box(P          R      mAP50  mAP50-95): 100%|██████████| 8/8 [00:46<00:00,  5.84s/it]"
     ]
    },
    {
     "name": "stdout",
     "output_type": "stream",
     "text": [
      "                   all        120       2040      0.876      0.589      0.743      0.657\n"
     ]
    },
    {
     "name": "stderr",
     "output_type": "stream",
     "text": [
      "\n"
     ]
    },
    {
     "name": "stdout",
     "output_type": "stream",
     "text": [
      "\n",
      "      Epoch    GPU_mem   box_loss   cls_loss   dfl_loss  Instances       Size\n"
     ]
    },
    {
     "name": "stderr",
     "output_type": "stream",
     "text": [
      "     37/100      19.6G     0.3276     0.2401     0.9221        167       1024: 100%|██████████| 15/15 [01:47<00:00,  7.15s/it]\n",
      "                 Class     Images  Instances      Box(P          R      mAP50  mAP50-95): 100%|██████████| 8/8 [00:34<00:00,  4.33s/it]"
     ]
    },
    {
     "name": "stdout",
     "output_type": "stream",
     "text": [
      "                   all        120       2040       0.29      0.404      0.358      0.253\n"
     ]
    },
    {
     "name": "stderr",
     "output_type": "stream",
     "text": [
      "\n"
     ]
    },
    {
     "name": "stdout",
     "output_type": "stream",
     "text": [
      "\n",
      "      Epoch    GPU_mem   box_loss   cls_loss   dfl_loss  Instances       Size\n"
     ]
    },
    {
     "name": "stderr",
     "output_type": "stream",
     "text": [
      "     38/100      19.4G     0.3153     0.2368     0.8996        247       1024: 100%|██████████| 15/15 [02:05<00:00,  8.36s/it]\n",
      "                 Class     Images  Instances      Box(P          R      mAP50  mAP50-95): 100%|██████████| 8/8 [00:32<00:00,  4.12s/it]"
     ]
    },
    {
     "name": "stdout",
     "output_type": "stream",
     "text": [
      "                   all        120       2040      0.295      0.147      0.198     0.0772\n"
     ]
    },
    {
     "name": "stderr",
     "output_type": "stream",
     "text": [
      "\n"
     ]
    },
    {
     "name": "stdout",
     "output_type": "stream",
     "text": [
      "\n",
      "      Epoch    GPU_mem   box_loss   cls_loss   dfl_loss  Instances       Size\n"
     ]
    },
    {
     "name": "stderr",
     "output_type": "stream",
     "text": [
      "     39/100      19.6G     0.3064     0.2288     0.8972        257       1024: 100%|██████████| 15/15 [02:00<00:00,  8.06s/it]\n",
      "                 Class     Images  Instances      Box(P          R      mAP50  mAP50-95): 100%|██████████| 8/8 [00:40<00:00,  5.05s/it]"
     ]
    },
    {
     "name": "stdout",
     "output_type": "stream",
     "text": [
      "                   all        120       2040      0.166     0.0789     0.0921     0.0204\n"
     ]
    },
    {
     "name": "stderr",
     "output_type": "stream",
     "text": [
      "\n"
     ]
    },
    {
     "name": "stdout",
     "output_type": "stream",
     "text": [
      "\n",
      "      Epoch    GPU_mem   box_loss   cls_loss   dfl_loss  Instances       Size\n"
     ]
    },
    {
     "name": "stderr",
     "output_type": "stream",
     "text": [
      "     40/100      19.6G     0.3146     0.2356     0.9067        180       1024: 100%|██████████| 15/15 [01:44<00:00,  6.98s/it]\n",
      "                 Class     Images  Instances      Box(P          R      mAP50  mAP50-95): 100%|██████████| 8/8 [00:44<00:00,  5.59s/it]"
     ]
    },
    {
     "name": "stdout",
     "output_type": "stream",
     "text": [
      "                   all        120       2040          1          1      0.995      0.985\n"
     ]
    },
    {
     "name": "stderr",
     "output_type": "stream",
     "text": [
      "\n"
     ]
    },
    {
     "name": "stdout",
     "output_type": "stream",
     "text": [
      "\n",
      "      Epoch    GPU_mem   box_loss   cls_loss   dfl_loss  Instances       Size\n"
     ]
    },
    {
     "name": "stderr",
     "output_type": "stream",
     "text": [
      "     41/100      19.6G      0.291     0.2229     0.8952        164       1024: 100%|██████████| 15/15 [01:55<00:00,  7.69s/it]\n",
      "                 Class     Images  Instances      Box(P          R      mAP50  mAP50-95): 100%|██████████| 8/8 [00:36<00:00,  4.52s/it]"
     ]
    },
    {
     "name": "stdout",
     "output_type": "stream",
     "text": [
      "                   all        120       2040          1          1      0.995      0.993\n"
     ]
    },
    {
     "name": "stderr",
     "output_type": "stream",
     "text": [
      "\n"
     ]
    },
    {
     "name": "stdout",
     "output_type": "stream",
     "text": [
      "\n",
      "      Epoch    GPU_mem   box_loss   cls_loss   dfl_loss  Instances       Size\n"
     ]
    },
    {
     "name": "stderr",
     "output_type": "stream",
     "text": [
      "     42/100      19.5G     0.2918     0.2222     0.8858        216       1024: 100%|██████████| 15/15 [01:31<00:00,  6.12s/it]\n",
      "                 Class     Images  Instances      Box(P          R      mAP50  mAP50-95): 100%|██████████| 8/8 [00:33<00:00,  4.16s/it]"
     ]
    },
    {
     "name": "stdout",
     "output_type": "stream",
     "text": [
      "                   all        120       2040          1          1      0.995      0.987\n"
     ]
    },
    {
     "name": "stderr",
     "output_type": "stream",
     "text": [
      "\n"
     ]
    },
    {
     "name": "stdout",
     "output_type": "stream",
     "text": [
      "\n",
      "      Epoch    GPU_mem   box_loss   cls_loss   dfl_loss  Instances       Size\n"
     ]
    },
    {
     "name": "stderr",
     "output_type": "stream",
     "text": [
      "     43/100      19.6G      0.279     0.2198     0.8914        182       1024: 100%|██████████| 15/15 [01:53<00:00,  7.58s/it]\n",
      "                 Class     Images  Instances      Box(P          R      mAP50  mAP50-95): 100%|██████████| 8/8 [00:38<00:00,  4.86s/it]"
     ]
    },
    {
     "name": "stdout",
     "output_type": "stream",
     "text": [
      "                   all        120       2040          1          1      0.995      0.992\n"
     ]
    },
    {
     "name": "stderr",
     "output_type": "stream",
     "text": [
      "\n"
     ]
    },
    {
     "name": "stdout",
     "output_type": "stream",
     "text": [
      "\n",
      "      Epoch    GPU_mem   box_loss   cls_loss   dfl_loss  Instances       Size\n"
     ]
    },
    {
     "name": "stderr",
     "output_type": "stream",
     "text": [
      "     44/100      19.5G     0.2894     0.2226     0.9003        175       1024: 100%|██████████| 15/15 [01:47<00:00,  7.17s/it]\n",
      "                 Class     Images  Instances      Box(P          R      mAP50  mAP50-95): 100%|██████████| 8/8 [00:25<00:00,  3.14s/it]"
     ]
    },
    {
     "name": "stdout",
     "output_type": "stream",
     "text": [
      "                   all        120       2040          1      0.999      0.995      0.959\n"
     ]
    },
    {
     "name": "stderr",
     "output_type": "stream",
     "text": [
      "\n"
     ]
    },
    {
     "name": "stdout",
     "output_type": "stream",
     "text": [
      "\n",
      "      Epoch    GPU_mem   box_loss   cls_loss   dfl_loss  Instances       Size\n"
     ]
    },
    {
     "name": "stderr",
     "output_type": "stream",
     "text": [
      "     45/100      19.5G     0.3042     0.2295     0.9028        218       1024: 100%|██████████| 15/15 [01:43<00:00,  6.88s/it]\n",
      "                 Class     Images  Instances      Box(P          R      mAP50  mAP50-95): 100%|██████████| 8/8 [00:29<00:00,  3.66s/it]"
     ]
    },
    {
     "name": "stdout",
     "output_type": "stream",
     "text": [
      "                   all        120       2040          1          1      0.995      0.973\n"
     ]
    },
    {
     "name": "stderr",
     "output_type": "stream",
     "text": [
      "\n"
     ]
    },
    {
     "name": "stdout",
     "output_type": "stream",
     "text": [
      "\n",
      "      Epoch    GPU_mem   box_loss   cls_loss   dfl_loss  Instances       Size\n"
     ]
    },
    {
     "name": "stderr",
     "output_type": "stream",
     "text": [
      "     46/100      19.3G     0.2765     0.2155     0.8932        242       1024: 100%|██████████| 15/15 [01:47<00:00,  7.19s/it]\n",
      "                 Class     Images  Instances      Box(P          R      mAP50  mAP50-95): 100%|██████████| 8/8 [00:32<00:00,  4.10s/it]"
     ]
    },
    {
     "name": "stdout",
     "output_type": "stream",
     "text": [
      "                   all        120       2040          1          1      0.995      0.986\n"
     ]
    },
    {
     "name": "stderr",
     "output_type": "stream",
     "text": [
      "\n"
     ]
    },
    {
     "name": "stdout",
     "output_type": "stream",
     "text": [
      "\n",
      "      Epoch    GPU_mem   box_loss   cls_loss   dfl_loss  Instances       Size\n"
     ]
    },
    {
     "name": "stderr",
     "output_type": "stream",
     "text": [
      "     47/100      19.7G     0.2952     0.2234        0.9        184       1024: 100%|██████████| 15/15 [01:35<00:00,  6.34s/it]\n",
      "                 Class     Images  Instances      Box(P          R      mAP50  mAP50-95): 100%|██████████| 8/8 [00:30<00:00,  3.84s/it]"
     ]
    },
    {
     "name": "stdout",
     "output_type": "stream",
     "text": [
      "                   all        120       2040          1          1      0.995      0.995\n"
     ]
    },
    {
     "name": "stderr",
     "output_type": "stream",
     "text": [
      "\n"
     ]
    },
    {
     "name": "stdout",
     "output_type": "stream",
     "text": [
      "\n",
      "      Epoch    GPU_mem   box_loss   cls_loss   dfl_loss  Instances       Size\n"
     ]
    },
    {
     "name": "stderr",
     "output_type": "stream",
     "text": [
      "     48/100      19.5G     0.3097     0.2352     0.9078        168       1024: 100%|██████████| 15/15 [02:03<00:00,  8.22s/it]\n",
      "                 Class     Images  Instances      Box(P          R      mAP50  mAP50-95): 100%|██████████| 8/8 [00:29<00:00,  3.74s/it]"
     ]
    },
    {
     "name": "stdout",
     "output_type": "stream",
     "text": [
      "                   all        120       2040          1          1      0.995      0.991\n"
     ]
    },
    {
     "name": "stderr",
     "output_type": "stream",
     "text": [
      "\n"
     ]
    },
    {
     "name": "stdout",
     "output_type": "stream",
     "text": [
      "\n",
      "      Epoch    GPU_mem   box_loss   cls_loss   dfl_loss  Instances       Size\n"
     ]
    },
    {
     "name": "stderr",
     "output_type": "stream",
     "text": [
      "     49/100      19.6G      0.298     0.2208     0.8729        207       1024: 100%|██████████| 15/15 [01:44<00:00,  6.94s/it]\n",
      "                 Class     Images  Instances      Box(P          R      mAP50  mAP50-95): 100%|██████████| 8/8 [00:29<00:00,  3.74s/it]"
     ]
    },
    {
     "name": "stdout",
     "output_type": "stream",
     "text": [
      "                   all        120       2040          1          1      0.995      0.994\n"
     ]
    },
    {
     "name": "stderr",
     "output_type": "stream",
     "text": [
      "\n"
     ]
    },
    {
     "name": "stdout",
     "output_type": "stream",
     "text": [
      "\n",
      "      Epoch    GPU_mem   box_loss   cls_loss   dfl_loss  Instances       Size\n"
     ]
    },
    {
     "name": "stderr",
     "output_type": "stream",
     "text": [
      "     50/100      19.6G     0.2836     0.2096      0.877        209       1024: 100%|██████████| 15/15 [01:48<00:00,  7.23s/it]\n",
      "                 Class     Images  Instances      Box(P          R      mAP50  mAP50-95): 100%|██████████| 8/8 [00:32<00:00,  4.02s/it]"
     ]
    },
    {
     "name": "stdout",
     "output_type": "stream",
     "text": [
      "                   all        120       2040          1          1      0.995      0.991\n"
     ]
    },
    {
     "name": "stderr",
     "output_type": "stream",
     "text": [
      "\n"
     ]
    },
    {
     "name": "stdout",
     "output_type": "stream",
     "text": [
      "\n",
      "      Epoch    GPU_mem   box_loss   cls_loss   dfl_loss  Instances       Size\n"
     ]
    },
    {
     "name": "stderr",
     "output_type": "stream",
     "text": [
      "     51/100      19.5G     0.2662     0.2061       0.88        179       1024: 100%|██████████| 15/15 [01:55<00:00,  7.68s/it]\n",
      "                 Class     Images  Instances      Box(P          R      mAP50  mAP50-95): 100%|██████████| 8/8 [00:41<00:00,  5.23s/it]"
     ]
    },
    {
     "name": "stdout",
     "output_type": "stream",
     "text": [
      "                   all        120       2040          1          1      0.995      0.994\n"
     ]
    },
    {
     "name": "stderr",
     "output_type": "stream",
     "text": [
      "\n"
     ]
    },
    {
     "name": "stdout",
     "output_type": "stream",
     "text": [
      "\n",
      "      Epoch    GPU_mem   box_loss   cls_loss   dfl_loss  Instances       Size\n"
     ]
    },
    {
     "name": "stderr",
     "output_type": "stream",
     "text": [
      "     52/100      19.5G     0.2633      0.201     0.8769        254       1024: 100%|██████████| 15/15 [01:55<00:00,  7.72s/it]\n",
      "                 Class     Images  Instances      Box(P          R      mAP50  mAP50-95): 100%|██████████| 8/8 [00:33<00:00,  4.18s/it]"
     ]
    },
    {
     "name": "stdout",
     "output_type": "stream",
     "text": [
      "                   all        120       2040          1          1      0.995      0.988\n"
     ]
    },
    {
     "name": "stderr",
     "output_type": "stream",
     "text": [
      "\n"
     ]
    },
    {
     "name": "stdout",
     "output_type": "stream",
     "text": [
      "\n",
      "      Epoch    GPU_mem   box_loss   cls_loss   dfl_loss  Instances       Size\n"
     ]
    },
    {
     "name": "stderr",
     "output_type": "stream",
     "text": [
      "     53/100      19.5G     0.2828     0.2104     0.8785        159       1024: 100%|██████████| 15/15 [01:49<00:00,  7.29s/it]\n",
      "                 Class     Images  Instances      Box(P          R      mAP50  mAP50-95): 100%|██████████| 8/8 [00:33<00:00,  4.15s/it]"
     ]
    },
    {
     "name": "stdout",
     "output_type": "stream",
     "text": [
      "                   all        120       2040          1          1      0.995      0.995\n"
     ]
    },
    {
     "name": "stderr",
     "output_type": "stream",
     "text": [
      "\n"
     ]
    },
    {
     "name": "stdout",
     "output_type": "stream",
     "text": [
      "\n",
      "      Epoch    GPU_mem   box_loss   cls_loss   dfl_loss  Instances       Size\n"
     ]
    },
    {
     "name": "stderr",
     "output_type": "stream",
     "text": [
      "     54/100      19.4G     0.2511     0.1954     0.8555        219       1024: 100%|██████████| 15/15 [01:50<00:00,  7.40s/it]\n",
      "                 Class     Images  Instances      Box(P          R      mAP50  mAP50-95): 100%|██████████| 8/8 [00:30<00:00,  3.81s/it]"
     ]
    },
    {
     "name": "stdout",
     "output_type": "stream",
     "text": [
      "                   all        120       2040          1          1      0.995      0.995\n"
     ]
    },
    {
     "name": "stderr",
     "output_type": "stream",
     "text": [
      "\n"
     ]
    },
    {
     "name": "stdout",
     "output_type": "stream",
     "text": [
      "\n",
      "      Epoch    GPU_mem   box_loss   cls_loss   dfl_loss  Instances       Size\n"
     ]
    },
    {
     "name": "stderr",
     "output_type": "stream",
     "text": [
      "     55/100      19.5G      0.249     0.1942     0.8598        139       1024: 100%|██████████| 15/15 [01:36<00:00,  6.45s/it]\n",
      "                 Class     Images  Instances      Box(P          R      mAP50  mAP50-95): 100%|██████████| 8/8 [00:29<00:00,  3.74s/it]"
     ]
    },
    {
     "name": "stdout",
     "output_type": "stream",
     "text": [
      "                   all        120       2040          1          1      0.995      0.994\n"
     ]
    },
    {
     "name": "stderr",
     "output_type": "stream",
     "text": [
      "\n"
     ]
    },
    {
     "name": "stdout",
     "output_type": "stream",
     "text": [
      "\n",
      "      Epoch    GPU_mem   box_loss   cls_loss   dfl_loss  Instances       Size\n"
     ]
    },
    {
     "name": "stderr",
     "output_type": "stream",
     "text": [
      "     56/100      19.6G     0.2561      0.196     0.8668        243       1024: 100%|██████████| 15/15 [01:53<00:00,  7.57s/it]\n",
      "                 Class     Images  Instances      Box(P          R      mAP50  mAP50-95): 100%|██████████| 8/8 [00:31<00:00,  3.94s/it]"
     ]
    },
    {
     "name": "stdout",
     "output_type": "stream",
     "text": [
      "                   all        120       2040          1          1      0.995      0.993\n"
     ]
    },
    {
     "name": "stderr",
     "output_type": "stream",
     "text": [
      "\n"
     ]
    },
    {
     "name": "stdout",
     "output_type": "stream",
     "text": [
      "\n",
      "      Epoch    GPU_mem   box_loss   cls_loss   dfl_loss  Instances       Size\n"
     ]
    },
    {
     "name": "stderr",
     "output_type": "stream",
     "text": [
      "     57/100      19.5G     0.2459     0.1935     0.8753        224       1024: 100%|██████████| 15/15 [02:01<00:00,  8.11s/it]\n",
      "                 Class     Images  Instances      Box(P          R      mAP50  mAP50-95): 100%|██████████| 8/8 [00:36<00:00,  4.51s/it]"
     ]
    },
    {
     "name": "stdout",
     "output_type": "stream",
     "text": [
      "                   all        120       2040          1          1      0.995      0.995\n"
     ]
    },
    {
     "name": "stderr",
     "output_type": "stream",
     "text": [
      "\n"
     ]
    },
    {
     "name": "stdout",
     "output_type": "stream",
     "text": [
      "\n",
      "      Epoch    GPU_mem   box_loss   cls_loss   dfl_loss  Instances       Size\n"
     ]
    },
    {
     "name": "stderr",
     "output_type": "stream",
     "text": [
      "     58/100      19.6G     0.2512     0.1882     0.8732        201       1024: 100%|██████████| 15/15 [01:55<00:00,  7.70s/it]\n",
      "                 Class     Images  Instances      Box(P          R      mAP50  mAP50-95): 100%|██████████| 8/8 [00:32<00:00,  4.08s/it]"
     ]
    },
    {
     "name": "stdout",
     "output_type": "stream",
     "text": [
      "                   all        120       2040          1          1      0.995      0.995\n"
     ]
    },
    {
     "name": "stderr",
     "output_type": "stream",
     "text": [
      "\n"
     ]
    },
    {
     "name": "stdout",
     "output_type": "stream",
     "text": [
      "\n",
      "      Epoch    GPU_mem   box_loss   cls_loss   dfl_loss  Instances       Size\n"
     ]
    },
    {
     "name": "stderr",
     "output_type": "stream",
     "text": [
      "     59/100      19.5G     0.2523     0.1926      0.872        207       1024: 100%|██████████| 15/15 [01:58<00:00,  7.91s/it]\n",
      "                 Class     Images  Instances      Box(P          R      mAP50  mAP50-95): 100%|██████████| 8/8 [00:44<00:00,  5.51s/it]"
     ]
    },
    {
     "name": "stdout",
     "output_type": "stream",
     "text": [
      "                   all        120       2040          1          1      0.995      0.995\n"
     ]
    },
    {
     "name": "stderr",
     "output_type": "stream",
     "text": [
      "\n"
     ]
    },
    {
     "name": "stdout",
     "output_type": "stream",
     "text": [
      "\n",
      "      Epoch    GPU_mem   box_loss   cls_loss   dfl_loss  Instances       Size\n"
     ]
    },
    {
     "name": "stderr",
     "output_type": "stream",
     "text": [
      "     60/100      19.6G     0.2386      0.184      0.873        170       1024: 100%|██████████| 15/15 [01:57<00:00,  7.81s/it]\n",
      "                 Class     Images  Instances      Box(P          R      mAP50  mAP50-95): 100%|██████████| 8/8 [00:37<00:00,  4.74s/it]"
     ]
    },
    {
     "name": "stdout",
     "output_type": "stream",
     "text": [
      "                   all        120       2040          1          1      0.995      0.995\n"
     ]
    },
    {
     "name": "stderr",
     "output_type": "stream",
     "text": [
      "\n"
     ]
    },
    {
     "name": "stdout",
     "output_type": "stream",
     "text": [
      "\n",
      "      Epoch    GPU_mem   box_loss   cls_loss   dfl_loss  Instances       Size\n"
     ]
    },
    {
     "name": "stderr",
     "output_type": "stream",
     "text": [
      "     61/100      19.6G     0.2438      0.189     0.8632        177       1024: 100%|██████████| 15/15 [01:44<00:00,  6.95s/it]\n",
      "                 Class     Images  Instances      Box(P          R      mAP50  mAP50-95): 100%|██████████| 8/8 [00:33<00:00,  4.21s/it]"
     ]
    },
    {
     "name": "stdout",
     "output_type": "stream",
     "text": [
      "                   all        120       2040          1          1      0.995      0.995\n"
     ]
    },
    {
     "name": "stderr",
     "output_type": "stream",
     "text": [
      "\n"
     ]
    },
    {
     "name": "stdout",
     "output_type": "stream",
     "text": [
      "\n",
      "      Epoch    GPU_mem   box_loss   cls_loss   dfl_loss  Instances       Size\n"
     ]
    },
    {
     "name": "stderr",
     "output_type": "stream",
     "text": [
      "     62/100      19.4G     0.2419     0.1824     0.8519        265       1024: 100%|██████████| 15/15 [01:51<00:00,  7.46s/it]\n",
      "                 Class     Images  Instances      Box(P          R      mAP50  mAP50-95): 100%|██████████| 8/8 [00:33<00:00,  4.24s/it]"
     ]
    },
    {
     "name": "stdout",
     "output_type": "stream",
     "text": [
      "                   all        120       2040          1      0.996      0.995       0.98\n"
     ]
    },
    {
     "name": "stderr",
     "output_type": "stream",
     "text": [
      "\n"
     ]
    },
    {
     "name": "stdout",
     "output_type": "stream",
     "text": [
      "\n",
      "      Epoch    GPU_mem   box_loss   cls_loss   dfl_loss  Instances       Size\n"
     ]
    },
    {
     "name": "stderr",
     "output_type": "stream",
     "text": [
      "     63/100      19.5G     0.2241     0.1809     0.8562        254       1024: 100%|██████████| 15/15 [02:08<00:00,  8.55s/it]\n",
      "                 Class     Images  Instances      Box(P          R      mAP50  mAP50-95): 100%|██████████| 8/8 [00:42<00:00,  5.27s/it]"
     ]
    },
    {
     "name": "stdout",
     "output_type": "stream",
     "text": [
      "                   all        120       2040      0.985       0.69      0.905      0.816\n"
     ]
    },
    {
     "name": "stderr",
     "output_type": "stream",
     "text": [
      "\n"
     ]
    },
    {
     "name": "stdout",
     "output_type": "stream",
     "text": [
      "\n",
      "      Epoch    GPU_mem   box_loss   cls_loss   dfl_loss  Instances       Size\n"
     ]
    },
    {
     "name": "stderr",
     "output_type": "stream",
     "text": [
      "     64/100      19.6G     0.2128      0.174      0.853        204       1024: 100%|██████████| 15/15 [02:12<00:00,  8.82s/it]\n",
      "                 Class     Images  Instances      Box(P          R      mAP50  mAP50-95): 100%|██████████| 8/8 [00:51<00:00,  6.39s/it]"
     ]
    },
    {
     "name": "stdout",
     "output_type": "stream",
     "text": [
      "                   all        120       2040          1          1      0.995      0.995\n"
     ]
    },
    {
     "name": "stderr",
     "output_type": "stream",
     "text": [
      "\n"
     ]
    },
    {
     "name": "stdout",
     "output_type": "stream",
     "text": [
      "\n",
      "      Epoch    GPU_mem   box_loss   cls_loss   dfl_loss  Instances       Size\n"
     ]
    },
    {
     "name": "stderr",
     "output_type": "stream",
     "text": [
      "     65/100      19.6G     0.2301     0.1839     0.8523        166       1024: 100%|██████████| 15/15 [01:49<00:00,  7.29s/it]\n",
      "                 Class     Images  Instances      Box(P          R      mAP50  mAP50-95): 100%|██████████| 8/8 [00:42<00:00,  5.27s/it]"
     ]
    },
    {
     "name": "stdout",
     "output_type": "stream",
     "text": [
      "                   all        120       2040          1          1      0.995      0.995\n"
     ]
    },
    {
     "name": "stderr",
     "output_type": "stream",
     "text": [
      "\n"
     ]
    },
    {
     "name": "stdout",
     "output_type": "stream",
     "text": [
      "\n",
      "      Epoch    GPU_mem   box_loss   cls_loss   dfl_loss  Instances       Size\n"
     ]
    },
    {
     "name": "stderr",
     "output_type": "stream",
     "text": [
      "     66/100      19.6G     0.2242       0.18     0.8544        263       1024: 100%|██████████| 15/15 [02:01<00:00,  8.07s/it]\n",
      "                 Class     Images  Instances      Box(P          R      mAP50  mAP50-95): 100%|██████████| 8/8 [00:37<00:00,  4.73s/it]"
     ]
    },
    {
     "name": "stdout",
     "output_type": "stream",
     "text": [
      "                   all        120       2040      0.978      0.878      0.974      0.947\n"
     ]
    },
    {
     "name": "stderr",
     "output_type": "stream",
     "text": [
      "\n"
     ]
    },
    {
     "name": "stdout",
     "output_type": "stream",
     "text": [
      "\n",
      "      Epoch    GPU_mem   box_loss   cls_loss   dfl_loss  Instances       Size\n"
     ]
    },
    {
     "name": "stderr",
     "output_type": "stream",
     "text": [
      "     67/100      19.5G     0.2188     0.1759     0.8464        216       1024: 100%|██████████| 15/15 [01:50<00:00,  7.37s/it]\n",
      "                 Class     Images  Instances      Box(P          R      mAP50  mAP50-95): 100%|██████████| 8/8 [00:38<00:00,  4.77s/it]"
     ]
    },
    {
     "name": "stdout",
     "output_type": "stream",
     "text": [
      "                   all        120       2040      0.874      0.462      0.695      0.534\n"
     ]
    },
    {
     "name": "stderr",
     "output_type": "stream",
     "text": [
      "\n"
     ]
    },
    {
     "name": "stdout",
     "output_type": "stream",
     "text": [
      "\n",
      "      Epoch    GPU_mem   box_loss   cls_loss   dfl_loss  Instances       Size\n"
     ]
    },
    {
     "name": "stderr",
     "output_type": "stream",
     "text": [
      "     68/100      19.6G     0.2052     0.1772     0.8646        216       1024: 100%|██████████| 15/15 [01:48<00:00,  7.25s/it]\n",
      "                 Class     Images  Instances      Box(P          R      mAP50  mAP50-95): 100%|██████████| 8/8 [00:47<00:00,  5.96s/it]"
     ]
    },
    {
     "name": "stdout",
     "output_type": "stream",
     "text": [
      "                   all        120       2040      0.883      0.857      0.948       0.88\n"
     ]
    },
    {
     "name": "stderr",
     "output_type": "stream",
     "text": [
      "\n"
     ]
    },
    {
     "name": "stdout",
     "output_type": "stream",
     "text": [
      "\n",
      "      Epoch    GPU_mem   box_loss   cls_loss   dfl_loss  Instances       Size\n"
     ]
    },
    {
     "name": "stderr",
     "output_type": "stream",
     "text": [
      "     69/100      19.5G     0.2069     0.1754      0.841        230       1024: 100%|██████████| 15/15 [01:45<00:00,  7.02s/it]\n",
      "                 Class     Images  Instances      Box(P          R      mAP50  mAP50-95): 100%|██████████| 8/8 [00:40<00:00,  5.01s/it]"
     ]
    },
    {
     "name": "stdout",
     "output_type": "stream",
     "text": [
      "                   all        120       2040          1          1      0.995      0.992\n"
     ]
    },
    {
     "name": "stderr",
     "output_type": "stream",
     "text": [
      "\n"
     ]
    },
    {
     "name": "stdout",
     "output_type": "stream",
     "text": [
      "\n",
      "      Epoch    GPU_mem   box_loss   cls_loss   dfl_loss  Instances       Size\n"
     ]
    },
    {
     "name": "stderr",
     "output_type": "stream",
     "text": [
      "     70/100      19.3G     0.1948     0.1696     0.8331        156       1024: 100%|██████████| 15/15 [01:59<00:00,  7.94s/it]\n",
      "                 Class     Images  Instances      Box(P          R      mAP50  mAP50-95): 100%|██████████| 8/8 [00:28<00:00,  3.56s/it]"
     ]
    },
    {
     "name": "stdout",
     "output_type": "stream",
     "text": [
      "                   all        120       2040          1          1      0.995      0.986\n"
     ]
    },
    {
     "name": "stderr",
     "output_type": "stream",
     "text": [
      "\n"
     ]
    },
    {
     "name": "stdout",
     "output_type": "stream",
     "text": [
      "\n",
      "      Epoch    GPU_mem   box_loss   cls_loss   dfl_loss  Instances       Size\n"
     ]
    },
    {
     "name": "stderr",
     "output_type": "stream",
     "text": [
      "     71/100      19.6G     0.1961     0.1671     0.8476        172       1024: 100%|██████████| 15/15 [01:42<00:00,  6.83s/it]\n",
      "                 Class     Images  Instances      Box(P          R      mAP50  mAP50-95): 100%|██████████| 8/8 [00:33<00:00,  4.13s/it]"
     ]
    },
    {
     "name": "stdout",
     "output_type": "stream",
     "text": [
      "                   all        120       2040          1          1      0.995      0.995\n"
     ]
    },
    {
     "name": "stderr",
     "output_type": "stream",
     "text": [
      "\n"
     ]
    },
    {
     "name": "stdout",
     "output_type": "stream",
     "text": [
      "\n",
      "      Epoch    GPU_mem   box_loss   cls_loss   dfl_loss  Instances       Size\n"
     ]
    },
    {
     "name": "stderr",
     "output_type": "stream",
     "text": [
      "     72/100      19.5G     0.1963     0.1687     0.8423        202       1024: 100%|██████████| 15/15 [02:05<00:00,  8.37s/it]\n",
      "                 Class     Images  Instances      Box(P          R      mAP50  mAP50-95): 100%|██████████| 8/8 [00:38<00:00,  4.87s/it]"
     ]
    },
    {
     "name": "stdout",
     "output_type": "stream",
     "text": [
      "                   all        120       2040          1          1      0.995      0.995\n"
     ]
    },
    {
     "name": "stderr",
     "output_type": "stream",
     "text": [
      "\n"
     ]
    },
    {
     "name": "stdout",
     "output_type": "stream",
     "text": [
      "\n",
      "      Epoch    GPU_mem   box_loss   cls_loss   dfl_loss  Instances       Size\n"
     ]
    },
    {
     "name": "stderr",
     "output_type": "stream",
     "text": [
      "     73/100      19.5G     0.1816     0.1595     0.8458        243       1024: 100%|██████████| 15/15 [01:55<00:00,  7.72s/it]\n",
      "                 Class     Images  Instances      Box(P          R      mAP50  mAP50-95): 100%|██████████| 8/8 [00:37<00:00,  4.72s/it]"
     ]
    },
    {
     "name": "stdout",
     "output_type": "stream",
     "text": [
      "                   all        120       2040          1          1      0.995      0.995\n"
     ]
    },
    {
     "name": "stderr",
     "output_type": "stream",
     "text": [
      "\n"
     ]
    },
    {
     "name": "stdout",
     "output_type": "stream",
     "text": [
      "\n",
      "      Epoch    GPU_mem   box_loss   cls_loss   dfl_loss  Instances       Size\n"
     ]
    },
    {
     "name": "stderr",
     "output_type": "stream",
     "text": [
      "     74/100      19.5G     0.1836      0.155     0.8332        193       1024: 100%|██████████| 15/15 [02:00<00:00,  8.05s/it]\n",
      "                 Class     Images  Instances      Box(P          R      mAP50  mAP50-95): 100%|██████████| 8/8 [00:42<00:00,  5.30s/it]"
     ]
    },
    {
     "name": "stdout",
     "output_type": "stream",
     "text": [
      "                   all        120       2040          1          1      0.995      0.995\n"
     ]
    },
    {
     "name": "stderr",
     "output_type": "stream",
     "text": [
      "\n"
     ]
    },
    {
     "name": "stdout",
     "output_type": "stream",
     "text": [
      "\n",
      "      Epoch    GPU_mem   box_loss   cls_loss   dfl_loss  Instances       Size\n"
     ]
    },
    {
     "name": "stderr",
     "output_type": "stream",
     "text": [
      "     75/100      19.5G     0.1751     0.1517     0.8447        288       1024: 100%|██████████| 15/15 [03:08<00:00, 12.54s/it]\n",
      "                 Class     Images  Instances      Box(P          R      mAP50  mAP50-95): 100%|██████████| 8/8 [00:25<00:00,  3.14s/it]"
     ]
    },
    {
     "name": "stdout",
     "output_type": "stream",
     "text": [
      "                   all        120       2040          1          1      0.995      0.995\n"
     ]
    },
    {
     "name": "stderr",
     "output_type": "stream",
     "text": [
      "\n"
     ]
    },
    {
     "name": "stdout",
     "output_type": "stream",
     "text": [
      "\n",
      "      Epoch    GPU_mem   box_loss   cls_loss   dfl_loss  Instances       Size\n"
     ]
    },
    {
     "name": "stderr",
     "output_type": "stream",
     "text": [
      "     76/100      19.6G     0.1981     0.1656     0.8391        278       1024: 100%|██████████| 15/15 [01:22<00:00,  5.53s/it]\n",
      "                 Class     Images  Instances      Box(P          R      mAP50  mAP50-95): 100%|██████████| 8/8 [00:26<00:00,  3.36s/it]"
     ]
    },
    {
     "name": "stdout",
     "output_type": "stream",
     "text": [
      "                   all        120       2040          1          1      0.995      0.995\n"
     ]
    },
    {
     "name": "stderr",
     "output_type": "stream",
     "text": [
      "\n"
     ]
    },
    {
     "name": "stdout",
     "output_type": "stream",
     "text": [
      "\n",
      "      Epoch    GPU_mem   box_loss   cls_loss   dfl_loss  Instances       Size\n"
     ]
    },
    {
     "name": "stderr",
     "output_type": "stream",
     "text": [
      "     77/100      19.5G     0.1974      0.164     0.8536        291       1024: 100%|██████████| 15/15 [00:58<00:00,  3.87s/it]\n",
      "                 Class     Images  Instances      Box(P          R      mAP50  mAP50-95): 100%|██████████| 8/8 [00:29<00:00,  3.64s/it]"
     ]
    },
    {
     "name": "stdout",
     "output_type": "stream",
     "text": [
      "                   all        120       2040          1          1      0.995      0.995\n"
     ]
    },
    {
     "name": "stderr",
     "output_type": "stream",
     "text": [
      "\n"
     ]
    },
    {
     "name": "stdout",
     "output_type": "stream",
     "text": [
      "\n",
      "      Epoch    GPU_mem   box_loss   cls_loss   dfl_loss  Instances       Size\n"
     ]
    },
    {
     "name": "stderr",
     "output_type": "stream",
     "text": [
      "     78/100      19.4G     0.1917      0.161     0.8462        248       1024: 100%|██████████| 15/15 [01:17<00:00,  5.18s/it]\n",
      "                 Class     Images  Instances      Box(P          R      mAP50  mAP50-95): 100%|██████████| 8/8 [00:20<00:00,  2.53s/it]"
     ]
    },
    {
     "name": "stdout",
     "output_type": "stream",
     "text": [
      "                   all        120       2040          1          1      0.995      0.995\n"
     ]
    },
    {
     "name": "stderr",
     "output_type": "stream",
     "text": [
      "\n"
     ]
    },
    {
     "name": "stdout",
     "output_type": "stream",
     "text": [
      "\n",
      "      Epoch    GPU_mem   box_loss   cls_loss   dfl_loss  Instances       Size\n"
     ]
    },
    {
     "name": "stderr",
     "output_type": "stream",
     "text": [
      "     79/100      19.6G     0.1803     0.1555     0.8533        212       1024: 100%|██████████| 15/15 [01:21<00:00,  5.42s/it]\n",
      "                 Class     Images  Instances      Box(P          R      mAP50  mAP50-95): 100%|██████████| 8/8 [00:26<00:00,  3.30s/it]"
     ]
    },
    {
     "name": "stdout",
     "output_type": "stream",
     "text": [
      "                   all        120       2040          1          1      0.995      0.995\n"
     ]
    },
    {
     "name": "stderr",
     "output_type": "stream",
     "text": [
      "\n"
     ]
    },
    {
     "name": "stdout",
     "output_type": "stream",
     "text": [
      "\n",
      "      Epoch    GPU_mem   box_loss   cls_loss   dfl_loss  Instances       Size\n"
     ]
    },
    {
     "name": "stderr",
     "output_type": "stream",
     "text": [
      "     80/100      19.7G     0.1838     0.1608      0.851        259       1024: 100%|██████████| 15/15 [01:22<00:00,  5.48s/it]\n",
      "                 Class     Images  Instances      Box(P          R      mAP50  mAP50-95): 100%|██████████| 8/8 [00:18<00:00,  2.31s/it]"
     ]
    },
    {
     "name": "stdout",
     "output_type": "stream",
     "text": [
      "                   all        120       2040          1          1      0.995      0.995\n"
     ]
    },
    {
     "name": "stderr",
     "output_type": "stream",
     "text": [
      "\n"
     ]
    },
    {
     "name": "stdout",
     "output_type": "stream",
     "text": [
      "\n",
      "      Epoch    GPU_mem   box_loss   cls_loss   dfl_loss  Instances       Size\n"
     ]
    },
    {
     "name": "stderr",
     "output_type": "stream",
     "text": [
      "     81/100      19.6G     0.1784     0.1506     0.8396        245       1024: 100%|██████████| 15/15 [00:57<00:00,  3.82s/it]\n",
      "                 Class     Images  Instances      Box(P          R      mAP50  mAP50-95): 100%|██████████| 8/8 [00:26<00:00,  3.32s/it]"
     ]
    },
    {
     "name": "stdout",
     "output_type": "stream",
     "text": [
      "                   all        120       2040          1          1      0.995      0.995\n"
     ]
    },
    {
     "name": "stderr",
     "output_type": "stream",
     "text": [
      "\n"
     ]
    },
    {
     "name": "stdout",
     "output_type": "stream",
     "text": [
      "\n",
      "      Epoch    GPU_mem   box_loss   cls_loss   dfl_loss  Instances       Size\n"
     ]
    },
    {
     "name": "stderr",
     "output_type": "stream",
     "text": [
      "     82/100      19.6G     0.1682     0.1487     0.8354        184       1024: 100%|██████████| 15/15 [01:29<00:00,  5.95s/it]\n",
      "                 Class     Images  Instances      Box(P          R      mAP50  mAP50-95): 100%|██████████| 8/8 [00:19<00:00,  2.48s/it]"
     ]
    },
    {
     "name": "stdout",
     "output_type": "stream",
     "text": [
      "                   all        120       2040          1          1      0.995      0.995\n"
     ]
    },
    {
     "name": "stderr",
     "output_type": "stream",
     "text": [
      "\n"
     ]
    },
    {
     "name": "stdout",
     "output_type": "stream",
     "text": [
      "\n",
      "      Epoch    GPU_mem   box_loss   cls_loss   dfl_loss  Instances       Size\n"
     ]
    },
    {
     "name": "stderr",
     "output_type": "stream",
     "text": [
      "     83/100      19.5G     0.1568     0.1395     0.8266        219       1024: 100%|██████████| 15/15 [01:15<00:00,  5.06s/it]\n",
      "                 Class     Images  Instances      Box(P          R      mAP50  mAP50-95): 100%|██████████| 8/8 [00:25<00:00,  3.18s/it]"
     ]
    },
    {
     "name": "stdout",
     "output_type": "stream",
     "text": [
      "                   all        120       2040          1          1      0.995      0.995\n"
     ]
    },
    {
     "name": "stderr",
     "output_type": "stream",
     "text": [
      "\n"
     ]
    },
    {
     "name": "stdout",
     "output_type": "stream",
     "text": [
      "\n",
      "      Epoch    GPU_mem   box_loss   cls_loss   dfl_loss  Instances       Size\n"
     ]
    },
    {
     "name": "stderr",
     "output_type": "stream",
     "text": [
      "     84/100      19.6G     0.1643     0.1418     0.8294        242       1024: 100%|██████████| 15/15 [01:23<00:00,  5.57s/it]\n",
      "                 Class     Images  Instances      Box(P          R      mAP50  mAP50-95): 100%|██████████| 8/8 [00:24<00:00,  3.04s/it]"
     ]
    },
    {
     "name": "stdout",
     "output_type": "stream",
     "text": [
      "                   all        120       2040          1          1      0.995      0.995\n"
     ]
    },
    {
     "name": "stderr",
     "output_type": "stream",
     "text": [
      "\n"
     ]
    },
    {
     "name": "stdout",
     "output_type": "stream",
     "text": [
      "\n",
      "      Epoch    GPU_mem   box_loss   cls_loss   dfl_loss  Instances       Size\n"
     ]
    },
    {
     "name": "stderr",
     "output_type": "stream",
     "text": [
      "     85/100      19.6G     0.1567     0.1404     0.8264        197       1024: 100%|██████████| 15/15 [01:15<00:00,  5.04s/it]\n",
      "                 Class     Images  Instances      Box(P          R      mAP50  mAP50-95): 100%|██████████| 8/8 [00:21<00:00,  2.73s/it]"
     ]
    },
    {
     "name": "stdout",
     "output_type": "stream",
     "text": [
      "                   all        120       2040          1          1      0.995      0.995\n"
     ]
    },
    {
     "name": "stderr",
     "output_type": "stream",
     "text": [
      "\n"
     ]
    },
    {
     "name": "stdout",
     "output_type": "stream",
     "text": [
      "\n",
      "      Epoch    GPU_mem   box_loss   cls_loss   dfl_loss  Instances       Size\n"
     ]
    },
    {
     "name": "stderr",
     "output_type": "stream",
     "text": [
      "     86/100      19.4G     0.1522     0.1393     0.8357        262       1024: 100%|██████████| 15/15 [01:16<00:00,  5.08s/it]\n",
      "                 Class     Images  Instances      Box(P          R      mAP50  mAP50-95): 100%|██████████| 8/8 [00:19<00:00,  2.39s/it]"
     ]
    },
    {
     "name": "stdout",
     "output_type": "stream",
     "text": [
      "                   all        120       2040          1          1      0.995      0.995\n"
     ]
    },
    {
     "name": "stderr",
     "output_type": "stream",
     "text": [
      "\n"
     ]
    },
    {
     "name": "stdout",
     "output_type": "stream",
     "text": [
      "\n",
      "      Epoch    GPU_mem   box_loss   cls_loss   dfl_loss  Instances       Size\n"
     ]
    },
    {
     "name": "stderr",
     "output_type": "stream",
     "text": [
      "     87/100      19.5G     0.1556     0.1341      0.817        258       1024: 100%|██████████| 15/15 [01:04<00:00,  4.32s/it]\n",
      "                 Class     Images  Instances      Box(P          R      mAP50  mAP50-95): 100%|██████████| 8/8 [00:27<00:00,  3.48s/it]"
     ]
    },
    {
     "name": "stdout",
     "output_type": "stream",
     "text": [
      "                   all        120       2040          1          1      0.995      0.995\n"
     ]
    },
    {
     "name": "stderr",
     "output_type": "stream",
     "text": [
      "\n"
     ]
    },
    {
     "name": "stdout",
     "output_type": "stream",
     "text": [
      "\n",
      "      Epoch    GPU_mem   box_loss   cls_loss   dfl_loss  Instances       Size\n"
     ]
    },
    {
     "name": "stderr",
     "output_type": "stream",
     "text": [
      "     88/100      19.5G     0.1642     0.1401     0.8277        189       1024: 100%|██████████| 15/15 [01:30<00:00,  6.02s/it]\n",
      "                 Class     Images  Instances      Box(P          R      mAP50  mAP50-95): 100%|██████████| 8/8 [00:18<00:00,  2.34s/it]"
     ]
    },
    {
     "name": "stdout",
     "output_type": "stream",
     "text": [
      "                   all        120       2040          1          1      0.995      0.995\n"
     ]
    },
    {
     "name": "stderr",
     "output_type": "stream",
     "text": [
      "\n"
     ]
    },
    {
     "name": "stdout",
     "output_type": "stream",
     "text": [
      "\n",
      "      Epoch    GPU_mem   box_loss   cls_loss   dfl_loss  Instances       Size\n"
     ]
    },
    {
     "name": "stderr",
     "output_type": "stream",
     "text": [
      "     89/100      19.6G     0.1619     0.1447     0.8424        252       1024: 100%|██████████| 15/15 [01:15<00:00,  5.03s/it]\n",
      "                 Class     Images  Instances      Box(P          R      mAP50  mAP50-95): 100%|██████████| 8/8 [00:21<00:00,  2.72s/it]"
     ]
    },
    {
     "name": "stdout",
     "output_type": "stream",
     "text": [
      "                   all        120       2040          1          1      0.995      0.995\n"
     ]
    },
    {
     "name": "stderr",
     "output_type": "stream",
     "text": [
      "\n"
     ]
    },
    {
     "name": "stdout",
     "output_type": "stream",
     "text": [
      "\n",
      "      Epoch    GPU_mem   box_loss   cls_loss   dfl_loss  Instances       Size\n"
     ]
    },
    {
     "name": "stderr",
     "output_type": "stream",
     "text": [
      "     90/100      19.6G     0.1494     0.1345     0.8262        372       1024: 100%|██████████| 15/15 [01:16<00:00,  5.07s/it]\n",
      "                 Class     Images  Instances      Box(P          R      mAP50  mAP50-95): 100%|██████████| 8/8 [00:18<00:00,  2.33s/it]"
     ]
    },
    {
     "name": "stdout",
     "output_type": "stream",
     "text": [
      "                   all        120       2040          1          1      0.995      0.995\n"
     ]
    },
    {
     "name": "stderr",
     "output_type": "stream",
     "text": [
      "\n"
     ]
    },
    {
     "name": "stdout",
     "output_type": "stream",
     "text": [
      "Closing dataloader mosaic\n",
      "\u001b[34m\u001b[1malbumentations: \u001b[0mBlur(p=0.01, blur_limit=(3, 7)), MedianBlur(p=0.01, blur_limit=(3, 7)), ToGray(p=0.01, method='weighted_average', num_output_channels=3), CLAHE(p=0.01, clip_limit=(1.0, 4.0), tile_grid_size=(8, 8))\n",
      "\n",
      "      Epoch    GPU_mem   box_loss   cls_loss   dfl_loss  Instances       Size\n"
     ]
    },
    {
     "name": "stderr",
     "output_type": "stream",
     "text": [
      "     91/100      19.6G     0.1163     0.1148     0.7975        156       1024: 100%|██████████| 15/15 [01:12<00:00,  4.80s/it]\n",
      "                 Class     Images  Instances      Box(P          R      mAP50  mAP50-95): 100%|██████████| 8/8 [00:21<00:00,  2.66s/it]"
     ]
    },
    {
     "name": "stdout",
     "output_type": "stream",
     "text": [
      "                   all        120       2040          1          1      0.995      0.995\n"
     ]
    },
    {
     "name": "stderr",
     "output_type": "stream",
     "text": [
      "\n"
     ]
    },
    {
     "name": "stdout",
     "output_type": "stream",
     "text": [
      "\n",
      "      Epoch    GPU_mem   box_loss   cls_loss   dfl_loss  Instances       Size\n"
     ]
    },
    {
     "name": "stderr",
     "output_type": "stream",
     "text": [
      "     92/100      19.6G     0.1213     0.1154     0.7947        152       1024: 100%|██████████| 15/15 [01:08<00:00,  4.55s/it]\n",
      "                 Class     Images  Instances      Box(P          R      mAP50  mAP50-95): 100%|██████████| 8/8 [00:22<00:00,  2.83s/it]"
     ]
    },
    {
     "name": "stdout",
     "output_type": "stream",
     "text": [
      "                   all        120       2040          1          1      0.995      0.995\n"
     ]
    },
    {
     "name": "stderr",
     "output_type": "stream",
     "text": [
      "\n"
     ]
    },
    {
     "name": "stdout",
     "output_type": "stream",
     "text": [
      "\n",
      "      Epoch    GPU_mem   box_loss   cls_loss   dfl_loss  Instances       Size\n"
     ]
    },
    {
     "name": "stderr",
     "output_type": "stream",
     "text": [
      "     93/100      19.6G     0.1224     0.1151     0.7897        116       1024: 100%|██████████| 15/15 [01:08<00:00,  4.59s/it]\n",
      "                 Class     Images  Instances      Box(P          R      mAP50  mAP50-95): 100%|██████████| 8/8 [00:23<00:00,  2.90s/it]"
     ]
    },
    {
     "name": "stdout",
     "output_type": "stream",
     "text": [
      "                   all        120       2040          1          1      0.995      0.995\n"
     ]
    },
    {
     "name": "stderr",
     "output_type": "stream",
     "text": [
      "\n"
     ]
    },
    {
     "name": "stdout",
     "output_type": "stream",
     "text": [
      "\n",
      "      Epoch    GPU_mem   box_loss   cls_loss   dfl_loss  Instances       Size\n"
     ]
    },
    {
     "name": "stderr",
     "output_type": "stream",
     "text": [
      "     94/100      19.4G     0.1103     0.1066     0.8071        138       1024: 100%|██████████| 15/15 [01:19<00:00,  5.30s/it]\n",
      "                 Class     Images  Instances      Box(P          R      mAP50  mAP50-95): 100%|██████████| 8/8 [00:22<00:00,  2.76s/it]"
     ]
    },
    {
     "name": "stdout",
     "output_type": "stream",
     "text": [
      "                   all        120       2040          1          1      0.995      0.995\n"
     ]
    },
    {
     "name": "stderr",
     "output_type": "stream",
     "text": [
      "\n"
     ]
    },
    {
     "name": "stdout",
     "output_type": "stream",
     "text": [
      "\n",
      "      Epoch    GPU_mem   box_loss   cls_loss   dfl_loss  Instances       Size\n"
     ]
    },
    {
     "name": "stderr",
     "output_type": "stream",
     "text": [
      "     95/100      19.6G     0.1098     0.1075     0.7972        136       1024: 100%|██████████| 15/15 [01:13<00:00,  4.91s/it]\n",
      "                 Class     Images  Instances      Box(P          R      mAP50  mAP50-95): 100%|██████████| 8/8 [00:22<00:00,  2.76s/it]"
     ]
    },
    {
     "name": "stdout",
     "output_type": "stream",
     "text": [
      "                   all        120       2040          1          1      0.995      0.995\n"
     ]
    },
    {
     "name": "stderr",
     "output_type": "stream",
     "text": [
      "\n"
     ]
    },
    {
     "name": "stdout",
     "output_type": "stream",
     "text": [
      "\n",
      "      Epoch    GPU_mem   box_loss   cls_loss   dfl_loss  Instances       Size\n"
     ]
    },
    {
     "name": "stderr",
     "output_type": "stream",
     "text": [
      "     96/100      19.6G     0.1099      0.108     0.8074        144       1024: 100%|██████████| 15/15 [01:09<00:00,  4.61s/it]\n",
      "                 Class     Images  Instances      Box(P          R      mAP50  mAP50-95): 100%|██████████| 8/8 [00:25<00:00,  3.22s/it]"
     ]
    },
    {
     "name": "stdout",
     "output_type": "stream",
     "text": [
      "                   all        120       2040          1          1      0.995      0.995\n"
     ]
    },
    {
     "name": "stderr",
     "output_type": "stream",
     "text": [
      "\n"
     ]
    },
    {
     "name": "stdout",
     "output_type": "stream",
     "text": [
      "\n",
      "      Epoch    GPU_mem   box_loss   cls_loss   dfl_loss  Instances       Size\n"
     ]
    },
    {
     "name": "stderr",
     "output_type": "stream",
     "text": [
      "     97/100      19.6G     0.1159     0.1143     0.8027        133       1024: 100%|██████████| 15/15 [01:26<00:00,  5.79s/it]\n",
      "                 Class     Images  Instances      Box(P          R      mAP50  mAP50-95): 100%|██████████| 8/8 [00:28<00:00,  3.55s/it]"
     ]
    },
    {
     "name": "stdout",
     "output_type": "stream",
     "text": [
      "                   all        120       2040          1          1      0.995      0.995\n"
     ]
    },
    {
     "name": "stderr",
     "output_type": "stream",
     "text": [
      "\n"
     ]
    },
    {
     "name": "stdout",
     "output_type": "stream",
     "text": [
      "\n",
      "      Epoch    GPU_mem   box_loss   cls_loss   dfl_loss  Instances       Size\n"
     ]
    },
    {
     "name": "stderr",
     "output_type": "stream",
     "text": [
      "     98/100      19.6G     0.1121     0.1125     0.8073        135       1024: 100%|██████████| 15/15 [01:21<00:00,  5.43s/it]\n",
      "                 Class     Images  Instances      Box(P          R      mAP50  mAP50-95): 100%|██████████| 8/8 [00:20<00:00,  2.59s/it]"
     ]
    },
    {
     "name": "stdout",
     "output_type": "stream",
     "text": [
      "                   all        120       2040          1          1      0.995      0.995\n"
     ]
    },
    {
     "name": "stderr",
     "output_type": "stream",
     "text": [
      "\n"
     ]
    },
    {
     "name": "stdout",
     "output_type": "stream",
     "text": [
      "\n",
      "      Epoch    GPU_mem   box_loss   cls_loss   dfl_loss  Instances       Size\n"
     ]
    },
    {
     "name": "stderr",
     "output_type": "stream",
     "text": [
      "     99/100      19.6G     0.1073     0.1068     0.7981        150       1024: 100%|██████████| 15/15 [01:13<00:00,  4.92s/it]\n",
      "                 Class     Images  Instances      Box(P          R      mAP50  mAP50-95): 100%|██████████| 8/8 [00:19<00:00,  2.48s/it]"
     ]
    },
    {
     "name": "stdout",
     "output_type": "stream",
     "text": [
      "                   all        120       2040          1          1      0.995      0.995\n"
     ]
    },
    {
     "name": "stderr",
     "output_type": "stream",
     "text": [
      "\n"
     ]
    },
    {
     "name": "stdout",
     "output_type": "stream",
     "text": [
      "\n",
      "      Epoch    GPU_mem   box_loss   cls_loss   dfl_loss  Instances       Size\n"
     ]
    },
    {
     "name": "stderr",
     "output_type": "stream",
     "text": [
      "    100/100      19.6G    0.09833     0.1008      0.806        132       1024: 100%|██████████| 15/15 [01:14<00:00,  4.99s/it]\n",
      "                 Class     Images  Instances      Box(P          R      mAP50  mAP50-95): 100%|██████████| 8/8 [00:34<00:00,  4.26s/it]"
     ]
    },
    {
     "name": "stdout",
     "output_type": "stream",
     "text": [
      "                   all        120       2040          1          1      0.995      0.995\n"
     ]
    },
    {
     "name": "stderr",
     "output_type": "stream",
     "text": [
      "\n"
     ]
    },
    {
     "name": "stdout",
     "output_type": "stream",
     "text": [
      "\n",
      "100 epochs completed in 3.998 hours.\n",
      "Optimizer stripped from runs/detect/person_entry_model5/weights/last.pt, 114.5MB\n",
      "Optimizer stripped from runs/detect/person_entry_model5/weights/best.pt, 114.5MB\n",
      "\n",
      "Validating runs/detect/person_entry_model5/weights/best.pt...\n",
      "Ultralytics 8.3.144 🚀 Python-3.11.9 torch-2.6.0+cu124 CUDA:0 (NVIDIA GeForce RTX 4070 Ti SUPER, 16376MiB)\n",
      "YOLO11x summary (fused): 190 layers, 56,828,179 parameters, 0 gradients, 194.4 GFLOPs\n"
     ]
    },
    {
     "name": "stderr",
     "output_type": "stream",
     "text": [
      "                 Class     Images  Instances      Box(P          R      mAP50  mAP50-95): 100%|██████████| 8/8 [00:10<00:00,  1.26s/it]\n"
     ]
    },
    {
     "name": "stdout",
     "output_type": "stream",
     "text": [
      "                   all        120       2040          1          1      0.995      0.995\n",
      "Speed: 0.7ms preprocess, 68.5ms inference, 0.0ms loss, 3.3ms postprocess per image\n",
      "Results saved to \u001b[1mruns/detect/person_entry_model5\u001b[0m\n"
     ]
    },
    {
     "data": {
      "text/plain": [
       "ultralytics.utils.metrics.DetMetrics object with attributes:\n",
       "\n",
       "ap_class_index: array([0])\n",
       "box: ultralytics.utils.metrics.Metric object\n",
       "confusion_matrix: <ultralytics.utils.metrics.ConfusionMatrix object at 0x76980db69450>\n",
       "curves: ['Precision-Recall(B)', 'F1-Confidence(B)', 'Precision-Confidence(B)', 'Recall-Confidence(B)']\n",
       "curves_results: [[array([          0,    0.001001,    0.002002,    0.003003,    0.004004,    0.005005,    0.006006,    0.007007,    0.008008,    0.009009,     0.01001,    0.011011,    0.012012,    0.013013,    0.014014,    0.015015,    0.016016,    0.017017,    0.018018,    0.019019,     0.02002,    0.021021,    0.022022,    0.023023,\n",
       "          0.024024,    0.025025,    0.026026,    0.027027,    0.028028,    0.029029,     0.03003,    0.031031,    0.032032,    0.033033,    0.034034,    0.035035,    0.036036,    0.037037,    0.038038,    0.039039,     0.04004,    0.041041,    0.042042,    0.043043,    0.044044,    0.045045,    0.046046,    0.047047,\n",
       "          0.048048,    0.049049,     0.05005,    0.051051,    0.052052,    0.053053,    0.054054,    0.055055,    0.056056,    0.057057,    0.058058,    0.059059,     0.06006,    0.061061,    0.062062,    0.063063,    0.064064,    0.065065,    0.066066,    0.067067,    0.068068,    0.069069,     0.07007,    0.071071,\n",
       "          0.072072,    0.073073,    0.074074,    0.075075,    0.076076,    0.077077,    0.078078,    0.079079,     0.08008,    0.081081,    0.082082,    0.083083,    0.084084,    0.085085,    0.086086,    0.087087,    0.088088,    0.089089,     0.09009,    0.091091,    0.092092,    0.093093,    0.094094,    0.095095,\n",
       "          0.096096,    0.097097,    0.098098,    0.099099,      0.1001,      0.1011,      0.1021,      0.1031,      0.1041,     0.10511,     0.10611,     0.10711,     0.10811,     0.10911,     0.11011,     0.11111,     0.11211,     0.11311,     0.11411,     0.11512,     0.11612,     0.11712,     0.11812,     0.11912,\n",
       "           0.12012,     0.12112,     0.12212,     0.12312,     0.12412,     0.12513,     0.12613,     0.12713,     0.12813,     0.12913,     0.13013,     0.13113,     0.13213,     0.13313,     0.13413,     0.13514,     0.13614,     0.13714,     0.13814,     0.13914,     0.14014,     0.14114,     0.14214,     0.14314,\n",
       "           0.14414,     0.14515,     0.14615,     0.14715,     0.14815,     0.14915,     0.15015,     0.15115,     0.15215,     0.15315,     0.15415,     0.15516,     0.15616,     0.15716,     0.15816,     0.15916,     0.16016,     0.16116,     0.16216,     0.16316,     0.16416,     0.16517,     0.16617,     0.16717,\n",
       "           0.16817,     0.16917,     0.17017,     0.17117,     0.17217,     0.17317,     0.17417,     0.17518,     0.17618,     0.17718,     0.17818,     0.17918,     0.18018,     0.18118,     0.18218,     0.18318,     0.18418,     0.18519,     0.18619,     0.18719,     0.18819,     0.18919,     0.19019,     0.19119,\n",
       "           0.19219,     0.19319,     0.19419,      0.1952,      0.1962,      0.1972,      0.1982,      0.1992,      0.2002,      0.2012,      0.2022,      0.2032,      0.2042,     0.20521,     0.20621,     0.20721,     0.20821,     0.20921,     0.21021,     0.21121,     0.21221,     0.21321,     0.21421,     0.21522,\n",
       "           0.21622,     0.21722,     0.21822,     0.21922,     0.22022,     0.22122,     0.22222,     0.22322,     0.22422,     0.22523,     0.22623,     0.22723,     0.22823,     0.22923,     0.23023,     0.23123,     0.23223,     0.23323,     0.23423,     0.23524,     0.23624,     0.23724,     0.23824,     0.23924,\n",
       "           0.24024,     0.24124,     0.24224,     0.24324,     0.24424,     0.24525,     0.24625,     0.24725,     0.24825,     0.24925,     0.25025,     0.25125,     0.25225,     0.25325,     0.25425,     0.25526,     0.25626,     0.25726,     0.25826,     0.25926,     0.26026,     0.26126,     0.26226,     0.26326,\n",
       "           0.26426,     0.26527,     0.26627,     0.26727,     0.26827,     0.26927,     0.27027,     0.27127,     0.27227,     0.27327,     0.27427,     0.27528,     0.27628,     0.27728,     0.27828,     0.27928,     0.28028,     0.28128,     0.28228,     0.28328,     0.28428,     0.28529,     0.28629,     0.28729,\n",
       "           0.28829,     0.28929,     0.29029,     0.29129,     0.29229,     0.29329,     0.29429,      0.2953,      0.2963,      0.2973,      0.2983,      0.2993,      0.3003,      0.3013,      0.3023,      0.3033,      0.3043,     0.30531,     0.30631,     0.30731,     0.30831,     0.30931,     0.31031,     0.31131,\n",
       "           0.31231,     0.31331,     0.31431,     0.31532,     0.31632,     0.31732,     0.31832,     0.31932,     0.32032,     0.32132,     0.32232,     0.32332,     0.32432,     0.32533,     0.32633,     0.32733,     0.32833,     0.32933,     0.33033,     0.33133,     0.33233,     0.33333,     0.33433,     0.33534,\n",
       "           0.33634,     0.33734,     0.33834,     0.33934,     0.34034,     0.34134,     0.34234,     0.34334,     0.34434,     0.34535,     0.34635,     0.34735,     0.34835,     0.34935,     0.35035,     0.35135,     0.35235,     0.35335,     0.35435,     0.35536,     0.35636,     0.35736,     0.35836,     0.35936,\n",
       "           0.36036,     0.36136,     0.36236,     0.36336,     0.36436,     0.36537,     0.36637,     0.36737,     0.36837,     0.36937,     0.37037,     0.37137,     0.37237,     0.37337,     0.37437,     0.37538,     0.37638,     0.37738,     0.37838,     0.37938,     0.38038,     0.38138,     0.38238,     0.38338,\n",
       "           0.38438,     0.38539,     0.38639,     0.38739,     0.38839,     0.38939,     0.39039,     0.39139,     0.39239,     0.39339,     0.39439,      0.3954,      0.3964,      0.3974,      0.3984,      0.3994,      0.4004,      0.4014,      0.4024,      0.4034,      0.4044,     0.40541,     0.40641,     0.40741,\n",
       "           0.40841,     0.40941,     0.41041,     0.41141,     0.41241,     0.41341,     0.41441,     0.41542,     0.41642,     0.41742,     0.41842,     0.41942,     0.42042,     0.42142,     0.42242,     0.42342,     0.42442,     0.42543,     0.42643,     0.42743,     0.42843,     0.42943,     0.43043,     0.43143,\n",
       "           0.43243,     0.43343,     0.43443,     0.43544,     0.43644,     0.43744,     0.43844,     0.43944,     0.44044,     0.44144,     0.44244,     0.44344,     0.44444,     0.44545,     0.44645,     0.44745,     0.44845,     0.44945,     0.45045,     0.45145,     0.45245,     0.45345,     0.45445,     0.45546,\n",
       "           0.45646,     0.45746,     0.45846,     0.45946,     0.46046,     0.46146,     0.46246,     0.46346,     0.46446,     0.46547,     0.46647,     0.46747,     0.46847,     0.46947,     0.47047,     0.47147,     0.47247,     0.47347,     0.47447,     0.47548,     0.47648,     0.47748,     0.47848,     0.47948,\n",
       "           0.48048,     0.48148,     0.48248,     0.48348,     0.48448,     0.48549,     0.48649,     0.48749,     0.48849,     0.48949,     0.49049,     0.49149,     0.49249,     0.49349,     0.49449,      0.4955,      0.4965,      0.4975,      0.4985,      0.4995,      0.5005,      0.5015,      0.5025,      0.5035,\n",
       "            0.5045,     0.50551,     0.50651,     0.50751,     0.50851,     0.50951,     0.51051,     0.51151,     0.51251,     0.51351,     0.51451,     0.51552,     0.51652,     0.51752,     0.51852,     0.51952,     0.52052,     0.52152,     0.52252,     0.52352,     0.52452,     0.52553,     0.52653,     0.52753,\n",
       "           0.52853,     0.52953,     0.53053,     0.53153,     0.53253,     0.53353,     0.53453,     0.53554,     0.53654,     0.53754,     0.53854,     0.53954,     0.54054,     0.54154,     0.54254,     0.54354,     0.54454,     0.54555,     0.54655,     0.54755,     0.54855,     0.54955,     0.55055,     0.55155,\n",
       "           0.55255,     0.55355,     0.55455,     0.55556,     0.55656,     0.55756,     0.55856,     0.55956,     0.56056,     0.56156,     0.56256,     0.56356,     0.56456,     0.56557,     0.56657,     0.56757,     0.56857,     0.56957,     0.57057,     0.57157,     0.57257,     0.57357,     0.57457,     0.57558,\n",
       "           0.57658,     0.57758,     0.57858,     0.57958,     0.58058,     0.58158,     0.58258,     0.58358,     0.58458,     0.58559,     0.58659,     0.58759,     0.58859,     0.58959,     0.59059,     0.59159,     0.59259,     0.59359,     0.59459,      0.5956,      0.5966,      0.5976,      0.5986,      0.5996,\n",
       "            0.6006,      0.6016,      0.6026,      0.6036,      0.6046,     0.60561,     0.60661,     0.60761,     0.60861,     0.60961,     0.61061,     0.61161,     0.61261,     0.61361,     0.61461,     0.61562,     0.61662,     0.61762,     0.61862,     0.61962,     0.62062,     0.62162,     0.62262,     0.62362,\n",
       "           0.62462,     0.62563,     0.62663,     0.62763,     0.62863,     0.62963,     0.63063,     0.63163,     0.63263,     0.63363,     0.63463,     0.63564,     0.63664,     0.63764,     0.63864,     0.63964,     0.64064,     0.64164,     0.64264,     0.64364,     0.64464,     0.64565,     0.64665,     0.64765,\n",
       "           0.64865,     0.64965,     0.65065,     0.65165,     0.65265,     0.65365,     0.65465,     0.65566,     0.65666,     0.65766,     0.65866,     0.65966,     0.66066,     0.66166,     0.66266,     0.66366,     0.66466,     0.66567,     0.66667,     0.66767,     0.66867,     0.66967,     0.67067,     0.67167,\n",
       "           0.67267,     0.67367,     0.67467,     0.67568,     0.67668,     0.67768,     0.67868,     0.67968,     0.68068,     0.68168,     0.68268,     0.68368,     0.68468,     0.68569,     0.68669,     0.68769,     0.68869,     0.68969,     0.69069,     0.69169,     0.69269,     0.69369,     0.69469,      0.6957,\n",
       "            0.6967,      0.6977,      0.6987,      0.6997,      0.7007,      0.7017,      0.7027,      0.7037,      0.7047,     0.70571,     0.70671,     0.70771,     0.70871,     0.70971,     0.71071,     0.71171,     0.71271,     0.71371,     0.71471,     0.71572,     0.71672,     0.71772,     0.71872,     0.71972,\n",
       "           0.72072,     0.72172,     0.72272,     0.72372,     0.72472,     0.72573,     0.72673,     0.72773,     0.72873,     0.72973,     0.73073,     0.73173,     0.73273,     0.73373,     0.73473,     0.73574,     0.73674,     0.73774,     0.73874,     0.73974,     0.74074,     0.74174,     0.74274,     0.74374,\n",
       "           0.74474,     0.74575,     0.74675,     0.74775,     0.74875,     0.74975,     0.75075,     0.75175,     0.75275,     0.75375,     0.75475,     0.75576,     0.75676,     0.75776,     0.75876,     0.75976,     0.76076,     0.76176,     0.76276,     0.76376,     0.76476,     0.76577,     0.76677,     0.76777,\n",
       "           0.76877,     0.76977,     0.77077,     0.77177,     0.77277,     0.77377,     0.77477,     0.77578,     0.77678,     0.77778,     0.77878,     0.77978,     0.78078,     0.78178,     0.78278,     0.78378,     0.78478,     0.78579,     0.78679,     0.78779,     0.78879,     0.78979,     0.79079,     0.79179,\n",
       "           0.79279,     0.79379,     0.79479,      0.7958,      0.7968,      0.7978,      0.7988,      0.7998,      0.8008,      0.8018,      0.8028,      0.8038,      0.8048,     0.80581,     0.80681,     0.80781,     0.80881,     0.80981,     0.81081,     0.81181,     0.81281,     0.81381,     0.81481,     0.81582,\n",
       "           0.81682,     0.81782,     0.81882,     0.81982,     0.82082,     0.82182,     0.82282,     0.82382,     0.82482,     0.82583,     0.82683,     0.82783,     0.82883,     0.82983,     0.83083,     0.83183,     0.83283,     0.83383,     0.83483,     0.83584,     0.83684,     0.83784,     0.83884,     0.83984,\n",
       "           0.84084,     0.84184,     0.84284,     0.84384,     0.84484,     0.84585,     0.84685,     0.84785,     0.84885,     0.84985,     0.85085,     0.85185,     0.85285,     0.85385,     0.85485,     0.85586,     0.85686,     0.85786,     0.85886,     0.85986,     0.86086,     0.86186,     0.86286,     0.86386,\n",
       "           0.86486,     0.86587,     0.86687,     0.86787,     0.86887,     0.86987,     0.87087,     0.87187,     0.87287,     0.87387,     0.87487,     0.87588,     0.87688,     0.87788,     0.87888,     0.87988,     0.88088,     0.88188,     0.88288,     0.88388,     0.88488,     0.88589,     0.88689,     0.88789,\n",
       "           0.88889,     0.88989,     0.89089,     0.89189,     0.89289,     0.89389,     0.89489,      0.8959,      0.8969,      0.8979,      0.8989,      0.8999,      0.9009,      0.9019,      0.9029,      0.9039,      0.9049,     0.90591,     0.90691,     0.90791,     0.90891,     0.90991,     0.91091,     0.91191,\n",
       "           0.91291,     0.91391,     0.91491,     0.91592,     0.91692,     0.91792,     0.91892,     0.91992,     0.92092,     0.92192,     0.92292,     0.92392,     0.92492,     0.92593,     0.92693,     0.92793,     0.92893,     0.92993,     0.93093,     0.93193,     0.93293,     0.93393,     0.93493,     0.93594,\n",
       "           0.93694,     0.93794,     0.93894,     0.93994,     0.94094,     0.94194,     0.94294,     0.94394,     0.94494,     0.94595,     0.94695,     0.94795,     0.94895,     0.94995,     0.95095,     0.95195,     0.95295,     0.95395,     0.95495,     0.95596,     0.95696,     0.95796,     0.95896,     0.95996,\n",
       "           0.96096,     0.96196,     0.96296,     0.96396,     0.96496,     0.96597,     0.96697,     0.96797,     0.96897,     0.96997,     0.97097,     0.97197,     0.97297,     0.97397,     0.97497,     0.97598,     0.97698,     0.97798,     0.97898,     0.97998,     0.98098,     0.98198,     0.98298,     0.98398,\n",
       "           0.98498,     0.98599,     0.98699,     0.98799,     0.98899,     0.98999,     0.99099,     0.99199,     0.99299,     0.99399,     0.99499,       0.996,       0.997,       0.998,       0.999,           1]), array([[          1,           1,           1,           1,           1,           1,           1,           1,           1,           1,           1,           1,           1,           1,           1,           1,           1,           1,           1,           1,           1,           1,           1,\n",
       "                  1,           1,           1,           1,           1,           1,           1,           1,           1,           1,           1,           1,           1,           1,           1,           1,           1,           1,           1,           1,           1,           1,           1,\n",
       "                  1,           1,           1,           1,           1,           1,           1,           1,           1,           1,           1,           1,           1,           1,           1,           1,           1,           1,           1,           1,           1,           1,           1,\n",
       "                  1,           1,           1,           1,           1,           1,           1,           1,           1,           1,           1,           1,           1,           1,           1,           1,           1,           1,           1,           1,           1,           1,           1,\n",
       "                  1,           1,           1,           1,           1,           1,           1,           1,           1,           1,           1,           1,           1,           1,           1,           1,           1,           1,           1,           1,           1,           1,           1,\n",
       "                  1,           1,           1,           1,           1,           1,           1,           1,           1,           1,           1,           1,           1,           1,           1,           1,           1,           1,           1,           1,           1,           1,           1,\n",
       "                  1,           1,           1,           1,           1,           1,           1,           1,           1,           1,           1,           1,           1,           1,           1,           1,           1,           1,           1,           1,           1,           1,           1,\n",
       "                  1,           1,           1,           1,           1,           1,           1,           1,           1,           1,           1,           1,           1,           1,           1,           1,           1,           1,           1,           1,           1,           1,           1,\n",
       "                  1,           1,           1,           1,           1,           1,           1,           1,           1,           1,           1,           1,           1,           1,           1,           1,           1,           1,           1,           1,           1,           1,           1,\n",
       "                  1,           1,           1,           1,           1,           1,           1,           1,           1,           1,           1,           1,           1,           1,           1,           1,           1,           1,           1,           1,           1,           1,           1,\n",
       "                  1,           1,           1,           1,           1,           1,           1,           1,           1,           1,           1,           1,           1,           1,           1,           1,           1,           1,           1,           1,           1,           1,           1,\n",
       "                  1,           1,           1,           1,           1,           1,           1,           1,           1,           1,           1,           1,           1,           1,           1,           1,           1,           1,           1,           1,           1,           1,           1,\n",
       "                  1,           1,           1,           1,           1,           1,           1,           1,           1,           1,           1,           1,           1,           1,           1,           1,           1,           1,           1,           1,           1,           1,           1,\n",
       "                  1,           1,           1,           1,           1,           1,           1,           1,           1,           1,           1,           1,           1,           1,           1,           1,           1,           1,           1,           1,           1,           1,           1,\n",
       "                  1,           1,           1,           1,           1,           1,           1,           1,           1,           1,           1,           1,           1,           1,           1,           1,           1,           1,           1,           1,           1,           1,           1,\n",
       "                  1,           1,           1,           1,           1,           1,           1,           1,           1,           1,           1,           1,           1,           1,           1,           1,           1,           1,           1,           1,           1,           1,           1,\n",
       "                  1,           1,           1,           1,           1,           1,           1,           1,           1,           1,           1,           1,           1,           1,           1,           1,           1,           1,           1,           1,           1,           1,           1,\n",
       "                  1,           1,           1,           1,           1,           1,           1,           1,           1,           1,           1,           1,           1,           1,           1,           1,           1,           1,           1,           1,           1,           1,           1,\n",
       "                  1,           1,           1,           1,           1,           1,           1,           1,           1,           1,           1,           1,           1,           1,           1,           1,           1,           1,           1,           1,           1,           1,           1,\n",
       "                  1,           1,           1,           1,           1,           1,           1,           1,           1,           1,           1,           1,           1,           1,           1,           1,           1,           1,           1,           1,           1,           1,           1,\n",
       "                  1,           1,           1,           1,           1,           1,           1,           1,           1,           1,           1,           1,           1,           1,           1,           1,           1,           1,           1,           1,           1,           1,           1,\n",
       "                  1,           1,           1,           1,           1,           1,           1,           1,           1,           1,           1,           1,           1,           1,           1,           1,           1,           1,           1,           1,           1,           1,           1,\n",
       "                  1,           1,           1,           1,           1,           1,           1,           1,           1,           1,           1,           1,           1,           1,           1,           1,           1,           1,           1,           1,           1,           1,           1,\n",
       "                  1,           1,           1,           1,           1,           1,           1,           1,           1,           1,           1,           1,           1,           1,           1,           1,           1,           1,           1,           1,           1,           1,           1,\n",
       "                  1,           1,           1,           1,           1,           1,           1,           1,           1,           1,           1,           1,           1,           1,           1,           1,           1,           1,           1,           1,           1,           1,           1,\n",
       "                  1,           1,           1,           1,           1,           1,           1,           1,           1,           1,           1,           1,           1,           1,           1,           1,           1,           1,           1,           1,           1,           1,           1,\n",
       "                  1,           1,           1,           1,           1,           1,           1,           1,           1,           1,           1,           1,           1,           1,           1,           1,           1,           1,           1,           1,           1,           1,           1,\n",
       "                  1,           1,           1,           1,           1,           1,           1,           1,           1,           1,           1,           1,           1,           1,           1,           1,           1,           1,           1,           1,           1,           1,           1,\n",
       "                  1,           1,           1,           1,           1,           1,           1,           1,           1,           1,           1,           1,           1,           1,           1,           1,           1,           1,           1,           1,           1,           1,           1,\n",
       "                  1,           1,           1,           1,           1,           1,           1,           1,           1,           1,           1,           1,           1,           1,           1,           1,           1,           1,           1,           1,           1,           1,           1,\n",
       "                  1,           1,           1,           1,           1,           1,           1,           1,           1,           1,           1,           1,           1,           1,           1,           1,           1,           1,           1,           1,           1,           1,           1,\n",
       "                  1,           1,           1,           1,           1,           1,           1,           1,           1,           1,           1,           1,           1,           1,           1,           1,           1,           1,           1,           1,           1,           1,           1,\n",
       "                  1,           1,           1,           1,           1,           1,           1,           1,           1,           1,           1,           1,           1,           1,           1,           1,           1,           1,           1,           1,           1,           1,           1,\n",
       "                  1,           1,           1,           1,           1,           1,           1,           1,           1,           1,           1,           1,           1,           1,           1,           1,           1,           1,           1,           1,           1,           1,           1,\n",
       "                  1,           1,           1,           1,           1,           1,           1,           1,           1,           1,           1,           1,           1,           1,           1,           1,           1,           1,           1,           1,           1,           1,           1,\n",
       "                  1,           1,           1,           1,           1,           1,           1,           1,           1,           1,           1,           1,           1,           1,           1,           1,           1,           1,           1,           1,           1,           1,           1,\n",
       "                  1,           1,           1,           1,           1,           1,           1,           1,           1,           1,           1,           1,           1,           1,           1,           1,           1,           1,           1,           1,           1,           1,           1,\n",
       "                  1,           1,           1,           1,           1,           1,           1,           1,           1,           1,           1,           1,           1,           1,           1,           1,           1,           1,           1,           1,           1,           1,           1,\n",
       "                  1,           1,           1,           1,           1,           1,           1,           1,           1,           1,           1,           1,           1,           1,           1,           1,           1,           1,           1,           1,           1,           1,           1,\n",
       "                  1,           1,           1,           1,           1,           1,           1,           1,           1,           1,           1,           1,           1,           1,           1,           1,           1,           1,           1,           1,           1,           1,           1,\n",
       "                  1,           1,           1,           1,           1,           1,           1,           1,           1,           1,           1,           1,           1,           1,           1,           1,           1,           1,           1,           1,           1,           1,           1,\n",
       "                  1,           1,           1,           1,           1,           1,           1,           1,           1,           1,           1,           1,           1,           1,           1,           1,           1,           1,           1,           1,           1,           1,           1,\n",
       "                  1,           1,           1,           1,           1,           1,           1,           1,           1,           1,           1,           1,           1,           1,           1,           1,           1,           1,           1,           1,           1,           1,           1,\n",
       "                  1,           1,           1,           1,           1,           1,           1,           1,           1,           1,           0]]), 'Recall', 'Precision'], [array([          0,    0.001001,    0.002002,    0.003003,    0.004004,    0.005005,    0.006006,    0.007007,    0.008008,    0.009009,     0.01001,    0.011011,    0.012012,    0.013013,    0.014014,    0.015015,    0.016016,    0.017017,    0.018018,    0.019019,     0.02002,    0.021021,    0.022022,    0.023023,\n",
       "          0.024024,    0.025025,    0.026026,    0.027027,    0.028028,    0.029029,     0.03003,    0.031031,    0.032032,    0.033033,    0.034034,    0.035035,    0.036036,    0.037037,    0.038038,    0.039039,     0.04004,    0.041041,    0.042042,    0.043043,    0.044044,    0.045045,    0.046046,    0.047047,\n",
       "          0.048048,    0.049049,     0.05005,    0.051051,    0.052052,    0.053053,    0.054054,    0.055055,    0.056056,    0.057057,    0.058058,    0.059059,     0.06006,    0.061061,    0.062062,    0.063063,    0.064064,    0.065065,    0.066066,    0.067067,    0.068068,    0.069069,     0.07007,    0.071071,\n",
       "          0.072072,    0.073073,    0.074074,    0.075075,    0.076076,    0.077077,    0.078078,    0.079079,     0.08008,    0.081081,    0.082082,    0.083083,    0.084084,    0.085085,    0.086086,    0.087087,    0.088088,    0.089089,     0.09009,    0.091091,    0.092092,    0.093093,    0.094094,    0.095095,\n",
       "          0.096096,    0.097097,    0.098098,    0.099099,      0.1001,      0.1011,      0.1021,      0.1031,      0.1041,     0.10511,     0.10611,     0.10711,     0.10811,     0.10911,     0.11011,     0.11111,     0.11211,     0.11311,     0.11411,     0.11512,     0.11612,     0.11712,     0.11812,     0.11912,\n",
       "           0.12012,     0.12112,     0.12212,     0.12312,     0.12412,     0.12513,     0.12613,     0.12713,     0.12813,     0.12913,     0.13013,     0.13113,     0.13213,     0.13313,     0.13413,     0.13514,     0.13614,     0.13714,     0.13814,     0.13914,     0.14014,     0.14114,     0.14214,     0.14314,\n",
       "           0.14414,     0.14515,     0.14615,     0.14715,     0.14815,     0.14915,     0.15015,     0.15115,     0.15215,     0.15315,     0.15415,     0.15516,     0.15616,     0.15716,     0.15816,     0.15916,     0.16016,     0.16116,     0.16216,     0.16316,     0.16416,     0.16517,     0.16617,     0.16717,\n",
       "           0.16817,     0.16917,     0.17017,     0.17117,     0.17217,     0.17317,     0.17417,     0.17518,     0.17618,     0.17718,     0.17818,     0.17918,     0.18018,     0.18118,     0.18218,     0.18318,     0.18418,     0.18519,     0.18619,     0.18719,     0.18819,     0.18919,     0.19019,     0.19119,\n",
       "           0.19219,     0.19319,     0.19419,      0.1952,      0.1962,      0.1972,      0.1982,      0.1992,      0.2002,      0.2012,      0.2022,      0.2032,      0.2042,     0.20521,     0.20621,     0.20721,     0.20821,     0.20921,     0.21021,     0.21121,     0.21221,     0.21321,     0.21421,     0.21522,\n",
       "           0.21622,     0.21722,     0.21822,     0.21922,     0.22022,     0.22122,     0.22222,     0.22322,     0.22422,     0.22523,     0.22623,     0.22723,     0.22823,     0.22923,     0.23023,     0.23123,     0.23223,     0.23323,     0.23423,     0.23524,     0.23624,     0.23724,     0.23824,     0.23924,\n",
       "           0.24024,     0.24124,     0.24224,     0.24324,     0.24424,     0.24525,     0.24625,     0.24725,     0.24825,     0.24925,     0.25025,     0.25125,     0.25225,     0.25325,     0.25425,     0.25526,     0.25626,     0.25726,     0.25826,     0.25926,     0.26026,     0.26126,     0.26226,     0.26326,\n",
       "           0.26426,     0.26527,     0.26627,     0.26727,     0.26827,     0.26927,     0.27027,     0.27127,     0.27227,     0.27327,     0.27427,     0.27528,     0.27628,     0.27728,     0.27828,     0.27928,     0.28028,     0.28128,     0.28228,     0.28328,     0.28428,     0.28529,     0.28629,     0.28729,\n",
       "           0.28829,     0.28929,     0.29029,     0.29129,     0.29229,     0.29329,     0.29429,      0.2953,      0.2963,      0.2973,      0.2983,      0.2993,      0.3003,      0.3013,      0.3023,      0.3033,      0.3043,     0.30531,     0.30631,     0.30731,     0.30831,     0.30931,     0.31031,     0.31131,\n",
       "           0.31231,     0.31331,     0.31431,     0.31532,     0.31632,     0.31732,     0.31832,     0.31932,     0.32032,     0.32132,     0.32232,     0.32332,     0.32432,     0.32533,     0.32633,     0.32733,     0.32833,     0.32933,     0.33033,     0.33133,     0.33233,     0.33333,     0.33433,     0.33534,\n",
       "           0.33634,     0.33734,     0.33834,     0.33934,     0.34034,     0.34134,     0.34234,     0.34334,     0.34434,     0.34535,     0.34635,     0.34735,     0.34835,     0.34935,     0.35035,     0.35135,     0.35235,     0.35335,     0.35435,     0.35536,     0.35636,     0.35736,     0.35836,     0.35936,\n",
       "           0.36036,     0.36136,     0.36236,     0.36336,     0.36436,     0.36537,     0.36637,     0.36737,     0.36837,     0.36937,     0.37037,     0.37137,     0.37237,     0.37337,     0.37437,     0.37538,     0.37638,     0.37738,     0.37838,     0.37938,     0.38038,     0.38138,     0.38238,     0.38338,\n",
       "           0.38438,     0.38539,     0.38639,     0.38739,     0.38839,     0.38939,     0.39039,     0.39139,     0.39239,     0.39339,     0.39439,      0.3954,      0.3964,      0.3974,      0.3984,      0.3994,      0.4004,      0.4014,      0.4024,      0.4034,      0.4044,     0.40541,     0.40641,     0.40741,\n",
       "           0.40841,     0.40941,     0.41041,     0.41141,     0.41241,     0.41341,     0.41441,     0.41542,     0.41642,     0.41742,     0.41842,     0.41942,     0.42042,     0.42142,     0.42242,     0.42342,     0.42442,     0.42543,     0.42643,     0.42743,     0.42843,     0.42943,     0.43043,     0.43143,\n",
       "           0.43243,     0.43343,     0.43443,     0.43544,     0.43644,     0.43744,     0.43844,     0.43944,     0.44044,     0.44144,     0.44244,     0.44344,     0.44444,     0.44545,     0.44645,     0.44745,     0.44845,     0.44945,     0.45045,     0.45145,     0.45245,     0.45345,     0.45445,     0.45546,\n",
       "           0.45646,     0.45746,     0.45846,     0.45946,     0.46046,     0.46146,     0.46246,     0.46346,     0.46446,     0.46547,     0.46647,     0.46747,     0.46847,     0.46947,     0.47047,     0.47147,     0.47247,     0.47347,     0.47447,     0.47548,     0.47648,     0.47748,     0.47848,     0.47948,\n",
       "           0.48048,     0.48148,     0.48248,     0.48348,     0.48448,     0.48549,     0.48649,     0.48749,     0.48849,     0.48949,     0.49049,     0.49149,     0.49249,     0.49349,     0.49449,      0.4955,      0.4965,      0.4975,      0.4985,      0.4995,      0.5005,      0.5015,      0.5025,      0.5035,\n",
       "            0.5045,     0.50551,     0.50651,     0.50751,     0.50851,     0.50951,     0.51051,     0.51151,     0.51251,     0.51351,     0.51451,     0.51552,     0.51652,     0.51752,     0.51852,     0.51952,     0.52052,     0.52152,     0.52252,     0.52352,     0.52452,     0.52553,     0.52653,     0.52753,\n",
       "           0.52853,     0.52953,     0.53053,     0.53153,     0.53253,     0.53353,     0.53453,     0.53554,     0.53654,     0.53754,     0.53854,     0.53954,     0.54054,     0.54154,     0.54254,     0.54354,     0.54454,     0.54555,     0.54655,     0.54755,     0.54855,     0.54955,     0.55055,     0.55155,\n",
       "           0.55255,     0.55355,     0.55455,     0.55556,     0.55656,     0.55756,     0.55856,     0.55956,     0.56056,     0.56156,     0.56256,     0.56356,     0.56456,     0.56557,     0.56657,     0.56757,     0.56857,     0.56957,     0.57057,     0.57157,     0.57257,     0.57357,     0.57457,     0.57558,\n",
       "           0.57658,     0.57758,     0.57858,     0.57958,     0.58058,     0.58158,     0.58258,     0.58358,     0.58458,     0.58559,     0.58659,     0.58759,     0.58859,     0.58959,     0.59059,     0.59159,     0.59259,     0.59359,     0.59459,      0.5956,      0.5966,      0.5976,      0.5986,      0.5996,\n",
       "            0.6006,      0.6016,      0.6026,      0.6036,      0.6046,     0.60561,     0.60661,     0.60761,     0.60861,     0.60961,     0.61061,     0.61161,     0.61261,     0.61361,     0.61461,     0.61562,     0.61662,     0.61762,     0.61862,     0.61962,     0.62062,     0.62162,     0.62262,     0.62362,\n",
       "           0.62462,     0.62563,     0.62663,     0.62763,     0.62863,     0.62963,     0.63063,     0.63163,     0.63263,     0.63363,     0.63463,     0.63564,     0.63664,     0.63764,     0.63864,     0.63964,     0.64064,     0.64164,     0.64264,     0.64364,     0.64464,     0.64565,     0.64665,     0.64765,\n",
       "           0.64865,     0.64965,     0.65065,     0.65165,     0.65265,     0.65365,     0.65465,     0.65566,     0.65666,     0.65766,     0.65866,     0.65966,     0.66066,     0.66166,     0.66266,     0.66366,     0.66466,     0.66567,     0.66667,     0.66767,     0.66867,     0.66967,     0.67067,     0.67167,\n",
       "           0.67267,     0.67367,     0.67467,     0.67568,     0.67668,     0.67768,     0.67868,     0.67968,     0.68068,     0.68168,     0.68268,     0.68368,     0.68468,     0.68569,     0.68669,     0.68769,     0.68869,     0.68969,     0.69069,     0.69169,     0.69269,     0.69369,     0.69469,      0.6957,\n",
       "            0.6967,      0.6977,      0.6987,      0.6997,      0.7007,      0.7017,      0.7027,      0.7037,      0.7047,     0.70571,     0.70671,     0.70771,     0.70871,     0.70971,     0.71071,     0.71171,     0.71271,     0.71371,     0.71471,     0.71572,     0.71672,     0.71772,     0.71872,     0.71972,\n",
       "           0.72072,     0.72172,     0.72272,     0.72372,     0.72472,     0.72573,     0.72673,     0.72773,     0.72873,     0.72973,     0.73073,     0.73173,     0.73273,     0.73373,     0.73473,     0.73574,     0.73674,     0.73774,     0.73874,     0.73974,     0.74074,     0.74174,     0.74274,     0.74374,\n",
       "           0.74474,     0.74575,     0.74675,     0.74775,     0.74875,     0.74975,     0.75075,     0.75175,     0.75275,     0.75375,     0.75475,     0.75576,     0.75676,     0.75776,     0.75876,     0.75976,     0.76076,     0.76176,     0.76276,     0.76376,     0.76476,     0.76577,     0.76677,     0.76777,\n",
       "           0.76877,     0.76977,     0.77077,     0.77177,     0.77277,     0.77377,     0.77477,     0.77578,     0.77678,     0.77778,     0.77878,     0.77978,     0.78078,     0.78178,     0.78278,     0.78378,     0.78478,     0.78579,     0.78679,     0.78779,     0.78879,     0.78979,     0.79079,     0.79179,\n",
       "           0.79279,     0.79379,     0.79479,      0.7958,      0.7968,      0.7978,      0.7988,      0.7998,      0.8008,      0.8018,      0.8028,      0.8038,      0.8048,     0.80581,     0.80681,     0.80781,     0.80881,     0.80981,     0.81081,     0.81181,     0.81281,     0.81381,     0.81481,     0.81582,\n",
       "           0.81682,     0.81782,     0.81882,     0.81982,     0.82082,     0.82182,     0.82282,     0.82382,     0.82482,     0.82583,     0.82683,     0.82783,     0.82883,     0.82983,     0.83083,     0.83183,     0.83283,     0.83383,     0.83483,     0.83584,     0.83684,     0.83784,     0.83884,     0.83984,\n",
       "           0.84084,     0.84184,     0.84284,     0.84384,     0.84484,     0.84585,     0.84685,     0.84785,     0.84885,     0.84985,     0.85085,     0.85185,     0.85285,     0.85385,     0.85485,     0.85586,     0.85686,     0.85786,     0.85886,     0.85986,     0.86086,     0.86186,     0.86286,     0.86386,\n",
       "           0.86486,     0.86587,     0.86687,     0.86787,     0.86887,     0.86987,     0.87087,     0.87187,     0.87287,     0.87387,     0.87487,     0.87588,     0.87688,     0.87788,     0.87888,     0.87988,     0.88088,     0.88188,     0.88288,     0.88388,     0.88488,     0.88589,     0.88689,     0.88789,\n",
       "           0.88889,     0.88989,     0.89089,     0.89189,     0.89289,     0.89389,     0.89489,      0.8959,      0.8969,      0.8979,      0.8989,      0.8999,      0.9009,      0.9019,      0.9029,      0.9039,      0.9049,     0.90591,     0.90691,     0.90791,     0.90891,     0.90991,     0.91091,     0.91191,\n",
       "           0.91291,     0.91391,     0.91491,     0.91592,     0.91692,     0.91792,     0.91892,     0.91992,     0.92092,     0.92192,     0.92292,     0.92392,     0.92492,     0.92593,     0.92693,     0.92793,     0.92893,     0.92993,     0.93093,     0.93193,     0.93293,     0.93393,     0.93493,     0.93594,\n",
       "           0.93694,     0.93794,     0.93894,     0.93994,     0.94094,     0.94194,     0.94294,     0.94394,     0.94494,     0.94595,     0.94695,     0.94795,     0.94895,     0.94995,     0.95095,     0.95195,     0.95295,     0.95395,     0.95495,     0.95596,     0.95696,     0.95796,     0.95896,     0.95996,\n",
       "           0.96096,     0.96196,     0.96296,     0.96396,     0.96496,     0.96597,     0.96697,     0.96797,     0.96897,     0.96997,     0.97097,     0.97197,     0.97297,     0.97397,     0.97497,     0.97598,     0.97698,     0.97798,     0.97898,     0.97998,     0.98098,     0.98198,     0.98298,     0.98398,\n",
       "           0.98498,     0.98599,     0.98699,     0.98799,     0.98899,     0.98999,     0.99099,     0.99199,     0.99299,     0.99399,     0.99499,       0.996,       0.997,       0.998,       0.999,           1]), array([[    0.82876,     0.82876,     0.95371,     0.96866,     0.97494,     0.97832,     0.98046,     0.98333,     0.98554,     0.98673,      0.9875,     0.98901,     0.98963,      0.9901,     0.99022,     0.99093,     0.99201,     0.99215,     0.99261,     0.99306,     0.99322,     0.99338,     0.99363,\n",
       "            0.99463,     0.99476,     0.99493,     0.99518,     0.99524,     0.99531,     0.99562,     0.99586,     0.99603,     0.99613,      0.9962,     0.99627,     0.99634,     0.99647,     0.99659,     0.99664,     0.99669,     0.99674,     0.99679,     0.99685,     0.99695,     0.99706,     0.99715,\n",
       "            0.99724,     0.99734,     0.99747,     0.99762,     0.99778,     0.99787,     0.99795,     0.99802,     0.99816,     0.99854,     0.99857,     0.99861,     0.99864,     0.99868,     0.99871,     0.99874,     0.99878,     0.99886,     0.99894,     0.99902,     0.99906,     0.99911,     0.99915,\n",
       "             0.9992,     0.99924,     0.99927,     0.99929,     0.99931,     0.99933,     0.99935,     0.99937,     0.99939,      0.9994,     0.99942,     0.99944,     0.99946,     0.99948,      0.9995,     0.99953,     0.99962,     0.99972,     0.99976,     0.99976,     0.99976,     0.99976,     0.99976,\n",
       "            0.99976,     0.99976,     0.99976,     0.99976,     0.99976,     0.99976,     0.99976,     0.99976,     0.99976,     0.99976,     0.99976,     0.99976,     0.99976,     0.99976,     0.99976,     0.99976,     0.99976,     0.99976,     0.99976,     0.99976,     0.99976,     0.99976,     0.99976,\n",
       "            0.99976,     0.99976,     0.99976,     0.99976,     0.99976,     0.99976,     0.99976,     0.99976,     0.99977,     0.99977,     0.99977,     0.99977,     0.99977,     0.99977,     0.99977,     0.99977,     0.99977,     0.99977,     0.99977,     0.99977,     0.99977,     0.99977,     0.99977,\n",
       "            0.99977,     0.99977,     0.99977,     0.99977,     0.99977,     0.99977,     0.99977,     0.99977,     0.99977,     0.99977,     0.99977,     0.99977,     0.99977,     0.99977,     0.99977,     0.99977,     0.99977,     0.99977,     0.99977,     0.99977,     0.99977,     0.99978,     0.99978,\n",
       "            0.99978,     0.99978,     0.99978,     0.99978,     0.99978,     0.99978,     0.99978,     0.99978,     0.99978,     0.99978,     0.99978,     0.99978,     0.99978,     0.99978,     0.99978,     0.99978,     0.99978,     0.99978,     0.99978,     0.99978,     0.99978,     0.99978,     0.99978,\n",
       "            0.99978,     0.99978,     0.99978,     0.99978,     0.99978,     0.99978,     0.99978,     0.99978,     0.99978,     0.99978,     0.99978,     0.99979,     0.99979,     0.99979,     0.99979,     0.99979,     0.99979,     0.99979,     0.99979,     0.99979,     0.99979,     0.99979,     0.99979,\n",
       "            0.99979,     0.99979,     0.99979,     0.99979,     0.99979,     0.99979,     0.99979,     0.99979,     0.99979,     0.99979,     0.99979,     0.99979,     0.99979,     0.99979,     0.99979,     0.99979,     0.99979,     0.99979,     0.99979,     0.99979,     0.99979,     0.99979,     0.99979,\n",
       "            0.99979,      0.9998,      0.9998,      0.9998,      0.9998,      0.9998,      0.9998,      0.9998,      0.9998,      0.9998,      0.9998,      0.9998,      0.9998,      0.9998,      0.9998,      0.9998,      0.9998,      0.9998,      0.9998,      0.9998,      0.9998,      0.9998,      0.9998,\n",
       "             0.9998,      0.9998,      0.9998,      0.9998,      0.9998,      0.9998,      0.9998,      0.9998,      0.9998,      0.9998,      0.9998,      0.9998,      0.9998,      0.9998,     0.99981,     0.99981,     0.99981,     0.99981,     0.99981,     0.99981,     0.99981,     0.99981,     0.99981,\n",
       "            0.99981,     0.99981,     0.99981,     0.99981,     0.99981,     0.99981,     0.99981,     0.99981,     0.99981,     0.99981,     0.99981,     0.99981,     0.99981,     0.99981,     0.99981,     0.99981,     0.99981,     0.99981,     0.99981,     0.99981,     0.99981,     0.99981,     0.99981,\n",
       "            0.99981,     0.99981,     0.99981,     0.99981,     0.99981,     0.99982,     0.99982,     0.99982,     0.99982,     0.99982,     0.99982,     0.99982,     0.99982,     0.99982,     0.99982,     0.99982,     0.99982,     0.99982,     0.99982,     0.99982,     0.99982,     0.99982,     0.99982,\n",
       "            0.99982,     0.99982,     0.99982,     0.99982,     0.99982,     0.99982,     0.99982,     0.99982,     0.99982,     0.99982,     0.99982,     0.99982,     0.99982,     0.99982,     0.99982,     0.99982,     0.99982,     0.99982,     0.99983,     0.99983,     0.99983,     0.99983,     0.99983,\n",
       "            0.99983,     0.99983,     0.99983,     0.99983,     0.99983,     0.99983,     0.99983,     0.99983,     0.99983,     0.99983,     0.99983,     0.99983,     0.99983,     0.99983,     0.99983,     0.99983,     0.99983,     0.99983,     0.99983,     0.99983,     0.99983,     0.99983,     0.99983,\n",
       "            0.99983,     0.99983,     0.99983,     0.99983,     0.99983,     0.99983,     0.99983,     0.99983,     0.99984,     0.99984,     0.99984,     0.99984,     0.99984,     0.99984,     0.99984,     0.99984,     0.99984,     0.99984,     0.99984,     0.99984,     0.99984,     0.99984,     0.99984,\n",
       "            0.99984,     0.99984,     0.99984,     0.99984,     0.99984,     0.99984,     0.99984,     0.99984,     0.99984,     0.99984,     0.99984,     0.99984,     0.99984,     0.99984,     0.99984,     0.99984,     0.99984,     0.99984,     0.99984,     0.99984,     0.99984,     0.99985,     0.99985,\n",
       "            0.99985,     0.99985,     0.99985,     0.99985,     0.99985,     0.99985,     0.99985,     0.99985,     0.99985,     0.99985,     0.99985,     0.99985,     0.99985,     0.99985,     0.99985,     0.99985,     0.99985,     0.99985,     0.99985,     0.99985,     0.99985,     0.99985,     0.99985,\n",
       "            0.99985,     0.99985,     0.99985,     0.99985,     0.99985,     0.99985,     0.99985,     0.99985,     0.99985,     0.99985,     0.99985,     0.99986,     0.99986,     0.99986,     0.99986,     0.99986,     0.99986,     0.99986,     0.99986,     0.99986,     0.99986,     0.99986,     0.99986,\n",
       "            0.99986,     0.99986,     0.99986,     0.99986,     0.99986,     0.99986,     0.99986,     0.99986,     0.99986,     0.99986,     0.99986,     0.99986,     0.99986,     0.99986,     0.99986,     0.99986,     0.99986,     0.99986,     0.99986,     0.99986,     0.99986,     0.99986,     0.99986,\n",
       "            0.99986,     0.99987,     0.99987,     0.99987,     0.99987,     0.99987,     0.99987,     0.99987,     0.99987,     0.99987,     0.99987,     0.99987,     0.99987,     0.99987,     0.99987,     0.99987,     0.99987,     0.99987,     0.99987,     0.99987,     0.99987,     0.99987,     0.99987,\n",
       "            0.99987,     0.99987,     0.99987,     0.99987,     0.99987,     0.99987,     0.99987,     0.99987,     0.99987,     0.99987,     0.99987,     0.99987,     0.99987,     0.99987,     0.99988,     0.99988,     0.99988,     0.99988,     0.99988,     0.99988,     0.99988,     0.99988,     0.99988,\n",
       "            0.99988,     0.99988,     0.99988,     0.99988,     0.99988,     0.99988,     0.99988,     0.99988,     0.99988,     0.99988,     0.99988,     0.99988,     0.99988,     0.99988,     0.99988,     0.99988,     0.99988,     0.99988,     0.99988,     0.99988,     0.99988,     0.99988,     0.99988,\n",
       "            0.99988,     0.99988,     0.99988,     0.99988,     0.99989,     0.99989,     0.99989,     0.99989,     0.99989,     0.99989,     0.99989,     0.99989,     0.99989,     0.99989,     0.99989,     0.99989,     0.99989,     0.99989,     0.99989,     0.99989,     0.99989,     0.99989,     0.99989,\n",
       "            0.99989,     0.99989,     0.99989,     0.99989,     0.99989,     0.99989,     0.99989,     0.99989,     0.99989,     0.99989,     0.99989,     0.99989,     0.99989,     0.99989,     0.99989,     0.99989,     0.99989,      0.9999,      0.9999,      0.9999,      0.9999,      0.9999,      0.9999,\n",
       "             0.9999,      0.9999,      0.9999,      0.9999,      0.9999,      0.9999,      0.9999,      0.9999,      0.9999,      0.9999,      0.9999,      0.9999,      0.9999,      0.9999,      0.9999,      0.9999,      0.9999,      0.9999,      0.9999,      0.9999,      0.9999,      0.9999,      0.9999,\n",
       "             0.9999,      0.9999,      0.9999,      0.9999,      0.9999,      0.9999,      0.9999,     0.99991,     0.99991,     0.99991,     0.99991,     0.99991,     0.99991,     0.99991,     0.99991,     0.99991,     0.99991,     0.99991,     0.99991,     0.99991,     0.99991,     0.99991,     0.99991,\n",
       "            0.99991,     0.99991,     0.99991,     0.99991,     0.99991,     0.99991,     0.99991,     0.99991,     0.99991,     0.99991,     0.99991,     0.99991,     0.99991,     0.99991,     0.99991,     0.99991,     0.99991,     0.99991,     0.99991,     0.99991,     0.99992,     0.99992,     0.99992,\n",
       "            0.99992,     0.99992,     0.99992,     0.99992,     0.99992,     0.99992,     0.99992,     0.99992,     0.99992,     0.99992,     0.99992,     0.99992,     0.99992,     0.99992,     0.99992,     0.99992,     0.99992,     0.99992,     0.99992,     0.99992,     0.99992,     0.99992,     0.99992,\n",
       "            0.99992,     0.99992,     0.99992,     0.99992,     0.99992,     0.99992,     0.99992,     0.99992,     0.99992,     0.99992,     0.99993,     0.99993,     0.99993,     0.99993,     0.99993,     0.99993,     0.99993,     0.99993,     0.99993,     0.99993,     0.99993,     0.99993,     0.99993,\n",
       "            0.99993,     0.99993,     0.99993,     0.99993,     0.99993,     0.99993,     0.99993,     0.99993,     0.99993,     0.99993,     0.99993,     0.99993,     0.99993,     0.99993,     0.99993,     0.99993,     0.99993,     0.99993,     0.99993,     0.99993,     0.99993,     0.99993,     0.99993,\n",
       "            0.99993,     0.99994,     0.99994,     0.99994,     0.99994,     0.99994,     0.99994,     0.99994,     0.99994,     0.99994,     0.99994,     0.99994,     0.99994,     0.99994,     0.99994,     0.99994,     0.99994,     0.99994,     0.99994,     0.99994,     0.99994,     0.99994,     0.99994,\n",
       "            0.99994,     0.99994,     0.99994,     0.99994,     0.99994,     0.99994,     0.99994,     0.99994,     0.99994,     0.99994,     0.99994,     0.99994,     0.99994,     0.99994,     0.99995,     0.99995,     0.99995,     0.99995,     0.99995,     0.99995,     0.99995,     0.99995,     0.99995,\n",
       "            0.99995,     0.99995,     0.99995,     0.99995,     0.99995,     0.99995,     0.99995,     0.99995,     0.99995,     0.99995,     0.99995,     0.99995,     0.99995,     0.99995,     0.99995,     0.99995,     0.99995,     0.99995,     0.99995,     0.99995,     0.99995,     0.99995,     0.99995,\n",
       "            0.99995,     0.99995,     0.99995,     0.99995,     0.99996,     0.99996,     0.99996,     0.99996,     0.99996,     0.99996,     0.99996,     0.99996,     0.99996,     0.99996,     0.99996,     0.99996,     0.99996,     0.99996,     0.99996,     0.99996,     0.99996,     0.99996,     0.99996,\n",
       "            0.99996,     0.99996,     0.99996,     0.99996,     0.99996,     0.99996,     0.99996,     0.99996,     0.99996,     0.99996,     0.99996,     0.99996,     0.99996,     0.99996,     0.99996,     0.99996,     0.99996,     0.99997,     0.99997,     0.99997,     0.99997,     0.99997,     0.99997,\n",
       "            0.99997,     0.99997,     0.99997,     0.99997,     0.99997,     0.99997,     0.99997,     0.99997,     0.99997,     0.99997,     0.99997,     0.99997,     0.99997,     0.99997,     0.99997,     0.99997,     0.99997,     0.99997,     0.99997,     0.99997,     0.99997,     0.99997,     0.99997,\n",
       "            0.99997,     0.99997,     0.99997,     0.99997,     0.99997,     0.99997,     0.99997,     0.99998,     0.99998,     0.99998,     0.99998,     0.99998,     0.99998,     0.99998,     0.99998,     0.99998,     0.99998,     0.99998,     0.99998,     0.99998,     0.99998,     0.99998,     0.99998,\n",
       "            0.99998,     0.99998,     0.99998,     0.99998,     0.99998,     0.99998,     0.99998,     0.99998,     0.99998,     0.99998,     0.99998,     0.99998,     0.99998,     0.99998,     0.99998,     0.99998,     0.99998,     0.99998,     0.99998,     0.99998,     0.99999,     0.99999,     0.99999,\n",
       "            0.99999,     0.99999,     0.99999,     0.99999,     0.99999,     0.99999,     0.99999,     0.99999,     0.99999,     0.99999,     0.99999,     0.99999,     0.99999,     0.99999,     0.99999,     0.99999,     0.99999,     0.99999,     0.99999,     0.99999,     0.99999,     0.99999,     0.99999,\n",
       "            0.99999,     0.99999,     0.99999,     0.99999,     0.99999,     0.99999,     0.99999,     0.99999,     0.99999,     0.99999,           1,           1,           1,           1,           1,           1,           1,           1,           1,           1,           1,           1,           1,\n",
       "                  1,           1,           1,           1,           1,     0.99961,     0.99812,     0.99117,     0.96924,     0.90417,     0.75805,     0.58975,     0.32996,     0.15718,    0.045931,   0.0057685,           0,           0,           0,           0,           0,           0,           0,\n",
       "                  0,           0,           0,           0,           0,           0,           0,           0,           0,           0,           0]]), 'Confidence', 'F1'], [array([          0,    0.001001,    0.002002,    0.003003,    0.004004,    0.005005,    0.006006,    0.007007,    0.008008,    0.009009,     0.01001,    0.011011,    0.012012,    0.013013,    0.014014,    0.015015,    0.016016,    0.017017,    0.018018,    0.019019,     0.02002,    0.021021,    0.022022,    0.023023,\n",
       "          0.024024,    0.025025,    0.026026,    0.027027,    0.028028,    0.029029,     0.03003,    0.031031,    0.032032,    0.033033,    0.034034,    0.035035,    0.036036,    0.037037,    0.038038,    0.039039,     0.04004,    0.041041,    0.042042,    0.043043,    0.044044,    0.045045,    0.046046,    0.047047,\n",
       "          0.048048,    0.049049,     0.05005,    0.051051,    0.052052,    0.053053,    0.054054,    0.055055,    0.056056,    0.057057,    0.058058,    0.059059,     0.06006,    0.061061,    0.062062,    0.063063,    0.064064,    0.065065,    0.066066,    0.067067,    0.068068,    0.069069,     0.07007,    0.071071,\n",
       "          0.072072,    0.073073,    0.074074,    0.075075,    0.076076,    0.077077,    0.078078,    0.079079,     0.08008,    0.081081,    0.082082,    0.083083,    0.084084,    0.085085,    0.086086,    0.087087,    0.088088,    0.089089,     0.09009,    0.091091,    0.092092,    0.093093,    0.094094,    0.095095,\n",
       "          0.096096,    0.097097,    0.098098,    0.099099,      0.1001,      0.1011,      0.1021,      0.1031,      0.1041,     0.10511,     0.10611,     0.10711,     0.10811,     0.10911,     0.11011,     0.11111,     0.11211,     0.11311,     0.11411,     0.11512,     0.11612,     0.11712,     0.11812,     0.11912,\n",
       "           0.12012,     0.12112,     0.12212,     0.12312,     0.12412,     0.12513,     0.12613,     0.12713,     0.12813,     0.12913,     0.13013,     0.13113,     0.13213,     0.13313,     0.13413,     0.13514,     0.13614,     0.13714,     0.13814,     0.13914,     0.14014,     0.14114,     0.14214,     0.14314,\n",
       "           0.14414,     0.14515,     0.14615,     0.14715,     0.14815,     0.14915,     0.15015,     0.15115,     0.15215,     0.15315,     0.15415,     0.15516,     0.15616,     0.15716,     0.15816,     0.15916,     0.16016,     0.16116,     0.16216,     0.16316,     0.16416,     0.16517,     0.16617,     0.16717,\n",
       "           0.16817,     0.16917,     0.17017,     0.17117,     0.17217,     0.17317,     0.17417,     0.17518,     0.17618,     0.17718,     0.17818,     0.17918,     0.18018,     0.18118,     0.18218,     0.18318,     0.18418,     0.18519,     0.18619,     0.18719,     0.18819,     0.18919,     0.19019,     0.19119,\n",
       "           0.19219,     0.19319,     0.19419,      0.1952,      0.1962,      0.1972,      0.1982,      0.1992,      0.2002,      0.2012,      0.2022,      0.2032,      0.2042,     0.20521,     0.20621,     0.20721,     0.20821,     0.20921,     0.21021,     0.21121,     0.21221,     0.21321,     0.21421,     0.21522,\n",
       "           0.21622,     0.21722,     0.21822,     0.21922,     0.22022,     0.22122,     0.22222,     0.22322,     0.22422,     0.22523,     0.22623,     0.22723,     0.22823,     0.22923,     0.23023,     0.23123,     0.23223,     0.23323,     0.23423,     0.23524,     0.23624,     0.23724,     0.23824,     0.23924,\n",
       "           0.24024,     0.24124,     0.24224,     0.24324,     0.24424,     0.24525,     0.24625,     0.24725,     0.24825,     0.24925,     0.25025,     0.25125,     0.25225,     0.25325,     0.25425,     0.25526,     0.25626,     0.25726,     0.25826,     0.25926,     0.26026,     0.26126,     0.26226,     0.26326,\n",
       "           0.26426,     0.26527,     0.26627,     0.26727,     0.26827,     0.26927,     0.27027,     0.27127,     0.27227,     0.27327,     0.27427,     0.27528,     0.27628,     0.27728,     0.27828,     0.27928,     0.28028,     0.28128,     0.28228,     0.28328,     0.28428,     0.28529,     0.28629,     0.28729,\n",
       "           0.28829,     0.28929,     0.29029,     0.29129,     0.29229,     0.29329,     0.29429,      0.2953,      0.2963,      0.2973,      0.2983,      0.2993,      0.3003,      0.3013,      0.3023,      0.3033,      0.3043,     0.30531,     0.30631,     0.30731,     0.30831,     0.30931,     0.31031,     0.31131,\n",
       "           0.31231,     0.31331,     0.31431,     0.31532,     0.31632,     0.31732,     0.31832,     0.31932,     0.32032,     0.32132,     0.32232,     0.32332,     0.32432,     0.32533,     0.32633,     0.32733,     0.32833,     0.32933,     0.33033,     0.33133,     0.33233,     0.33333,     0.33433,     0.33534,\n",
       "           0.33634,     0.33734,     0.33834,     0.33934,     0.34034,     0.34134,     0.34234,     0.34334,     0.34434,     0.34535,     0.34635,     0.34735,     0.34835,     0.34935,     0.35035,     0.35135,     0.35235,     0.35335,     0.35435,     0.35536,     0.35636,     0.35736,     0.35836,     0.35936,\n",
       "           0.36036,     0.36136,     0.36236,     0.36336,     0.36436,     0.36537,     0.36637,     0.36737,     0.36837,     0.36937,     0.37037,     0.37137,     0.37237,     0.37337,     0.37437,     0.37538,     0.37638,     0.37738,     0.37838,     0.37938,     0.38038,     0.38138,     0.38238,     0.38338,\n",
       "           0.38438,     0.38539,     0.38639,     0.38739,     0.38839,     0.38939,     0.39039,     0.39139,     0.39239,     0.39339,     0.39439,      0.3954,      0.3964,      0.3974,      0.3984,      0.3994,      0.4004,      0.4014,      0.4024,      0.4034,      0.4044,     0.40541,     0.40641,     0.40741,\n",
       "           0.40841,     0.40941,     0.41041,     0.41141,     0.41241,     0.41341,     0.41441,     0.41542,     0.41642,     0.41742,     0.41842,     0.41942,     0.42042,     0.42142,     0.42242,     0.42342,     0.42442,     0.42543,     0.42643,     0.42743,     0.42843,     0.42943,     0.43043,     0.43143,\n",
       "           0.43243,     0.43343,     0.43443,     0.43544,     0.43644,     0.43744,     0.43844,     0.43944,     0.44044,     0.44144,     0.44244,     0.44344,     0.44444,     0.44545,     0.44645,     0.44745,     0.44845,     0.44945,     0.45045,     0.45145,     0.45245,     0.45345,     0.45445,     0.45546,\n",
       "           0.45646,     0.45746,     0.45846,     0.45946,     0.46046,     0.46146,     0.46246,     0.46346,     0.46446,     0.46547,     0.46647,     0.46747,     0.46847,     0.46947,     0.47047,     0.47147,     0.47247,     0.47347,     0.47447,     0.47548,     0.47648,     0.47748,     0.47848,     0.47948,\n",
       "           0.48048,     0.48148,     0.48248,     0.48348,     0.48448,     0.48549,     0.48649,     0.48749,     0.48849,     0.48949,     0.49049,     0.49149,     0.49249,     0.49349,     0.49449,      0.4955,      0.4965,      0.4975,      0.4985,      0.4995,      0.5005,      0.5015,      0.5025,      0.5035,\n",
       "            0.5045,     0.50551,     0.50651,     0.50751,     0.50851,     0.50951,     0.51051,     0.51151,     0.51251,     0.51351,     0.51451,     0.51552,     0.51652,     0.51752,     0.51852,     0.51952,     0.52052,     0.52152,     0.52252,     0.52352,     0.52452,     0.52553,     0.52653,     0.52753,\n",
       "           0.52853,     0.52953,     0.53053,     0.53153,     0.53253,     0.53353,     0.53453,     0.53554,     0.53654,     0.53754,     0.53854,     0.53954,     0.54054,     0.54154,     0.54254,     0.54354,     0.54454,     0.54555,     0.54655,     0.54755,     0.54855,     0.54955,     0.55055,     0.55155,\n",
       "           0.55255,     0.55355,     0.55455,     0.55556,     0.55656,     0.55756,     0.55856,     0.55956,     0.56056,     0.56156,     0.56256,     0.56356,     0.56456,     0.56557,     0.56657,     0.56757,     0.56857,     0.56957,     0.57057,     0.57157,     0.57257,     0.57357,     0.57457,     0.57558,\n",
       "           0.57658,     0.57758,     0.57858,     0.57958,     0.58058,     0.58158,     0.58258,     0.58358,     0.58458,     0.58559,     0.58659,     0.58759,     0.58859,     0.58959,     0.59059,     0.59159,     0.59259,     0.59359,     0.59459,      0.5956,      0.5966,      0.5976,      0.5986,      0.5996,\n",
       "            0.6006,      0.6016,      0.6026,      0.6036,      0.6046,     0.60561,     0.60661,     0.60761,     0.60861,     0.60961,     0.61061,     0.61161,     0.61261,     0.61361,     0.61461,     0.61562,     0.61662,     0.61762,     0.61862,     0.61962,     0.62062,     0.62162,     0.62262,     0.62362,\n",
       "           0.62462,     0.62563,     0.62663,     0.62763,     0.62863,     0.62963,     0.63063,     0.63163,     0.63263,     0.63363,     0.63463,     0.63564,     0.63664,     0.63764,     0.63864,     0.63964,     0.64064,     0.64164,     0.64264,     0.64364,     0.64464,     0.64565,     0.64665,     0.64765,\n",
       "           0.64865,     0.64965,     0.65065,     0.65165,     0.65265,     0.65365,     0.65465,     0.65566,     0.65666,     0.65766,     0.65866,     0.65966,     0.66066,     0.66166,     0.66266,     0.66366,     0.66466,     0.66567,     0.66667,     0.66767,     0.66867,     0.66967,     0.67067,     0.67167,\n",
       "           0.67267,     0.67367,     0.67467,     0.67568,     0.67668,     0.67768,     0.67868,     0.67968,     0.68068,     0.68168,     0.68268,     0.68368,     0.68468,     0.68569,     0.68669,     0.68769,     0.68869,     0.68969,     0.69069,     0.69169,     0.69269,     0.69369,     0.69469,      0.6957,\n",
       "            0.6967,      0.6977,      0.6987,      0.6997,      0.7007,      0.7017,      0.7027,      0.7037,      0.7047,     0.70571,     0.70671,     0.70771,     0.70871,     0.70971,     0.71071,     0.71171,     0.71271,     0.71371,     0.71471,     0.71572,     0.71672,     0.71772,     0.71872,     0.71972,\n",
       "           0.72072,     0.72172,     0.72272,     0.72372,     0.72472,     0.72573,     0.72673,     0.72773,     0.72873,     0.72973,     0.73073,     0.73173,     0.73273,     0.73373,     0.73473,     0.73574,     0.73674,     0.73774,     0.73874,     0.73974,     0.74074,     0.74174,     0.74274,     0.74374,\n",
       "           0.74474,     0.74575,     0.74675,     0.74775,     0.74875,     0.74975,     0.75075,     0.75175,     0.75275,     0.75375,     0.75475,     0.75576,     0.75676,     0.75776,     0.75876,     0.75976,     0.76076,     0.76176,     0.76276,     0.76376,     0.76476,     0.76577,     0.76677,     0.76777,\n",
       "           0.76877,     0.76977,     0.77077,     0.77177,     0.77277,     0.77377,     0.77477,     0.77578,     0.77678,     0.77778,     0.77878,     0.77978,     0.78078,     0.78178,     0.78278,     0.78378,     0.78478,     0.78579,     0.78679,     0.78779,     0.78879,     0.78979,     0.79079,     0.79179,\n",
       "           0.79279,     0.79379,     0.79479,      0.7958,      0.7968,      0.7978,      0.7988,      0.7998,      0.8008,      0.8018,      0.8028,      0.8038,      0.8048,     0.80581,     0.80681,     0.80781,     0.80881,     0.80981,     0.81081,     0.81181,     0.81281,     0.81381,     0.81481,     0.81582,\n",
       "           0.81682,     0.81782,     0.81882,     0.81982,     0.82082,     0.82182,     0.82282,     0.82382,     0.82482,     0.82583,     0.82683,     0.82783,     0.82883,     0.82983,     0.83083,     0.83183,     0.83283,     0.83383,     0.83483,     0.83584,     0.83684,     0.83784,     0.83884,     0.83984,\n",
       "           0.84084,     0.84184,     0.84284,     0.84384,     0.84484,     0.84585,     0.84685,     0.84785,     0.84885,     0.84985,     0.85085,     0.85185,     0.85285,     0.85385,     0.85485,     0.85586,     0.85686,     0.85786,     0.85886,     0.85986,     0.86086,     0.86186,     0.86286,     0.86386,\n",
       "           0.86486,     0.86587,     0.86687,     0.86787,     0.86887,     0.86987,     0.87087,     0.87187,     0.87287,     0.87387,     0.87487,     0.87588,     0.87688,     0.87788,     0.87888,     0.87988,     0.88088,     0.88188,     0.88288,     0.88388,     0.88488,     0.88589,     0.88689,     0.88789,\n",
       "           0.88889,     0.88989,     0.89089,     0.89189,     0.89289,     0.89389,     0.89489,      0.8959,      0.8969,      0.8979,      0.8989,      0.8999,      0.9009,      0.9019,      0.9029,      0.9039,      0.9049,     0.90591,     0.90691,     0.90791,     0.90891,     0.90991,     0.91091,     0.91191,\n",
       "           0.91291,     0.91391,     0.91491,     0.91592,     0.91692,     0.91792,     0.91892,     0.91992,     0.92092,     0.92192,     0.92292,     0.92392,     0.92492,     0.92593,     0.92693,     0.92793,     0.92893,     0.92993,     0.93093,     0.93193,     0.93293,     0.93393,     0.93493,     0.93594,\n",
       "           0.93694,     0.93794,     0.93894,     0.93994,     0.94094,     0.94194,     0.94294,     0.94394,     0.94494,     0.94595,     0.94695,     0.94795,     0.94895,     0.94995,     0.95095,     0.95195,     0.95295,     0.95395,     0.95495,     0.95596,     0.95696,     0.95796,     0.95896,     0.95996,\n",
       "           0.96096,     0.96196,     0.96296,     0.96396,     0.96496,     0.96597,     0.96697,     0.96797,     0.96897,     0.96997,     0.97097,     0.97197,     0.97297,     0.97397,     0.97497,     0.97598,     0.97698,     0.97798,     0.97898,     0.97998,     0.98098,     0.98198,     0.98298,     0.98398,\n",
       "           0.98498,     0.98599,     0.98699,     0.98799,     0.98899,     0.98999,     0.99099,     0.99199,     0.99299,     0.99399,     0.99499,       0.996,       0.997,       0.998,       0.999,           1]), array([[     0.7076,      0.7076,     0.91152,     0.93922,      0.9511,     0.95756,     0.96166,     0.96721,      0.9715,     0.97382,     0.97531,     0.97827,     0.97948,     0.98039,     0.98063,     0.98202,     0.98415,     0.98442,     0.98532,     0.98621,     0.98653,     0.98685,     0.98734,\n",
       "            0.98933,     0.98957,     0.98992,      0.9904,     0.99053,     0.99066,     0.99128,     0.99175,     0.99208,      0.9923,     0.99243,     0.99256,      0.9927,     0.99297,      0.9932,      0.9933,      0.9934,     0.99349,     0.99359,     0.99371,     0.99393,     0.99414,     0.99432,\n",
       "             0.9945,      0.9947,     0.99496,     0.99525,     0.99558,     0.99575,      0.9959,     0.99605,     0.99632,     0.99708,     0.99715,     0.99722,     0.99728,     0.99735,     0.99742,     0.99749,     0.99757,     0.99772,     0.99788,     0.99803,     0.99813,     0.99822,     0.99831,\n",
       "             0.9984,     0.99849,     0.99855,     0.99859,     0.99862,     0.99866,      0.9987,     0.99873,     0.99877,     0.99881,     0.99884,     0.99888,     0.99892,     0.99896,     0.99899,     0.99906,     0.99925,     0.99944,     0.99951,     0.99951,     0.99951,     0.99951,     0.99951,\n",
       "            0.99951,     0.99951,     0.99951,     0.99951,     0.99952,     0.99952,     0.99952,     0.99952,     0.99952,     0.99952,     0.99952,     0.99952,     0.99952,     0.99952,     0.99952,     0.99952,     0.99952,     0.99952,     0.99952,     0.99952,     0.99952,     0.99952,     0.99953,\n",
       "            0.99953,     0.99953,     0.99953,     0.99953,     0.99953,     0.99953,     0.99953,     0.99953,     0.99953,     0.99953,     0.99953,     0.99953,     0.99953,     0.99953,     0.99953,     0.99953,     0.99953,     0.99954,     0.99954,     0.99954,     0.99954,     0.99954,     0.99954,\n",
       "            0.99954,     0.99954,     0.99954,     0.99954,     0.99954,     0.99954,     0.99954,     0.99954,     0.99954,     0.99954,     0.99954,     0.99954,     0.99955,     0.99955,     0.99955,     0.99955,     0.99955,     0.99955,     0.99955,     0.99955,     0.99955,     0.99955,     0.99955,\n",
       "            0.99955,     0.99955,     0.99955,     0.99955,     0.99955,     0.99955,     0.99955,     0.99956,     0.99956,     0.99956,     0.99956,     0.99956,     0.99956,     0.99956,     0.99956,     0.99956,     0.99956,     0.99956,     0.99956,     0.99956,     0.99956,     0.99956,     0.99956,\n",
       "            0.99956,     0.99956,     0.99957,     0.99957,     0.99957,     0.99957,     0.99957,     0.99957,     0.99957,     0.99957,     0.99957,     0.99957,     0.99957,     0.99957,     0.99957,     0.99957,     0.99957,     0.99957,     0.99957,     0.99957,     0.99958,     0.99958,     0.99958,\n",
       "            0.99958,     0.99958,     0.99958,     0.99958,     0.99958,     0.99958,     0.99958,     0.99958,     0.99958,     0.99958,     0.99958,     0.99958,     0.99958,     0.99958,     0.99958,     0.99959,     0.99959,     0.99959,     0.99959,     0.99959,     0.99959,     0.99959,     0.99959,\n",
       "            0.99959,     0.99959,     0.99959,     0.99959,     0.99959,     0.99959,     0.99959,     0.99959,     0.99959,     0.99959,      0.9996,      0.9996,      0.9996,      0.9996,      0.9996,      0.9996,      0.9996,      0.9996,      0.9996,      0.9996,      0.9996,      0.9996,      0.9996,\n",
       "             0.9996,      0.9996,      0.9996,      0.9996,      0.9996,     0.99961,     0.99961,     0.99961,     0.99961,     0.99961,     0.99961,     0.99961,     0.99961,     0.99961,     0.99961,     0.99961,     0.99961,     0.99961,     0.99961,     0.99961,     0.99961,     0.99961,     0.99961,\n",
       "            0.99962,     0.99962,     0.99962,     0.99962,     0.99962,     0.99962,     0.99962,     0.99962,     0.99962,     0.99962,     0.99962,     0.99962,     0.99962,     0.99962,     0.99962,     0.99962,     0.99962,     0.99962,     0.99963,     0.99963,     0.99963,     0.99963,     0.99963,\n",
       "            0.99963,     0.99963,     0.99963,     0.99963,     0.99963,     0.99963,     0.99963,     0.99963,     0.99963,     0.99963,     0.99963,     0.99963,     0.99963,     0.99964,     0.99964,     0.99964,     0.99964,     0.99964,     0.99964,     0.99964,     0.99964,     0.99964,     0.99964,\n",
       "            0.99964,     0.99964,     0.99964,     0.99964,     0.99964,     0.99964,     0.99964,     0.99964,     0.99965,     0.99965,     0.99965,     0.99965,     0.99965,     0.99965,     0.99965,     0.99965,     0.99965,     0.99965,     0.99965,     0.99965,     0.99965,     0.99965,     0.99965,\n",
       "            0.99965,     0.99965,     0.99965,     0.99965,     0.99966,     0.99966,     0.99966,     0.99966,     0.99966,     0.99966,     0.99966,     0.99966,     0.99966,     0.99966,     0.99966,     0.99966,     0.99966,     0.99966,     0.99966,     0.99966,     0.99966,     0.99966,     0.99967,\n",
       "            0.99967,     0.99967,     0.99967,     0.99967,     0.99967,     0.99967,     0.99967,     0.99967,     0.99967,     0.99967,     0.99967,     0.99967,     0.99967,     0.99967,     0.99967,     0.99967,     0.99967,     0.99968,     0.99968,     0.99968,     0.99968,     0.99968,     0.99968,\n",
       "            0.99968,     0.99968,     0.99968,     0.99968,     0.99968,     0.99968,     0.99968,     0.99968,     0.99968,     0.99968,     0.99968,     0.99968,     0.99969,     0.99969,     0.99969,     0.99969,     0.99969,     0.99969,     0.99969,     0.99969,     0.99969,     0.99969,     0.99969,\n",
       "            0.99969,     0.99969,     0.99969,     0.99969,     0.99969,     0.99969,     0.99969,      0.9997,      0.9997,      0.9997,      0.9997,      0.9997,      0.9997,      0.9997,      0.9997,      0.9997,      0.9997,      0.9997,      0.9997,      0.9997,      0.9997,      0.9997,      0.9997,\n",
       "             0.9997,      0.9997,     0.99971,     0.99971,     0.99971,     0.99971,     0.99971,     0.99971,     0.99971,     0.99971,     0.99971,     0.99971,     0.99971,     0.99971,     0.99971,     0.99971,     0.99971,     0.99971,     0.99971,     0.99971,     0.99972,     0.99972,     0.99972,\n",
       "            0.99972,     0.99972,     0.99972,     0.99972,     0.99972,     0.99972,     0.99972,     0.99972,     0.99972,     0.99972,     0.99972,     0.99972,     0.99972,     0.99972,     0.99972,     0.99973,     0.99973,     0.99973,     0.99973,     0.99973,     0.99973,     0.99973,     0.99973,\n",
       "            0.99973,     0.99973,     0.99973,     0.99973,     0.99973,     0.99973,     0.99973,     0.99973,     0.99973,     0.99973,     0.99974,     0.99974,     0.99974,     0.99974,     0.99974,     0.99974,     0.99974,     0.99974,     0.99974,     0.99974,     0.99974,     0.99974,     0.99974,\n",
       "            0.99974,     0.99974,     0.99974,     0.99974,     0.99974,     0.99975,     0.99975,     0.99975,     0.99975,     0.99975,     0.99975,     0.99975,     0.99975,     0.99975,     0.99975,     0.99975,     0.99975,     0.99975,     0.99975,     0.99975,     0.99975,     0.99975,     0.99975,\n",
       "            0.99976,     0.99976,     0.99976,     0.99976,     0.99976,     0.99976,     0.99976,     0.99976,     0.99976,     0.99976,     0.99976,     0.99976,     0.99976,     0.99976,     0.99976,     0.99976,     0.99976,     0.99976,     0.99977,     0.99977,     0.99977,     0.99977,     0.99977,\n",
       "            0.99977,     0.99977,     0.99977,     0.99977,     0.99977,     0.99977,     0.99977,     0.99977,     0.99977,     0.99977,     0.99977,     0.99977,     0.99977,     0.99978,     0.99978,     0.99978,     0.99978,     0.99978,     0.99978,     0.99978,     0.99978,     0.99978,     0.99978,\n",
       "            0.99978,     0.99978,     0.99978,     0.99978,     0.99978,     0.99978,     0.99978,     0.99978,     0.99979,     0.99979,     0.99979,     0.99979,     0.99979,     0.99979,     0.99979,     0.99979,     0.99979,     0.99979,     0.99979,     0.99979,     0.99979,     0.99979,     0.99979,\n",
       "            0.99979,     0.99979,     0.99979,      0.9998,      0.9998,      0.9998,      0.9998,      0.9998,      0.9998,      0.9998,      0.9998,      0.9998,      0.9998,      0.9998,      0.9998,      0.9998,      0.9998,      0.9998,      0.9998,      0.9998,      0.9998,     0.99981,     0.99981,\n",
       "            0.99981,     0.99981,     0.99981,     0.99981,     0.99981,     0.99981,     0.99981,     0.99981,     0.99981,     0.99981,     0.99981,     0.99981,     0.99981,     0.99981,     0.99981,     0.99981,     0.99982,     0.99982,     0.99982,     0.99982,     0.99982,     0.99982,     0.99982,\n",
       "            0.99982,     0.99982,     0.99982,     0.99982,     0.99982,     0.99982,     0.99982,     0.99982,     0.99982,     0.99982,     0.99982,     0.99983,     0.99983,     0.99983,     0.99983,     0.99983,     0.99983,     0.99983,     0.99983,     0.99983,     0.99983,     0.99983,     0.99983,\n",
       "            0.99983,     0.99983,     0.99983,     0.99983,     0.99983,     0.99983,     0.99984,     0.99984,     0.99984,     0.99984,     0.99984,     0.99984,     0.99984,     0.99984,     0.99984,     0.99984,     0.99984,     0.99984,     0.99984,     0.99984,     0.99984,     0.99984,     0.99984,\n",
       "            0.99984,     0.99985,     0.99985,     0.99985,     0.99985,     0.99985,     0.99985,     0.99985,     0.99985,     0.99985,     0.99985,     0.99985,     0.99985,     0.99985,     0.99985,     0.99985,     0.99985,     0.99985,     0.99985,     0.99985,     0.99986,     0.99986,     0.99986,\n",
       "            0.99986,     0.99986,     0.99986,     0.99986,     0.99986,     0.99986,     0.99986,     0.99986,     0.99986,     0.99986,     0.99986,     0.99986,     0.99986,     0.99986,     0.99986,     0.99987,     0.99987,     0.99987,     0.99987,     0.99987,     0.99987,     0.99987,     0.99987,\n",
       "            0.99987,     0.99987,     0.99987,     0.99987,     0.99987,     0.99987,     0.99987,     0.99987,     0.99987,     0.99987,     0.99988,     0.99988,     0.99988,     0.99988,     0.99988,     0.99988,     0.99988,     0.99988,     0.99988,     0.99988,     0.99988,     0.99988,     0.99988,\n",
       "            0.99988,     0.99988,     0.99988,     0.99988,     0.99988,     0.99989,     0.99989,     0.99989,     0.99989,     0.99989,     0.99989,     0.99989,     0.99989,     0.99989,     0.99989,     0.99989,     0.99989,     0.99989,     0.99989,     0.99989,     0.99989,     0.99989,     0.99989,\n",
       "             0.9999,      0.9999,      0.9999,      0.9999,      0.9999,      0.9999,      0.9999,      0.9999,      0.9999,      0.9999,      0.9999,      0.9999,      0.9999,      0.9999,      0.9999,      0.9999,      0.9999,      0.9999,     0.99991,     0.99991,     0.99991,     0.99991,     0.99991,\n",
       "            0.99991,     0.99991,     0.99991,     0.99991,     0.99991,     0.99991,     0.99991,     0.99991,     0.99991,     0.99991,     0.99991,     0.99991,     0.99991,     0.99992,     0.99992,     0.99992,     0.99992,     0.99992,     0.99992,     0.99992,     0.99992,     0.99992,     0.99992,\n",
       "            0.99992,     0.99992,     0.99992,     0.99992,     0.99992,     0.99992,     0.99992,     0.99992,     0.99993,     0.99993,     0.99993,     0.99993,     0.99993,     0.99993,     0.99993,     0.99993,     0.99993,     0.99993,     0.99993,     0.99993,     0.99993,     0.99993,     0.99993,\n",
       "            0.99993,     0.99993,     0.99993,     0.99994,     0.99994,     0.99994,     0.99994,     0.99994,     0.99994,     0.99994,     0.99994,     0.99994,     0.99994,     0.99994,     0.99994,     0.99994,     0.99994,     0.99994,     0.99994,     0.99994,     0.99994,     0.99995,     0.99995,\n",
       "            0.99995,     0.99995,     0.99995,     0.99995,     0.99995,     0.99995,     0.99995,     0.99995,     0.99995,     0.99995,     0.99995,     0.99995,     0.99995,     0.99995,     0.99995,     0.99995,     0.99996,     0.99996,     0.99996,     0.99996,     0.99996,     0.99996,     0.99996,\n",
       "            0.99996,     0.99996,     0.99996,     0.99996,     0.99996,     0.99996,     0.99996,     0.99996,     0.99996,     0.99996,     0.99996,     0.99997,     0.99997,     0.99997,     0.99997,     0.99997,     0.99997,     0.99997,     0.99997,     0.99997,     0.99997,     0.99997,     0.99997,\n",
       "            0.99997,     0.99997,     0.99997,     0.99997,     0.99997,     0.99997,     0.99998,     0.99998,     0.99998,     0.99998,     0.99998,     0.99998,     0.99998,     0.99998,     0.99998,     0.99998,     0.99998,     0.99998,     0.99998,     0.99998,     0.99998,     0.99998,     0.99998,\n",
       "            0.99998,     0.99999,     0.99999,     0.99999,     0.99999,     0.99999,     0.99999,     0.99999,     0.99999,     0.99999,     0.99999,     0.99999,     0.99999,     0.99999,     0.99999,     0.99999,     0.99999,     0.99999,     0.99999,           1,           1,           1,           1,\n",
       "                  1,           1,           1,           1,           1,           1,           1,           1,           1,           1,           1,           1,           1,           1,           1,           1,           1,           1,           1,           1,           1,           1,           1,\n",
       "                  1,           1,           1,           1,           1,           1,           1,           1,           1,           1,           1]]), 'Confidence', 'Precision'], [array([          0,    0.001001,    0.002002,    0.003003,    0.004004,    0.005005,    0.006006,    0.007007,    0.008008,    0.009009,     0.01001,    0.011011,    0.012012,    0.013013,    0.014014,    0.015015,    0.016016,    0.017017,    0.018018,    0.019019,     0.02002,    0.021021,    0.022022,    0.023023,\n",
       "          0.024024,    0.025025,    0.026026,    0.027027,    0.028028,    0.029029,     0.03003,    0.031031,    0.032032,    0.033033,    0.034034,    0.035035,    0.036036,    0.037037,    0.038038,    0.039039,     0.04004,    0.041041,    0.042042,    0.043043,    0.044044,    0.045045,    0.046046,    0.047047,\n",
       "          0.048048,    0.049049,     0.05005,    0.051051,    0.052052,    0.053053,    0.054054,    0.055055,    0.056056,    0.057057,    0.058058,    0.059059,     0.06006,    0.061061,    0.062062,    0.063063,    0.064064,    0.065065,    0.066066,    0.067067,    0.068068,    0.069069,     0.07007,    0.071071,\n",
       "          0.072072,    0.073073,    0.074074,    0.075075,    0.076076,    0.077077,    0.078078,    0.079079,     0.08008,    0.081081,    0.082082,    0.083083,    0.084084,    0.085085,    0.086086,    0.087087,    0.088088,    0.089089,     0.09009,    0.091091,    0.092092,    0.093093,    0.094094,    0.095095,\n",
       "          0.096096,    0.097097,    0.098098,    0.099099,      0.1001,      0.1011,      0.1021,      0.1031,      0.1041,     0.10511,     0.10611,     0.10711,     0.10811,     0.10911,     0.11011,     0.11111,     0.11211,     0.11311,     0.11411,     0.11512,     0.11612,     0.11712,     0.11812,     0.11912,\n",
       "           0.12012,     0.12112,     0.12212,     0.12312,     0.12412,     0.12513,     0.12613,     0.12713,     0.12813,     0.12913,     0.13013,     0.13113,     0.13213,     0.13313,     0.13413,     0.13514,     0.13614,     0.13714,     0.13814,     0.13914,     0.14014,     0.14114,     0.14214,     0.14314,\n",
       "           0.14414,     0.14515,     0.14615,     0.14715,     0.14815,     0.14915,     0.15015,     0.15115,     0.15215,     0.15315,     0.15415,     0.15516,     0.15616,     0.15716,     0.15816,     0.15916,     0.16016,     0.16116,     0.16216,     0.16316,     0.16416,     0.16517,     0.16617,     0.16717,\n",
       "           0.16817,     0.16917,     0.17017,     0.17117,     0.17217,     0.17317,     0.17417,     0.17518,     0.17618,     0.17718,     0.17818,     0.17918,     0.18018,     0.18118,     0.18218,     0.18318,     0.18418,     0.18519,     0.18619,     0.18719,     0.18819,     0.18919,     0.19019,     0.19119,\n",
       "           0.19219,     0.19319,     0.19419,      0.1952,      0.1962,      0.1972,      0.1982,      0.1992,      0.2002,      0.2012,      0.2022,      0.2032,      0.2042,     0.20521,     0.20621,     0.20721,     0.20821,     0.20921,     0.21021,     0.21121,     0.21221,     0.21321,     0.21421,     0.21522,\n",
       "           0.21622,     0.21722,     0.21822,     0.21922,     0.22022,     0.22122,     0.22222,     0.22322,     0.22422,     0.22523,     0.22623,     0.22723,     0.22823,     0.22923,     0.23023,     0.23123,     0.23223,     0.23323,     0.23423,     0.23524,     0.23624,     0.23724,     0.23824,     0.23924,\n",
       "           0.24024,     0.24124,     0.24224,     0.24324,     0.24424,     0.24525,     0.24625,     0.24725,     0.24825,     0.24925,     0.25025,     0.25125,     0.25225,     0.25325,     0.25425,     0.25526,     0.25626,     0.25726,     0.25826,     0.25926,     0.26026,     0.26126,     0.26226,     0.26326,\n",
       "           0.26426,     0.26527,     0.26627,     0.26727,     0.26827,     0.26927,     0.27027,     0.27127,     0.27227,     0.27327,     0.27427,     0.27528,     0.27628,     0.27728,     0.27828,     0.27928,     0.28028,     0.28128,     0.28228,     0.28328,     0.28428,     0.28529,     0.28629,     0.28729,\n",
       "           0.28829,     0.28929,     0.29029,     0.29129,     0.29229,     0.29329,     0.29429,      0.2953,      0.2963,      0.2973,      0.2983,      0.2993,      0.3003,      0.3013,      0.3023,      0.3033,      0.3043,     0.30531,     0.30631,     0.30731,     0.30831,     0.30931,     0.31031,     0.31131,\n",
       "           0.31231,     0.31331,     0.31431,     0.31532,     0.31632,     0.31732,     0.31832,     0.31932,     0.32032,     0.32132,     0.32232,     0.32332,     0.32432,     0.32533,     0.32633,     0.32733,     0.32833,     0.32933,     0.33033,     0.33133,     0.33233,     0.33333,     0.33433,     0.33534,\n",
       "           0.33634,     0.33734,     0.33834,     0.33934,     0.34034,     0.34134,     0.34234,     0.34334,     0.34434,     0.34535,     0.34635,     0.34735,     0.34835,     0.34935,     0.35035,     0.35135,     0.35235,     0.35335,     0.35435,     0.35536,     0.35636,     0.35736,     0.35836,     0.35936,\n",
       "           0.36036,     0.36136,     0.36236,     0.36336,     0.36436,     0.36537,     0.36637,     0.36737,     0.36837,     0.36937,     0.37037,     0.37137,     0.37237,     0.37337,     0.37437,     0.37538,     0.37638,     0.37738,     0.37838,     0.37938,     0.38038,     0.38138,     0.38238,     0.38338,\n",
       "           0.38438,     0.38539,     0.38639,     0.38739,     0.38839,     0.38939,     0.39039,     0.39139,     0.39239,     0.39339,     0.39439,      0.3954,      0.3964,      0.3974,      0.3984,      0.3994,      0.4004,      0.4014,      0.4024,      0.4034,      0.4044,     0.40541,     0.40641,     0.40741,\n",
       "           0.40841,     0.40941,     0.41041,     0.41141,     0.41241,     0.41341,     0.41441,     0.41542,     0.41642,     0.41742,     0.41842,     0.41942,     0.42042,     0.42142,     0.42242,     0.42342,     0.42442,     0.42543,     0.42643,     0.42743,     0.42843,     0.42943,     0.43043,     0.43143,\n",
       "           0.43243,     0.43343,     0.43443,     0.43544,     0.43644,     0.43744,     0.43844,     0.43944,     0.44044,     0.44144,     0.44244,     0.44344,     0.44444,     0.44545,     0.44645,     0.44745,     0.44845,     0.44945,     0.45045,     0.45145,     0.45245,     0.45345,     0.45445,     0.45546,\n",
       "           0.45646,     0.45746,     0.45846,     0.45946,     0.46046,     0.46146,     0.46246,     0.46346,     0.46446,     0.46547,     0.46647,     0.46747,     0.46847,     0.46947,     0.47047,     0.47147,     0.47247,     0.47347,     0.47447,     0.47548,     0.47648,     0.47748,     0.47848,     0.47948,\n",
       "           0.48048,     0.48148,     0.48248,     0.48348,     0.48448,     0.48549,     0.48649,     0.48749,     0.48849,     0.48949,     0.49049,     0.49149,     0.49249,     0.49349,     0.49449,      0.4955,      0.4965,      0.4975,      0.4985,      0.4995,      0.5005,      0.5015,      0.5025,      0.5035,\n",
       "            0.5045,     0.50551,     0.50651,     0.50751,     0.50851,     0.50951,     0.51051,     0.51151,     0.51251,     0.51351,     0.51451,     0.51552,     0.51652,     0.51752,     0.51852,     0.51952,     0.52052,     0.52152,     0.52252,     0.52352,     0.52452,     0.52553,     0.52653,     0.52753,\n",
       "           0.52853,     0.52953,     0.53053,     0.53153,     0.53253,     0.53353,     0.53453,     0.53554,     0.53654,     0.53754,     0.53854,     0.53954,     0.54054,     0.54154,     0.54254,     0.54354,     0.54454,     0.54555,     0.54655,     0.54755,     0.54855,     0.54955,     0.55055,     0.55155,\n",
       "           0.55255,     0.55355,     0.55455,     0.55556,     0.55656,     0.55756,     0.55856,     0.55956,     0.56056,     0.56156,     0.56256,     0.56356,     0.56456,     0.56557,     0.56657,     0.56757,     0.56857,     0.56957,     0.57057,     0.57157,     0.57257,     0.57357,     0.57457,     0.57558,\n",
       "           0.57658,     0.57758,     0.57858,     0.57958,     0.58058,     0.58158,     0.58258,     0.58358,     0.58458,     0.58559,     0.58659,     0.58759,     0.58859,     0.58959,     0.59059,     0.59159,     0.59259,     0.59359,     0.59459,      0.5956,      0.5966,      0.5976,      0.5986,      0.5996,\n",
       "            0.6006,      0.6016,      0.6026,      0.6036,      0.6046,     0.60561,     0.60661,     0.60761,     0.60861,     0.60961,     0.61061,     0.61161,     0.61261,     0.61361,     0.61461,     0.61562,     0.61662,     0.61762,     0.61862,     0.61962,     0.62062,     0.62162,     0.62262,     0.62362,\n",
       "           0.62462,     0.62563,     0.62663,     0.62763,     0.62863,     0.62963,     0.63063,     0.63163,     0.63263,     0.63363,     0.63463,     0.63564,     0.63664,     0.63764,     0.63864,     0.63964,     0.64064,     0.64164,     0.64264,     0.64364,     0.64464,     0.64565,     0.64665,     0.64765,\n",
       "           0.64865,     0.64965,     0.65065,     0.65165,     0.65265,     0.65365,     0.65465,     0.65566,     0.65666,     0.65766,     0.65866,     0.65966,     0.66066,     0.66166,     0.66266,     0.66366,     0.66466,     0.66567,     0.66667,     0.66767,     0.66867,     0.66967,     0.67067,     0.67167,\n",
       "           0.67267,     0.67367,     0.67467,     0.67568,     0.67668,     0.67768,     0.67868,     0.67968,     0.68068,     0.68168,     0.68268,     0.68368,     0.68468,     0.68569,     0.68669,     0.68769,     0.68869,     0.68969,     0.69069,     0.69169,     0.69269,     0.69369,     0.69469,      0.6957,\n",
       "            0.6967,      0.6977,      0.6987,      0.6997,      0.7007,      0.7017,      0.7027,      0.7037,      0.7047,     0.70571,     0.70671,     0.70771,     0.70871,     0.70971,     0.71071,     0.71171,     0.71271,     0.71371,     0.71471,     0.71572,     0.71672,     0.71772,     0.71872,     0.71972,\n",
       "           0.72072,     0.72172,     0.72272,     0.72372,     0.72472,     0.72573,     0.72673,     0.72773,     0.72873,     0.72973,     0.73073,     0.73173,     0.73273,     0.73373,     0.73473,     0.73574,     0.73674,     0.73774,     0.73874,     0.73974,     0.74074,     0.74174,     0.74274,     0.74374,\n",
       "           0.74474,     0.74575,     0.74675,     0.74775,     0.74875,     0.74975,     0.75075,     0.75175,     0.75275,     0.75375,     0.75475,     0.75576,     0.75676,     0.75776,     0.75876,     0.75976,     0.76076,     0.76176,     0.76276,     0.76376,     0.76476,     0.76577,     0.76677,     0.76777,\n",
       "           0.76877,     0.76977,     0.77077,     0.77177,     0.77277,     0.77377,     0.77477,     0.77578,     0.77678,     0.77778,     0.77878,     0.77978,     0.78078,     0.78178,     0.78278,     0.78378,     0.78478,     0.78579,     0.78679,     0.78779,     0.78879,     0.78979,     0.79079,     0.79179,\n",
       "           0.79279,     0.79379,     0.79479,      0.7958,      0.7968,      0.7978,      0.7988,      0.7998,      0.8008,      0.8018,      0.8028,      0.8038,      0.8048,     0.80581,     0.80681,     0.80781,     0.80881,     0.80981,     0.81081,     0.81181,     0.81281,     0.81381,     0.81481,     0.81582,\n",
       "           0.81682,     0.81782,     0.81882,     0.81982,     0.82082,     0.82182,     0.82282,     0.82382,     0.82482,     0.82583,     0.82683,     0.82783,     0.82883,     0.82983,     0.83083,     0.83183,     0.83283,     0.83383,     0.83483,     0.83584,     0.83684,     0.83784,     0.83884,     0.83984,\n",
       "           0.84084,     0.84184,     0.84284,     0.84384,     0.84484,     0.84585,     0.84685,     0.84785,     0.84885,     0.84985,     0.85085,     0.85185,     0.85285,     0.85385,     0.85485,     0.85586,     0.85686,     0.85786,     0.85886,     0.85986,     0.86086,     0.86186,     0.86286,     0.86386,\n",
       "           0.86486,     0.86587,     0.86687,     0.86787,     0.86887,     0.86987,     0.87087,     0.87187,     0.87287,     0.87387,     0.87487,     0.87588,     0.87688,     0.87788,     0.87888,     0.87988,     0.88088,     0.88188,     0.88288,     0.88388,     0.88488,     0.88589,     0.88689,     0.88789,\n",
       "           0.88889,     0.88989,     0.89089,     0.89189,     0.89289,     0.89389,     0.89489,      0.8959,      0.8969,      0.8979,      0.8989,      0.8999,      0.9009,      0.9019,      0.9029,      0.9039,      0.9049,     0.90591,     0.90691,     0.90791,     0.90891,     0.90991,     0.91091,     0.91191,\n",
       "           0.91291,     0.91391,     0.91491,     0.91592,     0.91692,     0.91792,     0.91892,     0.91992,     0.92092,     0.92192,     0.92292,     0.92392,     0.92492,     0.92593,     0.92693,     0.92793,     0.92893,     0.92993,     0.93093,     0.93193,     0.93293,     0.93393,     0.93493,     0.93594,\n",
       "           0.93694,     0.93794,     0.93894,     0.93994,     0.94094,     0.94194,     0.94294,     0.94394,     0.94494,     0.94595,     0.94695,     0.94795,     0.94895,     0.94995,     0.95095,     0.95195,     0.95295,     0.95395,     0.95495,     0.95596,     0.95696,     0.95796,     0.95896,     0.95996,\n",
       "           0.96096,     0.96196,     0.96296,     0.96396,     0.96496,     0.96597,     0.96697,     0.96797,     0.96897,     0.96997,     0.97097,     0.97197,     0.97297,     0.97397,     0.97497,     0.97598,     0.97698,     0.97798,     0.97898,     0.97998,     0.98098,     0.98198,     0.98298,     0.98398,\n",
       "           0.98498,     0.98599,     0.98699,     0.98799,     0.98899,     0.98999,     0.99099,     0.99199,     0.99299,     0.99399,     0.99499,       0.996,       0.997,       0.998,       0.999,           1]), array([[          1,           1,           1,           1,           1,           1,           1,           1,           1,           1,           1,           1,           1,           1,           1,           1,           1,           1,           1,           1,           1,           1,           1,\n",
       "                  1,           1,           1,           1,           1,           1,           1,           1,           1,           1,           1,           1,           1,           1,           1,           1,           1,           1,           1,           1,           1,           1,           1,\n",
       "                  1,           1,           1,           1,           1,           1,           1,           1,           1,           1,           1,           1,           1,           1,           1,           1,           1,           1,           1,           1,           1,           1,           1,\n",
       "                  1,           1,           1,           1,           1,           1,           1,           1,           1,           1,           1,           1,           1,           1,           1,           1,           1,           1,           1,           1,           1,           1,           1,\n",
       "                  1,           1,           1,           1,           1,           1,           1,           1,           1,           1,           1,           1,           1,           1,           1,           1,           1,           1,           1,           1,           1,           1,           1,\n",
       "                  1,           1,           1,           1,           1,           1,           1,           1,           1,           1,           1,           1,           1,           1,           1,           1,           1,           1,           1,           1,           1,           1,           1,\n",
       "                  1,           1,           1,           1,           1,           1,           1,           1,           1,           1,           1,           1,           1,           1,           1,           1,           1,           1,           1,           1,           1,           1,           1,\n",
       "                  1,           1,           1,           1,           1,           1,           1,           1,           1,           1,           1,           1,           1,           1,           1,           1,           1,           1,           1,           1,           1,           1,           1,\n",
       "                  1,           1,           1,           1,           1,           1,           1,           1,           1,           1,           1,           1,           1,           1,           1,           1,           1,           1,           1,           1,           1,           1,           1,\n",
       "                  1,           1,           1,           1,           1,           1,           1,           1,           1,           1,           1,           1,           1,           1,           1,           1,           1,           1,           1,           1,           1,           1,           1,\n",
       "                  1,           1,           1,           1,           1,           1,           1,           1,           1,           1,           1,           1,           1,           1,           1,           1,           1,           1,           1,           1,           1,           1,           1,\n",
       "                  1,           1,           1,           1,           1,           1,           1,           1,           1,           1,           1,           1,           1,           1,           1,           1,           1,           1,           1,           1,           1,           1,           1,\n",
       "                  1,           1,           1,           1,           1,           1,           1,           1,           1,           1,           1,           1,           1,           1,           1,           1,           1,           1,           1,           1,           1,           1,           1,\n",
       "                  1,           1,           1,           1,           1,           1,           1,           1,           1,           1,           1,           1,           1,           1,           1,           1,           1,           1,           1,           1,           1,           1,           1,\n",
       "                  1,           1,           1,           1,           1,           1,           1,           1,           1,           1,           1,           1,           1,           1,           1,           1,           1,           1,           1,           1,           1,           1,           1,\n",
       "                  1,           1,           1,           1,           1,           1,           1,           1,           1,           1,           1,           1,           1,           1,           1,           1,           1,           1,           1,           1,           1,           1,           1,\n",
       "                  1,           1,           1,           1,           1,           1,           1,           1,           1,           1,           1,           1,           1,           1,           1,           1,           1,           1,           1,           1,           1,           1,           1,\n",
       "                  1,           1,           1,           1,           1,           1,           1,           1,           1,           1,           1,           1,           1,           1,           1,           1,           1,           1,           1,           1,           1,           1,           1,\n",
       "                  1,           1,           1,           1,           1,           1,           1,           1,           1,           1,           1,           1,           1,           1,           1,           1,           1,           1,           1,           1,           1,           1,           1,\n",
       "                  1,           1,           1,           1,           1,           1,           1,           1,           1,           1,           1,           1,           1,           1,           1,           1,           1,           1,           1,           1,           1,           1,           1,\n",
       "                  1,           1,           1,           1,           1,           1,           1,           1,           1,           1,           1,           1,           1,           1,           1,           1,           1,           1,           1,           1,           1,           1,           1,\n",
       "                  1,           1,           1,           1,           1,           1,           1,           1,           1,           1,           1,           1,           1,           1,           1,           1,           1,           1,           1,           1,           1,           1,           1,\n",
       "                  1,           1,           1,           1,           1,           1,           1,           1,           1,           1,           1,           1,           1,           1,           1,           1,           1,           1,           1,           1,           1,           1,           1,\n",
       "                  1,           1,           1,           1,           1,           1,           1,           1,           1,           1,           1,           1,           1,           1,           1,           1,           1,           1,           1,           1,           1,           1,           1,\n",
       "                  1,           1,           1,           1,           1,           1,           1,           1,           1,           1,           1,           1,           1,           1,           1,           1,           1,           1,           1,           1,           1,           1,           1,\n",
       "                  1,           1,           1,           1,           1,           1,           1,           1,           1,           1,           1,           1,           1,           1,           1,           1,           1,           1,           1,           1,           1,           1,           1,\n",
       "                  1,           1,           1,           1,           1,           1,           1,           1,           1,           1,           1,           1,           1,           1,           1,           1,           1,           1,           1,           1,           1,           1,           1,\n",
       "                  1,           1,           1,           1,           1,           1,           1,           1,           1,           1,           1,           1,           1,           1,           1,           1,           1,           1,           1,           1,           1,           1,           1,\n",
       "                  1,           1,           1,           1,           1,           1,           1,           1,           1,           1,           1,           1,           1,           1,           1,           1,           1,           1,           1,           1,           1,           1,           1,\n",
       "                  1,           1,           1,           1,           1,           1,           1,           1,           1,           1,           1,           1,           1,           1,           1,           1,           1,           1,           1,           1,           1,           1,           1,\n",
       "                  1,           1,           1,           1,           1,           1,           1,           1,           1,           1,           1,           1,           1,           1,           1,           1,           1,           1,           1,           1,           1,           1,           1,\n",
       "                  1,           1,           1,           1,           1,           1,           1,           1,           1,           1,           1,           1,           1,           1,           1,           1,           1,           1,           1,           1,           1,           1,           1,\n",
       "                  1,           1,           1,           1,           1,           1,           1,           1,           1,           1,           1,           1,           1,           1,           1,           1,           1,           1,           1,           1,           1,           1,           1,\n",
       "                  1,           1,           1,           1,           1,           1,           1,           1,           1,           1,           1,           1,           1,           1,           1,           1,           1,           1,           1,           1,           1,           1,           1,\n",
       "                  1,           1,           1,           1,           1,           1,           1,           1,           1,           1,           1,           1,           1,           1,           1,           1,           1,           1,           1,           1,           1,           1,           1,\n",
       "                  1,           1,           1,           1,           1,           1,           1,           1,           1,           1,           1,           1,           1,           1,           1,           1,           1,           1,           1,           1,           1,           1,           1,\n",
       "                  1,           1,           1,           1,           1,           1,           1,           1,           1,           1,           1,           1,           1,           1,           1,           1,           1,           1,           1,           1,           1,           1,           1,\n",
       "                  1,           1,           1,           1,           1,           1,           1,           1,           1,           1,           1,           1,           1,           1,           1,           1,           1,           1,           1,           1,           1,           1,           1,\n",
       "                  1,           1,           1,           1,           1,           1,           1,           1,           1,           1,           1,           1,           1,           1,           1,           1,           1,           1,           1,           1,           1,           1,           1,\n",
       "                  1,           1,           1,           1,           1,           1,           1,           1,           1,           1,           1,           1,           1,           1,           1,           1,           1,           1,           1,           1,           1,           1,           1,\n",
       "                  1,           1,           1,           1,           1,           1,           1,           1,           1,           1,           1,           1,           1,           1,           1,           1,           1,           1,           1,           1,           1,           1,           1,\n",
       "                  1,           1,           1,           1,           1,           1,           1,           1,           1,           1,           1,           1,           1,           1,           1,           1,           1,           1,           1,           1,           1,           1,           1,\n",
       "                  1,           1,           1,           1,           1,     0.99922,     0.99625,      0.9825,     0.94032,      0.8251,     0.61037,     0.41819,     0.19757,    0.085295,    0.023505,   0.0028926,           0,           0,           0,           0,           0,           0,           0,\n",
       "                  0,           0,           0,           0,           0,           0,           0,           0,           0,           0,           0]]), 'Confidence', 'Recall']]\n",
       "fitness: np.float64(0.995)\n",
       "keys: ['metrics/precision(B)', 'metrics/recall(B)', 'metrics/mAP50(B)', 'metrics/mAP50-95(B)']\n",
       "maps: array([      0.995])\n",
       "names: {0: 'person_entry'}\n",
       "plot: True\n",
       "results_dict: {'metrics/precision(B)': np.float64(0.9999719049280945), 'metrics/recall(B)': np.float64(1.0), 'metrics/mAP50(B)': np.float64(0.995), 'metrics/mAP50-95(B)': np.float64(0.9949999999999999), 'fitness': np.float64(0.995)}\n",
       "save_dir: PosixPath('runs/detect/person_entry_model5')\n",
       "speed: {'preprocess': 0.6814970499969301, 'inference': 68.50029098330499, 'loss': 0.0008877583240973763, 'postprocess': 3.3429267250085104}\n",
       "task: 'detect'"
      ]
     },
     "execution_count": 30,
     "metadata": {},
     "output_type": "execute_result"
    }
   ],
   "source": [
    "from ultralytics import YOLO\n",
    "\n",
    "model = YOLO('yolo11x.pt')\n",
    "\n",
    "model.train(\n",
    "    data='person_entry.yaml',\n",
    "    epochs=100,\n",
    "    imgsz=1024,\n",
    "    batch=8,\n",
    "    name='person_entry_model'\n",
    ")"
   ]
  },
  {
   "cell_type": "code",
   "execution_count": 12,
   "id": "f31af2ab",
   "metadata": {},
   "outputs": [
    {
     "name": "stdout",
     "output_type": "stream",
     "text": [
      "\n",
      "image 1/120 /repos/uni-si/R2S4/DNN/End_project/images/test/card_1.jpg: 928x1024 12 person_entrys, 36.9ms\n",
      "image 2/120 /repos/uni-si/R2S4/DNN/End_project/images/test/card_10.jpg: 928x1024 12 person_entrys, 27.4ms\n",
      "image 3/120 /repos/uni-si/R2S4/DNN/End_project/images/test/card_100.jpg: 928x1024 12 person_entrys, 27.6ms\n",
      "image 4/120 /repos/uni-si/R2S4/DNN/End_project/images/test/card_101.jpg: 928x1024 12 person_entrys, 27.1ms\n",
      "image 5/120 /repos/uni-si/R2S4/DNN/End_project/images/test/card_102.jpg: 928x1024 12 person_entrys, 26.9ms\n",
      "image 6/120 /repos/uni-si/R2S4/DNN/End_project/images/test/card_103.jpg: 928x1024 12 person_entrys, 25.7ms\n",
      "image 7/120 /repos/uni-si/R2S4/DNN/End_project/images/test/card_104.jpg: 928x1024 12 person_entrys, 24.7ms\n",
      "image 8/120 /repos/uni-si/R2S4/DNN/End_project/images/test/card_105.jpg: 928x1024 12 person_entrys, 24.6ms\n",
      "image 9/120 /repos/uni-si/R2S4/DNN/End_project/images/test/card_106.jpg: 928x1024 12 person_entrys, 38.0ms\n",
      "image 10/120 /repos/uni-si/R2S4/DNN/End_project/images/test/card_107.jpg: 928x1024 12 person_entrys, 25.6ms\n",
      "image 11/120 /repos/uni-si/R2S4/DNN/End_project/images/test/card_108.jpg: 928x1024 12 person_entrys, 27.4ms\n",
      "image 12/120 /repos/uni-si/R2S4/DNN/End_project/images/test/card_109.jpg: 928x1024 12 person_entrys, 25.4ms\n",
      "image 13/120 /repos/uni-si/R2S4/DNN/End_project/images/test/card_11.jpg: 928x1024 12 person_entrys, 24.7ms\n",
      "image 14/120 /repos/uni-si/R2S4/DNN/End_project/images/test/card_110.jpg: 928x1024 12 person_entrys, 25.0ms\n",
      "image 15/120 /repos/uni-si/R2S4/DNN/End_project/images/test/card_111.jpg: 928x1024 12 person_entrys, 24.3ms\n",
      "image 16/120 /repos/uni-si/R2S4/DNN/End_project/images/test/card_112.jpg: 928x1024 12 person_entrys, 24.7ms\n",
      "image 17/120 /repos/uni-si/R2S4/DNN/End_project/images/test/card_113.jpg: 928x1024 12 person_entrys, 24.0ms\n",
      "image 18/120 /repos/uni-si/R2S4/DNN/End_project/images/test/card_114.jpg: 928x1024 12 person_entrys, 25.6ms\n",
      "image 19/120 /repos/uni-si/R2S4/DNN/End_project/images/test/card_115.jpg: 928x1024 12 person_entrys, 24.3ms\n",
      "image 20/120 /repos/uni-si/R2S4/DNN/End_project/images/test/card_116.jpg: 928x1024 12 person_entrys, 24.9ms\n",
      "image 21/120 /repos/uni-si/R2S4/DNN/End_project/images/test/card_117.jpg: 928x1024 12 person_entrys, 25.6ms\n",
      "image 22/120 /repos/uni-si/R2S4/DNN/End_project/images/test/card_118.jpg: 928x1024 12 person_entrys, 25.5ms\n",
      "image 23/120 /repos/uni-si/R2S4/DNN/End_project/images/test/card_119.jpg: 928x1024 12 person_entrys, 25.5ms\n",
      "image 24/120 /repos/uni-si/R2S4/DNN/End_project/images/test/card_12.jpg: 928x1024 12 person_entrys, 25.1ms\n",
      "image 25/120 /repos/uni-si/R2S4/DNN/End_project/images/test/card_120.jpg: 928x1024 12 person_entrys, 25.5ms\n",
      "image 26/120 /repos/uni-si/R2S4/DNN/End_project/images/test/card_13.jpg: 928x1024 12 person_entrys, 24.7ms\n",
      "image 27/120 /repos/uni-si/R2S4/DNN/End_project/images/test/card_14.jpg: 928x1024 12 person_entrys, 25.0ms\n",
      "image 28/120 /repos/uni-si/R2S4/DNN/End_project/images/test/card_15.jpg: 928x1024 12 person_entrys, 25.0ms\n",
      "image 29/120 /repos/uni-si/R2S4/DNN/End_project/images/test/card_16.jpg: 928x1024 20 person_entrys, 24.7ms\n",
      "image 30/120 /repos/uni-si/R2S4/DNN/End_project/images/test/card_17.jpg: 928x1024 20 person_entrys, 25.3ms\n",
      "image 31/120 /repos/uni-si/R2S4/DNN/End_project/images/test/card_18.jpg: 928x1024 20 person_entrys, 25.4ms\n",
      "image 32/120 /repos/uni-si/R2S4/DNN/End_project/images/test/card_19.jpg: 928x1024 20 person_entrys, 25.5ms\n",
      "image 33/120 /repos/uni-si/R2S4/DNN/End_project/images/test/card_2.jpg: 928x1024 12 person_entrys, 24.7ms\n",
      "image 34/120 /repos/uni-si/R2S4/DNN/End_project/images/test/card_20.jpg: 928x1024 20 person_entrys, 25.0ms\n",
      "image 35/120 /repos/uni-si/R2S4/DNN/End_project/images/test/card_21.jpg: 928x1024 20 person_entrys, 25.0ms\n",
      "image 36/120 /repos/uni-si/R2S4/DNN/End_project/images/test/card_22.jpg: 928x1024 20 person_entrys, 25.1ms\n",
      "image 37/120 /repos/uni-si/R2S4/DNN/End_project/images/test/card_23.jpg: 928x1024 20 person_entrys, 25.3ms\n",
      "image 38/120 /repos/uni-si/R2S4/DNN/End_project/images/test/card_24.jpg: 928x1024 20 person_entrys, 25.5ms\n",
      "image 39/120 /repos/uni-si/R2S4/DNN/End_project/images/test/card_25.jpg: 928x1024 20 person_entrys, 24.9ms\n",
      "image 40/120 /repos/uni-si/R2S4/DNN/End_project/images/test/card_26.jpg: 928x1024 20 person_entrys, 25.3ms\n",
      "image 41/120 /repos/uni-si/R2S4/DNN/End_project/images/test/card_27.jpg: 928x1024 20 person_entrys, 25.2ms\n",
      "image 42/120 /repos/uni-si/R2S4/DNN/End_project/images/test/card_28.jpg: 928x1024 20 person_entrys, 25.5ms\n",
      "image 43/120 /repos/uni-si/R2S4/DNN/End_project/images/test/card_29.jpg: 928x1024 20 person_entrys, 24.8ms\n",
      "image 44/120 /repos/uni-si/R2S4/DNN/End_project/images/test/card_3.jpg: 928x1024 12 person_entrys, 25.4ms\n",
      "image 45/120 /repos/uni-si/R2S4/DNN/End_project/images/test/card_30.jpg: 928x1024 20 person_entrys, 25.2ms\n",
      "image 46/120 /repos/uni-si/R2S4/DNN/End_project/images/test/card_31.jpg: 928x1024 20 person_entrys, 24.7ms\n",
      "image 47/120 /repos/uni-si/R2S4/DNN/End_project/images/test/card_32.jpg: 928x1024 20 person_entrys, 26.0ms\n",
      "image 48/120 /repos/uni-si/R2S4/DNN/End_project/images/test/card_33.jpg: 928x1024 20 person_entrys, 25.1ms\n",
      "image 49/120 /repos/uni-si/R2S4/DNN/End_project/images/test/card_34.jpg: 928x1024 20 person_entrys, 24.5ms\n",
      "image 50/120 /repos/uni-si/R2S4/DNN/End_project/images/test/card_35.jpg: 928x1024 20 person_entrys, 25.4ms\n",
      "image 51/120 /repos/uni-si/R2S4/DNN/End_project/images/test/card_36.jpg: 928x1024 20 person_entrys, 25.1ms\n",
      "image 52/120 /repos/uni-si/R2S4/DNN/End_project/images/test/card_37.jpg: 928x1024 20 person_entrys, 25.2ms\n",
      "image 53/120 /repos/uni-si/R2S4/DNN/End_project/images/test/card_38.jpg: 928x1024 20 person_entrys, 25.2ms\n",
      "image 54/120 /repos/uni-si/R2S4/DNN/End_project/images/test/card_39.jpg: 928x1024 20 person_entrys, 25.3ms\n",
      "image 55/120 /repos/uni-si/R2S4/DNN/End_project/images/test/card_4.jpg: 928x1024 12 person_entrys, 25.4ms\n",
      "image 56/120 /repos/uni-si/R2S4/DNN/End_project/images/test/card_40.jpg: 928x1024 20 person_entrys, 24.5ms\n",
      "image 57/120 /repos/uni-si/R2S4/DNN/End_project/images/test/card_41.jpg: 928x1024 20 person_entrys, 25.3ms\n",
      "image 58/120 /repos/uni-si/R2S4/DNN/End_project/images/test/card_42.jpg: 928x1024 20 person_entrys, 25.1ms\n",
      "image 59/120 /repos/uni-si/R2S4/DNN/End_project/images/test/card_43.jpg: 928x1024 20 person_entrys, 24.9ms\n",
      "image 60/120 /repos/uni-si/R2S4/DNN/End_project/images/test/card_44.jpg: 928x1024 20 person_entrys, 25.1ms\n",
      "image 61/120 /repos/uni-si/R2S4/DNN/End_project/images/test/card_45.jpg: 928x1024 20 person_entrys, 25.1ms\n",
      "image 62/120 /repos/uni-si/R2S4/DNN/End_project/images/test/card_46.jpg: 928x1024 20 person_entrys, 24.4ms\n",
      "image 63/120 /repos/uni-si/R2S4/DNN/End_project/images/test/card_47.jpg: 928x1024 20 person_entrys, 24.9ms\n",
      "image 64/120 /repos/uni-si/R2S4/DNN/End_project/images/test/card_48.jpg: 928x1024 20 person_entrys, 25.0ms\n",
      "image 65/120 /repos/uni-si/R2S4/DNN/End_project/images/test/card_49.jpg: 928x1024 20 person_entrys, 24.4ms\n",
      "image 66/120 /repos/uni-si/R2S4/DNN/End_project/images/test/card_5.jpg: 928x1024 12 person_entrys, 25.3ms\n",
      "image 67/120 /repos/uni-si/R2S4/DNN/End_project/images/test/card_50.jpg: 928x1024 20 person_entrys, 24.8ms\n",
      "image 68/120 /repos/uni-si/R2S4/DNN/End_project/images/test/card_51.jpg: 928x1024 20 person_entrys, 26.5ms\n",
      "image 69/120 /repos/uni-si/R2S4/DNN/End_project/images/test/card_52.jpg: 928x1024 20 person_entrys, 26.9ms\n",
      "image 70/120 /repos/uni-si/R2S4/DNN/End_project/images/test/card_53.jpg: 928x1024 20 person_entrys, 26.7ms\n",
      "image 71/120 /repos/uni-si/R2S4/DNN/End_project/images/test/card_54.jpg: 928x1024 20 person_entrys, 25.5ms\n",
      "image 72/120 /repos/uni-si/R2S4/DNN/End_project/images/test/card_55.jpg: 928x1024 20 person_entrys, 25.8ms\n",
      "image 73/120 /repos/uni-si/R2S4/DNN/End_project/images/test/card_56.jpg: 928x1024 20 person_entrys, 26.0ms\n",
      "image 74/120 /repos/uni-si/R2S4/DNN/End_project/images/test/card_57.jpg: 928x1024 20 person_entrys, 24.5ms\n",
      "image 75/120 /repos/uni-si/R2S4/DNN/End_project/images/test/card_58.jpg: 928x1024 20 person_entrys, 25.2ms\n",
      "image 76/120 /repos/uni-si/R2S4/DNN/End_project/images/test/card_59.jpg: 928x1024 20 person_entrys, 29.2ms\n",
      "image 77/120 /repos/uni-si/R2S4/DNN/End_project/images/test/card_6.jpg: 928x1024 12 person_entrys, 25.4ms\n",
      "image 78/120 /repos/uni-si/R2S4/DNN/End_project/images/test/card_60.jpg: 928x1024 20 person_entrys, 25.1ms\n",
      "image 79/120 /repos/uni-si/R2S4/DNN/End_project/images/test/card_61.jpg: 928x1024 20 person_entrys, 25.8ms\n",
      "image 80/120 /repos/uni-si/R2S4/DNN/End_project/images/test/card_62.jpg: 928x1024 20 person_entrys, 25.1ms\n",
      "image 81/120 /repos/uni-si/R2S4/DNN/End_project/images/test/card_63.jpg: 928x1024 20 person_entrys, 24.6ms\n",
      "image 82/120 /repos/uni-si/R2S4/DNN/End_project/images/test/card_64.jpg: 928x1024 20 person_entrys, 25.1ms\n",
      "image 83/120 /repos/uni-si/R2S4/DNN/End_project/images/test/card_65.jpg: 928x1024 20 person_entrys, 25.2ms\n",
      "image 84/120 /repos/uni-si/R2S4/DNN/End_project/images/test/card_66.jpg: 928x1024 20 person_entrys, 25.0ms\n",
      "image 85/120 /repos/uni-si/R2S4/DNN/End_project/images/test/card_67.jpg: 928x1024 20 person_entrys, 25.5ms\n",
      "image 86/120 /repos/uni-si/R2S4/DNN/End_project/images/test/card_68.jpg: 928x1024 20 person_entrys, 25.1ms\n",
      "image 87/120 /repos/uni-si/R2S4/DNN/End_project/images/test/card_69.jpg: 928x1024 20 person_entrys, 24.2ms\n",
      "image 88/120 /repos/uni-si/R2S4/DNN/End_project/images/test/card_7.jpg: 928x1024 12 person_entrys, 49.8ms\n",
      "image 89/120 /repos/uni-si/R2S4/DNN/End_project/images/test/card_70.jpg: 928x1024 20 person_entrys, 25.6ms\n",
      "image 90/120 /repos/uni-si/R2S4/DNN/End_project/images/test/card_71.jpg: 928x1024 20 person_entrys, 25.8ms\n",
      "image 91/120 /repos/uni-si/R2S4/DNN/End_project/images/test/card_72.jpg: 928x1024 20 person_entrys, 25.8ms\n",
      "image 92/120 /repos/uni-si/R2S4/DNN/End_project/images/test/card_73.jpg: 928x1024 20 person_entrys, 26.1ms\n",
      "image 93/120 /repos/uni-si/R2S4/DNN/End_project/images/test/card_74.jpg: 928x1024 20 person_entrys, 25.9ms\n",
      "image 94/120 /repos/uni-si/R2S4/DNN/End_project/images/test/card_75.jpg: 928x1024 20 person_entrys, 25.5ms\n",
      "image 95/120 /repos/uni-si/R2S4/DNN/End_project/images/test/card_76.jpg: 928x1024 20 person_entrys, 25.8ms\n",
      "image 96/120 /repos/uni-si/R2S4/DNN/End_project/images/test/card_77.jpg: 928x1024 20 person_entrys, 26.7ms\n",
      "image 97/120 /repos/uni-si/R2S4/DNN/End_project/images/test/card_78.jpg: 928x1024 20 person_entrys, 25.3ms\n",
      "image 98/120 /repos/uni-si/R2S4/DNN/End_project/images/test/card_79.jpg: 928x1024 20 person_entrys, 44.0ms\n",
      "image 99/120 /repos/uni-si/R2S4/DNN/End_project/images/test/card_8.jpg: 928x1024 12 person_entrys, 26.7ms\n",
      "image 100/120 /repos/uni-si/R2S4/DNN/End_project/images/test/card_80.jpg: 928x1024 20 person_entrys, 25.2ms\n",
      "image 101/120 /repos/uni-si/R2S4/DNN/End_project/images/test/card_81.jpg: 928x1024 20 person_entrys, 26.0ms\n",
      "image 102/120 /repos/uni-si/R2S4/DNN/End_project/images/test/card_82.jpg: 928x1024 20 person_entrys, 25.6ms\n",
      "image 103/120 /repos/uni-si/R2S4/DNN/End_project/images/test/card_83.jpg: 928x1024 20 person_entrys, 28.3ms\n",
      "image 104/120 /repos/uni-si/R2S4/DNN/End_project/images/test/card_84.jpg: 928x1024 20 person_entrys, 24.4ms\n",
      "image 105/120 /repos/uni-si/R2S4/DNN/End_project/images/test/card_85.jpg: 928x1024 20 person_entrys, 24.4ms\n",
      "image 106/120 /repos/uni-si/R2S4/DNN/End_project/images/test/card_86.jpg: 928x1024 20 person_entrys, 23.8ms\n",
      "image 107/120 /repos/uni-si/R2S4/DNN/End_project/images/test/card_87.jpg: 928x1024 20 person_entrys, 23.6ms\n",
      "image 108/120 /repos/uni-si/R2S4/DNN/End_project/images/test/card_88.jpg: 928x1024 20 person_entrys, 24.6ms\n",
      "image 109/120 /repos/uni-si/R2S4/DNN/End_project/images/test/card_89.jpg: 928x1024 20 person_entrys, 24.6ms\n",
      "image 110/120 /repos/uni-si/R2S4/DNN/End_project/images/test/card_9.jpg: 928x1024 12 person_entrys, 24.5ms\n",
      "image 111/120 /repos/uni-si/R2S4/DNN/End_project/images/test/card_90.jpg: 928x1024 20 person_entrys, 23.3ms\n",
      "image 112/120 /repos/uni-si/R2S4/DNN/End_project/images/test/card_91.jpg: 928x1024 12 person_entrys, 24.1ms\n",
      "image 113/120 /repos/uni-si/R2S4/DNN/End_project/images/test/card_92.jpg: 928x1024 12 person_entrys, 24.4ms\n",
      "image 114/120 /repos/uni-si/R2S4/DNN/End_project/images/test/card_93.jpg: 928x1024 12 person_entrys, 24.3ms\n",
      "image 115/120 /repos/uni-si/R2S4/DNN/End_project/images/test/card_94.jpg: 928x1024 12 person_entrys, 24.2ms\n",
      "image 116/120 /repos/uni-si/R2S4/DNN/End_project/images/test/card_95.jpg: 928x1024 12 person_entrys, 23.8ms\n",
      "image 117/120 /repos/uni-si/R2S4/DNN/End_project/images/test/card_96.jpg: 928x1024 12 person_entrys, 24.1ms\n",
      "image 118/120 /repos/uni-si/R2S4/DNN/End_project/images/test/card_97.jpg: 928x1024 12 person_entrys, 24.3ms\n",
      "image 119/120 /repos/uni-si/R2S4/DNN/End_project/images/test/card_98.jpg: 928x1024 12 person_entrys, 24.1ms\n",
      "image 120/120 /repos/uni-si/R2S4/DNN/End_project/images/test/card_99.jpg: 928x1024 12 person_entrys, 24.4ms\n",
      "Speed: 3.0ms preprocess, 25.8ms inference, 1.8ms postprocess per image at shape (1, 3, 928, 1024)\n",
      "Results saved to \u001b[1mruns/detect/predict3\u001b[0m\n"
     ]
    }
   ],
   "source": [
    "from ultralytics import YOLO\n",
    "\n",
    "# Załaduj wytrenowany model\n",
    "model = YOLO('runs/detect/person_entry_model5/weights/best.pt')\n",
    "\n",
    "# Uruchom inferencję na folderze testowym\n",
    "results = model.predict(\n",
    "    source='images/test',\n",
    "    save=True,\n",
    "    conf=0.25,\n",
    "    imgsz=1024\n",
    ")"
   ]
  },
  {
   "cell_type": "code",
   "execution_count": 13,
   "id": "edf2e8ba",
   "metadata": {},
   "outputs": [
    {
     "data": {
      "text/plain": [
       "array([[    0.56888,     0.72514,     0.20684,     0.28799],\n",
       "       [    0.56767,     0.43779,     0.20654,     0.28667],\n",
       "       [    0.79746,     0.14979,     0.20588,     0.28855],\n",
       "       [    0.10948,     0.15001,      0.2072,     0.28746],\n",
       "       [    0.56791,      0.1501,     0.20692,     0.28779],\n",
       "       [    0.79792,     0.72557,     0.20739,     0.28835],\n",
       "       [    0.33948,     0.72529,     0.20683,     0.28873],\n",
       "       [    0.10942,     0.72521,     0.20606,     0.28853],\n",
       "       [    0.33902,     0.43795,     0.20658,     0.28731],\n",
       "       [    0.79866,     0.43754,      0.2068,     0.28784],\n",
       "       [    0.10886,     0.43753,     0.20616,       0.287],\n",
       "       [    0.33956,     0.14986,     0.20596,     0.28766]], dtype=float32)"
      ]
     },
     "metadata": {},
     "output_type": "display_data"
    },
    {
     "data": {
      "text/plain": [
       "array([0, 0, 0, 0, 0, 0, 0, 0, 0, 0, 0, 0])"
      ]
     },
     "metadata": {},
     "output_type": "display_data"
    },
    {
     "data": {
      "text/plain": [
       "'/repos/uni-si/R2S4/DNN/End_project/images/test/card_101.jpg'"
      ]
     },
     "metadata": {},
     "output_type": "display_data"
    }
   ],
   "source": [
    "boxes = results[3].boxes.xywhn.cpu().numpy()\n",
    "classes = results[3].boxes.cls.cpu().numpy().astype(int)\n",
    "\n",
    "display(boxes)\n",
    "display(classes)\n",
    "display(results[3].path)"
   ]
  },
  {
   "cell_type": "code",
   "execution_count": 6,
   "id": "297a5e9c",
   "metadata": {},
   "outputs": [],
   "source": [
    "def prepare_yolo2_training_data(cards_path, yolo1_results, output_img_dir, output_lbl_dir):\n",
    "    cards_dir = Path(cards_path)\n",
    "    Path(output_img_dir).mkdir(parents=True, exist_ok=True)\n",
    "    Path(output_lbl_dir).mkdir(parents=True, exist_ok=True)\n",
    "\n",
    "    # Mapowanie nazwy pliku na pełną ścieżkę\n",
    "    card_paths = {p.name: p for p in cards_dir.glob(\"*.jpg\")}\n",
    "\n",
    "    for result in yolo1_results:\n",
    "        img_path = Path(result.path)\n",
    "        img_name = img_path.name\n",
    "\n",
    "        if img_name not in card_paths:\n",
    "            print(f\"Warning: {img_name} not found in cards_dir.\")\n",
    "            continue\n",
    "\n",
    "        # Wyciągnięcie ID karty z nazwy pliku\n",
    "        img_id = int(img_name.split(\"_\")[1].split(\".\")[0])\n",
    "\n",
    "        # Dobranie odpowiedniego ratio na podstawie img_id\n",
    "        if img_id <= 30:\n",
    "            photo_height_ratio = 0.82\n",
    "        elif img_id <= 60:\n",
    "            photo_height_ratio = 0.80\n",
    "        elif img_id <= 90:\n",
    "            photo_height_ratio = 0.75\n",
    "        elif img_id <= 105:\n",
    "            photo_height_ratio = 0.77\n",
    "        else:\n",
    "            photo_height_ratio = 0.842\n",
    "\n",
    "        id_height_ratio = 1.0 - photo_height_ratio\n",
    "\n",
    "        img = cv2.imread(str(card_paths[img_name]))\n",
    "        h, w = img.shape[:2]\n",
    "\n",
    "        boxes = result.boxes.xywhn.cpu().numpy()\n",
    "        classes = result.boxes.cls.cpu().numpy().astype(int)\n",
    "\n",
    "        for idx, (box, cls) in enumerate(zip(boxes, classes)):\n",
    "            x_c, y_c, bw, bh = box\n",
    "\n",
    "            # Przeliczenie boxa YOLO na piksele\n",
    "            x_min = int((x_c - bw / 2) * w)\n",
    "            x_max = int((x_c + bw / 2) * w)\n",
    "            y_min = int((y_c - bh / 2) * h)\n",
    "            y_max = int((y_c + bh / 2) * h)\n",
    "\n",
    "            # Wycinamy crop z oryginalnego obrazu\n",
    "            crop = img[y_min:y_max, x_min:x_max]\n",
    "\n",
    "            # Zapis cropa do output_img_dir\n",
    "            crop_filename = f\"{img_name[:-4]}_entry_{idx}.jpg\"\n",
    "            cv2.imwrite(str(Path(output_img_dir) / crop_filename), crop)\n",
    "\n",
    "            # Tworzymy label dla drugiego modelu\n",
    "            labels = []\n",
    "\n",
    "            # Box dla zdjęcia (klasa 0)\n",
    "            px_c = 0.5\n",
    "            py_c = photo_height_ratio / 2\n",
    "            pw = 1.0\n",
    "            ph = photo_height_ratio\n",
    "            labels.append(f\"0 {px_c:.6f} {py_c:.6f} {pw:.6f} {ph:.6f}\")\n",
    "\n",
    "            # Box dla ID (klasa 1)\n",
    "            ix_c = 0.5\n",
    "            iy_c = photo_height_ratio + id_height_ratio / 2\n",
    "            iw = 1.0\n",
    "            ih = id_height_ratio\n",
    "            labels.append(f\"1 {ix_c:.6f} {iy_c:.6f} {iw:.6f} {ih:.6f}\")\n",
    "\n",
    "            label_filename = f\"{img_name[:-4]}_entry_{idx}.txt\"\n",
    "            with open(Path(output_lbl_dir) / label_filename, \"w\") as f:\n",
    "                f.write(\"\\n\".join(labels))\n"
   ]
  },
  {
   "cell_type": "code",
   "execution_count": 7,
   "id": "c5248465",
   "metadata": {},
   "outputs": [
    {
     "name": "stdout",
     "output_type": "stream",
     "text": [
      "\n",
      "image 1/120 /repos/uni-si/R2S4/DNN/End_project/images/train_v2/card_1.jpg: 928x1024 12 person_entrys, 33.7ms\n",
      "image 2/120 /repos/uni-si/R2S4/DNN/End_project/images/train_v2/card_10.jpg: 928x1024 12 person_entrys, 25.0ms\n",
      "image 3/120 /repos/uni-si/R2S4/DNN/End_project/images/train_v2/card_100.jpg: 928x1024 24 person_entrys, 24.9ms\n",
      "image 4/120 /repos/uni-si/R2S4/DNN/End_project/images/train_v2/card_101.jpg: 928x1024 24 person_entrys, 25.5ms\n",
      "image 5/120 /repos/uni-si/R2S4/DNN/End_project/images/train_v2/card_102.jpg: 928x1024 24 person_entrys, 25.6ms\n",
      "image 6/120 /repos/uni-si/R2S4/DNN/End_project/images/train_v2/card_103.jpg: 928x1024 24 person_entrys, 25.0ms\n",
      "image 7/120 /repos/uni-si/R2S4/DNN/End_project/images/train_v2/card_104.jpg: 928x1024 24 person_entrys, 25.2ms\n",
      "image 8/120 /repos/uni-si/R2S4/DNN/End_project/images/train_v2/card_105.jpg: 928x1024 24 person_entrys, 24.5ms\n",
      "image 9/120 /repos/uni-si/R2S4/DNN/End_project/images/train_v2/card_106.jpg: 928x1024 12 person_entrys, 25.0ms\n",
      "image 10/120 /repos/uni-si/R2S4/DNN/End_project/images/train_v2/card_107.jpg: 928x1024 12 person_entrys, 24.6ms\n",
      "image 11/120 /repos/uni-si/R2S4/DNN/End_project/images/train_v2/card_108.jpg: 928x1024 12 person_entrys, 24.6ms\n",
      "image 12/120 /repos/uni-si/R2S4/DNN/End_project/images/train_v2/card_109.jpg: 928x1024 12 person_entrys, 24.6ms\n",
      "image 13/120 /repos/uni-si/R2S4/DNN/End_project/images/train_v2/card_11.jpg: 928x1024 12 person_entrys, 24.6ms\n",
      "image 14/120 /repos/uni-si/R2S4/DNN/End_project/images/train_v2/card_110.jpg: 928x1024 12 person_entrys, 23.8ms\n",
      "image 15/120 /repos/uni-si/R2S4/DNN/End_project/images/train_v2/card_111.jpg: 928x1024 12 person_entrys, 23.9ms\n",
      "image 16/120 /repos/uni-si/R2S4/DNN/End_project/images/train_v2/card_112.jpg: 928x1024 12 person_entrys, 24.5ms\n",
      "image 17/120 /repos/uni-si/R2S4/DNN/End_project/images/train_v2/card_113.jpg: 928x1024 12 person_entrys, 24.7ms\n",
      "image 18/120 /repos/uni-si/R2S4/DNN/End_project/images/train_v2/card_114.jpg: 928x1024 12 person_entrys, 24.3ms\n",
      "image 19/120 /repos/uni-si/R2S4/DNN/End_project/images/train_v2/card_115.jpg: 928x1024 12 person_entrys, 24.8ms\n",
      "image 20/120 /repos/uni-si/R2S4/DNN/End_project/images/train_v2/card_116.jpg: 928x1024 12 person_entrys, 24.2ms\n",
      "image 21/120 /repos/uni-si/R2S4/DNN/End_project/images/train_v2/card_117.jpg: 928x1024 12 person_entrys, 23.8ms\n",
      "image 22/120 /repos/uni-si/R2S4/DNN/End_project/images/train_v2/card_118.jpg: 928x1024 12 person_entrys, 24.1ms\n",
      "image 23/120 /repos/uni-si/R2S4/DNN/End_project/images/train_v2/card_119.jpg: 928x1024 12 person_entrys, 24.5ms\n",
      "image 24/120 /repos/uni-si/R2S4/DNN/End_project/images/train_v2/card_12.jpg: 928x1024 12 person_entrys, 24.5ms\n",
      "image 25/120 /repos/uni-si/R2S4/DNN/End_project/images/train_v2/card_120.jpg: 928x1024 12 person_entrys, 24.7ms\n",
      "image 26/120 /repos/uni-si/R2S4/DNN/End_project/images/train_v2/card_13.jpg: 928x1024 12 person_entrys, 24.5ms\n",
      "image 27/120 /repos/uni-si/R2S4/DNN/End_project/images/train_v2/card_14.jpg: 928x1024 12 person_entrys, 24.8ms\n",
      "image 28/120 /repos/uni-si/R2S4/DNN/End_project/images/train_v2/card_15.jpg: 928x1024 12 person_entrys, 23.8ms\n",
      "image 29/120 /repos/uni-si/R2S4/DNN/End_project/images/train_v2/card_16.jpg: 928x1024 12 person_entrys, 25.0ms\n",
      "image 30/120 /repos/uni-si/R2S4/DNN/End_project/images/train_v2/card_17.jpg: 928x1024 12 person_entrys, 24.7ms\n",
      "image 31/120 /repos/uni-si/R2S4/DNN/End_project/images/train_v2/card_18.jpg: 928x1024 12 person_entrys, 24.4ms\n",
      "image 32/120 /repos/uni-si/R2S4/DNN/End_project/images/train_v2/card_19.jpg: 928x1024 12 person_entrys, 25.1ms\n",
      "image 33/120 /repos/uni-si/R2S4/DNN/End_project/images/train_v2/card_2.jpg: 928x1024 12 person_entrys, 23.8ms\n",
      "image 34/120 /repos/uni-si/R2S4/DNN/End_project/images/train_v2/card_20.jpg: 928x1024 12 person_entrys, 24.4ms\n",
      "image 35/120 /repos/uni-si/R2S4/DNN/End_project/images/train_v2/card_21.jpg: 928x1024 12 person_entrys, 24.7ms\n",
      "image 36/120 /repos/uni-si/R2S4/DNN/End_project/images/train_v2/card_22.jpg: 928x1024 12 person_entrys, 25.2ms\n",
      "image 37/120 /repos/uni-si/R2S4/DNN/End_project/images/train_v2/card_23.jpg: 928x1024 12 person_entrys, 24.5ms\n",
      "image 38/120 /repos/uni-si/R2S4/DNN/End_project/images/train_v2/card_24.jpg: 928x1024 12 person_entrys, 23.9ms\n",
      "image 39/120 /repos/uni-si/R2S4/DNN/End_project/images/train_v2/card_25.jpg: 928x1024 12 person_entrys, 24.7ms\n",
      "image 40/120 /repos/uni-si/R2S4/DNN/End_project/images/train_v2/card_26.jpg: 928x1024 12 person_entrys, 24.4ms\n",
      "image 41/120 /repos/uni-si/R2S4/DNN/End_project/images/train_v2/card_27.jpg: 928x1024 12 person_entrys, 24.5ms\n",
      "image 42/120 /repos/uni-si/R2S4/DNN/End_project/images/train_v2/card_28.jpg: 928x1024 12 person_entrys, 25.0ms\n",
      "image 43/120 /repos/uni-si/R2S4/DNN/End_project/images/train_v2/card_29.jpg: 928x1024 12 person_entrys, 24.2ms\n",
      "image 44/120 /repos/uni-si/R2S4/DNN/End_project/images/train_v2/card_3.jpg: 928x1024 12 person_entrys, 23.6ms\n",
      "image 45/120 /repos/uni-si/R2S4/DNN/End_project/images/train_v2/card_30.jpg: 928x1024 12 person_entrys, 23.8ms\n",
      "image 46/120 /repos/uni-si/R2S4/DNN/End_project/images/train_v2/card_31.jpg: 928x1024 20 person_entrys, 24.8ms\n",
      "image 47/120 /repos/uni-si/R2S4/DNN/End_project/images/train_v2/card_32.jpg: 928x1024 20 person_entrys, 24.5ms\n",
      "image 48/120 /repos/uni-si/R2S4/DNN/End_project/images/train_v2/card_33.jpg: 928x1024 20 person_entrys, 24.7ms\n",
      "image 49/120 /repos/uni-si/R2S4/DNN/End_project/images/train_v2/card_34.jpg: 928x1024 20 person_entrys, 24.2ms\n",
      "image 50/120 /repos/uni-si/R2S4/DNN/End_project/images/train_v2/card_35.jpg: 928x1024 20 person_entrys, 24.1ms\n",
      "image 51/120 /repos/uni-si/R2S4/DNN/End_project/images/train_v2/card_36.jpg: 928x1024 20 person_entrys, 24.2ms\n",
      "image 52/120 /repos/uni-si/R2S4/DNN/End_project/images/train_v2/card_37.jpg: 928x1024 20 person_entrys, 24.6ms\n",
      "image 53/120 /repos/uni-si/R2S4/DNN/End_project/images/train_v2/card_38.jpg: 928x1024 20 person_entrys, 24.8ms\n",
      "image 54/120 /repos/uni-si/R2S4/DNN/End_project/images/train_v2/card_39.jpg: 928x1024 20 person_entrys, 24.6ms\n",
      "image 55/120 /repos/uni-si/R2S4/DNN/End_project/images/train_v2/card_4.jpg: 928x1024 12 person_entrys, 24.3ms\n",
      "image 56/120 /repos/uni-si/R2S4/DNN/End_project/images/train_v2/card_40.jpg: 928x1024 20 person_entrys, 24.0ms\n",
      "image 57/120 /repos/uni-si/R2S4/DNN/End_project/images/train_v2/card_41.jpg: 928x1024 20 person_entrys, 23.9ms\n",
      "image 58/120 /repos/uni-si/R2S4/DNN/End_project/images/train_v2/card_42.jpg: 928x1024 20 person_entrys, 28.6ms\n",
      "image 59/120 /repos/uni-si/R2S4/DNN/End_project/images/train_v2/card_43.jpg: 928x1024 20 person_entrys, 28.7ms\n",
      "image 60/120 /repos/uni-si/R2S4/DNN/End_project/images/train_v2/card_44.jpg: 928x1024 20 person_entrys, 26.5ms\n",
      "image 61/120 /repos/uni-si/R2S4/DNN/End_project/images/train_v2/card_45.jpg: 928x1024 20 person_entrys, 25.6ms\n",
      "image 62/120 /repos/uni-si/R2S4/DNN/End_project/images/train_v2/card_46.jpg: 928x1024 20 person_entrys, 27.3ms\n",
      "image 63/120 /repos/uni-si/R2S4/DNN/End_project/images/train_v2/card_47.jpg: 928x1024 20 person_entrys, 26.2ms\n",
      "image 64/120 /repos/uni-si/R2S4/DNN/End_project/images/train_v2/card_48.jpg: 928x1024 20 person_entrys, 26.6ms\n",
      "image 65/120 /repos/uni-si/R2S4/DNN/End_project/images/train_v2/card_49.jpg: 928x1024 20 person_entrys, 25.7ms\n",
      "image 66/120 /repos/uni-si/R2S4/DNN/End_project/images/train_v2/card_5.jpg: 928x1024 12 person_entrys, 26.0ms\n",
      "image 67/120 /repos/uni-si/R2S4/DNN/End_project/images/train_v2/card_50.jpg: 928x1024 20 person_entrys, 25.9ms\n",
      "image 68/120 /repos/uni-si/R2S4/DNN/End_project/images/train_v2/card_51.jpg: 928x1024 20 person_entrys, 27.0ms\n",
      "image 69/120 /repos/uni-si/R2S4/DNN/End_project/images/train_v2/card_52.jpg: 928x1024 20 person_entrys, 26.2ms\n",
      "image 70/120 /repos/uni-si/R2S4/DNN/End_project/images/train_v2/card_53.jpg: 928x1024 20 person_entrys, 26.3ms\n",
      "image 71/120 /repos/uni-si/R2S4/DNN/End_project/images/train_v2/card_54.jpg: 928x1024 20 person_entrys, 25.8ms\n",
      "image 72/120 /repos/uni-si/R2S4/DNN/End_project/images/train_v2/card_55.jpg: 928x1024 20 person_entrys, 26.6ms\n",
      "image 73/120 /repos/uni-si/R2S4/DNN/End_project/images/train_v2/card_56.jpg: 928x1024 20 person_entrys, 26.5ms\n",
      "image 74/120 /repos/uni-si/R2S4/DNN/End_project/images/train_v2/card_57.jpg: 928x1024 20 person_entrys, 26.8ms\n",
      "image 75/120 /repos/uni-si/R2S4/DNN/End_project/images/train_v2/card_58.jpg: 928x1024 20 person_entrys, 25.8ms\n",
      "image 76/120 /repos/uni-si/R2S4/DNN/End_project/images/train_v2/card_59.jpg: 928x1024 20 person_entrys, 25.5ms\n",
      "image 77/120 /repos/uni-si/R2S4/DNN/End_project/images/train_v2/card_6.jpg: 928x1024 12 person_entrys, 26.8ms\n",
      "image 78/120 /repos/uni-si/R2S4/DNN/End_project/images/train_v2/card_60.jpg: 928x1024 20 person_entrys, 27.3ms\n",
      "image 79/120 /repos/uni-si/R2S4/DNN/End_project/images/train_v2/card_61.jpg: 928x1024 30 person_entrys, 26.1ms\n",
      "image 80/120 /repos/uni-si/R2S4/DNN/End_project/images/train_v2/card_62.jpg: 928x1024 30 person_entrys, 26.7ms\n",
      "image 81/120 /repos/uni-si/R2S4/DNN/End_project/images/train_v2/card_63.jpg: 928x1024 30 person_entrys, 25.2ms\n",
      "image 82/120 /repos/uni-si/R2S4/DNN/End_project/images/train_v2/card_64.jpg: 928x1024 30 person_entrys, 26.7ms\n",
      "image 83/120 /repos/uni-si/R2S4/DNN/End_project/images/train_v2/card_65.jpg: 928x1024 30 person_entrys, 28.4ms\n",
      "image 84/120 /repos/uni-si/R2S4/DNN/End_project/images/train_v2/card_66.jpg: 928x1024 30 person_entrys, 25.6ms\n",
      "image 85/120 /repos/uni-si/R2S4/DNN/End_project/images/train_v2/card_67.jpg: 928x1024 30 person_entrys, 24.4ms\n",
      "image 86/120 /repos/uni-si/R2S4/DNN/End_project/images/train_v2/card_68.jpg: 928x1024 30 person_entrys, 23.7ms\n",
      "image 87/120 /repos/uni-si/R2S4/DNN/End_project/images/train_v2/card_69.jpg: 928x1024 30 person_entrys, 24.4ms\n",
      "image 88/120 /repos/uni-si/R2S4/DNN/End_project/images/train_v2/card_7.jpg: 928x1024 12 person_entrys, 24.6ms\n",
      "image 89/120 /repos/uni-si/R2S4/DNN/End_project/images/train_v2/card_70.jpg: 928x1024 30 person_entrys, 24.9ms\n",
      "image 90/120 /repos/uni-si/R2S4/DNN/End_project/images/train_v2/card_71.jpg: 928x1024 30 person_entrys, 24.6ms\n",
      "image 91/120 /repos/uni-si/R2S4/DNN/End_project/images/train_v2/card_72.jpg: 928x1024 30 person_entrys, 24.6ms\n",
      "image 92/120 /repos/uni-si/R2S4/DNN/End_project/images/train_v2/card_73.jpg: 928x1024 30 person_entrys, 24.1ms\n",
      "image 93/120 /repos/uni-si/R2S4/DNN/End_project/images/train_v2/card_74.jpg: 928x1024 30 person_entrys, 23.7ms\n",
      "image 94/120 /repos/uni-si/R2S4/DNN/End_project/images/train_v2/card_75.jpg: 928x1024 30 person_entrys, 24.1ms\n",
      "image 95/120 /repos/uni-si/R2S4/DNN/End_project/images/train_v2/card_76.jpg: 928x1024 30 person_entrys, 24.3ms\n",
      "image 96/120 /repos/uni-si/R2S4/DNN/End_project/images/train_v2/card_77.jpg: 928x1024 30 person_entrys, 24.6ms\n",
      "image 97/120 /repos/uni-si/R2S4/DNN/End_project/images/train_v2/card_78.jpg: 928x1024 30 person_entrys, 24.5ms\n",
      "image 98/120 /repos/uni-si/R2S4/DNN/End_project/images/train_v2/card_79.jpg: 928x1024 30 person_entrys, 24.5ms\n",
      "image 99/120 /repos/uni-si/R2S4/DNN/End_project/images/train_v2/card_8.jpg: 928x1024 12 person_entrys, 24.5ms\n",
      "image 100/120 /repos/uni-si/R2S4/DNN/End_project/images/train_v2/card_80.jpg: 928x1024 30 person_entrys, 23.8ms\n",
      "image 101/120 /repos/uni-si/R2S4/DNN/End_project/images/train_v2/card_81.jpg: 928x1024 30 person_entrys, 24.5ms\n",
      "image 102/120 /repos/uni-si/R2S4/DNN/End_project/images/train_v2/card_82.jpg: 928x1024 30 person_entrys, 24.7ms\n",
      "image 103/120 /repos/uni-si/R2S4/DNN/End_project/images/train_v2/card_83.jpg: 928x1024 30 person_entrys, 24.6ms\n",
      "image 104/120 /repos/uni-si/R2S4/DNN/End_project/images/train_v2/card_84.jpg: 928x1024 30 person_entrys, 24.6ms\n",
      "image 105/120 /repos/uni-si/R2S4/DNN/End_project/images/train_v2/card_85.jpg: 928x1024 30 person_entrys, 24.2ms\n",
      "image 106/120 /repos/uni-si/R2S4/DNN/End_project/images/train_v2/card_86.jpg: 928x1024 30 person_entrys, 23.9ms\n",
      "image 107/120 /repos/uni-si/R2S4/DNN/End_project/images/train_v2/card_87.jpg: 928x1024 30 person_entrys, 24.6ms\n",
      "image 108/120 /repos/uni-si/R2S4/DNN/End_project/images/train_v2/card_88.jpg: 928x1024 30 person_entrys, 24.6ms\n",
      "image 109/120 /repos/uni-si/R2S4/DNN/End_project/images/train_v2/card_89.jpg: 928x1024 30 person_entrys, 24.4ms\n",
      "image 110/120 /repos/uni-si/R2S4/DNN/End_project/images/train_v2/card_9.jpg: 928x1024 12 person_entrys, 24.7ms\n",
      "image 111/120 /repos/uni-si/R2S4/DNN/End_project/images/train_v2/card_90.jpg: 928x1024 30 person_entrys, 24.8ms\n",
      "image 112/120 /repos/uni-si/R2S4/DNN/End_project/images/train_v2/card_91.jpg: 928x1024 24 person_entrys, 23.7ms\n",
      "image 113/120 /repos/uni-si/R2S4/DNN/End_project/images/train_v2/card_92.jpg: 928x1024 24 person_entrys, 23.9ms\n",
      "image 114/120 /repos/uni-si/R2S4/DNN/End_project/images/train_v2/card_93.jpg: 928x1024 24 person_entrys, 24.5ms\n",
      "image 115/120 /repos/uni-si/R2S4/DNN/End_project/images/train_v2/card_94.jpg: 928x1024 24 person_entrys, 24.6ms\n",
      "image 116/120 /repos/uni-si/R2S4/DNN/End_project/images/train_v2/card_95.jpg: 928x1024 24 person_entrys, 24.5ms\n",
      "image 117/120 /repos/uni-si/R2S4/DNN/End_project/images/train_v2/card_96.jpg: 928x1024 24 person_entrys, 24.2ms\n",
      "image 118/120 /repos/uni-si/R2S4/DNN/End_project/images/train_v2/card_97.jpg: 928x1024 24 person_entrys, 24.3ms\n",
      "image 119/120 /repos/uni-si/R2S4/DNN/End_project/images/train_v2/card_98.jpg: 928x1024 24 person_entrys, 23.9ms\n",
      "image 120/120 /repos/uni-si/R2S4/DNN/End_project/images/train_v2/card_99.jpg: 928x1024 24 person_entrys, 24.3ms\n",
      "Speed: 2.9ms preprocess, 25.0ms inference, 3.0ms postprocess per image at shape (1, 3, 928, 1024)\n",
      "\n",
      "image 1/120 /repos/uni-si/R2S4/DNN/End_project/images/valid_v2/card_1.jpg: 928x1024 12 person_entrys, 65.0ms\n",
      "image 2/120 /repos/uni-si/R2S4/DNN/End_project/images/valid_v2/card_10.jpg: 928x1024 12 person_entrys, 61.2ms\n",
      "image 3/120 /repos/uni-si/R2S4/DNN/End_project/images/valid_v2/card_100.jpg: 928x1024 24 person_entrys, 60.7ms\n",
      "image 4/120 /repos/uni-si/R2S4/DNN/End_project/images/valid_v2/card_101.jpg: 928x1024 24 person_entrys, 59.3ms\n",
      "image 5/120 /repos/uni-si/R2S4/DNN/End_project/images/valid_v2/card_102.jpg: 928x1024 24 person_entrys, 25.6ms\n",
      "image 6/120 /repos/uni-si/R2S4/DNN/End_project/images/valid_v2/card_103.jpg: 928x1024 24 person_entrys, 25.1ms\n",
      "image 7/120 /repos/uni-si/R2S4/DNN/End_project/images/valid_v2/card_104.jpg: 928x1024 24 person_entrys, 25.2ms\n",
      "image 8/120 /repos/uni-si/R2S4/DNN/End_project/images/valid_v2/card_105.jpg: 928x1024 24 person_entrys, 24.7ms\n",
      "image 9/120 /repos/uni-si/R2S4/DNN/End_project/images/valid_v2/card_106.jpg: 928x1024 12 person_entrys, 25.1ms\n",
      "image 10/120 /repos/uni-si/R2S4/DNN/End_project/images/valid_v2/card_107.jpg: 928x1024 12 person_entrys, 24.5ms\n",
      "image 11/120 /repos/uni-si/R2S4/DNN/End_project/images/valid_v2/card_108.jpg: 928x1024 12 person_entrys, 25.4ms\n",
      "image 12/120 /repos/uni-si/R2S4/DNN/End_project/images/valid_v2/card_109.jpg: 928x1024 12 person_entrys, 24.4ms\n",
      "image 13/120 /repos/uni-si/R2S4/DNN/End_project/images/valid_v2/card_11.jpg: 928x1024 12 person_entrys, 25.2ms\n",
      "image 14/120 /repos/uni-si/R2S4/DNN/End_project/images/valid_v2/card_110.jpg: 928x1024 12 person_entrys, 24.4ms\n",
      "image 15/120 /repos/uni-si/R2S4/DNN/End_project/images/valid_v2/card_111.jpg: 928x1024 12 person_entrys, 24.3ms\n",
      "image 16/120 /repos/uni-si/R2S4/DNN/End_project/images/valid_v2/card_112.jpg: 928x1024 12 person_entrys, 24.6ms\n",
      "image 17/120 /repos/uni-si/R2S4/DNN/End_project/images/valid_v2/card_113.jpg: 928x1024 12 person_entrys, 24.6ms\n",
      "image 18/120 /repos/uni-si/R2S4/DNN/End_project/images/valid_v2/card_114.jpg: 928x1024 12 person_entrys, 24.6ms\n",
      "image 19/120 /repos/uni-si/R2S4/DNN/End_project/images/valid_v2/card_115.jpg: 928x1024 12 person_entrys, 23.8ms\n",
      "image 20/120 /repos/uni-si/R2S4/DNN/End_project/images/valid_v2/card_116.jpg: 928x1024 12 person_entrys, 23.6ms\n",
      "image 21/120 /repos/uni-si/R2S4/DNN/End_project/images/valid_v2/card_117.jpg: 928x1024 12 person_entrys, 24.5ms\n",
      "image 22/120 /repos/uni-si/R2S4/DNN/End_project/images/valid_v2/card_118.jpg: 928x1024 12 person_entrys, 24.7ms\n",
      "image 23/120 /repos/uni-si/R2S4/DNN/End_project/images/valid_v2/card_119.jpg: 928x1024 12 person_entrys, 24.4ms\n",
      "image 24/120 /repos/uni-si/R2S4/DNN/End_project/images/valid_v2/card_12.jpg: 928x1024 12 person_entrys, 24.4ms\n",
      "image 25/120 /repos/uni-si/R2S4/DNN/End_project/images/valid_v2/card_120.jpg: 928x1024 12 person_entrys, 24.5ms\n",
      "image 26/120 /repos/uni-si/R2S4/DNN/End_project/images/valid_v2/card_13.jpg: 928x1024 12 person_entrys, 24.0ms\n",
      "image 27/120 /repos/uni-si/R2S4/DNN/End_project/images/valid_v2/card_14.jpg: 928x1024 12 person_entrys, 52.5ms\n",
      "image 28/120 /repos/uni-si/R2S4/DNN/End_project/images/valid_v2/card_15.jpg: 928x1024 12 person_entrys, 24.6ms\n",
      "image 29/120 /repos/uni-si/R2S4/DNN/End_project/images/valid_v2/card_16.jpg: 928x1024 12 person_entrys, 25.7ms\n",
      "image 30/120 /repos/uni-si/R2S4/DNN/End_project/images/valid_v2/card_17.jpg: 928x1024 12 person_entrys, 24.9ms\n",
      "image 31/120 /repos/uni-si/R2S4/DNN/End_project/images/valid_v2/card_18.jpg: 928x1024 12 person_entrys, 37.7ms\n",
      "image 32/120 /repos/uni-si/R2S4/DNN/End_project/images/valid_v2/card_19.jpg: 928x1024 12 person_entrys, 24.5ms\n",
      "image 33/120 /repos/uni-si/R2S4/DNN/End_project/images/valid_v2/card_2.jpg: 928x1024 12 person_entrys, 24.2ms\n",
      "image 34/120 /repos/uni-si/R2S4/DNN/End_project/images/valid_v2/card_20.jpg: 928x1024 12 person_entrys, 24.5ms\n",
      "image 35/120 /repos/uni-si/R2S4/DNN/End_project/images/valid_v2/card_21.jpg: 928x1024 12 person_entrys, 23.9ms\n",
      "image 36/120 /repos/uni-si/R2S4/DNN/End_project/images/valid_v2/card_22.jpg: 928x1024 12 person_entrys, 24.6ms\n",
      "image 37/120 /repos/uni-si/R2S4/DNN/End_project/images/valid_v2/card_23.jpg: 928x1024 12 person_entrys, 24.7ms\n",
      "image 38/120 /repos/uni-si/R2S4/DNN/End_project/images/valid_v2/card_24.jpg: 928x1024 12 person_entrys, 24.8ms\n",
      "image 39/120 /repos/uni-si/R2S4/DNN/End_project/images/valid_v2/card_25.jpg: 928x1024 12 person_entrys, 24.0ms\n",
      "image 40/120 /repos/uni-si/R2S4/DNN/End_project/images/valid_v2/card_26.jpg: 928x1024 12 person_entrys, 24.7ms\n",
      "image 41/120 /repos/uni-si/R2S4/DNN/End_project/images/valid_v2/card_27.jpg: 928x1024 12 person_entrys, 24.9ms\n",
      "image 42/120 /repos/uni-si/R2S4/DNN/End_project/images/valid_v2/card_28.jpg: 928x1024 12 person_entrys, 24.8ms\n",
      "image 43/120 /repos/uni-si/R2S4/DNN/End_project/images/valid_v2/card_29.jpg: 928x1024 12 person_entrys, 23.9ms\n",
      "image 44/120 /repos/uni-si/R2S4/DNN/End_project/images/valid_v2/card_3.jpg: 928x1024 12 person_entrys, 23.7ms\n",
      "image 45/120 /repos/uni-si/R2S4/DNN/End_project/images/valid_v2/card_30.jpg: 928x1024 12 person_entrys, 24.5ms\n",
      "image 46/120 /repos/uni-si/R2S4/DNN/End_project/images/valid_v2/card_31.jpg: 928x1024 20 person_entrys, 24.7ms\n",
      "image 47/120 /repos/uni-si/R2S4/DNN/End_project/images/valid_v2/card_32.jpg: 928x1024 20 person_entrys, 24.2ms\n",
      "image 48/120 /repos/uni-si/R2S4/DNN/End_project/images/valid_v2/card_33.jpg: 928x1024 20 person_entrys, 43.5ms\n",
      "image 49/120 /repos/uni-si/R2S4/DNN/End_project/images/valid_v2/card_34.jpg: 928x1024 20 person_entrys, 24.7ms\n",
      "image 50/120 /repos/uni-si/R2S4/DNN/End_project/images/valid_v2/card_35.jpg: 928x1024 20 person_entrys, 24.5ms\n",
      "image 51/120 /repos/uni-si/R2S4/DNN/End_project/images/valid_v2/card_36.jpg: 928x1024 20 person_entrys, 24.3ms\n",
      "image 52/120 /repos/uni-si/R2S4/DNN/End_project/images/valid_v2/card_37.jpg: 928x1024 20 person_entrys, 24.5ms\n",
      "image 53/120 /repos/uni-si/R2S4/DNN/End_project/images/valid_v2/card_38.jpg: 928x1024 20 person_entrys, 23.8ms\n",
      "image 54/120 /repos/uni-si/R2S4/DNN/End_project/images/valid_v2/card_39.jpg: 928x1024 20 person_entrys, 24.8ms\n",
      "image 55/120 /repos/uni-si/R2S4/DNN/End_project/images/valid_v2/card_4.jpg: 928x1024 12 person_entrys, 24.8ms\n",
      "image 56/120 /repos/uni-si/R2S4/DNN/End_project/images/valid_v2/card_40.jpg: 928x1024 20 person_entrys, 24.5ms\n",
      "image 57/120 /repos/uni-si/R2S4/DNN/End_project/images/valid_v2/card_41.jpg: 928x1024 20 person_entrys, 24.6ms\n",
      "image 58/120 /repos/uni-si/R2S4/DNN/End_project/images/valid_v2/card_42.jpg: 928x1024 20 person_entrys, 23.6ms\n",
      "image 59/120 /repos/uni-si/R2S4/DNN/End_project/images/valid_v2/card_43.jpg: 928x1024 20 person_entrys, 23.9ms\n",
      "image 60/120 /repos/uni-si/R2S4/DNN/End_project/images/valid_v2/card_44.jpg: 928x1024 20 person_entrys, 24.8ms\n",
      "image 61/120 /repos/uni-si/R2S4/DNN/End_project/images/valid_v2/card_45.jpg: 928x1024 20 person_entrys, 24.9ms\n",
      "image 62/120 /repos/uni-si/R2S4/DNN/End_project/images/valid_v2/card_46.jpg: 928x1024 20 person_entrys, 24.4ms\n",
      "image 63/120 /repos/uni-si/R2S4/DNN/End_project/images/valid_v2/card_47.jpg: 928x1024 20 person_entrys, 24.1ms\n",
      "image 64/120 /repos/uni-si/R2S4/DNN/End_project/images/valid_v2/card_48.jpg: 928x1024 20 person_entrys, 24.3ms\n",
      "image 65/120 /repos/uni-si/R2S4/DNN/End_project/images/valid_v2/card_49.jpg: 928x1024 20 person_entrys, 23.8ms\n",
      "image 66/120 /repos/uni-si/R2S4/DNN/End_project/images/valid_v2/card_5.jpg: 928x1024 12 person_entrys, 24.6ms\n",
      "image 67/120 /repos/uni-si/R2S4/DNN/End_project/images/valid_v2/card_50.jpg: 928x1024 20 person_entrys, 24.4ms\n",
      "image 68/120 /repos/uni-si/R2S4/DNN/End_project/images/valid_v2/card_51.jpg: 928x1024 20 person_entrys, 24.5ms\n",
      "image 69/120 /repos/uni-si/R2S4/DNN/End_project/images/valid_v2/card_52.jpg: 928x1024 20 person_entrys, 24.8ms\n",
      "image 70/120 /repos/uni-si/R2S4/DNN/End_project/images/valid_v2/card_53.jpg: 928x1024 20 person_entrys, 24.5ms\n",
      "image 71/120 /repos/uni-si/R2S4/DNN/End_project/images/valid_v2/card_54.jpg: 928x1024 20 person_entrys, 23.9ms\n",
      "image 72/120 /repos/uni-si/R2S4/DNN/End_project/images/valid_v2/card_55.jpg: 928x1024 20 person_entrys, 42.1ms\n",
      "image 73/120 /repos/uni-si/R2S4/DNN/End_project/images/valid_v2/card_56.jpg: 928x1024 20 person_entrys, 24.4ms\n",
      "image 74/120 /repos/uni-si/R2S4/DNN/End_project/images/valid_v2/card_57.jpg: 928x1024 20 person_entrys, 23.6ms\n",
      "image 75/120 /repos/uni-si/R2S4/DNN/End_project/images/valid_v2/card_58.jpg: 928x1024 20 person_entrys, 23.9ms\n",
      "image 76/120 /repos/uni-si/R2S4/DNN/End_project/images/valid_v2/card_59.jpg: 928x1024 20 person_entrys, 24.5ms\n",
      "image 77/120 /repos/uni-si/R2S4/DNN/End_project/images/valid_v2/card_6.jpg: 928x1024 12 person_entrys, 24.2ms\n",
      "image 78/120 /repos/uni-si/R2S4/DNN/End_project/images/valid_v2/card_60.jpg: 928x1024 20 person_entrys, 24.1ms\n",
      "image 79/120 /repos/uni-si/R2S4/DNN/End_project/images/valid_v2/card_61.jpg: 928x1024 30 person_entrys, 24.1ms\n",
      "image 80/120 /repos/uni-si/R2S4/DNN/End_project/images/valid_v2/card_62.jpg: 928x1024 30 person_entrys, 24.7ms\n",
      "image 81/120 /repos/uni-si/R2S4/DNN/End_project/images/valid_v2/card_63.jpg: 928x1024 30 person_entrys, 23.6ms\n",
      "image 82/120 /repos/uni-si/R2S4/DNN/End_project/images/valid_v2/card_64.jpg: 928x1024 30 person_entrys, 23.4ms\n",
      "image 83/120 /repos/uni-si/R2S4/DNN/End_project/images/valid_v2/card_65.jpg: 928x1024 30 person_entrys, 24.0ms\n",
      "image 84/120 /repos/uni-si/R2S4/DNN/End_project/images/valid_v2/card_66.jpg: 928x1024 30 person_entrys, 24.2ms\n",
      "image 85/120 /repos/uni-si/R2S4/DNN/End_project/images/valid_v2/card_67.jpg: 928x1024 30 person_entrys, 24.1ms\n",
      "image 86/120 /repos/uni-si/R2S4/DNN/End_project/images/valid_v2/card_68.jpg: 928x1024 30 person_entrys, 25.0ms\n",
      "image 87/120 /repos/uni-si/R2S4/DNN/End_project/images/valid_v2/card_69.jpg: 928x1024 30 person_entrys, 24.5ms\n",
      "image 88/120 /repos/uni-si/R2S4/DNN/End_project/images/valid_v2/card_7.jpg: 928x1024 12 person_entrys, 23.7ms\n",
      "image 89/120 /repos/uni-si/R2S4/DNN/End_project/images/valid_v2/card_70.jpg: 928x1024 30 person_entrys, 24.1ms\n",
      "image 90/120 /repos/uni-si/R2S4/DNN/End_project/images/valid_v2/card_71.jpg: 928x1024 30 person_entrys, 24.2ms\n",
      "image 91/120 /repos/uni-si/R2S4/DNN/End_project/images/valid_v2/card_72.jpg: 928x1024 30 person_entrys, 24.4ms\n",
      "image 92/120 /repos/uni-si/R2S4/DNN/End_project/images/valid_v2/card_73.jpg: 928x1024 30 person_entrys, 24.1ms\n",
      "image 93/120 /repos/uni-si/R2S4/DNN/End_project/images/valid_v2/card_74.jpg: 928x1024 30 person_entrys, 24.2ms\n",
      "image 94/120 /repos/uni-si/R2S4/DNN/End_project/images/valid_v2/card_75.jpg: 928x1024 30 person_entrys, 23.6ms\n",
      "image 95/120 /repos/uni-si/R2S4/DNN/End_project/images/valid_v2/card_76.jpg: 928x1024 30 person_entrys, 23.9ms\n",
      "image 96/120 /repos/uni-si/R2S4/DNN/End_project/images/valid_v2/card_77.jpg: 928x1024 30 person_entrys, 24.7ms\n",
      "image 97/120 /repos/uni-si/R2S4/DNN/End_project/images/valid_v2/card_78.jpg: 928x1024 30 person_entrys, 25.2ms\n",
      "image 98/120 /repos/uni-si/R2S4/DNN/End_project/images/valid_v2/card_79.jpg: 928x1024 30 person_entrys, 24.2ms\n",
      "image 99/120 /repos/uni-si/R2S4/DNN/End_project/images/valid_v2/card_8.jpg: 928x1024 12 person_entrys, 24.2ms\n",
      "image 100/120 /repos/uni-si/R2S4/DNN/End_project/images/valid_v2/card_80.jpg: 928x1024 30 person_entrys, 23.8ms\n",
      "image 101/120 /repos/uni-si/R2S4/DNN/End_project/images/valid_v2/card_81.jpg: 928x1024 30 person_entrys, 23.7ms\n",
      "image 102/120 /repos/uni-si/R2S4/DNN/End_project/images/valid_v2/card_82.jpg: 928x1024 30 person_entrys, 23.8ms\n",
      "image 103/120 /repos/uni-si/R2S4/DNN/End_project/images/valid_v2/card_83.jpg: 928x1024 30 person_entrys, 24.5ms\n",
      "image 104/120 /repos/uni-si/R2S4/DNN/End_project/images/valid_v2/card_84.jpg: 928x1024 30 person_entrys, 24.4ms\n",
      "image 105/120 /repos/uni-si/R2S4/DNN/End_project/images/valid_v2/card_85.jpg: 928x1024 30 person_entrys, 24.5ms\n",
      "image 106/120 /repos/uni-si/R2S4/DNN/End_project/images/valid_v2/card_86.jpg: 928x1024 30 person_entrys, 24.2ms\n",
      "image 107/120 /repos/uni-si/R2S4/DNN/End_project/images/valid_v2/card_87.jpg: 928x1024 30 person_entrys, 24.0ms\n",
      "image 108/120 /repos/uni-si/R2S4/DNN/End_project/images/valid_v2/card_88.jpg: 928x1024 30 person_entrys, 24.1ms\n",
      "image 109/120 /repos/uni-si/R2S4/DNN/End_project/images/valid_v2/card_89.jpg: 928x1024 30 person_entrys, 23.9ms\n",
      "image 110/120 /repos/uni-si/R2S4/DNN/End_project/images/valid_v2/card_9.jpg: 928x1024 12 person_entrys, 24.0ms\n",
      "image 111/120 /repos/uni-si/R2S4/DNN/End_project/images/valid_v2/card_90.jpg: 928x1024 30 person_entrys, 24.1ms\n",
      "image 112/120 /repos/uni-si/R2S4/DNN/End_project/images/valid_v2/card_91.jpg: 928x1024 24 person_entrys, 24.5ms\n",
      "image 113/120 /repos/uni-si/R2S4/DNN/End_project/images/valid_v2/card_92.jpg: 928x1024 24 person_entrys, 24.8ms\n",
      "image 114/120 /repos/uni-si/R2S4/DNN/End_project/images/valid_v2/card_93.jpg: 928x1024 24 person_entrys, 23.8ms\n",
      "image 115/120 /repos/uni-si/R2S4/DNN/End_project/images/valid_v2/card_94.jpg: 928x1024 24 person_entrys, 23.7ms\n",
      "image 116/120 /repos/uni-si/R2S4/DNN/End_project/images/valid_v2/card_95.jpg: 928x1024 24 person_entrys, 24.0ms\n",
      "image 117/120 /repos/uni-si/R2S4/DNN/End_project/images/valid_v2/card_96.jpg: 928x1024 24 person_entrys, 24.3ms\n",
      "image 118/120 /repos/uni-si/R2S4/DNN/End_project/images/valid_v2/card_97.jpg: 928x1024 24 person_entrys, 24.2ms\n",
      "image 119/120 /repos/uni-si/R2S4/DNN/End_project/images/valid_v2/card_98.jpg: 928x1024 24 person_entrys, 24.0ms\n",
      "image 120/120 /repos/uni-si/R2S4/DNN/End_project/images/valid_v2/card_99.jpg: 928x1024 24 person_entrys, 24.0ms\n",
      "Speed: 2.9ms preprocess, 26.2ms inference, 1.8ms postprocess per image at shape (1, 3, 928, 1024)\n",
      "\n",
      "image 1/120 /repos/uni-si/R2S4/DNN/End_project/images/test_v2/card_1.jpg: 928x1024 12 person_entrys, 76.9ms\n",
      "image 2/120 /repos/uni-si/R2S4/DNN/End_project/images/test_v2/card_10.jpg: 928x1024 12 person_entrys, 74.6ms\n",
      "image 3/120 /repos/uni-si/R2S4/DNN/End_project/images/test_v2/card_100.jpg: 928x1024 24 person_entrys, 32.4ms\n",
      "image 4/120 /repos/uni-si/R2S4/DNN/End_project/images/test_v2/card_101.jpg: 928x1024 24 person_entrys, 24.3ms\n",
      "image 5/120 /repos/uni-si/R2S4/DNN/End_project/images/test_v2/card_102.jpg: 928x1024 24 person_entrys, 35.7ms\n",
      "image 6/120 /repos/uni-si/R2S4/DNN/End_project/images/test_v2/card_103.jpg: 928x1024 24 person_entrys, 42.1ms\n",
      "image 7/120 /repos/uni-si/R2S4/DNN/End_project/images/test_v2/card_104.jpg: 928x1024 24 person_entrys, 24.6ms\n",
      "image 8/120 /repos/uni-si/R2S4/DNN/End_project/images/test_v2/card_105.jpg: 928x1024 24 person_entrys, 24.2ms\n",
      "image 9/120 /repos/uni-si/R2S4/DNN/End_project/images/test_v2/card_106.jpg: 928x1024 12 person_entrys, 24.2ms\n",
      "image 10/120 /repos/uni-si/R2S4/DNN/End_project/images/test_v2/card_107.jpg: 928x1024 12 person_entrys, 24.2ms\n",
      "image 11/120 /repos/uni-si/R2S4/DNN/End_project/images/test_v2/card_108.jpg: 928x1024 12 person_entrys, 24.4ms\n",
      "image 12/120 /repos/uni-si/R2S4/DNN/End_project/images/test_v2/card_109.jpg: 928x1024 12 person_entrys, 24.4ms\n",
      "image 13/120 /repos/uni-si/R2S4/DNN/End_project/images/test_v2/card_11.jpg: 928x1024 12 person_entrys, 23.9ms\n",
      "image 14/120 /repos/uni-si/R2S4/DNN/End_project/images/test_v2/card_110.jpg: 928x1024 12 person_entrys, 24.5ms\n",
      "image 15/120 /repos/uni-si/R2S4/DNN/End_project/images/test_v2/card_111.jpg: 928x1024 12 person_entrys, 34.9ms\n",
      "image 16/120 /repos/uni-si/R2S4/DNN/End_project/images/test_v2/card_112.jpg: 928x1024 12 person_entrys, 23.6ms\n",
      "image 17/120 /repos/uni-si/R2S4/DNN/End_project/images/test_v2/card_113.jpg: 928x1024 12 person_entrys, 23.5ms\n",
      "image 18/120 /repos/uni-si/R2S4/DNN/End_project/images/test_v2/card_114.jpg: 928x1024 12 person_entrys, 23.5ms\n",
      "image 19/120 /repos/uni-si/R2S4/DNN/End_project/images/test_v2/card_115.jpg: 928x1024 12 person_entrys, 23.3ms\n",
      "image 20/120 /repos/uni-si/R2S4/DNN/End_project/images/test_v2/card_116.jpg: 928x1024 12 person_entrys, 24.1ms\n",
      "image 21/120 /repos/uni-si/R2S4/DNN/End_project/images/test_v2/card_117.jpg: 928x1024 12 person_entrys, 24.2ms\n",
      "image 22/120 /repos/uni-si/R2S4/DNN/End_project/images/test_v2/card_118.jpg: 928x1024 12 person_entrys, 45.5ms\n",
      "image 23/120 /repos/uni-si/R2S4/DNN/End_project/images/test_v2/card_119.jpg: 928x1024 12 person_entrys, 23.5ms\n",
      "image 24/120 /repos/uni-si/R2S4/DNN/End_project/images/test_v2/card_12.jpg: 928x1024 12 person_entrys, 23.8ms\n",
      "image 25/120 /repos/uni-si/R2S4/DNN/End_project/images/test_v2/card_120.jpg: 928x1024 12 person_entrys, 24.2ms\n",
      "image 26/120 /repos/uni-si/R2S4/DNN/End_project/images/test_v2/card_13.jpg: 928x1024 12 person_entrys, 24.3ms\n",
      "image 27/120 /repos/uni-si/R2S4/DNN/End_project/images/test_v2/card_14.jpg: 928x1024 12 person_entrys, 24.2ms\n",
      "image 28/120 /repos/uni-si/R2S4/DNN/End_project/images/test_v2/card_15.jpg: 928x1024 12 person_entrys, 25.2ms\n",
      "image 29/120 /repos/uni-si/R2S4/DNN/End_project/images/test_v2/card_16.jpg: 928x1024 12 person_entrys, 24.3ms\n",
      "image 30/120 /repos/uni-si/R2S4/DNN/End_project/images/test_v2/card_17.jpg: 928x1024 12 person_entrys, 24.4ms\n",
      "image 31/120 /repos/uni-si/R2S4/DNN/End_project/images/test_v2/card_18.jpg: 928x1024 12 person_entrys, 24.0ms\n",
      "image 32/120 /repos/uni-si/R2S4/DNN/End_project/images/test_v2/card_19.jpg: 928x1024 12 person_entrys, 24.2ms\n",
      "image 33/120 /repos/uni-si/R2S4/DNN/End_project/images/test_v2/card_2.jpg: 928x1024 12 person_entrys, 24.3ms\n",
      "image 34/120 /repos/uni-si/R2S4/DNN/End_project/images/test_v2/card_20.jpg: 928x1024 12 person_entrys, 24.3ms\n",
      "image 35/120 /repos/uni-si/R2S4/DNN/End_project/images/test_v2/card_21.jpg: 928x1024 12 person_entrys, 24.3ms\n",
      "image 36/120 /repos/uni-si/R2S4/DNN/End_project/images/test_v2/card_22.jpg: 928x1024 12 person_entrys, 24.5ms\n",
      "image 37/120 /repos/uni-si/R2S4/DNN/End_project/images/test_v2/card_23.jpg: 928x1024 12 person_entrys, 24.7ms\n",
      "image 38/120 /repos/uni-si/R2S4/DNN/End_project/images/test_v2/card_24.jpg: 928x1024 12 person_entrys, 33.6ms\n",
      "image 39/120 /repos/uni-si/R2S4/DNN/End_project/images/test_v2/card_25.jpg: 928x1024 12 person_entrys, 24.4ms\n",
      "image 40/120 /repos/uni-si/R2S4/DNN/End_project/images/test_v2/card_26.jpg: 928x1024 12 person_entrys, 24.4ms\n",
      "image 41/120 /repos/uni-si/R2S4/DNN/End_project/images/test_v2/card_27.jpg: 928x1024 12 person_entrys, 24.2ms\n",
      "image 42/120 /repos/uni-si/R2S4/DNN/End_project/images/test_v2/card_28.jpg: 928x1024 12 person_entrys, 23.9ms\n",
      "image 43/120 /repos/uni-si/R2S4/DNN/End_project/images/test_v2/card_29.jpg: 928x1024 12 person_entrys, 24.3ms\n",
      "image 44/120 /repos/uni-si/R2S4/DNN/End_project/images/test_v2/card_3.jpg: 928x1024 12 person_entrys, 26.0ms\n",
      "image 45/120 /repos/uni-si/R2S4/DNN/End_project/images/test_v2/card_30.jpg: 928x1024 12 person_entrys, 24.3ms\n",
      "image 46/120 /repos/uni-si/R2S4/DNN/End_project/images/test_v2/card_31.jpg: 928x1024 20 person_entrys, 24.9ms\n",
      "image 47/120 /repos/uni-si/R2S4/DNN/End_project/images/test_v2/card_32.jpg: 928x1024 20 person_entrys, 24.2ms\n",
      "image 48/120 /repos/uni-si/R2S4/DNN/End_project/images/test_v2/card_33.jpg: 928x1024 20 person_entrys, 25.0ms\n",
      "image 49/120 /repos/uni-si/R2S4/DNN/End_project/images/test_v2/card_34.jpg: 928x1024 20 person_entrys, 24.6ms\n",
      "image 50/120 /repos/uni-si/R2S4/DNN/End_project/images/test_v2/card_35.jpg: 928x1024 20 person_entrys, 24.6ms\n",
      "image 51/120 /repos/uni-si/R2S4/DNN/End_project/images/test_v2/card_36.jpg: 928x1024 20 person_entrys, 24.6ms\n",
      "image 52/120 /repos/uni-si/R2S4/DNN/End_project/images/test_v2/card_37.jpg: 928x1024 20 person_entrys, 23.7ms\n",
      "image 53/120 /repos/uni-si/R2S4/DNN/End_project/images/test_v2/card_38.jpg: 928x1024 20 person_entrys, 24.4ms\n",
      "image 54/120 /repos/uni-si/R2S4/DNN/End_project/images/test_v2/card_39.jpg: 928x1024 20 person_entrys, 24.4ms\n",
      "image 55/120 /repos/uni-si/R2S4/DNN/End_project/images/test_v2/card_4.jpg: 928x1024 12 person_entrys, 23.6ms\n",
      "image 56/120 /repos/uni-si/R2S4/DNN/End_project/images/test_v2/card_40.jpg: 928x1024 20 person_entrys, 23.4ms\n",
      "image 57/120 /repos/uni-si/R2S4/DNN/End_project/images/test_v2/card_41.jpg: 928x1024 20 person_entrys, 23.7ms\n",
      "image 58/120 /repos/uni-si/R2S4/DNN/End_project/images/test_v2/card_42.jpg: 928x1024 20 person_entrys, 23.6ms\n",
      "image 59/120 /repos/uni-si/R2S4/DNN/End_project/images/test_v2/card_43.jpg: 928x1024 20 person_entrys, 23.8ms\n",
      "image 60/120 /repos/uni-si/R2S4/DNN/End_project/images/test_v2/card_44.jpg: 928x1024 20 person_entrys, 24.1ms\n",
      "image 61/120 /repos/uni-si/R2S4/DNN/End_project/images/test_v2/card_45.jpg: 928x1024 20 person_entrys, 24.2ms\n",
      "image 62/120 /repos/uni-si/R2S4/DNN/End_project/images/test_v2/card_46.jpg: 928x1024 20 person_entrys, 24.2ms\n",
      "image 63/120 /repos/uni-si/R2S4/DNN/End_project/images/test_v2/card_47.jpg: 928x1024 20 person_entrys, 24.6ms\n",
      "image 64/120 /repos/uni-si/R2S4/DNN/End_project/images/test_v2/card_48.jpg: 928x1024 20 person_entrys, 24.4ms\n",
      "image 65/120 /repos/uni-si/R2S4/DNN/End_project/images/test_v2/card_49.jpg: 928x1024 20 person_entrys, 23.9ms\n",
      "image 66/120 /repos/uni-si/R2S4/DNN/End_project/images/test_v2/card_5.jpg: 928x1024 12 person_entrys, 24.3ms\n",
      "image 67/120 /repos/uni-si/R2S4/DNN/End_project/images/test_v2/card_50.jpg: 928x1024 20 person_entrys, 43.5ms\n",
      "image 68/120 /repos/uni-si/R2S4/DNN/End_project/images/test_v2/card_51.jpg: 928x1024 20 person_entrys, 23.5ms\n",
      "image 69/120 /repos/uni-si/R2S4/DNN/End_project/images/test_v2/card_52.jpg: 928x1024 20 person_entrys, 34.4ms\n",
      "image 70/120 /repos/uni-si/R2S4/DNN/End_project/images/test_v2/card_53.jpg: 928x1024 20 person_entrys, 24.2ms\n",
      "image 71/120 /repos/uni-si/R2S4/DNN/End_project/images/test_v2/card_54.jpg: 928x1024 20 person_entrys, 24.4ms\n",
      "image 72/120 /repos/uni-si/R2S4/DNN/End_project/images/test_v2/card_55.jpg: 928x1024 20 person_entrys, 24.7ms\n",
      "image 73/120 /repos/uni-si/R2S4/DNN/End_project/images/test_v2/card_56.jpg: 928x1024 20 person_entrys, 24.1ms\n",
      "image 74/120 /repos/uni-si/R2S4/DNN/End_project/images/test_v2/card_57.jpg: 928x1024 20 person_entrys, 24.1ms\n",
      "image 75/120 /repos/uni-si/R2S4/DNN/End_project/images/test_v2/card_58.jpg: 928x1024 20 person_entrys, 24.3ms\n",
      "image 76/120 /repos/uni-si/R2S4/DNN/End_project/images/test_v2/card_59.jpg: 928x1024 20 person_entrys, 23.8ms\n",
      "image 77/120 /repos/uni-si/R2S4/DNN/End_project/images/test_v2/card_6.jpg: 928x1024 12 person_entrys, 23.7ms\n",
      "image 78/120 /repos/uni-si/R2S4/DNN/End_project/images/test_v2/card_60.jpg: 928x1024 20 person_entrys, 23.9ms\n",
      "image 79/120 /repos/uni-si/R2S4/DNN/End_project/images/test_v2/card_61.jpg: 928x1024 30 person_entrys, 23.6ms\n",
      "image 80/120 /repos/uni-si/R2S4/DNN/End_project/images/test_v2/card_62.jpg: 928x1024 30 person_entrys, 23.3ms\n",
      "image 81/120 /repos/uni-si/R2S4/DNN/End_project/images/test_v2/card_63.jpg: 928x1024 30 person_entrys, 23.8ms\n",
      "image 82/120 /repos/uni-si/R2S4/DNN/End_project/images/test_v2/card_64.jpg: 928x1024 30 person_entrys, 23.9ms\n",
      "image 83/120 /repos/uni-si/R2S4/DNN/End_project/images/test_v2/card_65.jpg: 928x1024 30 person_entrys, 23.5ms\n",
      "image 84/120 /repos/uni-si/R2S4/DNN/End_project/images/test_v2/card_66.jpg: 928x1024 30 person_entrys, 27.2ms\n",
      "image 85/120 /repos/uni-si/R2S4/DNN/End_project/images/test_v2/card_67.jpg: 928x1024 30 person_entrys, 24.7ms\n",
      "image 86/120 /repos/uni-si/R2S4/DNN/End_project/images/test_v2/card_68.jpg: 928x1024 30 person_entrys, 24.1ms\n",
      "image 87/120 /repos/uni-si/R2S4/DNN/End_project/images/test_v2/card_69.jpg: 928x1024 30 person_entrys, 24.1ms\n",
      "image 88/120 /repos/uni-si/R2S4/DNN/End_project/images/test_v2/card_7.jpg: 928x1024 12 person_entrys, 24.6ms\n",
      "image 89/120 /repos/uni-si/R2S4/DNN/End_project/images/test_v2/card_70.jpg: 928x1024 30 person_entrys, 24.2ms\n",
      "image 90/120 /repos/uni-si/R2S4/DNN/End_project/images/test_v2/card_71.jpg: 928x1024 30 person_entrys, 24.1ms\n",
      "image 91/120 /repos/uni-si/R2S4/DNN/End_project/images/test_v2/card_72.jpg: 928x1024 30 person_entrys, 24.0ms\n",
      "image 92/120 /repos/uni-si/R2S4/DNN/End_project/images/test_v2/card_73.jpg: 928x1024 30 person_entrys, 24.2ms\n",
      "image 93/120 /repos/uni-si/R2S4/DNN/End_project/images/test_v2/card_74.jpg: 928x1024 30 person_entrys, 24.1ms\n",
      "image 94/120 /repos/uni-si/R2S4/DNN/End_project/images/test_v2/card_75.jpg: 928x1024 30 person_entrys, 24.4ms\n",
      "image 95/120 /repos/uni-si/R2S4/DNN/End_project/images/test_v2/card_76.jpg: 928x1024 30 person_entrys, 24.3ms\n",
      "image 96/120 /repos/uni-si/R2S4/DNN/End_project/images/test_v2/card_77.jpg: 928x1024 30 person_entrys, 24.1ms\n",
      "image 97/120 /repos/uni-si/R2S4/DNN/End_project/images/test_v2/card_78.jpg: 928x1024 30 person_entrys, 23.3ms\n",
      "image 98/120 /repos/uni-si/R2S4/DNN/End_project/images/test_v2/card_79.jpg: 928x1024 30 person_entrys, 32.0ms\n",
      "image 99/120 /repos/uni-si/R2S4/DNN/End_project/images/test_v2/card_8.jpg: 928x1024 12 person_entrys, 23.7ms\n",
      "image 100/120 /repos/uni-si/R2S4/DNN/End_project/images/test_v2/card_80.jpg: 928x1024 30 person_entrys, 24.1ms\n",
      "image 101/120 /repos/uni-si/R2S4/DNN/End_project/images/test_v2/card_81.jpg: 928x1024 30 person_entrys, 24.6ms\n",
      "image 102/120 /repos/uni-si/R2S4/DNN/End_project/images/test_v2/card_82.jpg: 928x1024 30 person_entrys, 24.4ms\n",
      "image 103/120 /repos/uni-si/R2S4/DNN/End_project/images/test_v2/card_83.jpg: 928x1024 30 person_entrys, 24.0ms\n",
      "image 104/120 /repos/uni-si/R2S4/DNN/End_project/images/test_v2/card_84.jpg: 928x1024 30 person_entrys, 24.8ms\n",
      "image 105/120 /repos/uni-si/R2S4/DNN/End_project/images/test_v2/card_85.jpg: 928x1024 30 person_entrys, 25.0ms\n",
      "image 106/120 /repos/uni-si/R2S4/DNN/End_project/images/test_v2/card_86.jpg: 928x1024 30 person_entrys, 24.5ms\n",
      "image 107/120 /repos/uni-si/R2S4/DNN/End_project/images/test_v2/card_87.jpg: 928x1024 30 person_entrys, 24.1ms\n",
      "image 108/120 /repos/uni-si/R2S4/DNN/End_project/images/test_v2/card_88.jpg: 928x1024 30 person_entrys, 24.6ms\n",
      "image 109/120 /repos/uni-si/R2S4/DNN/End_project/images/test_v2/card_89.jpg: 928x1024 30 person_entrys, 24.1ms\n",
      "image 110/120 /repos/uni-si/R2S4/DNN/End_project/images/test_v2/card_9.jpg: 928x1024 12 person_entrys, 23.8ms\n",
      "image 111/120 /repos/uni-si/R2S4/DNN/End_project/images/test_v2/card_90.jpg: 928x1024 30 person_entrys, 23.7ms\n",
      "image 112/120 /repos/uni-si/R2S4/DNN/End_project/images/test_v2/card_91.jpg: 928x1024 24 person_entrys, 23.5ms\n",
      "image 113/120 /repos/uni-si/R2S4/DNN/End_project/images/test_v2/card_92.jpg: 928x1024 24 person_entrys, 23.8ms\n",
      "image 114/120 /repos/uni-si/R2S4/DNN/End_project/images/test_v2/card_93.jpg: 928x1024 24 person_entrys, 23.5ms\n",
      "image 115/120 /repos/uni-si/R2S4/DNN/End_project/images/test_v2/card_94.jpg: 928x1024 24 person_entrys, 23.6ms\n",
      "image 116/120 /repos/uni-si/R2S4/DNN/End_project/images/test_v2/card_95.jpg: 928x1024 24 person_entrys, 23.7ms\n",
      "image 117/120 /repos/uni-si/R2S4/DNN/End_project/images/test_v2/card_96.jpg: 928x1024 24 person_entrys, 23.9ms\n",
      "image 118/120 /repos/uni-si/R2S4/DNN/End_project/images/test_v2/card_97.jpg: 928x1024 24 person_entrys, 23.9ms\n",
      "image 119/120 /repos/uni-si/R2S4/DNN/End_project/images/test_v2/card_98.jpg: 928x1024 24 person_entrys, 23.9ms\n",
      "image 120/120 /repos/uni-si/R2S4/DNN/End_project/images/test_v2/card_99.jpg: 928x1024 24 person_entrys, 24.5ms\n",
      "Speed: 2.9ms preprocess, 26.0ms inference, 1.7ms postprocess per image at shape (1, 3, 928, 1024)\n"
     ]
    }
   ],
   "source": [
    "from ultralytics import YOLO\n",
    "model = YOLO('runs/detect/person_entry_model5/weights/best.pt')\n",
    "\n",
    "for i in ['train_v2', 'valid_v2', 'test_v2']:\n",
    "    results = model.predict(\n",
    "        source=f'images/{i}',\n",
    "        save=False,\n",
    "        conf=0.25,\n",
    "        imgsz=1024\n",
    "    )\n",
    "\n",
    "    prepare_yolo2_training_data(f'images/{i}', results, output_img_dir=f'images/{i}_yolo2', output_lbl_dir=f'labels/{i}_yolo2')"
   ]
  },
  {
   "cell_type": "code",
   "execution_count": 8,
   "id": "09349832",
   "metadata": {},
   "outputs": [
    {
     "name": "stdout",
     "output_type": "stream",
     "text": [
      "New https://pypi.org/project/ultralytics/8.3.146 available 😃 Update with 'pip install -U ultralytics'\n",
      "Ultralytics 8.3.144 🚀 Python-3.11.9 torch-2.6.0+cu124 CUDA:0 (NVIDIA GeForce RTX 4070 Ti SUPER, 16376MiB)\n",
      "\u001b[34m\u001b[1mengine/trainer: \u001b[0magnostic_nms=False, amp=True, augment=False, auto_augment=randaugment, batch=8, bgr=0.0, box=7.5, cache=False, cfg=None, classes=None, close_mosaic=10, cls=0.5, conf=None, copy_paste=0.0, copy_paste_mode=flip, cos_lr=False, cutmix=0.0, data=split_image_id.yaml, degrees=0.0, deterministic=True, device=None, dfl=1.5, dnn=False, dropout=0.0, dynamic=False, embed=None, epochs=100, erasing=0.4, exist_ok=False, fliplr=0.5, flipud=0.0, format=torchscript, fraction=1.0, freeze=None, half=False, hsv_h=0.015, hsv_s=0.7, hsv_v=0.4, imgsz=320, int8=False, iou=0.7, keras=False, kobj=1.0, line_width=None, lr0=0.01, lrf=0.01, mask_ratio=4, max_det=300, mixup=0.0, mode=train, model=yolo11x.pt, momentum=0.937, mosaic=1.0, multi_scale=False, name=split_image_id_model, nbs=64, nms=False, opset=None, optimize=False, optimizer=auto, overlap_mask=True, patience=100, perspective=0.0, plots=True, pose=12.0, pretrained=True, profile=False, project=None, rect=False, resume=False, retina_masks=False, save=True, save_conf=False, save_crop=False, save_dir=runs/detect/split_image_id_model, save_frames=False, save_json=False, save_period=-1, save_txt=False, scale=0.5, seed=0, shear=0.0, show=False, show_boxes=True, show_conf=True, show_labels=True, simplify=True, single_cls=False, source=None, split=val, stream_buffer=False, task=detect, time=None, tracker=botsort.yaml, translate=0.1, val=True, verbose=True, vid_stride=1, visualize=False, warmup_bias_lr=0.1, warmup_epochs=3.0, warmup_momentum=0.8, weight_decay=0.0005, workers=8, workspace=None\n",
      "Overriding model.yaml nc=80 with nc=2\n",
      "\n",
      "                   from  n    params  module                                       arguments                     \n",
      "  0                  -1  1      2784  ultralytics.nn.modules.conv.Conv             [3, 96, 3, 2]                 \n",
      "  1                  -1  1    166272  ultralytics.nn.modules.conv.Conv             [96, 192, 3, 2]               \n",
      "  2                  -1  2    389760  ultralytics.nn.modules.block.C3k2            [192, 384, 2, True, 0.25]     \n",
      "  3                  -1  1   1327872  ultralytics.nn.modules.conv.Conv             [384, 384, 3, 2]              \n",
      "  4                  -1  2   1553664  ultralytics.nn.modules.block.C3k2            [384, 768, 2, True, 0.25]     \n",
      "  5                  -1  1   5309952  ultralytics.nn.modules.conv.Conv             [768, 768, 3, 2]              \n",
      "  6                  -1  2   5022720  ultralytics.nn.modules.block.C3k2            [768, 768, 2, True]           \n",
      "  7                  -1  1   5309952  ultralytics.nn.modules.conv.Conv             [768, 768, 3, 2]              \n",
      "  8                  -1  2   5022720  ultralytics.nn.modules.block.C3k2            [768, 768, 2, True]           \n",
      "  9                  -1  1   1476864  ultralytics.nn.modules.block.SPPF            [768, 768, 5]                 \n",
      " 10                  -1  2   3264768  ultralytics.nn.modules.block.C2PSA           [768, 768, 2]                 \n",
      " 11                  -1  1         0  torch.nn.modules.upsampling.Upsample         [None, 2, 'nearest']          \n",
      " 12             [-1, 6]  1         0  ultralytics.nn.modules.conv.Concat           [1]                           \n",
      " 13                  -1  2   5612544  ultralytics.nn.modules.block.C3k2            [1536, 768, 2, True]          \n",
      " 14                  -1  1         0  torch.nn.modules.upsampling.Upsample         [None, 2, 'nearest']          \n",
      " 15             [-1, 4]  1         0  ultralytics.nn.modules.conv.Concat           [1]                           \n",
      " 16                  -1  2   1700352  ultralytics.nn.modules.block.C3k2            [1536, 384, 2, True]          \n",
      " 17                  -1  1   1327872  ultralytics.nn.modules.conv.Conv             [384, 384, 3, 2]              \n",
      " 18            [-1, 13]  1         0  ultralytics.nn.modules.conv.Concat           [1]                           \n",
      " 19                  -1  2   5317632  ultralytics.nn.modules.block.C3k2            [1152, 768, 2, True]          \n",
      " 20                  -1  1   5309952  ultralytics.nn.modules.conv.Conv             [768, 768, 3, 2]              \n",
      " 21            [-1, 10]  1         0  ultralytics.nn.modules.conv.Concat           [1]                           \n",
      " 22                  -1  2   5612544  ultralytics.nn.modules.block.C3k2            [1536, 768, 2, True]          \n",
      " 23        [16, 19, 22]  1   3147862  ultralytics.nn.modules.head.Detect           [2, [384, 768, 768]]          \n",
      "YOLO11x summary: 357 layers, 56,876,086 parameters, 56,876,070 gradients, 195.5 GFLOPs\n",
      "\n",
      "Transferred 1009/1015 items from pretrained weights\n",
      "Freezing layer 'model.23.dfl.conv.weight'\n",
      "\u001b[34m\u001b[1mAMP: \u001b[0mrunning Automatic Mixed Precision (AMP) checks...\n",
      "\u001b[34m\u001b[1mAMP: \u001b[0mchecks passed ✅\n",
      "\u001b[34m\u001b[1mtrain: \u001b[0mFast image access ✅ (ping: 0.0±0.0 ms, read: 1286.4±664.3 MB/s, size: 21.6 KB)\n"
     ]
    },
    {
     "name": "stderr",
     "output_type": "stream",
     "text": [
      "\u001b[34m\u001b[1mtrain: \u001b[0mScanning /repos/uni-si/R2S4/DNN/End_project/labels/train_v2_yolo2... 2400 images, 0 backgrounds, 0 corrupt: 100%|██████████| 2400/2400 [00:02<00:00, 1053.34it/s]"
     ]
    },
    {
     "name": "stdout",
     "output_type": "stream",
     "text": [
      "\u001b[34m\u001b[1mtrain: \u001b[0mNew cache created: /repos/uni-si/R2S4/DNN/End_project/labels/train_v2_yolo2.cache\n"
     ]
    },
    {
     "name": "stderr",
     "output_type": "stream",
     "text": [
      "\n"
     ]
    },
    {
     "name": "stdout",
     "output_type": "stream",
     "text": [
      "\u001b[34m\u001b[1malbumentations: \u001b[0mBlur(p=0.01, blur_limit=(3, 7)), MedianBlur(p=0.01, blur_limit=(3, 7)), ToGray(p=0.01, method='weighted_average', num_output_channels=3), CLAHE(p=0.01, clip_limit=(1.0, 4.0), tile_grid_size=(8, 8))\n",
      "\u001b[34m\u001b[1mval: \u001b[0mFast image access ✅ (ping: 0.0±0.0 ms, read: 515.0±350.9 MB/s, size: 16.5 KB)\n"
     ]
    },
    {
     "name": "stderr",
     "output_type": "stream",
     "text": [
      "\u001b[34m\u001b[1mval: \u001b[0mScanning /repos/uni-si/R2S4/DNN/End_project/labels/valid_v2_yolo2... 2400 images, 0 backgrounds, 0 corrupt: 100%|██████████| 2400/2400 [00:02<00:00, 1027.01it/s]"
     ]
    },
    {
     "name": "stdout",
     "output_type": "stream",
     "text": [
      "\u001b[34m\u001b[1mval: \u001b[0mNew cache created: /repos/uni-si/R2S4/DNN/End_project/labels/valid_v2_yolo2.cache\n"
     ]
    },
    {
     "name": "stderr",
     "output_type": "stream",
     "text": [
      "\n"
     ]
    },
    {
     "name": "stdout",
     "output_type": "stream",
     "text": [
      "Plotting labels to runs/detect/split_image_id_model/labels.jpg... \n",
      "\u001b[34m\u001b[1moptimizer:\u001b[0m 'optimizer=auto' found, ignoring 'lr0=0.01' and 'momentum=0.937' and determining best 'optimizer', 'lr0' and 'momentum' automatically... \n",
      "\u001b[34m\u001b[1moptimizer:\u001b[0m AdamW(lr=0.001667, momentum=0.9) with parameter groups 167 weight(decay=0.0), 174 weight(decay=0.0005), 173 bias(decay=0.0)\n",
      "Image sizes 320 train, 320 val\n",
      "Using 8 dataloader workers\n",
      "Logging results to \u001b[1mruns/detect/split_image_id_model\u001b[0m\n",
      "Starting training for 100 epochs...\n",
      "\n",
      "      Epoch    GPU_mem   box_loss   cls_loss   dfl_loss  Instances       Size\n"
     ]
    },
    {
     "name": "stderr",
     "output_type": "stream",
     "text": [
      "      1/100      3.17G     0.8699     0.7298      1.272         42        320: 100%|██████████| 300/300 [00:41<00:00,  7.19it/s]\n",
      "                 Class     Images  Instances      Box(P          R      mAP50  mAP50-95): 100%|██████████| 150/150 [00:12<00:00, 11.99it/s]"
     ]
    },
    {
     "name": "stdout",
     "output_type": "stream",
     "text": [
      "                   all       2400       4800      0.755      0.973      0.993      0.759\n"
     ]
    },
    {
     "name": "stderr",
     "output_type": "stream",
     "text": [
      "\n"
     ]
    },
    {
     "name": "stdout",
     "output_type": "stream",
     "text": [
      "\n",
      "      Epoch    GPU_mem   box_loss   cls_loss   dfl_loss  Instances       Size\n"
     ]
    },
    {
     "name": "stderr",
     "output_type": "stream",
     "text": [
      "      2/100      3.53G      0.734     0.4986      1.156         35        320: 100%|██████████| 300/300 [00:37<00:00,  7.92it/s]\n",
      "                 Class     Images  Instances      Box(P          R      mAP50  mAP50-95): 100%|██████████| 150/150 [00:12<00:00, 11.96it/s]"
     ]
    },
    {
     "name": "stdout",
     "output_type": "stream",
     "text": [
      "                   all       2400       4800      0.999          1      0.995      0.977\n"
     ]
    },
    {
     "name": "stderr",
     "output_type": "stream",
     "text": [
      "\n"
     ]
    },
    {
     "name": "stdout",
     "output_type": "stream",
     "text": [
      "\n",
      "      Epoch    GPU_mem   box_loss   cls_loss   dfl_loss  Instances       Size\n"
     ]
    },
    {
     "name": "stderr",
     "output_type": "stream",
     "text": [
      "      3/100      3.84G     0.6068     0.4148      1.082         35        320: 100%|██████████| 300/300 [00:36<00:00,  8.11it/s]\n",
      "                 Class     Images  Instances      Box(P          R      mAP50  mAP50-95): 100%|██████████| 150/150 [00:13<00:00, 11.46it/s]"
     ]
    },
    {
     "name": "stdout",
     "output_type": "stream",
     "text": [
      "                   all       2400       4800      0.998      0.999      0.995      0.969\n"
     ]
    },
    {
     "name": "stderr",
     "output_type": "stream",
     "text": [
      "\n"
     ]
    },
    {
     "name": "stdout",
     "output_type": "stream",
     "text": [
      "\n",
      "      Epoch    GPU_mem   box_loss   cls_loss   dfl_loss  Instances       Size\n"
     ]
    },
    {
     "name": "stderr",
     "output_type": "stream",
     "text": [
      "      4/100      4.18G     0.5446     0.3632       1.04         40        320: 100%|██████████| 300/300 [00:35<00:00,  8.39it/s]\n",
      "                 Class     Images  Instances      Box(P          R      mAP50  mAP50-95): 100%|██████████| 150/150 [00:12<00:00, 11.87it/s]"
     ]
    },
    {
     "name": "stdout",
     "output_type": "stream",
     "text": [
      "                   all       2400       4800          1          1      0.995      0.993\n"
     ]
    },
    {
     "name": "stderr",
     "output_type": "stream",
     "text": [
      "\n"
     ]
    },
    {
     "name": "stdout",
     "output_type": "stream",
     "text": [
      "\n",
      "      Epoch    GPU_mem   box_loss   cls_loss   dfl_loss  Instances       Size\n"
     ]
    },
    {
     "name": "stderr",
     "output_type": "stream",
     "text": [
      "      5/100       4.5G     0.5045     0.3461      1.012         38        320: 100%|██████████| 300/300 [00:35<00:00,  8.49it/s]\n",
      "                 Class     Images  Instances      Box(P          R      mAP50  mAP50-95): 100%|██████████| 150/150 [00:12<00:00, 12.36it/s]"
     ]
    },
    {
     "name": "stdout",
     "output_type": "stream",
     "text": [
      "                   all       2400       4800      0.896      0.583      0.898      0.667\n"
     ]
    },
    {
     "name": "stderr",
     "output_type": "stream",
     "text": [
      "\n"
     ]
    },
    {
     "name": "stdout",
     "output_type": "stream",
     "text": [
      "\n",
      "      Epoch    GPU_mem   box_loss   cls_loss   dfl_loss  Instances       Size\n"
     ]
    },
    {
     "name": "stderr",
     "output_type": "stream",
     "text": [
      "      6/100      4.83G      0.433     0.3052     0.9795         37        320: 100%|██████████| 300/300 [00:34<00:00,  8.76it/s]\n",
      "                 Class     Images  Instances      Box(P          R      mAP50  mAP50-95): 100%|██████████| 150/150 [00:11<00:00, 12.73it/s]"
     ]
    },
    {
     "name": "stdout",
     "output_type": "stream",
     "text": [
      "                   all       2400       4800          1          1      0.995       0.99\n"
     ]
    },
    {
     "name": "stderr",
     "output_type": "stream",
     "text": [
      "\n"
     ]
    },
    {
     "name": "stdout",
     "output_type": "stream",
     "text": [
      "\n",
      "      Epoch    GPU_mem   box_loss   cls_loss   dfl_loss  Instances       Size\n"
     ]
    },
    {
     "name": "stderr",
     "output_type": "stream",
     "text": [
      "      7/100      5.15G     0.4135     0.2894     0.9644         36        320: 100%|██████████| 300/300 [00:35<00:00,  8.39it/s]\n",
      "                 Class     Images  Instances      Box(P          R      mAP50  mAP50-95): 100%|██████████| 150/150 [00:12<00:00, 12.15it/s]"
     ]
    },
    {
     "name": "stdout",
     "output_type": "stream",
     "text": [
      "                   all       2400       4800          1          1      0.995      0.989\n"
     ]
    },
    {
     "name": "stderr",
     "output_type": "stream",
     "text": [
      "\n"
     ]
    },
    {
     "name": "stdout",
     "output_type": "stream",
     "text": [
      "\n",
      "      Epoch    GPU_mem   box_loss   cls_loss   dfl_loss  Instances       Size\n"
     ]
    },
    {
     "name": "stderr",
     "output_type": "stream",
     "text": [
      "      8/100      5.49G     0.3921     0.2702      0.953         35        320: 100%|██████████| 300/300 [00:35<00:00,  8.45it/s]\n",
      "                 Class     Images  Instances      Box(P          R      mAP50  mAP50-95): 100%|██████████| 150/150 [00:12<00:00, 11.76it/s]"
     ]
    },
    {
     "name": "stdout",
     "output_type": "stream",
     "text": [
      "                   all       2400       4800          1          1      0.995      0.988\n"
     ]
    },
    {
     "name": "stderr",
     "output_type": "stream",
     "text": [
      "\n"
     ]
    },
    {
     "name": "stdout",
     "output_type": "stream",
     "text": [
      "\n",
      "      Epoch    GPU_mem   box_loss   cls_loss   dfl_loss  Instances       Size\n"
     ]
    },
    {
     "name": "stderr",
     "output_type": "stream",
     "text": [
      "      9/100      5.83G      0.385     0.2741      0.955         37        320: 100%|██████████| 300/300 [00:36<00:00,  8.24it/s]\n",
      "                 Class     Images  Instances      Box(P          R      mAP50  mAP50-95): 100%|██████████| 150/150 [00:13<00:00, 10.94it/s]"
     ]
    },
    {
     "name": "stdout",
     "output_type": "stream",
     "text": [
      "                   all       2400       4800          1          1      0.995      0.992\n"
     ]
    },
    {
     "name": "stderr",
     "output_type": "stream",
     "text": [
      "\n"
     ]
    },
    {
     "name": "stdout",
     "output_type": "stream",
     "text": [
      "\n",
      "      Epoch    GPU_mem   box_loss   cls_loss   dfl_loss  Instances       Size\n"
     ]
    },
    {
     "name": "stderr",
     "output_type": "stream",
     "text": [
      "     10/100      6.14G     0.3575     0.2557     0.9387         42        320: 100%|██████████| 300/300 [00:35<00:00,  8.54it/s]\n",
      "                 Class     Images  Instances      Box(P          R      mAP50  mAP50-95): 100%|██████████| 150/150 [00:13<00:00, 11.41it/s]"
     ]
    },
    {
     "name": "stdout",
     "output_type": "stream",
     "text": [
      "                   all       2400       4800          1          1      0.995      0.994\n"
     ]
    },
    {
     "name": "stderr",
     "output_type": "stream",
     "text": [
      "\n"
     ]
    },
    {
     "name": "stdout",
     "output_type": "stream",
     "text": [
      "\n",
      "      Epoch    GPU_mem   box_loss   cls_loss   dfl_loss  Instances       Size\n"
     ]
    },
    {
     "name": "stderr",
     "output_type": "stream",
     "text": [
      "     11/100      6.48G     0.3479     0.2459     0.9303         42        320: 100%|██████████| 300/300 [00:37<00:00,  8.08it/s]\n",
      "                 Class     Images  Instances      Box(P          R      mAP50  mAP50-95): 100%|██████████| 150/150 [00:12<00:00, 12.00it/s]"
     ]
    },
    {
     "name": "stdout",
     "output_type": "stream",
     "text": [
      "                   all       2400       4800       0.74       0.79      0.812      0.434\n"
     ]
    },
    {
     "name": "stderr",
     "output_type": "stream",
     "text": [
      "\n"
     ]
    },
    {
     "name": "stdout",
     "output_type": "stream",
     "text": [
      "\n",
      "      Epoch    GPU_mem   box_loss   cls_loss   dfl_loss  Instances       Size\n"
     ]
    },
    {
     "name": "stderr",
     "output_type": "stream",
     "text": [
      "     12/100       6.8G     0.3467     0.2473     0.9407         44        320: 100%|██████████| 300/300 [00:36<00:00,  8.23it/s]\n",
      "                 Class     Images  Instances      Box(P          R      mAP50  mAP50-95): 100%|██████████| 150/150 [00:13<00:00, 11.10it/s]"
     ]
    },
    {
     "name": "stdout",
     "output_type": "stream",
     "text": [
      "                   all       2400       4800          1          1      0.995      0.988\n"
     ]
    },
    {
     "name": "stderr",
     "output_type": "stream",
     "text": [
      "\n"
     ]
    },
    {
     "name": "stdout",
     "output_type": "stream",
     "text": [
      "\n",
      "      Epoch    GPU_mem   box_loss   cls_loss   dfl_loss  Instances       Size\n"
     ]
    },
    {
     "name": "stderr",
     "output_type": "stream",
     "text": [
      "     13/100      7.14G     0.3455     0.2434     0.9325         41        320: 100%|██████████| 300/300 [00:35<00:00,  8.38it/s]\n",
      "                 Class     Images  Instances      Box(P          R      mAP50  mAP50-95): 100%|██████████| 150/150 [00:12<00:00, 11.58it/s]"
     ]
    },
    {
     "name": "stdout",
     "output_type": "stream",
     "text": [
      "                   all       2400       4800          1          1      0.995      0.988\n"
     ]
    },
    {
     "name": "stderr",
     "output_type": "stream",
     "text": [
      "\n"
     ]
    },
    {
     "name": "stdout",
     "output_type": "stream",
     "text": [
      "\n",
      "      Epoch    GPU_mem   box_loss   cls_loss   dfl_loss  Instances       Size\n"
     ]
    },
    {
     "name": "stderr",
     "output_type": "stream",
     "text": [
      "     14/100      7.46G     0.3283     0.2335      0.925         39        320: 100%|██████████| 300/300 [00:36<00:00,  8.18it/s]\n",
      "                 Class     Images  Instances      Box(P          R      mAP50  mAP50-95): 100%|██████████| 150/150 [00:13<00:00, 11.45it/s]"
     ]
    },
    {
     "name": "stdout",
     "output_type": "stream",
     "text": [
      "                   all       2400       4800      0.998      0.998      0.995      0.985\n"
     ]
    },
    {
     "name": "stderr",
     "output_type": "stream",
     "text": [
      "\n"
     ]
    },
    {
     "name": "stdout",
     "output_type": "stream",
     "text": [
      "\n",
      "      Epoch    GPU_mem   box_loss   cls_loss   dfl_loss  Instances       Size\n"
     ]
    },
    {
     "name": "stderr",
     "output_type": "stream",
     "text": [
      "     15/100      7.79G     0.3304      0.235     0.9299         40        320: 100%|██████████| 300/300 [00:37<00:00,  8.04it/s]\n",
      "                 Class     Images  Instances      Box(P          R      mAP50  mAP50-95): 100%|██████████| 150/150 [00:13<00:00, 11.06it/s]"
     ]
    },
    {
     "name": "stdout",
     "output_type": "stream",
     "text": [
      "                   all       2400       4800          1          1      0.995      0.991\n"
     ]
    },
    {
     "name": "stderr",
     "output_type": "stream",
     "text": [
      "\n"
     ]
    },
    {
     "name": "stdout",
     "output_type": "stream",
     "text": [
      "\n",
      "      Epoch    GPU_mem   box_loss   cls_loss   dfl_loss  Instances       Size\n"
     ]
    },
    {
     "name": "stderr",
     "output_type": "stream",
     "text": [
      "     16/100      8.12G     0.3187     0.2244     0.9227         44        320: 100%|██████████| 300/300 [00:36<00:00,  8.17it/s]\n",
      "                 Class     Images  Instances      Box(P          R      mAP50  mAP50-95): 100%|██████████| 150/150 [00:13<00:00, 11.14it/s]"
     ]
    },
    {
     "name": "stdout",
     "output_type": "stream",
     "text": [
      "                   all       2400       4800          1          1      0.995      0.993\n"
     ]
    },
    {
     "name": "stderr",
     "output_type": "stream",
     "text": [
      "\n"
     ]
    },
    {
     "name": "stdout",
     "output_type": "stream",
     "text": [
      "\n",
      "      Epoch    GPU_mem   box_loss   cls_loss   dfl_loss  Instances       Size\n"
     ]
    },
    {
     "name": "stderr",
     "output_type": "stream",
     "text": [
      "     17/100      3.62G     0.3065     0.2181      0.914         35        320: 100%|██████████| 300/300 [00:34<00:00,  8.81it/s]\n",
      "                 Class     Images  Instances      Box(P          R      mAP50  mAP50-95): 100%|██████████| 150/150 [00:12<00:00, 12.31it/s]"
     ]
    },
    {
     "name": "stdout",
     "output_type": "stream",
     "text": [
      "                   all       2400       4800          1          1      0.995      0.994\n"
     ]
    },
    {
     "name": "stderr",
     "output_type": "stream",
     "text": [
      "\n"
     ]
    },
    {
     "name": "stdout",
     "output_type": "stream",
     "text": [
      "\n",
      "      Epoch    GPU_mem   box_loss   cls_loss   dfl_loss  Instances       Size\n"
     ]
    },
    {
     "name": "stderr",
     "output_type": "stream",
     "text": [
      "     18/100      3.82G     0.3041     0.2177     0.9123         37        320: 100%|██████████| 300/300 [00:34<00:00,  8.64it/s]\n",
      "                 Class     Images  Instances      Box(P          R      mAP50  mAP50-95): 100%|██████████| 150/150 [00:11<00:00, 12.83it/s]"
     ]
    },
    {
     "name": "stdout",
     "output_type": "stream",
     "text": [
      "                   all       2400       4800          1          1      0.995      0.993\n"
     ]
    },
    {
     "name": "stderr",
     "output_type": "stream",
     "text": [
      "\n"
     ]
    },
    {
     "name": "stdout",
     "output_type": "stream",
     "text": [
      "\n",
      "      Epoch    GPU_mem   box_loss   cls_loss   dfl_loss  Instances       Size\n"
     ]
    },
    {
     "name": "stderr",
     "output_type": "stream",
     "text": [
      "     19/100      3.91G     0.2979      0.212      0.911         39        320: 100%|██████████| 300/300 [00:33<00:00,  8.93it/s]\n",
      "                 Class     Images  Instances      Box(P          R      mAP50  mAP50-95): 100%|██████████| 150/150 [00:12<00:00, 12.40it/s]"
     ]
    },
    {
     "name": "stdout",
     "output_type": "stream",
     "text": [
      "                   all       2400       4800          1          1      0.995      0.992\n"
     ]
    },
    {
     "name": "stderr",
     "output_type": "stream",
     "text": [
      "\n"
     ]
    },
    {
     "name": "stdout",
     "output_type": "stream",
     "text": [
      "\n",
      "      Epoch    GPU_mem   box_loss   cls_loss   dfl_loss  Instances       Size\n"
     ]
    },
    {
     "name": "stderr",
     "output_type": "stream",
     "text": [
      "     20/100      4.09G     0.2838     0.2053     0.9028         44        320: 100%|██████████| 300/300 [00:35<00:00,  8.56it/s]\n",
      "                 Class     Images  Instances      Box(P          R      mAP50  mAP50-95): 100%|██████████| 150/150 [00:14<00:00, 10.66it/s]\n"
     ]
    },
    {
     "name": "stdout",
     "output_type": "stream",
     "text": [
      "                   all       2400       4800          1          1      0.995      0.992\n",
      "\n",
      "      Epoch    GPU_mem   box_loss   cls_loss   dfl_loss  Instances       Size\n"
     ]
    },
    {
     "name": "stderr",
     "output_type": "stream",
     "text": [
      "     21/100       4.3G     0.2833     0.2031     0.9052         40        320: 100%|██████████| 300/300 [00:36<00:00,  8.27it/s]\n",
      "                 Class     Images  Instances      Box(P          R      mAP50  mAP50-95): 100%|██████████| 150/150 [00:12<00:00, 12.21it/s]"
     ]
    },
    {
     "name": "stdout",
     "output_type": "stream",
     "text": [
      "                   all       2400       4800          1          1      0.995      0.993\n"
     ]
    },
    {
     "name": "stderr",
     "output_type": "stream",
     "text": [
      "\n"
     ]
    },
    {
     "name": "stdout",
     "output_type": "stream",
     "text": [
      "\n",
      "      Epoch    GPU_mem   box_loss   cls_loss   dfl_loss  Instances       Size\n"
     ]
    },
    {
     "name": "stderr",
     "output_type": "stream",
     "text": [
      "     22/100      4.62G     0.2848     0.2049     0.9023         40        320: 100%|██████████| 300/300 [00:34<00:00,  8.62it/s]\n",
      "                 Class     Images  Instances      Box(P          R      mAP50  mAP50-95): 100%|██████████| 150/150 [00:11<00:00, 12.52it/s]"
     ]
    },
    {
     "name": "stdout",
     "output_type": "stream",
     "text": [
      "                   all       2400       4800          1          1      0.995      0.993\n"
     ]
    },
    {
     "name": "stderr",
     "output_type": "stream",
     "text": [
      "\n"
     ]
    },
    {
     "name": "stdout",
     "output_type": "stream",
     "text": [
      "\n",
      "      Epoch    GPU_mem   box_loss   cls_loss   dfl_loss  Instances       Size\n"
     ]
    },
    {
     "name": "stderr",
     "output_type": "stream",
     "text": [
      "     23/100      4.93G     0.2822     0.2011     0.9038         33        320: 100%|██████████| 300/300 [00:37<00:00,  7.93it/s]\n",
      "                 Class     Images  Instances      Box(P          R      mAP50  mAP50-95): 100%|██████████| 150/150 [00:13<00:00, 10.90it/s]"
     ]
    },
    {
     "name": "stdout",
     "output_type": "stream",
     "text": [
      "                   all       2400       4800          1          1      0.995      0.991\n"
     ]
    },
    {
     "name": "stderr",
     "output_type": "stream",
     "text": [
      "\n"
     ]
    },
    {
     "name": "stdout",
     "output_type": "stream",
     "text": [
      "\n",
      "      Epoch    GPU_mem   box_loss   cls_loss   dfl_loss  Instances       Size\n"
     ]
    },
    {
     "name": "stderr",
     "output_type": "stream",
     "text": [
      "     24/100      5.27G     0.2751     0.2001     0.9065         44        320: 100%|██████████| 300/300 [00:35<00:00,  8.54it/s]\n",
      "                 Class     Images  Instances      Box(P          R      mAP50  mAP50-95): 100%|██████████| 150/150 [00:12<00:00, 11.76it/s]"
     ]
    },
    {
     "name": "stdout",
     "output_type": "stream",
     "text": [
      "                   all       2400       4800          1          1      0.995       0.99\n"
     ]
    },
    {
     "name": "stderr",
     "output_type": "stream",
     "text": [
      "\n"
     ]
    },
    {
     "name": "stdout",
     "output_type": "stream",
     "text": [
      "\n",
      "      Epoch    GPU_mem   box_loss   cls_loss   dfl_loss  Instances       Size\n"
     ]
    },
    {
     "name": "stderr",
     "output_type": "stream",
     "text": [
      "     25/100      5.61G     0.2703     0.1967      0.904         38        320: 100%|██████████| 300/300 [00:36<00:00,  8.23it/s]\n",
      "                 Class     Images  Instances      Box(P          R      mAP50  mAP50-95): 100%|██████████| 150/150 [00:12<00:00, 12.03it/s]"
     ]
    },
    {
     "name": "stdout",
     "output_type": "stream",
     "text": [
      "                   all       2400       4800          1          1      0.995      0.988\n"
     ]
    },
    {
     "name": "stderr",
     "output_type": "stream",
     "text": [
      "\n"
     ]
    },
    {
     "name": "stdout",
     "output_type": "stream",
     "text": [
      "\n",
      "      Epoch    GPU_mem   box_loss   cls_loss   dfl_loss  Instances       Size\n"
     ]
    },
    {
     "name": "stderr",
     "output_type": "stream",
     "text": [
      "     26/100      5.92G      0.267     0.1904     0.9016         43        320: 100%|██████████| 300/300 [00:36<00:00,  8.32it/s]\n",
      "                 Class     Images  Instances      Box(P          R      mAP50  mAP50-95): 100%|██████████| 150/150 [00:12<00:00, 12.08it/s]"
     ]
    },
    {
     "name": "stdout",
     "output_type": "stream",
     "text": [
      "                   all       2400       4800          1          1      0.995      0.992\n"
     ]
    },
    {
     "name": "stderr",
     "output_type": "stream",
     "text": [
      "\n"
     ]
    },
    {
     "name": "stdout",
     "output_type": "stream",
     "text": [
      "\n",
      "      Epoch    GPU_mem   box_loss   cls_loss   dfl_loss  Instances       Size\n"
     ]
    },
    {
     "name": "stderr",
     "output_type": "stream",
     "text": [
      "     27/100      6.26G     0.2637     0.1925     0.8988         34        320: 100%|██████████| 300/300 [00:36<00:00,  8.28it/s]\n",
      "                 Class     Images  Instances      Box(P          R      mAP50  mAP50-95): 100%|██████████| 150/150 [00:12<00:00, 11.65it/s]"
     ]
    },
    {
     "name": "stdout",
     "output_type": "stream",
     "text": [
      "                   all       2400       4800          1          1      0.995      0.995\n"
     ]
    },
    {
     "name": "stderr",
     "output_type": "stream",
     "text": [
      "\n"
     ]
    },
    {
     "name": "stdout",
     "output_type": "stream",
     "text": [
      "\n",
      "      Epoch    GPU_mem   box_loss   cls_loss   dfl_loss  Instances       Size\n"
     ]
    },
    {
     "name": "stderr",
     "output_type": "stream",
     "text": [
      "     28/100       6.6G      0.269     0.1957     0.8997         43        320: 100%|██████████| 300/300 [00:36<00:00,  8.23it/s]\n",
      "                 Class     Images  Instances      Box(P          R      mAP50  mAP50-95): 100%|██████████| 150/150 [00:12<00:00, 11.68it/s]"
     ]
    },
    {
     "name": "stdout",
     "output_type": "stream",
     "text": [
      "                   all       2400       4800          1          1      0.995      0.993\n"
     ]
    },
    {
     "name": "stderr",
     "output_type": "stream",
     "text": [
      "\n"
     ]
    },
    {
     "name": "stdout",
     "output_type": "stream",
     "text": [
      "\n",
      "      Epoch    GPU_mem   box_loss   cls_loss   dfl_loss  Instances       Size\n"
     ]
    },
    {
     "name": "stderr",
     "output_type": "stream",
     "text": [
      "     29/100      6.91G     0.2724     0.1954     0.9033         36        320: 100%|██████████| 300/300 [00:36<00:00,  8.30it/s]\n",
      "                 Class     Images  Instances      Box(P          R      mAP50  mAP50-95): 100%|██████████| 150/150 [00:12<00:00, 11.75it/s]"
     ]
    },
    {
     "name": "stdout",
     "output_type": "stream",
     "text": [
      "                   all       2400       4800          1          1      0.995      0.988\n"
     ]
    },
    {
     "name": "stderr",
     "output_type": "stream",
     "text": [
      "\n"
     ]
    },
    {
     "name": "stdout",
     "output_type": "stream",
     "text": [
      "\n",
      "      Epoch    GPU_mem   box_loss   cls_loss   dfl_loss  Instances       Size\n"
     ]
    },
    {
     "name": "stderr",
     "output_type": "stream",
     "text": [
      "     30/100      7.25G     0.2694     0.1932     0.8996         45        320: 100%|██████████| 300/300 [00:38<00:00,  7.89it/s]\n",
      "                 Class     Images  Instances      Box(P          R      mAP50  mAP50-95): 100%|██████████| 150/150 [00:14<00:00, 10.64it/s]"
     ]
    },
    {
     "name": "stdout",
     "output_type": "stream",
     "text": [
      "                   all       2400       4800          1          1      0.995      0.993\n"
     ]
    },
    {
     "name": "stderr",
     "output_type": "stream",
     "text": [
      "\n"
     ]
    },
    {
     "name": "stdout",
     "output_type": "stream",
     "text": [
      "\n",
      "      Epoch    GPU_mem   box_loss   cls_loss   dfl_loss  Instances       Size\n"
     ]
    },
    {
     "name": "stderr",
     "output_type": "stream",
     "text": [
      "     31/100      7.58G     0.2515     0.1839     0.8895         46        320: 100%|██████████| 300/300 [00:35<00:00,  8.37it/s]\n",
      "                 Class     Images  Instances      Box(P          R      mAP50  mAP50-95): 100%|██████████| 150/150 [00:12<00:00, 11.65it/s]"
     ]
    },
    {
     "name": "stdout",
     "output_type": "stream",
     "text": [
      "                   all       2400       4800          1          1      0.995      0.992\n"
     ]
    },
    {
     "name": "stderr",
     "output_type": "stream",
     "text": [
      "\n"
     ]
    },
    {
     "name": "stdout",
     "output_type": "stream",
     "text": [
      "\n",
      "      Epoch    GPU_mem   box_loss   cls_loss   dfl_loss  Instances       Size\n"
     ]
    },
    {
     "name": "stderr",
     "output_type": "stream",
     "text": [
      "     32/100      7.92G     0.2544     0.1836     0.8958         36        320: 100%|██████████| 300/300 [00:35<00:00,  8.34it/s]\n",
      "                 Class     Images  Instances      Box(P          R      mAP50  mAP50-95): 100%|██████████| 150/150 [00:12<00:00, 11.85it/s]"
     ]
    },
    {
     "name": "stdout",
     "output_type": "stream",
     "text": [
      "                   all       2400       4800          1          1      0.995      0.993\n"
     ]
    },
    {
     "name": "stderr",
     "output_type": "stream",
     "text": [
      "\n"
     ]
    },
    {
     "name": "stdout",
     "output_type": "stream",
     "text": [
      "\n",
      "      Epoch    GPU_mem   box_loss   cls_loss   dfl_loss  Instances       Size\n"
     ]
    },
    {
     "name": "stderr",
     "output_type": "stream",
     "text": [
      "     33/100      3.79G     0.2552     0.1882      0.899         41        320: 100%|██████████| 300/300 [00:34<00:00,  8.78it/s]\n",
      "                 Class     Images  Instances      Box(P          R      mAP50  mAP50-95): 100%|██████████| 150/150 [00:12<00:00, 12.49it/s]"
     ]
    },
    {
     "name": "stdout",
     "output_type": "stream",
     "text": [
      "                   all       2400       4800          1          1      0.995      0.994\n"
     ]
    },
    {
     "name": "stderr",
     "output_type": "stream",
     "text": [
      "\n"
     ]
    },
    {
     "name": "stdout",
     "output_type": "stream",
     "text": [
      "\n",
      "      Epoch    GPU_mem   box_loss   cls_loss   dfl_loss  Instances       Size\n"
     ]
    },
    {
     "name": "stderr",
     "output_type": "stream",
     "text": [
      "     34/100       3.9G     0.2469     0.1809     0.8961         40        320: 100%|██████████| 300/300 [00:33<00:00,  8.92it/s]\n",
      "                 Class     Images  Instances      Box(P          R      mAP50  mAP50-95): 100%|██████████| 150/150 [00:11<00:00, 12.68it/s]"
     ]
    },
    {
     "name": "stdout",
     "output_type": "stream",
     "text": [
      "                   all       2400       4800          1          1      0.995       0.99\n"
     ]
    },
    {
     "name": "stderr",
     "output_type": "stream",
     "text": [
      "\n"
     ]
    },
    {
     "name": "stdout",
     "output_type": "stream",
     "text": [
      "\n",
      "      Epoch    GPU_mem   box_loss   cls_loss   dfl_loss  Instances       Size\n"
     ]
    },
    {
     "name": "stderr",
     "output_type": "stream",
     "text": [
      "     35/100      3.93G     0.2536     0.1857     0.8979         34        320: 100%|██████████| 300/300 [00:35<00:00,  8.45it/s]\n",
      "                 Class     Images  Instances      Box(P          R      mAP50  mAP50-95): 100%|██████████| 150/150 [00:11<00:00, 12.84it/s]"
     ]
    },
    {
     "name": "stdout",
     "output_type": "stream",
     "text": [
      "                   all       2400       4800          1          1      0.995      0.995\n"
     ]
    },
    {
     "name": "stderr",
     "output_type": "stream",
     "text": [
      "\n"
     ]
    },
    {
     "name": "stdout",
     "output_type": "stream",
     "text": [
      "\n",
      "      Epoch    GPU_mem   box_loss   cls_loss   dfl_loss  Instances       Size\n"
     ]
    },
    {
     "name": "stderr",
     "output_type": "stream",
     "text": [
      "     36/100      4.14G     0.2478      0.182     0.8935         41        320: 100%|██████████| 300/300 [00:35<00:00,  8.39it/s]\n",
      "                 Class     Images  Instances      Box(P          R      mAP50  mAP50-95): 100%|██████████| 150/150 [00:12<00:00, 11.57it/s]"
     ]
    },
    {
     "name": "stdout",
     "output_type": "stream",
     "text": [
      "                   all       2400       4800          1          1      0.995      0.994\n"
     ]
    },
    {
     "name": "stderr",
     "output_type": "stream",
     "text": [
      "\n"
     ]
    },
    {
     "name": "stdout",
     "output_type": "stream",
     "text": [
      "\n",
      "      Epoch    GPU_mem   box_loss   cls_loss   dfl_loss  Instances       Size\n"
     ]
    },
    {
     "name": "stderr",
     "output_type": "stream",
     "text": [
      "     37/100      4.32G      0.244     0.1759     0.8889         38        320: 100%|██████████| 300/300 [00:33<00:00,  8.99it/s]\n",
      "                 Class     Images  Instances      Box(P          R      mAP50  mAP50-95): 100%|██████████| 150/150 [00:12<00:00, 12.44it/s]"
     ]
    },
    {
     "name": "stdout",
     "output_type": "stream",
     "text": [
      "                   all       2400       4800          1          1      0.995      0.995\n"
     ]
    },
    {
     "name": "stderr",
     "output_type": "stream",
     "text": [
      "\n"
     ]
    },
    {
     "name": "stdout",
     "output_type": "stream",
     "text": [
      "\n",
      "      Epoch    GPU_mem   box_loss   cls_loss   dfl_loss  Instances       Size\n"
     ]
    },
    {
     "name": "stderr",
     "output_type": "stream",
     "text": [
      "     38/100      4.61G      0.232     0.1698     0.8848         43        320: 100%|██████████| 300/300 [00:35<00:00,  8.36it/s]\n",
      "                 Class     Images  Instances      Box(P          R      mAP50  mAP50-95): 100%|██████████| 150/150 [00:12<00:00, 12.27it/s]"
     ]
    },
    {
     "name": "stdout",
     "output_type": "stream",
     "text": [
      "                   all       2400       4800          1          1      0.995      0.994\n"
     ]
    },
    {
     "name": "stderr",
     "output_type": "stream",
     "text": [
      "\n"
     ]
    },
    {
     "name": "stdout",
     "output_type": "stream",
     "text": [
      "\n",
      "      Epoch    GPU_mem   box_loss   cls_loss   dfl_loss  Instances       Size\n"
     ]
    },
    {
     "name": "stderr",
     "output_type": "stream",
     "text": [
      "     39/100      4.93G     0.2333     0.1689     0.8852         44        320: 100%|██████████| 300/300 [00:34<00:00,  8.69it/s]\n",
      "                 Class     Images  Instances      Box(P          R      mAP50  mAP50-95): 100%|██████████| 150/150 [00:12<00:00, 12.35it/s]"
     ]
    },
    {
     "name": "stdout",
     "output_type": "stream",
     "text": [
      "                   all       2400       4800          1          1      0.995      0.992\n"
     ]
    },
    {
     "name": "stderr",
     "output_type": "stream",
     "text": [
      "\n"
     ]
    },
    {
     "name": "stdout",
     "output_type": "stream",
     "text": [
      "\n",
      "      Epoch    GPU_mem   box_loss   cls_loss   dfl_loss  Instances       Size\n"
     ]
    },
    {
     "name": "stderr",
     "output_type": "stream",
     "text": [
      "     40/100      5.27G      0.235      0.168     0.8867         29        320: 100%|██████████| 300/300 [00:35<00:00,  8.45it/s]\n",
      "                 Class     Images  Instances      Box(P          R      mAP50  mAP50-95): 100%|██████████| 150/150 [00:12<00:00, 11.97it/s]"
     ]
    },
    {
     "name": "stdout",
     "output_type": "stream",
     "text": [
      "                   all       2400       4800          1          1      0.995      0.994\n"
     ]
    },
    {
     "name": "stderr",
     "output_type": "stream",
     "text": [
      "\n"
     ]
    },
    {
     "name": "stdout",
     "output_type": "stream",
     "text": [
      "\n",
      "      Epoch    GPU_mem   box_loss   cls_loss   dfl_loss  Instances       Size\n"
     ]
    },
    {
     "name": "stderr",
     "output_type": "stream",
     "text": [
      "     41/100       5.6G     0.2278     0.1703     0.8895         40        320: 100%|██████████| 300/300 [00:38<00:00,  7.80it/s]\n",
      "                 Class     Images  Instances      Box(P          R      mAP50  mAP50-95): 100%|██████████| 150/150 [00:12<00:00, 12.09it/s]"
     ]
    },
    {
     "name": "stdout",
     "output_type": "stream",
     "text": [
      "                   all       2400       4800          1          1      0.995      0.995\n"
     ]
    },
    {
     "name": "stderr",
     "output_type": "stream",
     "text": [
      "\n"
     ]
    },
    {
     "name": "stdout",
     "output_type": "stream",
     "text": [
      "\n",
      "      Epoch    GPU_mem   box_loss   cls_loss   dfl_loss  Instances       Size\n"
     ]
    },
    {
     "name": "stderr",
     "output_type": "stream",
     "text": [
      "     42/100      5.94G     0.2332     0.1708     0.8878         44        320: 100%|██████████| 300/300 [00:34<00:00,  8.58it/s]\n",
      "                 Class     Images  Instances      Box(P          R      mAP50  mAP50-95): 100%|██████████| 150/150 [00:13<00:00, 11.18it/s]"
     ]
    },
    {
     "name": "stdout",
     "output_type": "stream",
     "text": [
      "                   all       2400       4800          1          1      0.995      0.995\n"
     ]
    },
    {
     "name": "stderr",
     "output_type": "stream",
     "text": [
      "\n"
     ]
    },
    {
     "name": "stdout",
     "output_type": "stream",
     "text": [
      "\n",
      "      Epoch    GPU_mem   box_loss   cls_loss   dfl_loss  Instances       Size\n"
     ]
    },
    {
     "name": "stderr",
     "output_type": "stream",
     "text": [
      "     43/100      6.26G     0.2247      0.166     0.8895         35        320: 100%|██████████| 300/300 [00:37<00:00,  8.01it/s]\n",
      "                 Class     Images  Instances      Box(P          R      mAP50  mAP50-95): 100%|██████████| 150/150 [00:12<00:00, 12.14it/s]"
     ]
    },
    {
     "name": "stdout",
     "output_type": "stream",
     "text": [
      "                   all       2400       4800          1          1      0.995      0.995\n"
     ]
    },
    {
     "name": "stderr",
     "output_type": "stream",
     "text": [
      "\n"
     ]
    },
    {
     "name": "stdout",
     "output_type": "stream",
     "text": [
      "\n",
      "      Epoch    GPU_mem   box_loss   cls_loss   dfl_loss  Instances       Size\n"
     ]
    },
    {
     "name": "stderr",
     "output_type": "stream",
     "text": [
      "     44/100       6.6G     0.2229      0.167     0.8887         37        320: 100%|██████████| 300/300 [00:35<00:00,  8.50it/s]\n",
      "                 Class     Images  Instances      Box(P          R      mAP50  mAP50-95): 100%|██████████| 150/150 [00:12<00:00, 11.70it/s]"
     ]
    },
    {
     "name": "stdout",
     "output_type": "stream",
     "text": [
      "                   all       2400       4800          1          1      0.995      0.994\n"
     ]
    },
    {
     "name": "stderr",
     "output_type": "stream",
     "text": [
      "\n"
     ]
    },
    {
     "name": "stdout",
     "output_type": "stream",
     "text": [
      "\n",
      "      Epoch    GPU_mem   box_loss   cls_loss   dfl_loss  Instances       Size\n"
     ]
    },
    {
     "name": "stderr",
     "output_type": "stream",
     "text": [
      "     45/100      6.91G     0.2251     0.1642      0.887         47        320: 100%|██████████| 300/300 [00:38<00:00,  7.88it/s]\n",
      "                 Class     Images  Instances      Box(P          R      mAP50  mAP50-95): 100%|██████████| 150/150 [00:12<00:00, 11.75it/s]"
     ]
    },
    {
     "name": "stdout",
     "output_type": "stream",
     "text": [
      "                   all       2400       4800          1          1      0.995      0.994\n"
     ]
    },
    {
     "name": "stderr",
     "output_type": "stream",
     "text": [
      "\n"
     ]
    },
    {
     "name": "stdout",
     "output_type": "stream",
     "text": [
      "\n",
      "      Epoch    GPU_mem   box_loss   cls_loss   dfl_loss  Instances       Size\n"
     ]
    },
    {
     "name": "stderr",
     "output_type": "stream",
     "text": [
      "     46/100      7.25G     0.2273     0.1619      0.888         46        320: 100%|██████████| 300/300 [00:36<00:00,  8.30it/s]\n",
      "                 Class     Images  Instances      Box(P          R      mAP50  mAP50-95): 100%|██████████| 150/150 [00:12<00:00, 12.30it/s]"
     ]
    },
    {
     "name": "stdout",
     "output_type": "stream",
     "text": [
      "                   all       2400       4800          1          1      0.995      0.995\n"
     ]
    },
    {
     "name": "stderr",
     "output_type": "stream",
     "text": [
      "\n"
     ]
    },
    {
     "name": "stdout",
     "output_type": "stream",
     "text": [
      "\n",
      "      Epoch    GPU_mem   box_loss   cls_loss   dfl_loss  Instances       Size\n"
     ]
    },
    {
     "name": "stderr",
     "output_type": "stream",
     "text": [
      "     47/100      7.57G     0.2165     0.1563     0.8839         39        320: 100%|██████████| 300/300 [00:38<00:00,  7.82it/s]\n",
      "                 Class     Images  Instances      Box(P          R      mAP50  mAP50-95): 100%|██████████| 150/150 [00:12<00:00, 12.25it/s]"
     ]
    },
    {
     "name": "stdout",
     "output_type": "stream",
     "text": [
      "                   all       2400       4800          1          1      0.995      0.995\n"
     ]
    },
    {
     "name": "stderr",
     "output_type": "stream",
     "text": [
      "\n"
     ]
    },
    {
     "name": "stdout",
     "output_type": "stream",
     "text": [
      "\n",
      "      Epoch    GPU_mem   box_loss   cls_loss   dfl_loss  Instances       Size\n"
     ]
    },
    {
     "name": "stderr",
     "output_type": "stream",
     "text": [
      "     48/100       7.9G     0.2148     0.1615     0.8843         44        320: 100%|██████████| 300/300 [00:38<00:00,  7.79it/s]\n",
      "                 Class     Images  Instances      Box(P          R      mAP50  mAP50-95): 100%|██████████| 150/150 [00:12<00:00, 11.74it/s]"
     ]
    },
    {
     "name": "stdout",
     "output_type": "stream",
     "text": [
      "                   all       2400       4800          1          1      0.995      0.995\n"
     ]
    },
    {
     "name": "stderr",
     "output_type": "stream",
     "text": [
      "\n"
     ]
    },
    {
     "name": "stdout",
     "output_type": "stream",
     "text": [
      "\n",
      "      Epoch    GPU_mem   box_loss   cls_loss   dfl_loss  Instances       Size\n"
     ]
    },
    {
     "name": "stderr",
     "output_type": "stream",
     "text": [
      "     49/100      8.24G     0.2104     0.1624     0.8807         41        320: 100%|██████████| 300/300 [00:35<00:00,  8.35it/s]\n",
      "                 Class     Images  Instances      Box(P          R      mAP50  mAP50-95): 100%|██████████| 150/150 [00:12<00:00, 11.77it/s]"
     ]
    },
    {
     "name": "stdout",
     "output_type": "stream",
     "text": [
      "                   all       2400       4800          1          1      0.995      0.995\n"
     ]
    },
    {
     "name": "stderr",
     "output_type": "stream",
     "text": [
      "\n"
     ]
    },
    {
     "name": "stdout",
     "output_type": "stream",
     "text": [
      "\n",
      "      Epoch    GPU_mem   box_loss   cls_loss   dfl_loss  Instances       Size\n"
     ]
    },
    {
     "name": "stderr",
     "output_type": "stream",
     "text": [
      "     50/100      3.73G     0.2143     0.1622     0.8867         46        320: 100%|██████████| 300/300 [00:37<00:00,  8.07it/s]\n",
      "                 Class     Images  Instances      Box(P          R      mAP50  mAP50-95): 100%|██████████| 150/150 [00:12<00:00, 12.20it/s]"
     ]
    },
    {
     "name": "stdout",
     "output_type": "stream",
     "text": [
      "                   all       2400       4800          1          1      0.995      0.995\n"
     ]
    },
    {
     "name": "stderr",
     "output_type": "stream",
     "text": [
      "\n"
     ]
    },
    {
     "name": "stdout",
     "output_type": "stream",
     "text": [
      "\n",
      "      Epoch    GPU_mem   box_loss   cls_loss   dfl_loss  Instances       Size\n"
     ]
    },
    {
     "name": "stderr",
     "output_type": "stream",
     "text": [
      "     51/100      3.84G     0.2133     0.1603     0.8826         39        320: 100%|██████████| 300/300 [00:35<00:00,  8.53it/s]\n",
      "                 Class     Images  Instances      Box(P          R      mAP50  mAP50-95): 100%|██████████| 150/150 [00:12<00:00, 11.86it/s]"
     ]
    },
    {
     "name": "stdout",
     "output_type": "stream",
     "text": [
      "                   all       2400       4800          1          1      0.995      0.995\n"
     ]
    },
    {
     "name": "stderr",
     "output_type": "stream",
     "text": [
      "\n"
     ]
    },
    {
     "name": "stdout",
     "output_type": "stream",
     "text": [
      "\n",
      "      Epoch    GPU_mem   box_loss   cls_loss   dfl_loss  Instances       Size\n"
     ]
    },
    {
     "name": "stderr",
     "output_type": "stream",
     "text": [
      "     52/100      3.94G     0.2129     0.1609     0.8795         40        320: 100%|██████████| 300/300 [00:35<00:00,  8.44it/s]\n",
      "                 Class     Images  Instances      Box(P          R      mAP50  mAP50-95): 100%|██████████| 150/150 [00:12<00:00, 11.93it/s]"
     ]
    },
    {
     "name": "stdout",
     "output_type": "stream",
     "text": [
      "                   all       2400       4800          1          1      0.995      0.995\n"
     ]
    },
    {
     "name": "stderr",
     "output_type": "stream",
     "text": [
      "\n"
     ]
    },
    {
     "name": "stdout",
     "output_type": "stream",
     "text": [
      "\n",
      "      Epoch    GPU_mem   box_loss   cls_loss   dfl_loss  Instances       Size\n"
     ]
    },
    {
     "name": "stderr",
     "output_type": "stream",
     "text": [
      "     53/100      4.15G     0.2095     0.1566     0.8835         38        320: 100%|██████████| 300/300 [00:36<00:00,  8.22it/s]\n",
      "                 Class     Images  Instances      Box(P          R      mAP50  mAP50-95): 100%|██████████| 150/150 [00:12<00:00, 11.95it/s]"
     ]
    },
    {
     "name": "stdout",
     "output_type": "stream",
     "text": [
      "                   all       2400       4800          1          1      0.995      0.995\n"
     ]
    },
    {
     "name": "stderr",
     "output_type": "stream",
     "text": [
      "\n"
     ]
    },
    {
     "name": "stdout",
     "output_type": "stream",
     "text": [
      "\n",
      "      Epoch    GPU_mem   box_loss   cls_loss   dfl_loss  Instances       Size\n"
     ]
    },
    {
     "name": "stderr",
     "output_type": "stream",
     "text": [
      "     54/100      4.33G     0.2065     0.1566     0.8769         38        320: 100%|██████████| 300/300 [00:36<00:00,  8.28it/s]\n",
      "                 Class     Images  Instances      Box(P          R      mAP50  mAP50-95): 100%|██████████| 150/150 [00:13<00:00, 11.36it/s]"
     ]
    },
    {
     "name": "stdout",
     "output_type": "stream",
     "text": [
      "                   all       2400       4800          1          1      0.995      0.995\n"
     ]
    },
    {
     "name": "stderr",
     "output_type": "stream",
     "text": [
      "\n"
     ]
    },
    {
     "name": "stdout",
     "output_type": "stream",
     "text": [
      "\n",
      "      Epoch    GPU_mem   box_loss   cls_loss   dfl_loss  Instances       Size\n"
     ]
    },
    {
     "name": "stderr",
     "output_type": "stream",
     "text": [
      "     55/100      4.61G     0.2004      0.153     0.8788         37        320: 100%|██████████| 300/300 [00:36<00:00,  8.24it/s]\n",
      "                 Class     Images  Instances      Box(P          R      mAP50  mAP50-95): 100%|██████████| 150/150 [00:13<00:00, 11.37it/s]"
     ]
    },
    {
     "name": "stdout",
     "output_type": "stream",
     "text": [
      "                   all       2400       4800          1          1      0.995      0.995\n"
     ]
    },
    {
     "name": "stderr",
     "output_type": "stream",
     "text": [
      "\n"
     ]
    },
    {
     "name": "stdout",
     "output_type": "stream",
     "text": [
      "\n",
      "      Epoch    GPU_mem   box_loss   cls_loss   dfl_loss  Instances       Size\n"
     ]
    },
    {
     "name": "stderr",
     "output_type": "stream",
     "text": [
      "     56/100      4.95G     0.2077     0.1549     0.8817         29        320: 100%|██████████| 300/300 [00:36<00:00,  8.19it/s]\n",
      "                 Class     Images  Instances      Box(P          R      mAP50  mAP50-95): 100%|██████████| 150/150 [00:12<00:00, 12.06it/s]"
     ]
    },
    {
     "name": "stdout",
     "output_type": "stream",
     "text": [
      "                   all       2400       4800          1          1      0.995      0.995\n"
     ]
    },
    {
     "name": "stderr",
     "output_type": "stream",
     "text": [
      "\n"
     ]
    },
    {
     "name": "stdout",
     "output_type": "stream",
     "text": [
      "\n",
      "      Epoch    GPU_mem   box_loss   cls_loss   dfl_loss  Instances       Size\n"
     ]
    },
    {
     "name": "stderr",
     "output_type": "stream",
     "text": [
      "     57/100      5.27G     0.2023      0.152     0.8838         43        320: 100%|██████████| 300/300 [00:34<00:00,  8.67it/s]\n",
      "                 Class     Images  Instances      Box(P          R      mAP50  mAP50-95): 100%|██████████| 150/150 [00:12<00:00, 11.69it/s]"
     ]
    },
    {
     "name": "stdout",
     "output_type": "stream",
     "text": [
      "                   all       2400       4800          1          1      0.995      0.995\n"
     ]
    },
    {
     "name": "stderr",
     "output_type": "stream",
     "text": [
      "\n"
     ]
    },
    {
     "name": "stdout",
     "output_type": "stream",
     "text": [
      "\n",
      "      Epoch    GPU_mem   box_loss   cls_loss   dfl_loss  Instances       Size\n"
     ]
    },
    {
     "name": "stderr",
     "output_type": "stream",
     "text": [
      "     58/100       5.6G     0.1929     0.1448     0.8801         37        320: 100%|██████████| 300/300 [00:35<00:00,  8.41it/s]\n",
      "                 Class     Images  Instances      Box(P          R      mAP50  mAP50-95): 100%|██████████| 150/150 [00:13<00:00, 10.83it/s]"
     ]
    },
    {
     "name": "stdout",
     "output_type": "stream",
     "text": [
      "                   all       2400       4800          1          1      0.995      0.995\n"
     ]
    },
    {
     "name": "stderr",
     "output_type": "stream",
     "text": [
      "\n"
     ]
    },
    {
     "name": "stdout",
     "output_type": "stream",
     "text": [
      "\n",
      "      Epoch    GPU_mem   box_loss   cls_loss   dfl_loss  Instances       Size\n"
     ]
    },
    {
     "name": "stderr",
     "output_type": "stream",
     "text": [
      "     59/100      5.94G     0.1961     0.1468     0.8774         39        320: 100%|██████████| 300/300 [00:36<00:00,  8.28it/s]\n",
      "                 Class     Images  Instances      Box(P          R      mAP50  mAP50-95): 100%|██████████| 150/150 [00:14<00:00, 10.45it/s]"
     ]
    },
    {
     "name": "stdout",
     "output_type": "stream",
     "text": [
      "                   all       2400       4800          1          1      0.995      0.995\n"
     ]
    },
    {
     "name": "stderr",
     "output_type": "stream",
     "text": [
      "\n"
     ]
    },
    {
     "name": "stdout",
     "output_type": "stream",
     "text": [
      "\n",
      "      Epoch    GPU_mem   box_loss   cls_loss   dfl_loss  Instances       Size\n"
     ]
    },
    {
     "name": "stderr",
     "output_type": "stream",
     "text": [
      "     60/100      6.25G     0.1896     0.1471     0.8788         37        320: 100%|██████████| 300/300 [00:39<00:00,  7.59it/s]\n",
      "                 Class     Images  Instances      Box(P          R      mAP50  mAP50-95): 100%|██████████| 150/150 [00:15<00:00,  9.72it/s]"
     ]
    },
    {
     "name": "stdout",
     "output_type": "stream",
     "text": [
      "                   all       2400       4800          1          1      0.995      0.995\n"
     ]
    },
    {
     "name": "stderr",
     "output_type": "stream",
     "text": [
      "\n"
     ]
    },
    {
     "name": "stdout",
     "output_type": "stream",
     "text": [
      "\n",
      "      Epoch    GPU_mem   box_loss   cls_loss   dfl_loss  Instances       Size\n"
     ]
    },
    {
     "name": "stderr",
     "output_type": "stream",
     "text": [
      "     61/100      6.57G     0.1932      0.148     0.8759         43        320: 100%|██████████| 300/300 [00:42<00:00,  7.08it/s]\n",
      "                 Class     Images  Instances      Box(P          R      mAP50  mAP50-95): 100%|██████████| 150/150 [00:13<00:00, 10.87it/s]"
     ]
    },
    {
     "name": "stdout",
     "output_type": "stream",
     "text": [
      "                   all       2400       4800          1          1      0.995      0.995\n"
     ]
    },
    {
     "name": "stderr",
     "output_type": "stream",
     "text": [
      "\n"
     ]
    },
    {
     "name": "stdout",
     "output_type": "stream",
     "text": [
      "\n",
      "      Epoch    GPU_mem   box_loss   cls_loss   dfl_loss  Instances       Size\n"
     ]
    },
    {
     "name": "stderr",
     "output_type": "stream",
     "text": [
      "     62/100      6.91G     0.1887     0.1462     0.8746         44        320: 100%|██████████| 300/300 [00:44<00:00,  6.79it/s]\n",
      "                 Class     Images  Instances      Box(P          R      mAP50  mAP50-95): 100%|██████████| 150/150 [00:12<00:00, 11.58it/s]"
     ]
    },
    {
     "name": "stdout",
     "output_type": "stream",
     "text": [
      "                   all       2400       4800          1          1      0.995      0.995\n"
     ]
    },
    {
     "name": "stderr",
     "output_type": "stream",
     "text": [
      "\n"
     ]
    },
    {
     "name": "stdout",
     "output_type": "stream",
     "text": [
      "\n",
      "      Epoch    GPU_mem   box_loss   cls_loss   dfl_loss  Instances       Size\n"
     ]
    },
    {
     "name": "stderr",
     "output_type": "stream",
     "text": [
      "     63/100      7.26G     0.1872     0.1433      0.878         46        320: 100%|██████████| 300/300 [00:36<00:00,  8.22it/s]\n",
      "                 Class     Images  Instances      Box(P          R      mAP50  mAP50-95): 100%|██████████| 150/150 [00:12<00:00, 11.68it/s]"
     ]
    },
    {
     "name": "stdout",
     "output_type": "stream",
     "text": [
      "                   all       2400       4800          1          1      0.995      0.995\n"
     ]
    },
    {
     "name": "stderr",
     "output_type": "stream",
     "text": [
      "\n"
     ]
    },
    {
     "name": "stdout",
     "output_type": "stream",
     "text": [
      "\n",
      "      Epoch    GPU_mem   box_loss   cls_loss   dfl_loss  Instances       Size\n"
     ]
    },
    {
     "name": "stderr",
     "output_type": "stream",
     "text": [
      "     64/100      7.57G       0.19     0.1422     0.8761         37        320: 100%|██████████| 300/300 [00:36<00:00,  8.23it/s]\n",
      "                 Class     Images  Instances      Box(P          R      mAP50  mAP50-95): 100%|██████████| 150/150 [00:12<00:00, 11.76it/s]"
     ]
    },
    {
     "name": "stdout",
     "output_type": "stream",
     "text": [
      "                   all       2400       4800          1          1      0.995      0.995\n"
     ]
    },
    {
     "name": "stderr",
     "output_type": "stream",
     "text": [
      "\n"
     ]
    },
    {
     "name": "stdout",
     "output_type": "stream",
     "text": [
      "\n",
      "      Epoch    GPU_mem   box_loss   cls_loss   dfl_loss  Instances       Size\n"
     ]
    },
    {
     "name": "stderr",
     "output_type": "stream",
     "text": [
      "     65/100      7.91G     0.1854     0.1435     0.8777         46        320: 100%|██████████| 300/300 [00:36<00:00,  8.14it/s]\n",
      "                 Class     Images  Instances      Box(P          R      mAP50  mAP50-95): 100%|██████████| 150/150 [00:12<00:00, 11.54it/s]"
     ]
    },
    {
     "name": "stdout",
     "output_type": "stream",
     "text": [
      "                   all       2400       4800          1          1      0.995      0.995\n"
     ]
    },
    {
     "name": "stderr",
     "output_type": "stream",
     "text": [
      "\n"
     ]
    },
    {
     "name": "stdout",
     "output_type": "stream",
     "text": [
      "\n",
      "      Epoch    GPU_mem   box_loss   cls_loss   dfl_loss  Instances       Size\n"
     ]
    },
    {
     "name": "stderr",
     "output_type": "stream",
     "text": [
      "     66/100      3.64G     0.1904     0.1462     0.8801         34        320: 100%|██████████| 300/300 [00:34<00:00,  8.72it/s]\n",
      "                 Class     Images  Instances      Box(P          R      mAP50  mAP50-95): 100%|██████████| 150/150 [00:13<00:00, 11.20it/s]"
     ]
    },
    {
     "name": "stdout",
     "output_type": "stream",
     "text": [
      "                   all       2400       4800          1          1      0.995      0.995\n"
     ]
    },
    {
     "name": "stderr",
     "output_type": "stream",
     "text": [
      "\n"
     ]
    },
    {
     "name": "stdout",
     "output_type": "stream",
     "text": [
      "\n",
      "      Epoch    GPU_mem   box_loss   cls_loss   dfl_loss  Instances       Size\n"
     ]
    },
    {
     "name": "stderr",
     "output_type": "stream",
     "text": [
      "     67/100      3.75G     0.1802     0.1374     0.8729         44        320: 100%|██████████| 300/300 [00:35<00:00,  8.55it/s]\n",
      "                 Class     Images  Instances      Box(P          R      mAP50  mAP50-95): 100%|██████████| 150/150 [00:11<00:00, 12.60it/s]"
     ]
    },
    {
     "name": "stdout",
     "output_type": "stream",
     "text": [
      "                   all       2400       4800          1          1      0.995      0.995\n"
     ]
    },
    {
     "name": "stderr",
     "output_type": "stream",
     "text": [
      "\n"
     ]
    },
    {
     "name": "stdout",
     "output_type": "stream",
     "text": [
      "\n",
      "      Epoch    GPU_mem   box_loss   cls_loss   dfl_loss  Instances       Size\n"
     ]
    },
    {
     "name": "stderr",
     "output_type": "stream",
     "text": [
      "     68/100      3.93G     0.1821     0.1381     0.8756         30        320: 100%|██████████| 300/300 [00:33<00:00,  9.07it/s]\n",
      "                 Class     Images  Instances      Box(P          R      mAP50  mAP50-95): 100%|██████████| 150/150 [00:11<00:00, 13.01it/s]"
     ]
    },
    {
     "name": "stdout",
     "output_type": "stream",
     "text": [
      "                   all       2400       4800          1          1      0.995      0.995\n"
     ]
    },
    {
     "name": "stderr",
     "output_type": "stream",
     "text": [
      "\n"
     ]
    },
    {
     "name": "stdout",
     "output_type": "stream",
     "text": [
      "\n",
      "      Epoch    GPU_mem   box_loss   cls_loss   dfl_loss  Instances       Size\n"
     ]
    },
    {
     "name": "stderr",
     "output_type": "stream",
     "text": [
      "     69/100      4.14G     0.1791     0.1371     0.8738         33        320: 100%|██████████| 300/300 [00:33<00:00,  9.00it/s]\n",
      "                 Class     Images  Instances      Box(P          R      mAP50  mAP50-95): 100%|██████████| 150/150 [00:11<00:00, 12.96it/s]"
     ]
    },
    {
     "name": "stdout",
     "output_type": "stream",
     "text": [
      "                   all       2400       4800          1          1      0.995      0.995\n"
     ]
    },
    {
     "name": "stderr",
     "output_type": "stream",
     "text": [
      "\n"
     ]
    },
    {
     "name": "stdout",
     "output_type": "stream",
     "text": [
      "\n",
      "      Epoch    GPU_mem   box_loss   cls_loss   dfl_loss  Instances       Size\n"
     ]
    },
    {
     "name": "stderr",
     "output_type": "stream",
     "text": [
      "     70/100      4.32G     0.1816     0.1392     0.8792         36        320: 100%|██████████| 300/300 [00:33<00:00,  8.83it/s]\n",
      "                 Class     Images  Instances      Box(P          R      mAP50  mAP50-95): 100%|██████████| 150/150 [00:12<00:00, 11.97it/s]"
     ]
    },
    {
     "name": "stdout",
     "output_type": "stream",
     "text": [
      "                   all       2400       4800          1          1      0.995      0.995\n"
     ]
    },
    {
     "name": "stderr",
     "output_type": "stream",
     "text": [
      "\n"
     ]
    },
    {
     "name": "stdout",
     "output_type": "stream",
     "text": [
      "\n",
      "      Epoch    GPU_mem   box_loss   cls_loss   dfl_loss  Instances       Size\n"
     ]
    },
    {
     "name": "stderr",
     "output_type": "stream",
     "text": [
      "     71/100      4.62G     0.1809     0.1396      0.875         34        320: 100%|██████████| 300/300 [00:34<00:00,  8.62it/s]\n",
      "                 Class     Images  Instances      Box(P          R      mAP50  mAP50-95): 100%|██████████| 150/150 [00:12<00:00, 12.29it/s]"
     ]
    },
    {
     "name": "stdout",
     "output_type": "stream",
     "text": [
      "                   all       2400       4800          1          1      0.995      0.995\n"
     ]
    },
    {
     "name": "stderr",
     "output_type": "stream",
     "text": [
      "\n"
     ]
    },
    {
     "name": "stdout",
     "output_type": "stream",
     "text": [
      "\n",
      "      Epoch    GPU_mem   box_loss   cls_loss   dfl_loss  Instances       Size\n"
     ]
    },
    {
     "name": "stderr",
     "output_type": "stream",
     "text": [
      "     72/100      4.94G      0.173      0.133     0.8761         36        320: 100%|██████████| 300/300 [00:35<00:00,  8.44it/s]\n",
      "                 Class     Images  Instances      Box(P          R      mAP50  mAP50-95): 100%|██████████| 150/150 [00:14<00:00, 10.52it/s]"
     ]
    },
    {
     "name": "stdout",
     "output_type": "stream",
     "text": [
      "                   all       2400       4800          1          1      0.995      0.995\n"
     ]
    },
    {
     "name": "stderr",
     "output_type": "stream",
     "text": [
      "\n"
     ]
    },
    {
     "name": "stdout",
     "output_type": "stream",
     "text": [
      "\n",
      "      Epoch    GPU_mem   box_loss   cls_loss   dfl_loss  Instances       Size\n"
     ]
    },
    {
     "name": "stderr",
     "output_type": "stream",
     "text": [
      "     73/100      5.27G     0.1756      0.134     0.8727         38        320: 100%|██████████| 300/300 [00:43<00:00,  6.82it/s]\n",
      "                 Class     Images  Instances      Box(P          R      mAP50  mAP50-95): 100%|██████████| 150/150 [00:12<00:00, 11.57it/s]"
     ]
    },
    {
     "name": "stdout",
     "output_type": "stream",
     "text": [
      "                   all       2400       4800          1          1      0.995      0.995\n"
     ]
    },
    {
     "name": "stderr",
     "output_type": "stream",
     "text": [
      "\n"
     ]
    },
    {
     "name": "stdout",
     "output_type": "stream",
     "text": [
      "\n",
      "      Epoch    GPU_mem   box_loss   cls_loss   dfl_loss  Instances       Size\n"
     ]
    },
    {
     "name": "stderr",
     "output_type": "stream",
     "text": [
      "     74/100      5.59G     0.1709     0.1326     0.8728         40        320: 100%|██████████| 300/300 [00:37<00:00,  8.11it/s]\n",
      "                 Class     Images  Instances      Box(P          R      mAP50  mAP50-95): 100%|██████████| 150/150 [00:13<00:00, 11.28it/s]"
     ]
    },
    {
     "name": "stdout",
     "output_type": "stream",
     "text": [
      "                   all       2400       4800          1          1      0.995      0.995\n"
     ]
    },
    {
     "name": "stderr",
     "output_type": "stream",
     "text": [
      "\n"
     ]
    },
    {
     "name": "stdout",
     "output_type": "stream",
     "text": [
      "\n",
      "      Epoch    GPU_mem   box_loss   cls_loss   dfl_loss  Instances       Size\n"
     ]
    },
    {
     "name": "stderr",
     "output_type": "stream",
     "text": [
      "     75/100      5.93G     0.1692     0.1327     0.8707         47        320: 100%|██████████| 300/300 [00:36<00:00,  8.26it/s]\n",
      "                 Class     Images  Instances      Box(P          R      mAP50  mAP50-95): 100%|██████████| 150/150 [00:12<00:00, 12.10it/s]"
     ]
    },
    {
     "name": "stdout",
     "output_type": "stream",
     "text": [
      "                   all       2400       4800          1          1      0.995      0.995\n"
     ]
    },
    {
     "name": "stderr",
     "output_type": "stream",
     "text": [
      "\n"
     ]
    },
    {
     "name": "stdout",
     "output_type": "stream",
     "text": [
      "\n",
      "      Epoch    GPU_mem   box_loss   cls_loss   dfl_loss  Instances       Size\n"
     ]
    },
    {
     "name": "stderr",
     "output_type": "stream",
     "text": [
      "     76/100      6.27G     0.1759     0.1334     0.8728         41        320: 100%|██████████| 300/300 [00:35<00:00,  8.53it/s]\n",
      "                 Class     Images  Instances      Box(P          R      mAP50  mAP50-95): 100%|██████████| 150/150 [00:11<00:00, 12.51it/s]"
     ]
    },
    {
     "name": "stdout",
     "output_type": "stream",
     "text": [
      "                   all       2400       4800          1          1      0.995      0.995\n"
     ]
    },
    {
     "name": "stderr",
     "output_type": "stream",
     "text": [
      "\n"
     ]
    },
    {
     "name": "stdout",
     "output_type": "stream",
     "text": [
      "\n",
      "      Epoch    GPU_mem   box_loss   cls_loss   dfl_loss  Instances       Size\n"
     ]
    },
    {
     "name": "stderr",
     "output_type": "stream",
     "text": [
      "     77/100      6.59G     0.1655     0.1294     0.8747         43        320: 100%|██████████| 300/300 [00:34<00:00,  8.76it/s]\n",
      "                 Class     Images  Instances      Box(P          R      mAP50  mAP50-95): 100%|██████████| 150/150 [00:12<00:00, 12.20it/s]"
     ]
    },
    {
     "name": "stdout",
     "output_type": "stream",
     "text": [
      "                   all       2400       4800          1          1      0.995      0.995\n"
     ]
    },
    {
     "name": "stderr",
     "output_type": "stream",
     "text": [
      "\n"
     ]
    },
    {
     "name": "stdout",
     "output_type": "stream",
     "text": [
      "\n",
      "      Epoch    GPU_mem   box_loss   cls_loss   dfl_loss  Instances       Size\n"
     ]
    },
    {
     "name": "stderr",
     "output_type": "stream",
     "text": [
      "     78/100       6.9G     0.1679     0.1305     0.8711         33        320: 100%|██████████| 300/300 [00:37<00:00,  7.99it/s]\n",
      "                 Class     Images  Instances      Box(P          R      mAP50  mAP50-95): 100%|██████████| 150/150 [00:13<00:00, 11.23it/s]"
     ]
    },
    {
     "name": "stdout",
     "output_type": "stream",
     "text": [
      "                   all       2400       4800          1          1      0.995      0.995\n"
     ]
    },
    {
     "name": "stderr",
     "output_type": "stream",
     "text": [
      "\n"
     ]
    },
    {
     "name": "stdout",
     "output_type": "stream",
     "text": [
      "\n",
      "      Epoch    GPU_mem   box_loss   cls_loss   dfl_loss  Instances       Size\n"
     ]
    },
    {
     "name": "stderr",
     "output_type": "stream",
     "text": [
      "     79/100      7.24G      0.164     0.1269     0.8722         48        320: 100%|██████████| 300/300 [00:36<00:00,  8.18it/s]\n",
      "                 Class     Images  Instances      Box(P          R      mAP50  mAP50-95): 100%|██████████| 150/150 [00:12<00:00, 11.83it/s]"
     ]
    },
    {
     "name": "stdout",
     "output_type": "stream",
     "text": [
      "                   all       2400       4800          1          1      0.995      0.995\n"
     ]
    },
    {
     "name": "stderr",
     "output_type": "stream",
     "text": [
      "\n"
     ]
    },
    {
     "name": "stdout",
     "output_type": "stream",
     "text": [
      "\n",
      "      Epoch    GPU_mem   box_loss   cls_loss   dfl_loss  Instances       Size\n"
     ]
    },
    {
     "name": "stderr",
     "output_type": "stream",
     "text": [
      "     80/100      7.57G     0.1651     0.1257     0.8668         40        320: 100%|██████████| 300/300 [00:34<00:00,  8.75it/s]\n",
      "                 Class     Images  Instances      Box(P          R      mAP50  mAP50-95): 100%|██████████| 150/150 [00:11<00:00, 12.62it/s]"
     ]
    },
    {
     "name": "stdout",
     "output_type": "stream",
     "text": [
      "                   all       2400       4800          1          1      0.995      0.995\n"
     ]
    },
    {
     "name": "stderr",
     "output_type": "stream",
     "text": [
      "\n"
     ]
    },
    {
     "name": "stdout",
     "output_type": "stream",
     "text": [
      "\n",
      "      Epoch    GPU_mem   box_loss   cls_loss   dfl_loss  Instances       Size\n"
     ]
    },
    {
     "name": "stderr",
     "output_type": "stream",
     "text": [
      "     81/100      7.89G       0.16     0.1242     0.8705         39        320: 100%|██████████| 300/300 [00:34<00:00,  8.76it/s]\n",
      "                 Class     Images  Instances      Box(P          R      mAP50  mAP50-95): 100%|██████████| 150/150 [00:11<00:00, 12.59it/s]"
     ]
    },
    {
     "name": "stdout",
     "output_type": "stream",
     "text": [
      "                   all       2400       4800          1          1      0.995      0.995\n"
     ]
    },
    {
     "name": "stderr",
     "output_type": "stream",
     "text": [
      "\n"
     ]
    },
    {
     "name": "stdout",
     "output_type": "stream",
     "text": [
      "\n",
      "      Epoch    GPU_mem   box_loss   cls_loss   dfl_loss  Instances       Size\n"
     ]
    },
    {
     "name": "stderr",
     "output_type": "stream",
     "text": [
      "     82/100      3.62G      0.157     0.1242      0.867         38        320: 100%|██████████| 300/300 [00:34<00:00,  8.63it/s]\n",
      "                 Class     Images  Instances      Box(P          R      mAP50  mAP50-95): 100%|██████████| 150/150 [00:12<00:00, 12.27it/s]"
     ]
    },
    {
     "name": "stdout",
     "output_type": "stream",
     "text": [
      "                   all       2400       4800          1          1      0.995      0.995\n"
     ]
    },
    {
     "name": "stderr",
     "output_type": "stream",
     "text": [
      "\n"
     ]
    },
    {
     "name": "stdout",
     "output_type": "stream",
     "text": [
      "\n",
      "      Epoch    GPU_mem   box_loss   cls_loss   dfl_loss  Instances       Size\n"
     ]
    },
    {
     "name": "stderr",
     "output_type": "stream",
     "text": [
      "     83/100      3.73G     0.1563     0.1217     0.8689         47        320: 100%|██████████| 300/300 [00:33<00:00,  8.84it/s]\n",
      "                 Class     Images  Instances      Box(P          R      mAP50  mAP50-95): 100%|██████████| 150/150 [00:11<00:00, 12.60it/s]"
     ]
    },
    {
     "name": "stdout",
     "output_type": "stream",
     "text": [
      "                   all       2400       4800          1          1      0.995      0.995\n"
     ]
    },
    {
     "name": "stderr",
     "output_type": "stream",
     "text": [
      "\n"
     ]
    },
    {
     "name": "stdout",
     "output_type": "stream",
     "text": [
      "\n",
      "      Epoch    GPU_mem   box_loss   cls_loss   dfl_loss  Instances       Size\n"
     ]
    },
    {
     "name": "stderr",
     "output_type": "stream",
     "text": [
      "     84/100      3.93G     0.1529       0.12     0.8664         41        320: 100%|██████████| 300/300 [00:34<00:00,  8.66it/s]\n",
      "                 Class     Images  Instances      Box(P          R      mAP50  mAP50-95): 100%|██████████| 150/150 [00:12<00:00, 12.22it/s]"
     ]
    },
    {
     "name": "stdout",
     "output_type": "stream",
     "text": [
      "                   all       2400       4800          1          1      0.995      0.995\n"
     ]
    },
    {
     "name": "stderr",
     "output_type": "stream",
     "text": [
      "\n"
     ]
    },
    {
     "name": "stdout",
     "output_type": "stream",
     "text": [
      "\n",
      "      Epoch    GPU_mem   box_loss   cls_loss   dfl_loss  Instances       Size\n"
     ]
    },
    {
     "name": "stderr",
     "output_type": "stream",
     "text": [
      "     85/100      4.12G     0.1535     0.1197     0.8711         30        320: 100%|██████████| 300/300 [00:37<00:00,  7.97it/s]\n",
      "                 Class     Images  Instances      Box(P          R      mAP50  mAP50-95): 100%|██████████| 150/150 [00:12<00:00, 12.04it/s]"
     ]
    },
    {
     "name": "stdout",
     "output_type": "stream",
     "text": [
      "                   all       2400       4800          1          1      0.995      0.995\n"
     ]
    },
    {
     "name": "stderr",
     "output_type": "stream",
     "text": [
      "\n"
     ]
    },
    {
     "name": "stdout",
     "output_type": "stream",
     "text": [
      "\n",
      "      Epoch    GPU_mem   box_loss   cls_loss   dfl_loss  Instances       Size\n"
     ]
    },
    {
     "name": "stderr",
     "output_type": "stream",
     "text": [
      "     86/100      4.32G     0.1522     0.1195     0.8642         43        320: 100%|██████████| 300/300 [00:36<00:00,  8.25it/s]\n",
      "                 Class     Images  Instances      Box(P          R      mAP50  mAP50-95): 100%|██████████| 150/150 [00:12<00:00, 11.67it/s]"
     ]
    },
    {
     "name": "stdout",
     "output_type": "stream",
     "text": [
      "                   all       2400       4800          1          1      0.995      0.995\n"
     ]
    },
    {
     "name": "stderr",
     "output_type": "stream",
     "text": [
      "\n"
     ]
    },
    {
     "name": "stdout",
     "output_type": "stream",
     "text": [
      "\n",
      "      Epoch    GPU_mem   box_loss   cls_loss   dfl_loss  Instances       Size\n"
     ]
    },
    {
     "name": "stderr",
     "output_type": "stream",
     "text": [
      "     87/100      4.61G     0.1459     0.1166     0.8648         45        320: 100%|██████████| 300/300 [00:36<00:00,  8.19it/s]\n",
      "                 Class     Images  Instances      Box(P          R      mAP50  mAP50-95): 100%|██████████| 150/150 [00:12<00:00, 12.11it/s]"
     ]
    },
    {
     "name": "stdout",
     "output_type": "stream",
     "text": [
      "                   all       2400       4800          1          1      0.995      0.995\n"
     ]
    },
    {
     "name": "stderr",
     "output_type": "stream",
     "text": [
      "\n"
     ]
    },
    {
     "name": "stdout",
     "output_type": "stream",
     "text": [
      "\n",
      "      Epoch    GPU_mem   box_loss   cls_loss   dfl_loss  Instances       Size\n"
     ]
    },
    {
     "name": "stderr",
     "output_type": "stream",
     "text": [
      "     88/100      4.93G     0.1508     0.1202     0.8701         43        320: 100%|██████████| 300/300 [00:35<00:00,  8.41it/s]\n",
      "                 Class     Images  Instances      Box(P          R      mAP50  mAP50-95): 100%|██████████| 150/150 [00:12<00:00, 11.54it/s]"
     ]
    },
    {
     "name": "stdout",
     "output_type": "stream",
     "text": [
      "                   all       2400       4800          1          1      0.995      0.995\n"
     ]
    },
    {
     "name": "stderr",
     "output_type": "stream",
     "text": [
      "\n"
     ]
    },
    {
     "name": "stdout",
     "output_type": "stream",
     "text": [
      "\n",
      "      Epoch    GPU_mem   box_loss   cls_loss   dfl_loss  Instances       Size\n"
     ]
    },
    {
     "name": "stderr",
     "output_type": "stream",
     "text": [
      "     89/100      5.26G     0.1477     0.1204     0.8692         39        320: 100%|██████████| 300/300 [00:35<00:00,  8.41it/s]\n",
      "                 Class     Images  Instances      Box(P          R      mAP50  mAP50-95): 100%|██████████| 150/150 [00:12<00:00, 11.62it/s]"
     ]
    },
    {
     "name": "stdout",
     "output_type": "stream",
     "text": [
      "                   all       2400       4800          1          1      0.995      0.995\n"
     ]
    },
    {
     "name": "stderr",
     "output_type": "stream",
     "text": [
      "\n"
     ]
    },
    {
     "name": "stdout",
     "output_type": "stream",
     "text": [
      "\n",
      "      Epoch    GPU_mem   box_loss   cls_loss   dfl_loss  Instances       Size\n"
     ]
    },
    {
     "name": "stderr",
     "output_type": "stream",
     "text": [
      "     90/100       5.6G     0.1474     0.1166     0.8653         43        320: 100%|██████████| 300/300 [00:36<00:00,  8.29it/s]\n",
      "                 Class     Images  Instances      Box(P          R      mAP50  mAP50-95): 100%|██████████| 150/150 [00:12<00:00, 11.84it/s]"
     ]
    },
    {
     "name": "stdout",
     "output_type": "stream",
     "text": [
      "                   all       2400       4800          1          1      0.995      0.995\n"
     ]
    },
    {
     "name": "stderr",
     "output_type": "stream",
     "text": [
      "\n"
     ]
    },
    {
     "name": "stdout",
     "output_type": "stream",
     "text": [
      "Closing dataloader mosaic\n",
      "\u001b[34m\u001b[1malbumentations: \u001b[0mBlur(p=0.01, blur_limit=(3, 7)), MedianBlur(p=0.01, blur_limit=(3, 7)), ToGray(p=0.01, method='weighted_average', num_output_channels=3), CLAHE(p=0.01, clip_limit=(1.0, 4.0), tile_grid_size=(8, 8))\n",
      "\n",
      "      Epoch    GPU_mem   box_loss   cls_loss   dfl_loss  Instances       Size\n"
     ]
    },
    {
     "name": "stderr",
     "output_type": "stream",
     "text": [
      "     91/100      5.91G     0.1083     0.1102     0.8301         16        320: 100%|██████████| 300/300 [00:36<00:00,  8.21it/s]\n",
      "                 Class     Images  Instances      Box(P          R      mAP50  mAP50-95): 100%|██████████| 150/150 [00:12<00:00, 11.94it/s]"
     ]
    },
    {
     "name": "stdout",
     "output_type": "stream",
     "text": [
      "                   all       2400       4800          1          1      0.995      0.995\n"
     ]
    },
    {
     "name": "stderr",
     "output_type": "stream",
     "text": [
      "\n"
     ]
    },
    {
     "name": "stdout",
     "output_type": "stream",
     "text": [
      "\n",
      "      Epoch    GPU_mem   box_loss   cls_loss   dfl_loss  Instances       Size\n"
     ]
    },
    {
     "name": "stderr",
     "output_type": "stream",
     "text": [
      "     92/100      6.24G     0.1006    0.09196     0.8261         14        320: 100%|██████████| 300/300 [00:37<00:00,  8.02it/s]\n",
      "                 Class     Images  Instances      Box(P          R      mAP50  mAP50-95): 100%|██████████| 150/150 [00:13<00:00, 11.44it/s]"
     ]
    },
    {
     "name": "stdout",
     "output_type": "stream",
     "text": [
      "                   all       2400       4800          1          1      0.995      0.995\n"
     ]
    },
    {
     "name": "stderr",
     "output_type": "stream",
     "text": [
      "\n"
     ]
    },
    {
     "name": "stdout",
     "output_type": "stream",
     "text": [
      "\n",
      "      Epoch    GPU_mem   box_loss   cls_loss   dfl_loss  Instances       Size\n"
     ]
    },
    {
     "name": "stderr",
     "output_type": "stream",
     "text": [
      "     93/100      6.57G    0.09432     0.0868     0.8265         16        320: 100%|██████████| 300/300 [00:36<00:00,  8.14it/s]\n",
      "                 Class     Images  Instances      Box(P          R      mAP50  mAP50-95): 100%|██████████| 150/150 [00:12<00:00, 11.69it/s]"
     ]
    },
    {
     "name": "stdout",
     "output_type": "stream",
     "text": [
      "                   all       2400       4800          1          1      0.995      0.995\n"
     ]
    },
    {
     "name": "stderr",
     "output_type": "stream",
     "text": [
      "\n"
     ]
    },
    {
     "name": "stdout",
     "output_type": "stream",
     "text": [
      "\n",
      "      Epoch    GPU_mem   box_loss   cls_loss   dfl_loss  Instances       Size\n"
     ]
    },
    {
     "name": "stderr",
     "output_type": "stream",
     "text": [
      "     94/100      6.91G    0.08871    0.08447     0.8229         16        320: 100%|██████████| 300/300 [00:35<00:00,  8.38it/s]\n",
      "                 Class     Images  Instances      Box(P          R      mAP50  mAP50-95): 100%|██████████| 150/150 [00:12<00:00, 11.89it/s]"
     ]
    },
    {
     "name": "stdout",
     "output_type": "stream",
     "text": [
      "                   all       2400       4800          1          1      0.995      0.995\n"
     ]
    },
    {
     "name": "stderr",
     "output_type": "stream",
     "text": [
      "\n"
     ]
    },
    {
     "name": "stdout",
     "output_type": "stream",
     "text": [
      "\n",
      "      Epoch    GPU_mem   box_loss   cls_loss   dfl_loss  Instances       Size\n"
     ]
    },
    {
     "name": "stderr",
     "output_type": "stream",
     "text": [
      "     95/100      7.25G    0.08808    0.08248     0.8196         16        320: 100%|██████████| 300/300 [00:38<00:00,  7.76it/s]\n",
      "                 Class     Images  Instances      Box(P          R      mAP50  mAP50-95): 100%|██████████| 150/150 [00:13<00:00, 11.29it/s]"
     ]
    },
    {
     "name": "stdout",
     "output_type": "stream",
     "text": [
      "                   all       2400       4800          1          1      0.995      0.995\n"
     ]
    },
    {
     "name": "stderr",
     "output_type": "stream",
     "text": [
      "\n"
     ]
    },
    {
     "name": "stdout",
     "output_type": "stream",
     "text": [
      "\n",
      "      Epoch    GPU_mem   box_loss   cls_loss   dfl_loss  Instances       Size\n"
     ]
    },
    {
     "name": "stderr",
     "output_type": "stream",
     "text": [
      "     96/100      7.56G    0.08428     0.0789     0.8243         16        320: 100%|██████████| 300/300 [00:36<00:00,  8.31it/s]\n",
      "                 Class     Images  Instances      Box(P          R      mAP50  mAP50-95): 100%|██████████| 150/150 [00:13<00:00, 11.29it/s]"
     ]
    },
    {
     "name": "stdout",
     "output_type": "stream",
     "text": [
      "                   all       2400       4800          1          1      0.995      0.995\n"
     ]
    },
    {
     "name": "stderr",
     "output_type": "stream",
     "text": [
      "\n"
     ]
    },
    {
     "name": "stdout",
     "output_type": "stream",
     "text": [
      "\n",
      "      Epoch    GPU_mem   box_loss   cls_loss   dfl_loss  Instances       Size\n"
     ]
    },
    {
     "name": "stderr",
     "output_type": "stream",
     "text": [
      "     97/100       7.9G    0.08272    0.07665     0.8278         14        320: 100%|██████████| 300/300 [00:37<00:00,  8.10it/s]\n",
      "                 Class     Images  Instances      Box(P          R      mAP50  mAP50-95): 100%|██████████| 150/150 [00:12<00:00, 11.96it/s]"
     ]
    },
    {
     "name": "stdout",
     "output_type": "stream",
     "text": [
      "                   all       2400       4800          1          1      0.995      0.995\n"
     ]
    },
    {
     "name": "stderr",
     "output_type": "stream",
     "text": [
      "\n"
     ]
    },
    {
     "name": "stdout",
     "output_type": "stream",
     "text": [
      "\n",
      "      Epoch    GPU_mem   box_loss   cls_loss   dfl_loss  Instances       Size\n"
     ]
    },
    {
     "name": "stderr",
     "output_type": "stream",
     "text": [
      "     98/100      8.22G    0.08008    0.07496     0.8231         16        320: 100%|██████████| 300/300 [00:37<00:00,  8.10it/s]\n",
      "                 Class     Images  Instances      Box(P          R      mAP50  mAP50-95): 100%|██████████| 150/150 [00:13<00:00, 10.82it/s]"
     ]
    },
    {
     "name": "stdout",
     "output_type": "stream",
     "text": [
      "                   all       2400       4800          1          1      0.995      0.995\n"
     ]
    },
    {
     "name": "stderr",
     "output_type": "stream",
     "text": [
      "\n"
     ]
    },
    {
     "name": "stdout",
     "output_type": "stream",
     "text": [
      "\n",
      "      Epoch    GPU_mem   box_loss   cls_loss   dfl_loss  Instances       Size\n"
     ]
    },
    {
     "name": "stderr",
     "output_type": "stream",
     "text": [
      "     99/100      3.95G    0.07802    0.07364     0.8209         16        320: 100%|██████████| 300/300 [00:37<00:00,  8.01it/s]\n",
      "                 Class     Images  Instances      Box(P          R      mAP50  mAP50-95): 100%|██████████| 150/150 [00:12<00:00, 11.67it/s]"
     ]
    },
    {
     "name": "stdout",
     "output_type": "stream",
     "text": [
      "                   all       2400       4800          1          1      0.995      0.995\n"
     ]
    },
    {
     "name": "stderr",
     "output_type": "stream",
     "text": [
      "\n"
     ]
    },
    {
     "name": "stdout",
     "output_type": "stream",
     "text": [
      "\n",
      "      Epoch    GPU_mem   box_loss   cls_loss   dfl_loss  Instances       Size\n"
     ]
    },
    {
     "name": "stderr",
     "output_type": "stream",
     "text": [
      "    100/100      4.06G    0.07517    0.06983     0.8255         16        320: 100%|██████████| 300/300 [00:37<00:00,  8.06it/s]\n",
      "                 Class     Images  Instances      Box(P          R      mAP50  mAP50-95): 100%|██████████| 150/150 [00:11<00:00, 12.77it/s]"
     ]
    },
    {
     "name": "stdout",
     "output_type": "stream",
     "text": [
      "                   all       2400       4800          1          1      0.995      0.995\n"
     ]
    },
    {
     "name": "stderr",
     "output_type": "stream",
     "text": [
      "\n"
     ]
    },
    {
     "name": "stdout",
     "output_type": "stream",
     "text": [
      "\n",
      "100 epochs completed in 1.400 hours.\n",
      "Optimizer stripped from runs/detect/split_image_id_model/weights/last.pt, 114.3MB\n",
      "Optimizer stripped from runs/detect/split_image_id_model/weights/best.pt, 114.3MB\n",
      "\n",
      "Validating runs/detect/split_image_id_model/weights/best.pt...\n",
      "Ultralytics 8.3.144 🚀 Python-3.11.9 torch-2.6.0+cu124 CUDA:0 (NVIDIA GeForce RTX 4070 Ti SUPER, 16376MiB)\n",
      "YOLO11x summary (fused): 190 layers, 56,829,334 parameters, 0 gradients, 194.4 GFLOPs\n"
     ]
    },
    {
     "name": "stderr",
     "output_type": "stream",
     "text": [
      "                 Class     Images  Instances      Box(P          R      mAP50  mAP50-95): 100%|██████████| 150/150 [00:13<00:00, 11.27it/s]\n"
     ]
    },
    {
     "name": "stdout",
     "output_type": "stream",
     "text": [
      "                   all       2400       4800          1          1      0.995      0.995\n",
      "                 image       2400       2400          1          1      0.995      0.995\n",
      "                    id       2400       2400          1          1      0.995      0.995\n",
      "Speed: 0.0ms preprocess, 1.6ms inference, 0.0ms loss, 1.0ms postprocess per image\n",
      "Results saved to \u001b[1mruns/detect/split_image_id_model\u001b[0m\n"
     ]
    },
    {
     "data": {
      "text/plain": [
       "ultralytics.utils.metrics.DetMetrics object with attributes:\n",
       "\n",
       "ap_class_index: array([0, 1])\n",
       "box: ultralytics.utils.metrics.Metric object\n",
       "confusion_matrix: <ultralytics.utils.metrics.ConfusionMatrix object at 0x7446dccb0610>\n",
       "curves: ['Precision-Recall(B)', 'F1-Confidence(B)', 'Precision-Confidence(B)', 'Recall-Confidence(B)']\n",
       "curves_results: [[array([          0,    0.001001,    0.002002,    0.003003,    0.004004,    0.005005,    0.006006,    0.007007,    0.008008,    0.009009,     0.01001,    0.011011,    0.012012,    0.013013,    0.014014,    0.015015,    0.016016,    0.017017,    0.018018,    0.019019,     0.02002,    0.021021,    0.022022,    0.023023,\n",
       "          0.024024,    0.025025,    0.026026,    0.027027,    0.028028,    0.029029,     0.03003,    0.031031,    0.032032,    0.033033,    0.034034,    0.035035,    0.036036,    0.037037,    0.038038,    0.039039,     0.04004,    0.041041,    0.042042,    0.043043,    0.044044,    0.045045,    0.046046,    0.047047,\n",
       "          0.048048,    0.049049,     0.05005,    0.051051,    0.052052,    0.053053,    0.054054,    0.055055,    0.056056,    0.057057,    0.058058,    0.059059,     0.06006,    0.061061,    0.062062,    0.063063,    0.064064,    0.065065,    0.066066,    0.067067,    0.068068,    0.069069,     0.07007,    0.071071,\n",
       "          0.072072,    0.073073,    0.074074,    0.075075,    0.076076,    0.077077,    0.078078,    0.079079,     0.08008,    0.081081,    0.082082,    0.083083,    0.084084,    0.085085,    0.086086,    0.087087,    0.088088,    0.089089,     0.09009,    0.091091,    0.092092,    0.093093,    0.094094,    0.095095,\n",
       "          0.096096,    0.097097,    0.098098,    0.099099,      0.1001,      0.1011,      0.1021,      0.1031,      0.1041,     0.10511,     0.10611,     0.10711,     0.10811,     0.10911,     0.11011,     0.11111,     0.11211,     0.11311,     0.11411,     0.11512,     0.11612,     0.11712,     0.11812,     0.11912,\n",
       "           0.12012,     0.12112,     0.12212,     0.12312,     0.12412,     0.12513,     0.12613,     0.12713,     0.12813,     0.12913,     0.13013,     0.13113,     0.13213,     0.13313,     0.13413,     0.13514,     0.13614,     0.13714,     0.13814,     0.13914,     0.14014,     0.14114,     0.14214,     0.14314,\n",
       "           0.14414,     0.14515,     0.14615,     0.14715,     0.14815,     0.14915,     0.15015,     0.15115,     0.15215,     0.15315,     0.15415,     0.15516,     0.15616,     0.15716,     0.15816,     0.15916,     0.16016,     0.16116,     0.16216,     0.16316,     0.16416,     0.16517,     0.16617,     0.16717,\n",
       "           0.16817,     0.16917,     0.17017,     0.17117,     0.17217,     0.17317,     0.17417,     0.17518,     0.17618,     0.17718,     0.17818,     0.17918,     0.18018,     0.18118,     0.18218,     0.18318,     0.18418,     0.18519,     0.18619,     0.18719,     0.18819,     0.18919,     0.19019,     0.19119,\n",
       "           0.19219,     0.19319,     0.19419,      0.1952,      0.1962,      0.1972,      0.1982,      0.1992,      0.2002,      0.2012,      0.2022,      0.2032,      0.2042,     0.20521,     0.20621,     0.20721,     0.20821,     0.20921,     0.21021,     0.21121,     0.21221,     0.21321,     0.21421,     0.21522,\n",
       "           0.21622,     0.21722,     0.21822,     0.21922,     0.22022,     0.22122,     0.22222,     0.22322,     0.22422,     0.22523,     0.22623,     0.22723,     0.22823,     0.22923,     0.23023,     0.23123,     0.23223,     0.23323,     0.23423,     0.23524,     0.23624,     0.23724,     0.23824,     0.23924,\n",
       "           0.24024,     0.24124,     0.24224,     0.24324,     0.24424,     0.24525,     0.24625,     0.24725,     0.24825,     0.24925,     0.25025,     0.25125,     0.25225,     0.25325,     0.25425,     0.25526,     0.25626,     0.25726,     0.25826,     0.25926,     0.26026,     0.26126,     0.26226,     0.26326,\n",
       "           0.26426,     0.26527,     0.26627,     0.26727,     0.26827,     0.26927,     0.27027,     0.27127,     0.27227,     0.27327,     0.27427,     0.27528,     0.27628,     0.27728,     0.27828,     0.27928,     0.28028,     0.28128,     0.28228,     0.28328,     0.28428,     0.28529,     0.28629,     0.28729,\n",
       "           0.28829,     0.28929,     0.29029,     0.29129,     0.29229,     0.29329,     0.29429,      0.2953,      0.2963,      0.2973,      0.2983,      0.2993,      0.3003,      0.3013,      0.3023,      0.3033,      0.3043,     0.30531,     0.30631,     0.30731,     0.30831,     0.30931,     0.31031,     0.31131,\n",
       "           0.31231,     0.31331,     0.31431,     0.31532,     0.31632,     0.31732,     0.31832,     0.31932,     0.32032,     0.32132,     0.32232,     0.32332,     0.32432,     0.32533,     0.32633,     0.32733,     0.32833,     0.32933,     0.33033,     0.33133,     0.33233,     0.33333,     0.33433,     0.33534,\n",
       "           0.33634,     0.33734,     0.33834,     0.33934,     0.34034,     0.34134,     0.34234,     0.34334,     0.34434,     0.34535,     0.34635,     0.34735,     0.34835,     0.34935,     0.35035,     0.35135,     0.35235,     0.35335,     0.35435,     0.35536,     0.35636,     0.35736,     0.35836,     0.35936,\n",
       "           0.36036,     0.36136,     0.36236,     0.36336,     0.36436,     0.36537,     0.36637,     0.36737,     0.36837,     0.36937,     0.37037,     0.37137,     0.37237,     0.37337,     0.37437,     0.37538,     0.37638,     0.37738,     0.37838,     0.37938,     0.38038,     0.38138,     0.38238,     0.38338,\n",
       "           0.38438,     0.38539,     0.38639,     0.38739,     0.38839,     0.38939,     0.39039,     0.39139,     0.39239,     0.39339,     0.39439,      0.3954,      0.3964,      0.3974,      0.3984,      0.3994,      0.4004,      0.4014,      0.4024,      0.4034,      0.4044,     0.40541,     0.40641,     0.40741,\n",
       "           0.40841,     0.40941,     0.41041,     0.41141,     0.41241,     0.41341,     0.41441,     0.41542,     0.41642,     0.41742,     0.41842,     0.41942,     0.42042,     0.42142,     0.42242,     0.42342,     0.42442,     0.42543,     0.42643,     0.42743,     0.42843,     0.42943,     0.43043,     0.43143,\n",
       "           0.43243,     0.43343,     0.43443,     0.43544,     0.43644,     0.43744,     0.43844,     0.43944,     0.44044,     0.44144,     0.44244,     0.44344,     0.44444,     0.44545,     0.44645,     0.44745,     0.44845,     0.44945,     0.45045,     0.45145,     0.45245,     0.45345,     0.45445,     0.45546,\n",
       "           0.45646,     0.45746,     0.45846,     0.45946,     0.46046,     0.46146,     0.46246,     0.46346,     0.46446,     0.46547,     0.46647,     0.46747,     0.46847,     0.46947,     0.47047,     0.47147,     0.47247,     0.47347,     0.47447,     0.47548,     0.47648,     0.47748,     0.47848,     0.47948,\n",
       "           0.48048,     0.48148,     0.48248,     0.48348,     0.48448,     0.48549,     0.48649,     0.48749,     0.48849,     0.48949,     0.49049,     0.49149,     0.49249,     0.49349,     0.49449,      0.4955,      0.4965,      0.4975,      0.4985,      0.4995,      0.5005,      0.5015,      0.5025,      0.5035,\n",
       "            0.5045,     0.50551,     0.50651,     0.50751,     0.50851,     0.50951,     0.51051,     0.51151,     0.51251,     0.51351,     0.51451,     0.51552,     0.51652,     0.51752,     0.51852,     0.51952,     0.52052,     0.52152,     0.52252,     0.52352,     0.52452,     0.52553,     0.52653,     0.52753,\n",
       "           0.52853,     0.52953,     0.53053,     0.53153,     0.53253,     0.53353,     0.53453,     0.53554,     0.53654,     0.53754,     0.53854,     0.53954,     0.54054,     0.54154,     0.54254,     0.54354,     0.54454,     0.54555,     0.54655,     0.54755,     0.54855,     0.54955,     0.55055,     0.55155,\n",
       "           0.55255,     0.55355,     0.55455,     0.55556,     0.55656,     0.55756,     0.55856,     0.55956,     0.56056,     0.56156,     0.56256,     0.56356,     0.56456,     0.56557,     0.56657,     0.56757,     0.56857,     0.56957,     0.57057,     0.57157,     0.57257,     0.57357,     0.57457,     0.57558,\n",
       "           0.57658,     0.57758,     0.57858,     0.57958,     0.58058,     0.58158,     0.58258,     0.58358,     0.58458,     0.58559,     0.58659,     0.58759,     0.58859,     0.58959,     0.59059,     0.59159,     0.59259,     0.59359,     0.59459,      0.5956,      0.5966,      0.5976,      0.5986,      0.5996,\n",
       "            0.6006,      0.6016,      0.6026,      0.6036,      0.6046,     0.60561,     0.60661,     0.60761,     0.60861,     0.60961,     0.61061,     0.61161,     0.61261,     0.61361,     0.61461,     0.61562,     0.61662,     0.61762,     0.61862,     0.61962,     0.62062,     0.62162,     0.62262,     0.62362,\n",
       "           0.62462,     0.62563,     0.62663,     0.62763,     0.62863,     0.62963,     0.63063,     0.63163,     0.63263,     0.63363,     0.63463,     0.63564,     0.63664,     0.63764,     0.63864,     0.63964,     0.64064,     0.64164,     0.64264,     0.64364,     0.64464,     0.64565,     0.64665,     0.64765,\n",
       "           0.64865,     0.64965,     0.65065,     0.65165,     0.65265,     0.65365,     0.65465,     0.65566,     0.65666,     0.65766,     0.65866,     0.65966,     0.66066,     0.66166,     0.66266,     0.66366,     0.66466,     0.66567,     0.66667,     0.66767,     0.66867,     0.66967,     0.67067,     0.67167,\n",
       "           0.67267,     0.67367,     0.67467,     0.67568,     0.67668,     0.67768,     0.67868,     0.67968,     0.68068,     0.68168,     0.68268,     0.68368,     0.68468,     0.68569,     0.68669,     0.68769,     0.68869,     0.68969,     0.69069,     0.69169,     0.69269,     0.69369,     0.69469,      0.6957,\n",
       "            0.6967,      0.6977,      0.6987,      0.6997,      0.7007,      0.7017,      0.7027,      0.7037,      0.7047,     0.70571,     0.70671,     0.70771,     0.70871,     0.70971,     0.71071,     0.71171,     0.71271,     0.71371,     0.71471,     0.71572,     0.71672,     0.71772,     0.71872,     0.71972,\n",
       "           0.72072,     0.72172,     0.72272,     0.72372,     0.72472,     0.72573,     0.72673,     0.72773,     0.72873,     0.72973,     0.73073,     0.73173,     0.73273,     0.73373,     0.73473,     0.73574,     0.73674,     0.73774,     0.73874,     0.73974,     0.74074,     0.74174,     0.74274,     0.74374,\n",
       "           0.74474,     0.74575,     0.74675,     0.74775,     0.74875,     0.74975,     0.75075,     0.75175,     0.75275,     0.75375,     0.75475,     0.75576,     0.75676,     0.75776,     0.75876,     0.75976,     0.76076,     0.76176,     0.76276,     0.76376,     0.76476,     0.76577,     0.76677,     0.76777,\n",
       "           0.76877,     0.76977,     0.77077,     0.77177,     0.77277,     0.77377,     0.77477,     0.77578,     0.77678,     0.77778,     0.77878,     0.77978,     0.78078,     0.78178,     0.78278,     0.78378,     0.78478,     0.78579,     0.78679,     0.78779,     0.78879,     0.78979,     0.79079,     0.79179,\n",
       "           0.79279,     0.79379,     0.79479,      0.7958,      0.7968,      0.7978,      0.7988,      0.7998,      0.8008,      0.8018,      0.8028,      0.8038,      0.8048,     0.80581,     0.80681,     0.80781,     0.80881,     0.80981,     0.81081,     0.81181,     0.81281,     0.81381,     0.81481,     0.81582,\n",
       "           0.81682,     0.81782,     0.81882,     0.81982,     0.82082,     0.82182,     0.82282,     0.82382,     0.82482,     0.82583,     0.82683,     0.82783,     0.82883,     0.82983,     0.83083,     0.83183,     0.83283,     0.83383,     0.83483,     0.83584,     0.83684,     0.83784,     0.83884,     0.83984,\n",
       "           0.84084,     0.84184,     0.84284,     0.84384,     0.84484,     0.84585,     0.84685,     0.84785,     0.84885,     0.84985,     0.85085,     0.85185,     0.85285,     0.85385,     0.85485,     0.85586,     0.85686,     0.85786,     0.85886,     0.85986,     0.86086,     0.86186,     0.86286,     0.86386,\n",
       "           0.86486,     0.86587,     0.86687,     0.86787,     0.86887,     0.86987,     0.87087,     0.87187,     0.87287,     0.87387,     0.87487,     0.87588,     0.87688,     0.87788,     0.87888,     0.87988,     0.88088,     0.88188,     0.88288,     0.88388,     0.88488,     0.88589,     0.88689,     0.88789,\n",
       "           0.88889,     0.88989,     0.89089,     0.89189,     0.89289,     0.89389,     0.89489,      0.8959,      0.8969,      0.8979,      0.8989,      0.8999,      0.9009,      0.9019,      0.9029,      0.9039,      0.9049,     0.90591,     0.90691,     0.90791,     0.90891,     0.90991,     0.91091,     0.91191,\n",
       "           0.91291,     0.91391,     0.91491,     0.91592,     0.91692,     0.91792,     0.91892,     0.91992,     0.92092,     0.92192,     0.92292,     0.92392,     0.92492,     0.92593,     0.92693,     0.92793,     0.92893,     0.92993,     0.93093,     0.93193,     0.93293,     0.93393,     0.93493,     0.93594,\n",
       "           0.93694,     0.93794,     0.93894,     0.93994,     0.94094,     0.94194,     0.94294,     0.94394,     0.94494,     0.94595,     0.94695,     0.94795,     0.94895,     0.94995,     0.95095,     0.95195,     0.95295,     0.95395,     0.95495,     0.95596,     0.95696,     0.95796,     0.95896,     0.95996,\n",
       "           0.96096,     0.96196,     0.96296,     0.96396,     0.96496,     0.96597,     0.96697,     0.96797,     0.96897,     0.96997,     0.97097,     0.97197,     0.97297,     0.97397,     0.97497,     0.97598,     0.97698,     0.97798,     0.97898,     0.97998,     0.98098,     0.98198,     0.98298,     0.98398,\n",
       "           0.98498,     0.98599,     0.98699,     0.98799,     0.98899,     0.98999,     0.99099,     0.99199,     0.99299,     0.99399,     0.99499,       0.996,       0.997,       0.998,       0.999,           1]), array([[          1,           1,           1, ...,           1,           1,           0],\n",
       "       [          1,           1,           1, ...,           1,           1,           0]]), 'Recall', 'Precision'], [array([          0,    0.001001,    0.002002,    0.003003,    0.004004,    0.005005,    0.006006,    0.007007,    0.008008,    0.009009,     0.01001,    0.011011,    0.012012,    0.013013,    0.014014,    0.015015,    0.016016,    0.017017,    0.018018,    0.019019,     0.02002,    0.021021,    0.022022,    0.023023,\n",
       "          0.024024,    0.025025,    0.026026,    0.027027,    0.028028,    0.029029,     0.03003,    0.031031,    0.032032,    0.033033,    0.034034,    0.035035,    0.036036,    0.037037,    0.038038,    0.039039,     0.04004,    0.041041,    0.042042,    0.043043,    0.044044,    0.045045,    0.046046,    0.047047,\n",
       "          0.048048,    0.049049,     0.05005,    0.051051,    0.052052,    0.053053,    0.054054,    0.055055,    0.056056,    0.057057,    0.058058,    0.059059,     0.06006,    0.061061,    0.062062,    0.063063,    0.064064,    0.065065,    0.066066,    0.067067,    0.068068,    0.069069,     0.07007,    0.071071,\n",
       "          0.072072,    0.073073,    0.074074,    0.075075,    0.076076,    0.077077,    0.078078,    0.079079,     0.08008,    0.081081,    0.082082,    0.083083,    0.084084,    0.085085,    0.086086,    0.087087,    0.088088,    0.089089,     0.09009,    0.091091,    0.092092,    0.093093,    0.094094,    0.095095,\n",
       "          0.096096,    0.097097,    0.098098,    0.099099,      0.1001,      0.1011,      0.1021,      0.1031,      0.1041,     0.10511,     0.10611,     0.10711,     0.10811,     0.10911,     0.11011,     0.11111,     0.11211,     0.11311,     0.11411,     0.11512,     0.11612,     0.11712,     0.11812,     0.11912,\n",
       "           0.12012,     0.12112,     0.12212,     0.12312,     0.12412,     0.12513,     0.12613,     0.12713,     0.12813,     0.12913,     0.13013,     0.13113,     0.13213,     0.13313,     0.13413,     0.13514,     0.13614,     0.13714,     0.13814,     0.13914,     0.14014,     0.14114,     0.14214,     0.14314,\n",
       "           0.14414,     0.14515,     0.14615,     0.14715,     0.14815,     0.14915,     0.15015,     0.15115,     0.15215,     0.15315,     0.15415,     0.15516,     0.15616,     0.15716,     0.15816,     0.15916,     0.16016,     0.16116,     0.16216,     0.16316,     0.16416,     0.16517,     0.16617,     0.16717,\n",
       "           0.16817,     0.16917,     0.17017,     0.17117,     0.17217,     0.17317,     0.17417,     0.17518,     0.17618,     0.17718,     0.17818,     0.17918,     0.18018,     0.18118,     0.18218,     0.18318,     0.18418,     0.18519,     0.18619,     0.18719,     0.18819,     0.18919,     0.19019,     0.19119,\n",
       "           0.19219,     0.19319,     0.19419,      0.1952,      0.1962,      0.1972,      0.1982,      0.1992,      0.2002,      0.2012,      0.2022,      0.2032,      0.2042,     0.20521,     0.20621,     0.20721,     0.20821,     0.20921,     0.21021,     0.21121,     0.21221,     0.21321,     0.21421,     0.21522,\n",
       "           0.21622,     0.21722,     0.21822,     0.21922,     0.22022,     0.22122,     0.22222,     0.22322,     0.22422,     0.22523,     0.22623,     0.22723,     0.22823,     0.22923,     0.23023,     0.23123,     0.23223,     0.23323,     0.23423,     0.23524,     0.23624,     0.23724,     0.23824,     0.23924,\n",
       "           0.24024,     0.24124,     0.24224,     0.24324,     0.24424,     0.24525,     0.24625,     0.24725,     0.24825,     0.24925,     0.25025,     0.25125,     0.25225,     0.25325,     0.25425,     0.25526,     0.25626,     0.25726,     0.25826,     0.25926,     0.26026,     0.26126,     0.26226,     0.26326,\n",
       "           0.26426,     0.26527,     0.26627,     0.26727,     0.26827,     0.26927,     0.27027,     0.27127,     0.27227,     0.27327,     0.27427,     0.27528,     0.27628,     0.27728,     0.27828,     0.27928,     0.28028,     0.28128,     0.28228,     0.28328,     0.28428,     0.28529,     0.28629,     0.28729,\n",
       "           0.28829,     0.28929,     0.29029,     0.29129,     0.29229,     0.29329,     0.29429,      0.2953,      0.2963,      0.2973,      0.2983,      0.2993,      0.3003,      0.3013,      0.3023,      0.3033,      0.3043,     0.30531,     0.30631,     0.30731,     0.30831,     0.30931,     0.31031,     0.31131,\n",
       "           0.31231,     0.31331,     0.31431,     0.31532,     0.31632,     0.31732,     0.31832,     0.31932,     0.32032,     0.32132,     0.32232,     0.32332,     0.32432,     0.32533,     0.32633,     0.32733,     0.32833,     0.32933,     0.33033,     0.33133,     0.33233,     0.33333,     0.33433,     0.33534,\n",
       "           0.33634,     0.33734,     0.33834,     0.33934,     0.34034,     0.34134,     0.34234,     0.34334,     0.34434,     0.34535,     0.34635,     0.34735,     0.34835,     0.34935,     0.35035,     0.35135,     0.35235,     0.35335,     0.35435,     0.35536,     0.35636,     0.35736,     0.35836,     0.35936,\n",
       "           0.36036,     0.36136,     0.36236,     0.36336,     0.36436,     0.36537,     0.36637,     0.36737,     0.36837,     0.36937,     0.37037,     0.37137,     0.37237,     0.37337,     0.37437,     0.37538,     0.37638,     0.37738,     0.37838,     0.37938,     0.38038,     0.38138,     0.38238,     0.38338,\n",
       "           0.38438,     0.38539,     0.38639,     0.38739,     0.38839,     0.38939,     0.39039,     0.39139,     0.39239,     0.39339,     0.39439,      0.3954,      0.3964,      0.3974,      0.3984,      0.3994,      0.4004,      0.4014,      0.4024,      0.4034,      0.4044,     0.40541,     0.40641,     0.40741,\n",
       "           0.40841,     0.40941,     0.41041,     0.41141,     0.41241,     0.41341,     0.41441,     0.41542,     0.41642,     0.41742,     0.41842,     0.41942,     0.42042,     0.42142,     0.42242,     0.42342,     0.42442,     0.42543,     0.42643,     0.42743,     0.42843,     0.42943,     0.43043,     0.43143,\n",
       "           0.43243,     0.43343,     0.43443,     0.43544,     0.43644,     0.43744,     0.43844,     0.43944,     0.44044,     0.44144,     0.44244,     0.44344,     0.44444,     0.44545,     0.44645,     0.44745,     0.44845,     0.44945,     0.45045,     0.45145,     0.45245,     0.45345,     0.45445,     0.45546,\n",
       "           0.45646,     0.45746,     0.45846,     0.45946,     0.46046,     0.46146,     0.46246,     0.46346,     0.46446,     0.46547,     0.46647,     0.46747,     0.46847,     0.46947,     0.47047,     0.47147,     0.47247,     0.47347,     0.47447,     0.47548,     0.47648,     0.47748,     0.47848,     0.47948,\n",
       "           0.48048,     0.48148,     0.48248,     0.48348,     0.48448,     0.48549,     0.48649,     0.48749,     0.48849,     0.48949,     0.49049,     0.49149,     0.49249,     0.49349,     0.49449,      0.4955,      0.4965,      0.4975,      0.4985,      0.4995,      0.5005,      0.5015,      0.5025,      0.5035,\n",
       "            0.5045,     0.50551,     0.50651,     0.50751,     0.50851,     0.50951,     0.51051,     0.51151,     0.51251,     0.51351,     0.51451,     0.51552,     0.51652,     0.51752,     0.51852,     0.51952,     0.52052,     0.52152,     0.52252,     0.52352,     0.52452,     0.52553,     0.52653,     0.52753,\n",
       "           0.52853,     0.52953,     0.53053,     0.53153,     0.53253,     0.53353,     0.53453,     0.53554,     0.53654,     0.53754,     0.53854,     0.53954,     0.54054,     0.54154,     0.54254,     0.54354,     0.54454,     0.54555,     0.54655,     0.54755,     0.54855,     0.54955,     0.55055,     0.55155,\n",
       "           0.55255,     0.55355,     0.55455,     0.55556,     0.55656,     0.55756,     0.55856,     0.55956,     0.56056,     0.56156,     0.56256,     0.56356,     0.56456,     0.56557,     0.56657,     0.56757,     0.56857,     0.56957,     0.57057,     0.57157,     0.57257,     0.57357,     0.57457,     0.57558,\n",
       "           0.57658,     0.57758,     0.57858,     0.57958,     0.58058,     0.58158,     0.58258,     0.58358,     0.58458,     0.58559,     0.58659,     0.58759,     0.58859,     0.58959,     0.59059,     0.59159,     0.59259,     0.59359,     0.59459,      0.5956,      0.5966,      0.5976,      0.5986,      0.5996,\n",
       "            0.6006,      0.6016,      0.6026,      0.6036,      0.6046,     0.60561,     0.60661,     0.60761,     0.60861,     0.60961,     0.61061,     0.61161,     0.61261,     0.61361,     0.61461,     0.61562,     0.61662,     0.61762,     0.61862,     0.61962,     0.62062,     0.62162,     0.62262,     0.62362,\n",
       "           0.62462,     0.62563,     0.62663,     0.62763,     0.62863,     0.62963,     0.63063,     0.63163,     0.63263,     0.63363,     0.63463,     0.63564,     0.63664,     0.63764,     0.63864,     0.63964,     0.64064,     0.64164,     0.64264,     0.64364,     0.64464,     0.64565,     0.64665,     0.64765,\n",
       "           0.64865,     0.64965,     0.65065,     0.65165,     0.65265,     0.65365,     0.65465,     0.65566,     0.65666,     0.65766,     0.65866,     0.65966,     0.66066,     0.66166,     0.66266,     0.66366,     0.66466,     0.66567,     0.66667,     0.66767,     0.66867,     0.66967,     0.67067,     0.67167,\n",
       "           0.67267,     0.67367,     0.67467,     0.67568,     0.67668,     0.67768,     0.67868,     0.67968,     0.68068,     0.68168,     0.68268,     0.68368,     0.68468,     0.68569,     0.68669,     0.68769,     0.68869,     0.68969,     0.69069,     0.69169,     0.69269,     0.69369,     0.69469,      0.6957,\n",
       "            0.6967,      0.6977,      0.6987,      0.6997,      0.7007,      0.7017,      0.7027,      0.7037,      0.7047,     0.70571,     0.70671,     0.70771,     0.70871,     0.70971,     0.71071,     0.71171,     0.71271,     0.71371,     0.71471,     0.71572,     0.71672,     0.71772,     0.71872,     0.71972,\n",
       "           0.72072,     0.72172,     0.72272,     0.72372,     0.72472,     0.72573,     0.72673,     0.72773,     0.72873,     0.72973,     0.73073,     0.73173,     0.73273,     0.73373,     0.73473,     0.73574,     0.73674,     0.73774,     0.73874,     0.73974,     0.74074,     0.74174,     0.74274,     0.74374,\n",
       "           0.74474,     0.74575,     0.74675,     0.74775,     0.74875,     0.74975,     0.75075,     0.75175,     0.75275,     0.75375,     0.75475,     0.75576,     0.75676,     0.75776,     0.75876,     0.75976,     0.76076,     0.76176,     0.76276,     0.76376,     0.76476,     0.76577,     0.76677,     0.76777,\n",
       "           0.76877,     0.76977,     0.77077,     0.77177,     0.77277,     0.77377,     0.77477,     0.77578,     0.77678,     0.77778,     0.77878,     0.77978,     0.78078,     0.78178,     0.78278,     0.78378,     0.78478,     0.78579,     0.78679,     0.78779,     0.78879,     0.78979,     0.79079,     0.79179,\n",
       "           0.79279,     0.79379,     0.79479,      0.7958,      0.7968,      0.7978,      0.7988,      0.7998,      0.8008,      0.8018,      0.8028,      0.8038,      0.8048,     0.80581,     0.80681,     0.80781,     0.80881,     0.80981,     0.81081,     0.81181,     0.81281,     0.81381,     0.81481,     0.81582,\n",
       "           0.81682,     0.81782,     0.81882,     0.81982,     0.82082,     0.82182,     0.82282,     0.82382,     0.82482,     0.82583,     0.82683,     0.82783,     0.82883,     0.82983,     0.83083,     0.83183,     0.83283,     0.83383,     0.83483,     0.83584,     0.83684,     0.83784,     0.83884,     0.83984,\n",
       "           0.84084,     0.84184,     0.84284,     0.84384,     0.84484,     0.84585,     0.84685,     0.84785,     0.84885,     0.84985,     0.85085,     0.85185,     0.85285,     0.85385,     0.85485,     0.85586,     0.85686,     0.85786,     0.85886,     0.85986,     0.86086,     0.86186,     0.86286,     0.86386,\n",
       "           0.86486,     0.86587,     0.86687,     0.86787,     0.86887,     0.86987,     0.87087,     0.87187,     0.87287,     0.87387,     0.87487,     0.87588,     0.87688,     0.87788,     0.87888,     0.87988,     0.88088,     0.88188,     0.88288,     0.88388,     0.88488,     0.88589,     0.88689,     0.88789,\n",
       "           0.88889,     0.88989,     0.89089,     0.89189,     0.89289,     0.89389,     0.89489,      0.8959,      0.8969,      0.8979,      0.8989,      0.8999,      0.9009,      0.9019,      0.9029,      0.9039,      0.9049,     0.90591,     0.90691,     0.90791,     0.90891,     0.90991,     0.91091,     0.91191,\n",
       "           0.91291,     0.91391,     0.91491,     0.91592,     0.91692,     0.91792,     0.91892,     0.91992,     0.92092,     0.92192,     0.92292,     0.92392,     0.92492,     0.92593,     0.92693,     0.92793,     0.92893,     0.92993,     0.93093,     0.93193,     0.93293,     0.93393,     0.93493,     0.93594,\n",
       "           0.93694,     0.93794,     0.93894,     0.93994,     0.94094,     0.94194,     0.94294,     0.94394,     0.94494,     0.94595,     0.94695,     0.94795,     0.94895,     0.94995,     0.95095,     0.95195,     0.95295,     0.95395,     0.95495,     0.95596,     0.95696,     0.95796,     0.95896,     0.95996,\n",
       "           0.96096,     0.96196,     0.96296,     0.96396,     0.96496,     0.96597,     0.96697,     0.96797,     0.96897,     0.96997,     0.97097,     0.97197,     0.97297,     0.97397,     0.97497,     0.97598,     0.97698,     0.97798,     0.97898,     0.97998,     0.98098,     0.98198,     0.98298,     0.98398,\n",
       "           0.98498,     0.98599,     0.98699,     0.98799,     0.98899,     0.98999,     0.99099,     0.99199,     0.99299,     0.99399,     0.99499,       0.996,       0.997,       0.998,       0.999,           1]), array([[          1,           1,           1, ...,           0,           0,           0],\n",
       "       [          1,           1,           1, ...,           0,           0,           0]]), 'Confidence', 'F1'], [array([          0,    0.001001,    0.002002,    0.003003,    0.004004,    0.005005,    0.006006,    0.007007,    0.008008,    0.009009,     0.01001,    0.011011,    0.012012,    0.013013,    0.014014,    0.015015,    0.016016,    0.017017,    0.018018,    0.019019,     0.02002,    0.021021,    0.022022,    0.023023,\n",
       "          0.024024,    0.025025,    0.026026,    0.027027,    0.028028,    0.029029,     0.03003,    0.031031,    0.032032,    0.033033,    0.034034,    0.035035,    0.036036,    0.037037,    0.038038,    0.039039,     0.04004,    0.041041,    0.042042,    0.043043,    0.044044,    0.045045,    0.046046,    0.047047,\n",
       "          0.048048,    0.049049,     0.05005,    0.051051,    0.052052,    0.053053,    0.054054,    0.055055,    0.056056,    0.057057,    0.058058,    0.059059,     0.06006,    0.061061,    0.062062,    0.063063,    0.064064,    0.065065,    0.066066,    0.067067,    0.068068,    0.069069,     0.07007,    0.071071,\n",
       "          0.072072,    0.073073,    0.074074,    0.075075,    0.076076,    0.077077,    0.078078,    0.079079,     0.08008,    0.081081,    0.082082,    0.083083,    0.084084,    0.085085,    0.086086,    0.087087,    0.088088,    0.089089,     0.09009,    0.091091,    0.092092,    0.093093,    0.094094,    0.095095,\n",
       "          0.096096,    0.097097,    0.098098,    0.099099,      0.1001,      0.1011,      0.1021,      0.1031,      0.1041,     0.10511,     0.10611,     0.10711,     0.10811,     0.10911,     0.11011,     0.11111,     0.11211,     0.11311,     0.11411,     0.11512,     0.11612,     0.11712,     0.11812,     0.11912,\n",
       "           0.12012,     0.12112,     0.12212,     0.12312,     0.12412,     0.12513,     0.12613,     0.12713,     0.12813,     0.12913,     0.13013,     0.13113,     0.13213,     0.13313,     0.13413,     0.13514,     0.13614,     0.13714,     0.13814,     0.13914,     0.14014,     0.14114,     0.14214,     0.14314,\n",
       "           0.14414,     0.14515,     0.14615,     0.14715,     0.14815,     0.14915,     0.15015,     0.15115,     0.15215,     0.15315,     0.15415,     0.15516,     0.15616,     0.15716,     0.15816,     0.15916,     0.16016,     0.16116,     0.16216,     0.16316,     0.16416,     0.16517,     0.16617,     0.16717,\n",
       "           0.16817,     0.16917,     0.17017,     0.17117,     0.17217,     0.17317,     0.17417,     0.17518,     0.17618,     0.17718,     0.17818,     0.17918,     0.18018,     0.18118,     0.18218,     0.18318,     0.18418,     0.18519,     0.18619,     0.18719,     0.18819,     0.18919,     0.19019,     0.19119,\n",
       "           0.19219,     0.19319,     0.19419,      0.1952,      0.1962,      0.1972,      0.1982,      0.1992,      0.2002,      0.2012,      0.2022,      0.2032,      0.2042,     0.20521,     0.20621,     0.20721,     0.20821,     0.20921,     0.21021,     0.21121,     0.21221,     0.21321,     0.21421,     0.21522,\n",
       "           0.21622,     0.21722,     0.21822,     0.21922,     0.22022,     0.22122,     0.22222,     0.22322,     0.22422,     0.22523,     0.22623,     0.22723,     0.22823,     0.22923,     0.23023,     0.23123,     0.23223,     0.23323,     0.23423,     0.23524,     0.23624,     0.23724,     0.23824,     0.23924,\n",
       "           0.24024,     0.24124,     0.24224,     0.24324,     0.24424,     0.24525,     0.24625,     0.24725,     0.24825,     0.24925,     0.25025,     0.25125,     0.25225,     0.25325,     0.25425,     0.25526,     0.25626,     0.25726,     0.25826,     0.25926,     0.26026,     0.26126,     0.26226,     0.26326,\n",
       "           0.26426,     0.26527,     0.26627,     0.26727,     0.26827,     0.26927,     0.27027,     0.27127,     0.27227,     0.27327,     0.27427,     0.27528,     0.27628,     0.27728,     0.27828,     0.27928,     0.28028,     0.28128,     0.28228,     0.28328,     0.28428,     0.28529,     0.28629,     0.28729,\n",
       "           0.28829,     0.28929,     0.29029,     0.29129,     0.29229,     0.29329,     0.29429,      0.2953,      0.2963,      0.2973,      0.2983,      0.2993,      0.3003,      0.3013,      0.3023,      0.3033,      0.3043,     0.30531,     0.30631,     0.30731,     0.30831,     0.30931,     0.31031,     0.31131,\n",
       "           0.31231,     0.31331,     0.31431,     0.31532,     0.31632,     0.31732,     0.31832,     0.31932,     0.32032,     0.32132,     0.32232,     0.32332,     0.32432,     0.32533,     0.32633,     0.32733,     0.32833,     0.32933,     0.33033,     0.33133,     0.33233,     0.33333,     0.33433,     0.33534,\n",
       "           0.33634,     0.33734,     0.33834,     0.33934,     0.34034,     0.34134,     0.34234,     0.34334,     0.34434,     0.34535,     0.34635,     0.34735,     0.34835,     0.34935,     0.35035,     0.35135,     0.35235,     0.35335,     0.35435,     0.35536,     0.35636,     0.35736,     0.35836,     0.35936,\n",
       "           0.36036,     0.36136,     0.36236,     0.36336,     0.36436,     0.36537,     0.36637,     0.36737,     0.36837,     0.36937,     0.37037,     0.37137,     0.37237,     0.37337,     0.37437,     0.37538,     0.37638,     0.37738,     0.37838,     0.37938,     0.38038,     0.38138,     0.38238,     0.38338,\n",
       "           0.38438,     0.38539,     0.38639,     0.38739,     0.38839,     0.38939,     0.39039,     0.39139,     0.39239,     0.39339,     0.39439,      0.3954,      0.3964,      0.3974,      0.3984,      0.3994,      0.4004,      0.4014,      0.4024,      0.4034,      0.4044,     0.40541,     0.40641,     0.40741,\n",
       "           0.40841,     0.40941,     0.41041,     0.41141,     0.41241,     0.41341,     0.41441,     0.41542,     0.41642,     0.41742,     0.41842,     0.41942,     0.42042,     0.42142,     0.42242,     0.42342,     0.42442,     0.42543,     0.42643,     0.42743,     0.42843,     0.42943,     0.43043,     0.43143,\n",
       "           0.43243,     0.43343,     0.43443,     0.43544,     0.43644,     0.43744,     0.43844,     0.43944,     0.44044,     0.44144,     0.44244,     0.44344,     0.44444,     0.44545,     0.44645,     0.44745,     0.44845,     0.44945,     0.45045,     0.45145,     0.45245,     0.45345,     0.45445,     0.45546,\n",
       "           0.45646,     0.45746,     0.45846,     0.45946,     0.46046,     0.46146,     0.46246,     0.46346,     0.46446,     0.46547,     0.46647,     0.46747,     0.46847,     0.46947,     0.47047,     0.47147,     0.47247,     0.47347,     0.47447,     0.47548,     0.47648,     0.47748,     0.47848,     0.47948,\n",
       "           0.48048,     0.48148,     0.48248,     0.48348,     0.48448,     0.48549,     0.48649,     0.48749,     0.48849,     0.48949,     0.49049,     0.49149,     0.49249,     0.49349,     0.49449,      0.4955,      0.4965,      0.4975,      0.4985,      0.4995,      0.5005,      0.5015,      0.5025,      0.5035,\n",
       "            0.5045,     0.50551,     0.50651,     0.50751,     0.50851,     0.50951,     0.51051,     0.51151,     0.51251,     0.51351,     0.51451,     0.51552,     0.51652,     0.51752,     0.51852,     0.51952,     0.52052,     0.52152,     0.52252,     0.52352,     0.52452,     0.52553,     0.52653,     0.52753,\n",
       "           0.52853,     0.52953,     0.53053,     0.53153,     0.53253,     0.53353,     0.53453,     0.53554,     0.53654,     0.53754,     0.53854,     0.53954,     0.54054,     0.54154,     0.54254,     0.54354,     0.54454,     0.54555,     0.54655,     0.54755,     0.54855,     0.54955,     0.55055,     0.55155,\n",
       "           0.55255,     0.55355,     0.55455,     0.55556,     0.55656,     0.55756,     0.55856,     0.55956,     0.56056,     0.56156,     0.56256,     0.56356,     0.56456,     0.56557,     0.56657,     0.56757,     0.56857,     0.56957,     0.57057,     0.57157,     0.57257,     0.57357,     0.57457,     0.57558,\n",
       "           0.57658,     0.57758,     0.57858,     0.57958,     0.58058,     0.58158,     0.58258,     0.58358,     0.58458,     0.58559,     0.58659,     0.58759,     0.58859,     0.58959,     0.59059,     0.59159,     0.59259,     0.59359,     0.59459,      0.5956,      0.5966,      0.5976,      0.5986,      0.5996,\n",
       "            0.6006,      0.6016,      0.6026,      0.6036,      0.6046,     0.60561,     0.60661,     0.60761,     0.60861,     0.60961,     0.61061,     0.61161,     0.61261,     0.61361,     0.61461,     0.61562,     0.61662,     0.61762,     0.61862,     0.61962,     0.62062,     0.62162,     0.62262,     0.62362,\n",
       "           0.62462,     0.62563,     0.62663,     0.62763,     0.62863,     0.62963,     0.63063,     0.63163,     0.63263,     0.63363,     0.63463,     0.63564,     0.63664,     0.63764,     0.63864,     0.63964,     0.64064,     0.64164,     0.64264,     0.64364,     0.64464,     0.64565,     0.64665,     0.64765,\n",
       "           0.64865,     0.64965,     0.65065,     0.65165,     0.65265,     0.65365,     0.65465,     0.65566,     0.65666,     0.65766,     0.65866,     0.65966,     0.66066,     0.66166,     0.66266,     0.66366,     0.66466,     0.66567,     0.66667,     0.66767,     0.66867,     0.66967,     0.67067,     0.67167,\n",
       "           0.67267,     0.67367,     0.67467,     0.67568,     0.67668,     0.67768,     0.67868,     0.67968,     0.68068,     0.68168,     0.68268,     0.68368,     0.68468,     0.68569,     0.68669,     0.68769,     0.68869,     0.68969,     0.69069,     0.69169,     0.69269,     0.69369,     0.69469,      0.6957,\n",
       "            0.6967,      0.6977,      0.6987,      0.6997,      0.7007,      0.7017,      0.7027,      0.7037,      0.7047,     0.70571,     0.70671,     0.70771,     0.70871,     0.70971,     0.71071,     0.71171,     0.71271,     0.71371,     0.71471,     0.71572,     0.71672,     0.71772,     0.71872,     0.71972,\n",
       "           0.72072,     0.72172,     0.72272,     0.72372,     0.72472,     0.72573,     0.72673,     0.72773,     0.72873,     0.72973,     0.73073,     0.73173,     0.73273,     0.73373,     0.73473,     0.73574,     0.73674,     0.73774,     0.73874,     0.73974,     0.74074,     0.74174,     0.74274,     0.74374,\n",
       "           0.74474,     0.74575,     0.74675,     0.74775,     0.74875,     0.74975,     0.75075,     0.75175,     0.75275,     0.75375,     0.75475,     0.75576,     0.75676,     0.75776,     0.75876,     0.75976,     0.76076,     0.76176,     0.76276,     0.76376,     0.76476,     0.76577,     0.76677,     0.76777,\n",
       "           0.76877,     0.76977,     0.77077,     0.77177,     0.77277,     0.77377,     0.77477,     0.77578,     0.77678,     0.77778,     0.77878,     0.77978,     0.78078,     0.78178,     0.78278,     0.78378,     0.78478,     0.78579,     0.78679,     0.78779,     0.78879,     0.78979,     0.79079,     0.79179,\n",
       "           0.79279,     0.79379,     0.79479,      0.7958,      0.7968,      0.7978,      0.7988,      0.7998,      0.8008,      0.8018,      0.8028,      0.8038,      0.8048,     0.80581,     0.80681,     0.80781,     0.80881,     0.80981,     0.81081,     0.81181,     0.81281,     0.81381,     0.81481,     0.81582,\n",
       "           0.81682,     0.81782,     0.81882,     0.81982,     0.82082,     0.82182,     0.82282,     0.82382,     0.82482,     0.82583,     0.82683,     0.82783,     0.82883,     0.82983,     0.83083,     0.83183,     0.83283,     0.83383,     0.83483,     0.83584,     0.83684,     0.83784,     0.83884,     0.83984,\n",
       "           0.84084,     0.84184,     0.84284,     0.84384,     0.84484,     0.84585,     0.84685,     0.84785,     0.84885,     0.84985,     0.85085,     0.85185,     0.85285,     0.85385,     0.85485,     0.85586,     0.85686,     0.85786,     0.85886,     0.85986,     0.86086,     0.86186,     0.86286,     0.86386,\n",
       "           0.86486,     0.86587,     0.86687,     0.86787,     0.86887,     0.86987,     0.87087,     0.87187,     0.87287,     0.87387,     0.87487,     0.87588,     0.87688,     0.87788,     0.87888,     0.87988,     0.88088,     0.88188,     0.88288,     0.88388,     0.88488,     0.88589,     0.88689,     0.88789,\n",
       "           0.88889,     0.88989,     0.89089,     0.89189,     0.89289,     0.89389,     0.89489,      0.8959,      0.8969,      0.8979,      0.8989,      0.8999,      0.9009,      0.9019,      0.9029,      0.9039,      0.9049,     0.90591,     0.90691,     0.90791,     0.90891,     0.90991,     0.91091,     0.91191,\n",
       "           0.91291,     0.91391,     0.91491,     0.91592,     0.91692,     0.91792,     0.91892,     0.91992,     0.92092,     0.92192,     0.92292,     0.92392,     0.92492,     0.92593,     0.92693,     0.92793,     0.92893,     0.92993,     0.93093,     0.93193,     0.93293,     0.93393,     0.93493,     0.93594,\n",
       "           0.93694,     0.93794,     0.93894,     0.93994,     0.94094,     0.94194,     0.94294,     0.94394,     0.94494,     0.94595,     0.94695,     0.94795,     0.94895,     0.94995,     0.95095,     0.95195,     0.95295,     0.95395,     0.95495,     0.95596,     0.95696,     0.95796,     0.95896,     0.95996,\n",
       "           0.96096,     0.96196,     0.96296,     0.96396,     0.96496,     0.96597,     0.96697,     0.96797,     0.96897,     0.96997,     0.97097,     0.97197,     0.97297,     0.97397,     0.97497,     0.97598,     0.97698,     0.97798,     0.97898,     0.97998,     0.98098,     0.98198,     0.98298,     0.98398,\n",
       "           0.98498,     0.98599,     0.98699,     0.98799,     0.98899,     0.98999,     0.99099,     0.99199,     0.99299,     0.99399,     0.99499,       0.996,       0.997,       0.998,       0.999,           1]), array([[          1,           1,           1, ...,           1,           1,           1],\n",
       "       [          1,           1,           1, ...,           1,           1,           1]]), 'Confidence', 'Precision'], [array([          0,    0.001001,    0.002002,    0.003003,    0.004004,    0.005005,    0.006006,    0.007007,    0.008008,    0.009009,     0.01001,    0.011011,    0.012012,    0.013013,    0.014014,    0.015015,    0.016016,    0.017017,    0.018018,    0.019019,     0.02002,    0.021021,    0.022022,    0.023023,\n",
       "          0.024024,    0.025025,    0.026026,    0.027027,    0.028028,    0.029029,     0.03003,    0.031031,    0.032032,    0.033033,    0.034034,    0.035035,    0.036036,    0.037037,    0.038038,    0.039039,     0.04004,    0.041041,    0.042042,    0.043043,    0.044044,    0.045045,    0.046046,    0.047047,\n",
       "          0.048048,    0.049049,     0.05005,    0.051051,    0.052052,    0.053053,    0.054054,    0.055055,    0.056056,    0.057057,    0.058058,    0.059059,     0.06006,    0.061061,    0.062062,    0.063063,    0.064064,    0.065065,    0.066066,    0.067067,    0.068068,    0.069069,     0.07007,    0.071071,\n",
       "          0.072072,    0.073073,    0.074074,    0.075075,    0.076076,    0.077077,    0.078078,    0.079079,     0.08008,    0.081081,    0.082082,    0.083083,    0.084084,    0.085085,    0.086086,    0.087087,    0.088088,    0.089089,     0.09009,    0.091091,    0.092092,    0.093093,    0.094094,    0.095095,\n",
       "          0.096096,    0.097097,    0.098098,    0.099099,      0.1001,      0.1011,      0.1021,      0.1031,      0.1041,     0.10511,     0.10611,     0.10711,     0.10811,     0.10911,     0.11011,     0.11111,     0.11211,     0.11311,     0.11411,     0.11512,     0.11612,     0.11712,     0.11812,     0.11912,\n",
       "           0.12012,     0.12112,     0.12212,     0.12312,     0.12412,     0.12513,     0.12613,     0.12713,     0.12813,     0.12913,     0.13013,     0.13113,     0.13213,     0.13313,     0.13413,     0.13514,     0.13614,     0.13714,     0.13814,     0.13914,     0.14014,     0.14114,     0.14214,     0.14314,\n",
       "           0.14414,     0.14515,     0.14615,     0.14715,     0.14815,     0.14915,     0.15015,     0.15115,     0.15215,     0.15315,     0.15415,     0.15516,     0.15616,     0.15716,     0.15816,     0.15916,     0.16016,     0.16116,     0.16216,     0.16316,     0.16416,     0.16517,     0.16617,     0.16717,\n",
       "           0.16817,     0.16917,     0.17017,     0.17117,     0.17217,     0.17317,     0.17417,     0.17518,     0.17618,     0.17718,     0.17818,     0.17918,     0.18018,     0.18118,     0.18218,     0.18318,     0.18418,     0.18519,     0.18619,     0.18719,     0.18819,     0.18919,     0.19019,     0.19119,\n",
       "           0.19219,     0.19319,     0.19419,      0.1952,      0.1962,      0.1972,      0.1982,      0.1992,      0.2002,      0.2012,      0.2022,      0.2032,      0.2042,     0.20521,     0.20621,     0.20721,     0.20821,     0.20921,     0.21021,     0.21121,     0.21221,     0.21321,     0.21421,     0.21522,\n",
       "           0.21622,     0.21722,     0.21822,     0.21922,     0.22022,     0.22122,     0.22222,     0.22322,     0.22422,     0.22523,     0.22623,     0.22723,     0.22823,     0.22923,     0.23023,     0.23123,     0.23223,     0.23323,     0.23423,     0.23524,     0.23624,     0.23724,     0.23824,     0.23924,\n",
       "           0.24024,     0.24124,     0.24224,     0.24324,     0.24424,     0.24525,     0.24625,     0.24725,     0.24825,     0.24925,     0.25025,     0.25125,     0.25225,     0.25325,     0.25425,     0.25526,     0.25626,     0.25726,     0.25826,     0.25926,     0.26026,     0.26126,     0.26226,     0.26326,\n",
       "           0.26426,     0.26527,     0.26627,     0.26727,     0.26827,     0.26927,     0.27027,     0.27127,     0.27227,     0.27327,     0.27427,     0.27528,     0.27628,     0.27728,     0.27828,     0.27928,     0.28028,     0.28128,     0.28228,     0.28328,     0.28428,     0.28529,     0.28629,     0.28729,\n",
       "           0.28829,     0.28929,     0.29029,     0.29129,     0.29229,     0.29329,     0.29429,      0.2953,      0.2963,      0.2973,      0.2983,      0.2993,      0.3003,      0.3013,      0.3023,      0.3033,      0.3043,     0.30531,     0.30631,     0.30731,     0.30831,     0.30931,     0.31031,     0.31131,\n",
       "           0.31231,     0.31331,     0.31431,     0.31532,     0.31632,     0.31732,     0.31832,     0.31932,     0.32032,     0.32132,     0.32232,     0.32332,     0.32432,     0.32533,     0.32633,     0.32733,     0.32833,     0.32933,     0.33033,     0.33133,     0.33233,     0.33333,     0.33433,     0.33534,\n",
       "           0.33634,     0.33734,     0.33834,     0.33934,     0.34034,     0.34134,     0.34234,     0.34334,     0.34434,     0.34535,     0.34635,     0.34735,     0.34835,     0.34935,     0.35035,     0.35135,     0.35235,     0.35335,     0.35435,     0.35536,     0.35636,     0.35736,     0.35836,     0.35936,\n",
       "           0.36036,     0.36136,     0.36236,     0.36336,     0.36436,     0.36537,     0.36637,     0.36737,     0.36837,     0.36937,     0.37037,     0.37137,     0.37237,     0.37337,     0.37437,     0.37538,     0.37638,     0.37738,     0.37838,     0.37938,     0.38038,     0.38138,     0.38238,     0.38338,\n",
       "           0.38438,     0.38539,     0.38639,     0.38739,     0.38839,     0.38939,     0.39039,     0.39139,     0.39239,     0.39339,     0.39439,      0.3954,      0.3964,      0.3974,      0.3984,      0.3994,      0.4004,      0.4014,      0.4024,      0.4034,      0.4044,     0.40541,     0.40641,     0.40741,\n",
       "           0.40841,     0.40941,     0.41041,     0.41141,     0.41241,     0.41341,     0.41441,     0.41542,     0.41642,     0.41742,     0.41842,     0.41942,     0.42042,     0.42142,     0.42242,     0.42342,     0.42442,     0.42543,     0.42643,     0.42743,     0.42843,     0.42943,     0.43043,     0.43143,\n",
       "           0.43243,     0.43343,     0.43443,     0.43544,     0.43644,     0.43744,     0.43844,     0.43944,     0.44044,     0.44144,     0.44244,     0.44344,     0.44444,     0.44545,     0.44645,     0.44745,     0.44845,     0.44945,     0.45045,     0.45145,     0.45245,     0.45345,     0.45445,     0.45546,\n",
       "           0.45646,     0.45746,     0.45846,     0.45946,     0.46046,     0.46146,     0.46246,     0.46346,     0.46446,     0.46547,     0.46647,     0.46747,     0.46847,     0.46947,     0.47047,     0.47147,     0.47247,     0.47347,     0.47447,     0.47548,     0.47648,     0.47748,     0.47848,     0.47948,\n",
       "           0.48048,     0.48148,     0.48248,     0.48348,     0.48448,     0.48549,     0.48649,     0.48749,     0.48849,     0.48949,     0.49049,     0.49149,     0.49249,     0.49349,     0.49449,      0.4955,      0.4965,      0.4975,      0.4985,      0.4995,      0.5005,      0.5015,      0.5025,      0.5035,\n",
       "            0.5045,     0.50551,     0.50651,     0.50751,     0.50851,     0.50951,     0.51051,     0.51151,     0.51251,     0.51351,     0.51451,     0.51552,     0.51652,     0.51752,     0.51852,     0.51952,     0.52052,     0.52152,     0.52252,     0.52352,     0.52452,     0.52553,     0.52653,     0.52753,\n",
       "           0.52853,     0.52953,     0.53053,     0.53153,     0.53253,     0.53353,     0.53453,     0.53554,     0.53654,     0.53754,     0.53854,     0.53954,     0.54054,     0.54154,     0.54254,     0.54354,     0.54454,     0.54555,     0.54655,     0.54755,     0.54855,     0.54955,     0.55055,     0.55155,\n",
       "           0.55255,     0.55355,     0.55455,     0.55556,     0.55656,     0.55756,     0.55856,     0.55956,     0.56056,     0.56156,     0.56256,     0.56356,     0.56456,     0.56557,     0.56657,     0.56757,     0.56857,     0.56957,     0.57057,     0.57157,     0.57257,     0.57357,     0.57457,     0.57558,\n",
       "           0.57658,     0.57758,     0.57858,     0.57958,     0.58058,     0.58158,     0.58258,     0.58358,     0.58458,     0.58559,     0.58659,     0.58759,     0.58859,     0.58959,     0.59059,     0.59159,     0.59259,     0.59359,     0.59459,      0.5956,      0.5966,      0.5976,      0.5986,      0.5996,\n",
       "            0.6006,      0.6016,      0.6026,      0.6036,      0.6046,     0.60561,     0.60661,     0.60761,     0.60861,     0.60961,     0.61061,     0.61161,     0.61261,     0.61361,     0.61461,     0.61562,     0.61662,     0.61762,     0.61862,     0.61962,     0.62062,     0.62162,     0.62262,     0.62362,\n",
       "           0.62462,     0.62563,     0.62663,     0.62763,     0.62863,     0.62963,     0.63063,     0.63163,     0.63263,     0.63363,     0.63463,     0.63564,     0.63664,     0.63764,     0.63864,     0.63964,     0.64064,     0.64164,     0.64264,     0.64364,     0.64464,     0.64565,     0.64665,     0.64765,\n",
       "           0.64865,     0.64965,     0.65065,     0.65165,     0.65265,     0.65365,     0.65465,     0.65566,     0.65666,     0.65766,     0.65866,     0.65966,     0.66066,     0.66166,     0.66266,     0.66366,     0.66466,     0.66567,     0.66667,     0.66767,     0.66867,     0.66967,     0.67067,     0.67167,\n",
       "           0.67267,     0.67367,     0.67467,     0.67568,     0.67668,     0.67768,     0.67868,     0.67968,     0.68068,     0.68168,     0.68268,     0.68368,     0.68468,     0.68569,     0.68669,     0.68769,     0.68869,     0.68969,     0.69069,     0.69169,     0.69269,     0.69369,     0.69469,      0.6957,\n",
       "            0.6967,      0.6977,      0.6987,      0.6997,      0.7007,      0.7017,      0.7027,      0.7037,      0.7047,     0.70571,     0.70671,     0.70771,     0.70871,     0.70971,     0.71071,     0.71171,     0.71271,     0.71371,     0.71471,     0.71572,     0.71672,     0.71772,     0.71872,     0.71972,\n",
       "           0.72072,     0.72172,     0.72272,     0.72372,     0.72472,     0.72573,     0.72673,     0.72773,     0.72873,     0.72973,     0.73073,     0.73173,     0.73273,     0.73373,     0.73473,     0.73574,     0.73674,     0.73774,     0.73874,     0.73974,     0.74074,     0.74174,     0.74274,     0.74374,\n",
       "           0.74474,     0.74575,     0.74675,     0.74775,     0.74875,     0.74975,     0.75075,     0.75175,     0.75275,     0.75375,     0.75475,     0.75576,     0.75676,     0.75776,     0.75876,     0.75976,     0.76076,     0.76176,     0.76276,     0.76376,     0.76476,     0.76577,     0.76677,     0.76777,\n",
       "           0.76877,     0.76977,     0.77077,     0.77177,     0.77277,     0.77377,     0.77477,     0.77578,     0.77678,     0.77778,     0.77878,     0.77978,     0.78078,     0.78178,     0.78278,     0.78378,     0.78478,     0.78579,     0.78679,     0.78779,     0.78879,     0.78979,     0.79079,     0.79179,\n",
       "           0.79279,     0.79379,     0.79479,      0.7958,      0.7968,      0.7978,      0.7988,      0.7998,      0.8008,      0.8018,      0.8028,      0.8038,      0.8048,     0.80581,     0.80681,     0.80781,     0.80881,     0.80981,     0.81081,     0.81181,     0.81281,     0.81381,     0.81481,     0.81582,\n",
       "           0.81682,     0.81782,     0.81882,     0.81982,     0.82082,     0.82182,     0.82282,     0.82382,     0.82482,     0.82583,     0.82683,     0.82783,     0.82883,     0.82983,     0.83083,     0.83183,     0.83283,     0.83383,     0.83483,     0.83584,     0.83684,     0.83784,     0.83884,     0.83984,\n",
       "           0.84084,     0.84184,     0.84284,     0.84384,     0.84484,     0.84585,     0.84685,     0.84785,     0.84885,     0.84985,     0.85085,     0.85185,     0.85285,     0.85385,     0.85485,     0.85586,     0.85686,     0.85786,     0.85886,     0.85986,     0.86086,     0.86186,     0.86286,     0.86386,\n",
       "           0.86486,     0.86587,     0.86687,     0.86787,     0.86887,     0.86987,     0.87087,     0.87187,     0.87287,     0.87387,     0.87487,     0.87588,     0.87688,     0.87788,     0.87888,     0.87988,     0.88088,     0.88188,     0.88288,     0.88388,     0.88488,     0.88589,     0.88689,     0.88789,\n",
       "           0.88889,     0.88989,     0.89089,     0.89189,     0.89289,     0.89389,     0.89489,      0.8959,      0.8969,      0.8979,      0.8989,      0.8999,      0.9009,      0.9019,      0.9029,      0.9039,      0.9049,     0.90591,     0.90691,     0.90791,     0.90891,     0.90991,     0.91091,     0.91191,\n",
       "           0.91291,     0.91391,     0.91491,     0.91592,     0.91692,     0.91792,     0.91892,     0.91992,     0.92092,     0.92192,     0.92292,     0.92392,     0.92492,     0.92593,     0.92693,     0.92793,     0.92893,     0.92993,     0.93093,     0.93193,     0.93293,     0.93393,     0.93493,     0.93594,\n",
       "           0.93694,     0.93794,     0.93894,     0.93994,     0.94094,     0.94194,     0.94294,     0.94394,     0.94494,     0.94595,     0.94695,     0.94795,     0.94895,     0.94995,     0.95095,     0.95195,     0.95295,     0.95395,     0.95495,     0.95596,     0.95696,     0.95796,     0.95896,     0.95996,\n",
       "           0.96096,     0.96196,     0.96296,     0.96396,     0.96496,     0.96597,     0.96697,     0.96797,     0.96897,     0.96997,     0.97097,     0.97197,     0.97297,     0.97397,     0.97497,     0.97598,     0.97698,     0.97798,     0.97898,     0.97998,     0.98098,     0.98198,     0.98298,     0.98398,\n",
       "           0.98498,     0.98599,     0.98699,     0.98799,     0.98899,     0.98999,     0.99099,     0.99199,     0.99299,     0.99399,     0.99499,       0.996,       0.997,       0.998,       0.999,           1]), array([[          1,           1,           1, ...,           0,           0,           0],\n",
       "       [          1,           1,           1, ...,           0,           0,           0]]), 'Confidence', 'Recall']]\n",
       "fitness: np.float64(0.9950000000000001)\n",
       "keys: ['metrics/precision(B)', 'metrics/recall(B)', 'metrics/mAP50(B)', 'metrics/mAP50-95(B)']\n",
       "maps: array([      0.995,       0.995])\n",
       "names: {0: 'image', 1: 'id'}\n",
       "plot: True\n",
       "results_dict: {'metrics/precision(B)': np.float64(1.0), 'metrics/recall(B)': np.float64(1.0), 'metrics/mAP50(B)': np.float64(0.995), 'metrics/mAP50-95(B)': np.float64(0.9950000000000001), 'fitness': np.float64(0.9950000000000001)}\n",
       "save_dir: PosixPath('runs/detect/split_image_id_model')\n",
       "speed: {'preprocess': 0.036381062509462936, 'inference': 1.6395222754090355, 'loss': 0.0009917882956263688, 'postprocess': 1.0022523204315803}\n",
       "task: 'detect'"
      ]
     },
     "execution_count": 8,
     "metadata": {},
     "output_type": "execute_result"
    }
   ],
   "source": [
    "from ultralytics import YOLO\n",
    "\n",
    "model = YOLO('yolo11x.pt')\n",
    "\n",
    "model.train(\n",
    "    data='split_image_id.yaml',\n",
    "    epochs=100,\n",
    "    imgsz=320,\n",
    "    batch=8,\n",
    "    name='split_image_id_model'\n",
    ")"
   ]
  },
  {
   "cell_type": "code",
   "execution_count": 21,
   "id": "3dd723ee",
   "metadata": {},
   "outputs": [
    {
     "name": "stdout",
     "output_type": "stream",
     "text": [
      "\n",
      "image 1/1 /repos/uni-si/R2S4/DNN/End_project/images/test_v2_yolo2/card_1_entry_0.jpg: 320x288 1 image, 1 id, 14.2ms\n",
      "Speed: 0.6ms preprocess, 14.2ms inference, 1.1ms postprocess per image at shape (1, 3, 320, 288)\n",
      "Results saved to \u001b[1mruns/detect/predict4\u001b[0m\n"
     ]
    }
   ],
   "source": [
    "from ultralytics import YOLO\n",
    "\n",
    "# Załaduj wytrenowany model\n",
    "model = YOLO('runs/detect/split_image_id_model/weights/best.pt')\n",
    "\n",
    "# Uruchom inferencję na folderze testowym\n",
    "results = model.predict(\n",
    "    source='images/test_v2_yolo2/card_1_entry_0.jpg',\n",
    "    save=True,\n",
    "    conf=0.25,\n",
    "    imgsz=320\n",
    ")"
   ]
  },
  {
   "cell_type": "code",
   "execution_count": 25,
   "id": "d9b50093",
   "metadata": {},
   "outputs": [
    {
     "name": "stdout",
     "output_type": "stream",
     "text": [
      "New https://pypi.org/project/ultralytics/8.3.146 available 😃 Update with 'pip install -U ultralytics'\n",
      "Ultralytics 8.3.144 🚀 Python-3.11.9 torch-2.6.0+cu124 CUDA:0 (NVIDIA GeForce RTX 4070 Ti SUPER, 16376MiB)\n",
      "\u001b[34m\u001b[1mengine/trainer: \u001b[0magnostic_nms=False, amp=True, augment=False, auto_augment=randaugment, batch=8, bgr=0.0, box=7.5, cache=False, cfg=None, classes=None, close_mosaic=10, cls=0.5, conf=None, copy_paste=0.0, copy_paste_mode=flip, cos_lr=False, cutmix=0.0, data=image_rotation.yaml, degrees=0.0, deterministic=True, device=None, dfl=1.5, dnn=False, dropout=0.0, dynamic=False, embed=None, epochs=100, erasing=0.4, exist_ok=False, fliplr=0.5, flipud=0.0, format=torchscript, fraction=1.0, freeze=None, half=False, hsv_h=0.015, hsv_s=0.7, hsv_v=0.4, imgsz=320, int8=False, iou=0.7, keras=False, kobj=1.0, line_width=None, lr0=0.01, lrf=0.01, mask_ratio=4, max_det=300, mixup=0.0, mode=train, model=yolo11x-pose.pt, momentum=0.937, mosaic=1.0, multi_scale=False, name=image_rotation_model, nbs=64, nms=False, opset=None, optimize=False, optimizer=auto, overlap_mask=True, patience=100, perspective=0.0, plots=True, pose=12.0, pretrained=True, profile=False, project=None, rect=False, resume=False, retina_masks=False, save=True, save_conf=False, save_crop=False, save_dir=runs/pose/image_rotation_model, save_frames=False, save_json=False, save_period=-1, save_txt=False, scale=0.5, seed=0, shear=0.0, show=False, show_boxes=True, show_conf=True, show_labels=True, simplify=True, single_cls=False, source=None, split=val, stream_buffer=False, task=pose, time=None, tracker=botsort.yaml, translate=0.1, val=True, verbose=True, vid_stride=1, visualize=False, warmup_bias_lr=0.1, warmup_epochs=3.0, warmup_momentum=0.8, weight_decay=0.0005, workers=8, workspace=None\n",
      "Overriding model.yaml kpt_shape=[17, 3] with kpt_shape=[4, 3]\n",
      "Overriding model.yaml nc=80 with nc=1\n",
      "\n",
      "                   from  n    params  module                                       arguments                     \n",
      "  0                  -1  1      2784  ultralytics.nn.modules.conv.Conv             [3, 96, 3, 2]                 \n",
      "  1                  -1  1    166272  ultralytics.nn.modules.conv.Conv             [96, 192, 3, 2]               \n",
      "  2                  -1  2    389760  ultralytics.nn.modules.block.C3k2            [192, 384, 2, True, 0.25]     \n",
      "  3                  -1  1   1327872  ultralytics.nn.modules.conv.Conv             [384, 384, 3, 2]              \n",
      "  4                  -1  2   1553664  ultralytics.nn.modules.block.C3k2            [384, 768, 2, True, 0.25]     \n",
      "  5                  -1  1   5309952  ultralytics.nn.modules.conv.Conv             [768, 768, 3, 2]              \n",
      "  6                  -1  2   5022720  ultralytics.nn.modules.block.C3k2            [768, 768, 2, True]           \n",
      "  7                  -1  1   5309952  ultralytics.nn.modules.conv.Conv             [768, 768, 3, 2]              \n",
      "  8                  -1  2   5022720  ultralytics.nn.modules.block.C3k2            [768, 768, 2, True]           \n",
      "  9                  -1  1   1476864  ultralytics.nn.modules.block.SPPF            [768, 768, 5]                 \n",
      " 10                  -1  2   3264768  ultralytics.nn.modules.block.C2PSA           [768, 768, 2]                 \n",
      " 11                  -1  1         0  torch.nn.modules.upsampling.Upsample         [None, 2, 'nearest']          \n",
      " 12             [-1, 6]  1         0  ultralytics.nn.modules.conv.Concat           [1]                           \n",
      " 13                  -1  2   5612544  ultralytics.nn.modules.block.C3k2            [1536, 768, 2, True]          \n",
      " 14                  -1  1         0  torch.nn.modules.upsampling.Upsample         [None, 2, 'nearest']          \n",
      " 15             [-1, 4]  1         0  ultralytics.nn.modules.conv.Concat           [1]                           \n",
      " 16                  -1  2   1700352  ultralytics.nn.modules.block.C3k2            [1536, 384, 2, True]          \n",
      " 17                  -1  1   1327872  ultralytics.nn.modules.conv.Conv             [384, 384, 3, 2]              \n",
      " 18            [-1, 13]  1         0  ultralytics.nn.modules.conv.Concat           [1]                           \n",
      " 19                  -1  2   5317632  ultralytics.nn.modules.block.C3k2            [1152, 768, 2, True]          \n",
      " 20                  -1  1   5309952  ultralytics.nn.modules.conv.Conv             [768, 768, 3, 2]              \n",
      " 21            [-1, 10]  1         0  ultralytics.nn.modules.conv.Concat           [1]                           \n",
      " 22                  -1  2   5612544  ultralytics.nn.modules.block.C3k2            [1536, 768, 2, True]          \n",
      " 23        [16, 19, 22]  1   5059063  ultralytics.nn.modules.head.Pose             [1, [4, 3], [384, 768, 768]]  \n",
      "YOLO11x-pose summary: 372 layers, 58,787,287 parameters, 58,787,271 gradients, 203.8 GFLOPs\n",
      "\n",
      "Transferred 1051/1057 items from pretrained weights\n",
      "Freezing layer 'model.23.dfl.conv.weight'\n",
      "\u001b[34m\u001b[1mAMP: \u001b[0mrunning Automatic Mixed Precision (AMP) checks...\n",
      "\u001b[34m\u001b[1mAMP: \u001b[0mchecks passed ✅\n",
      "\u001b[34m\u001b[1mtrain: \u001b[0mFast image access ✅ (ping: 0.0±0.0 ms, read: 1006.0±267.9 MB/s, size: 20.6 KB)\n"
     ]
    },
    {
     "name": "stderr",
     "output_type": "stream",
     "text": [
      "\u001b[34m\u001b[1mtrain: \u001b[0mScanning /repos/uni-si/R2S4/DNN/End_project/labels/train_v3... 2500 images, 0 backgrounds, 0 corrupt: 100%|██████████| 2500/2500 [00:02<00:00, 1039.98it/s]"
     ]
    },
    {
     "name": "stdout",
     "output_type": "stream",
     "text": [
      "\u001b[34m\u001b[1mtrain: \u001b[0mNew cache created: /repos/uni-si/R2S4/DNN/End_project/labels/train_v3.cache\n"
     ]
    },
    {
     "name": "stderr",
     "output_type": "stream",
     "text": [
      "\n"
     ]
    },
    {
     "name": "stdout",
     "output_type": "stream",
     "text": [
      "WARNING ⚠️ No 'flip_idx' array defined in data.yaml, setting augmentation 'fliplr=0.0'\n",
      "\u001b[34m\u001b[1malbumentations: \u001b[0mBlur(p=0.01, blur_limit=(3, 7)), MedianBlur(p=0.01, blur_limit=(3, 7)), ToGray(p=0.01, method='weighted_average', num_output_channels=3), CLAHE(p=0.01, clip_limit=(1.0, 4.0), tile_grid_size=(8, 8))\n",
      "\u001b[34m\u001b[1mval: \u001b[0mFast image access ✅ (ping: 0.0±0.0 ms, read: 519.3±298.4 MB/s, size: 25.0 KB)\n"
     ]
    },
    {
     "name": "stderr",
     "output_type": "stream",
     "text": [
      "\u001b[34m\u001b[1mval: \u001b[0mScanning /repos/uni-si/R2S4/DNN/End_project/labels/valid_v3... 2500 images, 0 backgrounds, 0 corrupt: 100%|██████████| 2500/2500 [00:02<00:00, 993.89it/s] \n"
     ]
    },
    {
     "name": "stdout",
     "output_type": "stream",
     "text": [
      "\u001b[34m\u001b[1mval: \u001b[0mNew cache created: /repos/uni-si/R2S4/DNN/End_project/labels/valid_v3.cache\n",
      "Plotting labels to runs/pose/image_rotation_model/labels.jpg... \n",
      "\u001b[34m\u001b[1moptimizer:\u001b[0m 'optimizer=auto' found, ignoring 'lr0=0.01' and 'momentum=0.937' and determining best 'optimizer', 'lr0' and 'momentum' automatically... \n",
      "\u001b[34m\u001b[1moptimizer:\u001b[0m AdamW(lr=0.002, momentum=0.9) with parameter groups 173 weight(decay=0.0), 183 weight(decay=0.0005), 182 bias(decay=0.0)\n",
      "Image sizes 320 train, 320 val\n",
      "Using 8 dataloader workers\n",
      "Logging results to \u001b[1mruns/pose/image_rotation_model\u001b[0m\n",
      "Starting training for 100 epochs...\n",
      "\n",
      "      Epoch    GPU_mem   box_loss  pose_loss  kobj_loss   cls_loss   dfl_loss  Instances       Size\n"
     ]
    },
    {
     "name": "stderr",
     "output_type": "stream",
     "text": [
      "      1/100      9.06G       1.55      3.859     0.6657      1.143      1.837         12        320: 100%|██████████| 313/313 [00:46<00:00,  6.73it/s]\n",
      "                 Class     Images  Instances      Box(P          R      mAP50  mAP50-95)     Pose(P          R      mAP50  mAP50-95): 100%|██████████| 157/157 [00:17<00:00,  9.00it/s]\n"
     ]
    },
    {
     "name": "stdout",
     "output_type": "stream",
     "text": [
      "                   all       2500       2500      0.485      0.607      0.499      0.148      0.228      0.314      0.112     0.0486\n",
      "\n",
      "      Epoch    GPU_mem   box_loss  pose_loss  kobj_loss   cls_loss   dfl_loss  Instances       Size\n"
     ]
    },
    {
     "name": "stderr",
     "output_type": "stream",
     "text": [
      "      2/100      3.32G      1.405      3.014     0.6061       1.01      1.662         12        320: 100%|██████████| 313/313 [00:37<00:00,  8.34it/s]\n",
      "                 Class     Images  Instances      Box(P          R      mAP50  mAP50-95)     Pose(P          R      mAP50  mAP50-95): 100%|██████████| 157/157 [00:16<00:00,  9.74it/s]\n"
     ]
    },
    {
     "name": "stdout",
     "output_type": "stream",
     "text": [
      "                   all       2500       2500       0.88      0.863      0.926      0.398      0.641       0.61      0.554      0.336\n",
      "\n",
      "      Epoch    GPU_mem   box_loss  pose_loss  kobj_loss   cls_loss   dfl_loss  Instances       Size\n"
     ]
    },
    {
     "name": "stderr",
     "output_type": "stream",
     "text": [
      "      3/100      3.55G      1.281        2.7     0.5908     0.8915      1.561         12        320: 100%|██████████| 313/313 [00:37<00:00,  8.30it/s]\n",
      "                 Class     Images  Instances      Box(P          R      mAP50  mAP50-95)     Pose(P          R      mAP50  mAP50-95): 100%|██████████| 157/157 [00:18<00:00,  8.69it/s]\n"
     ]
    },
    {
     "name": "stdout",
     "output_type": "stream",
     "text": [
      "                   all       2500       2500      0.879       0.98      0.974      0.462      0.434      0.491      0.256      0.107\n",
      "\n",
      "      Epoch    GPU_mem   box_loss  pose_loss  kobj_loss   cls_loss   dfl_loss  Instances       Size\n"
     ]
    },
    {
     "name": "stderr",
     "output_type": "stream",
     "text": [
      "      4/100      3.76G      1.198      2.382     0.5721     0.8157      1.492         13        320: 100%|██████████| 313/313 [00:37<00:00,  8.30it/s]\n",
      "                 Class     Images  Instances      Box(P          R      mAP50  mAP50-95)     Pose(P          R      mAP50  mAP50-95): 100%|██████████| 157/157 [00:16<00:00,  9.51it/s]"
     ]
    },
    {
     "name": "stdout",
     "output_type": "stream",
     "text": [
      "                   all       2500       2500      0.938      0.988       0.98      0.517      0.865       0.91      0.839      0.578\n"
     ]
    },
    {
     "name": "stderr",
     "output_type": "stream",
     "text": [
      "\n"
     ]
    },
    {
     "name": "stdout",
     "output_type": "stream",
     "text": [
      "\n",
      "      Epoch    GPU_mem   box_loss  pose_loss  kobj_loss   cls_loss   dfl_loss  Instances       Size\n"
     ]
    },
    {
     "name": "stderr",
     "output_type": "stream",
     "text": [
      "      5/100      4.11G      1.112      2.127     0.5456      0.753      1.433         11        320: 100%|██████████| 313/313 [00:36<00:00,  8.57it/s]\n",
      "                 Class     Images  Instances      Box(P          R      mAP50  mAP50-95)     Pose(P          R      mAP50  mAP50-95): 100%|██████████| 157/157 [00:16<00:00,  9.80it/s]"
     ]
    },
    {
     "name": "stdout",
     "output_type": "stream",
     "text": [
      "                   all       2500       2500      0.897      0.984      0.974      0.519      0.806      0.887       0.78      0.526\n"
     ]
    },
    {
     "name": "stderr",
     "output_type": "stream",
     "text": [
      "\n"
     ]
    },
    {
     "name": "stdout",
     "output_type": "stream",
     "text": [
      "\n",
      "      Epoch    GPU_mem   box_loss  pose_loss  kobj_loss   cls_loss   dfl_loss  Instances       Size\n"
     ]
    },
    {
     "name": "stderr",
     "output_type": "stream",
     "text": [
      "      6/100      4.45G      1.044      1.977     0.5215     0.7055      1.387         14        320: 100%|██████████| 313/313 [00:36<00:00,  8.48it/s]\n",
      "                 Class     Images  Instances      Box(P          R      mAP50  mAP50-95)     Pose(P          R      mAP50  mAP50-95): 100%|██████████| 157/157 [00:16<00:00,  9.73it/s]"
     ]
    },
    {
     "name": "stdout",
     "output_type": "stream",
     "text": [
      "                   all       2500       2500      0.987      0.997      0.994      0.551      0.945      0.954      0.929      0.514\n"
     ]
    },
    {
     "name": "stderr",
     "output_type": "stream",
     "text": [
      "\n"
     ]
    },
    {
     "name": "stdout",
     "output_type": "stream",
     "text": [
      "\n",
      "      Epoch    GPU_mem   box_loss  pose_loss  kobj_loss   cls_loss   dfl_loss  Instances       Size\n"
     ]
    },
    {
     "name": "stderr",
     "output_type": "stream",
     "text": [
      "      7/100      4.79G     0.9946      1.814     0.4911     0.6673      1.345         13        320: 100%|██████████| 313/313 [00:38<00:00,  8.10it/s]\n",
      "                 Class     Images  Instances      Box(P          R      mAP50  mAP50-95)     Pose(P          R      mAP50  mAP50-95): 100%|██████████| 157/157 [00:15<00:00,  9.93it/s]"
     ]
    },
    {
     "name": "stdout",
     "output_type": "stream",
     "text": [
      "                   all       2500       2500      0.983      0.999       0.99       0.66      0.968      0.984      0.974      0.866\n"
     ]
    },
    {
     "name": "stderr",
     "output_type": "stream",
     "text": [
      "\n"
     ]
    },
    {
     "name": "stdout",
     "output_type": "stream",
     "text": [
      "\n",
      "      Epoch    GPU_mem   box_loss  pose_loss  kobj_loss   cls_loss   dfl_loss  Instances       Size\n"
     ]
    },
    {
     "name": "stderr",
     "output_type": "stream",
     "text": [
      "      8/100      5.12G     0.9371      1.615     0.4613     0.6418      1.309         15        320: 100%|██████████| 313/313 [00:39<00:00,  7.93it/s]\n",
      "                 Class     Images  Instances      Box(P          R      mAP50  mAP50-95)     Pose(P          R      mAP50  mAP50-95): 100%|██████████| 157/157 [00:16<00:00,  9.26it/s]\n"
     ]
    },
    {
     "name": "stdout",
     "output_type": "stream",
     "text": [
      "                   all       2500       2500          1          1      0.995      0.797      0.987      0.987      0.976      0.779\n",
      "\n",
      "      Epoch    GPU_mem   box_loss  pose_loss  kobj_loss   cls_loss   dfl_loss  Instances       Size\n"
     ]
    },
    {
     "name": "stderr",
     "output_type": "stream",
     "text": [
      "      9/100      5.41G     0.9398      1.581     0.4538      0.637      1.312         18        320:  57%|█████▋    | 179/313 [00:25<00:19,  7.04it/s]\n"
     ]
    },
    {
     "ename": "KeyboardInterrupt",
     "evalue": "",
     "output_type": "error",
     "traceback": [
      "\u001b[0;31m---------------------------------------------------------------------------\u001b[0m",
      "\u001b[0;31mKeyboardInterrupt\u001b[0m                         Traceback (most recent call last)",
      "Cell \u001b[0;32mIn[25], line 5\u001b[0m\n\u001b[1;32m      1\u001b[0m \u001b[38;5;28;01mfrom\u001b[39;00m \u001b[38;5;21;01multralytics\u001b[39;00m \u001b[38;5;28;01mimport\u001b[39;00m YOLO\n\u001b[1;32m      3\u001b[0m model \u001b[38;5;241m=\u001b[39m YOLO(\u001b[38;5;124m'\u001b[39m\u001b[38;5;124myolo11x-pose.pt\u001b[39m\u001b[38;5;124m'\u001b[39m)\n\u001b[0;32m----> 5\u001b[0m \u001b[43mmodel\u001b[49m\u001b[38;5;241;43m.\u001b[39;49m\u001b[43mtrain\u001b[49m\u001b[43m(\u001b[49m\n\u001b[1;32m      6\u001b[0m \u001b[43m    \u001b[49m\u001b[43mdata\u001b[49m\u001b[38;5;241;43m=\u001b[39;49m\u001b[38;5;124;43m'\u001b[39;49m\u001b[38;5;124;43mimage_rotation.yaml\u001b[39;49m\u001b[38;5;124;43m'\u001b[39;49m\u001b[43m,\u001b[49m\n\u001b[1;32m      7\u001b[0m \u001b[43m    \u001b[49m\u001b[43mepochs\u001b[49m\u001b[38;5;241;43m=\u001b[39;49m\u001b[38;5;241;43m100\u001b[39;49m\u001b[43m,\u001b[49m\n\u001b[1;32m      8\u001b[0m \u001b[43m    \u001b[49m\u001b[43mimgsz\u001b[49m\u001b[38;5;241;43m=\u001b[39;49m\u001b[38;5;241;43m320\u001b[39;49m\u001b[43m,\u001b[49m\n\u001b[1;32m      9\u001b[0m \u001b[43m    \u001b[49m\u001b[43mbatch\u001b[49m\u001b[38;5;241;43m=\u001b[39;49m\u001b[38;5;241;43m8\u001b[39;49m\u001b[43m,\u001b[49m\n\u001b[1;32m     10\u001b[0m \u001b[43m    \u001b[49m\u001b[43mname\u001b[49m\u001b[38;5;241;43m=\u001b[39;49m\u001b[38;5;124;43m'\u001b[39;49m\u001b[38;5;124;43mimage_rotation_model\u001b[39;49m\u001b[38;5;124;43m'\u001b[39;49m\n\u001b[1;32m     11\u001b[0m \u001b[43m)\u001b[49m\n",
      "File \u001b[0;32m/usr/lib/python3.11/site-packages/ultralytics/engine/model.py:796\u001b[0m, in \u001b[0;36mModel.train\u001b[0;34m(self, trainer, **kwargs)\u001b[0m\n\u001b[1;32m    793\u001b[0m     \u001b[38;5;28mself\u001b[39m\u001b[38;5;241m.\u001b[39mmodel \u001b[38;5;241m=\u001b[39m \u001b[38;5;28mself\u001b[39m\u001b[38;5;241m.\u001b[39mtrainer\u001b[38;5;241m.\u001b[39mmodel\n\u001b[1;32m    795\u001b[0m \u001b[38;5;28mself\u001b[39m\u001b[38;5;241m.\u001b[39mtrainer\u001b[38;5;241m.\u001b[39mhub_session \u001b[38;5;241m=\u001b[39m \u001b[38;5;28mself\u001b[39m\u001b[38;5;241m.\u001b[39msession  \u001b[38;5;66;03m# attach optional HUB session\u001b[39;00m\n\u001b[0;32m--> 796\u001b[0m \u001b[38;5;28;43mself\u001b[39;49m\u001b[38;5;241;43m.\u001b[39;49m\u001b[43mtrainer\u001b[49m\u001b[38;5;241;43m.\u001b[39;49m\u001b[43mtrain\u001b[49m\u001b[43m(\u001b[49m\u001b[43m)\u001b[49m\n\u001b[1;32m    797\u001b[0m \u001b[38;5;66;03m# Update model and cfg after training\u001b[39;00m\n\u001b[1;32m    798\u001b[0m \u001b[38;5;28;01mif\u001b[39;00m RANK \u001b[38;5;129;01min\u001b[39;00m {\u001b[38;5;241m-\u001b[39m\u001b[38;5;241m1\u001b[39m, \u001b[38;5;241m0\u001b[39m}:\n",
      "File \u001b[0;32m/usr/lib/python3.11/site-packages/ultralytics/engine/trainer.py:227\u001b[0m, in \u001b[0;36mBaseTrainer.train\u001b[0;34m(self)\u001b[0m\n\u001b[1;32m    224\u001b[0m         ddp_cleanup(\u001b[38;5;28mself\u001b[39m, \u001b[38;5;28mstr\u001b[39m(file))\n\u001b[1;32m    226\u001b[0m \u001b[38;5;28;01melse\u001b[39;00m:\n\u001b[0;32m--> 227\u001b[0m     \u001b[38;5;28;43mself\u001b[39;49m\u001b[38;5;241;43m.\u001b[39;49m\u001b[43m_do_train\u001b[49m\u001b[43m(\u001b[49m\u001b[43mworld_size\u001b[49m\u001b[43m)\u001b[49m\n",
      "File \u001b[0;32m/usr/lib/python3.11/site-packages/ultralytics/engine/trainer.py:415\u001b[0m, in \u001b[0;36mBaseTrainer._do_train\u001b[0;34m(self, world_size)\u001b[0m\n\u001b[1;32m    410\u001b[0m     \u001b[38;5;28mself\u001b[39m\u001b[38;5;241m.\u001b[39mtloss \u001b[38;5;241m=\u001b[39m (\n\u001b[1;32m    411\u001b[0m         (\u001b[38;5;28mself\u001b[39m\u001b[38;5;241m.\u001b[39mtloss \u001b[38;5;241m*\u001b[39m i \u001b[38;5;241m+\u001b[39m \u001b[38;5;28mself\u001b[39m\u001b[38;5;241m.\u001b[39mloss_items) \u001b[38;5;241m/\u001b[39m (i \u001b[38;5;241m+\u001b[39m \u001b[38;5;241m1\u001b[39m) \u001b[38;5;28;01mif\u001b[39;00m \u001b[38;5;28mself\u001b[39m\u001b[38;5;241m.\u001b[39mtloss \u001b[38;5;129;01mis\u001b[39;00m \u001b[38;5;129;01mnot\u001b[39;00m \u001b[38;5;28;01mNone\u001b[39;00m \u001b[38;5;28;01melse\u001b[39;00m \u001b[38;5;28mself\u001b[39m\u001b[38;5;241m.\u001b[39mloss_items\n\u001b[1;32m    412\u001b[0m     )\n\u001b[1;32m    414\u001b[0m \u001b[38;5;66;03m# Backward\u001b[39;00m\n\u001b[0;32m--> 415\u001b[0m \u001b[38;5;28;43mself\u001b[39;49m\u001b[38;5;241;43m.\u001b[39;49m\u001b[43mscaler\u001b[49m\u001b[38;5;241;43m.\u001b[39;49m\u001b[43mscale\u001b[49m\u001b[43m(\u001b[49m\u001b[38;5;28;43mself\u001b[39;49m\u001b[38;5;241;43m.\u001b[39;49m\u001b[43mloss\u001b[49m\u001b[43m)\u001b[49m\u001b[38;5;241;43m.\u001b[39;49m\u001b[43mbackward\u001b[49m\u001b[43m(\u001b[49m\u001b[43m)\u001b[49m\n\u001b[1;32m    417\u001b[0m \u001b[38;5;66;03m# Optimize - https://pytorch.org/docs/master/notes/amp_examples.html\u001b[39;00m\n\u001b[1;32m    418\u001b[0m \u001b[38;5;28;01mif\u001b[39;00m ni \u001b[38;5;241m-\u001b[39m last_opt_step \u001b[38;5;241m>\u001b[39m\u001b[38;5;241m=\u001b[39m \u001b[38;5;28mself\u001b[39m\u001b[38;5;241m.\u001b[39maccumulate:\n",
      "File \u001b[0;32m/usr/lib/python3.11/site-packages/torch/_tensor.py:626\u001b[0m, in \u001b[0;36mTensor.backward\u001b[0;34m(self, gradient, retain_graph, create_graph, inputs)\u001b[0m\n\u001b[1;32m    616\u001b[0m \u001b[38;5;28;01mif\u001b[39;00m has_torch_function_unary(\u001b[38;5;28mself\u001b[39m):\n\u001b[1;32m    617\u001b[0m     \u001b[38;5;28;01mreturn\u001b[39;00m handle_torch_function(\n\u001b[1;32m    618\u001b[0m         Tensor\u001b[38;5;241m.\u001b[39mbackward,\n\u001b[1;32m    619\u001b[0m         (\u001b[38;5;28mself\u001b[39m,),\n\u001b[0;32m   (...)\u001b[0m\n\u001b[1;32m    624\u001b[0m         inputs\u001b[38;5;241m=\u001b[39minputs,\n\u001b[1;32m    625\u001b[0m     )\n\u001b[0;32m--> 626\u001b[0m \u001b[43mtorch\u001b[49m\u001b[38;5;241;43m.\u001b[39;49m\u001b[43mautograd\u001b[49m\u001b[38;5;241;43m.\u001b[39;49m\u001b[43mbackward\u001b[49m\u001b[43m(\u001b[49m\n\u001b[1;32m    627\u001b[0m \u001b[43m    \u001b[49m\u001b[38;5;28;43mself\u001b[39;49m\u001b[43m,\u001b[49m\u001b[43m \u001b[49m\u001b[43mgradient\u001b[49m\u001b[43m,\u001b[49m\u001b[43m \u001b[49m\u001b[43mretain_graph\u001b[49m\u001b[43m,\u001b[49m\u001b[43m \u001b[49m\u001b[43mcreate_graph\u001b[49m\u001b[43m,\u001b[49m\u001b[43m \u001b[49m\u001b[43minputs\u001b[49m\u001b[38;5;241;43m=\u001b[39;49m\u001b[43minputs\u001b[49m\n\u001b[1;32m    628\u001b[0m \u001b[43m\u001b[49m\u001b[43m)\u001b[49m\n",
      "File \u001b[0;32m/usr/lib/python3.11/site-packages/torch/autograd/__init__.py:347\u001b[0m, in \u001b[0;36mbackward\u001b[0;34m(tensors, grad_tensors, retain_graph, create_graph, grad_variables, inputs)\u001b[0m\n\u001b[1;32m    342\u001b[0m     retain_graph \u001b[38;5;241m=\u001b[39m create_graph\n\u001b[1;32m    344\u001b[0m \u001b[38;5;66;03m# The reason we repeat the same comment below is that\u001b[39;00m\n\u001b[1;32m    345\u001b[0m \u001b[38;5;66;03m# some Python versions print out the first line of a multi-line function\u001b[39;00m\n\u001b[1;32m    346\u001b[0m \u001b[38;5;66;03m# calls in the traceback and some print out the last line\u001b[39;00m\n\u001b[0;32m--> 347\u001b[0m \u001b[43m_engine_run_backward\u001b[49m\u001b[43m(\u001b[49m\n\u001b[1;32m    348\u001b[0m \u001b[43m    \u001b[49m\u001b[43mtensors\u001b[49m\u001b[43m,\u001b[49m\n\u001b[1;32m    349\u001b[0m \u001b[43m    \u001b[49m\u001b[43mgrad_tensors_\u001b[49m\u001b[43m,\u001b[49m\n\u001b[1;32m    350\u001b[0m \u001b[43m    \u001b[49m\u001b[43mretain_graph\u001b[49m\u001b[43m,\u001b[49m\n\u001b[1;32m    351\u001b[0m \u001b[43m    \u001b[49m\u001b[43mcreate_graph\u001b[49m\u001b[43m,\u001b[49m\n\u001b[1;32m    352\u001b[0m \u001b[43m    \u001b[49m\u001b[43minputs\u001b[49m\u001b[43m,\u001b[49m\n\u001b[1;32m    353\u001b[0m \u001b[43m    \u001b[49m\u001b[43mallow_unreachable\u001b[49m\u001b[38;5;241;43m=\u001b[39;49m\u001b[38;5;28;43;01mTrue\u001b[39;49;00m\u001b[43m,\u001b[49m\n\u001b[1;32m    354\u001b[0m \u001b[43m    \u001b[49m\u001b[43maccumulate_grad\u001b[49m\u001b[38;5;241;43m=\u001b[39;49m\u001b[38;5;28;43;01mTrue\u001b[39;49;00m\u001b[43m,\u001b[49m\n\u001b[1;32m    355\u001b[0m \u001b[43m\u001b[49m\u001b[43m)\u001b[49m\n",
      "File \u001b[0;32m/usr/lib/python3.11/site-packages/torch/autograd/graph.py:823\u001b[0m, in \u001b[0;36m_engine_run_backward\u001b[0;34m(t_outputs, *args, **kwargs)\u001b[0m\n\u001b[1;32m    821\u001b[0m     unregister_hooks \u001b[38;5;241m=\u001b[39m _register_logging_hooks_on_whole_graph(t_outputs)\n\u001b[1;32m    822\u001b[0m \u001b[38;5;28;01mtry\u001b[39;00m:\n\u001b[0;32m--> 823\u001b[0m     \u001b[38;5;28;01mreturn\u001b[39;00m \u001b[43mVariable\u001b[49m\u001b[38;5;241;43m.\u001b[39;49m\u001b[43m_execution_engine\u001b[49m\u001b[38;5;241;43m.\u001b[39;49m\u001b[43mrun_backward\u001b[49m\u001b[43m(\u001b[49m\u001b[43m  \u001b[49m\u001b[38;5;66;43;03m# Calls into the C++ engine to run the backward pass\u001b[39;49;00m\n\u001b[1;32m    824\u001b[0m \u001b[43m        \u001b[49m\u001b[43mt_outputs\u001b[49m\u001b[43m,\u001b[49m\u001b[43m \u001b[49m\u001b[38;5;241;43m*\u001b[39;49m\u001b[43margs\u001b[49m\u001b[43m,\u001b[49m\u001b[43m \u001b[49m\u001b[38;5;241;43m*\u001b[39;49m\u001b[38;5;241;43m*\u001b[39;49m\u001b[43mkwargs\u001b[49m\n\u001b[1;32m    825\u001b[0m \u001b[43m    \u001b[49m\u001b[43m)\u001b[49m  \u001b[38;5;66;03m# Calls into the C++ engine to run the backward pass\u001b[39;00m\n\u001b[1;32m    826\u001b[0m \u001b[38;5;28;01mfinally\u001b[39;00m:\n\u001b[1;32m    827\u001b[0m     \u001b[38;5;28;01mif\u001b[39;00m attach_logging_hooks:\n",
      "\u001b[0;31mKeyboardInterrupt\u001b[0m: "
     ]
    }
   ],
   "source": [
    "from ultralytics import YOLO\n",
    "\n",
    "model = YOLO('yolo11x-pose.pt')\n",
    "\n",
    "model.train(\n",
    "    data='image_rotation.yaml',\n",
    "    epochs=100,\n",
    "    imgsz=320,\n",
    "    batch=8,\n",
    "    name='image_rotation_model'\n",
    ")"
   ]
  },
  {
   "cell_type": "code",
   "execution_count": 22,
   "id": "34ee06ae",
   "metadata": {},
   "outputs": [
    {
     "name": "stdout",
     "output_type": "stream",
     "text": [
      "\n",
      "WARNING ⚠️ \n",
      "inference results will accumulate in RAM unless `stream=True` is passed, causing potential out-of-memory\n",
      "errors for large sources or long-running streams and videos. See https://docs.ultralytics.com/modes/predict/ for help.\n",
      "\n",
      "Example:\n",
      "    results = model(source=..., stream=True)  # generator of Results objects\n",
      "    for r in results:\n",
      "        boxes = r.boxes  # Boxes object for bbox outputs\n",
      "        masks = r.masks  # Masks object for segment masks outputs\n",
      "        probs = r.probs  # Class probabilities for classification outputs\n",
      "\n",
      "image 1/2500 /repos/uni-si/R2S4/DNN/End_project/images/test_v3/card_1.jpg: 320x320 1 rotated_photo, 46.7ms\n",
      "image 2/2500 /repos/uni-si/R2S4/DNN/End_project/images/test_v3/card_10.jpg: 320x320 1 rotated_photo, 47.9ms\n",
      "image 3/2500 /repos/uni-si/R2S4/DNN/End_project/images/test_v3/card_100.jpg: 320x320 1 rotated_photo, 45.5ms\n",
      "image 4/2500 /repos/uni-si/R2S4/DNN/End_project/images/test_v3/card_1000.jpg: 320x320 1 rotated_photo, 14.5ms\n",
      "image 5/2500 /repos/uni-si/R2S4/DNN/End_project/images/test_v3/card_1001.jpg: 320x320 1 rotated_photo, 14.7ms\n",
      "image 6/2500 /repos/uni-si/R2S4/DNN/End_project/images/test_v3/card_1002.jpg: 320x320 1 rotated_photo, 15.9ms\n",
      "image 7/2500 /repos/uni-si/R2S4/DNN/End_project/images/test_v3/card_1003.jpg: 320x320 1 rotated_photo, 16.2ms\n",
      "image 8/2500 /repos/uni-si/R2S4/DNN/End_project/images/test_v3/card_1004.jpg: 320x320 1 rotated_photo, 16.2ms\n",
      "image 9/2500 /repos/uni-si/R2S4/DNN/End_project/images/test_v3/card_1005.jpg: 320x320 1 rotated_photo, 22.0ms\n",
      "image 10/2500 /repos/uni-si/R2S4/DNN/End_project/images/test_v3/card_1006.jpg: 320x320 1 rotated_photo, 13.1ms\n",
      "image 11/2500 /repos/uni-si/R2S4/DNN/End_project/images/test_v3/card_1007.jpg: 320x320 1 rotated_photo, 16.7ms\n",
      "image 12/2500 /repos/uni-si/R2S4/DNN/End_project/images/test_v3/card_1008.jpg: 320x320 1 rotated_photo, 17.5ms\n",
      "image 13/2500 /repos/uni-si/R2S4/DNN/End_project/images/test_v3/card_1009.jpg: 320x320 1 rotated_photo, 18.7ms\n",
      "image 14/2500 /repos/uni-si/R2S4/DNN/End_project/images/test_v3/card_101.jpg: 320x320 1 rotated_photo, 14.5ms\n",
      "image 15/2500 /repos/uni-si/R2S4/DNN/End_project/images/test_v3/card_1010.jpg: 320x320 1 rotated_photo, 15.7ms\n",
      "image 16/2500 /repos/uni-si/R2S4/DNN/End_project/images/test_v3/card_1011.jpg: 320x320 1 rotated_photo, 17.9ms\n",
      "image 17/2500 /repos/uni-si/R2S4/DNN/End_project/images/test_v3/card_1012.jpg: 320x320 1 rotated_photo, 14.9ms\n",
      "image 18/2500 /repos/uni-si/R2S4/DNN/End_project/images/test_v3/card_1013.jpg: 320x320 1 rotated_photo, 15.3ms\n",
      "image 19/2500 /repos/uni-si/R2S4/DNN/End_project/images/test_v3/card_1014.jpg: 320x320 1 rotated_photo, 14.7ms\n",
      "image 20/2500 /repos/uni-si/R2S4/DNN/End_project/images/test_v3/card_1015.jpg: 320x320 1 rotated_photo, 16.1ms\n",
      "image 21/2500 /repos/uni-si/R2S4/DNN/End_project/images/test_v3/card_1016.jpg: 320x320 1 rotated_photo, 21.1ms\n",
      "image 22/2500 /repos/uni-si/R2S4/DNN/End_project/images/test_v3/card_1017.jpg: 320x320 1 rotated_photo, 15.8ms\n",
      "image 23/2500 /repos/uni-si/R2S4/DNN/End_project/images/test_v3/card_1018.jpg: 320x320 1 rotated_photo, 15.2ms\n",
      "image 24/2500 /repos/uni-si/R2S4/DNN/End_project/images/test_v3/card_1019.jpg: 320x320 1 rotated_photo, 18.1ms\n",
      "image 25/2500 /repos/uni-si/R2S4/DNN/End_project/images/test_v3/card_102.jpg: 320x320 1 rotated_photo, 15.3ms\n",
      "image 26/2500 /repos/uni-si/R2S4/DNN/End_project/images/test_v3/card_1020.jpg: 320x320 1 rotated_photo, 14.1ms\n",
      "image 27/2500 /repos/uni-si/R2S4/DNN/End_project/images/test_v3/card_1021.jpg: 320x320 1 rotated_photo, 15.1ms\n",
      "image 28/2500 /repos/uni-si/R2S4/DNN/End_project/images/test_v3/card_1022.jpg: 320x320 1 rotated_photo, 14.9ms\n",
      "image 29/2500 /repos/uni-si/R2S4/DNN/End_project/images/test_v3/card_1023.jpg: 320x320 1 rotated_photo, 17.3ms\n",
      "image 30/2500 /repos/uni-si/R2S4/DNN/End_project/images/test_v3/card_1024.jpg: 320x320 1 rotated_photo, 17.6ms\n",
      "image 31/2500 /repos/uni-si/R2S4/DNN/End_project/images/test_v3/card_1025.jpg: 320x320 1 rotated_photo, 30.6ms\n",
      "image 32/2500 /repos/uni-si/R2S4/DNN/End_project/images/test_v3/card_1026.jpg: 320x320 1 rotated_photo, 13.8ms\n",
      "image 33/2500 /repos/uni-si/R2S4/DNN/End_project/images/test_v3/card_1027.jpg: 320x320 1 rotated_photo, 14.4ms\n",
      "image 34/2500 /repos/uni-si/R2S4/DNN/End_project/images/test_v3/card_1028.jpg: 320x320 1 rotated_photo, 14.7ms\n",
      "image 35/2500 /repos/uni-si/R2S4/DNN/End_project/images/test_v3/card_1029.jpg: 320x320 1 rotated_photo, 15.7ms\n",
      "image 36/2500 /repos/uni-si/R2S4/DNN/End_project/images/test_v3/card_103.jpg: 320x320 1 rotated_photo, 14.1ms\n",
      "image 37/2500 /repos/uni-si/R2S4/DNN/End_project/images/test_v3/card_1030.jpg: 320x320 1 rotated_photo, 16.6ms\n",
      "image 38/2500 /repos/uni-si/R2S4/DNN/End_project/images/test_v3/card_1031.jpg: 320x320 1 rotated_photo, 18.1ms\n",
      "image 39/2500 /repos/uni-si/R2S4/DNN/End_project/images/test_v3/card_1032.jpg: 320x320 1 rotated_photo, 21.1ms\n",
      "image 40/2500 /repos/uni-si/R2S4/DNN/End_project/images/test_v3/card_1033.jpg: 320x320 1 rotated_photo, 21.7ms\n",
      "image 41/2500 /repos/uni-si/R2S4/DNN/End_project/images/test_v3/card_1034.jpg: 320x320 1 rotated_photo, 14.4ms\n",
      "image 42/2500 /repos/uni-si/R2S4/DNN/End_project/images/test_v3/card_1035.jpg: 320x320 1 rotated_photo, 14.0ms\n",
      "image 43/2500 /repos/uni-si/R2S4/DNN/End_project/images/test_v3/card_1036.jpg: 320x320 1 rotated_photo, 28.1ms\n",
      "image 44/2500 /repos/uni-si/R2S4/DNN/End_project/images/test_v3/card_1037.jpg: 320x320 1 rotated_photo, 24.6ms\n",
      "image 45/2500 /repos/uni-si/R2S4/DNN/End_project/images/test_v3/card_1038.jpg: 320x320 1 rotated_photo, 13.6ms\n",
      "image 46/2500 /repos/uni-si/R2S4/DNN/End_project/images/test_v3/card_1039.jpg: 320x320 1 rotated_photo, 19.0ms\n",
      "image 47/2500 /repos/uni-si/R2S4/DNN/End_project/images/test_v3/card_104.jpg: 320x320 1 rotated_photo, 13.5ms\n",
      "image 48/2500 /repos/uni-si/R2S4/DNN/End_project/images/test_v3/card_1040.jpg: 320x320 1 rotated_photo, 14.2ms\n",
      "image 49/2500 /repos/uni-si/R2S4/DNN/End_project/images/test_v3/card_1041.jpg: 320x320 1 rotated_photo, 14.8ms\n",
      "image 50/2500 /repos/uni-si/R2S4/DNN/End_project/images/test_v3/card_1042.jpg: 320x320 1 rotated_photo, 14.5ms\n",
      "image 51/2500 /repos/uni-si/R2S4/DNN/End_project/images/test_v3/card_1043.jpg: 320x320 1 rotated_photo, 15.3ms\n",
      "image 52/2500 /repos/uni-si/R2S4/DNN/End_project/images/test_v3/card_1044.jpg: 320x320 1 rotated_photo, 14.3ms\n",
      "image 53/2500 /repos/uni-si/R2S4/DNN/End_project/images/test_v3/card_1045.jpg: 320x320 1 rotated_photo, 14.9ms\n",
      "image 54/2500 /repos/uni-si/R2S4/DNN/End_project/images/test_v3/card_1046.jpg: 320x320 1 rotated_photo, 17.0ms\n",
      "image 55/2500 /repos/uni-si/R2S4/DNN/End_project/images/test_v3/card_1047.jpg: 320x320 1 rotated_photo, 41.9ms\n",
      "image 56/2500 /repos/uni-si/R2S4/DNN/End_project/images/test_v3/card_1048.jpg: 320x320 1 rotated_photo, 20.2ms\n",
      "image 57/2500 /repos/uni-si/R2S4/DNN/End_project/images/test_v3/card_1049.jpg: 320x320 1 rotated_photo, 16.6ms\n",
      "image 58/2500 /repos/uni-si/R2S4/DNN/End_project/images/test_v3/card_105.jpg: 320x320 1 rotated_photo, 15.4ms\n",
      "image 59/2500 /repos/uni-si/R2S4/DNN/End_project/images/test_v3/card_1050.jpg: 320x320 1 rotated_photo, 27.0ms\n",
      "image 60/2500 /repos/uni-si/R2S4/DNN/End_project/images/test_v3/card_1051.jpg: 320x320 1 rotated_photo, 15.9ms\n",
      "image 61/2500 /repos/uni-si/R2S4/DNN/End_project/images/test_v3/card_1052.jpg: 320x320 1 rotated_photo, 15.3ms\n",
      "image 62/2500 /repos/uni-si/R2S4/DNN/End_project/images/test_v3/card_1053.jpg: 320x320 1 rotated_photo, 29.3ms\n",
      "image 63/2500 /repos/uni-si/R2S4/DNN/End_project/images/test_v3/card_1054.jpg: 320x320 1 rotated_photo, 27.4ms\n",
      "image 64/2500 /repos/uni-si/R2S4/DNN/End_project/images/test_v3/card_1055.jpg: 320x320 1 rotated_photo, 20.1ms\n",
      "image 65/2500 /repos/uni-si/R2S4/DNN/End_project/images/test_v3/card_1056.jpg: 320x320 1 rotated_photo, 13.7ms\n",
      "image 66/2500 /repos/uni-si/R2S4/DNN/End_project/images/test_v3/card_1057.jpg: 320x320 1 rotated_photo, 14.5ms\n",
      "image 67/2500 /repos/uni-si/R2S4/DNN/End_project/images/test_v3/card_1058.jpg: 320x320 1 rotated_photo, 14.5ms\n",
      "image 68/2500 /repos/uni-si/R2S4/DNN/End_project/images/test_v3/card_1059.jpg: 320x320 1 rotated_photo, 13.7ms\n",
      "image 69/2500 /repos/uni-si/R2S4/DNN/End_project/images/test_v3/card_106.jpg: 320x320 1 rotated_photo, 14.9ms\n",
      "image 70/2500 /repos/uni-si/R2S4/DNN/End_project/images/test_v3/card_1060.jpg: 320x320 1 rotated_photo, 17.0ms\n",
      "image 71/2500 /repos/uni-si/R2S4/DNN/End_project/images/test_v3/card_1061.jpg: 320x320 1 rotated_photo, 15.1ms\n",
      "image 72/2500 /repos/uni-si/R2S4/DNN/End_project/images/test_v3/card_1062.jpg: 320x320 1 rotated_photo, 14.8ms\n",
      "image 73/2500 /repos/uni-si/R2S4/DNN/End_project/images/test_v3/card_1063.jpg: 320x320 1 rotated_photo, 18.5ms\n",
      "image 74/2500 /repos/uni-si/R2S4/DNN/End_project/images/test_v3/card_1064.jpg: 320x320 1 rotated_photo, 20.4ms\n",
      "image 75/2500 /repos/uni-si/R2S4/DNN/End_project/images/test_v3/card_1065.jpg: 320x320 1 rotated_photo, 20.4ms\n",
      "image 76/2500 /repos/uni-si/R2S4/DNN/End_project/images/test_v3/card_1066.jpg: 320x320 1 rotated_photo, 23.6ms\n",
      "image 77/2500 /repos/uni-si/R2S4/DNN/End_project/images/test_v3/card_1067.jpg: 320x320 1 rotated_photo, 14.2ms\n",
      "image 78/2500 /repos/uni-si/R2S4/DNN/End_project/images/test_v3/card_1068.jpg: 320x320 1 rotated_photo, 13.3ms\n",
      "image 79/2500 /repos/uni-si/R2S4/DNN/End_project/images/test_v3/card_1069.jpg: 320x320 1 rotated_photo, 13.7ms\n",
      "image 80/2500 /repos/uni-si/R2S4/DNN/End_project/images/test_v3/card_107.jpg: 320x320 1 rotated_photo, 13.8ms\n",
      "image 81/2500 /repos/uni-si/R2S4/DNN/End_project/images/test_v3/card_1070.jpg: 320x320 1 rotated_photo, 16.0ms\n",
      "image 82/2500 /repos/uni-si/R2S4/DNN/End_project/images/test_v3/card_1071.jpg: 320x320 1 rotated_photo, 15.3ms\n",
      "image 83/2500 /repos/uni-si/R2S4/DNN/End_project/images/test_v3/card_1072.jpg: 320x320 1 rotated_photo, 16.1ms\n",
      "image 84/2500 /repos/uni-si/R2S4/DNN/End_project/images/test_v3/card_1073.jpg: 320x320 1 rotated_photo, 13.1ms\n",
      "image 85/2500 /repos/uni-si/R2S4/DNN/End_project/images/test_v3/card_1074.jpg: 320x320 1 rotated_photo, 14.7ms\n",
      "image 86/2500 /repos/uni-si/R2S4/DNN/End_project/images/test_v3/card_1075.jpg: 320x320 1 rotated_photo, 13.5ms\n",
      "image 87/2500 /repos/uni-si/R2S4/DNN/End_project/images/test_v3/card_1076.jpg: 320x320 1 rotated_photo, 15.0ms\n",
      "image 88/2500 /repos/uni-si/R2S4/DNN/End_project/images/test_v3/card_1077.jpg: 320x320 1 rotated_photo, 15.2ms\n",
      "image 89/2500 /repos/uni-si/R2S4/DNN/End_project/images/test_v3/card_1078.jpg: 320x320 1 rotated_photo, 13.8ms\n",
      "image 90/2500 /repos/uni-si/R2S4/DNN/End_project/images/test_v3/card_1079.jpg: 320x320 1 rotated_photo, 13.9ms\n",
      "image 91/2500 /repos/uni-si/R2S4/DNN/End_project/images/test_v3/card_108.jpg: 320x320 1 rotated_photo, 13.9ms\n",
      "image 92/2500 /repos/uni-si/R2S4/DNN/End_project/images/test_v3/card_1080.jpg: 320x320 1 rotated_photo, 25.0ms\n",
      "image 93/2500 /repos/uni-si/R2S4/DNN/End_project/images/test_v3/card_1081.jpg: 320x320 1 rotated_photo, 14.0ms\n",
      "image 94/2500 /repos/uni-si/R2S4/DNN/End_project/images/test_v3/card_1082.jpg: 320x320 1 rotated_photo, 14.9ms\n",
      "image 95/2500 /repos/uni-si/R2S4/DNN/End_project/images/test_v3/card_1083.jpg: 320x320 1 rotated_photo, 16.9ms\n",
      "image 96/2500 /repos/uni-si/R2S4/DNN/End_project/images/test_v3/card_1084.jpg: 320x320 1 rotated_photo, 24.7ms\n",
      "image 97/2500 /repos/uni-si/R2S4/DNN/End_project/images/test_v3/card_1085.jpg: 320x320 1 rotated_photo, 14.9ms\n",
      "image 98/2500 /repos/uni-si/R2S4/DNN/End_project/images/test_v3/card_1086.jpg: 320x320 1 rotated_photo, 14.8ms\n",
      "image 99/2500 /repos/uni-si/R2S4/DNN/End_project/images/test_v3/card_1087.jpg: 320x320 1 rotated_photo, 22.3ms\n",
      "image 100/2500 /repos/uni-si/R2S4/DNN/End_project/images/test_v3/card_1088.jpg: 320x320 1 rotated_photo, 13.8ms\n",
      "image 101/2500 /repos/uni-si/R2S4/DNN/End_project/images/test_v3/card_1089.jpg: 320x320 1 rotated_photo, 14.2ms\n",
      "image 102/2500 /repos/uni-si/R2S4/DNN/End_project/images/test_v3/card_109.jpg: 320x320 1 rotated_photo, 14.7ms\n",
      "image 103/2500 /repos/uni-si/R2S4/DNN/End_project/images/test_v3/card_1090.jpg: 320x320 1 rotated_photo, 14.9ms\n",
      "image 104/2500 /repos/uni-si/R2S4/DNN/End_project/images/test_v3/card_1091.jpg: 320x320 1 rotated_photo, 14.9ms\n",
      "image 105/2500 /repos/uni-si/R2S4/DNN/End_project/images/test_v3/card_1092.jpg: 320x320 1 rotated_photo, 14.7ms\n",
      "image 106/2500 /repos/uni-si/R2S4/DNN/End_project/images/test_v3/card_1093.jpg: 320x320 1 rotated_photo, 14.0ms\n",
      "image 107/2500 /repos/uni-si/R2S4/DNN/End_project/images/test_v3/card_1094.jpg: 320x320 1 rotated_photo, 33.6ms\n",
      "image 108/2500 /repos/uni-si/R2S4/DNN/End_project/images/test_v3/card_1095.jpg: 320x320 1 rotated_photo, 15.3ms\n",
      "image 109/2500 /repos/uni-si/R2S4/DNN/End_project/images/test_v3/card_1096.jpg: 320x320 1 rotated_photo, 13.7ms\n",
      "image 110/2500 /repos/uni-si/R2S4/DNN/End_project/images/test_v3/card_1097.jpg: 320x320 1 rotated_photo, 15.1ms\n",
      "image 111/2500 /repos/uni-si/R2S4/DNN/End_project/images/test_v3/card_1098.jpg: 320x320 1 rotated_photo, 14.8ms\n",
      "image 112/2500 /repos/uni-si/R2S4/DNN/End_project/images/test_v3/card_1099.jpg: 320x320 1 rotated_photo, 14.2ms\n",
      "image 113/2500 /repos/uni-si/R2S4/DNN/End_project/images/test_v3/card_11.jpg: 320x320 1 rotated_photo, 15.3ms\n",
      "image 114/2500 /repos/uni-si/R2S4/DNN/End_project/images/test_v3/card_110.jpg: 320x320 1 rotated_photo, 15.6ms\n",
      "image 115/2500 /repos/uni-si/R2S4/DNN/End_project/images/test_v3/card_1100.jpg: 320x320 1 rotated_photo, 16.6ms\n",
      "image 116/2500 /repos/uni-si/R2S4/DNN/End_project/images/test_v3/card_1101.jpg: 320x320 1 rotated_photo, 17.8ms\n",
      "image 117/2500 /repos/uni-si/R2S4/DNN/End_project/images/test_v3/card_1102.jpg: 320x320 1 rotated_photo, 19.4ms\n",
      "image 118/2500 /repos/uni-si/R2S4/DNN/End_project/images/test_v3/card_1103.jpg: 320x320 1 rotated_photo, 23.7ms\n",
      "image 119/2500 /repos/uni-si/R2S4/DNN/End_project/images/test_v3/card_1104.jpg: 320x320 1 rotated_photo, 15.8ms\n",
      "image 120/2500 /repos/uni-si/R2S4/DNN/End_project/images/test_v3/card_1105.jpg: 320x320 1 rotated_photo, 15.1ms\n",
      "image 121/2500 /repos/uni-si/R2S4/DNN/End_project/images/test_v3/card_1106.jpg: 320x320 1 rotated_photo, 20.0ms\n",
      "image 122/2500 /repos/uni-si/R2S4/DNN/End_project/images/test_v3/card_1107.jpg: 320x320 1 rotated_photo, 14.0ms\n",
      "image 123/2500 /repos/uni-si/R2S4/DNN/End_project/images/test_v3/card_1108.jpg: 320x320 1 rotated_photo, 13.8ms\n",
      "image 124/2500 /repos/uni-si/R2S4/DNN/End_project/images/test_v3/card_1109.jpg: 320x320 1 rotated_photo, 14.9ms\n",
      "image 125/2500 /repos/uni-si/R2S4/DNN/End_project/images/test_v3/card_111.jpg: 320x320 1 rotated_photo, 15.8ms\n",
      "image 126/2500 /repos/uni-si/R2S4/DNN/End_project/images/test_v3/card_1110.jpg: 320x320 1 rotated_photo, 20.9ms\n",
      "image 127/2500 /repos/uni-si/R2S4/DNN/End_project/images/test_v3/card_1111.jpg: 320x320 1 rotated_photo, 20.9ms\n",
      "image 128/2500 /repos/uni-si/R2S4/DNN/End_project/images/test_v3/card_1112.jpg: 320x320 1 rotated_photo, 16.5ms\n",
      "image 129/2500 /repos/uni-si/R2S4/DNN/End_project/images/test_v3/card_1113.jpg: 320x320 1 rotated_photo, 20.0ms\n",
      "image 130/2500 /repos/uni-si/R2S4/DNN/End_project/images/test_v3/card_1114.jpg: 320x320 1 rotated_photo, 15.4ms\n",
      "image 131/2500 /repos/uni-si/R2S4/DNN/End_project/images/test_v3/card_1115.jpg: 320x320 1 rotated_photo, 15.0ms\n",
      "image 132/2500 /repos/uni-si/R2S4/DNN/End_project/images/test_v3/card_1116.jpg: 320x320 1 rotated_photo, 24.2ms\n",
      "image 133/2500 /repos/uni-si/R2S4/DNN/End_project/images/test_v3/card_1117.jpg: 320x320 1 rotated_photo, 14.0ms\n",
      "image 134/2500 /repos/uni-si/R2S4/DNN/End_project/images/test_v3/card_1118.jpg: 320x320 1 rotated_photo, 14.6ms\n",
      "image 135/2500 /repos/uni-si/R2S4/DNN/End_project/images/test_v3/card_1119.jpg: 320x320 1 rotated_photo, 16.2ms\n",
      "image 136/2500 /repos/uni-si/R2S4/DNN/End_project/images/test_v3/card_112.jpg: 320x320 1 rotated_photo, 14.1ms\n",
      "image 137/2500 /repos/uni-si/R2S4/DNN/End_project/images/test_v3/card_1120.jpg: 320x320 1 rotated_photo, 26.5ms\n",
      "image 138/2500 /repos/uni-si/R2S4/DNN/End_project/images/test_v3/card_1121.jpg: 320x320 1 rotated_photo, 30.8ms\n",
      "image 139/2500 /repos/uni-si/R2S4/DNN/End_project/images/test_v3/card_1122.jpg: 320x320 1 rotated_photo, 14.9ms\n",
      "image 140/2500 /repos/uni-si/R2S4/DNN/End_project/images/test_v3/card_1123.jpg: 320x320 1 rotated_photo, 14.4ms\n",
      "image 141/2500 /repos/uni-si/R2S4/DNN/End_project/images/test_v3/card_1124.jpg: 320x320 1 rotated_photo, 20.8ms\n",
      "image 142/2500 /repos/uni-si/R2S4/DNN/End_project/images/test_v3/card_1125.jpg: 320x320 1 rotated_photo, 14.5ms\n",
      "image 143/2500 /repos/uni-si/R2S4/DNN/End_project/images/test_v3/card_1126.jpg: 320x320 1 rotated_photo, 15.4ms\n",
      "image 144/2500 /repos/uni-si/R2S4/DNN/End_project/images/test_v3/card_1127.jpg: 320x320 1 rotated_photo, 14.0ms\n",
      "image 145/2500 /repos/uni-si/R2S4/DNN/End_project/images/test_v3/card_1128.jpg: 320x320 1 rotated_photo, 15.0ms\n",
      "image 146/2500 /repos/uni-si/R2S4/DNN/End_project/images/test_v3/card_1129.jpg: 320x320 1 rotated_photo, 15.6ms\n",
      "image 147/2500 /repos/uni-si/R2S4/DNN/End_project/images/test_v3/card_113.jpg: 320x320 1 rotated_photo, 46.2ms\n",
      "image 148/2500 /repos/uni-si/R2S4/DNN/End_project/images/test_v3/card_1130.jpg: 320x320 1 rotated_photo, 14.2ms\n",
      "image 149/2500 /repos/uni-si/R2S4/DNN/End_project/images/test_v3/card_1131.jpg: 320x320 1 rotated_photo, 15.5ms\n",
      "image 150/2500 /repos/uni-si/R2S4/DNN/End_project/images/test_v3/card_1132.jpg: 320x320 1 rotated_photo, 14.6ms\n",
      "image 151/2500 /repos/uni-si/R2S4/DNN/End_project/images/test_v3/card_1133.jpg: 320x320 1 rotated_photo, 15.0ms\n",
      "image 152/2500 /repos/uni-si/R2S4/DNN/End_project/images/test_v3/card_1134.jpg: 320x320 1 rotated_photo, 13.6ms\n",
      "image 153/2500 /repos/uni-si/R2S4/DNN/End_project/images/test_v3/card_1135.jpg: 320x320 1 rotated_photo, 15.3ms\n",
      "image 154/2500 /repos/uni-si/R2S4/DNN/End_project/images/test_v3/card_1136.jpg: 320x320 1 rotated_photo, 14.4ms\n",
      "image 155/2500 /repos/uni-si/R2S4/DNN/End_project/images/test_v3/card_1137.jpg: 320x320 1 rotated_photo, 15.4ms\n",
      "image 156/2500 /repos/uni-si/R2S4/DNN/End_project/images/test_v3/card_1138.jpg: 320x320 1 rotated_photo, 14.2ms\n",
      "image 157/2500 /repos/uni-si/R2S4/DNN/End_project/images/test_v3/card_1139.jpg: 320x320 1 rotated_photo, 18.7ms\n",
      "image 158/2500 /repos/uni-si/R2S4/DNN/End_project/images/test_v3/card_114.jpg: 320x320 1 rotated_photo, 17.7ms\n",
      "image 159/2500 /repos/uni-si/R2S4/DNN/End_project/images/test_v3/card_1140.jpg: 320x320 1 rotated_photo, 16.5ms\n",
      "image 160/2500 /repos/uni-si/R2S4/DNN/End_project/images/test_v3/card_1141.jpg: 320x320 1 rotated_photo, 16.9ms\n",
      "image 161/2500 /repos/uni-si/R2S4/DNN/End_project/images/test_v3/card_1142.jpg: 320x320 1 rotated_photo, 41.6ms\n",
      "image 162/2500 /repos/uni-si/R2S4/DNN/End_project/images/test_v3/card_1143.jpg: 320x320 1 rotated_photo, 22.7ms\n",
      "image 163/2500 /repos/uni-si/R2S4/DNN/End_project/images/test_v3/card_1144.jpg: 320x320 1 rotated_photo, 20.1ms\n",
      "image 164/2500 /repos/uni-si/R2S4/DNN/End_project/images/test_v3/card_1145.jpg: 320x320 1 rotated_photo, 19.1ms\n",
      "image 165/2500 /repos/uni-si/R2S4/DNN/End_project/images/test_v3/card_1146.jpg: 320x320 1 rotated_photo, 16.0ms\n",
      "image 166/2500 /repos/uni-si/R2S4/DNN/End_project/images/test_v3/card_1147.jpg: 320x320 1 rotated_photo, 20.6ms\n",
      "image 167/2500 /repos/uni-si/R2S4/DNN/End_project/images/test_v3/card_1148.jpg: 320x320 1 rotated_photo, 24.5ms\n",
      "image 168/2500 /repos/uni-si/R2S4/DNN/End_project/images/test_v3/card_1149.jpg: 320x320 1 rotated_photo, 13.4ms\n",
      "image 169/2500 /repos/uni-si/R2S4/DNN/End_project/images/test_v3/card_115.jpg: 320x320 1 rotated_photo, 14.0ms\n",
      "image 170/2500 /repos/uni-si/R2S4/DNN/End_project/images/test_v3/card_1150.jpg: 320x320 1 rotated_photo, 14.3ms\n",
      "image 171/2500 /repos/uni-si/R2S4/DNN/End_project/images/test_v3/card_1151.jpg: 320x320 1 rotated_photo, 14.6ms\n",
      "image 172/2500 /repos/uni-si/R2S4/DNN/End_project/images/test_v3/card_1152.jpg: 320x320 1 rotated_photo, 14.1ms\n",
      "image 173/2500 /repos/uni-si/R2S4/DNN/End_project/images/test_v3/card_1153.jpg: 320x320 1 rotated_photo, 14.1ms\n",
      "image 174/2500 /repos/uni-si/R2S4/DNN/End_project/images/test_v3/card_1154.jpg: 320x320 1 rotated_photo, 21.5ms\n",
      "image 175/2500 /repos/uni-si/R2S4/DNN/End_project/images/test_v3/card_1155.jpg: 320x320 1 rotated_photo, 12.9ms\n",
      "image 176/2500 /repos/uni-si/R2S4/DNN/End_project/images/test_v3/card_1156.jpg: 320x320 1 rotated_photo, 18.2ms\n",
      "image 177/2500 /repos/uni-si/R2S4/DNN/End_project/images/test_v3/card_1157.jpg: 320x320 1 rotated_photo, 13.7ms\n",
      "image 178/2500 /repos/uni-si/R2S4/DNN/End_project/images/test_v3/card_1158.jpg: 320x320 1 rotated_photo, 14.6ms\n",
      "image 179/2500 /repos/uni-si/R2S4/DNN/End_project/images/test_v3/card_1159.jpg: 320x320 1 rotated_photo, 28.9ms\n",
      "image 180/2500 /repos/uni-si/R2S4/DNN/End_project/images/test_v3/card_116.jpg: 320x320 1 rotated_photo, 19.6ms\n",
      "image 181/2500 /repos/uni-si/R2S4/DNN/End_project/images/test_v3/card_1160.jpg: 320x320 1 rotated_photo, 15.7ms\n",
      "image 182/2500 /repos/uni-si/R2S4/DNN/End_project/images/test_v3/card_1161.jpg: 320x320 1 rotated_photo, 14.1ms\n",
      "image 183/2500 /repos/uni-si/R2S4/DNN/End_project/images/test_v3/card_1162.jpg: 320x320 1 rotated_photo, 14.0ms\n",
      "image 184/2500 /repos/uni-si/R2S4/DNN/End_project/images/test_v3/card_1163.jpg: 320x320 1 rotated_photo, 16.2ms\n",
      "image 185/2500 /repos/uni-si/R2S4/DNN/End_project/images/test_v3/card_1164.jpg: 320x320 1 rotated_photo, 29.9ms\n",
      "image 186/2500 /repos/uni-si/R2S4/DNN/End_project/images/test_v3/card_1165.jpg: 320x320 1 rotated_photo, 14.9ms\n",
      "image 187/2500 /repos/uni-si/R2S4/DNN/End_project/images/test_v3/card_1166.jpg: 320x320 1 rotated_photo, 13.3ms\n",
      "image 188/2500 /repos/uni-si/R2S4/DNN/End_project/images/test_v3/card_1167.jpg: 320x320 1 rotated_photo, 14.5ms\n",
      "image 189/2500 /repos/uni-si/R2S4/DNN/End_project/images/test_v3/card_1168.jpg: 320x320 1 rotated_photo, 15.1ms\n",
      "image 190/2500 /repos/uni-si/R2S4/DNN/End_project/images/test_v3/card_1169.jpg: 320x320 1 rotated_photo, 13.5ms\n",
      "image 191/2500 /repos/uni-si/R2S4/DNN/End_project/images/test_v3/card_117.jpg: 320x320 1 rotated_photo, 13.9ms\n",
      "image 192/2500 /repos/uni-si/R2S4/DNN/End_project/images/test_v3/card_1170.jpg: 320x320 1 rotated_photo, 13.7ms\n",
      "image 193/2500 /repos/uni-si/R2S4/DNN/End_project/images/test_v3/card_1171.jpg: 320x320 1 rotated_photo, 17.3ms\n",
      "image 194/2500 /repos/uni-si/R2S4/DNN/End_project/images/test_v3/card_1172.jpg: 320x320 1 rotated_photo, 43.4ms\n",
      "image 195/2500 /repos/uni-si/R2S4/DNN/End_project/images/test_v3/card_1173.jpg: 320x320 1 rotated_photo, 25.7ms\n",
      "image 196/2500 /repos/uni-si/R2S4/DNN/End_project/images/test_v3/card_1174.jpg: 320x320 1 rotated_photo, 31.8ms\n",
      "image 197/2500 /repos/uni-si/R2S4/DNN/End_project/images/test_v3/card_1175.jpg: 320x320 1 rotated_photo, 16.2ms\n",
      "image 198/2500 /repos/uni-si/R2S4/DNN/End_project/images/test_v3/card_1176.jpg: 320x320 1 rotated_photo, 13.8ms\n",
      "image 199/2500 /repos/uni-si/R2S4/DNN/End_project/images/test_v3/card_1177.jpg: 320x320 1 rotated_photo, 14.8ms\n",
      "image 200/2500 /repos/uni-si/R2S4/DNN/End_project/images/test_v3/card_1178.jpg: 320x320 1 rotated_photo, 14.3ms\n",
      "image 201/2500 /repos/uni-si/R2S4/DNN/End_project/images/test_v3/card_1179.jpg: 320x320 1 rotated_photo, 14.3ms\n",
      "image 202/2500 /repos/uni-si/R2S4/DNN/End_project/images/test_v3/card_118.jpg: 320x320 1 rotated_photo, 14.4ms\n",
      "image 203/2500 /repos/uni-si/R2S4/DNN/End_project/images/test_v3/card_1180.jpg: 320x320 1 rotated_photo, 14.8ms\n",
      "image 204/2500 /repos/uni-si/R2S4/DNN/End_project/images/test_v3/card_1181.jpg: 320x320 1 rotated_photo, 15.3ms\n",
      "image 205/2500 /repos/uni-si/R2S4/DNN/End_project/images/test_v3/card_1182.jpg: 320x320 1 rotated_photo, 13.9ms\n",
      "image 206/2500 /repos/uni-si/R2S4/DNN/End_project/images/test_v3/card_1183.jpg: 320x320 1 rotated_photo, 13.5ms\n",
      "image 207/2500 /repos/uni-si/R2S4/DNN/End_project/images/test_v3/card_1184.jpg: 320x320 1 rotated_photo, 14.1ms\n",
      "image 208/2500 /repos/uni-si/R2S4/DNN/End_project/images/test_v3/card_1185.jpg: 320x320 1 rotated_photo, 16.5ms\n",
      "image 209/2500 /repos/uni-si/R2S4/DNN/End_project/images/test_v3/card_1186.jpg: 320x320 1 rotated_photo, 14.6ms\n",
      "image 210/2500 /repos/uni-si/R2S4/DNN/End_project/images/test_v3/card_1187.jpg: 320x320 1 rotated_photo, 13.7ms\n",
      "image 211/2500 /repos/uni-si/R2S4/DNN/End_project/images/test_v3/card_1188.jpg: 320x320 1 rotated_photo, 14.2ms\n",
      "image 212/2500 /repos/uni-si/R2S4/DNN/End_project/images/test_v3/card_1189.jpg: 320x320 1 rotated_photo, 13.4ms\n",
      "image 213/2500 /repos/uni-si/R2S4/DNN/End_project/images/test_v3/card_119.jpg: 320x320 1 rotated_photo, 19.4ms\n",
      "image 214/2500 /repos/uni-si/R2S4/DNN/End_project/images/test_v3/card_1190.jpg: 320x320 1 rotated_photo, 14.4ms\n",
      "image 215/2500 /repos/uni-si/R2S4/DNN/End_project/images/test_v3/card_1191.jpg: 320x320 1 rotated_photo, 19.4ms\n",
      "image 216/2500 /repos/uni-si/R2S4/DNN/End_project/images/test_v3/card_1192.jpg: 320x320 1 rotated_photo, 15.4ms\n",
      "image 217/2500 /repos/uni-si/R2S4/DNN/End_project/images/test_v3/card_1193.jpg: 320x320 1 rotated_photo, 15.0ms\n",
      "image 218/2500 /repos/uni-si/R2S4/DNN/End_project/images/test_v3/card_1194.jpg: 320x320 1 rotated_photo, 15.3ms\n",
      "image 219/2500 /repos/uni-si/R2S4/DNN/End_project/images/test_v3/card_1195.jpg: 320x320 1 rotated_photo, 18.4ms\n",
      "image 220/2500 /repos/uni-si/R2S4/DNN/End_project/images/test_v3/card_1196.jpg: 320x320 1 rotated_photo, 19.6ms\n",
      "image 221/2500 /repos/uni-si/R2S4/DNN/End_project/images/test_v3/card_1197.jpg: 320x320 1 rotated_photo, 35.3ms\n",
      "image 222/2500 /repos/uni-si/R2S4/DNN/End_project/images/test_v3/card_1198.jpg: 320x320 1 rotated_photo, 14.1ms\n",
      "image 223/2500 /repos/uni-si/R2S4/DNN/End_project/images/test_v3/card_1199.jpg: 320x320 1 rotated_photo, 15.4ms\n",
      "image 224/2500 /repos/uni-si/R2S4/DNN/End_project/images/test_v3/card_12.jpg: 320x320 1 rotated_photo, 13.8ms\n",
      "image 225/2500 /repos/uni-si/R2S4/DNN/End_project/images/test_v3/card_120.jpg: 320x320 1 rotated_photo, 15.9ms\n",
      "image 226/2500 /repos/uni-si/R2S4/DNN/End_project/images/test_v3/card_1200.jpg: 320x320 1 rotated_photo, 14.7ms\n",
      "image 227/2500 /repos/uni-si/R2S4/DNN/End_project/images/test_v3/card_1201.jpg: 320x320 1 rotated_photo, 14.4ms\n",
      "image 228/2500 /repos/uni-si/R2S4/DNN/End_project/images/test_v3/card_1202.jpg: 320x320 1 rotated_photo, 17.5ms\n",
      "image 229/2500 /repos/uni-si/R2S4/DNN/End_project/images/test_v3/card_1203.jpg: 320x320 1 rotated_photo, 33.8ms\n",
      "image 230/2500 /repos/uni-si/R2S4/DNN/End_project/images/test_v3/card_1204.jpg: 320x320 1 rotated_photo, 14.1ms\n",
      "image 231/2500 /repos/uni-si/R2S4/DNN/End_project/images/test_v3/card_1205.jpg: 320x320 1 rotated_photo, 22.4ms\n",
      "image 232/2500 /repos/uni-si/R2S4/DNN/End_project/images/test_v3/card_1206.jpg: 320x320 1 rotated_photo, 34.8ms\n",
      "image 233/2500 /repos/uni-si/R2S4/DNN/End_project/images/test_v3/card_1207.jpg: 320x320 1 rotated_photo, 14.7ms\n",
      "image 234/2500 /repos/uni-si/R2S4/DNN/End_project/images/test_v3/card_1208.jpg: 320x320 1 rotated_photo, 15.8ms\n",
      "image 235/2500 /repos/uni-si/R2S4/DNN/End_project/images/test_v3/card_1209.jpg: 320x320 1 rotated_photo, 14.9ms\n",
      "image 236/2500 /repos/uni-si/R2S4/DNN/End_project/images/test_v3/card_121.jpg: 320x320 1 rotated_photo, 14.3ms\n",
      "image 237/2500 /repos/uni-si/R2S4/DNN/End_project/images/test_v3/card_1210.jpg: 320x320 1 rotated_photo, 14.4ms\n",
      "image 238/2500 /repos/uni-si/R2S4/DNN/End_project/images/test_v3/card_1211.jpg: 320x320 1 rotated_photo, 14.4ms\n",
      "image 239/2500 /repos/uni-si/R2S4/DNN/End_project/images/test_v3/card_1212.jpg: 320x320 1 rotated_photo, 15.2ms\n",
      "image 240/2500 /repos/uni-si/R2S4/DNN/End_project/images/test_v3/card_1213.jpg: 320x320 1 rotated_photo, 14.6ms\n",
      "image 241/2500 /repos/uni-si/R2S4/DNN/End_project/images/test_v3/card_1214.jpg: 320x320 1 rotated_photo, 30.7ms\n",
      "image 242/2500 /repos/uni-si/R2S4/DNN/End_project/images/test_v3/card_1215.jpg: 320x320 1 rotated_photo, 14.8ms\n",
      "image 243/2500 /repos/uni-si/R2S4/DNN/End_project/images/test_v3/card_1216.jpg: 320x320 1 rotated_photo, 14.6ms\n",
      "image 244/2500 /repos/uni-si/R2S4/DNN/End_project/images/test_v3/card_1217.jpg: 320x320 1 rotated_photo, 14.1ms\n",
      "image 245/2500 /repos/uni-si/R2S4/DNN/End_project/images/test_v3/card_1218.jpg: 320x320 1 rotated_photo, 14.8ms\n",
      "image 246/2500 /repos/uni-si/R2S4/DNN/End_project/images/test_v3/card_1219.jpg: 320x320 1 rotated_photo, 15.1ms\n",
      "image 247/2500 /repos/uni-si/R2S4/DNN/End_project/images/test_v3/card_122.jpg: 320x320 1 rotated_photo, 14.2ms\n",
      "image 248/2500 /repos/uni-si/R2S4/DNN/End_project/images/test_v3/card_1220.jpg: 320x320 1 rotated_photo, 14.1ms\n",
      "image 249/2500 /repos/uni-si/R2S4/DNN/End_project/images/test_v3/card_1221.jpg: 320x320 1 rotated_photo, 16.7ms\n",
      "image 250/2500 /repos/uni-si/R2S4/DNN/End_project/images/test_v3/card_1222.jpg: 320x320 1 rotated_photo, 15.5ms\n",
      "image 251/2500 /repos/uni-si/R2S4/DNN/End_project/images/test_v3/card_1223.jpg: 320x320 1 rotated_photo, 30.7ms\n",
      "image 252/2500 /repos/uni-si/R2S4/DNN/End_project/images/test_v3/card_1224.jpg: 320x320 1 rotated_photo, 15.2ms\n",
      "image 253/2500 /repos/uni-si/R2S4/DNN/End_project/images/test_v3/card_1225.jpg: 320x320 1 rotated_photo, 14.0ms\n",
      "image 254/2500 /repos/uni-si/R2S4/DNN/End_project/images/test_v3/card_1226.jpg: 320x320 1 rotated_photo, 15.2ms\n",
      "image 255/2500 /repos/uni-si/R2S4/DNN/End_project/images/test_v3/card_1227.jpg: 320x320 1 rotated_photo, 14.2ms\n",
      "image 256/2500 /repos/uni-si/R2S4/DNN/End_project/images/test_v3/card_1228.jpg: 320x320 1 rotated_photo, 28.2ms\n",
      "image 257/2500 /repos/uni-si/R2S4/DNN/End_project/images/test_v3/card_1229.jpg: 320x320 1 rotated_photo, 14.6ms\n",
      "image 258/2500 /repos/uni-si/R2S4/DNN/End_project/images/test_v3/card_123.jpg: 320x320 1 rotated_photo, 15.5ms\n",
      "image 259/2500 /repos/uni-si/R2S4/DNN/End_project/images/test_v3/card_1230.jpg: 320x320 1 rotated_photo, 14.0ms\n",
      "image 260/2500 /repos/uni-si/R2S4/DNN/End_project/images/test_v3/card_1231.jpg: 320x320 1 rotated_photo, 36.7ms\n",
      "image 261/2500 /repos/uni-si/R2S4/DNN/End_project/images/test_v3/card_1232.jpg: 320x320 1 rotated_photo, 24.8ms\n",
      "image 262/2500 /repos/uni-si/R2S4/DNN/End_project/images/test_v3/card_1233.jpg: 320x320 1 rotated_photo, 13.8ms\n",
      "image 263/2500 /repos/uni-si/R2S4/DNN/End_project/images/test_v3/card_1234.jpg: 320x320 1 rotated_photo, 16.5ms\n",
      "image 264/2500 /repos/uni-si/R2S4/DNN/End_project/images/test_v3/card_1235.jpg: 320x320 1 rotated_photo, 15.2ms\n",
      "image 265/2500 /repos/uni-si/R2S4/DNN/End_project/images/test_v3/card_1236.jpg: 320x320 1 rotated_photo, 15.8ms\n",
      "image 266/2500 /repos/uni-si/R2S4/DNN/End_project/images/test_v3/card_1237.jpg: 320x320 1 rotated_photo, 14.4ms\n",
      "image 267/2500 /repos/uni-si/R2S4/DNN/End_project/images/test_v3/card_1238.jpg: 320x320 1 rotated_photo, 14.7ms\n",
      "image 268/2500 /repos/uni-si/R2S4/DNN/End_project/images/test_v3/card_1239.jpg: 320x320 1 rotated_photo, 15.0ms\n",
      "image 269/2500 /repos/uni-si/R2S4/DNN/End_project/images/test_v3/card_124.jpg: 320x320 1 rotated_photo, 27.7ms\n",
      "image 270/2500 /repos/uni-si/R2S4/DNN/End_project/images/test_v3/card_1240.jpg: 320x320 1 rotated_photo, 16.9ms\n",
      "image 271/2500 /repos/uni-si/R2S4/DNN/End_project/images/test_v3/card_1241.jpg: 320x320 1 rotated_photo, 17.2ms\n",
      "image 272/2500 /repos/uni-si/R2S4/DNN/End_project/images/test_v3/card_1242.jpg: 320x320 1 rotated_photo, 23.5ms\n",
      "image 273/2500 /repos/uni-si/R2S4/DNN/End_project/images/test_v3/card_1243.jpg: 320x320 1 rotated_photo, 14.1ms\n",
      "image 274/2500 /repos/uni-si/R2S4/DNN/End_project/images/test_v3/card_1244.jpg: 320x320 1 rotated_photo, 26.6ms\n",
      "image 275/2500 /repos/uni-si/R2S4/DNN/End_project/images/test_v3/card_1245.jpg: 320x320 1 rotated_photo, 14.7ms\n",
      "image 276/2500 /repos/uni-si/R2S4/DNN/End_project/images/test_v3/card_1246.jpg: 320x320 1 rotated_photo, 14.1ms\n",
      "image 277/2500 /repos/uni-si/R2S4/DNN/End_project/images/test_v3/card_1247.jpg: 320x320 1 rotated_photo, 13.4ms\n",
      "image 278/2500 /repos/uni-si/R2S4/DNN/End_project/images/test_v3/card_1248.jpg: 320x320 1 rotated_photo, 14.5ms\n",
      "image 279/2500 /repos/uni-si/R2S4/DNN/End_project/images/test_v3/card_1249.jpg: 320x320 1 rotated_photo, 15.1ms\n",
      "image 280/2500 /repos/uni-si/R2S4/DNN/End_project/images/test_v3/card_125.jpg: 320x320 1 rotated_photo, 42.0ms\n",
      "image 281/2500 /repos/uni-si/R2S4/DNN/End_project/images/test_v3/card_1250.jpg: 320x320 1 rotated_photo, 15.0ms\n",
      "image 282/2500 /repos/uni-si/R2S4/DNN/End_project/images/test_v3/card_1251.jpg: 320x320 1 rotated_photo, 16.5ms\n",
      "image 283/2500 /repos/uni-si/R2S4/DNN/End_project/images/test_v3/card_1252.jpg: 320x320 1 rotated_photo, 14.3ms\n",
      "image 284/2500 /repos/uni-si/R2S4/DNN/End_project/images/test_v3/card_1253.jpg: 320x320 1 rotated_photo, 15.5ms\n",
      "image 285/2500 /repos/uni-si/R2S4/DNN/End_project/images/test_v3/card_1254.jpg: 320x320 1 rotated_photo, 19.4ms\n",
      "image 286/2500 /repos/uni-si/R2S4/DNN/End_project/images/test_v3/card_1255.jpg: 320x320 1 rotated_photo, 16.9ms\n",
      "image 287/2500 /repos/uni-si/R2S4/DNN/End_project/images/test_v3/card_1256.jpg: 320x320 1 rotated_photo, 15.9ms\n",
      "image 288/2500 /repos/uni-si/R2S4/DNN/End_project/images/test_v3/card_1257.jpg: 320x320 1 rotated_photo, 14.0ms\n",
      "image 289/2500 /repos/uni-si/R2S4/DNN/End_project/images/test_v3/card_1258.jpg: 320x320 1 rotated_photo, 25.3ms\n",
      "image 290/2500 /repos/uni-si/R2S4/DNN/End_project/images/test_v3/card_1259.jpg: 320x320 1 rotated_photo, 19.4ms\n",
      "image 291/2500 /repos/uni-si/R2S4/DNN/End_project/images/test_v3/card_126.jpg: 320x320 1 rotated_photo, 18.6ms\n",
      "image 292/2500 /repos/uni-si/R2S4/DNN/End_project/images/test_v3/card_1260.jpg: 320x320 1 rotated_photo, 16.4ms\n",
      "image 293/2500 /repos/uni-si/R2S4/DNN/End_project/images/test_v3/card_1261.jpg: 320x320 1 rotated_photo, 26.6ms\n",
      "image 294/2500 /repos/uni-si/R2S4/DNN/End_project/images/test_v3/card_1262.jpg: 320x320 1 rotated_photo, 23.6ms\n",
      "image 295/2500 /repos/uni-si/R2S4/DNN/End_project/images/test_v3/card_1263.jpg: 320x320 1 rotated_photo, 14.3ms\n",
      "image 296/2500 /repos/uni-si/R2S4/DNN/End_project/images/test_v3/card_1264.jpg: 320x320 1 rotated_photo, 17.9ms\n",
      "image 297/2500 /repos/uni-si/R2S4/DNN/End_project/images/test_v3/card_1265.jpg: 320x320 1 rotated_photo, 23.0ms\n",
      "image 298/2500 /repos/uni-si/R2S4/DNN/End_project/images/test_v3/card_1266.jpg: 320x320 1 rotated_photo, 15.7ms\n",
      "image 299/2500 /repos/uni-si/R2S4/DNN/End_project/images/test_v3/card_1267.jpg: 320x320 1 rotated_photo, 15.3ms\n",
      "image 300/2500 /repos/uni-si/R2S4/DNN/End_project/images/test_v3/card_1268.jpg: 320x320 1 rotated_photo, 20.0ms\n",
      "image 301/2500 /repos/uni-si/R2S4/DNN/End_project/images/test_v3/card_1269.jpg: 320x320 1 rotated_photo, 14.8ms\n",
      "image 302/2500 /repos/uni-si/R2S4/DNN/End_project/images/test_v3/card_127.jpg: 320x320 1 rotated_photo, 14.0ms\n",
      "image 303/2500 /repos/uni-si/R2S4/DNN/End_project/images/test_v3/card_1270.jpg: 320x320 1 rotated_photo, 40.7ms\n",
      "image 304/2500 /repos/uni-si/R2S4/DNN/End_project/images/test_v3/card_1271.jpg: 320x320 1 rotated_photo, 17.9ms\n",
      "image 305/2500 /repos/uni-si/R2S4/DNN/End_project/images/test_v3/card_1272.jpg: 320x320 1 rotated_photo, 18.3ms\n",
      "image 306/2500 /repos/uni-si/R2S4/DNN/End_project/images/test_v3/card_1273.jpg: 320x320 1 rotated_photo, 22.2ms\n",
      "image 307/2500 /repos/uni-si/R2S4/DNN/End_project/images/test_v3/card_1274.jpg: 320x320 1 rotated_photo, 17.1ms\n",
      "image 308/2500 /repos/uni-si/R2S4/DNN/End_project/images/test_v3/card_1275.jpg: 320x320 1 rotated_photo, 21.7ms\n",
      "image 309/2500 /repos/uni-si/R2S4/DNN/End_project/images/test_v3/card_1276.jpg: 320x320 1 rotated_photo, 15.4ms\n",
      "image 310/2500 /repos/uni-si/R2S4/DNN/End_project/images/test_v3/card_1277.jpg: 320x320 1 rotated_photo, 14.6ms\n",
      "image 311/2500 /repos/uni-si/R2S4/DNN/End_project/images/test_v3/card_1278.jpg: 320x320 1 rotated_photo, 14.0ms\n",
      "image 312/2500 /repos/uni-si/R2S4/DNN/End_project/images/test_v3/card_1279.jpg: 320x320 1 rotated_photo, 13.9ms\n",
      "image 313/2500 /repos/uni-si/R2S4/DNN/End_project/images/test_v3/card_128.jpg: 320x320 1 rotated_photo, 14.2ms\n",
      "image 314/2500 /repos/uni-si/R2S4/DNN/End_project/images/test_v3/card_1280.jpg: 320x320 1 rotated_photo, 14.7ms\n",
      "image 315/2500 /repos/uni-si/R2S4/DNN/End_project/images/test_v3/card_1281.jpg: 320x320 1 rotated_photo, 20.7ms\n",
      "image 316/2500 /repos/uni-si/R2S4/DNN/End_project/images/test_v3/card_1282.jpg: 320x320 1 rotated_photo, 15.4ms\n",
      "image 317/2500 /repos/uni-si/R2S4/DNN/End_project/images/test_v3/card_1283.jpg: 320x320 1 rotated_photo, 14.0ms\n",
      "image 318/2500 /repos/uni-si/R2S4/DNN/End_project/images/test_v3/card_1284.jpg: 320x320 1 rotated_photo, 13.8ms\n",
      "image 319/2500 /repos/uni-si/R2S4/DNN/End_project/images/test_v3/card_1285.jpg: 320x320 1 rotated_photo, 14.9ms\n",
      "image 320/2500 /repos/uni-si/R2S4/DNN/End_project/images/test_v3/card_1286.jpg: 320x320 1 rotated_photo, 17.0ms\n",
      "image 321/2500 /repos/uni-si/R2S4/DNN/End_project/images/test_v3/card_1287.jpg: 320x320 1 rotated_photo, 16.0ms\n",
      "image 322/2500 /repos/uni-si/R2S4/DNN/End_project/images/test_v3/card_1288.jpg: 320x320 1 rotated_photo, 18.3ms\n",
      "image 323/2500 /repos/uni-si/R2S4/DNN/End_project/images/test_v3/card_1289.jpg: 320x320 1 rotated_photo, 15.1ms\n",
      "image 324/2500 /repos/uni-si/R2S4/DNN/End_project/images/test_v3/card_129.jpg: 320x320 1 rotated_photo, 41.8ms\n",
      "image 325/2500 /repos/uni-si/R2S4/DNN/End_project/images/test_v3/card_1290.jpg: 320x320 1 rotated_photo, 26.7ms\n",
      "image 326/2500 /repos/uni-si/R2S4/DNN/End_project/images/test_v3/card_1291.jpg: 320x320 1 rotated_photo, 44.8ms\n",
      "image 327/2500 /repos/uni-si/R2S4/DNN/End_project/images/test_v3/card_1292.jpg: 320x320 1 rotated_photo, 14.3ms\n",
      "image 328/2500 /repos/uni-si/R2S4/DNN/End_project/images/test_v3/card_1293.jpg: 320x320 1 rotated_photo, 15.6ms\n",
      "image 329/2500 /repos/uni-si/R2S4/DNN/End_project/images/test_v3/card_1294.jpg: 320x320 1 rotated_photo, 13.7ms\n",
      "image 330/2500 /repos/uni-si/R2S4/DNN/End_project/images/test_v3/card_1295.jpg: 320x320 1 rotated_photo, 16.3ms\n",
      "image 331/2500 /repos/uni-si/R2S4/DNN/End_project/images/test_v3/card_1296.jpg: 320x320 1 rotated_photo, 13.9ms\n",
      "image 332/2500 /repos/uni-si/R2S4/DNN/End_project/images/test_v3/card_1297.jpg: 320x320 1 rotated_photo, 14.8ms\n",
      "image 333/2500 /repos/uni-si/R2S4/DNN/End_project/images/test_v3/card_1298.jpg: 320x320 1 rotated_photo, 13.9ms\n",
      "image 334/2500 /repos/uni-si/R2S4/DNN/End_project/images/test_v3/card_1299.jpg: 320x320 1 rotated_photo, 13.4ms\n",
      "image 335/2500 /repos/uni-si/R2S4/DNN/End_project/images/test_v3/card_13.jpg: 320x320 1 rotated_photo, 13.4ms\n",
      "image 336/2500 /repos/uni-si/R2S4/DNN/End_project/images/test_v3/card_130.jpg: 320x320 1 rotated_photo, 15.2ms\n",
      "image 337/2500 /repos/uni-si/R2S4/DNN/End_project/images/test_v3/card_1300.jpg: 320x320 1 rotated_photo, 14.4ms\n",
      "image 338/2500 /repos/uni-si/R2S4/DNN/End_project/images/test_v3/card_1301.jpg: 320x320 1 rotated_photo, 14.4ms\n",
      "image 339/2500 /repos/uni-si/R2S4/DNN/End_project/images/test_v3/card_1302.jpg: 320x320 1 rotated_photo, 14.1ms\n",
      "image 340/2500 /repos/uni-si/R2S4/DNN/End_project/images/test_v3/card_1303.jpg: 320x320 1 rotated_photo, 13.3ms\n",
      "image 341/2500 /repos/uni-si/R2S4/DNN/End_project/images/test_v3/card_1304.jpg: 320x320 1 rotated_photo, 20.0ms\n",
      "image 342/2500 /repos/uni-si/R2S4/DNN/End_project/images/test_v3/card_1305.jpg: 320x320 1 rotated_photo, 19.1ms\n",
      "image 343/2500 /repos/uni-si/R2S4/DNN/End_project/images/test_v3/card_1306.jpg: 320x320 1 rotated_photo, 13.2ms\n",
      "image 344/2500 /repos/uni-si/R2S4/DNN/End_project/images/test_v3/card_1307.jpg: 320x320 1 rotated_photo, 15.6ms\n",
      "image 345/2500 /repos/uni-si/R2S4/DNN/End_project/images/test_v3/card_1308.jpg: 320x320 1 rotated_photo, 44.6ms\n",
      "image 346/2500 /repos/uni-si/R2S4/DNN/End_project/images/test_v3/card_1309.jpg: 320x320 1 rotated_photo, 17.0ms\n",
      "image 347/2500 /repos/uni-si/R2S4/DNN/End_project/images/test_v3/card_131.jpg: 320x320 1 rotated_photo, 14.1ms\n",
      "image 348/2500 /repos/uni-si/R2S4/DNN/End_project/images/test_v3/card_1310.jpg: 320x320 1 rotated_photo, 14.2ms\n",
      "image 349/2500 /repos/uni-si/R2S4/DNN/End_project/images/test_v3/card_1311.jpg: 320x320 1 rotated_photo, 21.0ms\n",
      "image 350/2500 /repos/uni-si/R2S4/DNN/End_project/images/test_v3/card_1312.jpg: 320x320 1 rotated_photo, 17.8ms\n",
      "image 351/2500 /repos/uni-si/R2S4/DNN/End_project/images/test_v3/card_1313.jpg: 320x320 1 rotated_photo, 15.5ms\n",
      "image 352/2500 /repos/uni-si/R2S4/DNN/End_project/images/test_v3/card_1314.jpg: 320x320 1 rotated_photo, 19.1ms\n",
      "image 353/2500 /repos/uni-si/R2S4/DNN/End_project/images/test_v3/card_1315.jpg: 320x320 1 rotated_photo, 13.6ms\n",
      "image 354/2500 /repos/uni-si/R2S4/DNN/End_project/images/test_v3/card_1316.jpg: 320x320 1 rotated_photo, 14.1ms\n",
      "image 355/2500 /repos/uni-si/R2S4/DNN/End_project/images/test_v3/card_1317.jpg: 320x320 1 rotated_photo, 13.6ms\n",
      "image 356/2500 /repos/uni-si/R2S4/DNN/End_project/images/test_v3/card_1318.jpg: 320x320 1 rotated_photo, 13.7ms\n",
      "image 357/2500 /repos/uni-si/R2S4/DNN/End_project/images/test_v3/card_1319.jpg: 320x320 1 rotated_photo, 13.0ms\n",
      "image 358/2500 /repos/uni-si/R2S4/DNN/End_project/images/test_v3/card_132.jpg: 320x320 1 rotated_photo, 14.3ms\n",
      "image 359/2500 /repos/uni-si/R2S4/DNN/End_project/images/test_v3/card_1320.jpg: 320x320 1 rotated_photo, 13.9ms\n",
      "image 360/2500 /repos/uni-si/R2S4/DNN/End_project/images/test_v3/card_1321.jpg: 320x320 1 rotated_photo, 13.9ms\n",
      "image 361/2500 /repos/uni-si/R2S4/DNN/End_project/images/test_v3/card_1322.jpg: 320x320 1 rotated_photo, 13.6ms\n",
      "image 362/2500 /repos/uni-si/R2S4/DNN/End_project/images/test_v3/card_1323.jpg: 320x320 1 rotated_photo, 13.7ms\n",
      "image 363/2500 /repos/uni-si/R2S4/DNN/End_project/images/test_v3/card_1324.jpg: 320x320 1 rotated_photo, 13.3ms\n",
      "image 364/2500 /repos/uni-si/R2S4/DNN/End_project/images/test_v3/card_1325.jpg: 320x320 1 rotated_photo, 15.6ms\n",
      "image 365/2500 /repos/uni-si/R2S4/DNN/End_project/images/test_v3/card_1326.jpg: 320x320 1 rotated_photo, 18.3ms\n",
      "image 366/2500 /repos/uni-si/R2S4/DNN/End_project/images/test_v3/card_1327.jpg: 320x320 1 rotated_photo, 16.1ms\n",
      "image 367/2500 /repos/uni-si/R2S4/DNN/End_project/images/test_v3/card_1328.jpg: 320x320 1 rotated_photo, 15.5ms\n",
      "image 368/2500 /repos/uni-si/R2S4/DNN/End_project/images/test_v3/card_1329.jpg: 320x320 1 rotated_photo, 13.7ms\n",
      "image 369/2500 /repos/uni-si/R2S4/DNN/End_project/images/test_v3/card_133.jpg: 320x320 1 rotated_photo, 14.5ms\n",
      "image 370/2500 /repos/uni-si/R2S4/DNN/End_project/images/test_v3/card_1330.jpg: 320x320 1 rotated_photo, 15.0ms\n",
      "image 371/2500 /repos/uni-si/R2S4/DNN/End_project/images/test_v3/card_1331.jpg: 320x320 1 rotated_photo, 17.9ms\n",
      "image 372/2500 /repos/uni-si/R2S4/DNN/End_project/images/test_v3/card_1332.jpg: 320x320 1 rotated_photo, 14.2ms\n",
      "image 373/2500 /repos/uni-si/R2S4/DNN/End_project/images/test_v3/card_1333.jpg: 320x320 1 rotated_photo, 17.9ms\n",
      "image 374/2500 /repos/uni-si/R2S4/DNN/End_project/images/test_v3/card_1334.jpg: 320x320 1 rotated_photo, 24.0ms\n",
      "image 375/2500 /repos/uni-si/R2S4/DNN/End_project/images/test_v3/card_1335.jpg: 320x320 1 rotated_photo, 19.0ms\n",
      "image 376/2500 /repos/uni-si/R2S4/DNN/End_project/images/test_v3/card_1336.jpg: 320x320 1 rotated_photo, 19.2ms\n",
      "image 377/2500 /repos/uni-si/R2S4/DNN/End_project/images/test_v3/card_1337.jpg: 320x320 1 rotated_photo, 14.0ms\n",
      "image 378/2500 /repos/uni-si/R2S4/DNN/End_project/images/test_v3/card_1338.jpg: 320x320 1 rotated_photo, 13.7ms\n",
      "image 379/2500 /repos/uni-si/R2S4/DNN/End_project/images/test_v3/card_1339.jpg: 320x320 1 rotated_photo, 15.5ms\n",
      "image 380/2500 /repos/uni-si/R2S4/DNN/End_project/images/test_v3/card_134.jpg: 320x320 1 rotated_photo, 13.6ms\n",
      "image 381/2500 /repos/uni-si/R2S4/DNN/End_project/images/test_v3/card_1340.jpg: 320x320 1 rotated_photo, 13.9ms\n",
      "image 382/2500 /repos/uni-si/R2S4/DNN/End_project/images/test_v3/card_1341.jpg: 320x320 1 rotated_photo, 14.4ms\n",
      "image 383/2500 /repos/uni-si/R2S4/DNN/End_project/images/test_v3/card_1342.jpg: 320x320 1 rotated_photo, 14.7ms\n",
      "image 384/2500 /repos/uni-si/R2S4/DNN/End_project/images/test_v3/card_1343.jpg: 320x320 1 rotated_photo, 14.1ms\n",
      "image 385/2500 /repos/uni-si/R2S4/DNN/End_project/images/test_v3/card_1344.jpg: 320x320 1 rotated_photo, 13.8ms\n",
      "image 386/2500 /repos/uni-si/R2S4/DNN/End_project/images/test_v3/card_1345.jpg: 320x320 1 rotated_photo, 13.7ms\n",
      "image 387/2500 /repos/uni-si/R2S4/DNN/End_project/images/test_v3/card_1346.jpg: 320x320 1 rotated_photo, 25.5ms\n",
      "image 388/2500 /repos/uni-si/R2S4/DNN/End_project/images/test_v3/card_1347.jpg: 320x320 1 rotated_photo, 15.2ms\n",
      "image 389/2500 /repos/uni-si/R2S4/DNN/End_project/images/test_v3/card_1348.jpg: 320x320 1 rotated_photo, 15.0ms\n",
      "image 390/2500 /repos/uni-si/R2S4/DNN/End_project/images/test_v3/card_1349.jpg: 320x320 1 rotated_photo, 14.8ms\n",
      "image 391/2500 /repos/uni-si/R2S4/DNN/End_project/images/test_v3/card_135.jpg: 320x320 1 rotated_photo, 15.8ms\n",
      "image 392/2500 /repos/uni-si/R2S4/DNN/End_project/images/test_v3/card_1350.jpg: 320x320 1 rotated_photo, 18.0ms\n",
      "image 393/2500 /repos/uni-si/R2S4/DNN/End_project/images/test_v3/card_1351.jpg: 320x320 1 rotated_photo, 13.4ms\n",
      "image 394/2500 /repos/uni-si/R2S4/DNN/End_project/images/test_v3/card_1352.jpg: 320x320 1 rotated_photo, 17.6ms\n",
      "image 395/2500 /repos/uni-si/R2S4/DNN/End_project/images/test_v3/card_1353.jpg: 320x320 1 rotated_photo, 14.1ms\n",
      "image 396/2500 /repos/uni-si/R2S4/DNN/End_project/images/test_v3/card_1354.jpg: 320x320 1 rotated_photo, 32.0ms\n",
      "image 397/2500 /repos/uni-si/R2S4/DNN/End_project/images/test_v3/card_1355.jpg: 320x320 1 rotated_photo, 14.0ms\n",
      "image 398/2500 /repos/uni-si/R2S4/DNN/End_project/images/test_v3/card_1356.jpg: 320x320 1 rotated_photo, 14.1ms\n",
      "image 399/2500 /repos/uni-si/R2S4/DNN/End_project/images/test_v3/card_1357.jpg: 320x320 1 rotated_photo, 14.3ms\n",
      "image 400/2500 /repos/uni-si/R2S4/DNN/End_project/images/test_v3/card_1358.jpg: 320x320 1 rotated_photo, 13.8ms\n",
      "image 401/2500 /repos/uni-si/R2S4/DNN/End_project/images/test_v3/card_1359.jpg: 320x320 1 rotated_photo, 13.9ms\n",
      "image 402/2500 /repos/uni-si/R2S4/DNN/End_project/images/test_v3/card_136.jpg: 320x320 1 rotated_photo, 15.0ms\n",
      "image 403/2500 /repos/uni-si/R2S4/DNN/End_project/images/test_v3/card_1360.jpg: 320x320 1 rotated_photo, 26.4ms\n",
      "image 404/2500 /repos/uni-si/R2S4/DNN/End_project/images/test_v3/card_1361.jpg: 320x320 1 rotated_photo, 13.4ms\n",
      "image 405/2500 /repos/uni-si/R2S4/DNN/End_project/images/test_v3/card_1362.jpg: 320x320 1 rotated_photo, 13.4ms\n",
      "image 406/2500 /repos/uni-si/R2S4/DNN/End_project/images/test_v3/card_1363.jpg: 320x320 1 rotated_photo, 13.2ms\n",
      "image 407/2500 /repos/uni-si/R2S4/DNN/End_project/images/test_v3/card_1364.jpg: 320x320 1 rotated_photo, 24.2ms\n",
      "image 408/2500 /repos/uni-si/R2S4/DNN/End_project/images/test_v3/card_1365.jpg: 320x320 1 rotated_photo, 12.7ms\n",
      "image 409/2500 /repos/uni-si/R2S4/DNN/End_project/images/test_v3/card_1366.jpg: 320x320 1 rotated_photo, 14.6ms\n",
      "image 410/2500 /repos/uni-si/R2S4/DNN/End_project/images/test_v3/card_1367.jpg: 320x320 1 rotated_photo, 12.8ms\n",
      "image 411/2500 /repos/uni-si/R2S4/DNN/End_project/images/test_v3/card_1368.jpg: 320x320 1 rotated_photo, 13.9ms\n",
      "image 412/2500 /repos/uni-si/R2S4/DNN/End_project/images/test_v3/card_1369.jpg: 320x320 1 rotated_photo, 13.3ms\n",
      "image 413/2500 /repos/uni-si/R2S4/DNN/End_project/images/test_v3/card_137.jpg: 320x320 1 rotated_photo, 13.0ms\n",
      "image 414/2500 /repos/uni-si/R2S4/DNN/End_project/images/test_v3/card_1370.jpg: 320x320 1 rotated_photo, 13.2ms\n",
      "image 415/2500 /repos/uni-si/R2S4/DNN/End_project/images/test_v3/card_1371.jpg: 320x320 1 rotated_photo, 13.6ms\n",
      "image 416/2500 /repos/uni-si/R2S4/DNN/End_project/images/test_v3/card_1372.jpg: 320x320 1 rotated_photo, 14.5ms\n",
      "image 417/2500 /repos/uni-si/R2S4/DNN/End_project/images/test_v3/card_1373.jpg: 320x320 1 rotated_photo, 13.7ms\n",
      "image 418/2500 /repos/uni-si/R2S4/DNN/End_project/images/test_v3/card_1374.jpg: 320x320 1 rotated_photo, 13.1ms\n",
      "image 419/2500 /repos/uni-si/R2S4/DNN/End_project/images/test_v3/card_1375.jpg: 320x320 1 rotated_photo, 13.2ms\n",
      "image 420/2500 /repos/uni-si/R2S4/DNN/End_project/images/test_v3/card_1376.jpg: 320x320 1 rotated_photo, 14.9ms\n",
      "image 421/2500 /repos/uni-si/R2S4/DNN/End_project/images/test_v3/card_1377.jpg: 320x320 1 rotated_photo, 13.5ms\n",
      "image 422/2500 /repos/uni-si/R2S4/DNN/End_project/images/test_v3/card_1378.jpg: 320x320 1 rotated_photo, 14.6ms\n",
      "image 423/2500 /repos/uni-si/R2S4/DNN/End_project/images/test_v3/card_1379.jpg: 320x320 1 rotated_photo, 30.5ms\n",
      "image 424/2500 /repos/uni-si/R2S4/DNN/End_project/images/test_v3/card_138.jpg: 320x320 1 rotated_photo, 15.0ms\n",
      "image 425/2500 /repos/uni-si/R2S4/DNN/End_project/images/test_v3/card_1380.jpg: 320x320 1 rotated_photo, 16.0ms\n",
      "image 426/2500 /repos/uni-si/R2S4/DNN/End_project/images/test_v3/card_1381.jpg: 320x320 1 rotated_photo, 14.5ms\n",
      "image 427/2500 /repos/uni-si/R2S4/DNN/End_project/images/test_v3/card_1382.jpg: 320x320 1 rotated_photo, 14.7ms\n",
      "image 428/2500 /repos/uni-si/R2S4/DNN/End_project/images/test_v3/card_1383.jpg: 320x320 1 rotated_photo, 14.9ms\n",
      "image 429/2500 /repos/uni-si/R2S4/DNN/End_project/images/test_v3/card_1384.jpg: 320x320 1 rotated_photo, 19.6ms\n",
      "image 430/2500 /repos/uni-si/R2S4/DNN/End_project/images/test_v3/card_1385.jpg: 320x320 1 rotated_photo, 14.8ms\n",
      "image 431/2500 /repos/uni-si/R2S4/DNN/End_project/images/test_v3/card_1386.jpg: 320x320 1 rotated_photo, 17.5ms\n",
      "image 432/2500 /repos/uni-si/R2S4/DNN/End_project/images/test_v3/card_1387.jpg: 320x320 1 rotated_photo, 22.7ms\n",
      "image 433/2500 /repos/uni-si/R2S4/DNN/End_project/images/test_v3/card_1388.jpg: 320x320 1 rotated_photo, 15.5ms\n",
      "image 434/2500 /repos/uni-si/R2S4/DNN/End_project/images/test_v3/card_1389.jpg: 320x320 1 rotated_photo, 22.1ms\n",
      "image 435/2500 /repos/uni-si/R2S4/DNN/End_project/images/test_v3/card_139.jpg: 320x320 1 rotated_photo, 13.2ms\n",
      "image 436/2500 /repos/uni-si/R2S4/DNN/End_project/images/test_v3/card_1390.jpg: 320x320 1 rotated_photo, 13.6ms\n",
      "image 437/2500 /repos/uni-si/R2S4/DNN/End_project/images/test_v3/card_1391.jpg: 320x320 1 rotated_photo, 16.0ms\n",
      "image 438/2500 /repos/uni-si/R2S4/DNN/End_project/images/test_v3/card_1392.jpg: 320x320 1 rotated_photo, 17.8ms\n",
      "image 439/2500 /repos/uni-si/R2S4/DNN/End_project/images/test_v3/card_1393.jpg: 320x320 1 rotated_photo, 16.4ms\n",
      "image 440/2500 /repos/uni-si/R2S4/DNN/End_project/images/test_v3/card_1394.jpg: 320x320 1 rotated_photo, 14.0ms\n",
      "image 441/2500 /repos/uni-si/R2S4/DNN/End_project/images/test_v3/card_1395.jpg: 320x320 1 rotated_photo, 13.2ms\n",
      "image 442/2500 /repos/uni-si/R2S4/DNN/End_project/images/test_v3/card_1396.jpg: 320x320 1 rotated_photo, 14.5ms\n",
      "image 443/2500 /repos/uni-si/R2S4/DNN/End_project/images/test_v3/card_1397.jpg: 320x320 1 rotated_photo, 15.4ms\n",
      "image 444/2500 /repos/uni-si/R2S4/DNN/End_project/images/test_v3/card_1398.jpg: 320x320 1 rotated_photo, 14.0ms\n",
      "image 445/2500 /repos/uni-si/R2S4/DNN/End_project/images/test_v3/card_1399.jpg: 320x320 1 rotated_photo, 15.7ms\n",
      "image 446/2500 /repos/uni-si/R2S4/DNN/End_project/images/test_v3/card_14.jpg: 320x320 1 rotated_photo, 14.6ms\n",
      "image 447/2500 /repos/uni-si/R2S4/DNN/End_project/images/test_v3/card_140.jpg: 320x320 1 rotated_photo, 14.4ms\n",
      "image 448/2500 /repos/uni-si/R2S4/DNN/End_project/images/test_v3/card_1400.jpg: 320x320 1 rotated_photo, 20.1ms\n",
      "image 449/2500 /repos/uni-si/R2S4/DNN/End_project/images/test_v3/card_1401.jpg: 320x320 1 rotated_photo, 25.1ms\n",
      "image 450/2500 /repos/uni-si/R2S4/DNN/End_project/images/test_v3/card_1402.jpg: 320x320 1 rotated_photo, 13.3ms\n",
      "image 451/2500 /repos/uni-si/R2S4/DNN/End_project/images/test_v3/card_1403.jpg: 320x320 1 rotated_photo, 17.6ms\n",
      "image 452/2500 /repos/uni-si/R2S4/DNN/End_project/images/test_v3/card_1404.jpg: 320x320 1 rotated_photo, 14.0ms\n",
      "image 453/2500 /repos/uni-si/R2S4/DNN/End_project/images/test_v3/card_1405.jpg: 320x320 1 rotated_photo, 14.9ms\n",
      "image 454/2500 /repos/uni-si/R2S4/DNN/End_project/images/test_v3/card_1406.jpg: 320x320 1 rotated_photo, 18.2ms\n",
      "image 455/2500 /repos/uni-si/R2S4/DNN/End_project/images/test_v3/card_1407.jpg: 320x320 1 rotated_photo, 35.7ms\n",
      "image 456/2500 /repos/uni-si/R2S4/DNN/End_project/images/test_v3/card_1408.jpg: 320x320 1 rotated_photo, 26.8ms\n",
      "image 457/2500 /repos/uni-si/R2S4/DNN/End_project/images/test_v3/card_1409.jpg: 320x320 1 rotated_photo, 25.9ms\n",
      "image 458/2500 /repos/uni-si/R2S4/DNN/End_project/images/test_v3/card_141.jpg: 320x320 1 rotated_photo, 14.2ms\n",
      "image 459/2500 /repos/uni-si/R2S4/DNN/End_project/images/test_v3/card_1410.jpg: 320x320 1 rotated_photo, 14.4ms\n",
      "image 460/2500 /repos/uni-si/R2S4/DNN/End_project/images/test_v3/card_1411.jpg: 320x320 1 rotated_photo, 13.9ms\n",
      "image 461/2500 /repos/uni-si/R2S4/DNN/End_project/images/test_v3/card_1412.jpg: 320x320 1 rotated_photo, 13.2ms\n",
      "image 462/2500 /repos/uni-si/R2S4/DNN/End_project/images/test_v3/card_1413.jpg: 320x320 1 rotated_photo, 16.2ms\n",
      "image 463/2500 /repos/uni-si/R2S4/DNN/End_project/images/test_v3/card_1414.jpg: 320x320 1 rotated_photo, 16.3ms\n",
      "image 464/2500 /repos/uni-si/R2S4/DNN/End_project/images/test_v3/card_1415.jpg: 320x320 1 rotated_photo, 24.9ms\n",
      "image 465/2500 /repos/uni-si/R2S4/DNN/End_project/images/test_v3/card_1416.jpg: 320x320 1 rotated_photo, 13.7ms\n",
      "image 466/2500 /repos/uni-si/R2S4/DNN/End_project/images/test_v3/card_1417.jpg: 320x320 1 rotated_photo, 13.7ms\n",
      "image 467/2500 /repos/uni-si/R2S4/DNN/End_project/images/test_v3/card_1418.jpg: 320x320 1 rotated_photo, 13.9ms\n",
      "image 468/2500 /repos/uni-si/R2S4/DNN/End_project/images/test_v3/card_1419.jpg: 320x320 1 rotated_photo, 13.7ms\n",
      "image 469/2500 /repos/uni-si/R2S4/DNN/End_project/images/test_v3/card_142.jpg: 320x320 1 rotated_photo, 13.7ms\n",
      "image 470/2500 /repos/uni-si/R2S4/DNN/End_project/images/test_v3/card_1420.jpg: 320x320 1 rotated_photo, 13.3ms\n",
      "image 471/2500 /repos/uni-si/R2S4/DNN/End_project/images/test_v3/card_1421.jpg: 320x320 1 rotated_photo, 13.8ms\n",
      "image 472/2500 /repos/uni-si/R2S4/DNN/End_project/images/test_v3/card_1422.jpg: 320x320 1 rotated_photo, 13.1ms\n",
      "image 473/2500 /repos/uni-si/R2S4/DNN/End_project/images/test_v3/card_1423.jpg: 320x320 1 rotated_photo, 13.4ms\n",
      "image 474/2500 /repos/uni-si/R2S4/DNN/End_project/images/test_v3/card_1424.jpg: 320x320 1 rotated_photo, 13.3ms\n",
      "image 475/2500 /repos/uni-si/R2S4/DNN/End_project/images/test_v3/card_1425.jpg: 320x320 1 rotated_photo, 13.4ms\n",
      "image 476/2500 /repos/uni-si/R2S4/DNN/End_project/images/test_v3/card_1426.jpg: 320x320 1 rotated_photo, 13.3ms\n",
      "image 477/2500 /repos/uni-si/R2S4/DNN/End_project/images/test_v3/card_1427.jpg: 320x320 1 rotated_photo, 14.4ms\n",
      "image 478/2500 /repos/uni-si/R2S4/DNN/End_project/images/test_v3/card_1428.jpg: 320x320 1 rotated_photo, 14.9ms\n",
      "image 479/2500 /repos/uni-si/R2S4/DNN/End_project/images/test_v3/card_1429.jpg: 320x320 1 rotated_photo, 13.9ms\n",
      "image 480/2500 /repos/uni-si/R2S4/DNN/End_project/images/test_v3/card_143.jpg: 320x320 1 rotated_photo, 14.2ms\n",
      "image 481/2500 /repos/uni-si/R2S4/DNN/End_project/images/test_v3/card_1430.jpg: 320x320 1 rotated_photo, 14.7ms\n",
      "image 482/2500 /repos/uni-si/R2S4/DNN/End_project/images/test_v3/card_1431.jpg: 320x320 1 rotated_photo, 29.0ms\n",
      "image 483/2500 /repos/uni-si/R2S4/DNN/End_project/images/test_v3/card_1432.jpg: 320x320 1 rotated_photo, 17.7ms\n",
      "image 484/2500 /repos/uni-si/R2S4/DNN/End_project/images/test_v3/card_1433.jpg: 320x320 1 rotated_photo, 13.3ms\n",
      "image 485/2500 /repos/uni-si/R2S4/DNN/End_project/images/test_v3/card_1434.jpg: 320x320 1 rotated_photo, 14.1ms\n",
      "image 486/2500 /repos/uni-si/R2S4/DNN/End_project/images/test_v3/card_1435.jpg: 320x320 1 rotated_photo, 14.1ms\n",
      "image 487/2500 /repos/uni-si/R2S4/DNN/End_project/images/test_v3/card_1436.jpg: 320x320 1 rotated_photo, 15.4ms\n",
      "image 488/2500 /repos/uni-si/R2S4/DNN/End_project/images/test_v3/card_1437.jpg: 320x320 1 rotated_photo, 19.3ms\n",
      "image 489/2500 /repos/uni-si/R2S4/DNN/End_project/images/test_v3/card_1438.jpg: 320x320 1 rotated_photo, 14.5ms\n",
      "image 490/2500 /repos/uni-si/R2S4/DNN/End_project/images/test_v3/card_1439.jpg: 320x320 1 rotated_photo, 27.5ms\n",
      "image 491/2500 /repos/uni-si/R2S4/DNN/End_project/images/test_v3/card_144.jpg: 320x320 1 rotated_photo, 13.7ms\n",
      "image 492/2500 /repos/uni-si/R2S4/DNN/End_project/images/test_v3/card_1440.jpg: 320x320 1 rotated_photo, 14.6ms\n",
      "image 493/2500 /repos/uni-si/R2S4/DNN/End_project/images/test_v3/card_1441.jpg: 320x320 1 rotated_photo, 16.2ms\n",
      "image 494/2500 /repos/uni-si/R2S4/DNN/End_project/images/test_v3/card_1442.jpg: 320x320 1 rotated_photo, 16.5ms\n",
      "image 495/2500 /repos/uni-si/R2S4/DNN/End_project/images/test_v3/card_1443.jpg: 320x320 1 rotated_photo, 13.8ms\n",
      "image 496/2500 /repos/uni-si/R2S4/DNN/End_project/images/test_v3/card_1444.jpg: 320x320 1 rotated_photo, 14.6ms\n",
      "image 497/2500 /repos/uni-si/R2S4/DNN/End_project/images/test_v3/card_1445.jpg: 320x320 1 rotated_photo, 18.7ms\n",
      "image 498/2500 /repos/uni-si/R2S4/DNN/End_project/images/test_v3/card_1446.jpg: 320x320 1 rotated_photo, 14.2ms\n",
      "image 499/2500 /repos/uni-si/R2S4/DNN/End_project/images/test_v3/card_1447.jpg: 320x320 1 rotated_photo, 15.4ms\n",
      "image 500/2500 /repos/uni-si/R2S4/DNN/End_project/images/test_v3/card_1448.jpg: 320x320 1 rotated_photo, 12.7ms\n",
      "image 501/2500 /repos/uni-si/R2S4/DNN/End_project/images/test_v3/card_1449.jpg: 320x320 1 rotated_photo, 13.6ms\n",
      "image 502/2500 /repos/uni-si/R2S4/DNN/End_project/images/test_v3/card_145.jpg: 320x320 1 rotated_photo, 23.6ms\n",
      "image 503/2500 /repos/uni-si/R2S4/DNN/End_project/images/test_v3/card_1450.jpg: 320x320 1 rotated_photo, 13.2ms\n",
      "image 504/2500 /repos/uni-si/R2S4/DNN/End_project/images/test_v3/card_1451.jpg: 320x320 1 rotated_photo, 14.3ms\n",
      "image 505/2500 /repos/uni-si/R2S4/DNN/End_project/images/test_v3/card_1452.jpg: 320x320 1 rotated_photo, 14.4ms\n",
      "image 506/2500 /repos/uni-si/R2S4/DNN/End_project/images/test_v3/card_1453.jpg: 320x320 1 rotated_photo, 13.7ms\n",
      "image 507/2500 /repos/uni-si/R2S4/DNN/End_project/images/test_v3/card_1454.jpg: 320x320 1 rotated_photo, 13.4ms\n",
      "image 508/2500 /repos/uni-si/R2S4/DNN/End_project/images/test_v3/card_1455.jpg: 320x320 1 rotated_photo, 13.4ms\n",
      "image 509/2500 /repos/uni-si/R2S4/DNN/End_project/images/test_v3/card_1456.jpg: 320x320 1 rotated_photo, 15.1ms\n",
      "image 510/2500 /repos/uni-si/R2S4/DNN/End_project/images/test_v3/card_1457.jpg: 320x320 1 rotated_photo, 22.6ms\n",
      "image 511/2500 /repos/uni-si/R2S4/DNN/End_project/images/test_v3/card_1458.jpg: 320x320 1 rotated_photo, 13.3ms\n",
      "image 512/2500 /repos/uni-si/R2S4/DNN/End_project/images/test_v3/card_1459.jpg: 320x320 1 rotated_photo, 13.5ms\n",
      "image 513/2500 /repos/uni-si/R2S4/DNN/End_project/images/test_v3/card_146.jpg: 320x320 1 rotated_photo, 13.3ms\n",
      "image 514/2500 /repos/uni-si/R2S4/DNN/End_project/images/test_v3/card_1460.jpg: 320x320 1 rotated_photo, 15.9ms\n",
      "image 515/2500 /repos/uni-si/R2S4/DNN/End_project/images/test_v3/card_1461.jpg: 320x320 1 rotated_photo, 23.3ms\n",
      "image 516/2500 /repos/uni-si/R2S4/DNN/End_project/images/test_v3/card_1462.jpg: 320x320 1 rotated_photo, 13.5ms\n",
      "image 517/2500 /repos/uni-si/R2S4/DNN/End_project/images/test_v3/card_1463.jpg: 320x320 1 rotated_photo, 15.1ms\n",
      "image 518/2500 /repos/uni-si/R2S4/DNN/End_project/images/test_v3/card_1464.jpg: 320x320 1 rotated_photo, 17.1ms\n",
      "image 519/2500 /repos/uni-si/R2S4/DNN/End_project/images/test_v3/card_1465.jpg: 320x320 1 rotated_photo, 14.5ms\n",
      "image 520/2500 /repos/uni-si/R2S4/DNN/End_project/images/test_v3/card_1466.jpg: 320x320 1 rotated_photo, 41.2ms\n",
      "image 521/2500 /repos/uni-si/R2S4/DNN/End_project/images/test_v3/card_1467.jpg: 320x320 1 rotated_photo, 23.4ms\n",
      "image 522/2500 /repos/uni-si/R2S4/DNN/End_project/images/test_v3/card_1468.jpg: 320x320 1 rotated_photo, 15.0ms\n",
      "image 523/2500 /repos/uni-si/R2S4/DNN/End_project/images/test_v3/card_1469.jpg: 320x320 1 rotated_photo, 22.3ms\n",
      "image 524/2500 /repos/uni-si/R2S4/DNN/End_project/images/test_v3/card_147.jpg: 320x320 1 rotated_photo, 23.9ms\n",
      "image 525/2500 /repos/uni-si/R2S4/DNN/End_project/images/test_v3/card_1470.jpg: 320x320 1 rotated_photo, 16.1ms\n",
      "image 526/2500 /repos/uni-si/R2S4/DNN/End_project/images/test_v3/card_1471.jpg: 320x320 1 rotated_photo, 16.0ms\n",
      "image 527/2500 /repos/uni-si/R2S4/DNN/End_project/images/test_v3/card_1472.jpg: 320x320 1 rotated_photo, 25.4ms\n",
      "image 528/2500 /repos/uni-si/R2S4/DNN/End_project/images/test_v3/card_1473.jpg: 320x320 1 rotated_photo, 15.8ms\n",
      "image 529/2500 /repos/uni-si/R2S4/DNN/End_project/images/test_v3/card_1474.jpg: 320x320 1 rotated_photo, 16.0ms\n",
      "image 530/2500 /repos/uni-si/R2S4/DNN/End_project/images/test_v3/card_1475.jpg: 320x320 1 rotated_photo, 16.0ms\n",
      "image 531/2500 /repos/uni-si/R2S4/DNN/End_project/images/test_v3/card_1476.jpg: 320x320 1 rotated_photo, 40.8ms\n",
      "image 532/2500 /repos/uni-si/R2S4/DNN/End_project/images/test_v3/card_1477.jpg: 320x320 1 rotated_photo, 19.2ms\n",
      "image 533/2500 /repos/uni-si/R2S4/DNN/End_project/images/test_v3/card_1478.jpg: 320x320 1 rotated_photo, 15.0ms\n",
      "image 534/2500 /repos/uni-si/R2S4/DNN/End_project/images/test_v3/card_1479.jpg: 320x320 1 rotated_photo, 15.2ms\n",
      "image 535/2500 /repos/uni-si/R2S4/DNN/End_project/images/test_v3/card_148.jpg: 320x320 1 rotated_photo, 16.1ms\n",
      "image 536/2500 /repos/uni-si/R2S4/DNN/End_project/images/test_v3/card_1480.jpg: 320x320 1 rotated_photo, 14.9ms\n",
      "image 537/2500 /repos/uni-si/R2S4/DNN/End_project/images/test_v3/card_1481.jpg: 320x320 1 rotated_photo, 19.2ms\n",
      "image 538/2500 /repos/uni-si/R2S4/DNN/End_project/images/test_v3/card_1482.jpg: 320x320 1 rotated_photo, 33.0ms\n",
      "image 539/2500 /repos/uni-si/R2S4/DNN/End_project/images/test_v3/card_1483.jpg: 320x320 1 rotated_photo, 19.5ms\n",
      "image 540/2500 /repos/uni-si/R2S4/DNN/End_project/images/test_v3/card_1484.jpg: 320x320 1 rotated_photo, 15.7ms\n",
      "image 541/2500 /repos/uni-si/R2S4/DNN/End_project/images/test_v3/card_1485.jpg: 320x320 1 rotated_photo, 15.7ms\n",
      "image 542/2500 /repos/uni-si/R2S4/DNN/End_project/images/test_v3/card_1486.jpg: 320x320 1 rotated_photo, 19.2ms\n",
      "image 543/2500 /repos/uni-si/R2S4/DNN/End_project/images/test_v3/card_1487.jpg: 320x320 1 rotated_photo, 20.7ms\n",
      "image 544/2500 /repos/uni-si/R2S4/DNN/End_project/images/test_v3/card_1488.jpg: 320x320 1 rotated_photo, 17.5ms\n",
      "image 545/2500 /repos/uni-si/R2S4/DNN/End_project/images/test_v3/card_1489.jpg: 320x320 1 rotated_photo, 16.3ms\n",
      "image 546/2500 /repos/uni-si/R2S4/DNN/End_project/images/test_v3/card_149.jpg: 320x320 1 rotated_photo, 15.3ms\n",
      "image 547/2500 /repos/uni-si/R2S4/DNN/End_project/images/test_v3/card_1490.jpg: 320x320 1 rotated_photo, 19.6ms\n",
      "image 548/2500 /repos/uni-si/R2S4/DNN/End_project/images/test_v3/card_1491.jpg: 320x320 1 rotated_photo, 17.4ms\n",
      "image 549/2500 /repos/uni-si/R2S4/DNN/End_project/images/test_v3/card_1492.jpg: 320x320 1 rotated_photo, 25.0ms\n",
      "image 550/2500 /repos/uni-si/R2S4/DNN/End_project/images/test_v3/card_1493.jpg: 320x320 1 rotated_photo, 17.8ms\n",
      "image 551/2500 /repos/uni-si/R2S4/DNN/End_project/images/test_v3/card_1494.jpg: 320x320 1 rotated_photo, 13.9ms\n",
      "image 552/2500 /repos/uni-si/R2S4/DNN/End_project/images/test_v3/card_1495.jpg: 320x320 1 rotated_photo, 12.9ms\n",
      "image 553/2500 /repos/uni-si/R2S4/DNN/End_project/images/test_v3/card_1496.jpg: 320x320 1 rotated_photo, 21.3ms\n",
      "image 554/2500 /repos/uni-si/R2S4/DNN/End_project/images/test_v3/card_1497.jpg: 320x320 1 rotated_photo, 15.7ms\n",
      "image 555/2500 /repos/uni-si/R2S4/DNN/End_project/images/test_v3/card_1498.jpg: 320x320 1 rotated_photo, 14.1ms\n",
      "image 556/2500 /repos/uni-si/R2S4/DNN/End_project/images/test_v3/card_1499.jpg: 320x320 1 rotated_photo, 14.5ms\n",
      "image 557/2500 /repos/uni-si/R2S4/DNN/End_project/images/test_v3/card_15.jpg: 320x320 1 rotated_photo, 15.3ms\n",
      "image 558/2500 /repos/uni-si/R2S4/DNN/End_project/images/test_v3/card_150.jpg: 320x320 1 rotated_photo, 13.3ms\n",
      "image 559/2500 /repos/uni-si/R2S4/DNN/End_project/images/test_v3/card_1500.jpg: 320x320 1 rotated_photo, 15.8ms\n",
      "image 560/2500 /repos/uni-si/R2S4/DNN/End_project/images/test_v3/card_1501.jpg: 320x320 1 rotated_photo, 19.1ms\n",
      "image 561/2500 /repos/uni-si/R2S4/DNN/End_project/images/test_v3/card_1502.jpg: 320x320 1 rotated_photo, 13.3ms\n",
      "image 562/2500 /repos/uni-si/R2S4/DNN/End_project/images/test_v3/card_1503.jpg: 320x320 1 rotated_photo, 12.9ms\n",
      "image 563/2500 /repos/uni-si/R2S4/DNN/End_project/images/test_v3/card_1504.jpg: 320x320 1 rotated_photo, 19.0ms\n",
      "image 564/2500 /repos/uni-si/R2S4/DNN/End_project/images/test_v3/card_1505.jpg: 320x320 1 rotated_photo, 15.1ms\n",
      "image 565/2500 /repos/uni-si/R2S4/DNN/End_project/images/test_v3/card_1506.jpg: 320x320 1 rotated_photo, 15.4ms\n",
      "image 566/2500 /repos/uni-si/R2S4/DNN/End_project/images/test_v3/card_1507.jpg: 320x320 1 rotated_photo, 13.8ms\n",
      "image 567/2500 /repos/uni-si/R2S4/DNN/End_project/images/test_v3/card_1508.jpg: 320x320 1 rotated_photo, 14.7ms\n",
      "image 568/2500 /repos/uni-si/R2S4/DNN/End_project/images/test_v3/card_1509.jpg: 320x320 1 rotated_photo, 19.4ms\n",
      "image 569/2500 /repos/uni-si/R2S4/DNN/End_project/images/test_v3/card_151.jpg: 320x320 1 rotated_photo, 17.7ms\n",
      "image 570/2500 /repos/uni-si/R2S4/DNN/End_project/images/test_v3/card_1510.jpg: 320x320 1 rotated_photo, 14.7ms\n",
      "image 571/2500 /repos/uni-si/R2S4/DNN/End_project/images/test_v3/card_1511.jpg: 320x320 1 rotated_photo, 15.3ms\n",
      "image 572/2500 /repos/uni-si/R2S4/DNN/End_project/images/test_v3/card_1512.jpg: 320x320 1 rotated_photo, 18.9ms\n",
      "image 573/2500 /repos/uni-si/R2S4/DNN/End_project/images/test_v3/card_1513.jpg: 320x320 1 rotated_photo, 27.2ms\n",
      "image 574/2500 /repos/uni-si/R2S4/DNN/End_project/images/test_v3/card_1514.jpg: 320x320 1 rotated_photo, 14.0ms\n",
      "image 575/2500 /repos/uni-si/R2S4/DNN/End_project/images/test_v3/card_1515.jpg: 320x320 1 rotated_photo, 15.7ms\n",
      "image 576/2500 /repos/uni-si/R2S4/DNN/End_project/images/test_v3/card_1516.jpg: 320x320 1 rotated_photo, 14.5ms\n",
      "image 577/2500 /repos/uni-si/R2S4/DNN/End_project/images/test_v3/card_1517.jpg: 320x320 1 rotated_photo, 15.3ms\n",
      "image 578/2500 /repos/uni-si/R2S4/DNN/End_project/images/test_v3/card_1518.jpg: 320x320 1 rotated_photo, 15.1ms\n",
      "image 579/2500 /repos/uni-si/R2S4/DNN/End_project/images/test_v3/card_1519.jpg: 320x320 1 rotated_photo, 15.6ms\n",
      "image 580/2500 /repos/uni-si/R2S4/DNN/End_project/images/test_v3/card_152.jpg: 320x320 1 rotated_photo, 18.1ms\n",
      "image 581/2500 /repos/uni-si/R2S4/DNN/End_project/images/test_v3/card_1520.jpg: 320x320 1 rotated_photo, 15.2ms\n",
      "image 582/2500 /repos/uni-si/R2S4/DNN/End_project/images/test_v3/card_1521.jpg: 320x320 1 rotated_photo, 34.8ms\n",
      "image 583/2500 /repos/uni-si/R2S4/DNN/End_project/images/test_v3/card_1522.jpg: 320x320 1 rotated_photo, 16.8ms\n",
      "image 584/2500 /repos/uni-si/R2S4/DNN/End_project/images/test_v3/card_1523.jpg: 320x320 1 rotated_photo, 18.5ms\n",
      "image 585/2500 /repos/uni-si/R2S4/DNN/End_project/images/test_v3/card_1524.jpg: 320x320 1 rotated_photo, 17.1ms\n",
      "image 586/2500 /repos/uni-si/R2S4/DNN/End_project/images/test_v3/card_1525.jpg: 320x320 1 rotated_photo, 28.7ms\n",
      "image 587/2500 /repos/uni-si/R2S4/DNN/End_project/images/test_v3/card_1526.jpg: 320x320 1 rotated_photo, 35.9ms\n",
      "image 588/2500 /repos/uni-si/R2S4/DNN/End_project/images/test_v3/card_1527.jpg: 320x320 1 rotated_photo, 19.3ms\n",
      "image 589/2500 /repos/uni-si/R2S4/DNN/End_project/images/test_v3/card_1528.jpg: 320x320 1 rotated_photo, 19.7ms\n",
      "image 590/2500 /repos/uni-si/R2S4/DNN/End_project/images/test_v3/card_1529.jpg: 320x320 1 rotated_photo, 15.9ms\n",
      "image 591/2500 /repos/uni-si/R2S4/DNN/End_project/images/test_v3/card_153.jpg: 320x320 1 rotated_photo, 15.2ms\n",
      "image 592/2500 /repos/uni-si/R2S4/DNN/End_project/images/test_v3/card_1530.jpg: 320x320 1 rotated_photo, 16.2ms\n",
      "image 593/2500 /repos/uni-si/R2S4/DNN/End_project/images/test_v3/card_1531.jpg: 320x320 1 rotated_photo, 15.0ms\n",
      "image 594/2500 /repos/uni-si/R2S4/DNN/End_project/images/test_v3/card_1532.jpg: 320x320 1 rotated_photo, 14.8ms\n",
      "image 595/2500 /repos/uni-si/R2S4/DNN/End_project/images/test_v3/card_1533.jpg: 320x320 1 rotated_photo, 14.5ms\n",
      "image 596/2500 /repos/uni-si/R2S4/DNN/End_project/images/test_v3/card_1534.jpg: 320x320 1 rotated_photo, 15.9ms\n",
      "image 597/2500 /repos/uni-si/R2S4/DNN/End_project/images/test_v3/card_1535.jpg: 320x320 1 rotated_photo, 15.8ms\n",
      "image 598/2500 /repos/uni-si/R2S4/DNN/End_project/images/test_v3/card_1536.jpg: 320x320 1 rotated_photo, 22.3ms\n",
      "image 599/2500 /repos/uni-si/R2S4/DNN/End_project/images/test_v3/card_1537.jpg: 320x320 1 rotated_photo, 16.0ms\n",
      "image 600/2500 /repos/uni-si/R2S4/DNN/End_project/images/test_v3/card_1538.jpg: 320x320 1 rotated_photo, 15.1ms\n",
      "image 601/2500 /repos/uni-si/R2S4/DNN/End_project/images/test_v3/card_1539.jpg: 320x320 1 rotated_photo, 13.6ms\n",
      "image 602/2500 /repos/uni-si/R2S4/DNN/End_project/images/test_v3/card_154.jpg: 320x320 1 rotated_photo, 13.2ms\n",
      "image 603/2500 /repos/uni-si/R2S4/DNN/End_project/images/test_v3/card_1540.jpg: 320x320 1 rotated_photo, 26.8ms\n",
      "image 604/2500 /repos/uni-si/R2S4/DNN/End_project/images/test_v3/card_1541.jpg: 320x320 1 rotated_photo, 16.8ms\n",
      "image 605/2500 /repos/uni-si/R2S4/DNN/End_project/images/test_v3/card_1542.jpg: 320x320 1 rotated_photo, 16.1ms\n",
      "image 606/2500 /repos/uni-si/R2S4/DNN/End_project/images/test_v3/card_1543.jpg: 320x320 1 rotated_photo, 15.9ms\n",
      "image 607/2500 /repos/uni-si/R2S4/DNN/End_project/images/test_v3/card_1544.jpg: 320x320 1 rotated_photo, 16.1ms\n",
      "image 608/2500 /repos/uni-si/R2S4/DNN/End_project/images/test_v3/card_1545.jpg: 320x320 1 rotated_photo, 13.7ms\n",
      "image 609/2500 /repos/uni-si/R2S4/DNN/End_project/images/test_v3/card_1546.jpg: 320x320 1 rotated_photo, 13.4ms\n",
      "image 610/2500 /repos/uni-si/R2S4/DNN/End_project/images/test_v3/card_1547.jpg: 320x320 1 rotated_photo, 14.4ms\n",
      "image 611/2500 /repos/uni-si/R2S4/DNN/End_project/images/test_v3/card_1548.jpg: 320x320 1 rotated_photo, 14.2ms\n",
      "image 612/2500 /repos/uni-si/R2S4/DNN/End_project/images/test_v3/card_1549.jpg: 320x320 1 rotated_photo, 17.2ms\n",
      "image 613/2500 /repos/uni-si/R2S4/DNN/End_project/images/test_v3/card_155.jpg: 320x320 1 rotated_photo, 36.7ms\n",
      "image 614/2500 /repos/uni-si/R2S4/DNN/End_project/images/test_v3/card_1550.jpg: 320x320 1 rotated_photo, 17.8ms\n",
      "image 615/2500 /repos/uni-si/R2S4/DNN/End_project/images/test_v3/card_1551.jpg: 320x320 1 rotated_photo, 18.3ms\n",
      "image 616/2500 /repos/uni-si/R2S4/DNN/End_project/images/test_v3/card_1552.jpg: 320x320 1 rotated_photo, 16.3ms\n",
      "image 617/2500 /repos/uni-si/R2S4/DNN/End_project/images/test_v3/card_1553.jpg: 320x320 1 rotated_photo, 13.5ms\n",
      "image 618/2500 /repos/uni-si/R2S4/DNN/End_project/images/test_v3/card_1554.jpg: 320x320 1 rotated_photo, 13.7ms\n",
      "image 619/2500 /repos/uni-si/R2S4/DNN/End_project/images/test_v3/card_1555.jpg: 320x320 1 rotated_photo, 14.0ms\n",
      "image 620/2500 /repos/uni-si/R2S4/DNN/End_project/images/test_v3/card_1556.jpg: 320x320 1 rotated_photo, 15.3ms\n",
      "image 621/2500 /repos/uni-si/R2S4/DNN/End_project/images/test_v3/card_1557.jpg: 320x320 1 rotated_photo, 14.0ms\n",
      "image 622/2500 /repos/uni-si/R2S4/DNN/End_project/images/test_v3/card_1558.jpg: 320x320 1 rotated_photo, 13.0ms\n",
      "image 623/2500 /repos/uni-si/R2S4/DNN/End_project/images/test_v3/card_1559.jpg: 320x320 1 rotated_photo, 14.0ms\n",
      "image 624/2500 /repos/uni-si/R2S4/DNN/End_project/images/test_v3/card_156.jpg: 320x320 1 rotated_photo, 15.4ms\n",
      "image 625/2500 /repos/uni-si/R2S4/DNN/End_project/images/test_v3/card_1560.jpg: 320x320 1 rotated_photo, 13.8ms\n",
      "image 626/2500 /repos/uni-si/R2S4/DNN/End_project/images/test_v3/card_1561.jpg: 320x320 1 rotated_photo, 13.0ms\n",
      "image 627/2500 /repos/uni-si/R2S4/DNN/End_project/images/test_v3/card_1562.jpg: 320x320 1 rotated_photo, 28.6ms\n",
      "image 628/2500 /repos/uni-si/R2S4/DNN/End_project/images/test_v3/card_1563.jpg: 320x320 1 rotated_photo, 13.4ms\n",
      "image 629/2500 /repos/uni-si/R2S4/DNN/End_project/images/test_v3/card_1564.jpg: 320x320 1 rotated_photo, 14.7ms\n",
      "image 630/2500 /repos/uni-si/R2S4/DNN/End_project/images/test_v3/card_1565.jpg: 320x320 1 rotated_photo, 15.3ms\n",
      "image 631/2500 /repos/uni-si/R2S4/DNN/End_project/images/test_v3/card_1566.jpg: 320x320 1 rotated_photo, 15.9ms\n",
      "image 632/2500 /repos/uni-si/R2S4/DNN/End_project/images/test_v3/card_1567.jpg: 320x320 1 rotated_photo, 14.4ms\n",
      "image 633/2500 /repos/uni-si/R2S4/DNN/End_project/images/test_v3/card_1568.jpg: 320x320 1 rotated_photo, 24.8ms\n",
      "image 634/2500 /repos/uni-si/R2S4/DNN/End_project/images/test_v3/card_1569.jpg: 320x320 1 rotated_photo, 14.4ms\n",
      "image 635/2500 /repos/uni-si/R2S4/DNN/End_project/images/test_v3/card_157.jpg: 320x320 1 rotated_photo, 15.8ms\n",
      "image 636/2500 /repos/uni-si/R2S4/DNN/End_project/images/test_v3/card_1570.jpg: 320x320 1 rotated_photo, 13.8ms\n",
      "image 637/2500 /repos/uni-si/R2S4/DNN/End_project/images/test_v3/card_1571.jpg: 320x320 1 rotated_photo, 14.8ms\n",
      "image 638/2500 /repos/uni-si/R2S4/DNN/End_project/images/test_v3/card_1572.jpg: 320x320 1 rotated_photo, 15.7ms\n",
      "image 639/2500 /repos/uni-si/R2S4/DNN/End_project/images/test_v3/card_1573.jpg: 320x320 1 rotated_photo, 15.7ms\n",
      "image 640/2500 /repos/uni-si/R2S4/DNN/End_project/images/test_v3/card_1574.jpg: 320x320 1 rotated_photo, 13.8ms\n",
      "image 641/2500 /repos/uni-si/R2S4/DNN/End_project/images/test_v3/card_1575.jpg: 320x320 1 rotated_photo, 14.0ms\n",
      "image 642/2500 /repos/uni-si/R2S4/DNN/End_project/images/test_v3/card_1576.jpg: 320x320 1 rotated_photo, 15.3ms\n",
      "image 643/2500 /repos/uni-si/R2S4/DNN/End_project/images/test_v3/card_1577.jpg: 320x320 1 rotated_photo, 13.8ms\n",
      "image 644/2500 /repos/uni-si/R2S4/DNN/End_project/images/test_v3/card_1578.jpg: 320x320 1 rotated_photo, 18.3ms\n",
      "image 645/2500 /repos/uni-si/R2S4/DNN/End_project/images/test_v3/card_1579.jpg: 320x320 1 rotated_photo, 15.3ms\n",
      "image 646/2500 /repos/uni-si/R2S4/DNN/End_project/images/test_v3/card_158.jpg: 320x320 1 rotated_photo, 14.9ms\n",
      "image 647/2500 /repos/uni-si/R2S4/DNN/End_project/images/test_v3/card_1580.jpg: 320x320 1 rotated_photo, 15.1ms\n",
      "image 648/2500 /repos/uni-si/R2S4/DNN/End_project/images/test_v3/card_1581.jpg: 320x320 1 rotated_photo, 15.4ms\n",
      "image 649/2500 /repos/uni-si/R2S4/DNN/End_project/images/test_v3/card_1582.jpg: 320x320 1 rotated_photo, 14.7ms\n",
      "image 650/2500 /repos/uni-si/R2S4/DNN/End_project/images/test_v3/card_1583.jpg: 320x320 1 rotated_photo, 13.6ms\n",
      "image 651/2500 /repos/uni-si/R2S4/DNN/End_project/images/test_v3/card_1584.jpg: 320x320 1 rotated_photo, 21.7ms\n",
      "image 652/2500 /repos/uni-si/R2S4/DNN/End_project/images/test_v3/card_1585.jpg: 320x320 1 rotated_photo, 14.3ms\n",
      "image 653/2500 /repos/uni-si/R2S4/DNN/End_project/images/test_v3/card_1586.jpg: 320x320 1 rotated_photo, 32.8ms\n",
      "image 654/2500 /repos/uni-si/R2S4/DNN/End_project/images/test_v3/card_1587.jpg: 320x320 1 rotated_photo, 17.9ms\n",
      "image 655/2500 /repos/uni-si/R2S4/DNN/End_project/images/test_v3/card_1588.jpg: 320x320 1 rotated_photo, 14.5ms\n",
      "image 656/2500 /repos/uni-si/R2S4/DNN/End_project/images/test_v3/card_1589.jpg: 320x320 1 rotated_photo, 13.9ms\n",
      "image 657/2500 /repos/uni-si/R2S4/DNN/End_project/images/test_v3/card_159.jpg: 320x320 1 rotated_photo, 16.0ms\n",
      "image 658/2500 /repos/uni-si/R2S4/DNN/End_project/images/test_v3/card_1590.jpg: 320x320 1 rotated_photo, 14.5ms\n",
      "image 659/2500 /repos/uni-si/R2S4/DNN/End_project/images/test_v3/card_1591.jpg: 320x320 1 rotated_photo, 13.5ms\n",
      "image 660/2500 /repos/uni-si/R2S4/DNN/End_project/images/test_v3/card_1592.jpg: 320x320 1 rotated_photo, 13.0ms\n",
      "image 661/2500 /repos/uni-si/R2S4/DNN/End_project/images/test_v3/card_1593.jpg: 320x320 1 rotated_photo, 15.9ms\n",
      "image 662/2500 /repos/uni-si/R2S4/DNN/End_project/images/test_v3/card_1594.jpg: 320x320 1 rotated_photo, 13.0ms\n",
      "image 663/2500 /repos/uni-si/R2S4/DNN/End_project/images/test_v3/card_1595.jpg: 320x320 1 rotated_photo, 13.4ms\n",
      "image 664/2500 /repos/uni-si/R2S4/DNN/End_project/images/test_v3/card_1596.jpg: 320x320 1 rotated_photo, 14.8ms\n",
      "image 665/2500 /repos/uni-si/R2S4/DNN/End_project/images/test_v3/card_1597.jpg: 320x320 1 rotated_photo, 15.0ms\n",
      "image 666/2500 /repos/uni-si/R2S4/DNN/End_project/images/test_v3/card_1598.jpg: 320x320 1 rotated_photo, 18.9ms\n",
      "image 667/2500 /repos/uni-si/R2S4/DNN/End_project/images/test_v3/card_1599.jpg: 320x320 1 rotated_photo, 14.3ms\n",
      "image 668/2500 /repos/uni-si/R2S4/DNN/End_project/images/test_v3/card_16.jpg: 320x320 1 rotated_photo, 14.5ms\n",
      "image 669/2500 /repos/uni-si/R2S4/DNN/End_project/images/test_v3/card_160.jpg: 320x320 1 rotated_photo, 16.0ms\n",
      "image 670/2500 /repos/uni-si/R2S4/DNN/End_project/images/test_v3/card_1600.jpg: 320x320 1 rotated_photo, 14.6ms\n",
      "image 671/2500 /repos/uni-si/R2S4/DNN/End_project/images/test_v3/card_1601.jpg: 320x320 1 rotated_photo, 15.8ms\n",
      "image 672/2500 /repos/uni-si/R2S4/DNN/End_project/images/test_v3/card_1602.jpg: 320x320 1 rotated_photo, 14.1ms\n",
      "image 673/2500 /repos/uni-si/R2S4/DNN/End_project/images/test_v3/card_1603.jpg: 320x320 1 rotated_photo, 28.9ms\n",
      "image 674/2500 /repos/uni-si/R2S4/DNN/End_project/images/test_v3/card_1604.jpg: 320x320 1 rotated_photo, 15.1ms\n",
      "image 675/2500 /repos/uni-si/R2S4/DNN/End_project/images/test_v3/card_1605.jpg: 320x320 1 rotated_photo, 14.3ms\n",
      "image 676/2500 /repos/uni-si/R2S4/DNN/End_project/images/test_v3/card_1606.jpg: 320x320 1 rotated_photo, 17.0ms\n",
      "image 677/2500 /repos/uni-si/R2S4/DNN/End_project/images/test_v3/card_1607.jpg: 320x320 1 rotated_photo, 13.6ms\n",
      "image 678/2500 /repos/uni-si/R2S4/DNN/End_project/images/test_v3/card_1608.jpg: 320x320 1 rotated_photo, 13.3ms\n",
      "image 679/2500 /repos/uni-si/R2S4/DNN/End_project/images/test_v3/card_1609.jpg: 320x320 1 rotated_photo, 13.3ms\n",
      "image 680/2500 /repos/uni-si/R2S4/DNN/End_project/images/test_v3/card_161.jpg: 320x320 1 rotated_photo, 14.8ms\n",
      "image 681/2500 /repos/uni-si/R2S4/DNN/End_project/images/test_v3/card_1610.jpg: 320x320 1 rotated_photo, 15.5ms\n",
      "image 682/2500 /repos/uni-si/R2S4/DNN/End_project/images/test_v3/card_1611.jpg: 320x320 1 rotated_photo, 13.6ms\n",
      "image 683/2500 /repos/uni-si/R2S4/DNN/End_project/images/test_v3/card_1612.jpg: 320x320 1 rotated_photo, 13.1ms\n",
      "image 684/2500 /repos/uni-si/R2S4/DNN/End_project/images/test_v3/card_1613.jpg: 320x320 1 rotated_photo, 13.5ms\n",
      "image 685/2500 /repos/uni-si/R2S4/DNN/End_project/images/test_v3/card_1614.jpg: 320x320 1 rotated_photo, 13.8ms\n",
      "image 686/2500 /repos/uni-si/R2S4/DNN/End_project/images/test_v3/card_1615.jpg: 320x320 1 rotated_photo, 15.0ms\n",
      "image 687/2500 /repos/uni-si/R2S4/DNN/End_project/images/test_v3/card_1616.jpg: 320x320 1 rotated_photo, 38.3ms\n",
      "image 688/2500 /repos/uni-si/R2S4/DNN/End_project/images/test_v3/card_1617.jpg: 320x320 1 rotated_photo, 13.1ms\n",
      "image 689/2500 /repos/uni-si/R2S4/DNN/End_project/images/test_v3/card_1618.jpg: 320x320 1 rotated_photo, 13.4ms\n",
      "image 690/2500 /repos/uni-si/R2S4/DNN/End_project/images/test_v3/card_1619.jpg: 320x320 1 rotated_photo, 13.7ms\n",
      "image 691/2500 /repos/uni-si/R2S4/DNN/End_project/images/test_v3/card_162.jpg: 320x320 1 rotated_photo, 13.0ms\n",
      "image 692/2500 /repos/uni-si/R2S4/DNN/End_project/images/test_v3/card_1620.jpg: 320x320 1 rotated_photo, 13.5ms\n",
      "image 693/2500 /repos/uni-si/R2S4/DNN/End_project/images/test_v3/card_1621.jpg: 320x320 1 rotated_photo, 16.3ms\n",
      "image 694/2500 /repos/uni-si/R2S4/DNN/End_project/images/test_v3/card_1622.jpg: 320x320 1 rotated_photo, 13.4ms\n",
      "image 695/2500 /repos/uni-si/R2S4/DNN/End_project/images/test_v3/card_1623.jpg: 320x320 1 rotated_photo, 41.7ms\n",
      "image 696/2500 /repos/uni-si/R2S4/DNN/End_project/images/test_v3/card_1624.jpg: 320x320 1 rotated_photo, 16.9ms\n",
      "image 697/2500 /repos/uni-si/R2S4/DNN/End_project/images/test_v3/card_1625.jpg: 320x320 1 rotated_photo, 14.5ms\n",
      "image 698/2500 /repos/uni-si/R2S4/DNN/End_project/images/test_v3/card_1626.jpg: 320x320 1 rotated_photo, 16.0ms\n",
      "image 699/2500 /repos/uni-si/R2S4/DNN/End_project/images/test_v3/card_1627.jpg: 320x320 1 rotated_photo, 14.1ms\n",
      "image 700/2500 /repos/uni-si/R2S4/DNN/End_project/images/test_v3/card_1628.jpg: 320x320 1 rotated_photo, 18.8ms\n",
      "image 701/2500 /repos/uni-si/R2S4/DNN/End_project/images/test_v3/card_1629.jpg: 320x320 1 rotated_photo, 17.0ms\n",
      "image 702/2500 /repos/uni-si/R2S4/DNN/End_project/images/test_v3/card_163.jpg: 320x320 1 rotated_photo, 19.4ms\n",
      "image 703/2500 /repos/uni-si/R2S4/DNN/End_project/images/test_v3/card_1630.jpg: 320x320 1 rotated_photo, 29.6ms\n",
      "image 704/2500 /repos/uni-si/R2S4/DNN/End_project/images/test_v3/card_1631.jpg: 320x320 1 rotated_photo, 14.4ms\n",
      "image 705/2500 /repos/uni-si/R2S4/DNN/End_project/images/test_v3/card_1632.jpg: 320x320 1 rotated_photo, 14.3ms\n",
      "image 706/2500 /repos/uni-si/R2S4/DNN/End_project/images/test_v3/card_1633.jpg: 320x320 1 rotated_photo, 15.6ms\n",
      "image 707/2500 /repos/uni-si/R2S4/DNN/End_project/images/test_v3/card_1634.jpg: 320x320 1 rotated_photo, 14.2ms\n",
      "image 708/2500 /repos/uni-si/R2S4/DNN/End_project/images/test_v3/card_1635.jpg: 320x320 1 rotated_photo, 13.9ms\n",
      "image 709/2500 /repos/uni-si/R2S4/DNN/End_project/images/test_v3/card_1636.jpg: 320x320 1 rotated_photo, 13.4ms\n",
      "image 710/2500 /repos/uni-si/R2S4/DNN/End_project/images/test_v3/card_1637.jpg: 320x320 1 rotated_photo, 13.3ms\n",
      "image 711/2500 /repos/uni-si/R2S4/DNN/End_project/images/test_v3/card_1638.jpg: 320x320 1 rotated_photo, 31.3ms\n",
      "image 712/2500 /repos/uni-si/R2S4/DNN/End_project/images/test_v3/card_1639.jpg: 320x320 1 rotated_photo, 13.0ms\n",
      "image 713/2500 /repos/uni-si/R2S4/DNN/End_project/images/test_v3/card_164.jpg: 320x320 1 rotated_photo, 12.9ms\n",
      "image 714/2500 /repos/uni-si/R2S4/DNN/End_project/images/test_v3/card_1640.jpg: 320x320 1 rotated_photo, 13.1ms\n",
      "image 715/2500 /repos/uni-si/R2S4/DNN/End_project/images/test_v3/card_1641.jpg: 320x320 1 rotated_photo, 13.6ms\n",
      "image 716/2500 /repos/uni-si/R2S4/DNN/End_project/images/test_v3/card_1642.jpg: 320x320 1 rotated_photo, 13.4ms\n",
      "image 717/2500 /repos/uni-si/R2S4/DNN/End_project/images/test_v3/card_1643.jpg: 320x320 1 rotated_photo, 13.1ms\n",
      "image 718/2500 /repos/uni-si/R2S4/DNN/End_project/images/test_v3/card_1644.jpg: 320x320 1 rotated_photo, 13.1ms\n",
      "image 719/2500 /repos/uni-si/R2S4/DNN/End_project/images/test_v3/card_1645.jpg: 320x320 1 rotated_photo, 13.0ms\n",
      "image 720/2500 /repos/uni-si/R2S4/DNN/End_project/images/test_v3/card_1646.jpg: 320x320 1 rotated_photo, 13.8ms\n",
      "image 721/2500 /repos/uni-si/R2S4/DNN/End_project/images/test_v3/card_1647.jpg: 320x320 1 rotated_photo, 14.8ms\n",
      "image 722/2500 /repos/uni-si/R2S4/DNN/End_project/images/test_v3/card_1648.jpg: 320x320 1 rotated_photo, 13.5ms\n",
      "image 723/2500 /repos/uni-si/R2S4/DNN/End_project/images/test_v3/card_1649.jpg: 320x320 1 rotated_photo, 13.8ms\n",
      "image 724/2500 /repos/uni-si/R2S4/DNN/End_project/images/test_v3/card_165.jpg: 320x320 1 rotated_photo, 24.2ms\n",
      "image 725/2500 /repos/uni-si/R2S4/DNN/End_project/images/test_v3/card_1650.jpg: 320x320 1 rotated_photo, 31.5ms\n",
      "image 726/2500 /repos/uni-si/R2S4/DNN/End_project/images/test_v3/card_1651.jpg: 320x320 1 rotated_photo, 24.3ms\n",
      "image 727/2500 /repos/uni-si/R2S4/DNN/End_project/images/test_v3/card_1652.jpg: 320x320 1 rotated_photo, 13.0ms\n",
      "image 728/2500 /repos/uni-si/R2S4/DNN/End_project/images/test_v3/card_1653.jpg: 320x320 1 rotated_photo, 14.2ms\n",
      "image 729/2500 /repos/uni-si/R2S4/DNN/End_project/images/test_v3/card_1654.jpg: 320x320 1 rotated_photo, 14.2ms\n",
      "image 730/2500 /repos/uni-si/R2S4/DNN/End_project/images/test_v3/card_1655.jpg: 320x320 1 rotated_photo, 13.6ms\n",
      "image 731/2500 /repos/uni-si/R2S4/DNN/End_project/images/test_v3/card_1656.jpg: 320x320 1 rotated_photo, 13.2ms\n",
      "image 732/2500 /repos/uni-si/R2S4/DNN/End_project/images/test_v3/card_1657.jpg: 320x320 1 rotated_photo, 13.5ms\n",
      "image 733/2500 /repos/uni-si/R2S4/DNN/End_project/images/test_v3/card_1658.jpg: 320x320 1 rotated_photo, 13.3ms\n",
      "image 734/2500 /repos/uni-si/R2S4/DNN/End_project/images/test_v3/card_1659.jpg: 320x320 1 rotated_photo, 13.2ms\n",
      "image 735/2500 /repos/uni-si/R2S4/DNN/End_project/images/test_v3/card_166.jpg: 320x320 1 rotated_photo, 13.2ms\n",
      "image 736/2500 /repos/uni-si/R2S4/DNN/End_project/images/test_v3/card_1660.jpg: 320x320 1 rotated_photo, 12.6ms\n",
      "image 737/2500 /repos/uni-si/R2S4/DNN/End_project/images/test_v3/card_1661.jpg: 320x320 1 rotated_photo, 13.2ms\n",
      "image 738/2500 /repos/uni-si/R2S4/DNN/End_project/images/test_v3/card_1662.jpg: 320x320 1 rotated_photo, 14.2ms\n",
      "image 739/2500 /repos/uni-si/R2S4/DNN/End_project/images/test_v3/card_1663.jpg: 320x320 1 rotated_photo, 13.3ms\n",
      "image 740/2500 /repos/uni-si/R2S4/DNN/End_project/images/test_v3/card_1664.jpg: 320x320 1 rotated_photo, 13.9ms\n",
      "image 741/2500 /repos/uni-si/R2S4/DNN/End_project/images/test_v3/card_1665.jpg: 320x320 1 rotated_photo, 15.9ms\n",
      "image 742/2500 /repos/uni-si/R2S4/DNN/End_project/images/test_v3/card_1666.jpg: 320x320 1 rotated_photo, 31.9ms\n",
      "image 743/2500 /repos/uni-si/R2S4/DNN/End_project/images/test_v3/card_1667.jpg: 320x320 1 rotated_photo, 14.4ms\n",
      "image 744/2500 /repos/uni-si/R2S4/DNN/End_project/images/test_v3/card_1668.jpg: 320x320 1 rotated_photo, 14.5ms\n",
      "image 745/2500 /repos/uni-si/R2S4/DNN/End_project/images/test_v3/card_1669.jpg: 320x320 1 rotated_photo, 26.3ms\n",
      "image 746/2500 /repos/uni-si/R2S4/DNN/End_project/images/test_v3/card_167.jpg: 320x320 1 rotated_photo, 15.5ms\n",
      "image 747/2500 /repos/uni-si/R2S4/DNN/End_project/images/test_v3/card_1670.jpg: 320x320 1 rotated_photo, 32.7ms\n",
      "image 748/2500 /repos/uni-si/R2S4/DNN/End_project/images/test_v3/card_1671.jpg: 320x320 1 rotated_photo, 37.6ms\n",
      "image 749/2500 /repos/uni-si/R2S4/DNN/End_project/images/test_v3/card_1672.jpg: 320x320 1 rotated_photo, 17.3ms\n",
      "image 750/2500 /repos/uni-si/R2S4/DNN/End_project/images/test_v3/card_1673.jpg: 320x320 1 rotated_photo, 16.5ms\n",
      "image 751/2500 /repos/uni-si/R2S4/DNN/End_project/images/test_v3/card_1674.jpg: 320x320 1 rotated_photo, 25.6ms\n",
      "image 752/2500 /repos/uni-si/R2S4/DNN/End_project/images/test_v3/card_1675.jpg: 320x320 1 rotated_photo, 16.4ms\n",
      "image 753/2500 /repos/uni-si/R2S4/DNN/End_project/images/test_v3/card_1676.jpg: 320x320 1 rotated_photo, 14.7ms\n",
      "image 754/2500 /repos/uni-si/R2S4/DNN/End_project/images/test_v3/card_1677.jpg: 320x320 1 rotated_photo, 20.1ms\n",
      "image 755/2500 /repos/uni-si/R2S4/DNN/End_project/images/test_v3/card_1678.jpg: 320x320 1 rotated_photo, 17.0ms\n",
      "image 756/2500 /repos/uni-si/R2S4/DNN/End_project/images/test_v3/card_1679.jpg: 320x320 1 rotated_photo, 26.6ms\n",
      "image 757/2500 /repos/uni-si/R2S4/DNN/End_project/images/test_v3/card_168.jpg: 320x320 1 rotated_photo, 16.1ms\n",
      "image 758/2500 /repos/uni-si/R2S4/DNN/End_project/images/test_v3/card_1680.jpg: 320x320 1 rotated_photo, 20.5ms\n",
      "image 759/2500 /repos/uni-si/R2S4/DNN/End_project/images/test_v3/card_1681.jpg: 320x320 1 rotated_photo, 21.8ms\n",
      "image 760/2500 /repos/uni-si/R2S4/DNN/End_project/images/test_v3/card_1682.jpg: 320x320 1 rotated_photo, 14.6ms\n",
      "image 761/2500 /repos/uni-si/R2S4/DNN/End_project/images/test_v3/card_1683.jpg: 320x320 1 rotated_photo, 14.6ms\n",
      "image 762/2500 /repos/uni-si/R2S4/DNN/End_project/images/test_v3/card_1684.jpg: 320x320 1 rotated_photo, 17.4ms\n",
      "image 763/2500 /repos/uni-si/R2S4/DNN/End_project/images/test_v3/card_1685.jpg: 320x320 1 rotated_photo, 15.2ms\n",
      "image 764/2500 /repos/uni-si/R2S4/DNN/End_project/images/test_v3/card_1686.jpg: 320x320 1 rotated_photo, 13.8ms\n",
      "image 765/2500 /repos/uni-si/R2S4/DNN/End_project/images/test_v3/card_1687.jpg: 320x320 1 rotated_photo, 14.5ms\n",
      "image 766/2500 /repos/uni-si/R2S4/DNN/End_project/images/test_v3/card_1688.jpg: 320x320 1 rotated_photo, 13.0ms\n",
      "image 767/2500 /repos/uni-si/R2S4/DNN/End_project/images/test_v3/card_1689.jpg: 320x320 1 rotated_photo, 14.6ms\n",
      "image 768/2500 /repos/uni-si/R2S4/DNN/End_project/images/test_v3/card_169.jpg: 320x320 1 rotated_photo, 15.0ms\n",
      "image 769/2500 /repos/uni-si/R2S4/DNN/End_project/images/test_v3/card_1690.jpg: 320x320 1 rotated_photo, 13.0ms\n",
      "image 770/2500 /repos/uni-si/R2S4/DNN/End_project/images/test_v3/card_1691.jpg: 320x320 1 rotated_photo, 13.8ms\n",
      "image 771/2500 /repos/uni-si/R2S4/DNN/End_project/images/test_v3/card_1692.jpg: 320x320 1 rotated_photo, 15.1ms\n",
      "image 772/2500 /repos/uni-si/R2S4/DNN/End_project/images/test_v3/card_1693.jpg: 320x320 1 rotated_photo, 13.3ms\n",
      "image 773/2500 /repos/uni-si/R2S4/DNN/End_project/images/test_v3/card_1694.jpg: 320x320 1 rotated_photo, 13.8ms\n",
      "image 774/2500 /repos/uni-si/R2S4/DNN/End_project/images/test_v3/card_1695.jpg: 320x320 1 rotated_photo, 14.9ms\n",
      "image 775/2500 /repos/uni-si/R2S4/DNN/End_project/images/test_v3/card_1696.jpg: 320x320 1 rotated_photo, 14.4ms\n",
      "image 776/2500 /repos/uni-si/R2S4/DNN/End_project/images/test_v3/card_1697.jpg: 320x320 1 rotated_photo, 13.3ms\n",
      "image 777/2500 /repos/uni-si/R2S4/DNN/End_project/images/test_v3/card_1698.jpg: 320x320 1 rotated_photo, 14.4ms\n",
      "image 778/2500 /repos/uni-si/R2S4/DNN/End_project/images/test_v3/card_1699.jpg: 320x320 1 rotated_photo, 13.5ms\n",
      "image 779/2500 /repos/uni-si/R2S4/DNN/End_project/images/test_v3/card_17.jpg: 320x320 1 rotated_photo, 13.9ms\n",
      "image 780/2500 /repos/uni-si/R2S4/DNN/End_project/images/test_v3/card_170.jpg: 320x320 1 rotated_photo, 13.6ms\n",
      "image 781/2500 /repos/uni-si/R2S4/DNN/End_project/images/test_v3/card_1700.jpg: 320x320 1 rotated_photo, 13.4ms\n",
      "image 782/2500 /repos/uni-si/R2S4/DNN/End_project/images/test_v3/card_1701.jpg: 320x320 1 rotated_photo, 13.4ms\n",
      "image 783/2500 /repos/uni-si/R2S4/DNN/End_project/images/test_v3/card_1702.jpg: 320x320 1 rotated_photo, 13.8ms\n",
      "image 784/2500 /repos/uni-si/R2S4/DNN/End_project/images/test_v3/card_1703.jpg: 320x320 1 rotated_photo, 14.2ms\n",
      "image 785/2500 /repos/uni-si/R2S4/DNN/End_project/images/test_v3/card_1704.jpg: 320x320 1 rotated_photo, 14.3ms\n",
      "image 786/2500 /repos/uni-si/R2S4/DNN/End_project/images/test_v3/card_1705.jpg: 320x320 1 rotated_photo, 13.8ms\n",
      "image 787/2500 /repos/uni-si/R2S4/DNN/End_project/images/test_v3/card_1706.jpg: 320x320 1 rotated_photo, 14.0ms\n",
      "image 788/2500 /repos/uni-si/R2S4/DNN/End_project/images/test_v3/card_1707.jpg: 320x320 1 rotated_photo, 18.3ms\n",
      "image 789/2500 /repos/uni-si/R2S4/DNN/End_project/images/test_v3/card_1708.jpg: 320x320 1 rotated_photo, 13.9ms\n",
      "image 790/2500 /repos/uni-si/R2S4/DNN/End_project/images/test_v3/card_1709.jpg: 320x320 1 rotated_photo, 14.0ms\n",
      "image 791/2500 /repos/uni-si/R2S4/DNN/End_project/images/test_v3/card_171.jpg: 320x320 1 rotated_photo, 13.3ms\n",
      "image 792/2500 /repos/uni-si/R2S4/DNN/End_project/images/test_v3/card_1710.jpg: 320x320 1 rotated_photo, 15.8ms\n",
      "image 793/2500 /repos/uni-si/R2S4/DNN/End_project/images/test_v3/card_1711.jpg: 320x320 1 rotated_photo, 23.3ms\n",
      "image 794/2500 /repos/uni-si/R2S4/DNN/End_project/images/test_v3/card_1712.jpg: 320x320 1 rotated_photo, 18.1ms\n",
      "image 795/2500 /repos/uni-si/R2S4/DNN/End_project/images/test_v3/card_1713.jpg: 320x320 1 rotated_photo, 21.7ms\n",
      "image 796/2500 /repos/uni-si/R2S4/DNN/End_project/images/test_v3/card_1714.jpg: 320x320 1 rotated_photo, 14.0ms\n",
      "image 797/2500 /repos/uni-si/R2S4/DNN/End_project/images/test_v3/card_1715.jpg: 320x320 1 rotated_photo, 15.0ms\n",
      "image 798/2500 /repos/uni-si/R2S4/DNN/End_project/images/test_v3/card_1716.jpg: 320x320 1 rotated_photo, 13.9ms\n",
      "image 799/2500 /repos/uni-si/R2S4/DNN/End_project/images/test_v3/card_1717.jpg: 320x320 1 rotated_photo, 14.0ms\n",
      "image 800/2500 /repos/uni-si/R2S4/DNN/End_project/images/test_v3/card_1718.jpg: 320x320 1 rotated_photo, 30.9ms\n",
      "image 801/2500 /repos/uni-si/R2S4/DNN/End_project/images/test_v3/card_1719.jpg: 320x320 1 rotated_photo, 12.9ms\n",
      "image 802/2500 /repos/uni-si/R2S4/DNN/End_project/images/test_v3/card_172.jpg: 320x320 1 rotated_photo, 13.0ms\n",
      "image 803/2500 /repos/uni-si/R2S4/DNN/End_project/images/test_v3/card_1720.jpg: 320x320 1 rotated_photo, 16.4ms\n",
      "image 804/2500 /repos/uni-si/R2S4/DNN/End_project/images/test_v3/card_1721.jpg: 320x320 1 rotated_photo, 13.9ms\n",
      "image 805/2500 /repos/uni-si/R2S4/DNN/End_project/images/test_v3/card_1722.jpg: 320x320 1 rotated_photo, 15.4ms\n",
      "image 806/2500 /repos/uni-si/R2S4/DNN/End_project/images/test_v3/card_1723.jpg: 320x320 1 rotated_photo, 16.8ms\n",
      "image 807/2500 /repos/uni-si/R2S4/DNN/End_project/images/test_v3/card_1724.jpg: 320x320 1 rotated_photo, 14.3ms\n",
      "image 808/2500 /repos/uni-si/R2S4/DNN/End_project/images/test_v3/card_1725.jpg: 320x320 1 rotated_photo, 13.7ms\n",
      "image 809/2500 /repos/uni-si/R2S4/DNN/End_project/images/test_v3/card_1726.jpg: 320x320 1 rotated_photo, 27.6ms\n",
      "image 810/2500 /repos/uni-si/R2S4/DNN/End_project/images/test_v3/card_1727.jpg: 320x320 1 rotated_photo, 14.6ms\n",
      "image 811/2500 /repos/uni-si/R2S4/DNN/End_project/images/test_v3/card_1728.jpg: 320x320 1 rotated_photo, 27.0ms\n",
      "image 812/2500 /repos/uni-si/R2S4/DNN/End_project/images/test_v3/card_1729.jpg: 320x320 1 rotated_photo, 19.4ms\n",
      "image 813/2500 /repos/uni-si/R2S4/DNN/End_project/images/test_v3/card_173.jpg: 320x320 1 rotated_photo, 13.6ms\n",
      "image 814/2500 /repos/uni-si/R2S4/DNN/End_project/images/test_v3/card_1730.jpg: 320x320 1 rotated_photo, 12.9ms\n",
      "image 815/2500 /repos/uni-si/R2S4/DNN/End_project/images/test_v3/card_1731.jpg: 320x320 1 rotated_photo, 13.4ms\n",
      "image 816/2500 /repos/uni-si/R2S4/DNN/End_project/images/test_v3/card_1732.jpg: 320x320 1 rotated_photo, 14.4ms\n",
      "image 817/2500 /repos/uni-si/R2S4/DNN/End_project/images/test_v3/card_1733.jpg: 320x320 1 rotated_photo, 13.2ms\n",
      "image 818/2500 /repos/uni-si/R2S4/DNN/End_project/images/test_v3/card_1734.jpg: 320x320 1 rotated_photo, 13.1ms\n",
      "image 819/2500 /repos/uni-si/R2S4/DNN/End_project/images/test_v3/card_1735.jpg: 320x320 1 rotated_photo, 13.0ms\n",
      "image 820/2500 /repos/uni-si/R2S4/DNN/End_project/images/test_v3/card_1736.jpg: 320x320 1 rotated_photo, 14.1ms\n",
      "image 821/2500 /repos/uni-si/R2S4/DNN/End_project/images/test_v3/card_1737.jpg: 320x320 1 rotated_photo, 13.0ms\n",
      "image 822/2500 /repos/uni-si/R2S4/DNN/End_project/images/test_v3/card_1738.jpg: 320x320 1 rotated_photo, 13.9ms\n",
      "image 823/2500 /repos/uni-si/R2S4/DNN/End_project/images/test_v3/card_1739.jpg: 320x320 1 rotated_photo, 12.9ms\n",
      "image 824/2500 /repos/uni-si/R2S4/DNN/End_project/images/test_v3/card_174.jpg: 320x320 1 rotated_photo, 13.0ms\n",
      "image 825/2500 /repos/uni-si/R2S4/DNN/End_project/images/test_v3/card_1740.jpg: 320x320 1 rotated_photo, 13.5ms\n",
      "image 826/2500 /repos/uni-si/R2S4/DNN/End_project/images/test_v3/card_1741.jpg: 320x320 1 rotated_photo, 13.2ms\n",
      "image 827/2500 /repos/uni-si/R2S4/DNN/End_project/images/test_v3/card_1742.jpg: 320x320 1 rotated_photo, 13.1ms\n",
      "image 828/2500 /repos/uni-si/R2S4/DNN/End_project/images/test_v3/card_1743.jpg: 320x320 1 rotated_photo, 15.7ms\n",
      "image 829/2500 /repos/uni-si/R2S4/DNN/End_project/images/test_v3/card_1744.jpg: 320x320 1 rotated_photo, 31.3ms\n",
      "image 830/2500 /repos/uni-si/R2S4/DNN/End_project/images/test_v3/card_1745.jpg: 320x320 1 rotated_photo, 13.0ms\n",
      "image 831/2500 /repos/uni-si/R2S4/DNN/End_project/images/test_v3/card_1746.jpg: 320x320 1 rotated_photo, 13.9ms\n",
      "image 832/2500 /repos/uni-si/R2S4/DNN/End_project/images/test_v3/card_1747.jpg: 320x320 1 rotated_photo, 13.3ms\n",
      "image 833/2500 /repos/uni-si/R2S4/DNN/End_project/images/test_v3/card_1748.jpg: 320x320 1 rotated_photo, 13.8ms\n",
      "image 834/2500 /repos/uni-si/R2S4/DNN/End_project/images/test_v3/card_1749.jpg: 320x320 1 rotated_photo, 14.1ms\n",
      "image 835/2500 /repos/uni-si/R2S4/DNN/End_project/images/test_v3/card_175.jpg: 320x320 1 rotated_photo, 20.9ms\n",
      "image 836/2500 /repos/uni-si/R2S4/DNN/End_project/images/test_v3/card_1750.jpg: 320x320 1 rotated_photo, 14.0ms\n",
      "image 837/2500 /repos/uni-si/R2S4/DNN/End_project/images/test_v3/card_1751.jpg: 320x320 1 rotated_photo, 13.9ms\n",
      "image 838/2500 /repos/uni-si/R2S4/DNN/End_project/images/test_v3/card_1752.jpg: 320x320 1 rotated_photo, 13.5ms\n",
      "image 839/2500 /repos/uni-si/R2S4/DNN/End_project/images/test_v3/card_1753.jpg: 320x320 1 rotated_photo, 14.6ms\n",
      "image 840/2500 /repos/uni-si/R2S4/DNN/End_project/images/test_v3/card_1754.jpg: 320x320 1 rotated_photo, 13.1ms\n",
      "image 841/2500 /repos/uni-si/R2S4/DNN/End_project/images/test_v3/card_1755.jpg: 320x320 1 rotated_photo, 16.8ms\n",
      "image 842/2500 /repos/uni-si/R2S4/DNN/End_project/images/test_v3/card_1756.jpg: 320x320 1 rotated_photo, 14.6ms\n",
      "image 843/2500 /repos/uni-si/R2S4/DNN/End_project/images/test_v3/card_1757.jpg: 320x320 1 rotated_photo, 28.1ms\n",
      "image 844/2500 /repos/uni-si/R2S4/DNN/End_project/images/test_v3/card_1758.jpg: 320x320 1 rotated_photo, 13.9ms\n",
      "image 845/2500 /repos/uni-si/R2S4/DNN/End_project/images/test_v3/card_1759.jpg: 320x320 1 rotated_photo, 17.7ms\n",
      "image 846/2500 /repos/uni-si/R2S4/DNN/End_project/images/test_v3/card_176.jpg: 320x320 1 rotated_photo, 24.2ms\n",
      "image 847/2500 /repos/uni-si/R2S4/DNN/End_project/images/test_v3/card_1760.jpg: 320x320 1 rotated_photo, 13.5ms\n",
      "image 848/2500 /repos/uni-si/R2S4/DNN/End_project/images/test_v3/card_1761.jpg: 320x320 1 rotated_photo, 13.7ms\n",
      "image 849/2500 /repos/uni-si/R2S4/DNN/End_project/images/test_v3/card_1762.jpg: 320x320 1 rotated_photo, 13.7ms\n",
      "image 850/2500 /repos/uni-si/R2S4/DNN/End_project/images/test_v3/card_1763.jpg: 320x320 1 rotated_photo, 14.3ms\n",
      "image 851/2500 /repos/uni-si/R2S4/DNN/End_project/images/test_v3/card_1764.jpg: 320x320 1 rotated_photo, 13.0ms\n",
      "image 852/2500 /repos/uni-si/R2S4/DNN/End_project/images/test_v3/card_1765.jpg: 320x320 1 rotated_photo, 13.6ms\n",
      "image 853/2500 /repos/uni-si/R2S4/DNN/End_project/images/test_v3/card_1766.jpg: 320x320 1 rotated_photo, 13.5ms\n",
      "image 854/2500 /repos/uni-si/R2S4/DNN/End_project/images/test_v3/card_1767.jpg: 320x320 1 rotated_photo, 13.7ms\n",
      "image 855/2500 /repos/uni-si/R2S4/DNN/End_project/images/test_v3/card_1768.jpg: 320x320 1 rotated_photo, 15.9ms\n",
      "image 856/2500 /repos/uni-si/R2S4/DNN/End_project/images/test_v3/card_1769.jpg: 320x320 1 rotated_photo, 18.6ms\n",
      "image 857/2500 /repos/uni-si/R2S4/DNN/End_project/images/test_v3/card_177.jpg: 320x320 1 rotated_photo, 14.0ms\n",
      "image 858/2500 /repos/uni-si/R2S4/DNN/End_project/images/test_v3/card_1770.jpg: 320x320 1 rotated_photo, 13.1ms\n",
      "image 859/2500 /repos/uni-si/R2S4/DNN/End_project/images/test_v3/card_1771.jpg: 320x320 1 rotated_photo, 21.7ms\n",
      "image 860/2500 /repos/uni-si/R2S4/DNN/End_project/images/test_v3/card_1772.jpg: 320x320 1 rotated_photo, 14.4ms\n",
      "image 861/2500 /repos/uni-si/R2S4/DNN/End_project/images/test_v3/card_1773.jpg: 320x320 1 rotated_photo, 14.3ms\n",
      "image 862/2500 /repos/uni-si/R2S4/DNN/End_project/images/test_v3/card_1774.jpg: 320x320 1 rotated_photo, 42.6ms\n",
      "image 863/2500 /repos/uni-si/R2S4/DNN/End_project/images/test_v3/card_1775.jpg: 320x320 1 rotated_photo, 13.6ms\n",
      "image 864/2500 /repos/uni-si/R2S4/DNN/End_project/images/test_v3/card_1776.jpg: 320x320 1 rotated_photo, 25.6ms\n",
      "image 865/2500 /repos/uni-si/R2S4/DNN/End_project/images/test_v3/card_1777.jpg: 320x320 1 rotated_photo, 30.0ms\n",
      "image 866/2500 /repos/uni-si/R2S4/DNN/End_project/images/test_v3/card_1778.jpg: 320x320 1 rotated_photo, 14.6ms\n",
      "image 867/2500 /repos/uni-si/R2S4/DNN/End_project/images/test_v3/card_1779.jpg: 320x320 1 rotated_photo, 17.3ms\n",
      "image 868/2500 /repos/uni-si/R2S4/DNN/End_project/images/test_v3/card_178.jpg: 320x320 1 rotated_photo, 20.0ms\n",
      "image 869/2500 /repos/uni-si/R2S4/DNN/End_project/images/test_v3/card_1780.jpg: 320x320 1 rotated_photo, 13.3ms\n",
      "image 870/2500 /repos/uni-si/R2S4/DNN/End_project/images/test_v3/card_1781.jpg: 320x320 1 rotated_photo, 12.8ms\n",
      "image 871/2500 /repos/uni-si/R2S4/DNN/End_project/images/test_v3/card_1782.jpg: 320x320 1 rotated_photo, 13.4ms\n",
      "image 872/2500 /repos/uni-si/R2S4/DNN/End_project/images/test_v3/card_1783.jpg: 320x320 1 rotated_photo, 14.0ms\n",
      "image 873/2500 /repos/uni-si/R2S4/DNN/End_project/images/test_v3/card_1784.jpg: 320x320 1 rotated_photo, 20.6ms\n",
      "image 874/2500 /repos/uni-si/R2S4/DNN/End_project/images/test_v3/card_1785.jpg: 320x320 1 rotated_photo, 30.8ms\n",
      "image 875/2500 /repos/uni-si/R2S4/DNN/End_project/images/test_v3/card_1786.jpg: 320x320 1 rotated_photo, 21.5ms\n",
      "image 876/2500 /repos/uni-si/R2S4/DNN/End_project/images/test_v3/card_1787.jpg: 320x320 1 rotated_photo, 14.9ms\n",
      "image 877/2500 /repos/uni-si/R2S4/DNN/End_project/images/test_v3/card_1788.jpg: 320x320 1 rotated_photo, 14.1ms\n",
      "image 878/2500 /repos/uni-si/R2S4/DNN/End_project/images/test_v3/card_1789.jpg: 320x320 1 rotated_photo, 13.4ms\n",
      "image 879/2500 /repos/uni-si/R2S4/DNN/End_project/images/test_v3/card_179.jpg: 320x320 1 rotated_photo, 13.4ms\n",
      "image 880/2500 /repos/uni-si/R2S4/DNN/End_project/images/test_v3/card_1790.jpg: 320x320 1 rotated_photo, 13.8ms\n",
      "image 881/2500 /repos/uni-si/R2S4/DNN/End_project/images/test_v3/card_1791.jpg: 320x320 1 rotated_photo, 14.9ms\n",
      "image 882/2500 /repos/uni-si/R2S4/DNN/End_project/images/test_v3/card_1792.jpg: 320x320 1 rotated_photo, 16.1ms\n",
      "image 883/2500 /repos/uni-si/R2S4/DNN/End_project/images/test_v3/card_1793.jpg: 320x320 1 rotated_photo, 14.2ms\n",
      "image 884/2500 /repos/uni-si/R2S4/DNN/End_project/images/test_v3/card_1794.jpg: 320x320 1 rotated_photo, 19.4ms\n",
      "image 885/2500 /repos/uni-si/R2S4/DNN/End_project/images/test_v3/card_1795.jpg: 320x320 1 rotated_photo, 16.0ms\n",
      "image 886/2500 /repos/uni-si/R2S4/DNN/End_project/images/test_v3/card_1796.jpg: 320x320 1 rotated_photo, 28.1ms\n",
      "image 887/2500 /repos/uni-si/R2S4/DNN/End_project/images/test_v3/card_1797.jpg: 320x320 1 rotated_photo, 24.9ms\n",
      "image 888/2500 /repos/uni-si/R2S4/DNN/End_project/images/test_v3/card_1798.jpg: 320x320 1 rotated_photo, 20.5ms\n",
      "image 889/2500 /repos/uni-si/R2S4/DNN/End_project/images/test_v3/card_1799.jpg: 320x320 1 rotated_photo, 42.5ms\n",
      "image 890/2500 /repos/uni-si/R2S4/DNN/End_project/images/test_v3/card_18.jpg: 320x320 1 rotated_photo, 13.5ms\n",
      "image 891/2500 /repos/uni-si/R2S4/DNN/End_project/images/test_v3/card_180.jpg: 320x320 1 rotated_photo, 13.5ms\n",
      "image 892/2500 /repos/uni-si/R2S4/DNN/End_project/images/test_v3/card_1800.jpg: 320x320 1 rotated_photo, 13.3ms\n",
      "image 893/2500 /repos/uni-si/R2S4/DNN/End_project/images/test_v3/card_1801.jpg: 320x320 1 rotated_photo, 13.6ms\n",
      "image 894/2500 /repos/uni-si/R2S4/DNN/End_project/images/test_v3/card_1802.jpg: 320x320 1 rotated_photo, 14.4ms\n",
      "image 895/2500 /repos/uni-si/R2S4/DNN/End_project/images/test_v3/card_1803.jpg: 320x320 1 rotated_photo, 14.6ms\n",
      "image 896/2500 /repos/uni-si/R2S4/DNN/End_project/images/test_v3/card_1804.jpg: 320x320 1 rotated_photo, 25.0ms\n",
      "image 897/2500 /repos/uni-si/R2S4/DNN/End_project/images/test_v3/card_1805.jpg: 320x320 1 rotated_photo, 13.3ms\n",
      "image 898/2500 /repos/uni-si/R2S4/DNN/End_project/images/test_v3/card_1806.jpg: 320x320 1 rotated_photo, 14.2ms\n",
      "image 899/2500 /repos/uni-si/R2S4/DNN/End_project/images/test_v3/card_1807.jpg: 320x320 1 rotated_photo, 14.6ms\n",
      "image 900/2500 /repos/uni-si/R2S4/DNN/End_project/images/test_v3/card_1808.jpg: 320x320 1 rotated_photo, 14.7ms\n",
      "image 901/2500 /repos/uni-si/R2S4/DNN/End_project/images/test_v3/card_1809.jpg: 320x320 1 rotated_photo, 13.6ms\n",
      "image 902/2500 /repos/uni-si/R2S4/DNN/End_project/images/test_v3/card_181.jpg: 320x320 1 rotated_photo, 13.8ms\n",
      "image 903/2500 /repos/uni-si/R2S4/DNN/End_project/images/test_v3/card_1810.jpg: 320x320 1 rotated_photo, 13.6ms\n",
      "image 904/2500 /repos/uni-si/R2S4/DNN/End_project/images/test_v3/card_1811.jpg: 320x320 1 rotated_photo, 14.0ms\n",
      "image 905/2500 /repos/uni-si/R2S4/DNN/End_project/images/test_v3/card_1812.jpg: 320x320 1 rotated_photo, 13.5ms\n",
      "image 906/2500 /repos/uni-si/R2S4/DNN/End_project/images/test_v3/card_1813.jpg: 320x320 1 rotated_photo, 13.3ms\n",
      "image 907/2500 /repos/uni-si/R2S4/DNN/End_project/images/test_v3/card_1814.jpg: 320x320 1 rotated_photo, 21.6ms\n",
      "image 908/2500 /repos/uni-si/R2S4/DNN/End_project/images/test_v3/card_1815.jpg: 320x320 1 rotated_photo, 24.6ms\n",
      "image 909/2500 /repos/uni-si/R2S4/DNN/End_project/images/test_v3/card_1816.jpg: 320x320 1 rotated_photo, 15.3ms\n",
      "image 910/2500 /repos/uni-si/R2S4/DNN/End_project/images/test_v3/card_1817.jpg: 320x320 1 rotated_photo, 18.0ms\n",
      "image 911/2500 /repos/uni-si/R2S4/DNN/End_project/images/test_v3/card_1818.jpg: 320x320 1 rotated_photo, 18.2ms\n",
      "image 912/2500 /repos/uni-si/R2S4/DNN/End_project/images/test_v3/card_1819.jpg: 320x320 1 rotated_photo, 14.2ms\n",
      "image 913/2500 /repos/uni-si/R2S4/DNN/End_project/images/test_v3/card_182.jpg: 320x320 1 rotated_photo, 14.4ms\n",
      "image 914/2500 /repos/uni-si/R2S4/DNN/End_project/images/test_v3/card_1820.jpg: 320x320 1 rotated_photo, 15.1ms\n",
      "image 915/2500 /repos/uni-si/R2S4/DNN/End_project/images/test_v3/card_1821.jpg: 320x320 1 rotated_photo, 15.1ms\n",
      "image 916/2500 /repos/uni-si/R2S4/DNN/End_project/images/test_v3/card_1822.jpg: 320x320 1 rotated_photo, 14.4ms\n",
      "image 917/2500 /repos/uni-si/R2S4/DNN/End_project/images/test_v3/card_1823.jpg: 320x320 1 rotated_photo, 16.9ms\n",
      "image 918/2500 /repos/uni-si/R2S4/DNN/End_project/images/test_v3/card_1824.jpg: 320x320 1 rotated_photo, 17.6ms\n",
      "image 919/2500 /repos/uni-si/R2S4/DNN/End_project/images/test_v3/card_1825.jpg: 320x320 1 rotated_photo, 29.5ms\n",
      "image 920/2500 /repos/uni-si/R2S4/DNN/End_project/images/test_v3/card_1826.jpg: 320x320 1 rotated_photo, 14.4ms\n",
      "image 921/2500 /repos/uni-si/R2S4/DNN/End_project/images/test_v3/card_1827.jpg: 320x320 1 rotated_photo, 13.8ms\n",
      "image 922/2500 /repos/uni-si/R2S4/DNN/End_project/images/test_v3/card_1828.jpg: 320x320 1 rotated_photo, 17.7ms\n",
      "image 923/2500 /repos/uni-si/R2S4/DNN/End_project/images/test_v3/card_1829.jpg: 320x320 1 rotated_photo, 13.6ms\n",
      "image 924/2500 /repos/uni-si/R2S4/DNN/End_project/images/test_v3/card_183.jpg: 320x320 1 rotated_photo, 13.4ms\n",
      "image 925/2500 /repos/uni-si/R2S4/DNN/End_project/images/test_v3/card_1830.jpg: 320x320 1 rotated_photo, 13.6ms\n",
      "image 926/2500 /repos/uni-si/R2S4/DNN/End_project/images/test_v3/card_1831.jpg: 320x320 1 rotated_photo, 14.9ms\n",
      "image 927/2500 /repos/uni-si/R2S4/DNN/End_project/images/test_v3/card_1832.jpg: 320x320 1 rotated_photo, 18.2ms\n",
      "image 928/2500 /repos/uni-si/R2S4/DNN/End_project/images/test_v3/card_1833.jpg: 320x320 1 rotated_photo, 29.6ms\n",
      "image 929/2500 /repos/uni-si/R2S4/DNN/End_project/images/test_v3/card_1834.jpg: 320x320 1 rotated_photo, 13.7ms\n",
      "image 930/2500 /repos/uni-si/R2S4/DNN/End_project/images/test_v3/card_1835.jpg: 320x320 1 rotated_photo, 19.3ms\n",
      "image 931/2500 /repos/uni-si/R2S4/DNN/End_project/images/test_v3/card_1836.jpg: 320x320 1 rotated_photo, 14.1ms\n",
      "image 932/2500 /repos/uni-si/R2S4/DNN/End_project/images/test_v3/card_1837.jpg: 320x320 1 rotated_photo, 14.7ms\n",
      "image 933/2500 /repos/uni-si/R2S4/DNN/End_project/images/test_v3/card_1838.jpg: 320x320 1 rotated_photo, 14.2ms\n",
      "image 934/2500 /repos/uni-si/R2S4/DNN/End_project/images/test_v3/card_1839.jpg: 320x320 1 rotated_photo, 15.6ms\n",
      "image 935/2500 /repos/uni-si/R2S4/DNN/End_project/images/test_v3/card_184.jpg: 320x320 1 rotated_photo, 23.0ms\n",
      "image 936/2500 /repos/uni-si/R2S4/DNN/End_project/images/test_v3/card_1840.jpg: 320x320 1 rotated_photo, 13.9ms\n",
      "image 937/2500 /repos/uni-si/R2S4/DNN/End_project/images/test_v3/card_1841.jpg: 320x320 1 rotated_photo, 16.1ms\n",
      "image 938/2500 /repos/uni-si/R2S4/DNN/End_project/images/test_v3/card_1842.jpg: 320x320 1 rotated_photo, 46.8ms\n",
      "image 939/2500 /repos/uni-si/R2S4/DNN/End_project/images/test_v3/card_1843.jpg: 320x320 1 rotated_photo, 17.0ms\n",
      "image 940/2500 /repos/uni-si/R2S4/DNN/End_project/images/test_v3/card_1844.jpg: 320x320 1 rotated_photo, 15.6ms\n",
      "image 941/2500 /repos/uni-si/R2S4/DNN/End_project/images/test_v3/card_1845.jpg: 320x320 1 rotated_photo, 16.2ms\n",
      "image 942/2500 /repos/uni-si/R2S4/DNN/End_project/images/test_v3/card_1846.jpg: 320x320 1 rotated_photo, 36.7ms\n",
      "image 943/2500 /repos/uni-si/R2S4/DNN/End_project/images/test_v3/card_1847.jpg: 320x320 1 rotated_photo, 25.1ms\n",
      "image 944/2500 /repos/uni-si/R2S4/DNN/End_project/images/test_v3/card_1848.jpg: 320x320 1 rotated_photo, 25.4ms\n",
      "image 945/2500 /repos/uni-si/R2S4/DNN/End_project/images/test_v3/card_1849.jpg: 320x320 1 rotated_photo, 14.4ms\n",
      "image 946/2500 /repos/uni-si/R2S4/DNN/End_project/images/test_v3/card_185.jpg: 320x320 1 rotated_photo, 15.3ms\n",
      "image 947/2500 /repos/uni-si/R2S4/DNN/End_project/images/test_v3/card_1850.jpg: 320x320 1 rotated_photo, 13.9ms\n",
      "image 948/2500 /repos/uni-si/R2S4/DNN/End_project/images/test_v3/card_1851.jpg: 320x320 1 rotated_photo, 15.2ms\n",
      "image 949/2500 /repos/uni-si/R2S4/DNN/End_project/images/test_v3/card_1852.jpg: 320x320 1 rotated_photo, 13.4ms\n",
      "image 950/2500 /repos/uni-si/R2S4/DNN/End_project/images/test_v3/card_1853.jpg: 320x320 1 rotated_photo, 15.0ms\n",
      "image 951/2500 /repos/uni-si/R2S4/DNN/End_project/images/test_v3/card_1854.jpg: 320x320 1 rotated_photo, 14.8ms\n",
      "image 952/2500 /repos/uni-si/R2S4/DNN/End_project/images/test_v3/card_1855.jpg: 320x320 1 rotated_photo, 15.2ms\n",
      "image 953/2500 /repos/uni-si/R2S4/DNN/End_project/images/test_v3/card_1856.jpg: 320x320 1 rotated_photo, 14.1ms\n",
      "image 954/2500 /repos/uni-si/R2S4/DNN/End_project/images/test_v3/card_1857.jpg: 320x320 1 rotated_photo, 13.5ms\n",
      "image 955/2500 /repos/uni-si/R2S4/DNN/End_project/images/test_v3/card_1858.jpg: 320x320 1 rotated_photo, 14.7ms\n",
      "image 956/2500 /repos/uni-si/R2S4/DNN/End_project/images/test_v3/card_1859.jpg: 320x320 1 rotated_photo, 14.6ms\n",
      "image 957/2500 /repos/uni-si/R2S4/DNN/End_project/images/test_v3/card_186.jpg: 320x320 1 rotated_photo, 18.8ms\n",
      "image 958/2500 /repos/uni-si/R2S4/DNN/End_project/images/test_v3/card_1860.jpg: 320x320 1 rotated_photo, 13.4ms\n",
      "image 959/2500 /repos/uni-si/R2S4/DNN/End_project/images/test_v3/card_1861.jpg: 320x320 1 rotated_photo, 13.6ms\n",
      "image 960/2500 /repos/uni-si/R2S4/DNN/End_project/images/test_v3/card_1862.jpg: 320x320 1 rotated_photo, 14.5ms\n",
      "image 961/2500 /repos/uni-si/R2S4/DNN/End_project/images/test_v3/card_1863.jpg: 320x320 1 rotated_photo, 13.8ms\n",
      "image 962/2500 /repos/uni-si/R2S4/DNN/End_project/images/test_v3/card_1864.jpg: 320x320 1 rotated_photo, 14.4ms\n",
      "image 963/2500 /repos/uni-si/R2S4/DNN/End_project/images/test_v3/card_1865.jpg: 320x320 1 rotated_photo, 16.1ms\n",
      "image 964/2500 /repos/uni-si/R2S4/DNN/End_project/images/test_v3/card_1866.jpg: 320x320 1 rotated_photo, 13.5ms\n",
      "image 965/2500 /repos/uni-si/R2S4/DNN/End_project/images/test_v3/card_1867.jpg: 320x320 1 rotated_photo, 16.3ms\n",
      "image 966/2500 /repos/uni-si/R2S4/DNN/End_project/images/test_v3/card_1868.jpg: 320x320 1 rotated_photo, 15.9ms\n",
      "image 967/2500 /repos/uni-si/R2S4/DNN/End_project/images/test_v3/card_1869.jpg: 320x320 1 rotated_photo, 18.8ms\n",
      "image 968/2500 /repos/uni-si/R2S4/DNN/End_project/images/test_v3/card_187.jpg: 320x320 1 rotated_photo, 14.4ms\n",
      "image 969/2500 /repos/uni-si/R2S4/DNN/End_project/images/test_v3/card_1870.jpg: 320x320 1 rotated_photo, 21.1ms\n",
      "image 970/2500 /repos/uni-si/R2S4/DNN/End_project/images/test_v3/card_1871.jpg: 320x320 1 rotated_photo, 18.3ms\n",
      "image 971/2500 /repos/uni-si/R2S4/DNN/End_project/images/test_v3/card_1872.jpg: 320x320 1 rotated_photo, 50.3ms\n",
      "image 972/2500 /repos/uni-si/R2S4/DNN/End_project/images/test_v3/card_1873.jpg: 320x320 1 rotated_photo, 44.2ms\n",
      "image 973/2500 /repos/uni-si/R2S4/DNN/End_project/images/test_v3/card_1874.jpg: 320x320 1 rotated_photo, 16.1ms\n",
      "image 974/2500 /repos/uni-si/R2S4/DNN/End_project/images/test_v3/card_1875.jpg: 320x320 1 rotated_photo, 45.6ms\n",
      "image 975/2500 /repos/uni-si/R2S4/DNN/End_project/images/test_v3/card_1876.jpg: 320x320 1 rotated_photo, 19.2ms\n",
      "image 976/2500 /repos/uni-si/R2S4/DNN/End_project/images/test_v3/card_1877.jpg: 320x320 1 rotated_photo, 20.3ms\n",
      "image 977/2500 /repos/uni-si/R2S4/DNN/End_project/images/test_v3/card_1878.jpg: 320x320 1 rotated_photo, 15.9ms\n",
      "image 978/2500 /repos/uni-si/R2S4/DNN/End_project/images/test_v3/card_1879.jpg: 320x320 1 rotated_photo, 16.2ms\n",
      "image 979/2500 /repos/uni-si/R2S4/DNN/End_project/images/test_v3/card_188.jpg: 320x320 1 rotated_photo, 13.3ms\n",
      "image 980/2500 /repos/uni-si/R2S4/DNN/End_project/images/test_v3/card_1880.jpg: 320x320 1 rotated_photo, 14.7ms\n",
      "image 981/2500 /repos/uni-si/R2S4/DNN/End_project/images/test_v3/card_1881.jpg: 320x320 1 rotated_photo, 14.6ms\n",
      "image 982/2500 /repos/uni-si/R2S4/DNN/End_project/images/test_v3/card_1882.jpg: 320x320 1 rotated_photo, 14.3ms\n",
      "image 983/2500 /repos/uni-si/R2S4/DNN/End_project/images/test_v3/card_1883.jpg: 320x320 1 rotated_photo, 13.4ms\n",
      "image 984/2500 /repos/uni-si/R2S4/DNN/End_project/images/test_v3/card_1884.jpg: 320x320 1 rotated_photo, 13.9ms\n",
      "image 985/2500 /repos/uni-si/R2S4/DNN/End_project/images/test_v3/card_1885.jpg: 320x320 1 rotated_photo, 15.9ms\n",
      "image 986/2500 /repos/uni-si/R2S4/DNN/End_project/images/test_v3/card_1886.jpg: 320x320 1 rotated_photo, 21.5ms\n",
      "image 987/2500 /repos/uni-si/R2S4/DNN/End_project/images/test_v3/card_1887.jpg: 320x320 1 rotated_photo, 17.2ms\n",
      "image 988/2500 /repos/uni-si/R2S4/DNN/End_project/images/test_v3/card_1888.jpg: 320x320 1 rotated_photo, 15.8ms\n",
      "image 989/2500 /repos/uni-si/R2S4/DNN/End_project/images/test_v3/card_1889.jpg: 320x320 1 rotated_photo, 15.7ms\n",
      "image 990/2500 /repos/uni-si/R2S4/DNN/End_project/images/test_v3/card_189.jpg: 320x320 1 rotated_photo, 15.9ms\n",
      "image 991/2500 /repos/uni-si/R2S4/DNN/End_project/images/test_v3/card_1890.jpg: 320x320 1 rotated_photo, 14.8ms\n",
      "image 992/2500 /repos/uni-si/R2S4/DNN/End_project/images/test_v3/card_1891.jpg: 320x320 1 rotated_photo, 16.1ms\n",
      "image 993/2500 /repos/uni-si/R2S4/DNN/End_project/images/test_v3/card_1892.jpg: 320x320 1 rotated_photo, 14.5ms\n",
      "image 994/2500 /repos/uni-si/R2S4/DNN/End_project/images/test_v3/card_1893.jpg: 320x320 1 rotated_photo, 14.2ms\n",
      "image 995/2500 /repos/uni-si/R2S4/DNN/End_project/images/test_v3/card_1894.jpg: 320x320 1 rotated_photo, 14.9ms\n",
      "image 996/2500 /repos/uni-si/R2S4/DNN/End_project/images/test_v3/card_1895.jpg: 320x320 1 rotated_photo, 17.7ms\n",
      "image 997/2500 /repos/uni-si/R2S4/DNN/End_project/images/test_v3/card_1896.jpg: 320x320 1 rotated_photo, 20.0ms\n",
      "image 998/2500 /repos/uni-si/R2S4/DNN/End_project/images/test_v3/card_1897.jpg: 320x320 1 rotated_photo, 25.0ms\n",
      "image 999/2500 /repos/uni-si/R2S4/DNN/End_project/images/test_v3/card_1898.jpg: 320x320 1 rotated_photo, 28.7ms\n",
      "image 1000/2500 /repos/uni-si/R2S4/DNN/End_project/images/test_v3/card_1899.jpg: 320x320 1 rotated_photo, 17.9ms\n",
      "image 1001/2500 /repos/uni-si/R2S4/DNN/End_project/images/test_v3/card_19.jpg: 320x320 1 rotated_photo, 17.2ms\n",
      "image 1002/2500 /repos/uni-si/R2S4/DNN/End_project/images/test_v3/card_190.jpg: 320x320 1 rotated_photo, 16.7ms\n",
      "image 1003/2500 /repos/uni-si/R2S4/DNN/End_project/images/test_v3/card_1900.jpg: 320x320 1 rotated_photo, 15.6ms\n",
      "image 1004/2500 /repos/uni-si/R2S4/DNN/End_project/images/test_v3/card_1901.jpg: 320x320 1 rotated_photo, 13.5ms\n",
      "image 1005/2500 /repos/uni-si/R2S4/DNN/End_project/images/test_v3/card_1902.jpg: 320x320 1 rotated_photo, 22.9ms\n",
      "image 1006/2500 /repos/uni-si/R2S4/DNN/End_project/images/test_v3/card_1903.jpg: 320x320 1 rotated_photo, 14.8ms\n",
      "image 1007/2500 /repos/uni-si/R2S4/DNN/End_project/images/test_v3/card_1904.jpg: 320x320 1 rotated_photo, 15.7ms\n",
      "image 1008/2500 /repos/uni-si/R2S4/DNN/End_project/images/test_v3/card_1905.jpg: 320x320 1 rotated_photo, 15.5ms\n",
      "image 1009/2500 /repos/uni-si/R2S4/DNN/End_project/images/test_v3/card_1906.jpg: 320x320 1 rotated_photo, 14.9ms\n",
      "image 1010/2500 /repos/uni-si/R2S4/DNN/End_project/images/test_v3/card_1907.jpg: 320x320 1 rotated_photo, 17.5ms\n",
      "image 1011/2500 /repos/uni-si/R2S4/DNN/End_project/images/test_v3/card_1908.jpg: 320x320 1 rotated_photo, 13.5ms\n",
      "image 1012/2500 /repos/uni-si/R2S4/DNN/End_project/images/test_v3/card_1909.jpg: 320x320 1 rotated_photo, 14.9ms\n",
      "image 1013/2500 /repos/uni-si/R2S4/DNN/End_project/images/test_v3/card_191.jpg: 320x320 1 rotated_photo, 14.4ms\n",
      "image 1014/2500 /repos/uni-si/R2S4/DNN/End_project/images/test_v3/card_1910.jpg: 320x320 1 rotated_photo, 13.7ms\n",
      "image 1015/2500 /repos/uni-si/R2S4/DNN/End_project/images/test_v3/card_1911.jpg: 320x320 1 rotated_photo, 13.8ms\n",
      "image 1016/2500 /repos/uni-si/R2S4/DNN/End_project/images/test_v3/card_1912.jpg: 320x320 1 rotated_photo, 29.3ms\n",
      "image 1017/2500 /repos/uni-si/R2S4/DNN/End_project/images/test_v3/card_1913.jpg: 320x320 1 rotated_photo, 41.3ms\n",
      "image 1018/2500 /repos/uni-si/R2S4/DNN/End_project/images/test_v3/card_1914.jpg: 320x320 1 rotated_photo, 17.6ms\n",
      "image 1019/2500 /repos/uni-si/R2S4/DNN/End_project/images/test_v3/card_1915.jpg: 320x320 1 rotated_photo, 27.7ms\n",
      "image 1020/2500 /repos/uni-si/R2S4/DNN/End_project/images/test_v3/card_1916.jpg: 320x320 1 rotated_photo, 19.7ms\n",
      "image 1021/2500 /repos/uni-si/R2S4/DNN/End_project/images/test_v3/card_1917.jpg: 320x320 1 rotated_photo, 41.4ms\n",
      "image 1022/2500 /repos/uni-si/R2S4/DNN/End_project/images/test_v3/card_1918.jpg: 320x320 1 rotated_photo, 14.1ms\n",
      "image 1023/2500 /repos/uni-si/R2S4/DNN/End_project/images/test_v3/card_1919.jpg: 320x320 1 rotated_photo, 13.4ms\n",
      "image 1024/2500 /repos/uni-si/R2S4/DNN/End_project/images/test_v3/card_192.jpg: 320x320 1 rotated_photo, 14.1ms\n",
      "image 1025/2500 /repos/uni-si/R2S4/DNN/End_project/images/test_v3/card_1920.jpg: 320x320 1 rotated_photo, 24.6ms\n",
      "image 1026/2500 /repos/uni-si/R2S4/DNN/End_project/images/test_v3/card_1921.jpg: 320x320 1 rotated_photo, 17.0ms\n",
      "image 1027/2500 /repos/uni-si/R2S4/DNN/End_project/images/test_v3/card_1922.jpg: 320x320 1 rotated_photo, 15.2ms\n",
      "image 1028/2500 /repos/uni-si/R2S4/DNN/End_project/images/test_v3/card_1923.jpg: 320x320 1 rotated_photo, 23.4ms\n",
      "image 1029/2500 /repos/uni-si/R2S4/DNN/End_project/images/test_v3/card_1924.jpg: 320x320 1 rotated_photo, 15.4ms\n",
      "image 1030/2500 /repos/uni-si/R2S4/DNN/End_project/images/test_v3/card_1925.jpg: 320x320 1 rotated_photo, 21.4ms\n",
      "image 1031/2500 /repos/uni-si/R2S4/DNN/End_project/images/test_v3/card_1926.jpg: 320x320 1 rotated_photo, 14.6ms\n",
      "image 1032/2500 /repos/uni-si/R2S4/DNN/End_project/images/test_v3/card_1927.jpg: 320x320 1 rotated_photo, 13.6ms\n",
      "image 1033/2500 /repos/uni-si/R2S4/DNN/End_project/images/test_v3/card_1928.jpg: 320x320 1 rotated_photo, 19.8ms\n",
      "image 1034/2500 /repos/uni-si/R2S4/DNN/End_project/images/test_v3/card_1929.jpg: 320x320 1 rotated_photo, 13.4ms\n",
      "image 1035/2500 /repos/uni-si/R2S4/DNN/End_project/images/test_v3/card_193.jpg: 320x320 1 rotated_photo, 23.5ms\n",
      "image 1036/2500 /repos/uni-si/R2S4/DNN/End_project/images/test_v3/card_1930.jpg: 320x320 1 rotated_photo, 13.8ms\n",
      "image 1037/2500 /repos/uni-si/R2S4/DNN/End_project/images/test_v3/card_1931.jpg: 320x320 1 rotated_photo, 13.7ms\n",
      "image 1038/2500 /repos/uni-si/R2S4/DNN/End_project/images/test_v3/card_1932.jpg: 320x320 1 rotated_photo, 16.7ms\n",
      "image 1039/2500 /repos/uni-si/R2S4/DNN/End_project/images/test_v3/card_1933.jpg: 320x320 1 rotated_photo, 14.1ms\n",
      "image 1040/2500 /repos/uni-si/R2S4/DNN/End_project/images/test_v3/card_1934.jpg: 320x320 1 rotated_photo, 15.0ms\n",
      "image 1041/2500 /repos/uni-si/R2S4/DNN/End_project/images/test_v3/card_1935.jpg: 320x320 1 rotated_photo, 22.1ms\n",
      "image 1042/2500 /repos/uni-si/R2S4/DNN/End_project/images/test_v3/card_1936.jpg: 320x320 1 rotated_photo, 13.8ms\n",
      "image 1043/2500 /repos/uni-si/R2S4/DNN/End_project/images/test_v3/card_1937.jpg: 320x320 1 rotated_photo, 24.1ms\n",
      "image 1044/2500 /repos/uni-si/R2S4/DNN/End_project/images/test_v3/card_1938.jpg: 320x320 1 rotated_photo, 14.1ms\n",
      "image 1045/2500 /repos/uni-si/R2S4/DNN/End_project/images/test_v3/card_1939.jpg: 320x320 1 rotated_photo, 16.2ms\n",
      "image 1046/2500 /repos/uni-si/R2S4/DNN/End_project/images/test_v3/card_194.jpg: 320x320 1 rotated_photo, 16.4ms\n",
      "image 1047/2500 /repos/uni-si/R2S4/DNN/End_project/images/test_v3/card_1940.jpg: 320x320 1 rotated_photo, 18.0ms\n",
      "image 1048/2500 /repos/uni-si/R2S4/DNN/End_project/images/test_v3/card_1941.jpg: 320x320 1 rotated_photo, 16.3ms\n",
      "image 1049/2500 /repos/uni-si/R2S4/DNN/End_project/images/test_v3/card_1942.jpg: 320x320 1 rotated_photo, 16.1ms\n",
      "image 1050/2500 /repos/uni-si/R2S4/DNN/End_project/images/test_v3/card_1943.jpg: 320x320 1 rotated_photo, 16.3ms\n",
      "image 1051/2500 /repos/uni-si/R2S4/DNN/End_project/images/test_v3/card_1944.jpg: 320x320 1 rotated_photo, 13.9ms\n",
      "image 1052/2500 /repos/uni-si/R2S4/DNN/End_project/images/test_v3/card_1945.jpg: 320x320 1 rotated_photo, 13.8ms\n",
      "image 1053/2500 /repos/uni-si/R2S4/DNN/End_project/images/test_v3/card_1946.jpg: 320x320 1 rotated_photo, 13.4ms\n",
      "image 1054/2500 /repos/uni-si/R2S4/DNN/End_project/images/test_v3/card_1947.jpg: 320x320 1 rotated_photo, 12.6ms\n",
      "image 1055/2500 /repos/uni-si/R2S4/DNN/End_project/images/test_v3/card_1948.jpg: 320x320 1 rotated_photo, 13.5ms\n",
      "image 1056/2500 /repos/uni-si/R2S4/DNN/End_project/images/test_v3/card_1949.jpg: 320x320 1 rotated_photo, 14.0ms\n",
      "image 1057/2500 /repos/uni-si/R2S4/DNN/End_project/images/test_v3/card_195.jpg: 320x320 1 rotated_photo, 13.5ms\n",
      "image 1058/2500 /repos/uni-si/R2S4/DNN/End_project/images/test_v3/card_1950.jpg: 320x320 1 rotated_photo, 14.5ms\n",
      "image 1059/2500 /repos/uni-si/R2S4/DNN/End_project/images/test_v3/card_1951.jpg: 320x320 1 rotated_photo, 14.5ms\n",
      "image 1060/2500 /repos/uni-si/R2S4/DNN/End_project/images/test_v3/card_1952.jpg: 320x320 1 rotated_photo, 14.1ms\n",
      "image 1061/2500 /repos/uni-si/R2S4/DNN/End_project/images/test_v3/card_1953.jpg: 320x320 1 rotated_photo, 15.1ms\n",
      "image 1062/2500 /repos/uni-si/R2S4/DNN/End_project/images/test_v3/card_1954.jpg: 320x320 1 rotated_photo, 14.3ms\n",
      "image 1063/2500 /repos/uni-si/R2S4/DNN/End_project/images/test_v3/card_1955.jpg: 320x320 1 rotated_photo, 14.5ms\n",
      "image 1064/2500 /repos/uni-si/R2S4/DNN/End_project/images/test_v3/card_1956.jpg: 320x320 1 rotated_photo, 15.6ms\n",
      "image 1065/2500 /repos/uni-si/R2S4/DNN/End_project/images/test_v3/card_1957.jpg: 320x320 1 rotated_photo, 14.3ms\n",
      "image 1066/2500 /repos/uni-si/R2S4/DNN/End_project/images/test_v3/card_1958.jpg: 320x320 1 rotated_photo, 15.4ms\n",
      "image 1067/2500 /repos/uni-si/R2S4/DNN/End_project/images/test_v3/card_1959.jpg: 320x320 1 rotated_photo, 13.2ms\n",
      "image 1068/2500 /repos/uni-si/R2S4/DNN/End_project/images/test_v3/card_196.jpg: 320x320 1 rotated_photo, 16.6ms\n",
      "image 1069/2500 /repos/uni-si/R2S4/DNN/End_project/images/test_v3/card_1960.jpg: 320x320 1 rotated_photo, 15.5ms\n",
      "image 1070/2500 /repos/uni-si/R2S4/DNN/End_project/images/test_v3/card_1961.jpg: 320x320 1 rotated_photo, 42.6ms\n",
      "image 1071/2500 /repos/uni-si/R2S4/DNN/End_project/images/test_v3/card_1962.jpg: 320x320 1 rotated_photo, 16.4ms\n",
      "image 1072/2500 /repos/uni-si/R2S4/DNN/End_project/images/test_v3/card_1963.jpg: 320x320 1 rotated_photo, 15.3ms\n",
      "image 1073/2500 /repos/uni-si/R2S4/DNN/End_project/images/test_v3/card_1964.jpg: 320x320 1 rotated_photo, 15.2ms\n",
      "image 1074/2500 /repos/uni-si/R2S4/DNN/End_project/images/test_v3/card_1965.jpg: 320x320 1 rotated_photo, 14.5ms\n",
      "image 1075/2500 /repos/uni-si/R2S4/DNN/End_project/images/test_v3/card_1966.jpg: 320x320 1 rotated_photo, 18.6ms\n",
      "image 1076/2500 /repos/uni-si/R2S4/DNN/End_project/images/test_v3/card_1967.jpg: 320x320 1 rotated_photo, 20.8ms\n",
      "image 1077/2500 /repos/uni-si/R2S4/DNN/End_project/images/test_v3/card_1968.jpg: 320x320 1 rotated_photo, 15.1ms\n",
      "image 1078/2500 /repos/uni-si/R2S4/DNN/End_project/images/test_v3/card_1969.jpg: 320x320 1 rotated_photo, 13.2ms\n",
      "image 1079/2500 /repos/uni-si/R2S4/DNN/End_project/images/test_v3/card_197.jpg: 320x320 1 rotated_photo, 14.5ms\n",
      "image 1080/2500 /repos/uni-si/R2S4/DNN/End_project/images/test_v3/card_1970.jpg: 320x320 1 rotated_photo, 14.9ms\n",
      "image 1081/2500 /repos/uni-si/R2S4/DNN/End_project/images/test_v3/card_1971.jpg: 320x320 1 rotated_photo, 13.4ms\n",
      "image 1082/2500 /repos/uni-si/R2S4/DNN/End_project/images/test_v3/card_1972.jpg: 320x320 1 rotated_photo, 13.8ms\n",
      "image 1083/2500 /repos/uni-si/R2S4/DNN/End_project/images/test_v3/card_1973.jpg: 320x320 1 rotated_photo, 13.5ms\n",
      "image 1084/2500 /repos/uni-si/R2S4/DNN/End_project/images/test_v3/card_1974.jpg: 320x320 1 rotated_photo, 13.7ms\n",
      "image 1085/2500 /repos/uni-si/R2S4/DNN/End_project/images/test_v3/card_1975.jpg: 320x320 1 rotated_photo, 13.3ms\n",
      "image 1086/2500 /repos/uni-si/R2S4/DNN/End_project/images/test_v3/card_1976.jpg: 320x320 1 rotated_photo, 13.2ms\n",
      "image 1087/2500 /repos/uni-si/R2S4/DNN/End_project/images/test_v3/card_1977.jpg: 320x320 1 rotated_photo, 13.3ms\n",
      "image 1088/2500 /repos/uni-si/R2S4/DNN/End_project/images/test_v3/card_1978.jpg: 320x320 1 rotated_photo, 16.3ms\n",
      "image 1089/2500 /repos/uni-si/R2S4/DNN/End_project/images/test_v3/card_1979.jpg: 320x320 1 rotated_photo, 13.0ms\n",
      "image 1090/2500 /repos/uni-si/R2S4/DNN/End_project/images/test_v3/card_198.jpg: 320x320 1 rotated_photo, 15.4ms\n",
      "image 1091/2500 /repos/uni-si/R2S4/DNN/End_project/images/test_v3/card_1980.jpg: 320x320 1 rotated_photo, 18.0ms\n",
      "image 1092/2500 /repos/uni-si/R2S4/DNN/End_project/images/test_v3/card_1981.jpg: 320x320 1 rotated_photo, 13.5ms\n",
      "image 1093/2500 /repos/uni-si/R2S4/DNN/End_project/images/test_v3/card_1982.jpg: 320x320 1 rotated_photo, 14.8ms\n",
      "image 1094/2500 /repos/uni-si/R2S4/DNN/End_project/images/test_v3/card_1983.jpg: 320x320 1 rotated_photo, 13.6ms\n",
      "image 1095/2500 /repos/uni-si/R2S4/DNN/End_project/images/test_v3/card_1984.jpg: 320x320 1 rotated_photo, 13.0ms\n",
      "image 1096/2500 /repos/uni-si/R2S4/DNN/End_project/images/test_v3/card_1985.jpg: 320x320 1 rotated_photo, 13.7ms\n",
      "image 1097/2500 /repos/uni-si/R2S4/DNN/End_project/images/test_v3/card_1986.jpg: 320x320 1 rotated_photo, 13.7ms\n",
      "image 1098/2500 /repos/uni-si/R2S4/DNN/End_project/images/test_v3/card_1987.jpg: 320x320 1 rotated_photo, 13.6ms\n",
      "image 1099/2500 /repos/uni-si/R2S4/DNN/End_project/images/test_v3/card_1988.jpg: 320x320 1 rotated_photo, 25.5ms\n",
      "image 1100/2500 /repos/uni-si/R2S4/DNN/End_project/images/test_v3/card_1989.jpg: 320x320 1 rotated_photo, 13.0ms\n",
      "image 1101/2500 /repos/uni-si/R2S4/DNN/End_project/images/test_v3/card_199.jpg: 320x320 1 rotated_photo, 13.1ms\n",
      "image 1102/2500 /repos/uni-si/R2S4/DNN/End_project/images/test_v3/card_1990.jpg: 320x320 1 rotated_photo, 13.6ms\n",
      "image 1103/2500 /repos/uni-si/R2S4/DNN/End_project/images/test_v3/card_1991.jpg: 320x320 1 rotated_photo, 18.5ms\n",
      "image 1104/2500 /repos/uni-si/R2S4/DNN/End_project/images/test_v3/card_1992.jpg: 320x320 1 rotated_photo, 14.1ms\n",
      "image 1105/2500 /repos/uni-si/R2S4/DNN/End_project/images/test_v3/card_1993.jpg: 320x320 1 rotated_photo, 13.5ms\n",
      "image 1106/2500 /repos/uni-si/R2S4/DNN/End_project/images/test_v3/card_1994.jpg: 320x320 1 rotated_photo, 14.8ms\n",
      "image 1107/2500 /repos/uni-si/R2S4/DNN/End_project/images/test_v3/card_1995.jpg: 320x320 1 rotated_photo, 13.7ms\n",
      "image 1108/2500 /repos/uni-si/R2S4/DNN/End_project/images/test_v3/card_1996.jpg: 320x320 1 rotated_photo, 14.1ms\n",
      "image 1109/2500 /repos/uni-si/R2S4/DNN/End_project/images/test_v3/card_1997.jpg: 320x320 1 rotated_photo, 29.4ms\n",
      "image 1110/2500 /repos/uni-si/R2S4/DNN/End_project/images/test_v3/card_1998.jpg: 320x320 1 rotated_photo, 12.7ms\n",
      "image 1111/2500 /repos/uni-si/R2S4/DNN/End_project/images/test_v3/card_1999.jpg: 320x320 1 rotated_photo, 13.4ms\n",
      "image 1112/2500 /repos/uni-si/R2S4/DNN/End_project/images/test_v3/card_2.jpg: 320x320 1 rotated_photo, 13.1ms\n",
      "image 1113/2500 /repos/uni-si/R2S4/DNN/End_project/images/test_v3/card_20.jpg: 320x320 1 rotated_photo, 14.0ms\n",
      "image 1114/2500 /repos/uni-si/R2S4/DNN/End_project/images/test_v3/card_200.jpg: 320x320 1 rotated_photo, 35.4ms\n",
      "image 1115/2500 /repos/uni-si/R2S4/DNN/End_project/images/test_v3/card_2000.jpg: 320x320 1 rotated_photo, 25.0ms\n",
      "image 1116/2500 /repos/uni-si/R2S4/DNN/End_project/images/test_v3/card_2001.jpg: 320x320 1 rotated_photo, 14.4ms\n",
      "image 1117/2500 /repos/uni-si/R2S4/DNN/End_project/images/test_v3/card_2002.jpg: 320x320 1 rotated_photo, 14.4ms\n",
      "image 1118/2500 /repos/uni-si/R2S4/DNN/End_project/images/test_v3/card_2003.jpg: 320x320 1 rotated_photo, 14.2ms\n",
      "image 1119/2500 /repos/uni-si/R2S4/DNN/End_project/images/test_v3/card_2004.jpg: 320x320 1 rotated_photo, 15.3ms\n",
      "image 1120/2500 /repos/uni-si/R2S4/DNN/End_project/images/test_v3/card_2005.jpg: 320x320 1 rotated_photo, 17.5ms\n",
      "image 1121/2500 /repos/uni-si/R2S4/DNN/End_project/images/test_v3/card_2006.jpg: 320x320 1 rotated_photo, 17.3ms\n",
      "image 1122/2500 /repos/uni-si/R2S4/DNN/End_project/images/test_v3/card_2007.jpg: 320x320 1 rotated_photo, 14.2ms\n",
      "image 1123/2500 /repos/uni-si/R2S4/DNN/End_project/images/test_v3/card_2008.jpg: 320x320 1 rotated_photo, 21.0ms\n",
      "image 1124/2500 /repos/uni-si/R2S4/DNN/End_project/images/test_v3/card_2009.jpg: 320x320 1 rotated_photo, 22.5ms\n",
      "image 1125/2500 /repos/uni-si/R2S4/DNN/End_project/images/test_v3/card_201.jpg: 320x320 1 rotated_photo, 22.1ms\n",
      "image 1126/2500 /repos/uni-si/R2S4/DNN/End_project/images/test_v3/card_2010.jpg: 320x320 1 rotated_photo, 20.5ms\n",
      "image 1127/2500 /repos/uni-si/R2S4/DNN/End_project/images/test_v3/card_2011.jpg: 320x320 1 rotated_photo, 18.7ms\n",
      "image 1128/2500 /repos/uni-si/R2S4/DNN/End_project/images/test_v3/card_2012.jpg: 320x320 1 rotated_photo, 24.6ms\n",
      "image 1129/2500 /repos/uni-si/R2S4/DNN/End_project/images/test_v3/card_2013.jpg: 320x320 1 rotated_photo, 19.0ms\n",
      "image 1130/2500 /repos/uni-si/R2S4/DNN/End_project/images/test_v3/card_2014.jpg: 320x320 1 rotated_photo, 15.5ms\n",
      "image 1131/2500 /repos/uni-si/R2S4/DNN/End_project/images/test_v3/card_2015.jpg: 320x320 1 rotated_photo, 16.4ms\n",
      "image 1132/2500 /repos/uni-si/R2S4/DNN/End_project/images/test_v3/card_2016.jpg: 320x320 1 rotated_photo, 17.8ms\n",
      "image 1133/2500 /repos/uni-si/R2S4/DNN/End_project/images/test_v3/card_2017.jpg: 320x320 1 rotated_photo, 48.8ms\n",
      "image 1134/2500 /repos/uni-si/R2S4/DNN/End_project/images/test_v3/card_2018.jpg: 320x320 1 rotated_photo, 15.0ms\n",
      "image 1135/2500 /repos/uni-si/R2S4/DNN/End_project/images/test_v3/card_2019.jpg: 320x320 1 rotated_photo, 15.3ms\n",
      "image 1136/2500 /repos/uni-si/R2S4/DNN/End_project/images/test_v3/card_202.jpg: 320x320 1 rotated_photo, 18.0ms\n",
      "image 1137/2500 /repos/uni-si/R2S4/DNN/End_project/images/test_v3/card_2020.jpg: 320x320 1 rotated_photo, 14.2ms\n",
      "image 1138/2500 /repos/uni-si/R2S4/DNN/End_project/images/test_v3/card_2021.jpg: 320x320 1 rotated_photo, 16.3ms\n",
      "image 1139/2500 /repos/uni-si/R2S4/DNN/End_project/images/test_v3/card_2022.jpg: 320x320 1 rotated_photo, 19.4ms\n",
      "image 1140/2500 /repos/uni-si/R2S4/DNN/End_project/images/test_v3/card_2023.jpg: 320x320 1 rotated_photo, 15.4ms\n",
      "image 1141/2500 /repos/uni-si/R2S4/DNN/End_project/images/test_v3/card_2024.jpg: 320x320 1 rotated_photo, 14.6ms\n",
      "image 1142/2500 /repos/uni-si/R2S4/DNN/End_project/images/test_v3/card_2025.jpg: 320x320 1 rotated_photo, 13.9ms\n",
      "image 1143/2500 /repos/uni-si/R2S4/DNN/End_project/images/test_v3/card_2026.jpg: 320x320 1 rotated_photo, 13.6ms\n",
      "image 1144/2500 /repos/uni-si/R2S4/DNN/End_project/images/test_v3/card_2027.jpg: 320x320 1 rotated_photo, 13.5ms\n",
      "image 1145/2500 /repos/uni-si/R2S4/DNN/End_project/images/test_v3/card_2028.jpg: 320x320 1 rotated_photo, 13.3ms\n",
      "image 1146/2500 /repos/uni-si/R2S4/DNN/End_project/images/test_v3/card_2029.jpg: 320x320 1 rotated_photo, 24.4ms\n",
      "image 1147/2500 /repos/uni-si/R2S4/DNN/End_project/images/test_v3/card_203.jpg: 320x320 1 rotated_photo, 15.0ms\n",
      "image 1148/2500 /repos/uni-si/R2S4/DNN/End_project/images/test_v3/card_2030.jpg: 320x320 1 rotated_photo, 13.8ms\n",
      "image 1149/2500 /repos/uni-si/R2S4/DNN/End_project/images/test_v3/card_2031.jpg: 320x320 1 rotated_photo, 14.4ms\n",
      "image 1150/2500 /repos/uni-si/R2S4/DNN/End_project/images/test_v3/card_2032.jpg: 320x320 1 rotated_photo, 15.5ms\n",
      "image 1151/2500 /repos/uni-si/R2S4/DNN/End_project/images/test_v3/card_2033.jpg: 320x320 1 rotated_photo, 15.7ms\n",
      "image 1152/2500 /repos/uni-si/R2S4/DNN/End_project/images/test_v3/card_2034.jpg: 320x320 1 rotated_photo, 27.7ms\n",
      "image 1153/2500 /repos/uni-si/R2S4/DNN/End_project/images/test_v3/card_2035.jpg: 320x320 1 rotated_photo, 14.5ms\n",
      "image 1154/2500 /repos/uni-si/R2S4/DNN/End_project/images/test_v3/card_2036.jpg: 320x320 1 rotated_photo, 33.3ms\n",
      "image 1155/2500 /repos/uni-si/R2S4/DNN/End_project/images/test_v3/card_2037.jpg: 320x320 1 rotated_photo, 23.9ms\n",
      "image 1156/2500 /repos/uni-si/R2S4/DNN/End_project/images/test_v3/card_2038.jpg: 320x320 1 rotated_photo, 34.0ms\n",
      "image 1157/2500 /repos/uni-si/R2S4/DNN/End_project/images/test_v3/card_2039.jpg: 320x320 1 rotated_photo, 36.4ms\n",
      "image 1158/2500 /repos/uni-si/R2S4/DNN/End_project/images/test_v3/card_204.jpg: 320x320 1 rotated_photo, 20.8ms\n",
      "image 1159/2500 /repos/uni-si/R2S4/DNN/End_project/images/test_v3/card_2040.jpg: 320x320 1 rotated_photo, 17.0ms\n",
      "image 1160/2500 /repos/uni-si/R2S4/DNN/End_project/images/test_v3/card_2041.jpg: 320x320 1 rotated_photo, 14.1ms\n",
      "image 1161/2500 /repos/uni-si/R2S4/DNN/End_project/images/test_v3/card_2042.jpg: 320x320 1 rotated_photo, 37.7ms\n",
      "image 1162/2500 /repos/uni-si/R2S4/DNN/End_project/images/test_v3/card_2043.jpg: 320x320 1 rotated_photo, 46.3ms\n",
      "image 1163/2500 /repos/uni-si/R2S4/DNN/End_project/images/test_v3/card_2044.jpg: 320x320 1 rotated_photo, 14.1ms\n",
      "image 1164/2500 /repos/uni-si/R2S4/DNN/End_project/images/test_v3/card_2045.jpg: 320x320 1 rotated_photo, 21.6ms\n",
      "image 1165/2500 /repos/uni-si/R2S4/DNN/End_project/images/test_v3/card_2046.jpg: 320x320 1 rotated_photo, 15.0ms\n",
      "image 1166/2500 /repos/uni-si/R2S4/DNN/End_project/images/test_v3/card_2047.jpg: 320x320 1 rotated_photo, 14.4ms\n",
      "image 1167/2500 /repos/uni-si/R2S4/DNN/End_project/images/test_v3/card_2048.jpg: 320x320 1 rotated_photo, 46.7ms\n",
      "image 1168/2500 /repos/uni-si/R2S4/DNN/End_project/images/test_v3/card_2049.jpg: 320x320 1 rotated_photo, 14.5ms\n",
      "image 1169/2500 /repos/uni-si/R2S4/DNN/End_project/images/test_v3/card_205.jpg: 320x320 1 rotated_photo, 15.1ms\n",
      "image 1170/2500 /repos/uni-si/R2S4/DNN/End_project/images/test_v3/card_2050.jpg: 320x320 1 rotated_photo, 18.0ms\n",
      "image 1171/2500 /repos/uni-si/R2S4/DNN/End_project/images/test_v3/card_2051.jpg: 320x320 1 rotated_photo, 15.6ms\n",
      "image 1172/2500 /repos/uni-si/R2S4/DNN/End_project/images/test_v3/card_2052.jpg: 320x320 1 rotated_photo, 14.1ms\n",
      "image 1173/2500 /repos/uni-si/R2S4/DNN/End_project/images/test_v3/card_2053.jpg: 320x320 1 rotated_photo, 18.8ms\n",
      "image 1174/2500 /repos/uni-si/R2S4/DNN/End_project/images/test_v3/card_2054.jpg: 320x320 1 rotated_photo, 24.4ms\n",
      "image 1175/2500 /repos/uni-si/R2S4/DNN/End_project/images/test_v3/card_2055.jpg: 320x320 1 rotated_photo, 15.6ms\n",
      "image 1176/2500 /repos/uni-si/R2S4/DNN/End_project/images/test_v3/card_2056.jpg: 320x320 1 rotated_photo, 19.2ms\n",
      "image 1177/2500 /repos/uni-si/R2S4/DNN/End_project/images/test_v3/card_2057.jpg: 320x320 1 rotated_photo, 16.4ms\n",
      "image 1178/2500 /repos/uni-si/R2S4/DNN/End_project/images/test_v3/card_2058.jpg: 320x320 1 rotated_photo, 17.2ms\n",
      "image 1179/2500 /repos/uni-si/R2S4/DNN/End_project/images/test_v3/card_2059.jpg: 320x320 1 rotated_photo, 14.4ms\n",
      "image 1180/2500 /repos/uni-si/R2S4/DNN/End_project/images/test_v3/card_206.jpg: 320x320 1 rotated_photo, 26.6ms\n",
      "image 1181/2500 /repos/uni-si/R2S4/DNN/End_project/images/test_v3/card_2060.jpg: 320x320 1 rotated_photo, 22.0ms\n",
      "image 1182/2500 /repos/uni-si/R2S4/DNN/End_project/images/test_v3/card_2061.jpg: 320x320 1 rotated_photo, 15.4ms\n",
      "image 1183/2500 /repos/uni-si/R2S4/DNN/End_project/images/test_v3/card_2062.jpg: 320x320 1 rotated_photo, 15.1ms\n",
      "image 1184/2500 /repos/uni-si/R2S4/DNN/End_project/images/test_v3/card_2063.jpg: 320x320 1 rotated_photo, 14.7ms\n",
      "image 1185/2500 /repos/uni-si/R2S4/DNN/End_project/images/test_v3/card_2064.jpg: 320x320 1 rotated_photo, 14.1ms\n",
      "image 1186/2500 /repos/uni-si/R2S4/DNN/End_project/images/test_v3/card_2065.jpg: 320x320 1 rotated_photo, 13.9ms\n",
      "image 1187/2500 /repos/uni-si/R2S4/DNN/End_project/images/test_v3/card_2066.jpg: 320x320 1 rotated_photo, 14.0ms\n",
      "image 1188/2500 /repos/uni-si/R2S4/DNN/End_project/images/test_v3/card_2067.jpg: 320x320 1 rotated_photo, 14.5ms\n",
      "image 1189/2500 /repos/uni-si/R2S4/DNN/End_project/images/test_v3/card_2068.jpg: 320x320 1 rotated_photo, 14.8ms\n",
      "image 1190/2500 /repos/uni-si/R2S4/DNN/End_project/images/test_v3/card_2069.jpg: 320x320 1 rotated_photo, 13.8ms\n",
      "image 1191/2500 /repos/uni-si/R2S4/DNN/End_project/images/test_v3/card_207.jpg: 320x320 1 rotated_photo, 14.6ms\n",
      "image 1192/2500 /repos/uni-si/R2S4/DNN/End_project/images/test_v3/card_2070.jpg: 320x320 1 rotated_photo, 14.4ms\n",
      "image 1193/2500 /repos/uni-si/R2S4/DNN/End_project/images/test_v3/card_2071.jpg: 320x320 1 rotated_photo, 34.5ms\n",
      "image 1194/2500 /repos/uni-si/R2S4/DNN/End_project/images/test_v3/card_2072.jpg: 320x320 1 rotated_photo, 13.0ms\n",
      "image 1195/2500 /repos/uni-si/R2S4/DNN/End_project/images/test_v3/card_2073.jpg: 320x320 1 rotated_photo, 13.3ms\n",
      "image 1196/2500 /repos/uni-si/R2S4/DNN/End_project/images/test_v3/card_2074.jpg: 320x320 1 rotated_photo, 17.9ms\n",
      "image 1197/2500 /repos/uni-si/R2S4/DNN/End_project/images/test_v3/card_2075.jpg: 320x320 1 rotated_photo, 15.1ms\n",
      "image 1198/2500 /repos/uni-si/R2S4/DNN/End_project/images/test_v3/card_2076.jpg: 320x320 1 rotated_photo, 14.2ms\n",
      "image 1199/2500 /repos/uni-si/R2S4/DNN/End_project/images/test_v3/card_2077.jpg: 320x320 1 rotated_photo, 16.0ms\n",
      "image 1200/2500 /repos/uni-si/R2S4/DNN/End_project/images/test_v3/card_2078.jpg: 320x320 1 rotated_photo, 14.6ms\n",
      "image 1201/2500 /repos/uni-si/R2S4/DNN/End_project/images/test_v3/card_2079.jpg: 320x320 1 rotated_photo, 15.3ms\n",
      "image 1202/2500 /repos/uni-si/R2S4/DNN/End_project/images/test_v3/card_208.jpg: 320x320 1 rotated_photo, 17.5ms\n",
      "image 1203/2500 /repos/uni-si/R2S4/DNN/End_project/images/test_v3/card_2080.jpg: 320x320 1 rotated_photo, 15.4ms\n",
      "image 1204/2500 /repos/uni-si/R2S4/DNN/End_project/images/test_v3/card_2081.jpg: 320x320 1 rotated_photo, 20.9ms\n",
      "image 1205/2500 /repos/uni-si/R2S4/DNN/End_project/images/test_v3/card_2082.jpg: 320x320 1 rotated_photo, 22.1ms\n",
      "image 1206/2500 /repos/uni-si/R2S4/DNN/End_project/images/test_v3/card_2083.jpg: 320x320 1 rotated_photo, 22.4ms\n",
      "image 1207/2500 /repos/uni-si/R2S4/DNN/End_project/images/test_v3/card_2084.jpg: 320x320 1 rotated_photo, 16.9ms\n",
      "image 1208/2500 /repos/uni-si/R2S4/DNN/End_project/images/test_v3/card_2085.jpg: 320x320 1 rotated_photo, 16.1ms\n",
      "image 1209/2500 /repos/uni-si/R2S4/DNN/End_project/images/test_v3/card_2086.jpg: 320x320 1 rotated_photo, 14.2ms\n",
      "image 1210/2500 /repos/uni-si/R2S4/DNN/End_project/images/test_v3/card_2087.jpg: 320x320 1 rotated_photo, 15.3ms\n",
      "image 1211/2500 /repos/uni-si/R2S4/DNN/End_project/images/test_v3/card_2088.jpg: 320x320 1 rotated_photo, 15.2ms\n",
      "image 1212/2500 /repos/uni-si/R2S4/DNN/End_project/images/test_v3/card_2089.jpg: 320x320 1 rotated_photo, 14.1ms\n",
      "image 1213/2500 /repos/uni-si/R2S4/DNN/End_project/images/test_v3/card_209.jpg: 320x320 1 rotated_photo, 30.7ms\n",
      "image 1214/2500 /repos/uni-si/R2S4/DNN/End_project/images/test_v3/card_2090.jpg: 320x320 1 rotated_photo, 32.1ms\n",
      "image 1215/2500 /repos/uni-si/R2S4/DNN/End_project/images/test_v3/card_2091.jpg: 320x320 1 rotated_photo, 19.4ms\n",
      "image 1216/2500 /repos/uni-si/R2S4/DNN/End_project/images/test_v3/card_2092.jpg: 320x320 1 rotated_photo, 18.2ms\n",
      "image 1217/2500 /repos/uni-si/R2S4/DNN/End_project/images/test_v3/card_2093.jpg: 320x320 1 rotated_photo, 14.9ms\n",
      "image 1218/2500 /repos/uni-si/R2S4/DNN/End_project/images/test_v3/card_2094.jpg: 320x320 1 rotated_photo, 15.3ms\n",
      "image 1219/2500 /repos/uni-si/R2S4/DNN/End_project/images/test_v3/card_2095.jpg: 320x320 1 rotated_photo, 16.1ms\n",
      "image 1220/2500 /repos/uni-si/R2S4/DNN/End_project/images/test_v3/card_2096.jpg: 320x320 1 rotated_photo, 18.8ms\n",
      "image 1221/2500 /repos/uni-si/R2S4/DNN/End_project/images/test_v3/card_2097.jpg: 320x320 1 rotated_photo, 17.3ms\n",
      "image 1222/2500 /repos/uni-si/R2S4/DNN/End_project/images/test_v3/card_2098.jpg: 320x320 1 rotated_photo, 21.0ms\n",
      "image 1223/2500 /repos/uni-si/R2S4/DNN/End_project/images/test_v3/card_2099.jpg: 320x320 1 rotated_photo, 17.3ms\n",
      "image 1224/2500 /repos/uni-si/R2S4/DNN/End_project/images/test_v3/card_21.jpg: 320x320 1 rotated_photo, 18.0ms\n",
      "image 1225/2500 /repos/uni-si/R2S4/DNN/End_project/images/test_v3/card_210.jpg: 320x320 1 rotated_photo, 15.7ms\n",
      "image 1226/2500 /repos/uni-si/R2S4/DNN/End_project/images/test_v3/card_2100.jpg: 320x320 1 rotated_photo, 16.3ms\n",
      "image 1227/2500 /repos/uni-si/R2S4/DNN/End_project/images/test_v3/card_2101.jpg: 320x320 1 rotated_photo, 43.2ms\n",
      "image 1228/2500 /repos/uni-si/R2S4/DNN/End_project/images/test_v3/card_2102.jpg: 320x320 1 rotated_photo, 24.0ms\n",
      "image 1229/2500 /repos/uni-si/R2S4/DNN/End_project/images/test_v3/card_2103.jpg: 320x320 1 rotated_photo, 14.3ms\n",
      "image 1230/2500 /repos/uni-si/R2S4/DNN/End_project/images/test_v3/card_2104.jpg: 320x320 1 rotated_photo, 15.5ms\n",
      "image 1231/2500 /repos/uni-si/R2S4/DNN/End_project/images/test_v3/card_2105.jpg: 320x320 1 rotated_photo, 14.4ms\n",
      "image 1232/2500 /repos/uni-si/R2S4/DNN/End_project/images/test_v3/card_2106.jpg: 320x320 1 rotated_photo, 14.8ms\n",
      "image 1233/2500 /repos/uni-si/R2S4/DNN/End_project/images/test_v3/card_2107.jpg: 320x320 1 rotated_photo, 18.7ms\n",
      "image 1234/2500 /repos/uni-si/R2S4/DNN/End_project/images/test_v3/card_2108.jpg: 320x320 1 rotated_photo, 15.3ms\n",
      "image 1235/2500 /repos/uni-si/R2S4/DNN/End_project/images/test_v3/card_2109.jpg: 320x320 1 rotated_photo, 13.6ms\n",
      "image 1236/2500 /repos/uni-si/R2S4/DNN/End_project/images/test_v3/card_211.jpg: 320x320 1 rotated_photo, 25.0ms\n",
      "image 1237/2500 /repos/uni-si/R2S4/DNN/End_project/images/test_v3/card_2110.jpg: 320x320 1 rotated_photo, 28.5ms\n",
      "image 1238/2500 /repos/uni-si/R2S4/DNN/End_project/images/test_v3/card_2111.jpg: 320x320 1 rotated_photo, 24.7ms\n",
      "image 1239/2500 /repos/uni-si/R2S4/DNN/End_project/images/test_v3/card_2112.jpg: 320x320 1 rotated_photo, 14.8ms\n",
      "image 1240/2500 /repos/uni-si/R2S4/DNN/End_project/images/test_v3/card_2113.jpg: 320x320 1 rotated_photo, 19.6ms\n",
      "image 1241/2500 /repos/uni-si/R2S4/DNN/End_project/images/test_v3/card_2114.jpg: 320x320 1 rotated_photo, 27.0ms\n",
      "image 1242/2500 /repos/uni-si/R2S4/DNN/End_project/images/test_v3/card_2115.jpg: 320x320 1 rotated_photo, 45.2ms\n",
      "image 1243/2500 /repos/uni-si/R2S4/DNN/End_project/images/test_v3/card_2116.jpg: 320x320 1 rotated_photo, 14.1ms\n",
      "image 1244/2500 /repos/uni-si/R2S4/DNN/End_project/images/test_v3/card_2117.jpg: 320x320 1 rotated_photo, 16.6ms\n",
      "image 1245/2500 /repos/uni-si/R2S4/DNN/End_project/images/test_v3/card_2118.jpg: 320x320 1 rotated_photo, 14.3ms\n",
      "image 1246/2500 /repos/uni-si/R2S4/DNN/End_project/images/test_v3/card_2119.jpg: 320x320 1 rotated_photo, 20.5ms\n",
      "image 1247/2500 /repos/uni-si/R2S4/DNN/End_project/images/test_v3/card_212.jpg: 320x320 1 rotated_photo, 15.3ms\n",
      "image 1248/2500 /repos/uni-si/R2S4/DNN/End_project/images/test_v3/card_2120.jpg: 320x320 1 rotated_photo, 13.1ms\n",
      "image 1249/2500 /repos/uni-si/R2S4/DNN/End_project/images/test_v3/card_2121.jpg: 320x320 1 rotated_photo, 13.5ms\n",
      "image 1250/2500 /repos/uni-si/R2S4/DNN/End_project/images/test_v3/card_2122.jpg: 320x320 1 rotated_photo, 15.2ms\n",
      "image 1251/2500 /repos/uni-si/R2S4/DNN/End_project/images/test_v3/card_2123.jpg: 320x320 1 rotated_photo, 46.0ms\n",
      "image 1252/2500 /repos/uni-si/R2S4/DNN/End_project/images/test_v3/card_2124.jpg: 320x320 1 rotated_photo, 20.6ms\n",
      "image 1253/2500 /repos/uni-si/R2S4/DNN/End_project/images/test_v3/card_2125.jpg: 320x320 1 rotated_photo, 15.0ms\n",
      "image 1254/2500 /repos/uni-si/R2S4/DNN/End_project/images/test_v3/card_2126.jpg: 320x320 1 rotated_photo, 19.9ms\n",
      "image 1255/2500 /repos/uni-si/R2S4/DNN/End_project/images/test_v3/card_2127.jpg: 320x320 1 rotated_photo, 15.6ms\n",
      "image 1256/2500 /repos/uni-si/R2S4/DNN/End_project/images/test_v3/card_2128.jpg: 320x320 1 rotated_photo, 19.2ms\n",
      "image 1257/2500 /repos/uni-si/R2S4/DNN/End_project/images/test_v3/card_2129.jpg: 320x320 1 rotated_photo, 20.3ms\n",
      "image 1258/2500 /repos/uni-si/R2S4/DNN/End_project/images/test_v3/card_213.jpg: 320x320 1 rotated_photo, 19.2ms\n",
      "image 1259/2500 /repos/uni-si/R2S4/DNN/End_project/images/test_v3/card_2130.jpg: 320x320 1 rotated_photo, 17.9ms\n",
      "image 1260/2500 /repos/uni-si/R2S4/DNN/End_project/images/test_v3/card_2131.jpg: 320x320 1 rotated_photo, 15.1ms\n",
      "image 1261/2500 /repos/uni-si/R2S4/DNN/End_project/images/test_v3/card_2132.jpg: 320x320 1 rotated_photo, 14.8ms\n",
      "image 1262/2500 /repos/uni-si/R2S4/DNN/End_project/images/test_v3/card_2133.jpg: 320x320 1 rotated_photo, 16.3ms\n",
      "image 1263/2500 /repos/uni-si/R2S4/DNN/End_project/images/test_v3/card_2134.jpg: 320x320 1 rotated_photo, 14.5ms\n",
      "image 1264/2500 /repos/uni-si/R2S4/DNN/End_project/images/test_v3/card_2135.jpg: 320x320 1 rotated_photo, 25.8ms\n",
      "image 1265/2500 /repos/uni-si/R2S4/DNN/End_project/images/test_v3/card_2136.jpg: 320x320 1 rotated_photo, 14.9ms\n",
      "image 1266/2500 /repos/uni-si/R2S4/DNN/End_project/images/test_v3/card_2137.jpg: 320x320 1 rotated_photo, 33.7ms\n",
      "image 1267/2500 /repos/uni-si/R2S4/DNN/End_project/images/test_v3/card_2138.jpg: 320x320 1 rotated_photo, 15.7ms\n",
      "image 1268/2500 /repos/uni-si/R2S4/DNN/End_project/images/test_v3/card_2139.jpg: 320x320 1 rotated_photo, 27.7ms\n",
      "image 1269/2500 /repos/uni-si/R2S4/DNN/End_project/images/test_v3/card_214.jpg: 320x320 1 rotated_photo, 30.7ms\n",
      "image 1270/2500 /repos/uni-si/R2S4/DNN/End_project/images/test_v3/card_2140.jpg: 320x320 1 rotated_photo, 19.0ms\n",
      "image 1271/2500 /repos/uni-si/R2S4/DNN/End_project/images/test_v3/card_2141.jpg: 320x320 1 rotated_photo, 17.1ms\n",
      "image 1272/2500 /repos/uni-si/R2S4/DNN/End_project/images/test_v3/card_2142.jpg: 320x320 1 rotated_photo, 15.6ms\n",
      "image 1273/2500 /repos/uni-si/R2S4/DNN/End_project/images/test_v3/card_2143.jpg: 320x320 1 rotated_photo, 17.9ms\n",
      "image 1274/2500 /repos/uni-si/R2S4/DNN/End_project/images/test_v3/card_2144.jpg: 320x320 1 rotated_photo, 17.7ms\n",
      "image 1275/2500 /repos/uni-si/R2S4/DNN/End_project/images/test_v3/card_2145.jpg: 320x320 1 rotated_photo, 21.5ms\n",
      "image 1276/2500 /repos/uni-si/R2S4/DNN/End_project/images/test_v3/card_2146.jpg: 320x320 1 rotated_photo, 14.2ms\n",
      "image 1277/2500 /repos/uni-si/R2S4/DNN/End_project/images/test_v3/card_2147.jpg: 320x320 1 rotated_photo, 16.9ms\n",
      "image 1278/2500 /repos/uni-si/R2S4/DNN/End_project/images/test_v3/card_2148.jpg: 320x320 1 rotated_photo, 15.3ms\n",
      "image 1279/2500 /repos/uni-si/R2S4/DNN/End_project/images/test_v3/card_2149.jpg: 320x320 1 rotated_photo, 34.6ms\n",
      "image 1280/2500 /repos/uni-si/R2S4/DNN/End_project/images/test_v3/card_215.jpg: 320x320 1 rotated_photo, 32.5ms\n",
      "image 1281/2500 /repos/uni-si/R2S4/DNN/End_project/images/test_v3/card_2150.jpg: 320x320 1 rotated_photo, 15.1ms\n",
      "image 1282/2500 /repos/uni-si/R2S4/DNN/End_project/images/test_v3/card_2151.jpg: 320x320 1 rotated_photo, 21.7ms\n",
      "image 1283/2500 /repos/uni-si/R2S4/DNN/End_project/images/test_v3/card_2152.jpg: 320x320 1 rotated_photo, 17.2ms\n",
      "image 1284/2500 /repos/uni-si/R2S4/DNN/End_project/images/test_v3/card_2153.jpg: 320x320 1 rotated_photo, 34.9ms\n",
      "image 1285/2500 /repos/uni-si/R2S4/DNN/End_project/images/test_v3/card_2154.jpg: 320x320 1 rotated_photo, 19.0ms\n",
      "image 1286/2500 /repos/uni-si/R2S4/DNN/End_project/images/test_v3/card_2155.jpg: 320x320 1 rotated_photo, 16.5ms\n",
      "image 1287/2500 /repos/uni-si/R2S4/DNN/End_project/images/test_v3/card_2156.jpg: 320x320 1 rotated_photo, 14.2ms\n",
      "image 1288/2500 /repos/uni-si/R2S4/DNN/End_project/images/test_v3/card_2157.jpg: 320x320 1 rotated_photo, 15.1ms\n",
      "image 1289/2500 /repos/uni-si/R2S4/DNN/End_project/images/test_v3/card_2158.jpg: 320x320 1 rotated_photo, 14.3ms\n",
      "image 1290/2500 /repos/uni-si/R2S4/DNN/End_project/images/test_v3/card_2159.jpg: 320x320 1 rotated_photo, 14.0ms\n",
      "image 1291/2500 /repos/uni-si/R2S4/DNN/End_project/images/test_v3/card_216.jpg: 320x320 1 rotated_photo, 42.2ms\n",
      "image 1292/2500 /repos/uni-si/R2S4/DNN/End_project/images/test_v3/card_2160.jpg: 320x320 1 rotated_photo, 13.5ms\n",
      "image 1293/2500 /repos/uni-si/R2S4/DNN/End_project/images/test_v3/card_2161.jpg: 320x320 1 rotated_photo, 14.4ms\n",
      "image 1294/2500 /repos/uni-si/R2S4/DNN/End_project/images/test_v3/card_2162.jpg: 320x320 1 rotated_photo, 14.3ms\n",
      "image 1295/2500 /repos/uni-si/R2S4/DNN/End_project/images/test_v3/card_2163.jpg: 320x320 1 rotated_photo, 17.3ms\n",
      "image 1296/2500 /repos/uni-si/R2S4/DNN/End_project/images/test_v3/card_2164.jpg: 320x320 1 rotated_photo, 22.2ms\n",
      "image 1297/2500 /repos/uni-si/R2S4/DNN/End_project/images/test_v3/card_2165.jpg: 320x320 1 rotated_photo, 16.9ms\n",
      "image 1298/2500 /repos/uni-si/R2S4/DNN/End_project/images/test_v3/card_2166.jpg: 320x320 1 rotated_photo, 38.1ms\n",
      "image 1299/2500 /repos/uni-si/R2S4/DNN/End_project/images/test_v3/card_2167.jpg: 320x320 1 rotated_photo, 14.2ms\n",
      "image 1300/2500 /repos/uni-si/R2S4/DNN/End_project/images/test_v3/card_2168.jpg: 320x320 1 rotated_photo, 14.5ms\n",
      "image 1301/2500 /repos/uni-si/R2S4/DNN/End_project/images/test_v3/card_2169.jpg: 320x320 1 rotated_photo, 15.3ms\n",
      "image 1302/2500 /repos/uni-si/R2S4/DNN/End_project/images/test_v3/card_217.jpg: 320x320 1 rotated_photo, 16.9ms\n",
      "image 1303/2500 /repos/uni-si/R2S4/DNN/End_project/images/test_v3/card_2170.jpg: 320x320 1 rotated_photo, 26.2ms\n",
      "image 1304/2500 /repos/uni-si/R2S4/DNN/End_project/images/test_v3/card_2171.jpg: 320x320 1 rotated_photo, 14.5ms\n",
      "image 1305/2500 /repos/uni-si/R2S4/DNN/End_project/images/test_v3/card_2172.jpg: 320x320 1 rotated_photo, 16.4ms\n",
      "image 1306/2500 /repos/uni-si/R2S4/DNN/End_project/images/test_v3/card_2173.jpg: 320x320 1 rotated_photo, 36.3ms\n",
      "image 1307/2500 /repos/uni-si/R2S4/DNN/End_project/images/test_v3/card_2174.jpg: 320x320 1 rotated_photo, 15.6ms\n",
      "image 1308/2500 /repos/uni-si/R2S4/DNN/End_project/images/test_v3/card_2175.jpg: 320x320 1 rotated_photo, 16.4ms\n",
      "image 1309/2500 /repos/uni-si/R2S4/DNN/End_project/images/test_v3/card_2176.jpg: 320x320 1 rotated_photo, 16.8ms\n",
      "image 1310/2500 /repos/uni-si/R2S4/DNN/End_project/images/test_v3/card_2177.jpg: 320x320 1 rotated_photo, 18.2ms\n",
      "image 1311/2500 /repos/uni-si/R2S4/DNN/End_project/images/test_v3/card_2178.jpg: 320x320 1 rotated_photo, 16.5ms\n",
      "image 1312/2500 /repos/uni-si/R2S4/DNN/End_project/images/test_v3/card_2179.jpg: 320x320 1 rotated_photo, 14.0ms\n",
      "image 1313/2500 /repos/uni-si/R2S4/DNN/End_project/images/test_v3/card_218.jpg: 320x320 1 rotated_photo, 14.9ms\n",
      "image 1314/2500 /repos/uni-si/R2S4/DNN/End_project/images/test_v3/card_2180.jpg: 320x320 1 rotated_photo, 14.0ms\n",
      "image 1315/2500 /repos/uni-si/R2S4/DNN/End_project/images/test_v3/card_2181.jpg: 320x320 1 rotated_photo, 13.4ms\n",
      "image 1316/2500 /repos/uni-si/R2S4/DNN/End_project/images/test_v3/card_2182.jpg: 320x320 1 rotated_photo, 13.2ms\n",
      "image 1317/2500 /repos/uni-si/R2S4/DNN/End_project/images/test_v3/card_2183.jpg: 320x320 1 rotated_photo, 15.2ms\n",
      "image 1318/2500 /repos/uni-si/R2S4/DNN/End_project/images/test_v3/card_2184.jpg: 320x320 1 rotated_photo, 13.8ms\n",
      "image 1319/2500 /repos/uni-si/R2S4/DNN/End_project/images/test_v3/card_2185.jpg: 320x320 1 rotated_photo, 13.8ms\n",
      "image 1320/2500 /repos/uni-si/R2S4/DNN/End_project/images/test_v3/card_2186.jpg: 320x320 1 rotated_photo, 15.2ms\n",
      "image 1321/2500 /repos/uni-si/R2S4/DNN/End_project/images/test_v3/card_2187.jpg: 320x320 1 rotated_photo, 25.9ms\n",
      "image 1322/2500 /repos/uni-si/R2S4/DNN/End_project/images/test_v3/card_2188.jpg: 320x320 1 rotated_photo, 18.9ms\n",
      "image 1323/2500 /repos/uni-si/R2S4/DNN/End_project/images/test_v3/card_2189.jpg: 320x320 1 rotated_photo, 15.0ms\n",
      "image 1324/2500 /repos/uni-si/R2S4/DNN/End_project/images/test_v3/card_219.jpg: 320x320 1 rotated_photo, 18.3ms\n",
      "image 1325/2500 /repos/uni-si/R2S4/DNN/End_project/images/test_v3/card_2190.jpg: 320x320 1 rotated_photo, 30.3ms\n",
      "image 1326/2500 /repos/uni-si/R2S4/DNN/End_project/images/test_v3/card_2191.jpg: 320x320 1 rotated_photo, 18.3ms\n",
      "image 1327/2500 /repos/uni-si/R2S4/DNN/End_project/images/test_v3/card_2192.jpg: 320x320 1 rotated_photo, 17.7ms\n",
      "image 1328/2500 /repos/uni-si/R2S4/DNN/End_project/images/test_v3/card_2193.jpg: 320x320 1 rotated_photo, 16.7ms\n",
      "image 1329/2500 /repos/uni-si/R2S4/DNN/End_project/images/test_v3/card_2194.jpg: 320x320 1 rotated_photo, 22.3ms\n",
      "image 1330/2500 /repos/uni-si/R2S4/DNN/End_project/images/test_v3/card_2195.jpg: 320x320 1 rotated_photo, 16.2ms\n",
      "image 1331/2500 /repos/uni-si/R2S4/DNN/End_project/images/test_v3/card_2196.jpg: 320x320 1 rotated_photo, 13.5ms\n",
      "image 1332/2500 /repos/uni-si/R2S4/DNN/End_project/images/test_v3/card_2197.jpg: 320x320 1 rotated_photo, 15.5ms\n",
      "image 1333/2500 /repos/uni-si/R2S4/DNN/End_project/images/test_v3/card_2198.jpg: 320x320 1 rotated_photo, 15.1ms\n",
      "image 1334/2500 /repos/uni-si/R2S4/DNN/End_project/images/test_v3/card_2199.jpg: 320x320 1 rotated_photo, 19.3ms\n",
      "image 1335/2500 /repos/uni-si/R2S4/DNN/End_project/images/test_v3/card_22.jpg: 320x320 1 rotated_photo, 15.6ms\n",
      "image 1336/2500 /repos/uni-si/R2S4/DNN/End_project/images/test_v3/card_220.jpg: 320x320 1 rotated_photo, 17.0ms\n",
      "image 1337/2500 /repos/uni-si/R2S4/DNN/End_project/images/test_v3/card_2200.jpg: 320x320 1 rotated_photo, 20.7ms\n",
      "image 1338/2500 /repos/uni-si/R2S4/DNN/End_project/images/test_v3/card_2201.jpg: 320x320 1 rotated_photo, 13.5ms\n",
      "image 1339/2500 /repos/uni-si/R2S4/DNN/End_project/images/test_v3/card_2202.jpg: 320x320 1 rotated_photo, 14.1ms\n",
      "image 1340/2500 /repos/uni-si/R2S4/DNN/End_project/images/test_v3/card_2203.jpg: 320x320 1 rotated_photo, 14.2ms\n",
      "image 1341/2500 /repos/uni-si/R2S4/DNN/End_project/images/test_v3/card_2204.jpg: 320x320 1 rotated_photo, 16.4ms\n",
      "image 1342/2500 /repos/uni-si/R2S4/DNN/End_project/images/test_v3/card_2205.jpg: 320x320 1 rotated_photo, 32.4ms\n",
      "image 1343/2500 /repos/uni-si/R2S4/DNN/End_project/images/test_v3/card_2206.jpg: 320x320 1 rotated_photo, 15.5ms\n",
      "image 1344/2500 /repos/uni-si/R2S4/DNN/End_project/images/test_v3/card_2207.jpg: 320x320 1 rotated_photo, 15.3ms\n",
      "image 1345/2500 /repos/uni-si/R2S4/DNN/End_project/images/test_v3/card_2208.jpg: 320x320 1 rotated_photo, 16.3ms\n",
      "image 1346/2500 /repos/uni-si/R2S4/DNN/End_project/images/test_v3/card_2209.jpg: 320x320 1 rotated_photo, 18.0ms\n",
      "image 1347/2500 /repos/uni-si/R2S4/DNN/End_project/images/test_v3/card_221.jpg: 320x320 1 rotated_photo, 29.6ms\n",
      "image 1348/2500 /repos/uni-si/R2S4/DNN/End_project/images/test_v3/card_2210.jpg: 320x320 1 rotated_photo, 17.6ms\n",
      "image 1349/2500 /repos/uni-si/R2S4/DNN/End_project/images/test_v3/card_2211.jpg: 320x320 1 rotated_photo, 32.8ms\n",
      "image 1350/2500 /repos/uni-si/R2S4/DNN/End_project/images/test_v3/card_2212.jpg: 320x320 1 rotated_photo, 13.6ms\n",
      "image 1351/2500 /repos/uni-si/R2S4/DNN/End_project/images/test_v3/card_2213.jpg: 320x320 1 rotated_photo, 13.6ms\n",
      "image 1352/2500 /repos/uni-si/R2S4/DNN/End_project/images/test_v3/card_2214.jpg: 320x320 1 rotated_photo, 13.9ms\n",
      "image 1353/2500 /repos/uni-si/R2S4/DNN/End_project/images/test_v3/card_2215.jpg: 320x320 1 rotated_photo, 13.6ms\n",
      "image 1354/2500 /repos/uni-si/R2S4/DNN/End_project/images/test_v3/card_2216.jpg: 320x320 1 rotated_photo, 12.9ms\n",
      "image 1355/2500 /repos/uni-si/R2S4/DNN/End_project/images/test_v3/card_2217.jpg: 320x320 1 rotated_photo, 19.0ms\n",
      "image 1356/2500 /repos/uni-si/R2S4/DNN/End_project/images/test_v3/card_2218.jpg: 320x320 1 rotated_photo, 30.4ms\n",
      "image 1357/2500 /repos/uni-si/R2S4/DNN/End_project/images/test_v3/card_2219.jpg: 320x320 1 rotated_photo, 14.4ms\n",
      "image 1358/2500 /repos/uni-si/R2S4/DNN/End_project/images/test_v3/card_222.jpg: 320x320 1 rotated_photo, 13.5ms\n",
      "image 1359/2500 /repos/uni-si/R2S4/DNN/End_project/images/test_v3/card_2220.jpg: 320x320 1 rotated_photo, 13.5ms\n",
      "image 1360/2500 /repos/uni-si/R2S4/DNN/End_project/images/test_v3/card_2221.jpg: 320x320 1 rotated_photo, 14.1ms\n",
      "image 1361/2500 /repos/uni-si/R2S4/DNN/End_project/images/test_v3/card_2222.jpg: 320x320 1 rotated_photo, 17.7ms\n",
      "image 1362/2500 /repos/uni-si/R2S4/DNN/End_project/images/test_v3/card_2223.jpg: 320x320 1 rotated_photo, 15.6ms\n",
      "image 1363/2500 /repos/uni-si/R2S4/DNN/End_project/images/test_v3/card_2224.jpg: 320x320 1 rotated_photo, 14.3ms\n",
      "image 1364/2500 /repos/uni-si/R2S4/DNN/End_project/images/test_v3/card_2225.jpg: 320x320 1 rotated_photo, 14.2ms\n",
      "image 1365/2500 /repos/uni-si/R2S4/DNN/End_project/images/test_v3/card_2226.jpg: 320x320 1 rotated_photo, 15.0ms\n",
      "image 1366/2500 /repos/uni-si/R2S4/DNN/End_project/images/test_v3/card_2227.jpg: 320x320 1 rotated_photo, 14.2ms\n",
      "image 1367/2500 /repos/uni-si/R2S4/DNN/End_project/images/test_v3/card_2228.jpg: 320x320 1 rotated_photo, 15.0ms\n",
      "image 1368/2500 /repos/uni-si/R2S4/DNN/End_project/images/test_v3/card_2229.jpg: 320x320 1 rotated_photo, 16.0ms\n",
      "image 1369/2500 /repos/uni-si/R2S4/DNN/End_project/images/test_v3/card_223.jpg: 320x320 1 rotated_photo, 16.2ms\n",
      "image 1370/2500 /repos/uni-si/R2S4/DNN/End_project/images/test_v3/card_2230.jpg: 320x320 1 rotated_photo, 14.4ms\n",
      "image 1371/2500 /repos/uni-si/R2S4/DNN/End_project/images/test_v3/card_2231.jpg: 320x320 1 rotated_photo, 13.7ms\n",
      "image 1372/2500 /repos/uni-si/R2S4/DNN/End_project/images/test_v3/card_2232.jpg: 320x320 1 rotated_photo, 14.3ms\n",
      "image 1373/2500 /repos/uni-si/R2S4/DNN/End_project/images/test_v3/card_2233.jpg: 320x320 1 rotated_photo, 15.6ms\n",
      "image 1374/2500 /repos/uni-si/R2S4/DNN/End_project/images/test_v3/card_2234.jpg: 320x320 1 rotated_photo, 14.8ms\n",
      "image 1375/2500 /repos/uni-si/R2S4/DNN/End_project/images/test_v3/card_2235.jpg: 320x320 1 rotated_photo, 13.7ms\n",
      "image 1376/2500 /repos/uni-si/R2S4/DNN/End_project/images/test_v3/card_2236.jpg: 320x320 1 rotated_photo, 14.0ms\n",
      "image 1377/2500 /repos/uni-si/R2S4/DNN/End_project/images/test_v3/card_2237.jpg: 320x320 1 rotated_photo, 15.1ms\n",
      "image 1378/2500 /repos/uni-si/R2S4/DNN/End_project/images/test_v3/card_2238.jpg: 320x320 1 rotated_photo, 42.3ms\n",
      "image 1379/2500 /repos/uni-si/R2S4/DNN/End_project/images/test_v3/card_2239.jpg: 320x320 1 rotated_photo, 15.2ms\n",
      "image 1380/2500 /repos/uni-si/R2S4/DNN/End_project/images/test_v3/card_224.jpg: 320x320 1 rotated_photo, 13.5ms\n",
      "image 1381/2500 /repos/uni-si/R2S4/DNN/End_project/images/test_v3/card_2240.jpg: 320x320 1 rotated_photo, 13.9ms\n",
      "image 1382/2500 /repos/uni-si/R2S4/DNN/End_project/images/test_v3/card_2241.jpg: 320x320 1 rotated_photo, 14.1ms\n",
      "image 1383/2500 /repos/uni-si/R2S4/DNN/End_project/images/test_v3/card_2242.jpg: 320x320 1 rotated_photo, 13.4ms\n",
      "image 1384/2500 /repos/uni-si/R2S4/DNN/End_project/images/test_v3/card_2243.jpg: 320x320 1 rotated_photo, 13.8ms\n",
      "image 1385/2500 /repos/uni-si/R2S4/DNN/End_project/images/test_v3/card_2244.jpg: 320x320 1 rotated_photo, 14.2ms\n",
      "image 1386/2500 /repos/uni-si/R2S4/DNN/End_project/images/test_v3/card_2245.jpg: 320x320 1 rotated_photo, 24.4ms\n",
      "image 1387/2500 /repos/uni-si/R2S4/DNN/End_project/images/test_v3/card_2246.jpg: 320x320 1 rotated_photo, 45.7ms\n",
      "image 1388/2500 /repos/uni-si/R2S4/DNN/End_project/images/test_v3/card_2247.jpg: 320x320 1 rotated_photo, 18.1ms\n",
      "image 1389/2500 /repos/uni-si/R2S4/DNN/End_project/images/test_v3/card_2248.jpg: 320x320 1 rotated_photo, 16.2ms\n",
      "image 1390/2500 /repos/uni-si/R2S4/DNN/End_project/images/test_v3/card_2249.jpg: 320x320 1 rotated_photo, 18.1ms\n",
      "image 1391/2500 /repos/uni-si/R2S4/DNN/End_project/images/test_v3/card_225.jpg: 320x320 1 rotated_photo, 14.3ms\n",
      "image 1392/2500 /repos/uni-si/R2S4/DNN/End_project/images/test_v3/card_2250.jpg: 320x320 1 rotated_photo, 23.2ms\n",
      "image 1393/2500 /repos/uni-si/R2S4/DNN/End_project/images/test_v3/card_2251.jpg: 320x320 1 rotated_photo, 26.9ms\n",
      "image 1394/2500 /repos/uni-si/R2S4/DNN/End_project/images/test_v3/card_2252.jpg: 320x320 1 rotated_photo, 14.8ms\n",
      "image 1395/2500 /repos/uni-si/R2S4/DNN/End_project/images/test_v3/card_2253.jpg: 320x320 1 rotated_photo, 18.5ms\n",
      "image 1396/2500 /repos/uni-si/R2S4/DNN/End_project/images/test_v3/card_2254.jpg: 320x320 1 rotated_photo, 16.1ms\n",
      "image 1397/2500 /repos/uni-si/R2S4/DNN/End_project/images/test_v3/card_2255.jpg: 320x320 1 rotated_photo, 26.2ms\n",
      "image 1398/2500 /repos/uni-si/R2S4/DNN/End_project/images/test_v3/card_2256.jpg: 320x320 1 rotated_photo, 18.0ms\n",
      "image 1399/2500 /repos/uni-si/R2S4/DNN/End_project/images/test_v3/card_2257.jpg: 320x320 1 rotated_photo, 14.6ms\n",
      "image 1400/2500 /repos/uni-si/R2S4/DNN/End_project/images/test_v3/card_2258.jpg: 320x320 1 rotated_photo, 17.1ms\n",
      "image 1401/2500 /repos/uni-si/R2S4/DNN/End_project/images/test_v3/card_2259.jpg: 320x320 1 rotated_photo, 14.6ms\n",
      "image 1402/2500 /repos/uni-si/R2S4/DNN/End_project/images/test_v3/card_226.jpg: 320x320 1 rotated_photo, 14.2ms\n",
      "image 1403/2500 /repos/uni-si/R2S4/DNN/End_project/images/test_v3/card_2260.jpg: 320x320 1 rotated_photo, 16.8ms\n",
      "image 1404/2500 /repos/uni-si/R2S4/DNN/End_project/images/test_v3/card_2261.jpg: 320x320 1 rotated_photo, 21.1ms\n",
      "image 1405/2500 /repos/uni-si/R2S4/DNN/End_project/images/test_v3/card_2262.jpg: 320x320 1 rotated_photo, 17.2ms\n",
      "image 1406/2500 /repos/uni-si/R2S4/DNN/End_project/images/test_v3/card_2263.jpg: 320x320 1 rotated_photo, 15.8ms\n",
      "image 1407/2500 /repos/uni-si/R2S4/DNN/End_project/images/test_v3/card_2264.jpg: 320x320 1 rotated_photo, 18.5ms\n",
      "image 1408/2500 /repos/uni-si/R2S4/DNN/End_project/images/test_v3/card_2265.jpg: 320x320 1 rotated_photo, 13.8ms\n",
      "image 1409/2500 /repos/uni-si/R2S4/DNN/End_project/images/test_v3/card_2266.jpg: 320x320 1 rotated_photo, 14.8ms\n",
      "image 1410/2500 /repos/uni-si/R2S4/DNN/End_project/images/test_v3/card_2267.jpg: 320x320 1 rotated_photo, 14.1ms\n",
      "image 1411/2500 /repos/uni-si/R2S4/DNN/End_project/images/test_v3/card_2268.jpg: 320x320 1 rotated_photo, 14.5ms\n",
      "image 1412/2500 /repos/uni-si/R2S4/DNN/End_project/images/test_v3/card_2269.jpg: 320x320 1 rotated_photo, 13.9ms\n",
      "image 1413/2500 /repos/uni-si/R2S4/DNN/End_project/images/test_v3/card_227.jpg: 320x320 1 rotated_photo, 13.4ms\n",
      "image 1414/2500 /repos/uni-si/R2S4/DNN/End_project/images/test_v3/card_2270.jpg: 320x320 1 rotated_photo, 13.6ms\n",
      "image 1415/2500 /repos/uni-si/R2S4/DNN/End_project/images/test_v3/card_2271.jpg: 320x320 1 rotated_photo, 14.8ms\n",
      "image 1416/2500 /repos/uni-si/R2S4/DNN/End_project/images/test_v3/card_2272.jpg: 320x320 1 rotated_photo, 14.4ms\n",
      "image 1417/2500 /repos/uni-si/R2S4/DNN/End_project/images/test_v3/card_2273.jpg: 320x320 1 rotated_photo, 13.6ms\n",
      "image 1418/2500 /repos/uni-si/R2S4/DNN/End_project/images/test_v3/card_2274.jpg: 320x320 1 rotated_photo, 13.7ms\n",
      "image 1419/2500 /repos/uni-si/R2S4/DNN/End_project/images/test_v3/card_2275.jpg: 320x320 1 rotated_photo, 13.9ms\n",
      "image 1420/2500 /repos/uni-si/R2S4/DNN/End_project/images/test_v3/card_2276.jpg: 320x320 1 rotated_photo, 14.9ms\n",
      "image 1421/2500 /repos/uni-si/R2S4/DNN/End_project/images/test_v3/card_2277.jpg: 320x320 1 rotated_photo, 15.2ms\n",
      "image 1422/2500 /repos/uni-si/R2S4/DNN/End_project/images/test_v3/card_2278.jpg: 320x320 1 rotated_photo, 15.5ms\n",
      "image 1423/2500 /repos/uni-si/R2S4/DNN/End_project/images/test_v3/card_2279.jpg: 320x320 1 rotated_photo, 15.4ms\n",
      "image 1424/2500 /repos/uni-si/R2S4/DNN/End_project/images/test_v3/card_228.jpg: 320x320 1 rotated_photo, 16.7ms\n",
      "image 1425/2500 /repos/uni-si/R2S4/DNN/End_project/images/test_v3/card_2280.jpg: 320x320 1 rotated_photo, 16.1ms\n",
      "image 1426/2500 /repos/uni-si/R2S4/DNN/End_project/images/test_v3/card_2281.jpg: 320x320 1 rotated_photo, 14.9ms\n",
      "image 1427/2500 /repos/uni-si/R2S4/DNN/End_project/images/test_v3/card_2282.jpg: 320x320 1 rotated_photo, 18.3ms\n",
      "image 1428/2500 /repos/uni-si/R2S4/DNN/End_project/images/test_v3/card_2283.jpg: 320x320 1 rotated_photo, 28.5ms\n",
      "image 1429/2500 /repos/uni-si/R2S4/DNN/End_project/images/test_v3/card_2284.jpg: 320x320 1 rotated_photo, 14.7ms\n",
      "image 1430/2500 /repos/uni-si/R2S4/DNN/End_project/images/test_v3/card_2285.jpg: 320x320 1 rotated_photo, 26.4ms\n",
      "image 1431/2500 /repos/uni-si/R2S4/DNN/End_project/images/test_v3/card_2286.jpg: 320x320 1 rotated_photo, 30.0ms\n",
      "image 1432/2500 /repos/uni-si/R2S4/DNN/End_project/images/test_v3/card_2287.jpg: 320x320 1 rotated_photo, 17.4ms\n",
      "image 1433/2500 /repos/uni-si/R2S4/DNN/End_project/images/test_v3/card_2288.jpg: 320x320 1 rotated_photo, 19.3ms\n",
      "image 1434/2500 /repos/uni-si/R2S4/DNN/End_project/images/test_v3/card_2289.jpg: 320x320 1 rotated_photo, 24.2ms\n",
      "image 1435/2500 /repos/uni-si/R2S4/DNN/End_project/images/test_v3/card_229.jpg: 320x320 1 rotated_photo, 37.7ms\n",
      "image 1436/2500 /repos/uni-si/R2S4/DNN/End_project/images/test_v3/card_2290.jpg: 320x320 1 rotated_photo, 27.8ms\n",
      "image 1437/2500 /repos/uni-si/R2S4/DNN/End_project/images/test_v3/card_2291.jpg: 320x320 1 rotated_photo, 33.5ms\n",
      "image 1438/2500 /repos/uni-si/R2S4/DNN/End_project/images/test_v3/card_2292.jpg: 320x320 1 rotated_photo, 26.0ms\n",
      "image 1439/2500 /repos/uni-si/R2S4/DNN/End_project/images/test_v3/card_2293.jpg: 320x320 1 rotated_photo, 17.9ms\n",
      "image 1440/2500 /repos/uni-si/R2S4/DNN/End_project/images/test_v3/card_2294.jpg: 320x320 1 rotated_photo, 14.5ms\n",
      "image 1441/2500 /repos/uni-si/R2S4/DNN/End_project/images/test_v3/card_2295.jpg: 320x320 1 rotated_photo, 14.8ms\n",
      "image 1442/2500 /repos/uni-si/R2S4/DNN/End_project/images/test_v3/card_2296.jpg: 320x320 1 rotated_photo, 16.9ms\n",
      "image 1443/2500 /repos/uni-si/R2S4/DNN/End_project/images/test_v3/card_2297.jpg: 320x320 1 rotated_photo, 30.2ms\n",
      "image 1444/2500 /repos/uni-si/R2S4/DNN/End_project/images/test_v3/card_2298.jpg: 320x320 1 rotated_photo, 24.5ms\n",
      "image 1445/2500 /repos/uni-si/R2S4/DNN/End_project/images/test_v3/card_2299.jpg: 320x320 1 rotated_photo, 20.8ms\n",
      "image 1446/2500 /repos/uni-si/R2S4/DNN/End_project/images/test_v3/card_23.jpg: 320x320 1 rotated_photo, 18.3ms\n",
      "image 1447/2500 /repos/uni-si/R2S4/DNN/End_project/images/test_v3/card_230.jpg: 320x320 1 rotated_photo, 30.5ms\n",
      "image 1448/2500 /repos/uni-si/R2S4/DNN/End_project/images/test_v3/card_2300.jpg: 320x320 1 rotated_photo, 15.9ms\n",
      "image 1449/2500 /repos/uni-si/R2S4/DNN/End_project/images/test_v3/card_2301.jpg: 320x320 1 rotated_photo, 16.3ms\n",
      "image 1450/2500 /repos/uni-si/R2S4/DNN/End_project/images/test_v3/card_2302.jpg: 320x320 1 rotated_photo, 15.4ms\n",
      "image 1451/2500 /repos/uni-si/R2S4/DNN/End_project/images/test_v3/card_2303.jpg: 320x320 1 rotated_photo, 14.0ms\n",
      "image 1452/2500 /repos/uni-si/R2S4/DNN/End_project/images/test_v3/card_2304.jpg: 320x320 1 rotated_photo, 14.8ms\n",
      "image 1453/2500 /repos/uni-si/R2S4/DNN/End_project/images/test_v3/card_2305.jpg: 320x320 1 rotated_photo, 15.4ms\n",
      "image 1454/2500 /repos/uni-si/R2S4/DNN/End_project/images/test_v3/card_2306.jpg: 320x320 1 rotated_photo, 14.2ms\n",
      "image 1455/2500 /repos/uni-si/R2S4/DNN/End_project/images/test_v3/card_2307.jpg: 320x320 1 rotated_photo, 16.8ms\n",
      "image 1456/2500 /repos/uni-si/R2S4/DNN/End_project/images/test_v3/card_2308.jpg: 320x320 1 rotated_photo, 22.6ms\n",
      "image 1457/2500 /repos/uni-si/R2S4/DNN/End_project/images/test_v3/card_2309.jpg: 320x320 1 rotated_photo, 14.9ms\n",
      "image 1458/2500 /repos/uni-si/R2S4/DNN/End_project/images/test_v3/card_231.jpg: 320x320 1 rotated_photo, 17.1ms\n",
      "image 1459/2500 /repos/uni-si/R2S4/DNN/End_project/images/test_v3/card_2310.jpg: 320x320 1 rotated_photo, 18.7ms\n",
      "image 1460/2500 /repos/uni-si/R2S4/DNN/End_project/images/test_v3/card_2311.jpg: 320x320 1 rotated_photo, 18.6ms\n",
      "image 1461/2500 /repos/uni-si/R2S4/DNN/End_project/images/test_v3/card_2312.jpg: 320x320 1 rotated_photo, 15.5ms\n",
      "image 1462/2500 /repos/uni-si/R2S4/DNN/End_project/images/test_v3/card_2313.jpg: 320x320 1 rotated_photo, 15.1ms\n",
      "image 1463/2500 /repos/uni-si/R2S4/DNN/End_project/images/test_v3/card_2314.jpg: 320x320 1 rotated_photo, 18.0ms\n",
      "image 1464/2500 /repos/uni-si/R2S4/DNN/End_project/images/test_v3/card_2315.jpg: 320x320 1 rotated_photo, 19.5ms\n",
      "image 1465/2500 /repos/uni-si/R2S4/DNN/End_project/images/test_v3/card_2316.jpg: 320x320 1 rotated_photo, 14.6ms\n",
      "image 1466/2500 /repos/uni-si/R2S4/DNN/End_project/images/test_v3/card_2317.jpg: 320x320 1 rotated_photo, 14.2ms\n",
      "image 1467/2500 /repos/uni-si/R2S4/DNN/End_project/images/test_v3/card_2318.jpg: 320x320 1 rotated_photo, 14.8ms\n",
      "image 1468/2500 /repos/uni-si/R2S4/DNN/End_project/images/test_v3/card_2319.jpg: 320x320 1 rotated_photo, 14.1ms\n",
      "image 1469/2500 /repos/uni-si/R2S4/DNN/End_project/images/test_v3/card_232.jpg: 320x320 1 rotated_photo, 23.2ms\n",
      "image 1470/2500 /repos/uni-si/R2S4/DNN/End_project/images/test_v3/card_2320.jpg: 320x320 1 rotated_photo, 16.5ms\n",
      "image 1471/2500 /repos/uni-si/R2S4/DNN/End_project/images/test_v3/card_2321.jpg: 320x320 1 rotated_photo, 14.6ms\n",
      "image 1472/2500 /repos/uni-si/R2S4/DNN/End_project/images/test_v3/card_2322.jpg: 320x320 1 rotated_photo, 14.5ms\n",
      "image 1473/2500 /repos/uni-si/R2S4/DNN/End_project/images/test_v3/card_2323.jpg: 320x320 1 rotated_photo, 47.3ms\n",
      "image 1474/2500 /repos/uni-si/R2S4/DNN/End_project/images/test_v3/card_2324.jpg: 320x320 1 rotated_photo, 42.9ms\n",
      "image 1475/2500 /repos/uni-si/R2S4/DNN/End_project/images/test_v3/card_2325.jpg: 320x320 1 rotated_photo, 17.3ms\n",
      "image 1476/2500 /repos/uni-si/R2S4/DNN/End_project/images/test_v3/card_2326.jpg: 320x320 1 rotated_photo, 17.1ms\n",
      "image 1477/2500 /repos/uni-si/R2S4/DNN/End_project/images/test_v3/card_2327.jpg: 320x320 1 rotated_photo, 14.1ms\n",
      "image 1478/2500 /repos/uni-si/R2S4/DNN/End_project/images/test_v3/card_2328.jpg: 320x320 1 rotated_photo, 20.5ms\n",
      "image 1479/2500 /repos/uni-si/R2S4/DNN/End_project/images/test_v3/card_2329.jpg: 320x320 1 rotated_photo, 16.6ms\n",
      "image 1480/2500 /repos/uni-si/R2S4/DNN/End_project/images/test_v3/card_233.jpg: 320x320 1 rotated_photo, 14.2ms\n",
      "image 1481/2500 /repos/uni-si/R2S4/DNN/End_project/images/test_v3/card_2330.jpg: 320x320 1 rotated_photo, 18.8ms\n",
      "image 1482/2500 /repos/uni-si/R2S4/DNN/End_project/images/test_v3/card_2331.jpg: 320x320 1 rotated_photo, 17.6ms\n",
      "image 1483/2500 /repos/uni-si/R2S4/DNN/End_project/images/test_v3/card_2332.jpg: 320x320 1 rotated_photo, 23.5ms\n",
      "image 1484/2500 /repos/uni-si/R2S4/DNN/End_project/images/test_v3/card_2333.jpg: 320x320 1 rotated_photo, 16.5ms\n",
      "image 1485/2500 /repos/uni-si/R2S4/DNN/End_project/images/test_v3/card_2334.jpg: 320x320 1 rotated_photo, 15.6ms\n",
      "image 1486/2500 /repos/uni-si/R2S4/DNN/End_project/images/test_v3/card_2335.jpg: 320x320 1 rotated_photo, 19.1ms\n",
      "image 1487/2500 /repos/uni-si/R2S4/DNN/End_project/images/test_v3/card_2336.jpg: 320x320 1 rotated_photo, 13.8ms\n",
      "image 1488/2500 /repos/uni-si/R2S4/DNN/End_project/images/test_v3/card_2337.jpg: 320x320 1 rotated_photo, 14.2ms\n",
      "image 1489/2500 /repos/uni-si/R2S4/DNN/End_project/images/test_v3/card_2338.jpg: 320x320 1 rotated_photo, 19.6ms\n",
      "image 1490/2500 /repos/uni-si/R2S4/DNN/End_project/images/test_v3/card_2339.jpg: 320x320 1 rotated_photo, 20.2ms\n",
      "image 1491/2500 /repos/uni-si/R2S4/DNN/End_project/images/test_v3/card_234.jpg: 320x320 1 rotated_photo, 15.1ms\n",
      "image 1492/2500 /repos/uni-si/R2S4/DNN/End_project/images/test_v3/card_2340.jpg: 320x320 1 rotated_photo, 15.5ms\n",
      "image 1493/2500 /repos/uni-si/R2S4/DNN/End_project/images/test_v3/card_2341.jpg: 320x320 1 rotated_photo, 16.9ms\n",
      "image 1494/2500 /repos/uni-si/R2S4/DNN/End_project/images/test_v3/card_2342.jpg: 320x320 1 rotated_photo, 16.9ms\n",
      "image 1495/2500 /repos/uni-si/R2S4/DNN/End_project/images/test_v3/card_2343.jpg: 320x320 1 rotated_photo, 17.0ms\n",
      "image 1496/2500 /repos/uni-si/R2S4/DNN/End_project/images/test_v3/card_2344.jpg: 320x320 1 rotated_photo, 35.3ms\n",
      "image 1497/2500 /repos/uni-si/R2S4/DNN/End_project/images/test_v3/card_2345.jpg: 320x320 1 rotated_photo, 24.9ms\n",
      "image 1498/2500 /repos/uni-si/R2S4/DNN/End_project/images/test_v3/card_2346.jpg: 320x320 1 rotated_photo, 14.6ms\n",
      "image 1499/2500 /repos/uni-si/R2S4/DNN/End_project/images/test_v3/card_2347.jpg: 320x320 1 rotated_photo, 14.6ms\n",
      "image 1500/2500 /repos/uni-si/R2S4/DNN/End_project/images/test_v3/card_2348.jpg: 320x320 1 rotated_photo, 28.5ms\n",
      "image 1501/2500 /repos/uni-si/R2S4/DNN/End_project/images/test_v3/card_2349.jpg: 320x320 1 rotated_photo, 18.1ms\n",
      "image 1502/2500 /repos/uni-si/R2S4/DNN/End_project/images/test_v3/card_235.jpg: 320x320 1 rotated_photo, 17.2ms\n",
      "image 1503/2500 /repos/uni-si/R2S4/DNN/End_project/images/test_v3/card_2350.jpg: 320x320 1 rotated_photo, 15.7ms\n",
      "image 1504/2500 /repos/uni-si/R2S4/DNN/End_project/images/test_v3/card_2351.jpg: 320x320 1 rotated_photo, 16.1ms\n",
      "image 1505/2500 /repos/uni-si/R2S4/DNN/End_project/images/test_v3/card_2352.jpg: 320x320 1 rotated_photo, 17.9ms\n",
      "image 1506/2500 /repos/uni-si/R2S4/DNN/End_project/images/test_v3/card_2353.jpg: 320x320 1 rotated_photo, 15.5ms\n",
      "image 1507/2500 /repos/uni-si/R2S4/DNN/End_project/images/test_v3/card_2354.jpg: 320x320 1 rotated_photo, 15.3ms\n",
      "image 1508/2500 /repos/uni-si/R2S4/DNN/End_project/images/test_v3/card_2355.jpg: 320x320 1 rotated_photo, 17.7ms\n",
      "image 1509/2500 /repos/uni-si/R2S4/DNN/End_project/images/test_v3/card_2356.jpg: 320x320 1 rotated_photo, 15.9ms\n",
      "image 1510/2500 /repos/uni-si/R2S4/DNN/End_project/images/test_v3/card_2357.jpg: 320x320 1 rotated_photo, 20.9ms\n",
      "image 1511/2500 /repos/uni-si/R2S4/DNN/End_project/images/test_v3/card_2358.jpg: 320x320 1 rotated_photo, 17.2ms\n",
      "image 1512/2500 /repos/uni-si/R2S4/DNN/End_project/images/test_v3/card_2359.jpg: 320x320 1 rotated_photo, 16.9ms\n",
      "image 1513/2500 /repos/uni-si/R2S4/DNN/End_project/images/test_v3/card_236.jpg: 320x320 1 rotated_photo, 24.0ms\n",
      "image 1514/2500 /repos/uni-si/R2S4/DNN/End_project/images/test_v3/card_2360.jpg: 320x320 1 rotated_photo, 16.4ms\n",
      "image 1515/2500 /repos/uni-si/R2S4/DNN/End_project/images/test_v3/card_2361.jpg: 320x320 1 rotated_photo, 16.7ms\n",
      "image 1516/2500 /repos/uni-si/R2S4/DNN/End_project/images/test_v3/card_2362.jpg: 320x320 1 rotated_photo, 16.9ms\n",
      "image 1517/2500 /repos/uni-si/R2S4/DNN/End_project/images/test_v3/card_2363.jpg: 320x320 1 rotated_photo, 14.3ms\n",
      "image 1518/2500 /repos/uni-si/R2S4/DNN/End_project/images/test_v3/card_2364.jpg: 320x320 1 rotated_photo, 20.5ms\n",
      "image 1519/2500 /repos/uni-si/R2S4/DNN/End_project/images/test_v3/card_2365.jpg: 320x320 1 rotated_photo, 17.1ms\n",
      "image 1520/2500 /repos/uni-si/R2S4/DNN/End_project/images/test_v3/card_2366.jpg: 320x320 1 rotated_photo, 18.1ms\n",
      "image 1521/2500 /repos/uni-si/R2S4/DNN/End_project/images/test_v3/card_2367.jpg: 320x320 1 rotated_photo, 40.4ms\n",
      "image 1522/2500 /repos/uni-si/R2S4/DNN/End_project/images/test_v3/card_2368.jpg: 320x320 1 rotated_photo, 16.4ms\n",
      "image 1523/2500 /repos/uni-si/R2S4/DNN/End_project/images/test_v3/card_2369.jpg: 320x320 1 rotated_photo, 25.0ms\n",
      "image 1524/2500 /repos/uni-si/R2S4/DNN/End_project/images/test_v3/card_237.jpg: 320x320 1 rotated_photo, 26.1ms\n",
      "image 1525/2500 /repos/uni-si/R2S4/DNN/End_project/images/test_v3/card_2370.jpg: 320x320 1 rotated_photo, 21.9ms\n",
      "image 1526/2500 /repos/uni-si/R2S4/DNN/End_project/images/test_v3/card_2371.jpg: 320x320 1 rotated_photo, 17.9ms\n",
      "image 1527/2500 /repos/uni-si/R2S4/DNN/End_project/images/test_v3/card_2372.jpg: 320x320 1 rotated_photo, 17.9ms\n",
      "image 1528/2500 /repos/uni-si/R2S4/DNN/End_project/images/test_v3/card_2373.jpg: 320x320 1 rotated_photo, 15.0ms\n",
      "image 1529/2500 /repos/uni-si/R2S4/DNN/End_project/images/test_v3/card_2374.jpg: 320x320 1 rotated_photo, 16.7ms\n",
      "image 1530/2500 /repos/uni-si/R2S4/DNN/End_project/images/test_v3/card_2375.jpg: 320x320 1 rotated_photo, 15.9ms\n",
      "image 1531/2500 /repos/uni-si/R2S4/DNN/End_project/images/test_v3/card_2376.jpg: 320x320 1 rotated_photo, 15.6ms\n",
      "image 1532/2500 /repos/uni-si/R2S4/DNN/End_project/images/test_v3/card_2377.jpg: 320x320 1 rotated_photo, 26.8ms\n",
      "image 1533/2500 /repos/uni-si/R2S4/DNN/End_project/images/test_v3/card_2378.jpg: 320x320 1 rotated_photo, 24.1ms\n",
      "image 1534/2500 /repos/uni-si/R2S4/DNN/End_project/images/test_v3/card_2379.jpg: 320x320 1 rotated_photo, 21.9ms\n",
      "image 1535/2500 /repos/uni-si/R2S4/DNN/End_project/images/test_v3/card_238.jpg: 320x320 1 rotated_photo, 15.6ms\n",
      "image 1536/2500 /repos/uni-si/R2S4/DNN/End_project/images/test_v3/card_2380.jpg: 320x320 1 rotated_photo, 15.3ms\n",
      "image 1537/2500 /repos/uni-si/R2S4/DNN/End_project/images/test_v3/card_2381.jpg: 320x320 1 rotated_photo, 16.3ms\n",
      "image 1538/2500 /repos/uni-si/R2S4/DNN/End_project/images/test_v3/card_2382.jpg: 320x320 1 rotated_photo, 17.5ms\n",
      "image 1539/2500 /repos/uni-si/R2S4/DNN/End_project/images/test_v3/card_2383.jpg: 320x320 1 rotated_photo, 15.7ms\n",
      "image 1540/2500 /repos/uni-si/R2S4/DNN/End_project/images/test_v3/card_2384.jpg: 320x320 1 rotated_photo, 15.9ms\n",
      "image 1541/2500 /repos/uni-si/R2S4/DNN/End_project/images/test_v3/card_2385.jpg: 320x320 1 rotated_photo, 14.3ms\n",
      "image 1542/2500 /repos/uni-si/R2S4/DNN/End_project/images/test_v3/card_2386.jpg: 320x320 1 rotated_photo, 16.3ms\n",
      "image 1543/2500 /repos/uni-si/R2S4/DNN/End_project/images/test_v3/card_2387.jpg: 320x320 1 rotated_photo, 14.2ms\n",
      "image 1544/2500 /repos/uni-si/R2S4/DNN/End_project/images/test_v3/card_2388.jpg: 320x320 1 rotated_photo, 18.4ms\n",
      "image 1545/2500 /repos/uni-si/R2S4/DNN/End_project/images/test_v3/card_2389.jpg: 320x320 1 rotated_photo, 22.3ms\n",
      "image 1546/2500 /repos/uni-si/R2S4/DNN/End_project/images/test_v3/card_239.jpg: 320x320 1 rotated_photo, 29.1ms\n",
      "image 1547/2500 /repos/uni-si/R2S4/DNN/End_project/images/test_v3/card_2390.jpg: 320x320 1 rotated_photo, 16.6ms\n",
      "image 1548/2500 /repos/uni-si/R2S4/DNN/End_project/images/test_v3/card_2391.jpg: 320x320 1 rotated_photo, 14.0ms\n",
      "image 1549/2500 /repos/uni-si/R2S4/DNN/End_project/images/test_v3/card_2392.jpg: 320x320 1 rotated_photo, 13.7ms\n",
      "image 1550/2500 /repos/uni-si/R2S4/DNN/End_project/images/test_v3/card_2393.jpg: 320x320 1 rotated_photo, 13.7ms\n",
      "image 1551/2500 /repos/uni-si/R2S4/DNN/End_project/images/test_v3/card_2394.jpg: 320x320 1 rotated_photo, 14.4ms\n",
      "image 1552/2500 /repos/uni-si/R2S4/DNN/End_project/images/test_v3/card_2395.jpg: 320x320 1 rotated_photo, 14.2ms\n",
      "image 1553/2500 /repos/uni-si/R2S4/DNN/End_project/images/test_v3/card_2396.jpg: 320x320 1 rotated_photo, 14.0ms\n",
      "image 1554/2500 /repos/uni-si/R2S4/DNN/End_project/images/test_v3/card_2397.jpg: 320x320 1 rotated_photo, 14.1ms\n",
      "image 1555/2500 /repos/uni-si/R2S4/DNN/End_project/images/test_v3/card_2398.jpg: 320x320 1 rotated_photo, 14.0ms\n",
      "image 1556/2500 /repos/uni-si/R2S4/DNN/End_project/images/test_v3/card_2399.jpg: 320x320 1 rotated_photo, 14.2ms\n",
      "image 1557/2500 /repos/uni-si/R2S4/DNN/End_project/images/test_v3/card_24.jpg: 320x320 1 rotated_photo, 14.9ms\n",
      "image 1558/2500 /repos/uni-si/R2S4/DNN/End_project/images/test_v3/card_240.jpg: 320x320 1 rotated_photo, 14.1ms\n",
      "image 1559/2500 /repos/uni-si/R2S4/DNN/End_project/images/test_v3/card_2400.jpg: 320x320 1 rotated_photo, 15.6ms\n",
      "image 1560/2500 /repos/uni-si/R2S4/DNN/End_project/images/test_v3/card_2401.jpg: 320x320 1 rotated_photo, 13.9ms\n",
      "image 1561/2500 /repos/uni-si/R2S4/DNN/End_project/images/test_v3/card_2402.jpg: 320x320 1 rotated_photo, 25.1ms\n",
      "image 1562/2500 /repos/uni-si/R2S4/DNN/End_project/images/test_v3/card_2403.jpg: 320x320 1 rotated_photo, 18.8ms\n",
      "image 1563/2500 /repos/uni-si/R2S4/DNN/End_project/images/test_v3/card_2404.jpg: 320x320 1 rotated_photo, 13.7ms\n",
      "image 1564/2500 /repos/uni-si/R2S4/DNN/End_project/images/test_v3/card_2405.jpg: 320x320 1 rotated_photo, 13.7ms\n",
      "image 1565/2500 /repos/uni-si/R2S4/DNN/End_project/images/test_v3/card_2406.jpg: 320x320 1 rotated_photo, 15.3ms\n",
      "image 1566/2500 /repos/uni-si/R2S4/DNN/End_project/images/test_v3/card_2407.jpg: 320x320 1 rotated_photo, 16.1ms\n",
      "image 1567/2500 /repos/uni-si/R2S4/DNN/End_project/images/test_v3/card_2408.jpg: 320x320 1 rotated_photo, 15.1ms\n",
      "image 1568/2500 /repos/uni-si/R2S4/DNN/End_project/images/test_v3/card_2409.jpg: 320x320 1 rotated_photo, 18.7ms\n",
      "image 1569/2500 /repos/uni-si/R2S4/DNN/End_project/images/test_v3/card_241.jpg: 320x320 1 rotated_photo, 16.7ms\n",
      "image 1570/2500 /repos/uni-si/R2S4/DNN/End_project/images/test_v3/card_2410.jpg: 320x320 1 rotated_photo, 14.8ms\n",
      "image 1571/2500 /repos/uni-si/R2S4/DNN/End_project/images/test_v3/card_2411.jpg: 320x320 1 rotated_photo, 15.0ms\n",
      "image 1572/2500 /repos/uni-si/R2S4/DNN/End_project/images/test_v3/card_2412.jpg: 320x320 1 rotated_photo, 19.0ms\n",
      "image 1573/2500 /repos/uni-si/R2S4/DNN/End_project/images/test_v3/card_2413.jpg: 320x320 1 rotated_photo, 22.6ms\n",
      "image 1574/2500 /repos/uni-si/R2S4/DNN/End_project/images/test_v3/card_2414.jpg: 320x320 1 rotated_photo, 23.0ms\n",
      "image 1575/2500 /repos/uni-si/R2S4/DNN/End_project/images/test_v3/card_2415.jpg: 320x320 1 rotated_photo, 20.7ms\n",
      "image 1576/2500 /repos/uni-si/R2S4/DNN/End_project/images/test_v3/card_2416.jpg: 320x320 1 rotated_photo, 32.1ms\n",
      "image 1577/2500 /repos/uni-si/R2S4/DNN/End_project/images/test_v3/card_2417.jpg: 320x320 1 rotated_photo, 17.0ms\n",
      "image 1578/2500 /repos/uni-si/R2S4/DNN/End_project/images/test_v3/card_2418.jpg: 320x320 1 rotated_photo, 15.0ms\n",
      "image 1579/2500 /repos/uni-si/R2S4/DNN/End_project/images/test_v3/card_2419.jpg: 320x320 1 rotated_photo, 15.6ms\n",
      "image 1580/2500 /repos/uni-si/R2S4/DNN/End_project/images/test_v3/card_242.jpg: 320x320 1 rotated_photo, 25.3ms\n",
      "image 1581/2500 /repos/uni-si/R2S4/DNN/End_project/images/test_v3/card_2420.jpg: 320x320 1 rotated_photo, 13.3ms\n",
      "image 1582/2500 /repos/uni-si/R2S4/DNN/End_project/images/test_v3/card_2421.jpg: 320x320 1 rotated_photo, 13.8ms\n",
      "image 1583/2500 /repos/uni-si/R2S4/DNN/End_project/images/test_v3/card_2422.jpg: 320x320 1 rotated_photo, 13.9ms\n",
      "image 1584/2500 /repos/uni-si/R2S4/DNN/End_project/images/test_v3/card_2423.jpg: 320x320 1 rotated_photo, 13.5ms\n",
      "image 1585/2500 /repos/uni-si/R2S4/DNN/End_project/images/test_v3/card_2424.jpg: 320x320 1 rotated_photo, 28.3ms\n",
      "image 1586/2500 /repos/uni-si/R2S4/DNN/End_project/images/test_v3/card_2425.jpg: 320x320 1 rotated_photo, 17.6ms\n",
      "image 1587/2500 /repos/uni-si/R2S4/DNN/End_project/images/test_v3/card_2426.jpg: 320x320 1 rotated_photo, 14.5ms\n",
      "image 1588/2500 /repos/uni-si/R2S4/DNN/End_project/images/test_v3/card_2427.jpg: 320x320 1 rotated_photo, 13.7ms\n",
      "image 1589/2500 /repos/uni-si/R2S4/DNN/End_project/images/test_v3/card_2428.jpg: 320x320 1 rotated_photo, 13.2ms\n",
      "image 1590/2500 /repos/uni-si/R2S4/DNN/End_project/images/test_v3/card_2429.jpg: 320x320 1 rotated_photo, 14.8ms\n",
      "image 1591/2500 /repos/uni-si/R2S4/DNN/End_project/images/test_v3/card_243.jpg: 320x320 1 rotated_photo, 14.4ms\n",
      "image 1592/2500 /repos/uni-si/R2S4/DNN/End_project/images/test_v3/card_2430.jpg: 320x320 1 rotated_photo, 14.4ms\n",
      "image 1593/2500 /repos/uni-si/R2S4/DNN/End_project/images/test_v3/card_2431.jpg: 320x320 1 rotated_photo, 16.1ms\n",
      "image 1594/2500 /repos/uni-si/R2S4/DNN/End_project/images/test_v3/card_2432.jpg: 320x320 1 rotated_photo, 14.2ms\n",
      "image 1595/2500 /repos/uni-si/R2S4/DNN/End_project/images/test_v3/card_2433.jpg: 320x320 1 rotated_photo, 26.1ms\n",
      "image 1596/2500 /repos/uni-si/R2S4/DNN/End_project/images/test_v3/card_2434.jpg: 320x320 1 rotated_photo, 17.4ms\n",
      "image 1597/2500 /repos/uni-si/R2S4/DNN/End_project/images/test_v3/card_2435.jpg: 320x320 1 rotated_photo, 16.2ms\n",
      "image 1598/2500 /repos/uni-si/R2S4/DNN/End_project/images/test_v3/card_2436.jpg: 320x320 1 rotated_photo, 14.9ms\n",
      "image 1599/2500 /repos/uni-si/R2S4/DNN/End_project/images/test_v3/card_2437.jpg: 320x320 1 rotated_photo, 20.3ms\n",
      "image 1600/2500 /repos/uni-si/R2S4/DNN/End_project/images/test_v3/card_2438.jpg: 320x320 1 rotated_photo, 29.5ms\n",
      "image 1601/2500 /repos/uni-si/R2S4/DNN/End_project/images/test_v3/card_2439.jpg: 320x320 1 rotated_photo, 13.9ms\n",
      "image 1602/2500 /repos/uni-si/R2S4/DNN/End_project/images/test_v3/card_244.jpg: 320x320 1 rotated_photo, 19.8ms\n",
      "image 1603/2500 /repos/uni-si/R2S4/DNN/End_project/images/test_v3/card_2440.jpg: 320x320 1 rotated_photo, 16.1ms\n",
      "image 1604/2500 /repos/uni-si/R2S4/DNN/End_project/images/test_v3/card_2441.jpg: 320x320 1 rotated_photo, 40.7ms\n",
      "image 1605/2500 /repos/uni-si/R2S4/DNN/End_project/images/test_v3/card_2442.jpg: 320x320 1 rotated_photo, 16.1ms\n",
      "image 1606/2500 /repos/uni-si/R2S4/DNN/End_project/images/test_v3/card_2443.jpg: 320x320 1 rotated_photo, 15.8ms\n",
      "image 1607/2500 /repos/uni-si/R2S4/DNN/End_project/images/test_v3/card_2444.jpg: 320x320 1 rotated_photo, 16.4ms\n",
      "image 1608/2500 /repos/uni-si/R2S4/DNN/End_project/images/test_v3/card_2445.jpg: 320x320 1 rotated_photo, 20.8ms\n",
      "image 1609/2500 /repos/uni-si/R2S4/DNN/End_project/images/test_v3/card_2446.jpg: 320x320 1 rotated_photo, 29.1ms\n",
      "image 1610/2500 /repos/uni-si/R2S4/DNN/End_project/images/test_v3/card_2447.jpg: 320x320 1 rotated_photo, 15.3ms\n",
      "image 1611/2500 /repos/uni-si/R2S4/DNN/End_project/images/test_v3/card_2448.jpg: 320x320 1 rotated_photo, 17.5ms\n",
      "image 1612/2500 /repos/uni-si/R2S4/DNN/End_project/images/test_v3/card_2449.jpg: 320x320 1 rotated_photo, 16.3ms\n",
      "image 1613/2500 /repos/uni-si/R2S4/DNN/End_project/images/test_v3/card_245.jpg: 320x320 1 rotated_photo, 18.2ms\n",
      "image 1614/2500 /repos/uni-si/R2S4/DNN/End_project/images/test_v3/card_2450.jpg: 320x320 1 rotated_photo, 19.0ms\n",
      "image 1615/2500 /repos/uni-si/R2S4/DNN/End_project/images/test_v3/card_2451.jpg: 320x320 1 rotated_photo, 34.0ms\n",
      "image 1616/2500 /repos/uni-si/R2S4/DNN/End_project/images/test_v3/card_2452.jpg: 320x320 1 rotated_photo, 16.0ms\n",
      "image 1617/2500 /repos/uni-si/R2S4/DNN/End_project/images/test_v3/card_2453.jpg: 320x320 1 rotated_photo, 19.4ms\n",
      "image 1618/2500 /repos/uni-si/R2S4/DNN/End_project/images/test_v3/card_2454.jpg: 320x320 1 rotated_photo, 17.6ms\n",
      "image 1619/2500 /repos/uni-si/R2S4/DNN/End_project/images/test_v3/card_2455.jpg: 320x320 1 rotated_photo, 15.6ms\n",
      "image 1620/2500 /repos/uni-si/R2S4/DNN/End_project/images/test_v3/card_2456.jpg: 320x320 1 rotated_photo, 16.0ms\n",
      "image 1621/2500 /repos/uni-si/R2S4/DNN/End_project/images/test_v3/card_2457.jpg: 320x320 1 rotated_photo, 20.8ms\n",
      "image 1622/2500 /repos/uni-si/R2S4/DNN/End_project/images/test_v3/card_2458.jpg: 320x320 1 rotated_photo, 25.5ms\n",
      "image 1623/2500 /repos/uni-si/R2S4/DNN/End_project/images/test_v3/card_2459.jpg: 320x320 1 rotated_photo, 13.9ms\n",
      "image 1624/2500 /repos/uni-si/R2S4/DNN/End_project/images/test_v3/card_246.jpg: 320x320 1 rotated_photo, 16.1ms\n",
      "image 1625/2500 /repos/uni-si/R2S4/DNN/End_project/images/test_v3/card_2460.jpg: 320x320 1 rotated_photo, 16.0ms\n",
      "image 1626/2500 /repos/uni-si/R2S4/DNN/End_project/images/test_v3/card_2461.jpg: 320x320 1 rotated_photo, 15.5ms\n",
      "image 1627/2500 /repos/uni-si/R2S4/DNN/End_project/images/test_v3/card_2462.jpg: 320x320 1 rotated_photo, 17.2ms\n",
      "image 1628/2500 /repos/uni-si/R2S4/DNN/End_project/images/test_v3/card_2463.jpg: 320x320 1 rotated_photo, 19.0ms\n",
      "image 1629/2500 /repos/uni-si/R2S4/DNN/End_project/images/test_v3/card_2464.jpg: 320x320 1 rotated_photo, 15.5ms\n",
      "image 1630/2500 /repos/uni-si/R2S4/DNN/End_project/images/test_v3/card_2465.jpg: 320x320 1 rotated_photo, 17.7ms\n",
      "image 1631/2500 /repos/uni-si/R2S4/DNN/End_project/images/test_v3/card_2466.jpg: 320x320 1 rotated_photo, 28.6ms\n",
      "image 1632/2500 /repos/uni-si/R2S4/DNN/End_project/images/test_v3/card_2467.jpg: 320x320 1 rotated_photo, 15.4ms\n",
      "image 1633/2500 /repos/uni-si/R2S4/DNN/End_project/images/test_v3/card_2468.jpg: 320x320 1 rotated_photo, 17.5ms\n",
      "image 1634/2500 /repos/uni-si/R2S4/DNN/End_project/images/test_v3/card_2469.jpg: 320x320 1 rotated_photo, 15.5ms\n",
      "image 1635/2500 /repos/uni-si/R2S4/DNN/End_project/images/test_v3/card_247.jpg: 320x320 1 rotated_photo, 15.1ms\n",
      "image 1636/2500 /repos/uni-si/R2S4/DNN/End_project/images/test_v3/card_2470.jpg: 320x320 1 rotated_photo, 16.1ms\n",
      "image 1637/2500 /repos/uni-si/R2S4/DNN/End_project/images/test_v3/card_2471.jpg: 320x320 1 rotated_photo, 16.0ms\n",
      "image 1638/2500 /repos/uni-si/R2S4/DNN/End_project/images/test_v3/card_2472.jpg: 320x320 1 rotated_photo, 16.7ms\n",
      "image 1639/2500 /repos/uni-si/R2S4/DNN/End_project/images/test_v3/card_2473.jpg: 320x320 1 rotated_photo, 15.3ms\n",
      "image 1640/2500 /repos/uni-si/R2S4/DNN/End_project/images/test_v3/card_2474.jpg: 320x320 1 rotated_photo, 16.1ms\n",
      "image 1641/2500 /repos/uni-si/R2S4/DNN/End_project/images/test_v3/card_2475.jpg: 320x320 1 rotated_photo, 17.6ms\n",
      "image 1642/2500 /repos/uni-si/R2S4/DNN/End_project/images/test_v3/card_2476.jpg: 320x320 1 rotated_photo, 14.2ms\n",
      "image 1643/2500 /repos/uni-si/R2S4/DNN/End_project/images/test_v3/card_2477.jpg: 320x320 1 rotated_photo, 20.7ms\n",
      "image 1644/2500 /repos/uni-si/R2S4/DNN/End_project/images/test_v3/card_2478.jpg: 320x320 1 rotated_photo, 15.5ms\n",
      "image 1645/2500 /repos/uni-si/R2S4/DNN/End_project/images/test_v3/card_2479.jpg: 320x320 1 rotated_photo, 14.6ms\n",
      "image 1646/2500 /repos/uni-si/R2S4/DNN/End_project/images/test_v3/card_248.jpg: 320x320 1 rotated_photo, 14.2ms\n",
      "image 1647/2500 /repos/uni-si/R2S4/DNN/End_project/images/test_v3/card_2480.jpg: 320x320 1 rotated_photo, 15.5ms\n",
      "image 1648/2500 /repos/uni-si/R2S4/DNN/End_project/images/test_v3/card_2481.jpg: 320x320 1 rotated_photo, 16.3ms\n",
      "image 1649/2500 /repos/uni-si/R2S4/DNN/End_project/images/test_v3/card_2482.jpg: 320x320 1 rotated_photo, 14.5ms\n",
      "image 1650/2500 /repos/uni-si/R2S4/DNN/End_project/images/test_v3/card_2483.jpg: 320x320 1 rotated_photo, 17.5ms\n",
      "image 1651/2500 /repos/uni-si/R2S4/DNN/End_project/images/test_v3/card_2484.jpg: 320x320 1 rotated_photo, 18.2ms\n",
      "image 1652/2500 /repos/uni-si/R2S4/DNN/End_project/images/test_v3/card_2485.jpg: 320x320 1 rotated_photo, 20.2ms\n",
      "image 1653/2500 /repos/uni-si/R2S4/DNN/End_project/images/test_v3/card_2486.jpg: 320x320 1 rotated_photo, 13.8ms\n",
      "image 1654/2500 /repos/uni-si/R2S4/DNN/End_project/images/test_v3/card_2487.jpg: 320x320 1 rotated_photo, 16.0ms\n",
      "image 1655/2500 /repos/uni-si/R2S4/DNN/End_project/images/test_v3/card_2488.jpg: 320x320 1 rotated_photo, 20.0ms\n",
      "image 1656/2500 /repos/uni-si/R2S4/DNN/End_project/images/test_v3/card_2489.jpg: 320x320 1 rotated_photo, 18.8ms\n",
      "image 1657/2500 /repos/uni-si/R2S4/DNN/End_project/images/test_v3/card_249.jpg: 320x320 1 rotated_photo, 18.3ms\n",
      "image 1658/2500 /repos/uni-si/R2S4/DNN/End_project/images/test_v3/card_2490.jpg: 320x320 1 rotated_photo, 22.1ms\n",
      "image 1659/2500 /repos/uni-si/R2S4/DNN/End_project/images/test_v3/card_2491.jpg: 320x320 1 rotated_photo, 23.6ms\n",
      "image 1660/2500 /repos/uni-si/R2S4/DNN/End_project/images/test_v3/card_2492.jpg: 320x320 1 rotated_photo, 14.7ms\n",
      "image 1661/2500 /repos/uni-si/R2S4/DNN/End_project/images/test_v3/card_2493.jpg: 320x320 1 rotated_photo, 48.0ms\n",
      "image 1662/2500 /repos/uni-si/R2S4/DNN/End_project/images/test_v3/card_2494.jpg: 320x320 1 rotated_photo, 17.5ms\n",
      "image 1663/2500 /repos/uni-si/R2S4/DNN/End_project/images/test_v3/card_2495.jpg: 320x320 1 rotated_photo, 15.0ms\n",
      "image 1664/2500 /repos/uni-si/R2S4/DNN/End_project/images/test_v3/card_2496.jpg: 320x320 1 rotated_photo, 16.1ms\n",
      "image 1665/2500 /repos/uni-si/R2S4/DNN/End_project/images/test_v3/card_2497.jpg: 320x320 1 rotated_photo, 29.5ms\n",
      "image 1666/2500 /repos/uni-si/R2S4/DNN/End_project/images/test_v3/card_2498.jpg: 320x320 1 rotated_photo, 20.0ms\n",
      "image 1667/2500 /repos/uni-si/R2S4/DNN/End_project/images/test_v3/card_2499.jpg: 320x320 1 rotated_photo, 18.0ms\n",
      "image 1668/2500 /repos/uni-si/R2S4/DNN/End_project/images/test_v3/card_25.jpg: 320x320 1 rotated_photo, 27.0ms\n",
      "image 1669/2500 /repos/uni-si/R2S4/DNN/End_project/images/test_v3/card_250.jpg: 320x320 1 rotated_photo, 20.0ms\n",
      "image 1670/2500 /repos/uni-si/R2S4/DNN/End_project/images/test_v3/card_2500.jpg: 320x320 1 rotated_photo, 18.0ms\n",
      "image 1671/2500 /repos/uni-si/R2S4/DNN/End_project/images/test_v3/card_251.jpg: 320x320 1 rotated_photo, 18.5ms\n",
      "image 1672/2500 /repos/uni-si/R2S4/DNN/End_project/images/test_v3/card_252.jpg: 320x320 1 rotated_photo, 17.4ms\n",
      "image 1673/2500 /repos/uni-si/R2S4/DNN/End_project/images/test_v3/card_253.jpg: 320x320 1 rotated_photo, 17.9ms\n",
      "image 1674/2500 /repos/uni-si/R2S4/DNN/End_project/images/test_v3/card_254.jpg: 320x320 1 rotated_photo, 30.2ms\n",
      "image 1675/2500 /repos/uni-si/R2S4/DNN/End_project/images/test_v3/card_255.jpg: 320x320 1 rotated_photo, 21.0ms\n",
      "image 1676/2500 /repos/uni-si/R2S4/DNN/End_project/images/test_v3/card_256.jpg: 320x320 1 rotated_photo, 18.9ms\n",
      "image 1677/2500 /repos/uni-si/R2S4/DNN/End_project/images/test_v3/card_257.jpg: 320x320 1 rotated_photo, 16.7ms\n",
      "image 1678/2500 /repos/uni-si/R2S4/DNN/End_project/images/test_v3/card_258.jpg: 320x320 1 rotated_photo, 15.1ms\n",
      "image 1679/2500 /repos/uni-si/R2S4/DNN/End_project/images/test_v3/card_259.jpg: 320x320 1 rotated_photo, 13.8ms\n",
      "image 1680/2500 /repos/uni-si/R2S4/DNN/End_project/images/test_v3/card_26.jpg: 320x320 1 rotated_photo, 13.8ms\n",
      "image 1681/2500 /repos/uni-si/R2S4/DNN/End_project/images/test_v3/card_260.jpg: 320x320 1 rotated_photo, 14.0ms\n",
      "image 1682/2500 /repos/uni-si/R2S4/DNN/End_project/images/test_v3/card_261.jpg: 320x320 1 rotated_photo, 32.4ms\n",
      "image 1683/2500 /repos/uni-si/R2S4/DNN/End_project/images/test_v3/card_262.jpg: 320x320 1 rotated_photo, 14.5ms\n",
      "image 1684/2500 /repos/uni-si/R2S4/DNN/End_project/images/test_v3/card_263.jpg: 320x320 1 rotated_photo, 13.1ms\n",
      "image 1685/2500 /repos/uni-si/R2S4/DNN/End_project/images/test_v3/card_264.jpg: 320x320 1 rotated_photo, 15.2ms\n",
      "image 1686/2500 /repos/uni-si/R2S4/DNN/End_project/images/test_v3/card_265.jpg: 320x320 1 rotated_photo, 14.2ms\n",
      "image 1687/2500 /repos/uni-si/R2S4/DNN/End_project/images/test_v3/card_266.jpg: 320x320 1 rotated_photo, 13.6ms\n",
      "image 1688/2500 /repos/uni-si/R2S4/DNN/End_project/images/test_v3/card_267.jpg: 320x320 1 rotated_photo, 13.9ms\n",
      "image 1689/2500 /repos/uni-si/R2S4/DNN/End_project/images/test_v3/card_268.jpg: 320x320 1 rotated_photo, 13.0ms\n",
      "image 1690/2500 /repos/uni-si/R2S4/DNN/End_project/images/test_v3/card_269.jpg: 320x320 1 rotated_photo, 14.7ms\n",
      "image 1691/2500 /repos/uni-si/R2S4/DNN/End_project/images/test_v3/card_27.jpg: 320x320 1 rotated_photo, 14.0ms\n",
      "image 1692/2500 /repos/uni-si/R2S4/DNN/End_project/images/test_v3/card_270.jpg: 320x320 1 rotated_photo, 13.6ms\n",
      "image 1693/2500 /repos/uni-si/R2S4/DNN/End_project/images/test_v3/card_271.jpg: 320x320 1 rotated_photo, 15.6ms\n",
      "image 1694/2500 /repos/uni-si/R2S4/DNN/End_project/images/test_v3/card_272.jpg: 320x320 1 rotated_photo, 15.0ms\n",
      "image 1695/2500 /repos/uni-si/R2S4/DNN/End_project/images/test_v3/card_273.jpg: 320x320 1 rotated_photo, 25.7ms\n",
      "image 1696/2500 /repos/uni-si/R2S4/DNN/End_project/images/test_v3/card_274.jpg: 320x320 1 rotated_photo, 15.6ms\n",
      "image 1697/2500 /repos/uni-si/R2S4/DNN/End_project/images/test_v3/card_275.jpg: 320x320 1 rotated_photo, 14.8ms\n",
      "image 1698/2500 /repos/uni-si/R2S4/DNN/End_project/images/test_v3/card_276.jpg: 320x320 1 rotated_photo, 14.6ms\n",
      "image 1699/2500 /repos/uni-si/R2S4/DNN/End_project/images/test_v3/card_277.jpg: 320x320 1 rotated_photo, 15.4ms\n",
      "image 1700/2500 /repos/uni-si/R2S4/DNN/End_project/images/test_v3/card_278.jpg: 320x320 1 rotated_photo, 13.8ms\n",
      "image 1701/2500 /repos/uni-si/R2S4/DNN/End_project/images/test_v3/card_279.jpg: 320x320 1 rotated_photo, 16.0ms\n",
      "image 1702/2500 /repos/uni-si/R2S4/DNN/End_project/images/test_v3/card_28.jpg: 320x320 1 rotated_photo, 14.2ms\n",
      "image 1703/2500 /repos/uni-si/R2S4/DNN/End_project/images/test_v3/card_280.jpg: 320x320 1 rotated_photo, 15.8ms\n",
      "image 1704/2500 /repos/uni-si/R2S4/DNN/End_project/images/test_v3/card_281.jpg: 320x320 1 rotated_photo, 16.3ms\n",
      "image 1705/2500 /repos/uni-si/R2S4/DNN/End_project/images/test_v3/card_282.jpg: 320x320 1 rotated_photo, 17.0ms\n",
      "image 1706/2500 /repos/uni-si/R2S4/DNN/End_project/images/test_v3/card_283.jpg: 320x320 1 rotated_photo, 17.0ms\n",
      "image 1707/2500 /repos/uni-si/R2S4/DNN/End_project/images/test_v3/card_284.jpg: 320x320 1 rotated_photo, 15.3ms\n",
      "image 1708/2500 /repos/uni-si/R2S4/DNN/End_project/images/test_v3/card_285.jpg: 320x320 1 rotated_photo, 42.6ms\n",
      "image 1709/2500 /repos/uni-si/R2S4/DNN/End_project/images/test_v3/card_286.jpg: 320x320 1 rotated_photo, 15.8ms\n",
      "image 1710/2500 /repos/uni-si/R2S4/DNN/End_project/images/test_v3/card_287.jpg: 320x320 1 rotated_photo, 14.0ms\n",
      "image 1711/2500 /repos/uni-si/R2S4/DNN/End_project/images/test_v3/card_288.jpg: 320x320 1 rotated_photo, 19.3ms\n",
      "image 1712/2500 /repos/uni-si/R2S4/DNN/End_project/images/test_v3/card_289.jpg: 320x320 1 rotated_photo, 15.3ms\n",
      "image 1713/2500 /repos/uni-si/R2S4/DNN/End_project/images/test_v3/card_29.jpg: 320x320 1 rotated_photo, 16.7ms\n",
      "image 1714/2500 /repos/uni-si/R2S4/DNN/End_project/images/test_v3/card_290.jpg: 320x320 1 rotated_photo, 15.2ms\n",
      "image 1715/2500 /repos/uni-si/R2S4/DNN/End_project/images/test_v3/card_291.jpg: 320x320 1 rotated_photo, 26.5ms\n",
      "image 1716/2500 /repos/uni-si/R2S4/DNN/End_project/images/test_v3/card_292.jpg: 320x320 1 rotated_photo, 35.5ms\n",
      "image 1717/2500 /repos/uni-si/R2S4/DNN/End_project/images/test_v3/card_293.jpg: 320x320 1 rotated_photo, 17.8ms\n",
      "image 1718/2500 /repos/uni-si/R2S4/DNN/End_project/images/test_v3/card_294.jpg: 320x320 1 rotated_photo, 16.8ms\n",
      "image 1719/2500 /repos/uni-si/R2S4/DNN/End_project/images/test_v3/card_295.jpg: 320x320 1 rotated_photo, 14.9ms\n",
      "image 1720/2500 /repos/uni-si/R2S4/DNN/End_project/images/test_v3/card_296.jpg: 320x320 1 rotated_photo, 13.1ms\n",
      "image 1721/2500 /repos/uni-si/R2S4/DNN/End_project/images/test_v3/card_297.jpg: 320x320 1 rotated_photo, 16.1ms\n",
      "image 1722/2500 /repos/uni-si/R2S4/DNN/End_project/images/test_v3/card_298.jpg: 320x320 1 rotated_photo, 17.5ms\n",
      "image 1723/2500 /repos/uni-si/R2S4/DNN/End_project/images/test_v3/card_299.jpg: 320x320 1 rotated_photo, 15.2ms\n",
      "image 1724/2500 /repos/uni-si/R2S4/DNN/End_project/images/test_v3/card_3.jpg: 320x320 1 rotated_photo, 14.9ms\n",
      "image 1725/2500 /repos/uni-si/R2S4/DNN/End_project/images/test_v3/card_30.jpg: 320x320 1 rotated_photo, 14.4ms\n",
      "image 1726/2500 /repos/uni-si/R2S4/DNN/End_project/images/test_v3/card_300.jpg: 320x320 1 rotated_photo, 14.9ms\n",
      "image 1727/2500 /repos/uni-si/R2S4/DNN/End_project/images/test_v3/card_301.jpg: 320x320 1 rotated_photo, 16.3ms\n",
      "image 1728/2500 /repos/uni-si/R2S4/DNN/End_project/images/test_v3/card_302.jpg: 320x320 1 rotated_photo, 16.7ms\n",
      "image 1729/2500 /repos/uni-si/R2S4/DNN/End_project/images/test_v3/card_303.jpg: 320x320 1 rotated_photo, 16.0ms\n",
      "image 1730/2500 /repos/uni-si/R2S4/DNN/End_project/images/test_v3/card_304.jpg: 320x320 1 rotated_photo, 13.5ms\n",
      "image 1731/2500 /repos/uni-si/R2S4/DNN/End_project/images/test_v3/card_305.jpg: 320x320 1 rotated_photo, 16.1ms\n",
      "image 1732/2500 /repos/uni-si/R2S4/DNN/End_project/images/test_v3/card_306.jpg: 320x320 1 rotated_photo, 14.4ms\n",
      "image 1733/2500 /repos/uni-si/R2S4/DNN/End_project/images/test_v3/card_307.jpg: 320x320 1 rotated_photo, 30.3ms\n",
      "image 1734/2500 /repos/uni-si/R2S4/DNN/End_project/images/test_v3/card_308.jpg: 320x320 1 rotated_photo, 16.0ms\n",
      "image 1735/2500 /repos/uni-si/R2S4/DNN/End_project/images/test_v3/card_309.jpg: 320x320 1 rotated_photo, 16.4ms\n",
      "image 1736/2500 /repos/uni-si/R2S4/DNN/End_project/images/test_v3/card_31.jpg: 320x320 1 rotated_photo, 15.5ms\n",
      "image 1737/2500 /repos/uni-si/R2S4/DNN/End_project/images/test_v3/card_310.jpg: 320x320 1 rotated_photo, 17.2ms\n",
      "image 1738/2500 /repos/uni-si/R2S4/DNN/End_project/images/test_v3/card_311.jpg: 320x320 1 rotated_photo, 33.2ms\n",
      "image 1739/2500 /repos/uni-si/R2S4/DNN/End_project/images/test_v3/card_312.jpg: 320x320 1 rotated_photo, 15.2ms\n",
      "image 1740/2500 /repos/uni-si/R2S4/DNN/End_project/images/test_v3/card_313.jpg: 320x320 1 rotated_photo, 14.7ms\n",
      "image 1741/2500 /repos/uni-si/R2S4/DNN/End_project/images/test_v3/card_314.jpg: 320x320 1 rotated_photo, 15.9ms\n",
      "image 1742/2500 /repos/uni-si/R2S4/DNN/End_project/images/test_v3/card_315.jpg: 320x320 1 rotated_photo, 15.5ms\n",
      "image 1743/2500 /repos/uni-si/R2S4/DNN/End_project/images/test_v3/card_316.jpg: 320x320 1 rotated_photo, 14.0ms\n",
      "image 1744/2500 /repos/uni-si/R2S4/DNN/End_project/images/test_v3/card_317.jpg: 320x320 1 rotated_photo, 21.7ms\n",
      "image 1745/2500 /repos/uni-si/R2S4/DNN/End_project/images/test_v3/card_318.jpg: 320x320 1 rotated_photo, 17.9ms\n",
      "image 1746/2500 /repos/uni-si/R2S4/DNN/End_project/images/test_v3/card_319.jpg: 320x320 1 rotated_photo, 16.6ms\n",
      "image 1747/2500 /repos/uni-si/R2S4/DNN/End_project/images/test_v3/card_32.jpg: 320x320 1 rotated_photo, 21.1ms\n",
      "image 1748/2500 /repos/uni-si/R2S4/DNN/End_project/images/test_v3/card_320.jpg: 320x320 1 rotated_photo, 17.0ms\n",
      "image 1749/2500 /repos/uni-si/R2S4/DNN/End_project/images/test_v3/card_321.jpg: 320x320 1 rotated_photo, 26.4ms\n",
      "image 1750/2500 /repos/uni-si/R2S4/DNN/End_project/images/test_v3/card_322.jpg: 320x320 1 rotated_photo, 15.2ms\n",
      "image 1751/2500 /repos/uni-si/R2S4/DNN/End_project/images/test_v3/card_323.jpg: 320x320 1 rotated_photo, 17.6ms\n",
      "image 1752/2500 /repos/uni-si/R2S4/DNN/End_project/images/test_v3/card_324.jpg: 320x320 1 rotated_photo, 15.7ms\n",
      "image 1753/2500 /repos/uni-si/R2S4/DNN/End_project/images/test_v3/card_325.jpg: 320x320 1 rotated_photo, 22.6ms\n",
      "image 1754/2500 /repos/uni-si/R2S4/DNN/End_project/images/test_v3/card_326.jpg: 320x320 1 rotated_photo, 20.5ms\n",
      "image 1755/2500 /repos/uni-si/R2S4/DNN/End_project/images/test_v3/card_327.jpg: 320x320 1 rotated_photo, 18.6ms\n",
      "image 1756/2500 /repos/uni-si/R2S4/DNN/End_project/images/test_v3/card_328.jpg: 320x320 1 rotated_photo, 14.2ms\n",
      "image 1757/2500 /repos/uni-si/R2S4/DNN/End_project/images/test_v3/card_329.jpg: 320x320 1 rotated_photo, 16.2ms\n",
      "image 1758/2500 /repos/uni-si/R2S4/DNN/End_project/images/test_v3/card_33.jpg: 320x320 1 rotated_photo, 24.2ms\n",
      "image 1759/2500 /repos/uni-si/R2S4/DNN/End_project/images/test_v3/card_330.jpg: 320x320 1 rotated_photo, 47.8ms\n",
      "image 1760/2500 /repos/uni-si/R2S4/DNN/End_project/images/test_v3/card_331.jpg: 320x320 1 rotated_photo, 25.3ms\n",
      "image 1761/2500 /repos/uni-si/R2S4/DNN/End_project/images/test_v3/card_332.jpg: 320x320 1 rotated_photo, 14.7ms\n",
      "image 1762/2500 /repos/uni-si/R2S4/DNN/End_project/images/test_v3/card_333.jpg: 320x320 1 rotated_photo, 15.4ms\n",
      "image 1763/2500 /repos/uni-si/R2S4/DNN/End_project/images/test_v3/card_334.jpg: 320x320 1 rotated_photo, 15.6ms\n",
      "image 1764/2500 /repos/uni-si/R2S4/DNN/End_project/images/test_v3/card_335.jpg: 320x320 1 rotated_photo, 17.7ms\n",
      "image 1765/2500 /repos/uni-si/R2S4/DNN/End_project/images/test_v3/card_336.jpg: 320x320 1 rotated_photo, 15.2ms\n",
      "image 1766/2500 /repos/uni-si/R2S4/DNN/End_project/images/test_v3/card_337.jpg: 320x320 1 rotated_photo, 16.6ms\n",
      "image 1767/2500 /repos/uni-si/R2S4/DNN/End_project/images/test_v3/card_338.jpg: 320x320 1 rotated_photo, 15.9ms\n",
      "image 1768/2500 /repos/uni-si/R2S4/DNN/End_project/images/test_v3/card_339.jpg: 320x320 1 rotated_photo, 14.1ms\n",
      "image 1769/2500 /repos/uni-si/R2S4/DNN/End_project/images/test_v3/card_34.jpg: 320x320 1 rotated_photo, 14.1ms\n",
      "image 1770/2500 /repos/uni-si/R2S4/DNN/End_project/images/test_v3/card_340.jpg: 320x320 1 rotated_photo, 26.0ms\n",
      "image 1771/2500 /repos/uni-si/R2S4/DNN/End_project/images/test_v3/card_341.jpg: 320x320 1 rotated_photo, 15.1ms\n",
      "image 1772/2500 /repos/uni-si/R2S4/DNN/End_project/images/test_v3/card_342.jpg: 320x320 1 rotated_photo, 19.0ms\n",
      "image 1773/2500 /repos/uni-si/R2S4/DNN/End_project/images/test_v3/card_343.jpg: 320x320 1 rotated_photo, 24.2ms\n",
      "image 1774/2500 /repos/uni-si/R2S4/DNN/End_project/images/test_v3/card_344.jpg: 320x320 1 rotated_photo, 18.5ms\n",
      "image 1775/2500 /repos/uni-si/R2S4/DNN/End_project/images/test_v3/card_345.jpg: 320x320 1 rotated_photo, 23.9ms\n",
      "image 1776/2500 /repos/uni-si/R2S4/DNN/End_project/images/test_v3/card_346.jpg: 320x320 1 rotated_photo, 37.7ms\n",
      "image 1777/2500 /repos/uni-si/R2S4/DNN/End_project/images/test_v3/card_347.jpg: 320x320 1 rotated_photo, 28.5ms\n",
      "image 1778/2500 /repos/uni-si/R2S4/DNN/End_project/images/test_v3/card_348.jpg: 320x320 1 rotated_photo, 17.0ms\n",
      "image 1779/2500 /repos/uni-si/R2S4/DNN/End_project/images/test_v3/card_349.jpg: 320x320 1 rotated_photo, 19.2ms\n",
      "image 1780/2500 /repos/uni-si/R2S4/DNN/End_project/images/test_v3/card_35.jpg: 320x320 1 rotated_photo, 24.3ms\n",
      "image 1781/2500 /repos/uni-si/R2S4/DNN/End_project/images/test_v3/card_350.jpg: 320x320 1 rotated_photo, 15.2ms\n",
      "image 1782/2500 /repos/uni-si/R2S4/DNN/End_project/images/test_v3/card_351.jpg: 320x320 1 rotated_photo, 14.6ms\n",
      "image 1783/2500 /repos/uni-si/R2S4/DNN/End_project/images/test_v3/card_352.jpg: 320x320 1 rotated_photo, 15.1ms\n",
      "image 1784/2500 /repos/uni-si/R2S4/DNN/End_project/images/test_v3/card_353.jpg: 320x320 1 rotated_photo, 15.5ms\n",
      "image 1785/2500 /repos/uni-si/R2S4/DNN/End_project/images/test_v3/card_354.jpg: 320x320 1 rotated_photo, 17.1ms\n",
      "image 1786/2500 /repos/uni-si/R2S4/DNN/End_project/images/test_v3/card_355.jpg: 320x320 1 rotated_photo, 18.3ms\n",
      "image 1787/2500 /repos/uni-si/R2S4/DNN/End_project/images/test_v3/card_356.jpg: 320x320 1 rotated_photo, 20.0ms\n",
      "image 1788/2500 /repos/uni-si/R2S4/DNN/End_project/images/test_v3/card_357.jpg: 320x320 1 rotated_photo, 14.0ms\n",
      "image 1789/2500 /repos/uni-si/R2S4/DNN/End_project/images/test_v3/card_358.jpg: 320x320 1 rotated_photo, 13.9ms\n",
      "image 1790/2500 /repos/uni-si/R2S4/DNN/End_project/images/test_v3/card_359.jpg: 320x320 1 rotated_photo, 15.9ms\n",
      "image 1791/2500 /repos/uni-si/R2S4/DNN/End_project/images/test_v3/card_36.jpg: 320x320 1 rotated_photo, 13.9ms\n",
      "image 1792/2500 /repos/uni-si/R2S4/DNN/End_project/images/test_v3/card_360.jpg: 320x320 1 rotated_photo, 15.0ms\n",
      "image 1793/2500 /repos/uni-si/R2S4/DNN/End_project/images/test_v3/card_361.jpg: 320x320 1 rotated_photo, 14.8ms\n",
      "image 1794/2500 /repos/uni-si/R2S4/DNN/End_project/images/test_v3/card_362.jpg: 320x320 1 rotated_photo, 14.9ms\n",
      "image 1795/2500 /repos/uni-si/R2S4/DNN/End_project/images/test_v3/card_363.jpg: 320x320 1 rotated_photo, 14.3ms\n",
      "image 1796/2500 /repos/uni-si/R2S4/DNN/End_project/images/test_v3/card_364.jpg: 320x320 1 rotated_photo, 14.9ms\n",
      "image 1797/2500 /repos/uni-si/R2S4/DNN/End_project/images/test_v3/card_365.jpg: 320x320 1 rotated_photo, 14.8ms\n",
      "image 1798/2500 /repos/uni-si/R2S4/DNN/End_project/images/test_v3/card_366.jpg: 320x320 1 rotated_photo, 15.2ms\n",
      "image 1799/2500 /repos/uni-si/R2S4/DNN/End_project/images/test_v3/card_367.jpg: 320x320 1 rotated_photo, 27.8ms\n",
      "image 1800/2500 /repos/uni-si/R2S4/DNN/End_project/images/test_v3/card_368.jpg: 320x320 1 rotated_photo, 14.8ms\n",
      "image 1801/2500 /repos/uni-si/R2S4/DNN/End_project/images/test_v3/card_369.jpg: 320x320 1 rotated_photo, 15.7ms\n",
      "image 1802/2500 /repos/uni-si/R2S4/DNN/End_project/images/test_v3/card_37.jpg: 320x320 1 rotated_photo, 21.7ms\n",
      "image 1803/2500 /repos/uni-si/R2S4/DNN/End_project/images/test_v3/card_370.jpg: 320x320 1 rotated_photo, 16.7ms\n",
      "image 1804/2500 /repos/uni-si/R2S4/DNN/End_project/images/test_v3/card_371.jpg: 320x320 1 rotated_photo, 16.0ms\n",
      "image 1805/2500 /repos/uni-si/R2S4/DNN/End_project/images/test_v3/card_372.jpg: 320x320 1 rotated_photo, 14.1ms\n",
      "image 1806/2500 /repos/uni-si/R2S4/DNN/End_project/images/test_v3/card_373.jpg: 320x320 1 rotated_photo, 15.8ms\n",
      "image 1807/2500 /repos/uni-si/R2S4/DNN/End_project/images/test_v3/card_374.jpg: 320x320 1 rotated_photo, 18.1ms\n",
      "image 1808/2500 /repos/uni-si/R2S4/DNN/End_project/images/test_v3/card_375.jpg: 320x320 1 rotated_photo, 16.1ms\n",
      "image 1809/2500 /repos/uni-si/R2S4/DNN/End_project/images/test_v3/card_376.jpg: 320x320 1 rotated_photo, 17.1ms\n",
      "image 1810/2500 /repos/uni-si/R2S4/DNN/End_project/images/test_v3/card_377.jpg: 320x320 1 rotated_photo, 16.0ms\n",
      "image 1811/2500 /repos/uni-si/R2S4/DNN/End_project/images/test_v3/card_378.jpg: 320x320 1 rotated_photo, 14.5ms\n",
      "image 1812/2500 /repos/uni-si/R2S4/DNN/End_project/images/test_v3/card_379.jpg: 320x320 1 rotated_photo, 14.9ms\n",
      "image 1813/2500 /repos/uni-si/R2S4/DNN/End_project/images/test_v3/card_38.jpg: 320x320 1 rotated_photo, 16.2ms\n",
      "image 1814/2500 /repos/uni-si/R2S4/DNN/End_project/images/test_v3/card_380.jpg: 320x320 1 rotated_photo, 13.8ms\n",
      "image 1815/2500 /repos/uni-si/R2S4/DNN/End_project/images/test_v3/card_381.jpg: 320x320 1 rotated_photo, 21.4ms\n",
      "image 1816/2500 /repos/uni-si/R2S4/DNN/End_project/images/test_v3/card_382.jpg: 320x320 1 rotated_photo, 13.7ms\n",
      "image 1817/2500 /repos/uni-si/R2S4/DNN/End_project/images/test_v3/card_383.jpg: 320x320 1 rotated_photo, 14.4ms\n",
      "image 1818/2500 /repos/uni-si/R2S4/DNN/End_project/images/test_v3/card_384.jpg: 320x320 1 rotated_photo, 20.2ms\n",
      "image 1819/2500 /repos/uni-si/R2S4/DNN/End_project/images/test_v3/card_385.jpg: 320x320 1 rotated_photo, 13.6ms\n",
      "image 1820/2500 /repos/uni-si/R2S4/DNN/End_project/images/test_v3/card_386.jpg: 320x320 1 rotated_photo, 14.4ms\n",
      "image 1821/2500 /repos/uni-si/R2S4/DNN/End_project/images/test_v3/card_387.jpg: 320x320 1 rotated_photo, 19.9ms\n",
      "image 1822/2500 /repos/uni-si/R2S4/DNN/End_project/images/test_v3/card_388.jpg: 320x320 1 rotated_photo, 29.7ms\n",
      "image 1823/2500 /repos/uni-si/R2S4/DNN/End_project/images/test_v3/card_389.jpg: 320x320 1 rotated_photo, 18.1ms\n",
      "image 1824/2500 /repos/uni-si/R2S4/DNN/End_project/images/test_v3/card_39.jpg: 320x320 1 rotated_photo, 16.8ms\n",
      "image 1825/2500 /repos/uni-si/R2S4/DNN/End_project/images/test_v3/card_390.jpg: 320x320 1 rotated_photo, 23.7ms\n",
      "image 1826/2500 /repos/uni-si/R2S4/DNN/End_project/images/test_v3/card_391.jpg: 320x320 1 rotated_photo, 29.6ms\n",
      "image 1827/2500 /repos/uni-si/R2S4/DNN/End_project/images/test_v3/card_392.jpg: 320x320 1 rotated_photo, 19.7ms\n",
      "image 1828/2500 /repos/uni-si/R2S4/DNN/End_project/images/test_v3/card_393.jpg: 320x320 1 rotated_photo, 15.1ms\n",
      "image 1829/2500 /repos/uni-si/R2S4/DNN/End_project/images/test_v3/card_394.jpg: 320x320 1 rotated_photo, 17.3ms\n",
      "image 1830/2500 /repos/uni-si/R2S4/DNN/End_project/images/test_v3/card_395.jpg: 320x320 1 rotated_photo, 15.5ms\n",
      "image 1831/2500 /repos/uni-si/R2S4/DNN/End_project/images/test_v3/card_396.jpg: 320x320 1 rotated_photo, 16.2ms\n",
      "image 1832/2500 /repos/uni-si/R2S4/DNN/End_project/images/test_v3/card_397.jpg: 320x320 1 rotated_photo, 43.7ms\n",
      "image 1833/2500 /repos/uni-si/R2S4/DNN/End_project/images/test_v3/card_398.jpg: 320x320 1 rotated_photo, 16.9ms\n",
      "image 1834/2500 /repos/uni-si/R2S4/DNN/End_project/images/test_v3/card_399.jpg: 320x320 1 rotated_photo, 14.9ms\n",
      "image 1835/2500 /repos/uni-si/R2S4/DNN/End_project/images/test_v3/card_4.jpg: 320x320 1 rotated_photo, 14.2ms\n",
      "image 1836/2500 /repos/uni-si/R2S4/DNN/End_project/images/test_v3/card_40.jpg: 320x320 1 rotated_photo, 15.5ms\n",
      "image 1837/2500 /repos/uni-si/R2S4/DNN/End_project/images/test_v3/card_400.jpg: 320x320 1 rotated_photo, 14.5ms\n",
      "image 1838/2500 /repos/uni-si/R2S4/DNN/End_project/images/test_v3/card_401.jpg: 320x320 1 rotated_photo, 14.6ms\n",
      "image 1839/2500 /repos/uni-si/R2S4/DNN/End_project/images/test_v3/card_402.jpg: 320x320 1 rotated_photo, 14.2ms\n",
      "image 1840/2500 /repos/uni-si/R2S4/DNN/End_project/images/test_v3/card_403.jpg: 320x320 1 rotated_photo, 13.7ms\n",
      "image 1841/2500 /repos/uni-si/R2S4/DNN/End_project/images/test_v3/card_404.jpg: 320x320 1 rotated_photo, 17.3ms\n",
      "image 1842/2500 /repos/uni-si/R2S4/DNN/End_project/images/test_v3/card_405.jpg: 320x320 1 rotated_photo, 14.4ms\n",
      "image 1843/2500 /repos/uni-si/R2S4/DNN/End_project/images/test_v3/card_406.jpg: 320x320 1 rotated_photo, 15.0ms\n",
      "image 1844/2500 /repos/uni-si/R2S4/DNN/End_project/images/test_v3/card_407.jpg: 320x320 1 rotated_photo, 14.8ms\n",
      "image 1845/2500 /repos/uni-si/R2S4/DNN/End_project/images/test_v3/card_408.jpg: 320x320 1 rotated_photo, 15.6ms\n",
      "image 1846/2500 /repos/uni-si/R2S4/DNN/End_project/images/test_v3/card_409.jpg: 320x320 1 rotated_photo, 17.4ms\n",
      "image 1847/2500 /repos/uni-si/R2S4/DNN/End_project/images/test_v3/card_41.jpg: 320x320 1 rotated_photo, 33.5ms\n",
      "image 1848/2500 /repos/uni-si/R2S4/DNN/End_project/images/test_v3/card_410.jpg: 320x320 1 rotated_photo, 22.5ms\n",
      "image 1849/2500 /repos/uni-si/R2S4/DNN/End_project/images/test_v3/card_411.jpg: 320x320 1 rotated_photo, 14.0ms\n",
      "image 1850/2500 /repos/uni-si/R2S4/DNN/End_project/images/test_v3/card_412.jpg: 320x320 1 rotated_photo, 16.0ms\n",
      "image 1851/2500 /repos/uni-si/R2S4/DNN/End_project/images/test_v3/card_413.jpg: 320x320 1 rotated_photo, 15.2ms\n",
      "image 1852/2500 /repos/uni-si/R2S4/DNN/End_project/images/test_v3/card_414.jpg: 320x320 1 rotated_photo, 16.0ms\n",
      "image 1853/2500 /repos/uni-si/R2S4/DNN/End_project/images/test_v3/card_415.jpg: 320x320 1 rotated_photo, 14.7ms\n",
      "image 1854/2500 /repos/uni-si/R2S4/DNN/End_project/images/test_v3/card_416.jpg: 320x320 1 rotated_photo, 15.0ms\n",
      "image 1855/2500 /repos/uni-si/R2S4/DNN/End_project/images/test_v3/card_417.jpg: 320x320 1 rotated_photo, 15.1ms\n",
      "image 1856/2500 /repos/uni-si/R2S4/DNN/End_project/images/test_v3/card_418.jpg: 320x320 1 rotated_photo, 18.1ms\n",
      "image 1857/2500 /repos/uni-si/R2S4/DNN/End_project/images/test_v3/card_419.jpg: 320x320 1 rotated_photo, 15.2ms\n",
      "image 1858/2500 /repos/uni-si/R2S4/DNN/End_project/images/test_v3/card_42.jpg: 320x320 1 rotated_photo, 14.2ms\n",
      "image 1859/2500 /repos/uni-si/R2S4/DNN/End_project/images/test_v3/card_420.jpg: 320x320 1 rotated_photo, 15.3ms\n",
      "image 1860/2500 /repos/uni-si/R2S4/DNN/End_project/images/test_v3/card_421.jpg: 320x320 1 rotated_photo, 15.4ms\n",
      "image 1861/2500 /repos/uni-si/R2S4/DNN/End_project/images/test_v3/card_422.jpg: 320x320 1 rotated_photo, 15.8ms\n",
      "image 1862/2500 /repos/uni-si/R2S4/DNN/End_project/images/test_v3/card_423.jpg: 320x320 1 rotated_photo, 13.8ms\n",
      "image 1863/2500 /repos/uni-si/R2S4/DNN/End_project/images/test_v3/card_424.jpg: 320x320 1 rotated_photo, 15.4ms\n",
      "image 1864/2500 /repos/uni-si/R2S4/DNN/End_project/images/test_v3/card_425.jpg: 320x320 1 rotated_photo, 24.4ms\n",
      "image 1865/2500 /repos/uni-si/R2S4/DNN/End_project/images/test_v3/card_426.jpg: 320x320 1 rotated_photo, 16.1ms\n",
      "image 1866/2500 /repos/uni-si/R2S4/DNN/End_project/images/test_v3/card_427.jpg: 320x320 1 rotated_photo, 15.9ms\n",
      "image 1867/2500 /repos/uni-si/R2S4/DNN/End_project/images/test_v3/card_428.jpg: 320x320 1 rotated_photo, 13.6ms\n",
      "image 1868/2500 /repos/uni-si/R2S4/DNN/End_project/images/test_v3/card_429.jpg: 320x320 1 rotated_photo, 16.4ms\n",
      "image 1869/2500 /repos/uni-si/R2S4/DNN/End_project/images/test_v3/card_43.jpg: 320x320 1 rotated_photo, 13.1ms\n",
      "image 1870/2500 /repos/uni-si/R2S4/DNN/End_project/images/test_v3/card_430.jpg: 320x320 1 rotated_photo, 14.4ms\n",
      "image 1871/2500 /repos/uni-si/R2S4/DNN/End_project/images/test_v3/card_431.jpg: 320x320 1 rotated_photo, 17.5ms\n",
      "image 1872/2500 /repos/uni-si/R2S4/DNN/End_project/images/test_v3/card_432.jpg: 320x320 1 rotated_photo, 16.4ms\n",
      "image 1873/2500 /repos/uni-si/R2S4/DNN/End_project/images/test_v3/card_433.jpg: 320x320 1 rotated_photo, 14.7ms\n",
      "image 1874/2500 /repos/uni-si/R2S4/DNN/End_project/images/test_v3/card_434.jpg: 320x320 1 rotated_photo, 17.0ms\n",
      "image 1875/2500 /repos/uni-si/R2S4/DNN/End_project/images/test_v3/card_435.jpg: 320x320 1 rotated_photo, 17.6ms\n",
      "image 1876/2500 /repos/uni-si/R2S4/DNN/End_project/images/test_v3/card_436.jpg: 320x320 1 rotated_photo, 17.3ms\n",
      "image 1877/2500 /repos/uni-si/R2S4/DNN/End_project/images/test_v3/card_437.jpg: 320x320 1 rotated_photo, 18.6ms\n",
      "image 1878/2500 /repos/uni-si/R2S4/DNN/End_project/images/test_v3/card_438.jpg: 320x320 1 rotated_photo, 17.7ms\n",
      "image 1879/2500 /repos/uni-si/R2S4/DNN/End_project/images/test_v3/card_439.jpg: 320x320 1 rotated_photo, 22.1ms\n",
      "image 1880/2500 /repos/uni-si/R2S4/DNN/End_project/images/test_v3/card_44.jpg: 320x320 1 rotated_photo, 32.8ms\n",
      "image 1881/2500 /repos/uni-si/R2S4/DNN/End_project/images/test_v3/card_440.jpg: 320x320 1 rotated_photo, 18.2ms\n",
      "image 1882/2500 /repos/uni-si/R2S4/DNN/End_project/images/test_v3/card_441.jpg: 320x320 1 rotated_photo, 18.6ms\n",
      "image 1883/2500 /repos/uni-si/R2S4/DNN/End_project/images/test_v3/card_442.jpg: 320x320 1 rotated_photo, 26.3ms\n",
      "image 1884/2500 /repos/uni-si/R2S4/DNN/End_project/images/test_v3/card_443.jpg: 320x320 1 rotated_photo, 19.5ms\n",
      "image 1885/2500 /repos/uni-si/R2S4/DNN/End_project/images/test_v3/card_444.jpg: 320x320 1 rotated_photo, 15.7ms\n",
      "image 1886/2500 /repos/uni-si/R2S4/DNN/End_project/images/test_v3/card_445.jpg: 320x320 1 rotated_photo, 15.8ms\n",
      "image 1887/2500 /repos/uni-si/R2S4/DNN/End_project/images/test_v3/card_446.jpg: 320x320 1 rotated_photo, 30.1ms\n",
      "image 1888/2500 /repos/uni-si/R2S4/DNN/End_project/images/test_v3/card_447.jpg: 320x320 1 rotated_photo, 17.9ms\n",
      "image 1889/2500 /repos/uni-si/R2S4/DNN/End_project/images/test_v3/card_448.jpg: 320x320 1 rotated_photo, 19.5ms\n",
      "image 1890/2500 /repos/uni-si/R2S4/DNN/End_project/images/test_v3/card_449.jpg: 320x320 1 rotated_photo, 14.9ms\n",
      "image 1891/2500 /repos/uni-si/R2S4/DNN/End_project/images/test_v3/card_45.jpg: 320x320 1 rotated_photo, 14.0ms\n",
      "image 1892/2500 /repos/uni-si/R2S4/DNN/End_project/images/test_v3/card_450.jpg: 320x320 1 rotated_photo, 27.6ms\n",
      "image 1893/2500 /repos/uni-si/R2S4/DNN/End_project/images/test_v3/card_451.jpg: 320x320 1 rotated_photo, 24.1ms\n",
      "image 1894/2500 /repos/uni-si/R2S4/DNN/End_project/images/test_v3/card_452.jpg: 320x320 1 rotated_photo, 14.8ms\n",
      "image 1895/2500 /repos/uni-si/R2S4/DNN/End_project/images/test_v3/card_453.jpg: 320x320 1 rotated_photo, 13.2ms\n",
      "image 1896/2500 /repos/uni-si/R2S4/DNN/End_project/images/test_v3/card_454.jpg: 320x320 1 rotated_photo, 15.9ms\n",
      "image 1897/2500 /repos/uni-si/R2S4/DNN/End_project/images/test_v3/card_455.jpg: 320x320 1 rotated_photo, 17.2ms\n",
      "image 1898/2500 /repos/uni-si/R2S4/DNN/End_project/images/test_v3/card_456.jpg: 320x320 1 rotated_photo, 15.7ms\n",
      "image 1899/2500 /repos/uni-si/R2S4/DNN/End_project/images/test_v3/card_457.jpg: 320x320 1 rotated_photo, 16.8ms\n",
      "image 1900/2500 /repos/uni-si/R2S4/DNN/End_project/images/test_v3/card_458.jpg: 320x320 1 rotated_photo, 14.3ms\n",
      "image 1901/2500 /repos/uni-si/R2S4/DNN/End_project/images/test_v3/card_459.jpg: 320x320 1 rotated_photo, 13.8ms\n",
      "image 1902/2500 /repos/uni-si/R2S4/DNN/End_project/images/test_v3/card_46.jpg: 320x320 1 rotated_photo, 21.8ms\n",
      "image 1903/2500 /repos/uni-si/R2S4/DNN/End_project/images/test_v3/card_460.jpg: 320x320 1 rotated_photo, 13.7ms\n",
      "image 1904/2500 /repos/uni-si/R2S4/DNN/End_project/images/test_v3/card_461.jpg: 320x320 1 rotated_photo, 14.1ms\n",
      "image 1905/2500 /repos/uni-si/R2S4/DNN/End_project/images/test_v3/card_462.jpg: 320x320 1 rotated_photo, 13.7ms\n",
      "image 1906/2500 /repos/uni-si/R2S4/DNN/End_project/images/test_v3/card_463.jpg: 320x320 1 rotated_photo, 14.2ms\n",
      "image 1907/2500 /repos/uni-si/R2S4/DNN/End_project/images/test_v3/card_464.jpg: 320x320 1 rotated_photo, 14.0ms\n",
      "image 1908/2500 /repos/uni-si/R2S4/DNN/End_project/images/test_v3/card_465.jpg: 320x320 1 rotated_photo, 14.2ms\n",
      "image 1909/2500 /repos/uni-si/R2S4/DNN/End_project/images/test_v3/card_466.jpg: 320x320 1 rotated_photo, 14.3ms\n",
      "image 1910/2500 /repos/uni-si/R2S4/DNN/End_project/images/test_v3/card_467.jpg: 320x320 1 rotated_photo, 28.4ms\n",
      "image 1911/2500 /repos/uni-si/R2S4/DNN/End_project/images/test_v3/card_468.jpg: 320x320 1 rotated_photo, 14.0ms\n",
      "image 1912/2500 /repos/uni-si/R2S4/DNN/End_project/images/test_v3/card_469.jpg: 320x320 1 rotated_photo, 16.0ms\n",
      "image 1913/2500 /repos/uni-si/R2S4/DNN/End_project/images/test_v3/card_47.jpg: 320x320 1 rotated_photo, 13.3ms\n",
      "image 1914/2500 /repos/uni-si/R2S4/DNN/End_project/images/test_v3/card_470.jpg: 320x320 1 rotated_photo, 13.4ms\n",
      "image 1915/2500 /repos/uni-si/R2S4/DNN/End_project/images/test_v3/card_471.jpg: 320x320 1 rotated_photo, 13.6ms\n",
      "image 1916/2500 /repos/uni-si/R2S4/DNN/End_project/images/test_v3/card_472.jpg: 320x320 1 rotated_photo, 13.0ms\n",
      "image 1917/2500 /repos/uni-si/R2S4/DNN/End_project/images/test_v3/card_473.jpg: 320x320 1 rotated_photo, 15.2ms\n",
      "image 1918/2500 /repos/uni-si/R2S4/DNN/End_project/images/test_v3/card_474.jpg: 320x320 1 rotated_photo, 13.3ms\n",
      "image 1919/2500 /repos/uni-si/R2S4/DNN/End_project/images/test_v3/card_475.jpg: 320x320 1 rotated_photo, 43.0ms\n",
      "image 1920/2500 /repos/uni-si/R2S4/DNN/End_project/images/test_v3/card_476.jpg: 320x320 1 rotated_photo, 13.6ms\n",
      "image 1921/2500 /repos/uni-si/R2S4/DNN/End_project/images/test_v3/card_477.jpg: 320x320 1 rotated_photo, 13.2ms\n",
      "image 1922/2500 /repos/uni-si/R2S4/DNN/End_project/images/test_v3/card_478.jpg: 320x320 1 rotated_photo, 14.6ms\n",
      "image 1923/2500 /repos/uni-si/R2S4/DNN/End_project/images/test_v3/card_479.jpg: 320x320 1 rotated_photo, 14.0ms\n",
      "image 1924/2500 /repos/uni-si/R2S4/DNN/End_project/images/test_v3/card_48.jpg: 320x320 1 rotated_photo, 16.5ms\n",
      "image 1925/2500 /repos/uni-si/R2S4/DNN/End_project/images/test_v3/card_480.jpg: 320x320 1 rotated_photo, 14.1ms\n",
      "image 1926/2500 /repos/uni-si/R2S4/DNN/End_project/images/test_v3/card_481.jpg: 320x320 1 rotated_photo, 16.1ms\n",
      "image 1927/2500 /repos/uni-si/R2S4/DNN/End_project/images/test_v3/card_482.jpg: 320x320 1 rotated_photo, 15.3ms\n",
      "image 1928/2500 /repos/uni-si/R2S4/DNN/End_project/images/test_v3/card_483.jpg: 320x320 1 rotated_photo, 13.5ms\n",
      "image 1929/2500 /repos/uni-si/R2S4/DNN/End_project/images/test_v3/card_484.jpg: 320x320 1 rotated_photo, 14.0ms\n",
      "image 1930/2500 /repos/uni-si/R2S4/DNN/End_project/images/test_v3/card_485.jpg: 320x320 1 rotated_photo, 14.6ms\n",
      "image 1931/2500 /repos/uni-si/R2S4/DNN/End_project/images/test_v3/card_486.jpg: 320x320 1 rotated_photo, 22.8ms\n",
      "image 1932/2500 /repos/uni-si/R2S4/DNN/End_project/images/test_v3/card_487.jpg: 320x320 1 rotated_photo, 16.1ms\n",
      "image 1933/2500 /repos/uni-si/R2S4/DNN/End_project/images/test_v3/card_488.jpg: 320x320 1 rotated_photo, 25.6ms\n",
      "image 1934/2500 /repos/uni-si/R2S4/DNN/End_project/images/test_v3/card_489.jpg: 320x320 1 rotated_photo, 15.1ms\n",
      "image 1935/2500 /repos/uni-si/R2S4/DNN/End_project/images/test_v3/card_49.jpg: 320x320 1 rotated_photo, 13.8ms\n",
      "image 1936/2500 /repos/uni-si/R2S4/DNN/End_project/images/test_v3/card_490.jpg: 320x320 1 rotated_photo, 14.8ms\n",
      "image 1937/2500 /repos/uni-si/R2S4/DNN/End_project/images/test_v3/card_491.jpg: 320x320 1 rotated_photo, 21.2ms\n",
      "image 1938/2500 /repos/uni-si/R2S4/DNN/End_project/images/test_v3/card_492.jpg: 320x320 1 rotated_photo, 16.7ms\n",
      "image 1939/2500 /repos/uni-si/R2S4/DNN/End_project/images/test_v3/card_493.jpg: 320x320 1 rotated_photo, 14.3ms\n",
      "image 1940/2500 /repos/uni-si/R2S4/DNN/End_project/images/test_v3/card_494.jpg: 320x320 1 rotated_photo, 13.4ms\n",
      "image 1941/2500 /repos/uni-si/R2S4/DNN/End_project/images/test_v3/card_495.jpg: 320x320 1 rotated_photo, 21.2ms\n",
      "image 1942/2500 /repos/uni-si/R2S4/DNN/End_project/images/test_v3/card_496.jpg: 320x320 1 rotated_photo, 13.5ms\n",
      "image 1943/2500 /repos/uni-si/R2S4/DNN/End_project/images/test_v3/card_497.jpg: 320x320 1 rotated_photo, 14.3ms\n",
      "image 1944/2500 /repos/uni-si/R2S4/DNN/End_project/images/test_v3/card_498.jpg: 320x320 1 rotated_photo, 13.5ms\n",
      "image 1945/2500 /repos/uni-si/R2S4/DNN/End_project/images/test_v3/card_499.jpg: 320x320 1 rotated_photo, 14.5ms\n",
      "image 1946/2500 /repos/uni-si/R2S4/DNN/End_project/images/test_v3/card_5.jpg: 320x320 1 rotated_photo, 14.3ms\n",
      "image 1947/2500 /repos/uni-si/R2S4/DNN/End_project/images/test_v3/card_50.jpg: 320x320 1 rotated_photo, 14.6ms\n",
      "image 1948/2500 /repos/uni-si/R2S4/DNN/End_project/images/test_v3/card_500.jpg: 320x320 1 rotated_photo, 13.7ms\n",
      "image 1949/2500 /repos/uni-si/R2S4/DNN/End_project/images/test_v3/card_501.jpg: 320x320 1 rotated_photo, 14.5ms\n",
      "image 1950/2500 /repos/uni-si/R2S4/DNN/End_project/images/test_v3/card_502.jpg: 320x320 1 rotated_photo, 13.3ms\n",
      "image 1951/2500 /repos/uni-si/R2S4/DNN/End_project/images/test_v3/card_503.jpg: 320x320 1 rotated_photo, 13.3ms\n",
      "image 1952/2500 /repos/uni-si/R2S4/DNN/End_project/images/test_v3/card_504.jpg: 320x320 1 rotated_photo, 14.5ms\n",
      "image 1953/2500 /repos/uni-si/R2S4/DNN/End_project/images/test_v3/card_505.jpg: 320x320 1 rotated_photo, 14.6ms\n",
      "image 1954/2500 /repos/uni-si/R2S4/DNN/End_project/images/test_v3/card_506.jpg: 320x320 1 rotated_photo, 14.4ms\n",
      "image 1955/2500 /repos/uni-si/R2S4/DNN/End_project/images/test_v3/card_507.jpg: 320x320 1 rotated_photo, 14.2ms\n",
      "image 1956/2500 /repos/uni-si/R2S4/DNN/End_project/images/test_v3/card_508.jpg: 320x320 1 rotated_photo, 14.0ms\n",
      "image 1957/2500 /repos/uni-si/R2S4/DNN/End_project/images/test_v3/card_509.jpg: 320x320 1 rotated_photo, 13.6ms\n",
      "image 1958/2500 /repos/uni-si/R2S4/DNN/End_project/images/test_v3/card_51.jpg: 320x320 1 rotated_photo, 14.6ms\n",
      "image 1959/2500 /repos/uni-si/R2S4/DNN/End_project/images/test_v3/card_510.jpg: 320x320 1 rotated_photo, 25.2ms\n",
      "image 1960/2500 /repos/uni-si/R2S4/DNN/End_project/images/test_v3/card_511.jpg: 320x320 1 rotated_photo, 13.9ms\n",
      "image 1961/2500 /repos/uni-si/R2S4/DNN/End_project/images/test_v3/card_512.jpg: 320x320 1 rotated_photo, 15.3ms\n",
      "image 1962/2500 /repos/uni-si/R2S4/DNN/End_project/images/test_v3/card_513.jpg: 320x320 1 rotated_photo, 13.6ms\n",
      "image 1963/2500 /repos/uni-si/R2S4/DNN/End_project/images/test_v3/card_514.jpg: 320x320 1 rotated_photo, 14.4ms\n",
      "image 1964/2500 /repos/uni-si/R2S4/DNN/End_project/images/test_v3/card_515.jpg: 320x320 1 rotated_photo, 28.6ms\n",
      "image 1965/2500 /repos/uni-si/R2S4/DNN/End_project/images/test_v3/card_516.jpg: 320x320 1 rotated_photo, 13.1ms\n",
      "image 1966/2500 /repos/uni-si/R2S4/DNN/End_project/images/test_v3/card_517.jpg: 320x320 1 rotated_photo, 13.5ms\n",
      "image 1967/2500 /repos/uni-si/R2S4/DNN/End_project/images/test_v3/card_518.jpg: 320x320 1 rotated_photo, 16.9ms\n",
      "image 1968/2500 /repos/uni-si/R2S4/DNN/End_project/images/test_v3/card_519.jpg: 320x320 1 rotated_photo, 32.3ms\n",
      "image 1969/2500 /repos/uni-si/R2S4/DNN/End_project/images/test_v3/card_52.jpg: 320x320 1 rotated_photo, 23.0ms\n",
      "image 1970/2500 /repos/uni-si/R2S4/DNN/End_project/images/test_v3/card_520.jpg: 320x320 1 rotated_photo, 15.1ms\n",
      "image 1971/2500 /repos/uni-si/R2S4/DNN/End_project/images/test_v3/card_521.jpg: 320x320 1 rotated_photo, 14.7ms\n",
      "image 1972/2500 /repos/uni-si/R2S4/DNN/End_project/images/test_v3/card_522.jpg: 320x320 1 rotated_photo, 16.3ms\n",
      "image 1973/2500 /repos/uni-si/R2S4/DNN/End_project/images/test_v3/card_523.jpg: 320x320 1 rotated_photo, 23.2ms\n",
      "image 1974/2500 /repos/uni-si/R2S4/DNN/End_project/images/test_v3/card_524.jpg: 320x320 1 rotated_photo, 15.1ms\n",
      "image 1975/2500 /repos/uni-si/R2S4/DNN/End_project/images/test_v3/card_525.jpg: 320x320 1 rotated_photo, 33.1ms\n",
      "image 1976/2500 /repos/uni-si/R2S4/DNN/End_project/images/test_v3/card_526.jpg: 320x320 1 rotated_photo, 14.0ms\n",
      "image 1977/2500 /repos/uni-si/R2S4/DNN/End_project/images/test_v3/card_527.jpg: 320x320 1 rotated_photo, 13.9ms\n",
      "image 1978/2500 /repos/uni-si/R2S4/DNN/End_project/images/test_v3/card_528.jpg: 320x320 1 rotated_photo, 14.8ms\n",
      "image 1979/2500 /repos/uni-si/R2S4/DNN/End_project/images/test_v3/card_529.jpg: 320x320 1 rotated_photo, 13.9ms\n",
      "image 1980/2500 /repos/uni-si/R2S4/DNN/End_project/images/test_v3/card_53.jpg: 320x320 1 rotated_photo, 15.2ms\n",
      "image 1981/2500 /repos/uni-si/R2S4/DNN/End_project/images/test_v3/card_530.jpg: 320x320 1 rotated_photo, 13.9ms\n",
      "image 1982/2500 /repos/uni-si/R2S4/DNN/End_project/images/test_v3/card_531.jpg: 320x320 1 rotated_photo, 14.5ms\n",
      "image 1983/2500 /repos/uni-si/R2S4/DNN/End_project/images/test_v3/card_532.jpg: 320x320 1 rotated_photo, 15.1ms\n",
      "image 1984/2500 /repos/uni-si/R2S4/DNN/End_project/images/test_v3/card_533.jpg: 320x320 1 rotated_photo, 13.6ms\n",
      "image 1985/2500 /repos/uni-si/R2S4/DNN/End_project/images/test_v3/card_534.jpg: 320x320 1 rotated_photo, 14.8ms\n",
      "image 1986/2500 /repos/uni-si/R2S4/DNN/End_project/images/test_v3/card_535.jpg: 320x320 1 rotated_photo, 14.4ms\n",
      "image 1987/2500 /repos/uni-si/R2S4/DNN/End_project/images/test_v3/card_536.jpg: 320x320 1 rotated_photo, 40.2ms\n",
      "image 1988/2500 /repos/uni-si/R2S4/DNN/End_project/images/test_v3/card_537.jpg: 320x320 1 rotated_photo, 13.2ms\n",
      "image 1989/2500 /repos/uni-si/R2S4/DNN/End_project/images/test_v3/card_538.jpg: 320x320 1 rotated_photo, 14.3ms\n",
      "image 1990/2500 /repos/uni-si/R2S4/DNN/End_project/images/test_v3/card_539.jpg: 320x320 1 rotated_photo, 15.2ms\n",
      "image 1991/2500 /repos/uni-si/R2S4/DNN/End_project/images/test_v3/card_54.jpg: 320x320 1 rotated_photo, 14.7ms\n",
      "image 1992/2500 /repos/uni-si/R2S4/DNN/End_project/images/test_v3/card_540.jpg: 320x320 1 rotated_photo, 14.1ms\n",
      "image 1993/2500 /repos/uni-si/R2S4/DNN/End_project/images/test_v3/card_541.jpg: 320x320 1 rotated_photo, 14.1ms\n",
      "image 1994/2500 /repos/uni-si/R2S4/DNN/End_project/images/test_v3/card_542.jpg: 320x320 1 rotated_photo, 14.1ms\n",
      "image 1995/2500 /repos/uni-si/R2S4/DNN/End_project/images/test_v3/card_543.jpg: 320x320 1 rotated_photo, 15.2ms\n",
      "image 1996/2500 /repos/uni-si/R2S4/DNN/End_project/images/test_v3/card_544.jpg: 320x320 1 rotated_photo, 14.8ms\n",
      "image 1997/2500 /repos/uni-si/R2S4/DNN/End_project/images/test_v3/card_545.jpg: 320x320 1 rotated_photo, 13.9ms\n",
      "image 1998/2500 /repos/uni-si/R2S4/DNN/End_project/images/test_v3/card_546.jpg: 320x320 1 rotated_photo, 15.3ms\n",
      "image 1999/2500 /repos/uni-si/R2S4/DNN/End_project/images/test_v3/card_547.jpg: 320x320 1 rotated_photo, 14.0ms\n",
      "image 2000/2500 /repos/uni-si/R2S4/DNN/End_project/images/test_v3/card_548.jpg: 320x320 1 rotated_photo, 14.1ms\n",
      "image 2001/2500 /repos/uni-si/R2S4/DNN/End_project/images/test_v3/card_549.jpg: 320x320 1 rotated_photo, 13.9ms\n",
      "image 2002/2500 /repos/uni-si/R2S4/DNN/End_project/images/test_v3/card_55.jpg: 320x320 1 rotated_photo, 14.0ms\n",
      "image 2003/2500 /repos/uni-si/R2S4/DNN/End_project/images/test_v3/card_550.jpg: 320x320 1 rotated_photo, 13.9ms\n",
      "image 2004/2500 /repos/uni-si/R2S4/DNN/End_project/images/test_v3/card_551.jpg: 320x320 1 rotated_photo, 13.4ms\n",
      "image 2005/2500 /repos/uni-si/R2S4/DNN/End_project/images/test_v3/card_552.jpg: 320x320 1 rotated_photo, 41.2ms\n",
      "image 2006/2500 /repos/uni-si/R2S4/DNN/End_project/images/test_v3/card_553.jpg: 320x320 1 rotated_photo, 14.0ms\n",
      "image 2007/2500 /repos/uni-si/R2S4/DNN/End_project/images/test_v3/card_554.jpg: 320x320 1 rotated_photo, 13.9ms\n",
      "image 2008/2500 /repos/uni-si/R2S4/DNN/End_project/images/test_v3/card_555.jpg: 320x320 1 rotated_photo, 12.9ms\n",
      "image 2009/2500 /repos/uni-si/R2S4/DNN/End_project/images/test_v3/card_556.jpg: 320x320 1 rotated_photo, 12.8ms\n",
      "image 2010/2500 /repos/uni-si/R2S4/DNN/End_project/images/test_v3/card_557.jpg: 320x320 1 rotated_photo, 12.7ms\n",
      "image 2011/2500 /repos/uni-si/R2S4/DNN/End_project/images/test_v3/card_558.jpg: 320x320 1 rotated_photo, 14.1ms\n",
      "image 2012/2500 /repos/uni-si/R2S4/DNN/End_project/images/test_v3/card_559.jpg: 320x320 1 rotated_photo, 14.9ms\n",
      "image 2013/2500 /repos/uni-si/R2S4/DNN/End_project/images/test_v3/card_56.jpg: 320x320 1 rotated_photo, 38.1ms\n",
      "image 2014/2500 /repos/uni-si/R2S4/DNN/End_project/images/test_v3/card_560.jpg: 320x320 1 rotated_photo, 13.6ms\n",
      "image 2015/2500 /repos/uni-si/R2S4/DNN/End_project/images/test_v3/card_561.jpg: 320x320 1 rotated_photo, 14.0ms\n",
      "image 2016/2500 /repos/uni-si/R2S4/DNN/End_project/images/test_v3/card_562.jpg: 320x320 1 rotated_photo, 16.8ms\n",
      "image 2017/2500 /repos/uni-si/R2S4/DNN/End_project/images/test_v3/card_563.jpg: 320x320 1 rotated_photo, 13.5ms\n",
      "image 2018/2500 /repos/uni-si/R2S4/DNN/End_project/images/test_v3/card_564.jpg: 320x320 1 rotated_photo, 22.4ms\n",
      "image 2019/2500 /repos/uni-si/R2S4/DNN/End_project/images/test_v3/card_565.jpg: 320x320 1 rotated_photo, 21.1ms\n",
      "image 2020/2500 /repos/uni-si/R2S4/DNN/End_project/images/test_v3/card_566.jpg: 320x320 1 rotated_photo, 15.2ms\n",
      "image 2021/2500 /repos/uni-si/R2S4/DNN/End_project/images/test_v3/card_567.jpg: 320x320 1 rotated_photo, 19.2ms\n",
      "image 2022/2500 /repos/uni-si/R2S4/DNN/End_project/images/test_v3/card_568.jpg: 320x320 1 rotated_photo, 22.1ms\n",
      "image 2023/2500 /repos/uni-si/R2S4/DNN/End_project/images/test_v3/card_569.jpg: 320x320 1 rotated_photo, 17.1ms\n",
      "image 2024/2500 /repos/uni-si/R2S4/DNN/End_project/images/test_v3/card_57.jpg: 320x320 1 rotated_photo, 26.4ms\n",
      "image 2025/2500 /repos/uni-si/R2S4/DNN/End_project/images/test_v3/card_570.jpg: 320x320 1 rotated_photo, 13.9ms\n",
      "image 2026/2500 /repos/uni-si/R2S4/DNN/End_project/images/test_v3/card_571.jpg: 320x320 1 rotated_photo, 17.7ms\n",
      "image 2027/2500 /repos/uni-si/R2S4/DNN/End_project/images/test_v3/card_572.jpg: 320x320 1 rotated_photo, 14.3ms\n",
      "image 2028/2500 /repos/uni-si/R2S4/DNN/End_project/images/test_v3/card_573.jpg: 320x320 1 rotated_photo, 15.4ms\n",
      "image 2029/2500 /repos/uni-si/R2S4/DNN/End_project/images/test_v3/card_574.jpg: 320x320 1 rotated_photo, 14.4ms\n",
      "image 2030/2500 /repos/uni-si/R2S4/DNN/End_project/images/test_v3/card_575.jpg: 320x320 1 rotated_photo, 12.8ms\n",
      "image 2031/2500 /repos/uni-si/R2S4/DNN/End_project/images/test_v3/card_576.jpg: 320x320 1 rotated_photo, 13.7ms\n",
      "image 2032/2500 /repos/uni-si/R2S4/DNN/End_project/images/test_v3/card_577.jpg: 320x320 1 rotated_photo, 13.5ms\n",
      "image 2033/2500 /repos/uni-si/R2S4/DNN/End_project/images/test_v3/card_578.jpg: 320x320 1 rotated_photo, 15.3ms\n",
      "image 2034/2500 /repos/uni-si/R2S4/DNN/End_project/images/test_v3/card_579.jpg: 320x320 1 rotated_photo, 13.7ms\n",
      "image 2035/2500 /repos/uni-si/R2S4/DNN/End_project/images/test_v3/card_58.jpg: 320x320 1 rotated_photo, 13.1ms\n",
      "image 2036/2500 /repos/uni-si/R2S4/DNN/End_project/images/test_v3/card_580.jpg: 320x320 1 rotated_photo, 13.7ms\n",
      "image 2037/2500 /repos/uni-si/R2S4/DNN/End_project/images/test_v3/card_581.jpg: 320x320 1 rotated_photo, 14.2ms\n",
      "image 2038/2500 /repos/uni-si/R2S4/DNN/End_project/images/test_v3/card_582.jpg: 320x320 1 rotated_photo, 41.3ms\n",
      "image 2039/2500 /repos/uni-si/R2S4/DNN/End_project/images/test_v3/card_583.jpg: 320x320 1 rotated_photo, 13.6ms\n",
      "image 2040/2500 /repos/uni-si/R2S4/DNN/End_project/images/test_v3/card_584.jpg: 320x320 1 rotated_photo, 14.0ms\n",
      "image 2041/2500 /repos/uni-si/R2S4/DNN/End_project/images/test_v3/card_585.jpg: 320x320 1 rotated_photo, 21.9ms\n",
      "image 2042/2500 /repos/uni-si/R2S4/DNN/End_project/images/test_v3/card_586.jpg: 320x320 1 rotated_photo, 15.0ms\n",
      "image 2043/2500 /repos/uni-si/R2S4/DNN/End_project/images/test_v3/card_587.jpg: 320x320 1 rotated_photo, 15.0ms\n",
      "image 2044/2500 /repos/uni-si/R2S4/DNN/End_project/images/test_v3/card_588.jpg: 320x320 1 rotated_photo, 15.6ms\n",
      "image 2045/2500 /repos/uni-si/R2S4/DNN/End_project/images/test_v3/card_589.jpg: 320x320 1 rotated_photo, 32.5ms\n",
      "image 2046/2500 /repos/uni-si/R2S4/DNN/End_project/images/test_v3/card_59.jpg: 320x320 1 rotated_photo, 13.8ms\n",
      "image 2047/2500 /repos/uni-si/R2S4/DNN/End_project/images/test_v3/card_590.jpg: 320x320 1 rotated_photo, 14.0ms\n",
      "image 2048/2500 /repos/uni-si/R2S4/DNN/End_project/images/test_v3/card_591.jpg: 320x320 1 rotated_photo, 13.3ms\n",
      "image 2049/2500 /repos/uni-si/R2S4/DNN/End_project/images/test_v3/card_592.jpg: 320x320 1 rotated_photo, 15.8ms\n",
      "image 2050/2500 /repos/uni-si/R2S4/DNN/End_project/images/test_v3/card_593.jpg: 320x320 1 rotated_photo, 13.5ms\n",
      "image 2051/2500 /repos/uni-si/R2S4/DNN/End_project/images/test_v3/card_594.jpg: 320x320 1 rotated_photo, 13.7ms\n",
      "image 2052/2500 /repos/uni-si/R2S4/DNN/End_project/images/test_v3/card_595.jpg: 320x320 1 rotated_photo, 14.3ms\n",
      "image 2053/2500 /repos/uni-si/R2S4/DNN/End_project/images/test_v3/card_596.jpg: 320x320 1 rotated_photo, 27.8ms\n",
      "image 2054/2500 /repos/uni-si/R2S4/DNN/End_project/images/test_v3/card_597.jpg: 320x320 1 rotated_photo, 13.9ms\n",
      "image 2055/2500 /repos/uni-si/R2S4/DNN/End_project/images/test_v3/card_598.jpg: 320x320 1 rotated_photo, 14.4ms\n",
      "image 2056/2500 /repos/uni-si/R2S4/DNN/End_project/images/test_v3/card_599.jpg: 320x320 1 rotated_photo, 14.2ms\n",
      "image 2057/2500 /repos/uni-si/R2S4/DNN/End_project/images/test_v3/card_6.jpg: 320x320 1 rotated_photo, 14.6ms\n",
      "image 2058/2500 /repos/uni-si/R2S4/DNN/End_project/images/test_v3/card_60.jpg: 320x320 1 rotated_photo, 15.0ms\n",
      "image 2059/2500 /repos/uni-si/R2S4/DNN/End_project/images/test_v3/card_600.jpg: 320x320 1 rotated_photo, 15.7ms\n",
      "image 2060/2500 /repos/uni-si/R2S4/DNN/End_project/images/test_v3/card_601.jpg: 320x320 1 rotated_photo, 14.5ms\n",
      "image 2061/2500 /repos/uni-si/R2S4/DNN/End_project/images/test_v3/card_602.jpg: 320x320 1 rotated_photo, 21.8ms\n",
      "image 2062/2500 /repos/uni-si/R2S4/DNN/End_project/images/test_v3/card_603.jpg: 320x320 1 rotated_photo, 14.2ms\n",
      "image 2063/2500 /repos/uni-si/R2S4/DNN/End_project/images/test_v3/card_604.jpg: 320x320 1 rotated_photo, 18.5ms\n",
      "image 2064/2500 /repos/uni-si/R2S4/DNN/End_project/images/test_v3/card_605.jpg: 320x320 1 rotated_photo, 14.0ms\n",
      "image 2065/2500 /repos/uni-si/R2S4/DNN/End_project/images/test_v3/card_606.jpg: 320x320 1 rotated_photo, 30.4ms\n",
      "image 2066/2500 /repos/uni-si/R2S4/DNN/End_project/images/test_v3/card_607.jpg: 320x320 1 rotated_photo, 14.4ms\n",
      "image 2067/2500 /repos/uni-si/R2S4/DNN/End_project/images/test_v3/card_608.jpg: 320x320 1 rotated_photo, 13.7ms\n",
      "image 2068/2500 /repos/uni-si/R2S4/DNN/End_project/images/test_v3/card_609.jpg: 320x320 1 rotated_photo, 14.2ms\n",
      "image 2069/2500 /repos/uni-si/R2S4/DNN/End_project/images/test_v3/card_61.jpg: 320x320 1 rotated_photo, 13.2ms\n",
      "image 2070/2500 /repos/uni-si/R2S4/DNN/End_project/images/test_v3/card_610.jpg: 320x320 1 rotated_photo, 13.7ms\n",
      "image 2071/2500 /repos/uni-si/R2S4/DNN/End_project/images/test_v3/card_611.jpg: 320x320 1 rotated_photo, 14.0ms\n",
      "image 2072/2500 /repos/uni-si/R2S4/DNN/End_project/images/test_v3/card_612.jpg: 320x320 1 rotated_photo, 15.6ms\n",
      "image 2073/2500 /repos/uni-si/R2S4/DNN/End_project/images/test_v3/card_613.jpg: 320x320 1 rotated_photo, 14.1ms\n",
      "image 2074/2500 /repos/uni-si/R2S4/DNN/End_project/images/test_v3/card_614.jpg: 320x320 1 rotated_photo, 14.2ms\n",
      "image 2075/2500 /repos/uni-si/R2S4/DNN/End_project/images/test_v3/card_615.jpg: 320x320 1 rotated_photo, 13.9ms\n",
      "image 2076/2500 /repos/uni-si/R2S4/DNN/End_project/images/test_v3/card_616.jpg: 320x320 1 rotated_photo, 13.3ms\n",
      "image 2077/2500 /repos/uni-si/R2S4/DNN/End_project/images/test_v3/card_617.jpg: 320x320 1 rotated_photo, 13.3ms\n",
      "image 2078/2500 /repos/uni-si/R2S4/DNN/End_project/images/test_v3/card_618.jpg: 320x320 1 rotated_photo, 38.9ms\n",
      "image 2079/2500 /repos/uni-si/R2S4/DNN/End_project/images/test_v3/card_619.jpg: 320x320 1 rotated_photo, 13.4ms\n",
      "image 2080/2500 /repos/uni-si/R2S4/DNN/End_project/images/test_v3/card_62.jpg: 320x320 1 rotated_photo, 14.3ms\n",
      "image 2081/2500 /repos/uni-si/R2S4/DNN/End_project/images/test_v3/card_620.jpg: 320x320 1 rotated_photo, 15.4ms\n",
      "image 2082/2500 /repos/uni-si/R2S4/DNN/End_project/images/test_v3/card_621.jpg: 320x320 1 rotated_photo, 15.1ms\n",
      "image 2083/2500 /repos/uni-si/R2S4/DNN/End_project/images/test_v3/card_622.jpg: 320x320 1 rotated_photo, 15.0ms\n",
      "image 2084/2500 /repos/uni-si/R2S4/DNN/End_project/images/test_v3/card_623.jpg: 320x320 1 rotated_photo, 13.9ms\n",
      "image 2085/2500 /repos/uni-si/R2S4/DNN/End_project/images/test_v3/card_624.jpg: 320x320 1 rotated_photo, 25.3ms\n",
      "image 2086/2500 /repos/uni-si/R2S4/DNN/End_project/images/test_v3/card_625.jpg: 320x320 1 rotated_photo, 15.6ms\n",
      "image 2087/2500 /repos/uni-si/R2S4/DNN/End_project/images/test_v3/card_626.jpg: 320x320 1 rotated_photo, 16.1ms\n",
      "image 2088/2500 /repos/uni-si/R2S4/DNN/End_project/images/test_v3/card_627.jpg: 320x320 1 rotated_photo, 15.4ms\n",
      "image 2089/2500 /repos/uni-si/R2S4/DNN/End_project/images/test_v3/card_628.jpg: 320x320 1 rotated_photo, 14.0ms\n",
      "image 2090/2500 /repos/uni-si/R2S4/DNN/End_project/images/test_v3/card_629.jpg: 320x320 1 rotated_photo, 15.1ms\n",
      "image 2091/2500 /repos/uni-si/R2S4/DNN/End_project/images/test_v3/card_63.jpg: 320x320 1 rotated_photo, 20.2ms\n",
      "image 2092/2500 /repos/uni-si/R2S4/DNN/End_project/images/test_v3/card_630.jpg: 320x320 1 rotated_photo, 14.6ms\n",
      "image 2093/2500 /repos/uni-si/R2S4/DNN/End_project/images/test_v3/card_631.jpg: 320x320 1 rotated_photo, 14.0ms\n",
      "image 2094/2500 /repos/uni-si/R2S4/DNN/End_project/images/test_v3/card_632.jpg: 320x320 1 rotated_photo, 13.5ms\n",
      "image 2095/2500 /repos/uni-si/R2S4/DNN/End_project/images/test_v3/card_633.jpg: 320x320 1 rotated_photo, 13.5ms\n",
      "image 2096/2500 /repos/uni-si/R2S4/DNN/End_project/images/test_v3/card_634.jpg: 320x320 1 rotated_photo, 23.8ms\n",
      "image 2097/2500 /repos/uni-si/R2S4/DNN/End_project/images/test_v3/card_635.jpg: 320x320 1 rotated_photo, 15.1ms\n",
      "image 2098/2500 /repos/uni-si/R2S4/DNN/End_project/images/test_v3/card_636.jpg: 320x320 1 rotated_photo, 13.5ms\n",
      "image 2099/2500 /repos/uni-si/R2S4/DNN/End_project/images/test_v3/card_637.jpg: 320x320 1 rotated_photo, 15.7ms\n",
      "image 2100/2500 /repos/uni-si/R2S4/DNN/End_project/images/test_v3/card_638.jpg: 320x320 1 rotated_photo, 14.0ms\n",
      "image 2101/2500 /repos/uni-si/R2S4/DNN/End_project/images/test_v3/card_639.jpg: 320x320 1 rotated_photo, 14.8ms\n",
      "image 2102/2500 /repos/uni-si/R2S4/DNN/End_project/images/test_v3/card_64.jpg: 320x320 1 rotated_photo, 14.1ms\n",
      "image 2103/2500 /repos/uni-si/R2S4/DNN/End_project/images/test_v3/card_640.jpg: 320x320 1 rotated_photo, 14.7ms\n",
      "image 2104/2500 /repos/uni-si/R2S4/DNN/End_project/images/test_v3/card_641.jpg: 320x320 1 rotated_photo, 14.4ms\n",
      "image 2105/2500 /repos/uni-si/R2S4/DNN/End_project/images/test_v3/card_642.jpg: 320x320 1 rotated_photo, 15.7ms\n",
      "image 2106/2500 /repos/uni-si/R2S4/DNN/End_project/images/test_v3/card_643.jpg: 320x320 1 rotated_photo, 13.6ms\n",
      "image 2107/2500 /repos/uni-si/R2S4/DNN/End_project/images/test_v3/card_644.jpg: 320x320 1 rotated_photo, 14.6ms\n",
      "image 2108/2500 /repos/uni-si/R2S4/DNN/End_project/images/test_v3/card_645.jpg: 320x320 1 rotated_photo, 15.2ms\n",
      "image 2109/2500 /repos/uni-si/R2S4/DNN/End_project/images/test_v3/card_646.jpg: 320x320 1 rotated_photo, 14.6ms\n",
      "image 2110/2500 /repos/uni-si/R2S4/DNN/End_project/images/test_v3/card_647.jpg: 320x320 1 rotated_photo, 14.6ms\n",
      "image 2111/2500 /repos/uni-si/R2S4/DNN/End_project/images/test_v3/card_648.jpg: 320x320 1 rotated_photo, 13.7ms\n",
      "image 2112/2500 /repos/uni-si/R2S4/DNN/End_project/images/test_v3/card_649.jpg: 320x320 1 rotated_photo, 13.7ms\n",
      "image 2113/2500 /repos/uni-si/R2S4/DNN/End_project/images/test_v3/card_65.jpg: 320x320 1 rotated_photo, 14.0ms\n",
      "image 2114/2500 /repos/uni-si/R2S4/DNN/End_project/images/test_v3/card_650.jpg: 320x320 1 rotated_photo, 13.6ms\n",
      "image 2115/2500 /repos/uni-si/R2S4/DNN/End_project/images/test_v3/card_651.jpg: 320x320 1 rotated_photo, 13.4ms\n",
      "image 2116/2500 /repos/uni-si/R2S4/DNN/End_project/images/test_v3/card_652.jpg: 320x320 1 rotated_photo, 13.4ms\n",
      "image 2117/2500 /repos/uni-si/R2S4/DNN/End_project/images/test_v3/card_653.jpg: 320x320 1 rotated_photo, 14.1ms\n",
      "image 2118/2500 /repos/uni-si/R2S4/DNN/End_project/images/test_v3/card_654.jpg: 320x320 1 rotated_photo, 14.1ms\n",
      "image 2119/2500 /repos/uni-si/R2S4/DNN/End_project/images/test_v3/card_655.jpg: 320x320 1 rotated_photo, 27.5ms\n",
      "image 2120/2500 /repos/uni-si/R2S4/DNN/End_project/images/test_v3/card_656.jpg: 320x320 1 rotated_photo, 31.0ms\n",
      "image 2121/2500 /repos/uni-si/R2S4/DNN/End_project/images/test_v3/card_657.jpg: 320x320 1 rotated_photo, 33.4ms\n",
      "image 2122/2500 /repos/uni-si/R2S4/DNN/End_project/images/test_v3/card_658.jpg: 320x320 1 rotated_photo, 14.1ms\n",
      "image 2123/2500 /repos/uni-si/R2S4/DNN/End_project/images/test_v3/card_659.jpg: 320x320 1 rotated_photo, 13.9ms\n",
      "image 2124/2500 /repos/uni-si/R2S4/DNN/End_project/images/test_v3/card_66.jpg: 320x320 1 rotated_photo, 12.9ms\n",
      "image 2125/2500 /repos/uni-si/R2S4/DNN/End_project/images/test_v3/card_660.jpg: 320x320 1 rotated_photo, 14.6ms\n",
      "image 2126/2500 /repos/uni-si/R2S4/DNN/End_project/images/test_v3/card_661.jpg: 320x320 1 rotated_photo, 15.2ms\n",
      "image 2127/2500 /repos/uni-si/R2S4/DNN/End_project/images/test_v3/card_662.jpg: 320x320 1 rotated_photo, 14.0ms\n",
      "image 2128/2500 /repos/uni-si/R2S4/DNN/End_project/images/test_v3/card_663.jpg: 320x320 1 rotated_photo, 13.9ms\n",
      "image 2129/2500 /repos/uni-si/R2S4/DNN/End_project/images/test_v3/card_664.jpg: 320x320 1 rotated_photo, 14.1ms\n",
      "image 2130/2500 /repos/uni-si/R2S4/DNN/End_project/images/test_v3/card_665.jpg: 320x320 1 rotated_photo, 13.7ms\n",
      "image 2131/2500 /repos/uni-si/R2S4/DNN/End_project/images/test_v3/card_666.jpg: 320x320 1 rotated_photo, 13.7ms\n",
      "image 2132/2500 /repos/uni-si/R2S4/DNN/End_project/images/test_v3/card_667.jpg: 320x320 1 rotated_photo, 18.5ms\n",
      "image 2133/2500 /repos/uni-si/R2S4/DNN/End_project/images/test_v3/card_668.jpg: 320x320 1 rotated_photo, 13.9ms\n",
      "image 2134/2500 /repos/uni-si/R2S4/DNN/End_project/images/test_v3/card_669.jpg: 320x320 1 rotated_photo, 29.0ms\n",
      "image 2135/2500 /repos/uni-si/R2S4/DNN/End_project/images/test_v3/card_67.jpg: 320x320 1 rotated_photo, 23.3ms\n",
      "image 2136/2500 /repos/uni-si/R2S4/DNN/End_project/images/test_v3/card_670.jpg: 320x320 1 rotated_photo, 14.2ms\n",
      "image 2137/2500 /repos/uni-si/R2S4/DNN/End_project/images/test_v3/card_671.jpg: 320x320 1 rotated_photo, 17.0ms\n",
      "image 2138/2500 /repos/uni-si/R2S4/DNN/End_project/images/test_v3/card_672.jpg: 320x320 1 rotated_photo, 68.3ms\n",
      "image 2139/2500 /repos/uni-si/R2S4/DNN/End_project/images/test_v3/card_673.jpg: 320x320 1 rotated_photo, 28.8ms\n",
      "image 2140/2500 /repos/uni-si/R2S4/DNN/End_project/images/test_v3/card_674.jpg: 320x320 1 rotated_photo, 24.3ms\n",
      "image 2141/2500 /repos/uni-si/R2S4/DNN/End_project/images/test_v3/card_675.jpg: 320x320 1 rotated_photo, 28.2ms\n",
      "image 2142/2500 /repos/uni-si/R2S4/DNN/End_project/images/test_v3/card_676.jpg: 320x320 1 rotated_photo, 18.1ms\n",
      "image 2143/2500 /repos/uni-si/R2S4/DNN/End_project/images/test_v3/card_677.jpg: 320x320 1 rotated_photo, 41.5ms\n",
      "image 2144/2500 /repos/uni-si/R2S4/DNN/End_project/images/test_v3/card_678.jpg: 320x320 1 rotated_photo, 16.7ms\n",
      "image 2145/2500 /repos/uni-si/R2S4/DNN/End_project/images/test_v3/card_679.jpg: 320x320 1 rotated_photo, 20.6ms\n",
      "image 2146/2500 /repos/uni-si/R2S4/DNN/End_project/images/test_v3/card_68.jpg: 320x320 1 rotated_photo, 21.3ms\n",
      "image 2147/2500 /repos/uni-si/R2S4/DNN/End_project/images/test_v3/card_680.jpg: 320x320 1 rotated_photo, 17.6ms\n",
      "image 2148/2500 /repos/uni-si/R2S4/DNN/End_project/images/test_v3/card_681.jpg: 320x320 1 rotated_photo, 24.2ms\n",
      "image 2149/2500 /repos/uni-si/R2S4/DNN/End_project/images/test_v3/card_682.jpg: 320x320 1 rotated_photo, 24.2ms\n",
      "image 2150/2500 /repos/uni-si/R2S4/DNN/End_project/images/test_v3/card_683.jpg: 320x320 1 rotated_photo, 20.2ms\n",
      "image 2151/2500 /repos/uni-si/R2S4/DNN/End_project/images/test_v3/card_684.jpg: 320x320 1 rotated_photo, 17.3ms\n",
      "image 2152/2500 /repos/uni-si/R2S4/DNN/End_project/images/test_v3/card_685.jpg: 320x320 1 rotated_photo, 16.5ms\n",
      "image 2153/2500 /repos/uni-si/R2S4/DNN/End_project/images/test_v3/card_686.jpg: 320x320 1 rotated_photo, 17.4ms\n",
      "image 2154/2500 /repos/uni-si/R2S4/DNN/End_project/images/test_v3/card_687.jpg: 320x320 1 rotated_photo, 15.8ms\n",
      "image 2155/2500 /repos/uni-si/R2S4/DNN/End_project/images/test_v3/card_688.jpg: 320x320 1 rotated_photo, 16.3ms\n",
      "image 2156/2500 /repos/uni-si/R2S4/DNN/End_project/images/test_v3/card_689.jpg: 320x320 1 rotated_photo, 15.3ms\n",
      "image 2157/2500 /repos/uni-si/R2S4/DNN/End_project/images/test_v3/card_69.jpg: 320x320 1 rotated_photo, 24.6ms\n",
      "image 2158/2500 /repos/uni-si/R2S4/DNN/End_project/images/test_v3/card_690.jpg: 320x320 1 rotated_photo, 14.9ms\n",
      "image 2159/2500 /repos/uni-si/R2S4/DNN/End_project/images/test_v3/card_691.jpg: 320x320 1 rotated_photo, 14.2ms\n",
      "image 2160/2500 /repos/uni-si/R2S4/DNN/End_project/images/test_v3/card_692.jpg: 320x320 1 rotated_photo, 13.1ms\n",
      "image 2161/2500 /repos/uni-si/R2S4/DNN/End_project/images/test_v3/card_693.jpg: 320x320 1 rotated_photo, 13.6ms\n",
      "image 2162/2500 /repos/uni-si/R2S4/DNN/End_project/images/test_v3/card_694.jpg: 320x320 1 rotated_photo, 14.1ms\n",
      "image 2163/2500 /repos/uni-si/R2S4/DNN/End_project/images/test_v3/card_695.jpg: 320x320 1 rotated_photo, 15.3ms\n",
      "image 2164/2500 /repos/uni-si/R2S4/DNN/End_project/images/test_v3/card_696.jpg: 320x320 1 rotated_photo, 15.2ms\n",
      "image 2165/2500 /repos/uni-si/R2S4/DNN/End_project/images/test_v3/card_697.jpg: 320x320 1 rotated_photo, 14.5ms\n",
      "image 2166/2500 /repos/uni-si/R2S4/DNN/End_project/images/test_v3/card_698.jpg: 320x320 1 rotated_photo, 14.3ms\n",
      "image 2167/2500 /repos/uni-si/R2S4/DNN/End_project/images/test_v3/card_699.jpg: 320x320 1 rotated_photo, 13.7ms\n",
      "image 2168/2500 /repos/uni-si/R2S4/DNN/End_project/images/test_v3/card_7.jpg: 320x320 1 rotated_photo, 14.3ms\n",
      "image 2169/2500 /repos/uni-si/R2S4/DNN/End_project/images/test_v3/card_70.jpg: 320x320 1 rotated_photo, 15.1ms\n",
      "image 2170/2500 /repos/uni-si/R2S4/DNN/End_project/images/test_v3/card_700.jpg: 320x320 1 rotated_photo, 15.9ms\n",
      "image 2171/2500 /repos/uni-si/R2S4/DNN/End_project/images/test_v3/card_701.jpg: 320x320 1 rotated_photo, 15.4ms\n",
      "image 2172/2500 /repos/uni-si/R2S4/DNN/End_project/images/test_v3/card_702.jpg: 320x320 1 rotated_photo, 14.7ms\n",
      "image 2173/2500 /repos/uni-si/R2S4/DNN/End_project/images/test_v3/card_703.jpg: 320x320 1 rotated_photo, 15.1ms\n",
      "image 2174/2500 /repos/uni-si/R2S4/DNN/End_project/images/test_v3/card_704.jpg: 320x320 1 rotated_photo, 14.3ms\n",
      "image 2175/2500 /repos/uni-si/R2S4/DNN/End_project/images/test_v3/card_705.jpg: 320x320 1 rotated_photo, 15.8ms\n",
      "image 2176/2500 /repos/uni-si/R2S4/DNN/End_project/images/test_v3/card_706.jpg: 320x320 1 rotated_photo, 17.0ms\n",
      "image 2177/2500 /repos/uni-si/R2S4/DNN/End_project/images/test_v3/card_707.jpg: 320x320 1 rotated_photo, 15.2ms\n",
      "image 2178/2500 /repos/uni-si/R2S4/DNN/End_project/images/test_v3/card_708.jpg: 320x320 1 rotated_photo, 15.0ms\n",
      "image 2179/2500 /repos/uni-si/R2S4/DNN/End_project/images/test_v3/card_709.jpg: 320x320 1 rotated_photo, 14.3ms\n",
      "image 2180/2500 /repos/uni-si/R2S4/DNN/End_project/images/test_v3/card_71.jpg: 320x320 1 rotated_photo, 35.1ms\n",
      "image 2181/2500 /repos/uni-si/R2S4/DNN/End_project/images/test_v3/card_710.jpg: 320x320 1 rotated_photo, 44.2ms\n",
      "image 2182/2500 /repos/uni-si/R2S4/DNN/End_project/images/test_v3/card_711.jpg: 320x320 1 rotated_photo, 15.1ms\n",
      "image 2183/2500 /repos/uni-si/R2S4/DNN/End_project/images/test_v3/card_712.jpg: 320x320 1 rotated_photo, 16.4ms\n",
      "image 2184/2500 /repos/uni-si/R2S4/DNN/End_project/images/test_v3/card_713.jpg: 320x320 1 rotated_photo, 14.4ms\n",
      "image 2185/2500 /repos/uni-si/R2S4/DNN/End_project/images/test_v3/card_714.jpg: 320x320 1 rotated_photo, 17.8ms\n",
      "image 2186/2500 /repos/uni-si/R2S4/DNN/End_project/images/test_v3/card_715.jpg: 320x320 1 rotated_photo, 15.3ms\n",
      "image 2187/2500 /repos/uni-si/R2S4/DNN/End_project/images/test_v3/card_716.jpg: 320x320 1 rotated_photo, 14.3ms\n",
      "image 2188/2500 /repos/uni-si/R2S4/DNN/End_project/images/test_v3/card_717.jpg: 320x320 1 rotated_photo, 14.0ms\n",
      "image 2189/2500 /repos/uni-si/R2S4/DNN/End_project/images/test_v3/card_718.jpg: 320x320 1 rotated_photo, 13.3ms\n",
      "image 2190/2500 /repos/uni-si/R2S4/DNN/End_project/images/test_v3/card_719.jpg: 320x320 1 rotated_photo, 14.9ms\n",
      "image 2191/2500 /repos/uni-si/R2S4/DNN/End_project/images/test_v3/card_72.jpg: 320x320 1 rotated_photo, 15.3ms\n",
      "image 2192/2500 /repos/uni-si/R2S4/DNN/End_project/images/test_v3/card_720.jpg: 320x320 1 rotated_photo, 15.9ms\n",
      "image 2193/2500 /repos/uni-si/R2S4/DNN/End_project/images/test_v3/card_721.jpg: 320x320 1 rotated_photo, 13.9ms\n",
      "image 2194/2500 /repos/uni-si/R2S4/DNN/End_project/images/test_v3/card_722.jpg: 320x320 1 rotated_photo, 13.7ms\n",
      "image 2195/2500 /repos/uni-si/R2S4/DNN/End_project/images/test_v3/card_723.jpg: 320x320 1 rotated_photo, 14.7ms\n",
      "image 2196/2500 /repos/uni-si/R2S4/DNN/End_project/images/test_v3/card_724.jpg: 320x320 1 rotated_photo, 14.0ms\n",
      "image 2197/2500 /repos/uni-si/R2S4/DNN/End_project/images/test_v3/card_725.jpg: 320x320 1 rotated_photo, 15.6ms\n",
      "image 2198/2500 /repos/uni-si/R2S4/DNN/End_project/images/test_v3/card_726.jpg: 320x320 1 rotated_photo, 16.6ms\n",
      "image 2199/2500 /repos/uni-si/R2S4/DNN/End_project/images/test_v3/card_727.jpg: 320x320 1 rotated_photo, 16.8ms\n",
      "image 2200/2500 /repos/uni-si/R2S4/DNN/End_project/images/test_v3/card_728.jpg: 320x320 1 rotated_photo, 14.2ms\n",
      "image 2201/2500 /repos/uni-si/R2S4/DNN/End_project/images/test_v3/card_729.jpg: 320x320 1 rotated_photo, 15.5ms\n",
      "image 2202/2500 /repos/uni-si/R2S4/DNN/End_project/images/test_v3/card_73.jpg: 320x320 1 rotated_photo, 15.2ms\n",
      "image 2203/2500 /repos/uni-si/R2S4/DNN/End_project/images/test_v3/card_730.jpg: 320x320 1 rotated_photo, 13.8ms\n",
      "image 2204/2500 /repos/uni-si/R2S4/DNN/End_project/images/test_v3/card_731.jpg: 320x320 1 rotated_photo, 14.7ms\n",
      "image 2205/2500 /repos/uni-si/R2S4/DNN/End_project/images/test_v3/card_732.jpg: 320x320 1 rotated_photo, 17.5ms\n",
      "image 2206/2500 /repos/uni-si/R2S4/DNN/End_project/images/test_v3/card_733.jpg: 320x320 1 rotated_photo, 16.2ms\n",
      "image 2207/2500 /repos/uni-si/R2S4/DNN/End_project/images/test_v3/card_734.jpg: 320x320 1 rotated_photo, 14.6ms\n",
      "image 2208/2500 /repos/uni-si/R2S4/DNN/End_project/images/test_v3/card_735.jpg: 320x320 1 rotated_photo, 28.4ms\n",
      "image 2209/2500 /repos/uni-si/R2S4/DNN/End_project/images/test_v3/card_736.jpg: 320x320 1 rotated_photo, 17.4ms\n",
      "image 2210/2500 /repos/uni-si/R2S4/DNN/End_project/images/test_v3/card_737.jpg: 320x320 1 rotated_photo, 14.4ms\n",
      "image 2211/2500 /repos/uni-si/R2S4/DNN/End_project/images/test_v3/card_738.jpg: 320x320 1 rotated_photo, 14.8ms\n",
      "image 2212/2500 /repos/uni-si/R2S4/DNN/End_project/images/test_v3/card_739.jpg: 320x320 1 rotated_photo, 15.0ms\n",
      "image 2213/2500 /repos/uni-si/R2S4/DNN/End_project/images/test_v3/card_74.jpg: 320x320 1 rotated_photo, 15.0ms\n",
      "image 2214/2500 /repos/uni-si/R2S4/DNN/End_project/images/test_v3/card_740.jpg: 320x320 1 rotated_photo, 32.6ms\n",
      "image 2215/2500 /repos/uni-si/R2S4/DNN/End_project/images/test_v3/card_741.jpg: 320x320 1 rotated_photo, 15.5ms\n",
      "image 2216/2500 /repos/uni-si/R2S4/DNN/End_project/images/test_v3/card_742.jpg: 320x320 1 rotated_photo, 15.7ms\n",
      "image 2217/2500 /repos/uni-si/R2S4/DNN/End_project/images/test_v3/card_743.jpg: 320x320 1 rotated_photo, 15.1ms\n",
      "image 2218/2500 /repos/uni-si/R2S4/DNN/End_project/images/test_v3/card_744.jpg: 320x320 1 rotated_photo, 14.6ms\n",
      "image 2219/2500 /repos/uni-si/R2S4/DNN/End_project/images/test_v3/card_745.jpg: 320x320 1 rotated_photo, 13.7ms\n",
      "image 2220/2500 /repos/uni-si/R2S4/DNN/End_project/images/test_v3/card_746.jpg: 320x320 1 rotated_photo, 13.9ms\n",
      "image 2221/2500 /repos/uni-si/R2S4/DNN/End_project/images/test_v3/card_747.jpg: 320x320 1 rotated_photo, 14.6ms\n",
      "image 2222/2500 /repos/uni-si/R2S4/DNN/End_project/images/test_v3/card_748.jpg: 320x320 1 rotated_photo, 28.5ms\n",
      "image 2223/2500 /repos/uni-si/R2S4/DNN/End_project/images/test_v3/card_749.jpg: 320x320 1 rotated_photo, 14.5ms\n",
      "image 2224/2500 /repos/uni-si/R2S4/DNN/End_project/images/test_v3/card_75.jpg: 320x320 1 rotated_photo, 45.6ms\n",
      "image 2225/2500 /repos/uni-si/R2S4/DNN/End_project/images/test_v3/card_750.jpg: 320x320 1 rotated_photo, 27.0ms\n",
      "image 2226/2500 /repos/uni-si/R2S4/DNN/End_project/images/test_v3/card_751.jpg: 320x320 1 rotated_photo, 15.6ms\n",
      "image 2227/2500 /repos/uni-si/R2S4/DNN/End_project/images/test_v3/card_752.jpg: 320x320 1 rotated_photo, 13.9ms\n",
      "image 2228/2500 /repos/uni-si/R2S4/DNN/End_project/images/test_v3/card_753.jpg: 320x320 1 rotated_photo, 17.4ms\n",
      "image 2229/2500 /repos/uni-si/R2S4/DNN/End_project/images/test_v3/card_754.jpg: 320x320 1 rotated_photo, 16.6ms\n",
      "image 2230/2500 /repos/uni-si/R2S4/DNN/End_project/images/test_v3/card_755.jpg: 320x320 1 rotated_photo, 23.7ms\n",
      "image 2231/2500 /repos/uni-si/R2S4/DNN/End_project/images/test_v3/card_756.jpg: 320x320 1 rotated_photo, 14.2ms\n",
      "image 2232/2500 /repos/uni-si/R2S4/DNN/End_project/images/test_v3/card_757.jpg: 320x320 1 rotated_photo, 16.2ms\n",
      "image 2233/2500 /repos/uni-si/R2S4/DNN/End_project/images/test_v3/card_758.jpg: 320x320 1 rotated_photo, 14.7ms\n",
      "image 2234/2500 /repos/uni-si/R2S4/DNN/End_project/images/test_v3/card_759.jpg: 320x320 1 rotated_photo, 16.2ms\n",
      "image 2235/2500 /repos/uni-si/R2S4/DNN/End_project/images/test_v3/card_76.jpg: 320x320 1 rotated_photo, 29.1ms\n",
      "image 2236/2500 /repos/uni-si/R2S4/DNN/End_project/images/test_v3/card_760.jpg: 320x320 1 rotated_photo, 34.0ms\n",
      "image 2237/2500 /repos/uni-si/R2S4/DNN/End_project/images/test_v3/card_761.jpg: 320x320 1 rotated_photo, 18.8ms\n",
      "image 2238/2500 /repos/uni-si/R2S4/DNN/End_project/images/test_v3/card_762.jpg: 320x320 1 rotated_photo, 15.5ms\n",
      "image 2239/2500 /repos/uni-si/R2S4/DNN/End_project/images/test_v3/card_763.jpg: 320x320 1 rotated_photo, 14.3ms\n",
      "image 2240/2500 /repos/uni-si/R2S4/DNN/End_project/images/test_v3/card_764.jpg: 320x320 1 rotated_photo, 16.4ms\n",
      "image 2241/2500 /repos/uni-si/R2S4/DNN/End_project/images/test_v3/card_765.jpg: 320x320 1 rotated_photo, 28.4ms\n",
      "image 2242/2500 /repos/uni-si/R2S4/DNN/End_project/images/test_v3/card_766.jpg: 320x320 1 rotated_photo, 19.4ms\n",
      "image 2243/2500 /repos/uni-si/R2S4/DNN/End_project/images/test_v3/card_767.jpg: 320x320 1 rotated_photo, 15.8ms\n",
      "image 2244/2500 /repos/uni-si/R2S4/DNN/End_project/images/test_v3/card_768.jpg: 320x320 1 rotated_photo, 15.6ms\n",
      "image 2245/2500 /repos/uni-si/R2S4/DNN/End_project/images/test_v3/card_769.jpg: 320x320 1 rotated_photo, 16.9ms\n",
      "image 2246/2500 /repos/uni-si/R2S4/DNN/End_project/images/test_v3/card_77.jpg: 320x320 1 rotated_photo, 15.8ms\n",
      "image 2247/2500 /repos/uni-si/R2S4/DNN/End_project/images/test_v3/card_770.jpg: 320x320 1 rotated_photo, 17.1ms\n",
      "image 2248/2500 /repos/uni-si/R2S4/DNN/End_project/images/test_v3/card_771.jpg: 320x320 1 rotated_photo, 23.7ms\n",
      "image 2249/2500 /repos/uni-si/R2S4/DNN/End_project/images/test_v3/card_772.jpg: 320x320 1 rotated_photo, 18.8ms\n",
      "image 2250/2500 /repos/uni-si/R2S4/DNN/End_project/images/test_v3/card_773.jpg: 320x320 1 rotated_photo, 16.0ms\n",
      "image 2251/2500 /repos/uni-si/R2S4/DNN/End_project/images/test_v3/card_774.jpg: 320x320 1 rotated_photo, 17.5ms\n",
      "image 2252/2500 /repos/uni-si/R2S4/DNN/End_project/images/test_v3/card_775.jpg: 320x320 1 rotated_photo, 14.7ms\n",
      "image 2253/2500 /repos/uni-si/R2S4/DNN/End_project/images/test_v3/card_776.jpg: 320x320 1 rotated_photo, 21.2ms\n",
      "image 2254/2500 /repos/uni-si/R2S4/DNN/End_project/images/test_v3/card_777.jpg: 320x320 1 rotated_photo, 28.2ms\n",
      "image 2255/2500 /repos/uni-si/R2S4/DNN/End_project/images/test_v3/card_778.jpg: 320x320 1 rotated_photo, 15.7ms\n",
      "image 2256/2500 /repos/uni-si/R2S4/DNN/End_project/images/test_v3/card_779.jpg: 320x320 1 rotated_photo, 22.3ms\n",
      "image 2257/2500 /repos/uni-si/R2S4/DNN/End_project/images/test_v3/card_78.jpg: 320x320 1 rotated_photo, 15.1ms\n",
      "image 2258/2500 /repos/uni-si/R2S4/DNN/End_project/images/test_v3/card_780.jpg: 320x320 1 rotated_photo, 14.1ms\n",
      "image 2259/2500 /repos/uni-si/R2S4/DNN/End_project/images/test_v3/card_781.jpg: 320x320 1 rotated_photo, 13.7ms\n",
      "image 2260/2500 /repos/uni-si/R2S4/DNN/End_project/images/test_v3/card_782.jpg: 320x320 1 rotated_photo, 14.0ms\n",
      "image 2261/2500 /repos/uni-si/R2S4/DNN/End_project/images/test_v3/card_783.jpg: 320x320 1 rotated_photo, 16.7ms\n",
      "image 2262/2500 /repos/uni-si/R2S4/DNN/End_project/images/test_v3/card_784.jpg: 320x320 1 rotated_photo, 14.4ms\n",
      "image 2263/2500 /repos/uni-si/R2S4/DNN/End_project/images/test_v3/card_785.jpg: 320x320 1 rotated_photo, 24.3ms\n",
      "image 2264/2500 /repos/uni-si/R2S4/DNN/End_project/images/test_v3/card_786.jpg: 320x320 1 rotated_photo, 14.1ms\n",
      "image 2265/2500 /repos/uni-si/R2S4/DNN/End_project/images/test_v3/card_787.jpg: 320x320 1 rotated_photo, 14.5ms\n",
      "image 2266/2500 /repos/uni-si/R2S4/DNN/End_project/images/test_v3/card_788.jpg: 320x320 1 rotated_photo, 15.3ms\n",
      "image 2267/2500 /repos/uni-si/R2S4/DNN/End_project/images/test_v3/card_789.jpg: 320x320 1 rotated_photo, 15.9ms\n",
      "image 2268/2500 /repos/uni-si/R2S4/DNN/End_project/images/test_v3/card_79.jpg: 320x320 1 rotated_photo, 15.4ms\n",
      "image 2269/2500 /repos/uni-si/R2S4/DNN/End_project/images/test_v3/card_790.jpg: 320x320 1 rotated_photo, 15.5ms\n",
      "image 2270/2500 /repos/uni-si/R2S4/DNN/End_project/images/test_v3/card_791.jpg: 320x320 1 rotated_photo, 15.7ms\n",
      "image 2271/2500 /repos/uni-si/R2S4/DNN/End_project/images/test_v3/card_792.jpg: 320x320 1 rotated_photo, 14.7ms\n",
      "image 2272/2500 /repos/uni-si/R2S4/DNN/End_project/images/test_v3/card_793.jpg: 320x320 1 rotated_photo, 16.7ms\n",
      "image 2273/2500 /repos/uni-si/R2S4/DNN/End_project/images/test_v3/card_794.jpg: 320x320 1 rotated_photo, 16.1ms\n",
      "image 2274/2500 /repos/uni-si/R2S4/DNN/End_project/images/test_v3/card_795.jpg: 320x320 1 rotated_photo, 15.6ms\n",
      "image 2275/2500 /repos/uni-si/R2S4/DNN/End_project/images/test_v3/card_796.jpg: 320x320 1 rotated_photo, 16.2ms\n",
      "image 2276/2500 /repos/uni-si/R2S4/DNN/End_project/images/test_v3/card_797.jpg: 320x320 1 rotated_photo, 16.0ms\n",
      "image 2277/2500 /repos/uni-si/R2S4/DNN/End_project/images/test_v3/card_798.jpg: 320x320 1 rotated_photo, 18.0ms\n",
      "image 2278/2500 /repos/uni-si/R2S4/DNN/End_project/images/test_v3/card_799.jpg: 320x320 1 rotated_photo, 18.3ms\n",
      "image 2279/2500 /repos/uni-si/R2S4/DNN/End_project/images/test_v3/card_8.jpg: 320x320 1 rotated_photo, 18.2ms\n",
      "image 2280/2500 /repos/uni-si/R2S4/DNN/End_project/images/test_v3/card_80.jpg: 320x320 1 rotated_photo, 14.5ms\n",
      "image 2281/2500 /repos/uni-si/R2S4/DNN/End_project/images/test_v3/card_800.jpg: 320x320 1 rotated_photo, 16.3ms\n",
      "image 2282/2500 /repos/uni-si/R2S4/DNN/End_project/images/test_v3/card_801.jpg: 320x320 1 rotated_photo, 13.3ms\n",
      "image 2283/2500 /repos/uni-si/R2S4/DNN/End_project/images/test_v3/card_802.jpg: 320x320 1 rotated_photo, 23.4ms\n",
      "image 2284/2500 /repos/uni-si/R2S4/DNN/End_project/images/test_v3/card_803.jpg: 320x320 1 rotated_photo, 23.5ms\n",
      "image 2285/2500 /repos/uni-si/R2S4/DNN/End_project/images/test_v3/card_804.jpg: 320x320 1 rotated_photo, 13.5ms\n",
      "image 2286/2500 /repos/uni-si/R2S4/DNN/End_project/images/test_v3/card_805.jpg: 320x320 1 rotated_photo, 13.4ms\n",
      "image 2287/2500 /repos/uni-si/R2S4/DNN/End_project/images/test_v3/card_806.jpg: 320x320 1 rotated_photo, 13.2ms\n",
      "image 2288/2500 /repos/uni-si/R2S4/DNN/End_project/images/test_v3/card_807.jpg: 320x320 1 rotated_photo, 15.9ms\n",
      "image 2289/2500 /repos/uni-si/R2S4/DNN/End_project/images/test_v3/card_808.jpg: 320x320 1 rotated_photo, 14.2ms\n",
      "image 2290/2500 /repos/uni-si/R2S4/DNN/End_project/images/test_v3/card_809.jpg: 320x320 1 rotated_photo, 15.0ms\n",
      "image 2291/2500 /repos/uni-si/R2S4/DNN/End_project/images/test_v3/card_81.jpg: 320x320 1 rotated_photo, 14.1ms\n",
      "image 2292/2500 /repos/uni-si/R2S4/DNN/End_project/images/test_v3/card_810.jpg: 320x320 1 rotated_photo, 13.2ms\n",
      "image 2293/2500 /repos/uni-si/R2S4/DNN/End_project/images/test_v3/card_811.jpg: 320x320 1 rotated_photo, 31.8ms\n",
      "image 2294/2500 /repos/uni-si/R2S4/DNN/End_project/images/test_v3/card_812.jpg: 320x320 1 rotated_photo, 15.2ms\n",
      "image 2295/2500 /repos/uni-si/R2S4/DNN/End_project/images/test_v3/card_813.jpg: 320x320 1 rotated_photo, 14.3ms\n",
      "image 2296/2500 /repos/uni-si/R2S4/DNN/End_project/images/test_v3/card_814.jpg: 320x320 1 rotated_photo, 13.8ms\n",
      "image 2297/2500 /repos/uni-si/R2S4/DNN/End_project/images/test_v3/card_815.jpg: 320x320 1 rotated_photo, 13.5ms\n",
      "image 2298/2500 /repos/uni-si/R2S4/DNN/End_project/images/test_v3/card_816.jpg: 320x320 1 rotated_photo, 13.4ms\n",
      "image 2299/2500 /repos/uni-si/R2S4/DNN/End_project/images/test_v3/card_817.jpg: 320x320 1 rotated_photo, 14.3ms\n",
      "image 2300/2500 /repos/uni-si/R2S4/DNN/End_project/images/test_v3/card_818.jpg: 320x320 1 rotated_photo, 14.7ms\n",
      "image 2301/2500 /repos/uni-si/R2S4/DNN/End_project/images/test_v3/card_819.jpg: 320x320 1 rotated_photo, 14.0ms\n",
      "image 2302/2500 /repos/uni-si/R2S4/DNN/End_project/images/test_v3/card_82.jpg: 320x320 1 rotated_photo, 19.5ms\n",
      "image 2303/2500 /repos/uni-si/R2S4/DNN/End_project/images/test_v3/card_820.jpg: 320x320 1 rotated_photo, 14.7ms\n",
      "image 2304/2500 /repos/uni-si/R2S4/DNN/End_project/images/test_v3/card_821.jpg: 320x320 1 rotated_photo, 13.7ms\n",
      "image 2305/2500 /repos/uni-si/R2S4/DNN/End_project/images/test_v3/card_822.jpg: 320x320 1 rotated_photo, 14.5ms\n",
      "image 2306/2500 /repos/uni-si/R2S4/DNN/End_project/images/test_v3/card_823.jpg: 320x320 1 rotated_photo, 14.1ms\n",
      "image 2307/2500 /repos/uni-si/R2S4/DNN/End_project/images/test_v3/card_824.jpg: 320x320 1 rotated_photo, 14.3ms\n",
      "image 2308/2500 /repos/uni-si/R2S4/DNN/End_project/images/test_v3/card_825.jpg: 320x320 1 rotated_photo, 38.2ms\n",
      "image 2309/2500 /repos/uni-si/R2S4/DNN/End_project/images/test_v3/card_826.jpg: 320x320 1 rotated_photo, 17.0ms\n",
      "image 2310/2500 /repos/uni-si/R2S4/DNN/End_project/images/test_v3/card_827.jpg: 320x320 1 rotated_photo, 16.0ms\n",
      "image 2311/2500 /repos/uni-si/R2S4/DNN/End_project/images/test_v3/card_828.jpg: 320x320 1 rotated_photo, 14.7ms\n",
      "image 2312/2500 /repos/uni-si/R2S4/DNN/End_project/images/test_v3/card_829.jpg: 320x320 1 rotated_photo, 14.2ms\n",
      "image 2313/2500 /repos/uni-si/R2S4/DNN/End_project/images/test_v3/card_83.jpg: 320x320 1 rotated_photo, 15.2ms\n",
      "image 2314/2500 /repos/uni-si/R2S4/DNN/End_project/images/test_v3/card_830.jpg: 320x320 1 rotated_photo, 15.3ms\n",
      "image 2315/2500 /repos/uni-si/R2S4/DNN/End_project/images/test_v3/card_831.jpg: 320x320 1 rotated_photo, 15.2ms\n",
      "image 2316/2500 /repos/uni-si/R2S4/DNN/End_project/images/test_v3/card_832.jpg: 320x320 1 rotated_photo, 16.4ms\n",
      "image 2317/2500 /repos/uni-si/R2S4/DNN/End_project/images/test_v3/card_833.jpg: 320x320 1 rotated_photo, 14.2ms\n",
      "image 2318/2500 /repos/uni-si/R2S4/DNN/End_project/images/test_v3/card_834.jpg: 320x320 1 rotated_photo, 20.8ms\n",
      "image 2319/2500 /repos/uni-si/R2S4/DNN/End_project/images/test_v3/card_835.jpg: 320x320 1 rotated_photo, 16.7ms\n",
      "image 2320/2500 /repos/uni-si/R2S4/DNN/End_project/images/test_v3/card_836.jpg: 320x320 1 rotated_photo, 18.6ms\n",
      "image 2321/2500 /repos/uni-si/R2S4/DNN/End_project/images/test_v3/card_837.jpg: 320x320 1 rotated_photo, 16.3ms\n",
      "image 2322/2500 /repos/uni-si/R2S4/DNN/End_project/images/test_v3/card_838.jpg: 320x320 1 rotated_photo, 15.2ms\n",
      "image 2323/2500 /repos/uni-si/R2S4/DNN/End_project/images/test_v3/card_839.jpg: 320x320 1 rotated_photo, 24.6ms\n",
      "image 2324/2500 /repos/uni-si/R2S4/DNN/End_project/images/test_v3/card_84.jpg: 320x320 1 rotated_photo, 14.3ms\n",
      "image 2325/2500 /repos/uni-si/R2S4/DNN/End_project/images/test_v3/card_840.jpg: 320x320 1 rotated_photo, 15.2ms\n",
      "image 2326/2500 /repos/uni-si/R2S4/DNN/End_project/images/test_v3/card_841.jpg: 320x320 1 rotated_photo, 24.6ms\n",
      "image 2327/2500 /repos/uni-si/R2S4/DNN/End_project/images/test_v3/card_842.jpg: 320x320 1 rotated_photo, 26.6ms\n",
      "image 2328/2500 /repos/uni-si/R2S4/DNN/End_project/images/test_v3/card_843.jpg: 320x320 1 rotated_photo, 16.1ms\n",
      "image 2329/2500 /repos/uni-si/R2S4/DNN/End_project/images/test_v3/card_844.jpg: 320x320 1 rotated_photo, 14.9ms\n",
      "image 2330/2500 /repos/uni-si/R2S4/DNN/End_project/images/test_v3/card_845.jpg: 320x320 1 rotated_photo, 21.9ms\n",
      "image 2331/2500 /repos/uni-si/R2S4/DNN/End_project/images/test_v3/card_846.jpg: 320x320 1 rotated_photo, 25.8ms\n",
      "image 2332/2500 /repos/uni-si/R2S4/DNN/End_project/images/test_v3/card_847.jpg: 320x320 1 rotated_photo, 15.9ms\n",
      "image 2333/2500 /repos/uni-si/R2S4/DNN/End_project/images/test_v3/card_848.jpg: 320x320 1 rotated_photo, 15.5ms\n",
      "image 2334/2500 /repos/uni-si/R2S4/DNN/End_project/images/test_v3/card_849.jpg: 320x320 1 rotated_photo, 17.8ms\n",
      "image 2335/2500 /repos/uni-si/R2S4/DNN/End_project/images/test_v3/card_85.jpg: 320x320 1 rotated_photo, 13.5ms\n",
      "image 2336/2500 /repos/uni-si/R2S4/DNN/End_project/images/test_v3/card_850.jpg: 320x320 1 rotated_photo, 22.0ms\n",
      "image 2337/2500 /repos/uni-si/R2S4/DNN/End_project/images/test_v3/card_851.jpg: 320x320 1 rotated_photo, 15.9ms\n",
      "image 2338/2500 /repos/uni-si/R2S4/DNN/End_project/images/test_v3/card_852.jpg: 320x320 1 rotated_photo, 16.1ms\n",
      "image 2339/2500 /repos/uni-si/R2S4/DNN/End_project/images/test_v3/card_853.jpg: 320x320 1 rotated_photo, 33.6ms\n",
      "image 2340/2500 /repos/uni-si/R2S4/DNN/End_project/images/test_v3/card_854.jpg: 320x320 1 rotated_photo, 43.0ms\n",
      "image 2341/2500 /repos/uni-si/R2S4/DNN/End_project/images/test_v3/card_855.jpg: 320x320 1 rotated_photo, 14.1ms\n",
      "image 2342/2500 /repos/uni-si/R2S4/DNN/End_project/images/test_v3/card_856.jpg: 320x320 1 rotated_photo, 13.4ms\n",
      "image 2343/2500 /repos/uni-si/R2S4/DNN/End_project/images/test_v3/card_857.jpg: 320x320 1 rotated_photo, 28.7ms\n",
      "image 2344/2500 /repos/uni-si/R2S4/DNN/End_project/images/test_v3/card_858.jpg: 320x320 1 rotated_photo, 19.2ms\n",
      "image 2345/2500 /repos/uni-si/R2S4/DNN/End_project/images/test_v3/card_859.jpg: 320x320 1 rotated_photo, 30.2ms\n",
      "image 2346/2500 /repos/uni-si/R2S4/DNN/End_project/images/test_v3/card_86.jpg: 320x320 1 rotated_photo, 14.2ms\n",
      "image 2347/2500 /repos/uni-si/R2S4/DNN/End_project/images/test_v3/card_860.jpg: 320x320 1 rotated_photo, 13.1ms\n",
      "image 2348/2500 /repos/uni-si/R2S4/DNN/End_project/images/test_v3/card_861.jpg: 320x320 1 rotated_photo, 19.9ms\n",
      "image 2349/2500 /repos/uni-si/R2S4/DNN/End_project/images/test_v3/card_862.jpg: 320x320 1 rotated_photo, 15.4ms\n",
      "image 2350/2500 /repos/uni-si/R2S4/DNN/End_project/images/test_v3/card_863.jpg: 320x320 1 rotated_photo, 14.6ms\n",
      "image 2351/2500 /repos/uni-si/R2S4/DNN/End_project/images/test_v3/card_864.jpg: 320x320 1 rotated_photo, 14.4ms\n",
      "image 2352/2500 /repos/uni-si/R2S4/DNN/End_project/images/test_v3/card_865.jpg: 320x320 1 rotated_photo, 14.0ms\n",
      "image 2353/2500 /repos/uni-si/R2S4/DNN/End_project/images/test_v3/card_866.jpg: 320x320 1 rotated_photo, 15.4ms\n",
      "image 2354/2500 /repos/uni-si/R2S4/DNN/End_project/images/test_v3/card_867.jpg: 320x320 1 rotated_photo, 22.7ms\n",
      "image 2355/2500 /repos/uni-si/R2S4/DNN/End_project/images/test_v3/card_868.jpg: 320x320 1 rotated_photo, 14.7ms\n",
      "image 2356/2500 /repos/uni-si/R2S4/DNN/End_project/images/test_v3/card_869.jpg: 320x320 1 rotated_photo, 14.7ms\n",
      "image 2357/2500 /repos/uni-si/R2S4/DNN/End_project/images/test_v3/card_87.jpg: 320x320 1 rotated_photo, 13.5ms\n",
      "image 2358/2500 /repos/uni-si/R2S4/DNN/End_project/images/test_v3/card_870.jpg: 320x320 1 rotated_photo, 14.5ms\n",
      "image 2359/2500 /repos/uni-si/R2S4/DNN/End_project/images/test_v3/card_871.jpg: 320x320 1 rotated_photo, 18.4ms\n",
      "image 2360/2500 /repos/uni-si/R2S4/DNN/End_project/images/test_v3/card_872.jpg: 320x320 1 rotated_photo, 23.0ms\n",
      "image 2361/2500 /repos/uni-si/R2S4/DNN/End_project/images/test_v3/card_873.jpg: 320x320 1 rotated_photo, 21.4ms\n",
      "image 2362/2500 /repos/uni-si/R2S4/DNN/End_project/images/test_v3/card_874.jpg: 320x320 1 rotated_photo, 18.4ms\n",
      "image 2363/2500 /repos/uni-si/R2S4/DNN/End_project/images/test_v3/card_875.jpg: 320x320 1 rotated_photo, 21.8ms\n",
      "image 2364/2500 /repos/uni-si/R2S4/DNN/End_project/images/test_v3/card_876.jpg: 320x320 1 rotated_photo, 37.1ms\n",
      "image 2365/2500 /repos/uni-si/R2S4/DNN/End_project/images/test_v3/card_877.jpg: 320x320 1 rotated_photo, 35.4ms\n",
      "image 2366/2500 /repos/uni-si/R2S4/DNN/End_project/images/test_v3/card_878.jpg: 320x320 1 rotated_photo, 26.1ms\n",
      "image 2367/2500 /repos/uni-si/R2S4/DNN/End_project/images/test_v3/card_879.jpg: 320x320 1 rotated_photo, 21.3ms\n",
      "image 2368/2500 /repos/uni-si/R2S4/DNN/End_project/images/test_v3/card_88.jpg: 320x320 1 rotated_photo, 18.2ms\n",
      "image 2369/2500 /repos/uni-si/R2S4/DNN/End_project/images/test_v3/card_880.jpg: 320x320 1 rotated_photo, 15.5ms\n",
      "image 2370/2500 /repos/uni-si/R2S4/DNN/End_project/images/test_v3/card_881.jpg: 320x320 1 rotated_photo, 18.4ms\n",
      "image 2371/2500 /repos/uni-si/R2S4/DNN/End_project/images/test_v3/card_882.jpg: 320x320 1 rotated_photo, 16.1ms\n",
      "image 2372/2500 /repos/uni-si/R2S4/DNN/End_project/images/test_v3/card_883.jpg: 320x320 1 rotated_photo, 14.7ms\n",
      "image 2373/2500 /repos/uni-si/R2S4/DNN/End_project/images/test_v3/card_884.jpg: 320x320 1 rotated_photo, 14.3ms\n",
      "image 2374/2500 /repos/uni-si/R2S4/DNN/End_project/images/test_v3/card_885.jpg: 320x320 1 rotated_photo, 13.3ms\n",
      "image 2375/2500 /repos/uni-si/R2S4/DNN/End_project/images/test_v3/card_886.jpg: 320x320 1 rotated_photo, 13.2ms\n",
      "image 2376/2500 /repos/uni-si/R2S4/DNN/End_project/images/test_v3/card_887.jpg: 320x320 1 rotated_photo, 14.7ms\n",
      "image 2377/2500 /repos/uni-si/R2S4/DNN/End_project/images/test_v3/card_888.jpg: 320x320 1 rotated_photo, 13.9ms\n",
      "image 2378/2500 /repos/uni-si/R2S4/DNN/End_project/images/test_v3/card_889.jpg: 320x320 1 rotated_photo, 14.0ms\n",
      "image 2379/2500 /repos/uni-si/R2S4/DNN/End_project/images/test_v3/card_89.jpg: 320x320 1 rotated_photo, 13.5ms\n",
      "image 2380/2500 /repos/uni-si/R2S4/DNN/End_project/images/test_v3/card_890.jpg: 320x320 1 rotated_photo, 14.6ms\n",
      "image 2381/2500 /repos/uni-si/R2S4/DNN/End_project/images/test_v3/card_891.jpg: 320x320 1 rotated_photo, 14.9ms\n",
      "image 2382/2500 /repos/uni-si/R2S4/DNN/End_project/images/test_v3/card_892.jpg: 320x320 1 rotated_photo, 14.2ms\n",
      "image 2383/2500 /repos/uni-si/R2S4/DNN/End_project/images/test_v3/card_893.jpg: 320x320 1 rotated_photo, 13.6ms\n",
      "image 2384/2500 /repos/uni-si/R2S4/DNN/End_project/images/test_v3/card_894.jpg: 320x320 1 rotated_photo, 15.1ms\n",
      "image 2385/2500 /repos/uni-si/R2S4/DNN/End_project/images/test_v3/card_895.jpg: 320x320 1 rotated_photo, 15.7ms\n",
      "image 2386/2500 /repos/uni-si/R2S4/DNN/End_project/images/test_v3/card_896.jpg: 320x320 1 rotated_photo, 15.7ms\n",
      "image 2387/2500 /repos/uni-si/R2S4/DNN/End_project/images/test_v3/card_897.jpg: 320x320 1 rotated_photo, 14.1ms\n",
      "image 2388/2500 /repos/uni-si/R2S4/DNN/End_project/images/test_v3/card_898.jpg: 320x320 1 rotated_photo, 15.7ms\n",
      "image 2389/2500 /repos/uni-si/R2S4/DNN/End_project/images/test_v3/card_899.jpg: 320x320 1 rotated_photo, 22.1ms\n",
      "image 2390/2500 /repos/uni-si/R2S4/DNN/End_project/images/test_v3/card_9.jpg: 320x320 1 rotated_photo, 20.0ms\n",
      "image 2391/2500 /repos/uni-si/R2S4/DNN/End_project/images/test_v3/card_90.jpg: 320x320 1 rotated_photo, 17.2ms\n",
      "image 2392/2500 /repos/uni-si/R2S4/DNN/End_project/images/test_v3/card_900.jpg: 320x320 1 rotated_photo, 16.0ms\n",
      "image 2393/2500 /repos/uni-si/R2S4/DNN/End_project/images/test_v3/card_901.jpg: 320x320 1 rotated_photo, 15.3ms\n",
      "image 2394/2500 /repos/uni-si/R2S4/DNN/End_project/images/test_v3/card_902.jpg: 320x320 1 rotated_photo, 18.9ms\n",
      "image 2395/2500 /repos/uni-si/R2S4/DNN/End_project/images/test_v3/card_903.jpg: 320x320 1 rotated_photo, 14.1ms\n",
      "image 2396/2500 /repos/uni-si/R2S4/DNN/End_project/images/test_v3/card_904.jpg: 320x320 1 rotated_photo, 17.8ms\n",
      "image 2397/2500 /repos/uni-si/R2S4/DNN/End_project/images/test_v3/card_905.jpg: 320x320 1 rotated_photo, 16.9ms\n",
      "image 2398/2500 /repos/uni-si/R2S4/DNN/End_project/images/test_v3/card_906.jpg: 320x320 1 rotated_photo, 35.1ms\n",
      "image 2399/2500 /repos/uni-si/R2S4/DNN/End_project/images/test_v3/card_907.jpg: 320x320 1 rotated_photo, 17.8ms\n",
      "image 2400/2500 /repos/uni-si/R2S4/DNN/End_project/images/test_v3/card_908.jpg: 320x320 1 rotated_photo, 15.1ms\n",
      "image 2401/2500 /repos/uni-si/R2S4/DNN/End_project/images/test_v3/card_909.jpg: 320x320 1 rotated_photo, 13.6ms\n",
      "image 2402/2500 /repos/uni-si/R2S4/DNN/End_project/images/test_v3/card_91.jpg: 320x320 1 rotated_photo, 13.4ms\n",
      "image 2403/2500 /repos/uni-si/R2S4/DNN/End_project/images/test_v3/card_910.jpg: 320x320 1 rotated_photo, 14.9ms\n",
      "image 2404/2500 /repos/uni-si/R2S4/DNN/End_project/images/test_v3/card_911.jpg: 320x320 1 rotated_photo, 15.8ms\n",
      "image 2405/2500 /repos/uni-si/R2S4/DNN/End_project/images/test_v3/card_912.jpg: 320x320 1 rotated_photo, 16.0ms\n",
      "image 2406/2500 /repos/uni-si/R2S4/DNN/End_project/images/test_v3/card_913.jpg: 320x320 1 rotated_photo, 24.6ms\n",
      "image 2407/2500 /repos/uni-si/R2S4/DNN/End_project/images/test_v3/card_914.jpg: 320x320 1 rotated_photo, 18.7ms\n",
      "image 2408/2500 /repos/uni-si/R2S4/DNN/End_project/images/test_v3/card_915.jpg: 320x320 1 rotated_photo, 36.6ms\n",
      "image 2409/2500 /repos/uni-si/R2S4/DNN/End_project/images/test_v3/card_916.jpg: 320x320 1 rotated_photo, 14.9ms\n",
      "image 2410/2500 /repos/uni-si/R2S4/DNN/End_project/images/test_v3/card_917.jpg: 320x320 1 rotated_photo, 20.8ms\n",
      "image 2411/2500 /repos/uni-si/R2S4/DNN/End_project/images/test_v3/card_918.jpg: 320x320 1 rotated_photo, 19.6ms\n",
      "image 2412/2500 /repos/uni-si/R2S4/DNN/End_project/images/test_v3/card_919.jpg: 320x320 1 rotated_photo, 15.9ms\n",
      "image 2413/2500 /repos/uni-si/R2S4/DNN/End_project/images/test_v3/card_92.jpg: 320x320 1 rotated_photo, 18.5ms\n",
      "image 2414/2500 /repos/uni-si/R2S4/DNN/End_project/images/test_v3/card_920.jpg: 320x320 1 rotated_photo, 14.9ms\n",
      "image 2415/2500 /repos/uni-si/R2S4/DNN/End_project/images/test_v3/card_921.jpg: 320x320 1 rotated_photo, 15.5ms\n",
      "image 2416/2500 /repos/uni-si/R2S4/DNN/End_project/images/test_v3/card_922.jpg: 320x320 1 rotated_photo, 13.7ms\n",
      "image 2417/2500 /repos/uni-si/R2S4/DNN/End_project/images/test_v3/card_923.jpg: 320x320 1 rotated_photo, 13.6ms\n",
      "image 2418/2500 /repos/uni-si/R2S4/DNN/End_project/images/test_v3/card_924.jpg: 320x320 1 rotated_photo, 14.8ms\n",
      "image 2419/2500 /repos/uni-si/R2S4/DNN/End_project/images/test_v3/card_925.jpg: 320x320 1 rotated_photo, 17.0ms\n",
      "image 2420/2500 /repos/uni-si/R2S4/DNN/End_project/images/test_v3/card_926.jpg: 320x320 1 rotated_photo, 15.2ms\n",
      "image 2421/2500 /repos/uni-si/R2S4/DNN/End_project/images/test_v3/card_927.jpg: 320x320 1 rotated_photo, 20.2ms\n",
      "image 2422/2500 /repos/uni-si/R2S4/DNN/End_project/images/test_v3/card_928.jpg: 320x320 1 rotated_photo, 20.2ms\n",
      "image 2423/2500 /repos/uni-si/R2S4/DNN/End_project/images/test_v3/card_929.jpg: 320x320 1 rotated_photo, 18.5ms\n",
      "image 2424/2500 /repos/uni-si/R2S4/DNN/End_project/images/test_v3/card_93.jpg: 320x320 1 rotated_photo, 13.7ms\n",
      "image 2425/2500 /repos/uni-si/R2S4/DNN/End_project/images/test_v3/card_930.jpg: 320x320 1 rotated_photo, 14.5ms\n",
      "image 2426/2500 /repos/uni-si/R2S4/DNN/End_project/images/test_v3/card_931.jpg: 320x320 1 rotated_photo, 13.6ms\n",
      "image 2427/2500 /repos/uni-si/R2S4/DNN/End_project/images/test_v3/card_932.jpg: 320x320 1 rotated_photo, 13.3ms\n",
      "image 2428/2500 /repos/uni-si/R2S4/DNN/End_project/images/test_v3/card_933.jpg: 320x320 1 rotated_photo, 13.6ms\n",
      "image 2429/2500 /repos/uni-si/R2S4/DNN/End_project/images/test_v3/card_934.jpg: 320x320 1 rotated_photo, 13.5ms\n",
      "image 2430/2500 /repos/uni-si/R2S4/DNN/End_project/images/test_v3/card_935.jpg: 320x320 1 rotated_photo, 13.7ms\n",
      "image 2431/2500 /repos/uni-si/R2S4/DNN/End_project/images/test_v3/card_936.jpg: 320x320 1 rotated_photo, 14.8ms\n",
      "image 2432/2500 /repos/uni-si/R2S4/DNN/End_project/images/test_v3/card_937.jpg: 320x320 1 rotated_photo, 15.4ms\n",
      "image 2433/2500 /repos/uni-si/R2S4/DNN/End_project/images/test_v3/card_938.jpg: 320x320 1 rotated_photo, 14.9ms\n",
      "image 2434/2500 /repos/uni-si/R2S4/DNN/End_project/images/test_v3/card_939.jpg: 320x320 1 rotated_photo, 14.9ms\n",
      "image 2435/2500 /repos/uni-si/R2S4/DNN/End_project/images/test_v3/card_94.jpg: 320x320 1 rotated_photo, 14.0ms\n",
      "image 2436/2500 /repos/uni-si/R2S4/DNN/End_project/images/test_v3/card_940.jpg: 320x320 1 rotated_photo, 14.2ms\n",
      "image 2437/2500 /repos/uni-si/R2S4/DNN/End_project/images/test_v3/card_941.jpg: 320x320 1 rotated_photo, 13.7ms\n",
      "image 2438/2500 /repos/uni-si/R2S4/DNN/End_project/images/test_v3/card_942.jpg: 320x320 1 rotated_photo, 13.9ms\n",
      "image 2439/2500 /repos/uni-si/R2S4/DNN/End_project/images/test_v3/card_943.jpg: 320x320 1 rotated_photo, 14.1ms\n",
      "image 2440/2500 /repos/uni-si/R2S4/DNN/End_project/images/test_v3/card_944.jpg: 320x320 1 rotated_photo, 13.6ms\n",
      "image 2441/2500 /repos/uni-si/R2S4/DNN/End_project/images/test_v3/card_945.jpg: 320x320 1 rotated_photo, 15.6ms\n",
      "image 2442/2500 /repos/uni-si/R2S4/DNN/End_project/images/test_v3/card_946.jpg: 320x320 1 rotated_photo, 15.6ms\n",
      "image 2443/2500 /repos/uni-si/R2S4/DNN/End_project/images/test_v3/card_947.jpg: 320x320 1 rotated_photo, 14.7ms\n",
      "image 2444/2500 /repos/uni-si/R2S4/DNN/End_project/images/test_v3/card_948.jpg: 320x320 1 rotated_photo, 14.5ms\n",
      "image 2445/2500 /repos/uni-si/R2S4/DNN/End_project/images/test_v3/card_949.jpg: 320x320 1 rotated_photo, 14.7ms\n",
      "image 2446/2500 /repos/uni-si/R2S4/DNN/End_project/images/test_v3/card_95.jpg: 320x320 1 rotated_photo, 15.4ms\n",
      "image 2447/2500 /repos/uni-si/R2S4/DNN/End_project/images/test_v3/card_950.jpg: 320x320 1 rotated_photo, 14.2ms\n",
      "image 2448/2500 /repos/uni-si/R2S4/DNN/End_project/images/test_v3/card_951.jpg: 320x320 1 rotated_photo, 13.9ms\n",
      "image 2449/2500 /repos/uni-si/R2S4/DNN/End_project/images/test_v3/card_952.jpg: 320x320 1 rotated_photo, 14.1ms\n",
      "image 2450/2500 /repos/uni-si/R2S4/DNN/End_project/images/test_v3/card_953.jpg: 320x320 1 rotated_photo, 15.5ms\n",
      "image 2451/2500 /repos/uni-si/R2S4/DNN/End_project/images/test_v3/card_954.jpg: 320x320 1 rotated_photo, 17.0ms\n",
      "image 2452/2500 /repos/uni-si/R2S4/DNN/End_project/images/test_v3/card_955.jpg: 320x320 1 rotated_photo, 14.2ms\n",
      "image 2453/2500 /repos/uni-si/R2S4/DNN/End_project/images/test_v3/card_956.jpg: 320x320 1 rotated_photo, 15.9ms\n",
      "image 2454/2500 /repos/uni-si/R2S4/DNN/End_project/images/test_v3/card_957.jpg: 320x320 1 rotated_photo, 15.8ms\n",
      "image 2455/2500 /repos/uni-si/R2S4/DNN/End_project/images/test_v3/card_958.jpg: 320x320 1 rotated_photo, 14.7ms\n",
      "image 2456/2500 /repos/uni-si/R2S4/DNN/End_project/images/test_v3/card_959.jpg: 320x320 1 rotated_photo, 13.7ms\n",
      "image 2457/2500 /repos/uni-si/R2S4/DNN/End_project/images/test_v3/card_96.jpg: 320x320 1 rotated_photo, 13.5ms\n",
      "image 2458/2500 /repos/uni-si/R2S4/DNN/End_project/images/test_v3/card_960.jpg: 320x320 1 rotated_photo, 19.6ms\n",
      "image 2459/2500 /repos/uni-si/R2S4/DNN/End_project/images/test_v3/card_961.jpg: 320x320 1 rotated_photo, 13.9ms\n",
      "image 2460/2500 /repos/uni-si/R2S4/DNN/End_project/images/test_v3/card_962.jpg: 320x320 1 rotated_photo, 15.1ms\n",
      "image 2461/2500 /repos/uni-si/R2S4/DNN/End_project/images/test_v3/card_963.jpg: 320x320 1 rotated_photo, 15.8ms\n",
      "image 2462/2500 /repos/uni-si/R2S4/DNN/End_project/images/test_v3/card_964.jpg: 320x320 1 rotated_photo, 17.4ms\n",
      "image 2463/2500 /repos/uni-si/R2S4/DNN/End_project/images/test_v3/card_965.jpg: 320x320 1 rotated_photo, 17.4ms\n",
      "image 2464/2500 /repos/uni-si/R2S4/DNN/End_project/images/test_v3/card_966.jpg: 320x320 1 rotated_photo, 16.6ms\n",
      "image 2465/2500 /repos/uni-si/R2S4/DNN/End_project/images/test_v3/card_967.jpg: 320x320 1 rotated_photo, 16.4ms\n",
      "image 2466/2500 /repos/uni-si/R2S4/DNN/End_project/images/test_v3/card_968.jpg: 320x320 1 rotated_photo, 22.2ms\n",
      "image 2467/2500 /repos/uni-si/R2S4/DNN/End_project/images/test_v3/card_969.jpg: 320x320 1 rotated_photo, 18.1ms\n",
      "image 2468/2500 /repos/uni-si/R2S4/DNN/End_project/images/test_v3/card_97.jpg: 320x320 1 rotated_photo, 15.2ms\n",
      "image 2469/2500 /repos/uni-si/R2S4/DNN/End_project/images/test_v3/card_970.jpg: 320x320 1 rotated_photo, 18.3ms\n",
      "image 2470/2500 /repos/uni-si/R2S4/DNN/End_project/images/test_v3/card_971.jpg: 320x320 1 rotated_photo, 15.7ms\n",
      "image 2471/2500 /repos/uni-si/R2S4/DNN/End_project/images/test_v3/card_972.jpg: 320x320 1 rotated_photo, 44.8ms\n",
      "image 2472/2500 /repos/uni-si/R2S4/DNN/End_project/images/test_v3/card_973.jpg: 320x320 1 rotated_photo, 15.6ms\n",
      "image 2473/2500 /repos/uni-si/R2S4/DNN/End_project/images/test_v3/card_974.jpg: 320x320 1 rotated_photo, 45.5ms\n",
      "image 2474/2500 /repos/uni-si/R2S4/DNN/End_project/images/test_v3/card_975.jpg: 320x320 1 rotated_photo, 15.1ms\n",
      "image 2475/2500 /repos/uni-si/R2S4/DNN/End_project/images/test_v3/card_976.jpg: 320x320 1 rotated_photo, 13.3ms\n",
      "image 2476/2500 /repos/uni-si/R2S4/DNN/End_project/images/test_v3/card_977.jpg: 320x320 1 rotated_photo, 13.9ms\n",
      "image 2477/2500 /repos/uni-si/R2S4/DNN/End_project/images/test_v3/card_978.jpg: 320x320 1 rotated_photo, 15.6ms\n",
      "image 2478/2500 /repos/uni-si/R2S4/DNN/End_project/images/test_v3/card_979.jpg: 320x320 1 rotated_photo, 15.5ms\n",
      "image 2479/2500 /repos/uni-si/R2S4/DNN/End_project/images/test_v3/card_98.jpg: 320x320 1 rotated_photo, 13.3ms\n",
      "image 2480/2500 /repos/uni-si/R2S4/DNN/End_project/images/test_v3/card_980.jpg: 320x320 1 rotated_photo, 14.9ms\n",
      "image 2481/2500 /repos/uni-si/R2S4/DNN/End_project/images/test_v3/card_981.jpg: 320x320 1 rotated_photo, 19.1ms\n",
      "image 2482/2500 /repos/uni-si/R2S4/DNN/End_project/images/test_v3/card_982.jpg: 320x320 1 rotated_photo, 14.7ms\n",
      "image 2483/2500 /repos/uni-si/R2S4/DNN/End_project/images/test_v3/card_983.jpg: 320x320 1 rotated_photo, 15.0ms\n",
      "image 2484/2500 /repos/uni-si/R2S4/DNN/End_project/images/test_v3/card_984.jpg: 320x320 1 rotated_photo, 23.2ms\n",
      "image 2485/2500 /repos/uni-si/R2S4/DNN/End_project/images/test_v3/card_985.jpg: 320x320 1 rotated_photo, 16.2ms\n",
      "image 2486/2500 /repos/uni-si/R2S4/DNN/End_project/images/test_v3/card_986.jpg: 320x320 1 rotated_photo, 14.8ms\n",
      "image 2487/2500 /repos/uni-si/R2S4/DNN/End_project/images/test_v3/card_987.jpg: 320x320 1 rotated_photo, 17.2ms\n",
      "image 2488/2500 /repos/uni-si/R2S4/DNN/End_project/images/test_v3/card_988.jpg: 320x320 1 rotated_photo, 16.0ms\n",
      "image 2489/2500 /repos/uni-si/R2S4/DNN/End_project/images/test_v3/card_989.jpg: 320x320 1 rotated_photo, 16.7ms\n",
      "image 2490/2500 /repos/uni-si/R2S4/DNN/End_project/images/test_v3/card_99.jpg: 320x320 1 rotated_photo, 15.5ms\n",
      "image 2491/2500 /repos/uni-si/R2S4/DNN/End_project/images/test_v3/card_990.jpg: 320x320 1 rotated_photo, 15.2ms\n",
      "image 2492/2500 /repos/uni-si/R2S4/DNN/End_project/images/test_v3/card_991.jpg: 320x320 1 rotated_photo, 41.2ms\n",
      "image 2493/2500 /repos/uni-si/R2S4/DNN/End_project/images/test_v3/card_992.jpg: 320x320 1 rotated_photo, 37.4ms\n",
      "image 2494/2500 /repos/uni-si/R2S4/DNN/End_project/images/test_v3/card_993.jpg: 320x320 1 rotated_photo, 17.9ms\n",
      "image 2495/2500 /repos/uni-si/R2S4/DNN/End_project/images/test_v3/card_994.jpg: 320x320 1 rotated_photo, 14.6ms\n",
      "image 2496/2500 /repos/uni-si/R2S4/DNN/End_project/images/test_v3/card_995.jpg: 320x320 1 rotated_photo, 14.5ms\n",
      "image 2497/2500 /repos/uni-si/R2S4/DNN/End_project/images/test_v3/card_996.jpg: 320x320 1 rotated_photo, 13.9ms\n",
      "image 2498/2500 /repos/uni-si/R2S4/DNN/End_project/images/test_v3/card_997.jpg: 320x320 1 rotated_photo, 15.3ms\n",
      "image 2499/2500 /repos/uni-si/R2S4/DNN/End_project/images/test_v3/card_998.jpg: 320x320 1 rotated_photo, 15.0ms\n",
      "image 2500/2500 /repos/uni-si/R2S4/DNN/End_project/images/test_v3/card_999.jpg: 320x320 1 rotated_photo, 29.1ms\n",
      "Speed: 0.6ms preprocess, 17.5ms inference, 1.9ms postprocess per image at shape (1, 3, 320, 320)\n",
      "Results saved to \u001b[1mruns/pose/predict\u001b[0m\n"
     ]
    }
   ],
   "source": [
    "from ultralytics import YOLO\n",
    "\n",
    "# Załaduj wytrenowany model\n",
    "model = YOLO('runs/pose/image_rotation_model4/weights/best.pt')\n",
    "\n",
    "# Uruchom inferencję na folderze testowym\n",
    "results = model.predict(\n",
    "    source='images/test_v3',\n",
    "    save=True,\n",
    "    conf=0.25,\n",
    "    imgsz=320\n",
    ")"
   ]
  },
  {
   "cell_type": "code",
   "execution_count": 1,
   "id": "75e2680e",
   "metadata": {},
   "outputs": [
    {
     "name": "stdout",
     "output_type": "stream",
     "text": [
      "Przewidywany kąt: -47.40°\n"
     ]
    }
   ],
   "source": [
    "import onnxruntime as ort\n",
    "import numpy as np\n",
    "import cv2\n",
    "\n",
    "# Wczytaj model\n",
    "session = ort.InferenceSession(\"deep-image-orientation-angle-detection.onnx\")\n",
    "\n",
    "# Wczytaj i przetwórz obraz\n",
    "image = cv2.imread(\"cards_image/card_7500.jpg\")\n",
    "image_resized = cv2.resize(image, (224, 224))\n",
    "image_normalized = image_resized.astype(np.float32) / 255.0\n",
    "input_tensor = np.expand_dims(image_normalized.transpose(2, 0, 1), axis=0)\n",
    "\n",
    "# Inferencja\n",
    "outputs = session.run(None, {\"image\": input_tensor})\n",
    "angle = outputs[0][0][0]\n",
    "print(f\"Przewidywany kąt: {angle:.2f}°\")\n"
   ]
  },
  {
   "cell_type": "code",
   "execution_count": 8,
   "id": "c9394de7",
   "metadata": {},
   "outputs": [
    {
     "data": {
      "text/plain": [
       "True"
      ]
     },
     "execution_count": 8,
     "metadata": {},
     "output_type": "execute_result"
    }
   ],
   "source": [
    "(h, w) = image.shape[:2]\n",
    "center = (w // 2, h // 2)\n",
    "\n",
    "M = cv2.getRotationMatrix2D(center, 48.05215817737758, 1.0)\n",
    "rotated = cv2.warpAffine(image, M, (w, h), flags=cv2.INTER_LINEAR, borderMode=cv2.BORDER_CONSTANT, borderValue=(255, 255, 255))\n",
    "cv2.imwrite(\"rotated_image.jpg\", rotated)"
   ]
  },
  {
   "cell_type": "code",
   "execution_count": 26,
   "id": "a5928891",
   "metadata": {},
   "outputs": [
    {
     "data": {
      "text/plain": [
       "array([[    0.50038,     0.41057,     0.99924,     0.81992],\n",
       "       [    0.50009,     0.90997,     0.99911,     0.18001]], dtype=float32)"
      ]
     },
     "metadata": {},
     "output_type": "display_data"
    },
    {
     "data": {
      "text/plain": [
       "array([0, 1])"
      ]
     },
     "metadata": {},
     "output_type": "display_data"
    },
    {
     "data": {
      "text/plain": [
       "'/repos/uni-si/R2S4/DNN/End_project/images/test_v2_yolo2/card_1_entry_0.jpg'"
      ]
     },
     "metadata": {},
     "output_type": "display_data"
    }
   ],
   "source": [
    "boxes = results[0].boxes.xywhn.cpu().numpy()\n",
    "classes = results[0].boxes.cls.cpu().numpy().astype(int)\n",
    "\n",
    "display(boxes)\n",
    "display(classes)\n",
    "display(results[0].path)"
   ]
  },
  {
   "cell_type": "code",
   "execution_count": null,
   "id": "b2660841",
   "metadata": {},
   "outputs": [],
   "source": [
    "class CardProcessor:\n",
    "\tdef __init__(self):\n",
    "\t\tself.detection_model = YOLO('runs/detect/person_entry_model5/weights/best.pt')\n",
    "\t\tself.split_model = YOLO('runs/detect/split_image_id_model/weights/best.pt')\n",
    "\t\tself.rotation_model = ort.InferenceSession(\"deep-image-orientation-angle-detection.onnx\")\n",
    "\n",
    "\t\tself.debug_ocr_path = Path(\"debug_ocr_images\")\n",
    "\t\tself.debug_ocr_path.mkdir(exist_ok=True)\n",
    "\t\tself.ocr_debug_counter = 0\n",
    "\n",
    "\t\ttry:\n",
    "\t\t\tself.trocr_processor = TrOCRProcessor.from_pretrained('microsoft/trocr-small-stage1', use_fast=True)\n",
    "\t\t\tself.trocr_model = VisionEncoderDecoderModel.from_pretrained('microsoft/trocr-small-stage1')\n",
    "\t\t\tif torch.cuda.is_available() and self.trocr_model is not None:\n",
    "\t\t\t\tself.trocr_model.to('cuda')\n",
    "\t\t\tprint(\"TrOCR model loaded successfully.\")\n",
    "\t\texcept Exception as e:\n",
    "\t\t\tprint(f\"Error loading TrOCR model: {e}. TrOCR will not be available.\")\n",
    "\t\t\tself.trocr_processor = None\n",
    "\t\t\tself.trocr_model = None\n",
    "\n",
    "\tdef process_card(self, card_path):\n",
    "\t\tcard = cv2.imread(card_path)\n",
    "\n",
    "\t\tpair_regions = self.detection_model.predict(source=card_path, save=False, conf=0.25, imgsz=1024)\n",
    "\t\tif not pair_regions or len(pair_regions) == 0:\n",
    "\t\t\tprint(f\"No regions detected in {card_path}.\")\n",
    "\t\t\treturn []\n",
    "\n",
    "\t\tprint(f\"Found {len(pair_regions)} image-id pair regions.\")\n",
    "\n",
    "\t\tboxes = pair_regions[0].boxes.xywhn.cpu().numpy()\n",
    "\n",
    "\t\tresults = []\n",
    "\n",
    "\t\tfor i, box in enumerate(boxes):\n",
    "\t\t\tcrop_box = self.extract_crop(card, box)\n",
    "\n",
    "\t\t\tsplit_regions = self.split_model.predict(source=crop_box, save=False, conf=0.25, imgsz=320)\n",
    "\n",
    "\t\t\tsplit_boxes = split_regions[0].boxes.xywhn.cpu().numpy()\n",
    "\n",
    "\t\t\timage_crop = self.extract_crop(crop_box, split_boxes[0])\n",
    "\t\t\tid_crop = self.extract_crop(crop_box, split_boxes[1])\n",
    "\n",
    "\t\t\trotated_image, angle = self.correct_orientation(image_crop)\n",
    "\n",
    "\t\t\tid = self.extract_id(id_crop)\n",
    "\n",
    "\t\t\tresults.append({\n",
    "\t\t\t\t'id': id,\n",
    "\t\t\t\t'rotated_crop': rotated_image,\n",
    "\t\t\t\t'angle': angle,\n",
    "\t\t\t\t'source_card': Path(card_path).name,\n",
    "\t\t\t\t'region_idx': i,\n",
    "\t\t\t\t'region': box\n",
    "\t\t\t})\n",
    "\n",
    "\t\treturn results\n",
    "\n",
    "\tdef extract_id(self, region):\n",
    "\t\tif self.trocr_model is None or self.trocr_processor is None:\n",
    "\t\t\tprint(\"Debug - TrOCR model not initialized, skipping OCR.\")\n",
    "\t\t\treturn \"OCR_ERROR\"\n",
    "\n",
    "\t\tocr_attempt_filename_prefix = f\"ocr_input_{self.ocr_debug_counter}\"\n",
    "\t\tself.ocr_debug_counter += 1\n",
    "\n",
    "\t\ttry:\n",
    "\t\t\tpixel_values = self.trocr_processor(images=region, return_tensors=\"pt\").pixel_values\n",
    "\t\t\tif torch.cuda.is_available():\n",
    "\t\t\t\tpixel_values = pixel_values.to(self.trocr_model.device)\n",
    "\n",
    "\t\t\tgenerated_ids = self.trocr_model.generate(pixel_values, max_length=10)\n",
    "\n",
    "\t\t\tdecoded_texts = self.trocr_processor.batch_decode(generated_ids, skip_special_tokens=True)\n",
    "\n",
    "\t\t\tif not decoded_texts or not decoded_texts[0].strip():\n",
    "\t\t\t\tdebug_filename = self.debug_ocr_path / f\"{ocr_attempt_filename_prefix}_fails_empty.png\"\n",
    "\t\t\t\tcv2.imwrite(str(debug_filename), region)\n",
    "\t\t\t\tprint(f\"Debug - Saved empty/whitespace OCR crop to {debug_filename}\")\n",
    "\t\t\t\treturn \"ID_NOT_DETECTED\"\n",
    "\n",
    "\t\t\tid_text_from_ocr = decoded_texts[0].strip()\n",
    "\n",
    "\t\t\tnumeric_id_text = \"\".join(filter(str.isdigit, id_text_from_ocr))\n",
    "\n",
    "\t\t\tif not numeric_id_text:\n",
    "\t\t\t\tdebug_filename = self.debug_ocr_path / f\"{ocr_attempt_filename_prefix}_fails_nonumeric_{id_text_from_ocr.replace(' ','_')}.png\"\n",
    "\t\t\t\tcv2.imwrite(str(debug_filename), region)\n",
    "\t\t\t\tprint(f\"Debug - Saved non-numeric OCR crop to {debug_filename} (Raw: '{id_text_from_ocr}')\")\n",
    "\t\t\t\treturn \"ID_NOT_DETECTED\"\n",
    "\n",
    "\t\t\tprint(f\"Debug - TrOCR extracted ID: {numeric_id_text}\")\n",
    "\t\t\treturn numeric_id_text\n",
    "\n",
    "\t\texcept Exception as e:\n",
    "\t\t\tprint(f\"Debug - Exception during TrOCR processing in extract_id for region {region}: {e}\")\n",
    "\t\t\treturn \"OCR_ERROR\"\n",
    "\n",
    "\tdef find_rotation_angle(self, image):\n",
    "\t\timage_resized = cv2.resize(image, (224, 224))\n",
    "\t\timage_normalized = image_resized.astype(np.float32) / 255.0\n",
    "\t\tinput_tensor = np.expand_dims(image_normalized.transpose(2, 0, 1), axis=0)\n",
    "\t\toutputs = session.run(None, {\"image\": input_tensor})\n",
    "\t\tangle = outputs[0][0][0]\n",
    "\t\treturn angle\n",
    "\n",
    "\tdef correct_orientation(self, crop):\n",
    "\t\tangle = self.find_rotation_angle(crop)\n",
    "\t\tfor i in range(3):\n",
    "\t\t\tangle = self.find_rotation_angle(crop)\n",
    "\t\t\tprint(angle)\n",
    "\t\trotated = self.rotate_image(crop, angle)\n",
    "\n",
    "\t\treturn rotated, angle\n",
    "\n",
    "\tdef evaluate_alignment_score(self, image):\n",
    "\t\tgray = cv2.cvtColor(image, cv2.COLOR_BGR2GRAY)\n",
    "\t\tsobel = cv2.Sobel(gray, cv2.CV_64F, 0, 1, ksize=3)\n",
    "\t\tscore = np.var(sobel)\n",
    "\t\treturn score\n",
    "\n",
    "\tdef rotate_image(self, image, angle):\n",
    "\t\t(h, w) = image.shape[:2]\n",
    "\t\tcenter = (w // 2, h // 2)\n",
    "\n",
    "\t\tM = cv2.getRotationMatrix2D(center, -angle, 1.0)\n",
    "\t\trotated = cv2.warpAffine(image, M, (w, h), flags=cv2.INTER_LINEAR, borderMode=cv2.BORDER_CONSTANT, borderValue=(255, 255, 255))\n",
    "\t\treturn rotated\n",
    "\n",
    "\tdef extract_crop(self, card, region):\n",
    "\t\tcard_h, card_w = card.shape[:2]\n",
    "\n",
    "\t\tregion_x, region_y, region_w, region_h = region\n",
    "\t\tx_min = int((region_x - region_w / 2) * card_w)\n",
    "\t\tx_max = int((region_x + region_w / 2) * card_w)\n",
    "\t\ty_min = int((region_y - region_h / 2) * card_h)\n",
    "\t\ty_max = int((region_y + region_h / 2) * card_h)\n",
    "\n",
    "\t\tcrop = card[y_min:y_max, x_min:x_max]\n",
    "\t\treturn crop\n",
    "\n",
    "\n",
    "def process_cards(input_dir, output_dir):\n",
    "\tprocessor = CardProcessor()\n",
    "\n",
    "\tinput_path = Path(input_dir)\n",
    "\toutput_path = Path(output_dir)\n",
    "\toutput_path.mkdir(exist_ok=True)\n",
    "\n",
    "\tall_images_info = []\n",
    "\n",
    "\tfor image_file in input_path.glob('*.jpg'):\n",
    "\t\tprint(f\"Processing {image_file.name}...\")\n",
    "\t\tresults = processor.process_card(str(image_file))\n",
    "\n",
    "\t\tfor result in results:\n",
    "\t\t\tid = result['id']\n",
    "\t\t\tif id in [\"ID_NOT_FOUND\", \"ID_NOT_DETECTED\", \"OCR_ERROR\"]:\n",
    "\t\t\t\tfilename = f\"unknown_{result['source_card']}_{result['region_idx']}.jpg\"\n",
    "\t\t\telse:\n",
    "\t\t\t\tfilename = f\"{id}.jpg\"\n",
    "\n",
    "\t\t\toutput_file = output_path / filename\n",
    "\n",
    "\t\t\tcounter = 1\n",
    "\t\t\twhile output_file.exists():\n",
    "\t\t\t\tif id in [\"ID_NOT_FOUND\", \"ID_NOT_DETECTED\", \"OCR_ERROR\"]:\n",
    "\t\t\t\t\tfilename = f\"unknown_{result['source_card']}_{result['region_idx']}_{counter}.jpg\"\n",
    "\t\t\t\telse:\n",
    "\t\t\t\t\tfilename = f\"{id}_{counter}.jpg\"\n",
    "\t\t\t\toutput_file = output_path / filename\n",
    "\t\t\t\tcounter += 1\n",
    "\n",
    "\t\t\tcv2.imwrite(str(output_file), result['rotated_crop'])\n",
    "\n",
    "\t\t\tall_images_info.append({\n",
    "\t\t\t\t'id': result['id'],\n",
    "\t\t\t\t'filename': filename,\n",
    "\t\t\t\t'source_card': result['source_card'],\n",
    "\t\t\t\t'region_idx': result['region_idx'],\n",
    "\t\t\t\t'angle': result['angle'],\n",
    "\t\t\t\t'region_x': result['region'][0],\n",
    "\t\t\t\t'region_y': result['region'][1],\n",
    "\t\t\t\t'region_w': result['region'][2],\n",
    "\t\t\t\t'region_h': result['region'][3],\n",
    "\t\t\t})\n",
    "\n",
    "\t\t\tprint(f\"  Saved: {filename} (ID: {result['id']}, rotated: {result['angle']}°)\")\n",
    "\n",
    "\tif all_images_info:\n",
    "\t\tdf = pd.DataFrame(all_images_info)\n",
    "\t\tdf.to_csv(output_path / 'images_info.csv', index=False)\n",
    "\n",
    "\t\tprint(f\"\\nProcessing complete!\")\n",
    "\t\tprint(f\"Total images saved: {len(all_images_info)}\")\n",
    "\t\tprint(f\"All images saved to: {output_path}\")\n",
    "\t\tprint(f\"Image info saved to: {output_path / 'all_images.csv'}\")\n",
    "\n",
    "\treturn all_images_info"
   ]
  },
  {
   "cell_type": "code",
   "execution_count": 28,
   "id": "10184397",
   "metadata": {},
   "outputs": [
    {
     "name": "stderr",
     "output_type": "stream",
     "text": [
      "Config of the encoder: <class 'transformers.models.deit.modeling_deit.DeiTModel'> is overwritten by shared encoder config: DeiTConfig {\n",
      "  \"attention_probs_dropout_prob\": 0.0,\n",
      "  \"encoder_stride\": 16,\n",
      "  \"hidden_act\": \"gelu\",\n",
      "  \"hidden_dropout_prob\": 0.0,\n",
      "  \"hidden_size\": 384,\n",
      "  \"image_size\": 384,\n",
      "  \"initializer_range\": 0.02,\n",
      "  \"intermediate_size\": 1536,\n",
      "  \"layer_norm_eps\": 1e-12,\n",
      "  \"model_type\": \"deit\",\n",
      "  \"num_attention_heads\": 6,\n",
      "  \"num_channels\": 3,\n",
      "  \"num_hidden_layers\": 12,\n",
      "  \"patch_size\": 16,\n",
      "  \"pooler_act\": \"tanh\",\n",
      "  \"pooler_output_size\": 384,\n",
      "  \"qkv_bias\": true,\n",
      "  \"torch_dtype\": \"float32\",\n",
      "  \"transformers_version\": \"4.51.2\"\n",
      "}\n",
      "\n",
      "Config of the decoder: <class 'transformers.models.trocr.modeling_trocr.TrOCRForCausalLM'> is overwritten by shared decoder config: TrOCRConfig {\n",
      "  \"activation_dropout\": 0.0,\n",
      "  \"activation_function\": \"relu\",\n",
      "  \"add_cross_attention\": true,\n",
      "  \"attention_dropout\": 0.0,\n",
      "  \"bos_token_id\": 0,\n",
      "  \"classifier_dropout\": 0.0,\n",
      "  \"cross_attention_hidden_size\": 384,\n",
      "  \"d_model\": 256,\n",
      "  \"decoder_attention_heads\": 8,\n",
      "  \"decoder_ffn_dim\": 1024,\n",
      "  \"decoder_layerdrop\": 0.0,\n",
      "  \"decoder_layers\": 6,\n",
      "  \"decoder_start_token_id\": 2,\n",
      "  \"dropout\": 0.1,\n",
      "  \"eos_token_id\": 2,\n",
      "  \"init_std\": 0.02,\n",
      "  \"is_decoder\": true,\n",
      "  \"layernorm_embedding\": true,\n",
      "  \"max_position_embeddings\": 512,\n",
      "  \"model_type\": \"trocr\",\n",
      "  \"pad_token_id\": 1,\n",
      "  \"scale_embedding\": true,\n",
      "  \"tie_word_embeddings\": false,\n",
      "  \"torch_dtype\": \"float32\",\n",
      "  \"transformers_version\": \"4.51.2\",\n",
      "  \"use_cache\": false,\n",
      "  \"use_learned_position_embeddings\": true,\n",
      "  \"vocab_size\": 64044\n",
      "}\n",
      "\n",
      "Some weights of VisionEncoderDecoderModel were not initialized from the model checkpoint at microsoft/trocr-small-stage1 and are newly initialized: ['encoder.pooler.dense.bias', 'encoder.pooler.dense.weight']\n",
      "You should probably TRAIN this model on a down-stream task to be able to use it for predictions and inference.\n"
     ]
    },
    {
     "name": "stdout",
     "output_type": "stream",
     "text": [
      "TrOCR model loaded successfully.\n",
      "Processing card_2.jpg...\n",
      "\n",
      "image 1/1 /repos/uni-si/R2S4/DNN/End_project/cards/card_2.jpg: 928x1024 20 person_entrys, 25.8ms\n",
      "Speed: 3.1ms preprocess, 25.8ms inference, 1.2ms postprocess per image at shape (1, 3, 928, 1024)\n",
      "Found 1 image-id pair regions.\n",
      "\n",
      "0: 320x256 1 image, 1 id, 14.7ms\n",
      "Speed: 0.4ms preprocess, 14.7ms inference, 1.4ms postprocess per image at shape (1, 3, 320, 256)\n",
      "68.14432\n",
      "68.14432\n",
      "68.14432\n",
      "Debug - TrOCR extracted ID: 29\n",
      "\n",
      "0: 320x256 1 image, 1 id, 13.0ms\n",
      "Speed: 0.9ms preprocess, 13.0ms inference, 1.2ms postprocess per image at shape (1, 3, 320, 256)\n",
      "38.985474\n",
      "38.985474\n",
      "38.985474\n",
      "Debug - TrOCR extracted ID: 39\n",
      "\n",
      "0: 320x256 1 image, 1 id, 12.8ms\n",
      "Speed: 0.5ms preprocess, 12.8ms inference, 1.6ms postprocess per image at shape (1, 3, 320, 256)\n",
      "1.3808746\n",
      "1.3808746\n",
      "1.3808746\n",
      "Debug - TrOCR extracted ID: 33\n",
      "\n",
      "0: 320x256 1 image, 1 id, 12.1ms\n",
      "Speed: 0.6ms preprocess, 12.1ms inference, 1.2ms postprocess per image at shape (1, 3, 320, 256)\n",
      "154.82233\n",
      "154.82233\n",
      "154.82233\n",
      "Debug - TrOCR extracted ID: 21\n",
      "\n",
      "0: 320x256 1 image, 1 id, 15.2ms\n",
      "Speed: 0.6ms preprocess, 15.2ms inference, 1.8ms postprocess per image at shape (1, 3, 320, 256)\n",
      "-163.57623\n",
      "-163.57623\n",
      "-163.57623\n",
      "Debug - TrOCR extracted ID: 31\n",
      "\n",
      "0: 320x256 1 image, 1 id, 16.0ms\n",
      "Speed: 0.5ms preprocess, 16.0ms inference, 1.7ms postprocess per image at shape (1, 3, 320, 256)\n",
      "61.297337\n",
      "61.297337\n",
      "61.297337\n",
      "Debug - TrOCR extracted ID: 34\n",
      "\n",
      "0: 320x256 1 image, 1 id, 18.9ms\n",
      "Speed: 0.5ms preprocess, 18.9ms inference, 1.8ms postprocess per image at shape (1, 3, 320, 256)\n",
      "-85.30299\n",
      "-85.30299\n",
      "-85.30299\n",
      "Debug - TrOCR extracted ID: 35\n",
      "\n",
      "0: 320x256 1 image, 1 id, 21.9ms\n",
      "Speed: 0.5ms preprocess, 21.9ms inference, 1.5ms postprocess per image at shape (1, 3, 320, 256)\n",
      "1.4662437\n",
      "1.4662437\n",
      "1.4662437\n",
      "Debug - TrOCR extracted ID: 22\n",
      "\n",
      "0: 320x256 1 image, 1 id, 24.2ms\n",
      "Speed: 0.5ms preprocess, 24.2ms inference, 2.2ms postprocess per image at shape (1, 3, 320, 256)\n",
      "-31.155369\n",
      "-31.155369\n",
      "-31.155369\n",
      "Debug - TrOCR extracted ID: 24\n",
      "\n",
      "0: 320x256 1 image, 1 id, 26.1ms\n",
      "Speed: 0.7ms preprocess, 26.1ms inference, 1.6ms postprocess per image at shape (1, 3, 320, 256)\n",
      "154.20856\n",
      "154.20856\n",
      "154.20856\n",
      "Debug - TrOCR extracted ID: 40\n",
      "\n",
      "0: 320x256 1 image, 1 id, 30.9ms\n",
      "Speed: 0.8ms preprocess, 30.9ms inference, 2.8ms postprocess per image at shape (1, 3, 320, 256)\n",
      "11.386693\n",
      "11.386693\n",
      "11.386693\n",
      "Debug - TrOCR extracted ID: 32\n",
      "\n",
      "0: 320x256 1 image, 1 id, 36.6ms\n",
      "Speed: 0.5ms preprocess, 36.6ms inference, 4.3ms postprocess per image at shape (1, 3, 320, 256)\n",
      "104.1116\n",
      "104.1116\n",
      "104.1116\n",
      "Debug - TrOCR extracted ID: 36\n",
      "\n",
      "0: 320x256 1 image, 1 id, 39.7ms\n",
      "Speed: 0.9ms preprocess, 39.7ms inference, 3.0ms postprocess per image at shape (1, 3, 320, 256)\n",
      "149.04564\n",
      "149.04564\n",
      "149.04564\n",
      "Debug - TrOCR extracted ID: 38\n",
      "\n",
      "0: 320x256 1 image, 1 id, 48.1ms\n",
      "Speed: 0.6ms preprocess, 48.1ms inference, 4.2ms postprocess per image at shape (1, 3, 320, 256)\n",
      "6.727074\n",
      "6.727074\n",
      "6.727074\n",
      "Debug - TrOCR extracted ID: 26\n",
      "\n",
      "0: 320x256 1 image, 1 id, 44.5ms\n",
      "Speed: 1.0ms preprocess, 44.5ms inference, 1.8ms postprocess per image at shape (1, 3, 320, 256)\n",
      "-146.55379\n",
      "-146.55379\n",
      "-146.55379\n",
      "Debug - TrOCR extracted ID: 37\n",
      "\n",
      "0: 320x256 1 image, 1 id, 37.3ms\n",
      "Speed: 0.9ms preprocess, 37.3ms inference, 2.1ms postprocess per image at shape (1, 3, 320, 256)\n",
      "111.12292\n",
      "111.12292\n",
      "111.12292\n",
      "Debug - TrOCR extracted ID: 30\n",
      "\n",
      "0: 320x256 1 image, 1 id, 46.2ms\n",
      "Speed: 0.8ms preprocess, 46.2ms inference, 4.2ms postprocess per image at shape (1, 3, 320, 256)\n",
      "31.455566\n",
      "31.455566\n",
      "31.455566\n",
      "Debug - TrOCR extracted ID: 25\n",
      "\n",
      "0: 320x256 1 image, 1 id, 39.9ms\n",
      "Speed: 0.9ms preprocess, 39.9ms inference, 2.9ms postprocess per image at shape (1, 3, 320, 256)\n",
      "76.89786\n",
      "76.89786\n",
      "76.89786\n",
      "Debug - TrOCR extracted ID: 23\n",
      "\n",
      "0: 320x256 1 image, 1 id, 40.7ms\n",
      "Speed: 0.8ms preprocess, 40.7ms inference, 1.6ms postprocess per image at shape (1, 3, 320, 256)\n",
      "-42.086132\n",
      "-42.086132\n",
      "-42.086132\n",
      "Debug - TrOCR extracted ID: 27\n",
      "\n",
      "0: 320x256 1 image, 1 id, 34.1ms\n",
      "Speed: 1.1ms preprocess, 34.1ms inference, 1.4ms postprocess per image at shape (1, 3, 320, 256)\n",
      "-59.674595\n",
      "-59.674595\n",
      "-59.674595\n",
      "Debug - TrOCR extracted ID: 28\n",
      "  Saved: 29_1.jpg (ID: 29, rotated: 68.14431762695312°)\n",
      "  Saved: 39_1.jpg (ID: 39, rotated: 38.9854736328125°)\n",
      "  Saved: 33_1.jpg (ID: 33, rotated: 1.3808746337890625°)\n",
      "  Saved: 21_1.jpg (ID: 21, rotated: 154.82232666015625°)\n",
      "  Saved: 31_1.jpg (ID: 31, rotated: -163.57623291015625°)\n",
      "  Saved: 34_1.jpg (ID: 34, rotated: 61.29733657836914°)\n",
      "  Saved: 35_1.jpg (ID: 35, rotated: -85.30299377441406°)\n",
      "  Saved: 22_1.jpg (ID: 22, rotated: 1.4662437438964844°)\n",
      "  Saved: 24_1.jpg (ID: 24, rotated: -31.15536880493164°)\n",
      "  Saved: 40_1.jpg (ID: 40, rotated: 154.20855712890625°)\n",
      "  Saved: 32_1.jpg (ID: 32, rotated: 11.386693000793457°)\n",
      "  Saved: 36_1.jpg (ID: 36, rotated: 104.11160278320312°)\n",
      "  Saved: 38_1.jpg (ID: 38, rotated: 149.04563903808594°)\n",
      "  Saved: 26_1.jpg (ID: 26, rotated: 6.727074146270752°)\n",
      "  Saved: 37_1.jpg (ID: 37, rotated: -146.5537872314453°)\n",
      "  Saved: 30_1.jpg (ID: 30, rotated: 111.12291717529297°)\n",
      "  Saved: 25_1.jpg (ID: 25, rotated: 31.45556640625°)\n",
      "  Saved: 23_1.jpg (ID: 23, rotated: 76.89785766601562°)\n",
      "  Saved: 27_1.jpg (ID: 27, rotated: -42.08613204956055°)\n",
      "  Saved: 28_1.jpg (ID: 28, rotated: -59.67459487915039°)\n",
      "\n",
      "Processing complete!\n",
      "Total images saved: 20\n",
      "All images saved to: extracted\n",
      "Image info saved to: extracted/all_images.csv\n"
     ]
    }
   ],
   "source": [
    "results = process_cards('cards', 'extracted')"
   ]
  }
 ],
 "metadata": {
  "kernelspec": {
   "display_name": "Python 3",
   "language": "python",
   "name": "python3"
  },
  "language_info": {
   "codemirror_mode": {
    "name": "ipython",
    "version": 3
   },
   "file_extension": ".py",
   "mimetype": "text/x-python",
   "name": "python",
   "nbconvert_exporter": "python",
   "pygments_lexer": "ipython3",
   "version": "3.11.9"
  }
 },
 "nbformat": 4,
 "nbformat_minor": 5
}
