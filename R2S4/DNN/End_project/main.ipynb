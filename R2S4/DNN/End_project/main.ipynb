{
 "cells": [
  {
   "cell_type": "code",
   "execution_count": 60,
   "id": "1f758013",
   "metadata": {},
   "outputs": [],
   "source": [
    "import os\n",
    "import cv2\n",
    "import numpy as np\n",
    "import torch\n",
    "from ultralytics import YOLO\n",
    "import matplotlib.pyplot as plt\n",
    "from IPython.display import display\n",
    "import random\n",
    "import pytesseract\n",
    "from pathlib import Path\n",
    "import pandas as pd\n",
    "from transformers import TrOCRProcessor, VisionEncoderDecoderModel\n",
    "from PIL import Image\n",
    "from IPython.display import clear_output"
   ]
  },
  {
   "cell_type": "code",
   "execution_count": 2,
   "id": "ef3fe375",
   "metadata": {},
   "outputs": [
    {
     "data": {
      "text/plain": [
       "True"
      ]
     },
     "execution_count": 2,
     "metadata": {},
     "output_type": "execute_result"
    }
   ],
   "source": [
    "torch.cuda.is_available()"
   ]
  },
  {
   "cell_type": "code",
   "execution_count": 6,
   "id": "3999a172",
   "metadata": {},
   "outputs": [],
   "source": [
    "import kagglehub\n",
    "#dataset_path = kagglehub.dataset_download(\"jessicali9530/lfw-dataset\")\n",
    "dataset_path = kagglehub.dataset_download(\"chiragsaipanuganti/morph\")"
   ]
  },
  {
   "cell_type": "code",
   "execution_count": 6,
   "id": "2f68a3b0",
   "metadata": {},
   "outputs": [
    {
     "data": {
      "text/plain": [
       "'/root/.cache/kagglehub/datasets/chiragsaipanuganti/morph/versions/2'"
      ]
     },
     "execution_count": 6,
     "metadata": {},
     "output_type": "execute_result"
    }
   ],
   "source": [
    "dataset_path"
   ]
  },
  {
   "cell_type": "code",
   "execution_count": 7,
   "id": "ffdb5d0a",
   "metadata": {},
   "outputs": [],
   "source": [
    "image_paths = []\n",
    "for root, dirs, files in os.walk(dataset_path):\n",
    "    for file in files:\n",
    "        if file.lower().endswith(('.jpg')):\n",
    "            image_paths.append(os.path.join(root, file))"
   ]
  },
  {
   "cell_type": "code",
   "execution_count": null,
   "id": "595db6f2",
   "metadata": {},
   "outputs": [],
   "source": [
    "def populate_whitecard(image_paths, naming, height=1540, width=1754, im_width=250, im_height=250, spacing=80):\n",
    "    whitecard = np.ones((height, width, 3), dtype=np.uint8) * 255\n",
    "    x = 10\n",
    "    y = 10\n",
    "\n",
    "    diagonal_size = int(np.sqrt(im_width**2 + im_height**2)) + 10\n",
    "\n",
    "    for i, name in zip(image_paths, naming):\n",
    "        img = cv2.imread(i)\n",
    "        img = cv2.resize(img, (im_width, im_height))\n",
    "        img = cv2.cvtColor(img, cv2.COLOR_BGR2RGB)\n",
    "\n",
    "        rot_canvas = np.ones((diagonal_size, diagonal_size, 3), dtype=np.uint8) * 255\n",
    "        start_x = (diagonal_size - im_width) // 2\n",
    "        start_y = (diagonal_size - im_height) // 2\n",
    "        rot_canvas[start_y:start_y + im_height, start_x:start_x + im_width] = img\n",
    "\n",
    "        rot_angle = random.uniform(-180, 180)\n",
    "        center = (diagonal_size // 2, diagonal_size // 2)\n",
    "        rot_matrix = cv2.getRotationMatrix2D(center, rot_angle, 1.0)\n",
    "        rot_img = cv2.warpAffine(rot_canvas, rot_matrix, (diagonal_size, diagonal_size), borderValue=(255, 255, 255))\n",
    "\n",
    "        whitecard[y:y+diagonal_size, x:x+diagonal_size] = rot_img\n",
    "\n",
    "        cv2.putText(whitecard, str(name), (x + diagonal_size // 2, y + diagonal_size + (spacing // 2)), \n",
    "                   cv2.FONT_HERSHEY_SCRIPT_COMPLEX, 1.3, (0, 0, 0), 2, cv2.LINE_AA)\n",
    "\n",
    "        x += diagonal_size + 40\n",
    "        if x > (width-diagonal_size):\n",
    "            x = 10\n",
    "            y += diagonal_size + spacing\n",
    "        if y > (height-diagonal_size):\n",
    "            return whitecard\n",
    "    return whitecard\n",
    "\n",
    "def get_cards(image_paths, num, im_width, im_height):\n",
    "    cards = []\n",
    "    random.shuffle(image_paths)\n",
    "    for i in range(num):\n",
    "        card = populate_whitecard(image_paths[i*20:(i+1)*20], [f\"{i*20+j+1}\" for j in range(20)], im_height=im_height, im_width=im_width)\n",
    "        cards.append(card)\n",
    "    return cards"
   ]
  },
  {
   "cell_type": "code",
   "execution_count": 73,
   "id": "1e2aef52",
   "metadata": {},
   "outputs": [],
   "source": [
    "def populate_whitecard_labels_v2(image_paths, naming, height=1540, width=1754, im_width=250, im_height=250, spacing=80):\n",
    "    whitecard = np.ones((height, width, 3), dtype=np.uint8) * 255\n",
    "    x = 10\n",
    "    y = 10\n",
    "\n",
    "    diagonal_size = int(np.sqrt(im_width**2 + im_height**2)) + 10\n",
    "    label_entries = []\n",
    "\n",
    "    for i, name in zip(image_paths, naming):\n",
    "        img = cv2.imread(i)\n",
    "        img = cv2.resize(img, (im_width, im_height))\n",
    "        img = cv2.cvtColor(img, cv2.COLOR_BGR2RGB)\n",
    "\n",
    "        rot_canvas = np.ones((diagonal_size, diagonal_size, 3), dtype=np.uint8) * 255\n",
    "        start_x = (diagonal_size - im_width) // 2\n",
    "        start_y = (diagonal_size - im_height) // 2\n",
    "        rot_canvas[start_y:start_y + im_height, start_x:start_x + im_width] = img\n",
    "\n",
    "        rot_angle = random.uniform(-180, 180)\n",
    "        center = (diagonal_size // 2, diagonal_size // 2)\n",
    "        rot_matrix = cv2.getRotationMatrix2D(center, rot_angle, 1.0)\n",
    "        rot_img = cv2.warpAffine(rot_canvas, rot_matrix, (diagonal_size, diagonal_size), borderValue=(255, 255, 255))\n",
    "\n",
    "        whitecard[y:y+diagonal_size, x:x+diagonal_size] = rot_img\n",
    "\n",
    "        cv2.putText(whitecard, str(name), (x + diagonal_size // 2, y + diagonal_size + (spacing // 2)), \n",
    "                   cv2.FONT_HERSHEY_SCRIPT_COMPLEX, 1.3, (0, 0, 0), 2, cv2.LINE_AA)\n",
    "        \n",
    "        photo_x_center = (x + diagonal_size / 2) / width\n",
    "        photo_y_center = (y + diagonal_size / 2) / height\n",
    "        photo_width = diagonal_size / width\n",
    "        photo_height = (diagonal_size + spacing) / height\n",
    "        label_entries.append(f\"0 {photo_x_center:.6f} {photo_y_center:.6f} {photo_width:.6f} {photo_height:.6f}\")\n",
    "\n",
    "        id_x_center = photo_x_center\n",
    "        id_y_center = (y + diagonal_size + spacing / 2) / height\n",
    "        id_width = photo_width\n",
    "        id_height = spacing / height\n",
    "        label_entries.append(f\"1 {id_x_center:.6f} {id_y_center:.6f} {id_width:.6f} {id_height:.6f}\")\n",
    "\n",
    "        x += diagonal_size + 40\n",
    "        if x > (width-diagonal_size):\n",
    "            x = 10\n",
    "            y += diagonal_size + spacing\n",
    "        if y > (height-diagonal_size):\n",
    "            break\n",
    "    return whitecard, label_entries\n",
    "\n",
    "def get_cards_labels(image_paths, num, im_width, im_height, output_path, starting_idx=0):\n",
    "    images_path = Path(\"images\") / Path(output_path)\n",
    "    images_path.mkdir(parents=True, exist_ok=True)\n",
    "    labels_path = Path(\"labels\") / Path(output_path)\n",
    "    labels_path.mkdir(parents=True, exist_ok=True)\n",
    "    cards = []\n",
    "\n",
    "    random.shuffle(image_paths)\n",
    "    for i in range(starting_idx, starting_idx+num):\n",
    "        imgs = image_paths[i*50:(i+1)*50]\n",
    "        names = [f\"{i*50+j+1}\" for j in range(len(imgs))]\n",
    "        card, labels = populate_whitecard_labels_v2(imgs, names, im_width=im_width, im_height=im_height)\n",
    "        filename = f\"card_{i+1}\"\n",
    "        \n",
    "        card_bgr = cv2.cvtColor(card, cv2.COLOR_RGB2BGR)\n",
    "        cv2.imwrite(str(images_path / f\"{filename}.jpg\"), card_bgr)\n",
    "\n",
    "        with open(labels_path / f\"{filename}.txt\", \"w\") as f:\n",
    "            f.write(\"\\n\".join(labels))\n",
    "    return cards"
   ]
  },
  {
   "cell_type": "code",
   "execution_count": 74,
   "id": "e69643e8",
   "metadata": {},
   "outputs": [],
   "source": [
    "for i in ['train_v2', 'valid_v2', 'test_v2']:\n",
    "    get_cards_labels(image_paths, num=30, im_width=250, im_height=250, output_path=i, starting_idx=0)\n",
    "    get_cards_labels(image_paths, num=30, im_width=200, im_height=200, output_path=i, starting_idx=30)\n",
    "    get_cards_labels(image_paths, num=30, im_width=150, im_height=150, output_path=i, starting_idx=60)\n",
    "    get_cards_labels(image_paths, num=15, im_width=175, im_height=175, output_path=i, starting_idx=90)\n",
    "    get_cards_labels(image_paths, num=15, im_width=275, im_height=275, output_path=i, starting_idx=105)"
   ]
  },
  {
   "cell_type": "code",
   "execution_count": 11,
   "id": "a9949717",
   "metadata": {},
   "outputs": [],
   "source": [
    "model = YOLO('yolo11n.pt')  # nano\n",
    "model = YOLO('yolo11s.pt')  # small\n",
    "model = YOLO('yolo11m.pt')  # medium\n",
    "model = YOLO('yolo11l.pt')  # large\n",
    "model = YOLO('yolo11x.pt')  # extra large"
   ]
  },
  {
   "cell_type": "code",
   "execution_count": 12,
   "id": "325a5712",
   "metadata": {},
   "outputs": [],
   "source": [
    "model = YOLO('yolo11n-pose.pt')  # nano\n",
    "model = YOLO('yolo11s-pose.pt')  # small\n",
    "model = YOLO('yolo11m-pose.pt')  # medium\n",
    "model = YOLO('yolo11l-pose.pt')  # large\n",
    "model = YOLO('yolo11x-pose.pt')  # extra large"
   ]
  },
  {
   "cell_type": "code",
   "execution_count": 30,
   "id": "3c45c61b",
   "metadata": {},
   "outputs": [
    {
     "name": "stdout",
     "output_type": "stream",
     "text": [
      "New https://pypi.org/project/ultralytics/8.3.146 available 😃 Update with 'pip install -U ultralytics'\n",
      "Ultralytics 8.3.144 🚀 Python-3.11.9 torch-2.6.0+cu124 CUDA:0 (NVIDIA GeForce RTX 4070 Ti SUPER, 16376MiB)\n",
      "\u001b[34m\u001b[1mengine/trainer: \u001b[0magnostic_nms=False, amp=True, augment=False, auto_augment=randaugment, batch=8, bgr=0.0, box=7.5, cache=False, cfg=None, classes=None, close_mosaic=10, cls=0.5, conf=None, copy_paste=0.0, copy_paste_mode=flip, cos_lr=False, cutmix=0.0, data=person_entry.yaml, degrees=0.0, deterministic=True, device=None, dfl=1.5, dnn=False, dropout=0.0, dynamic=False, embed=None, epochs=100, erasing=0.4, exist_ok=False, fliplr=0.5, flipud=0.0, format=torchscript, fraction=1.0, freeze=None, half=False, hsv_h=0.015, hsv_s=0.7, hsv_v=0.4, imgsz=1024, int8=False, iou=0.7, keras=False, kobj=1.0, line_width=None, lr0=0.01, lrf=0.01, mask_ratio=4, max_det=300, mixup=0.0, mode=train, model=yolo11x.pt, momentum=0.937, mosaic=1.0, multi_scale=False, name=person_entry_model5, nbs=64, nms=False, opset=None, optimize=False, optimizer=auto, overlap_mask=True, patience=100, perspective=0.0, plots=True, pose=12.0, pretrained=True, profile=False, project=None, rect=False, resume=False, retina_masks=False, save=True, save_conf=False, save_crop=False, save_dir=runs/detect/person_entry_model5, save_frames=False, save_json=False, save_period=-1, save_txt=False, scale=0.5, seed=0, shear=0.0, show=False, show_boxes=True, show_conf=True, show_labels=True, simplify=True, single_cls=False, source=None, split=val, stream_buffer=False, task=detect, time=None, tracker=botsort.yaml, translate=0.1, val=True, verbose=True, vid_stride=1, visualize=False, warmup_bias_lr=0.1, warmup_epochs=3.0, warmup_momentum=0.8, weight_decay=0.0005, workers=8, workspace=None\n",
      "Overriding model.yaml nc=80 with nc=1\n",
      "\n",
      "                   from  n    params  module                                       arguments                     \n",
      "  0                  -1  1      2784  ultralytics.nn.modules.conv.Conv             [3, 96, 3, 2]                 \n",
      "  1                  -1  1    166272  ultralytics.nn.modules.conv.Conv             [96, 192, 3, 2]               \n",
      "  2                  -1  2    389760  ultralytics.nn.modules.block.C3k2            [192, 384, 2, True, 0.25]     \n",
      "  3                  -1  1   1327872  ultralytics.nn.modules.conv.Conv             [384, 384, 3, 2]              \n",
      "  4                  -1  2   1553664  ultralytics.nn.modules.block.C3k2            [384, 768, 2, True, 0.25]     \n",
      "  5                  -1  1   5309952  ultralytics.nn.modules.conv.Conv             [768, 768, 3, 2]              \n",
      "  6                  -1  2   5022720  ultralytics.nn.modules.block.C3k2            [768, 768, 2, True]           \n",
      "  7                  -1  1   5309952  ultralytics.nn.modules.conv.Conv             [768, 768, 3, 2]              \n",
      "  8                  -1  2   5022720  ultralytics.nn.modules.block.C3k2            [768, 768, 2, True]           \n",
      "  9                  -1  1   1476864  ultralytics.nn.modules.block.SPPF            [768, 768, 5]                 \n",
      " 10                  -1  2   3264768  ultralytics.nn.modules.block.C2PSA           [768, 768, 2]                 \n",
      " 11                  -1  1         0  torch.nn.modules.upsampling.Upsample         [None, 2, 'nearest']          \n",
      " 12             [-1, 6]  1         0  ultralytics.nn.modules.conv.Concat           [1]                           \n",
      " 13                  -1  2   5612544  ultralytics.nn.modules.block.C3k2            [1536, 768, 2, True]          \n",
      " 14                  -1  1         0  torch.nn.modules.upsampling.Upsample         [None, 2, 'nearest']          \n",
      " 15             [-1, 4]  1         0  ultralytics.nn.modules.conv.Concat           [1]                           \n",
      " 16                  -1  2   1700352  ultralytics.nn.modules.block.C3k2            [1536, 384, 2, True]          \n",
      " 17                  -1  1   1327872  ultralytics.nn.modules.conv.Conv             [384, 384, 3, 2]              \n",
      " 18            [-1, 13]  1         0  ultralytics.nn.modules.conv.Concat           [1]                           \n",
      " 19                  -1  2   5317632  ultralytics.nn.modules.block.C3k2            [1152, 768, 2, True]          \n",
      " 20                  -1  1   5309952  ultralytics.nn.modules.conv.Conv             [768, 768, 3, 2]              \n",
      " 21            [-1, 10]  1         0  ultralytics.nn.modules.conv.Concat           [1]                           \n",
      " 22                  -1  2   5612544  ultralytics.nn.modules.block.C3k2            [1536, 768, 2, True]          \n",
      " 23        [16, 19, 22]  1   3146707  ultralytics.nn.modules.head.Detect           [1, [384, 768, 768]]          \n",
      "YOLO11x summary: 357 layers, 56,874,931 parameters, 56,874,915 gradients, 195.4 GFLOPs\n",
      "\n",
      "Transferred 1009/1015 items from pretrained weights\n",
      "Freezing layer 'model.23.dfl.conv.weight'\n",
      "\u001b[34m\u001b[1mAMP: \u001b[0mrunning Automatic Mixed Precision (AMP) checks...\n",
      "\u001b[34m\u001b[1mAMP: \u001b[0mchecks passed ✅\n",
      "\u001b[34m\u001b[1mtrain: \u001b[0mFast image access ✅ (ping: 0.0±0.0 ms, read: 7753.7±1999.4 MB/s, size: 329.3 KB)\n"
     ]
    },
    {
     "name": "stderr",
     "output_type": "stream",
     "text": [
      "\u001b[34m\u001b[1mtrain: \u001b[0mScanning /repos/uni-si/R2S4/DNN/End_project/labels/train... 120 images, 0 backgrounds, 0 corrupt: 100%|██████████| 120/120 [00:00<00:00, 1081.81it/s]"
     ]
    },
    {
     "name": "stdout",
     "output_type": "stream",
     "text": [
      "\u001b[34m\u001b[1mtrain: \u001b[0mNew cache created: /repos/uni-si/R2S4/DNN/End_project/labels/train.cache\n",
      "\u001b[34m\u001b[1malbumentations: \u001b[0mBlur(p=0.01, blur_limit=(3, 7)), MedianBlur(p=0.01, blur_limit=(3, 7)), ToGray(p=0.01, method='weighted_average', num_output_channels=3), CLAHE(p=0.01, clip_limit=(1.0, 4.0), tile_grid_size=(8, 8))\n"
     ]
    },
    {
     "name": "stderr",
     "output_type": "stream",
     "text": [
      "\n"
     ]
    },
    {
     "name": "stdout",
     "output_type": "stream",
     "text": [
      "\u001b[34m\u001b[1mval: \u001b[0mFast image access ✅ (ping: 0.0±0.0 ms, read: 1304.3±1551.3 MB/s, size: 364.4 KB)\n"
     ]
    },
    {
     "name": "stderr",
     "output_type": "stream",
     "text": [
      "\u001b[34m\u001b[1mval: \u001b[0mScanning /repos/uni-si/R2S4/DNN/End_project/labels/valid... 120 images, 0 backgrounds, 0 corrupt: 100%|██████████| 120/120 [00:00<00:00, 982.55it/s]"
     ]
    },
    {
     "name": "stdout",
     "output_type": "stream",
     "text": [
      "\u001b[34m\u001b[1mval: \u001b[0mNew cache created: /repos/uni-si/R2S4/DNN/End_project/labels/valid.cache\n"
     ]
    },
    {
     "name": "stderr",
     "output_type": "stream",
     "text": [
      "\n"
     ]
    },
    {
     "name": "stdout",
     "output_type": "stream",
     "text": [
      "Plotting labels to runs/detect/person_entry_model5/labels.jpg... \n",
      "\u001b[34m\u001b[1moptimizer:\u001b[0m 'optimizer=auto' found, ignoring 'lr0=0.01' and 'momentum=0.937' and determining best 'optimizer', 'lr0' and 'momentum' automatically... \n",
      "\u001b[34m\u001b[1moptimizer:\u001b[0m AdamW(lr=0.002, momentum=0.9) with parameter groups 167 weight(decay=0.0), 174 weight(decay=0.0005), 173 bias(decay=0.0)\n",
      "Image sizes 1024 train, 1024 val\n",
      "Using 8 dataloader workers\n",
      "Logging results to \u001b[1mruns/detect/person_entry_model5\u001b[0m\n",
      "Starting training for 100 epochs...\n",
      "\n",
      "      Epoch    GPU_mem   box_loss   cls_loss   dfl_loss  Instances       Size\n"
     ]
    },
    {
     "name": "stderr",
     "output_type": "stream",
     "text": [
      "      1/100      36.7G      2.094      2.429      2.566        234       1024: 100%|██████████| 15/15 [06:19<00:00, 25.28s/it]\n",
      "                 Class     Images  Instances      Box(P          R      mAP50  mAP50-95): 100%|██████████| 8/8 [01:46<00:00, 13.37s/it]"
     ]
    },
    {
     "name": "stdout",
     "output_type": "stream",
     "text": [
      "                   all        120       2040      0.452       0.85      0.464       0.33\n"
     ]
    },
    {
     "name": "stderr",
     "output_type": "stream",
     "text": [
      "\n"
     ]
    },
    {
     "name": "stdout",
     "output_type": "stream",
     "text": [
      "\n",
      "      Epoch    GPU_mem   box_loss   cls_loss   dfl_loss  Instances       Size\n"
     ]
    },
    {
     "name": "stderr",
     "output_type": "stream",
     "text": [
      "      2/100      19.6G      1.013      1.243      1.427        245       1024: 100%|██████████| 15/15 [02:44<00:00, 10.94s/it]\n",
      "                 Class     Images  Instances      Box(P          R      mAP50  mAP50-95): 100%|██████████| 8/8 [01:15<00:00,  9.44s/it]"
     ]
    },
    {
     "name": "stdout",
     "output_type": "stream",
     "text": [
      "                   all        120       2040    0.00126     0.0221   0.000649   6.49e-05\n"
     ]
    },
    {
     "name": "stderr",
     "output_type": "stream",
     "text": [
      "\n"
     ]
    },
    {
     "name": "stdout",
     "output_type": "stream",
     "text": [
      "\n",
      "      Epoch    GPU_mem   box_loss   cls_loss   dfl_loss  Instances       Size\n"
     ]
    },
    {
     "name": "stderr",
     "output_type": "stream",
     "text": [
      "      3/100      19.5G       1.07     0.8237      1.415        161       1024: 100%|██████████| 15/15 [02:26<00:00,  9.76s/it]\n",
      "                 Class     Images  Instances      Box(P          R      mAP50  mAP50-95): 100%|██████████| 8/8 [01:00<00:00,  7.62s/it]"
     ]
    },
    {
     "name": "stdout",
     "output_type": "stream",
     "text": [
      "                   all        120       2040          0          0          0          0\n"
     ]
    },
    {
     "name": "stderr",
     "output_type": "stream",
     "text": [
      "\n"
     ]
    },
    {
     "name": "stdout",
     "output_type": "stream",
     "text": [
      "\n",
      "      Epoch    GPU_mem   box_loss   cls_loss   dfl_loss  Instances       Size\n"
     ]
    },
    {
     "name": "stderr",
     "output_type": "stream",
     "text": [
      "      4/100      19.6G     0.9679     0.7604      1.355        235       1024: 100%|██████████| 15/15 [01:57<00:00,  7.81s/it]\n",
      "                 Class     Images  Instances      Box(P          R      mAP50  mAP50-95): 100%|██████████| 8/8 [00:26<00:00,  3.35s/it]"
     ]
    },
    {
     "name": "stdout",
     "output_type": "stream",
     "text": [
      "                   all        120       2040          0          0          0          0\n"
     ]
    },
    {
     "name": "stderr",
     "output_type": "stream",
     "text": [
      "\n"
     ]
    },
    {
     "name": "stdout",
     "output_type": "stream",
     "text": [
      "\n",
      "      Epoch    GPU_mem   box_loss   cls_loss   dfl_loss  Instances       Size\n"
     ]
    },
    {
     "name": "stderr",
     "output_type": "stream",
     "text": [
      "      5/100      19.3G      0.884     0.6571      1.297        200       1024: 100%|██████████| 15/15 [01:50<00:00,  7.36s/it]\n",
      "                 Class     Images  Instances      Box(P          R      mAP50  mAP50-95): 100%|██████████| 8/8 [00:31<00:00,  3.98s/it]"
     ]
    },
    {
     "name": "stdout",
     "output_type": "stream",
     "text": [
      "                   all        120       2040          0          0          0          0\n"
     ]
    },
    {
     "name": "stderr",
     "output_type": "stream",
     "text": [
      "\n"
     ]
    },
    {
     "name": "stdout",
     "output_type": "stream",
     "text": [
      "\n",
      "      Epoch    GPU_mem   box_loss   cls_loss   dfl_loss  Instances       Size\n"
     ]
    },
    {
     "name": "stderr",
     "output_type": "stream",
     "text": [
      "      6/100      19.6G     0.8722     0.6347      1.334        187       1024: 100%|██████████| 15/15 [01:35<00:00,  6.39s/it]\n",
      "                 Class     Images  Instances      Box(P          R      mAP50  mAP50-95): 100%|██████████| 8/8 [00:27<00:00,  3.42s/it]"
     ]
    },
    {
     "name": "stdout",
     "output_type": "stream",
     "text": [
      "                   all        120       2040          0          0          0          0\n"
     ]
    },
    {
     "name": "stderr",
     "output_type": "stream",
     "text": [
      "\n"
     ]
    },
    {
     "name": "stdout",
     "output_type": "stream",
     "text": [
      "\n",
      "      Epoch    GPU_mem   box_loss   cls_loss   dfl_loss  Instances       Size\n"
     ]
    },
    {
     "name": "stderr",
     "output_type": "stream",
     "text": [
      "      7/100      19.6G     0.9144     0.8017      1.331        179       1024: 100%|██████████| 15/15 [02:03<00:00,  8.20s/it]\n",
      "                 Class     Images  Instances      Box(P          R      mAP50  mAP50-95): 100%|██████████| 8/8 [00:39<00:00,  4.96s/it]"
     ]
    },
    {
     "name": "stdout",
     "output_type": "stream",
     "text": [
      "                   all        120       2040       0.03      0.529     0.0243     0.0115\n"
     ]
    },
    {
     "name": "stderr",
     "output_type": "stream",
     "text": [
      "\n"
     ]
    },
    {
     "name": "stdout",
     "output_type": "stream",
     "text": [
      "\n",
      "      Epoch    GPU_mem   box_loss   cls_loss   dfl_loss  Instances       Size\n"
     ]
    },
    {
     "name": "stderr",
     "output_type": "stream",
     "text": [
      "      8/100      19.6G     0.8268     0.6917      1.248        267       1024: 100%|██████████| 15/15 [02:03<00:00,  8.25s/it]\n",
      "                 Class     Images  Instances      Box(P          R      mAP50  mAP50-95): 100%|██████████| 8/8 [00:48<00:00,  6.00s/it]"
     ]
    },
    {
     "name": "stdout",
     "output_type": "stream",
     "text": [
      "                   all        120       2040          0          0          0          0\n"
     ]
    },
    {
     "name": "stderr",
     "output_type": "stream",
     "text": [
      "\n"
     ]
    },
    {
     "name": "stdout",
     "output_type": "stream",
     "text": [
      "\n",
      "      Epoch    GPU_mem   box_loss   cls_loss   dfl_loss  Instances       Size\n"
     ]
    },
    {
     "name": "stderr",
     "output_type": "stream",
     "text": [
      "      9/100      19.6G     0.7426     0.6656      1.201        196       1024: 100%|██████████| 15/15 [01:56<00:00,  7.78s/it]\n",
      "                 Class     Images  Instances      Box(P          R      mAP50  mAP50-95): 100%|██████████| 8/8 [00:40<00:00,  5.03s/it]"
     ]
    },
    {
     "name": "stdout",
     "output_type": "stream",
     "text": [
      "                   all        120       2040    0.00699    0.00049     0.0035     0.0007\n"
     ]
    },
    {
     "name": "stderr",
     "output_type": "stream",
     "text": [
      "\n"
     ]
    },
    {
     "name": "stdout",
     "output_type": "stream",
     "text": [
      "\n",
      "      Epoch    GPU_mem   box_loss   cls_loss   dfl_loss  Instances       Size\n"
     ]
    },
    {
     "name": "stderr",
     "output_type": "stream",
     "text": [
      "     10/100      19.6G      0.866     0.5944      1.293        287       1024: 100%|██████████| 15/15 [01:45<00:00,  7.02s/it]\n",
      "                 Class     Images  Instances      Box(P          R      mAP50  mAP50-95): 100%|██████████| 8/8 [00:31<00:00,  3.95s/it]"
     ]
    },
    {
     "name": "stdout",
     "output_type": "stream",
     "text": [
      "                   all        120       2040      0.165      0.289      0.128       0.04\n"
     ]
    },
    {
     "name": "stderr",
     "output_type": "stream",
     "text": [
      "\n"
     ]
    },
    {
     "name": "stdout",
     "output_type": "stream",
     "text": [
      "\n",
      "      Epoch    GPU_mem   box_loss   cls_loss   dfl_loss  Instances       Size\n"
     ]
    },
    {
     "name": "stderr",
     "output_type": "stream",
     "text": [
      "     11/100      19.6G      0.788     0.5502      1.211        206       1024: 100%|██████████| 15/15 [01:55<00:00,  7.70s/it]\n",
      "                 Class     Images  Instances      Box(P          R      mAP50  mAP50-95): 100%|██████████| 8/8 [00:39<00:00,  4.97s/it]"
     ]
    },
    {
     "name": "stdout",
     "output_type": "stream",
     "text": [
      "                   all        120       2040          0          0          0          0\n"
     ]
    },
    {
     "name": "stderr",
     "output_type": "stream",
     "text": [
      "\n"
     ]
    },
    {
     "name": "stdout",
     "output_type": "stream",
     "text": [
      "\n",
      "      Epoch    GPU_mem   box_loss   cls_loss   dfl_loss  Instances       Size\n"
     ]
    },
    {
     "name": "stderr",
     "output_type": "stream",
     "text": [
      "     12/100      19.6G     0.7103      0.521      1.139        268       1024: 100%|██████████| 15/15 [01:53<00:00,  7.55s/it]\n",
      "                 Class     Images  Instances      Box(P          R      mAP50  mAP50-95): 100%|██████████| 8/8 [00:46<00:00,  5.82s/it]"
     ]
    },
    {
     "name": "stdout",
     "output_type": "stream",
     "text": [
      "                   all        120       2040      0.454      0.435       0.39      0.262\n"
     ]
    },
    {
     "name": "stderr",
     "output_type": "stream",
     "text": [
      "\n"
     ]
    },
    {
     "name": "stdout",
     "output_type": "stream",
     "text": [
      "\n",
      "      Epoch    GPU_mem   box_loss   cls_loss   dfl_loss  Instances       Size\n"
     ]
    },
    {
     "name": "stderr",
     "output_type": "stream",
     "text": [
      "     13/100      19.6G     0.6224     0.4431      1.089        262       1024: 100%|██████████| 15/15 [02:10<00:00,  8.73s/it]\n",
      "                 Class     Images  Instances      Box(P          R      mAP50  mAP50-95): 100%|██████████| 8/8 [00:37<00:00,  4.69s/it]"
     ]
    },
    {
     "name": "stdout",
     "output_type": "stream",
     "text": [
      "                   all        120       2040      0.992       0.98      0.994      0.883\n"
     ]
    },
    {
     "name": "stderr",
     "output_type": "stream",
     "text": [
      "\n"
     ]
    },
    {
     "name": "stdout",
     "output_type": "stream",
     "text": [
      "\n",
      "      Epoch    GPU_mem   box_loss   cls_loss   dfl_loss  Instances       Size\n"
     ]
    },
    {
     "name": "stderr",
     "output_type": "stream",
     "text": [
      "     14/100      19.4G     0.6062     0.4485      1.088        219       1024: 100%|██████████| 15/15 [01:49<00:00,  7.33s/it]\n",
      "                 Class     Images  Instances      Box(P          R      mAP50  mAP50-95): 100%|██████████| 8/8 [00:25<00:00,  3.17s/it]"
     ]
    },
    {
     "name": "stdout",
     "output_type": "stream",
     "text": [
      "                   all        120       2040      0.954      0.978       0.99      0.898\n"
     ]
    },
    {
     "name": "stderr",
     "output_type": "stream",
     "text": [
      "\n"
     ]
    },
    {
     "name": "stdout",
     "output_type": "stream",
     "text": [
      "\n",
      "      Epoch    GPU_mem   box_loss   cls_loss   dfl_loss  Instances       Size\n"
     ]
    },
    {
     "name": "stderr",
     "output_type": "stream",
     "text": [
      "     15/100      19.6G     0.5894     0.4149      1.074        234       1024: 100%|██████████| 15/15 [01:47<00:00,  7.19s/it]\n",
      "                 Class     Images  Instances      Box(P          R      mAP50  mAP50-95): 100%|██████████| 8/8 [00:45<00:00,  5.70s/it]"
     ]
    },
    {
     "name": "stdout",
     "output_type": "stream",
     "text": [
      "                   all        120       2040      0.731      0.947      0.856      0.728\n"
     ]
    },
    {
     "name": "stderr",
     "output_type": "stream",
     "text": [
      "\n"
     ]
    },
    {
     "name": "stdout",
     "output_type": "stream",
     "text": [
      "\n",
      "      Epoch    GPU_mem   box_loss   cls_loss   dfl_loss  Instances       Size\n"
     ]
    },
    {
     "name": "stderr",
     "output_type": "stream",
     "text": [
      "     16/100      19.6G     0.5556     0.3863      1.057        146       1024: 100%|██████████| 15/15 [01:55<00:00,  7.68s/it]\n",
      "                 Class     Images  Instances      Box(P          R      mAP50  mAP50-95): 100%|██████████| 8/8 [00:48<00:00,  6.02s/it]"
     ]
    },
    {
     "name": "stdout",
     "output_type": "stream",
     "text": [
      "                   all        120       2040      0.949      0.958      0.982       0.81\n"
     ]
    },
    {
     "name": "stderr",
     "output_type": "stream",
     "text": [
      "\n"
     ]
    },
    {
     "name": "stdout",
     "output_type": "stream",
     "text": [
      "\n",
      "      Epoch    GPU_mem   box_loss   cls_loss   dfl_loss  Instances       Size\n"
     ]
    },
    {
     "name": "stderr",
     "output_type": "stream",
     "text": [
      "     17/100      19.6G     0.5337     0.3722      1.044        311       1024: 100%|██████████| 15/15 [01:52<00:00,  7.49s/it]\n",
      "                 Class     Images  Instances      Box(P          R      mAP50  mAP50-95): 100%|██████████| 8/8 [00:43<00:00,  5.48s/it]"
     ]
    },
    {
     "name": "stdout",
     "output_type": "stream",
     "text": [
      "                   all        120       2040      0.506      0.173      0.199       0.17\n"
     ]
    },
    {
     "name": "stderr",
     "output_type": "stream",
     "text": [
      "\n"
     ]
    },
    {
     "name": "stdout",
     "output_type": "stream",
     "text": [
      "\n",
      "      Epoch    GPU_mem   box_loss   cls_loss   dfl_loss  Instances       Size\n"
     ]
    },
    {
     "name": "stderr",
     "output_type": "stream",
     "text": [
      "     18/100      19.6G     0.4947     0.3524      1.015        221       1024: 100%|██████████| 15/15 [02:02<00:00,  8.16s/it]\n",
      "                 Class     Images  Instances      Box(P          R      mAP50  mAP50-95): 100%|██████████| 8/8 [00:56<00:00,  7.05s/it]"
     ]
    },
    {
     "name": "stdout",
     "output_type": "stream",
     "text": [
      "                   all        120       2040      0.917       0.75      0.843      0.685\n"
     ]
    },
    {
     "name": "stderr",
     "output_type": "stream",
     "text": [
      "\n"
     ]
    },
    {
     "name": "stdout",
     "output_type": "stream",
     "text": [
      "\n",
      "      Epoch    GPU_mem   box_loss   cls_loss   dfl_loss  Instances       Size\n"
     ]
    },
    {
     "name": "stderr",
     "output_type": "stream",
     "text": [
      "     19/100      19.5G     0.5129     0.3606      1.009        286       1024: 100%|██████████| 15/15 [01:58<00:00,  7.88s/it]\n",
      "                 Class     Images  Instances      Box(P          R      mAP50  mAP50-95): 100%|██████████| 8/8 [00:37<00:00,  4.63s/it]"
     ]
    },
    {
     "name": "stdout",
     "output_type": "stream",
     "text": [
      "                   all        120       2040      0.527       0.48      0.577      0.412\n"
     ]
    },
    {
     "name": "stderr",
     "output_type": "stream",
     "text": [
      "\n"
     ]
    },
    {
     "name": "stdout",
     "output_type": "stream",
     "text": [
      "\n",
      "      Epoch    GPU_mem   box_loss   cls_loss   dfl_loss  Instances       Size\n"
     ]
    },
    {
     "name": "stderr",
     "output_type": "stream",
     "text": [
      "     20/100      19.6G      0.504     0.3662      1.013        237       1024: 100%|██████████| 15/15 [01:41<00:00,  6.80s/it]\n",
      "                 Class     Images  Instances      Box(P          R      mAP50  mAP50-95): 100%|██████████| 8/8 [00:32<00:00,  4.03s/it]"
     ]
    },
    {
     "name": "stdout",
     "output_type": "stream",
     "text": [
      "                   all        120       2040      0.834      0.516      0.701      0.513\n"
     ]
    },
    {
     "name": "stderr",
     "output_type": "stream",
     "text": [
      "\n"
     ]
    },
    {
     "name": "stdout",
     "output_type": "stream",
     "text": [
      "\n",
      "      Epoch    GPU_mem   box_loss   cls_loss   dfl_loss  Instances       Size\n"
     ]
    },
    {
     "name": "stderr",
     "output_type": "stream",
     "text": [
      "     21/100      19.6G     0.4605     0.3352     0.9839        214       1024: 100%|██████████| 15/15 [01:36<00:00,  6.41s/it]\n",
      "                 Class     Images  Instances      Box(P          R      mAP50  mAP50-95): 100%|██████████| 8/8 [00:28<00:00,  3.55s/it]"
     ]
    },
    {
     "name": "stdout",
     "output_type": "stream",
     "text": [
      "                   all        120       2040       0.23      0.261      0.174     0.0556\n"
     ]
    },
    {
     "name": "stderr",
     "output_type": "stream",
     "text": [
      "\n"
     ]
    },
    {
     "name": "stdout",
     "output_type": "stream",
     "text": [
      "\n",
      "      Epoch    GPU_mem   box_loss   cls_loss   dfl_loss  Instances       Size\n"
     ]
    },
    {
     "name": "stderr",
     "output_type": "stream",
     "text": [
      "     22/100      19.4G     0.4492     0.3282     0.9855        235       1024: 100%|██████████| 15/15 [02:04<00:00,  8.27s/it]\n",
      "                 Class     Images  Instances      Box(P          R      mAP50  mAP50-95): 100%|██████████| 8/8 [00:47<00:00,  5.89s/it]"
     ]
    },
    {
     "name": "stdout",
     "output_type": "stream",
     "text": [
      "                   all        120       2040      0.871       0.68      0.819      0.652\n"
     ]
    },
    {
     "name": "stderr",
     "output_type": "stream",
     "text": [
      "\n"
     ]
    },
    {
     "name": "stdout",
     "output_type": "stream",
     "text": [
      "\n",
      "      Epoch    GPU_mem   box_loss   cls_loss   dfl_loss  Instances       Size\n"
     ]
    },
    {
     "name": "stderr",
     "output_type": "stream",
     "text": [
      "     23/100      19.5G     0.4062     0.3023     0.9408        199       1024: 100%|██████████| 15/15 [01:53<00:00,  7.60s/it]\n",
      "                 Class     Images  Instances      Box(P          R      mAP50  mAP50-95): 100%|██████████| 8/8 [00:25<00:00,  3.13s/it]"
     ]
    },
    {
     "name": "stdout",
     "output_type": "stream",
     "text": [
      "                   all        120       2040          1      0.999      0.995      0.923\n"
     ]
    },
    {
     "name": "stderr",
     "output_type": "stream",
     "text": [
      "\n"
     ]
    },
    {
     "name": "stdout",
     "output_type": "stream",
     "text": [
      "\n",
      "      Epoch    GPU_mem   box_loss   cls_loss   dfl_loss  Instances       Size\n"
     ]
    },
    {
     "name": "stderr",
     "output_type": "stream",
     "text": [
      "     24/100      19.6G     0.4076      0.303     0.9569        250       1024: 100%|██████████| 15/15 [01:41<00:00,  6.77s/it]\n",
      "                 Class     Images  Instances      Box(P          R      mAP50  mAP50-95): 100%|██████████| 8/8 [00:46<00:00,  5.79s/it]"
     ]
    },
    {
     "name": "stdout",
     "output_type": "stream",
     "text": [
      "                   all        120       2040          1          1      0.995      0.948\n"
     ]
    },
    {
     "name": "stderr",
     "output_type": "stream",
     "text": [
      "\n"
     ]
    },
    {
     "name": "stdout",
     "output_type": "stream",
     "text": [
      "\n",
      "      Epoch    GPU_mem   box_loss   cls_loss   dfl_loss  Instances       Size\n"
     ]
    },
    {
     "name": "stderr",
     "output_type": "stream",
     "text": [
      "     25/100      19.6G     0.3685     0.2768     0.9249        202       1024: 100%|██████████| 15/15 [01:50<00:00,  7.35s/it]\n",
      "                 Class     Images  Instances      Box(P          R      mAP50  mAP50-95): 100%|██████████| 8/8 [00:40<00:00,  5.04s/it]"
     ]
    },
    {
     "name": "stdout",
     "output_type": "stream",
     "text": [
      "                   all        120       2040          1          1      0.995      0.967\n"
     ]
    },
    {
     "name": "stderr",
     "output_type": "stream",
     "text": [
      "\n"
     ]
    },
    {
     "name": "stdout",
     "output_type": "stream",
     "text": [
      "\n",
      "      Epoch    GPU_mem   box_loss   cls_loss   dfl_loss  Instances       Size\n"
     ]
    },
    {
     "name": "stderr",
     "output_type": "stream",
     "text": [
      "     26/100      19.6G     0.3791      0.283      0.956        238       1024: 100%|██████████| 15/15 [02:09<00:00,  8.63s/it]\n",
      "                 Class     Images  Instances      Box(P          R      mAP50  mAP50-95): 100%|██████████| 8/8 [00:47<00:00,  5.88s/it]"
     ]
    },
    {
     "name": "stdout",
     "output_type": "stream",
     "text": [
      "                   all        120       2040      0.287      0.305      0.235      0.117\n"
     ]
    },
    {
     "name": "stderr",
     "output_type": "stream",
     "text": [
      "\n"
     ]
    },
    {
     "name": "stdout",
     "output_type": "stream",
     "text": [
      "\n",
      "      Epoch    GPU_mem   box_loss   cls_loss   dfl_loss  Instances       Size\n"
     ]
    },
    {
     "name": "stderr",
     "output_type": "stream",
     "text": [
      "     27/100      19.6G     0.3471     0.2771     0.9344        182       1024: 100%|██████████| 15/15 [01:35<00:00,  6.35s/it]\n",
      "                 Class     Images  Instances      Box(P          R      mAP50  mAP50-95): 100%|██████████| 8/8 [00:39<00:00,  4.92s/it]"
     ]
    },
    {
     "name": "stdout",
     "output_type": "stream",
     "text": [
      "                   all        120       2040      0.164      0.134     0.0681     0.0234\n"
     ]
    },
    {
     "name": "stderr",
     "output_type": "stream",
     "text": [
      "\n"
     ]
    },
    {
     "name": "stdout",
     "output_type": "stream",
     "text": [
      "\n",
      "      Epoch    GPU_mem   box_loss   cls_loss   dfl_loss  Instances       Size\n"
     ]
    },
    {
     "name": "stderr",
     "output_type": "stream",
     "text": [
      "     28/100      19.5G     0.3527     0.2686     0.9401        290       1024: 100%|██████████| 15/15 [01:37<00:00,  6.51s/it]\n",
      "                 Class     Images  Instances      Box(P          R      mAP50  mAP50-95): 100%|██████████| 8/8 [00:43<00:00,  5.40s/it]"
     ]
    },
    {
     "name": "stdout",
     "output_type": "stream",
     "text": [
      "                   all        120       2040      0.999      0.995      0.995      0.924\n"
     ]
    },
    {
     "name": "stderr",
     "output_type": "stream",
     "text": [
      "\n"
     ]
    },
    {
     "name": "stdout",
     "output_type": "stream",
     "text": [
      "\n",
      "      Epoch    GPU_mem   box_loss   cls_loss   dfl_loss  Instances       Size\n"
     ]
    },
    {
     "name": "stderr",
     "output_type": "stream",
     "text": [
      "     29/100      19.5G     0.3336     0.2539     0.9195        211       1024: 100%|██████████| 15/15 [01:41<00:00,  6.74s/it]\n",
      "                 Class     Images  Instances      Box(P          R      mAP50  mAP50-95): 100%|██████████| 8/8 [00:28<00:00,  3.60s/it]"
     ]
    },
    {
     "name": "stdout",
     "output_type": "stream",
     "text": [
      "                   all        120       2040          1      0.999      0.995      0.983\n"
     ]
    },
    {
     "name": "stderr",
     "output_type": "stream",
     "text": [
      "\n"
     ]
    },
    {
     "name": "stdout",
     "output_type": "stream",
     "text": [
      "\n",
      "      Epoch    GPU_mem   box_loss   cls_loss   dfl_loss  Instances       Size\n"
     ]
    },
    {
     "name": "stderr",
     "output_type": "stream",
     "text": [
      "     30/100      19.4G     0.3493     0.2603     0.9268        225       1024: 100%|██████████| 15/15 [01:41<00:00,  6.75s/it]\n",
      "                 Class     Images  Instances      Box(P          R      mAP50  mAP50-95): 100%|██████████| 8/8 [00:28<00:00,  3.57s/it]"
     ]
    },
    {
     "name": "stdout",
     "output_type": "stream",
     "text": [
      "                   all        120       2040          1          1      0.995      0.985\n"
     ]
    },
    {
     "name": "stderr",
     "output_type": "stream",
     "text": [
      "\n"
     ]
    },
    {
     "name": "stdout",
     "output_type": "stream",
     "text": [
      "\n",
      "      Epoch    GPU_mem   box_loss   cls_loss   dfl_loss  Instances       Size\n"
     ]
    },
    {
     "name": "stderr",
     "output_type": "stream",
     "text": [
      "     31/100      19.6G      0.352     0.2526     0.9049        313       1024: 100%|██████████| 15/15 [01:55<00:00,  7.73s/it]\n",
      "                 Class     Images  Instances      Box(P          R      mAP50  mAP50-95): 100%|██████████| 8/8 [00:42<00:00,  5.36s/it]"
     ]
    },
    {
     "name": "stdout",
     "output_type": "stream",
     "text": [
      "                   all        120       2040          1          1      0.995      0.978\n"
     ]
    },
    {
     "name": "stderr",
     "output_type": "stream",
     "text": [
      "\n"
     ]
    },
    {
     "name": "stdout",
     "output_type": "stream",
     "text": [
      "\n",
      "      Epoch    GPU_mem   box_loss   cls_loss   dfl_loss  Instances       Size\n"
     ]
    },
    {
     "name": "stderr",
     "output_type": "stream",
     "text": [
      "     32/100      19.6G     0.3578      0.258     0.9262        182       1024: 100%|██████████| 15/15 [01:40<00:00,  6.73s/it]\n",
      "                 Class     Images  Instances      Box(P          R      mAP50  mAP50-95): 100%|██████████| 8/8 [00:29<00:00,  3.72s/it]"
     ]
    },
    {
     "name": "stdout",
     "output_type": "stream",
     "text": [
      "                   all        120       2040          1      0.999      0.995      0.991\n"
     ]
    },
    {
     "name": "stderr",
     "output_type": "stream",
     "text": [
      "\n"
     ]
    },
    {
     "name": "stdout",
     "output_type": "stream",
     "text": [
      "\n",
      "      Epoch    GPU_mem   box_loss   cls_loss   dfl_loss  Instances       Size\n"
     ]
    },
    {
     "name": "stderr",
     "output_type": "stream",
     "text": [
      "     33/100      19.6G     0.4004     0.2664     0.9503        213       1024: 100%|██████████| 15/15 [01:59<00:00,  7.94s/it]\n",
      "                 Class     Images  Instances      Box(P          R      mAP50  mAP50-95): 100%|██████████| 8/8 [00:39<00:00,  4.95s/it]"
     ]
    },
    {
     "name": "stdout",
     "output_type": "stream",
     "text": [
      "                   all        120       2040          1          1      0.995      0.985\n"
     ]
    },
    {
     "name": "stderr",
     "output_type": "stream",
     "text": [
      "\n"
     ]
    },
    {
     "name": "stdout",
     "output_type": "stream",
     "text": [
      "\n",
      "      Epoch    GPU_mem   box_loss   cls_loss   dfl_loss  Instances       Size\n"
     ]
    },
    {
     "name": "stderr",
     "output_type": "stream",
     "text": [
      "     34/100      19.6G     0.3727     0.2572     0.9234        206       1024: 100%|██████████| 15/15 [01:55<00:00,  7.68s/it]\n",
      "                 Class     Images  Instances      Box(P          R      mAP50  mAP50-95): 100%|██████████| 8/8 [00:29<00:00,  3.73s/it]"
     ]
    },
    {
     "name": "stdout",
     "output_type": "stream",
     "text": [
      "                   all        120       2040          1          1      0.995       0.99\n"
     ]
    },
    {
     "name": "stderr",
     "output_type": "stream",
     "text": [
      "\n"
     ]
    },
    {
     "name": "stdout",
     "output_type": "stream",
     "text": [
      "\n",
      "      Epoch    GPU_mem   box_loss   cls_loss   dfl_loss  Instances       Size\n"
     ]
    },
    {
     "name": "stderr",
     "output_type": "stream",
     "text": [
      "     35/100      19.5G     0.3568     0.2507     0.9418        206       1024: 100%|██████████| 15/15 [01:46<00:00,  7.13s/it]\n",
      "                 Class     Images  Instances      Box(P          R      mAP50  mAP50-95): 100%|██████████| 8/8 [00:34<00:00,  4.26s/it]"
     ]
    },
    {
     "name": "stdout",
     "output_type": "stream",
     "text": [
      "                   all        120       2040      0.996      0.993      0.995      0.982\n"
     ]
    },
    {
     "name": "stderr",
     "output_type": "stream",
     "text": [
      "\n"
     ]
    },
    {
     "name": "stdout",
     "output_type": "stream",
     "text": [
      "\n",
      "      Epoch    GPU_mem   box_loss   cls_loss   dfl_loss  Instances       Size\n"
     ]
    },
    {
     "name": "stderr",
     "output_type": "stream",
     "text": [
      "     36/100      19.6G     0.3282     0.2371     0.8966        301       1024: 100%|██████████| 15/15 [01:48<00:00,  7.22s/it]\n",
      "                 Class     Images  Instances      Box(P          R      mAP50  mAP50-95): 100%|██████████| 8/8 [00:46<00:00,  5.84s/it]"
     ]
    },
    {
     "name": "stdout",
     "output_type": "stream",
     "text": [
      "                   all        120       2040      0.876      0.589      0.743      0.657\n"
     ]
    },
    {
     "name": "stderr",
     "output_type": "stream",
     "text": [
      "\n"
     ]
    },
    {
     "name": "stdout",
     "output_type": "stream",
     "text": [
      "\n",
      "      Epoch    GPU_mem   box_loss   cls_loss   dfl_loss  Instances       Size\n"
     ]
    },
    {
     "name": "stderr",
     "output_type": "stream",
     "text": [
      "     37/100      19.6G     0.3276     0.2401     0.9221        167       1024: 100%|██████████| 15/15 [01:47<00:00,  7.15s/it]\n",
      "                 Class     Images  Instances      Box(P          R      mAP50  mAP50-95): 100%|██████████| 8/8 [00:34<00:00,  4.33s/it]"
     ]
    },
    {
     "name": "stdout",
     "output_type": "stream",
     "text": [
      "                   all        120       2040       0.29      0.404      0.358      0.253\n"
     ]
    },
    {
     "name": "stderr",
     "output_type": "stream",
     "text": [
      "\n"
     ]
    },
    {
     "name": "stdout",
     "output_type": "stream",
     "text": [
      "\n",
      "      Epoch    GPU_mem   box_loss   cls_loss   dfl_loss  Instances       Size\n"
     ]
    },
    {
     "name": "stderr",
     "output_type": "stream",
     "text": [
      "     38/100      19.4G     0.3153     0.2368     0.8996        247       1024: 100%|██████████| 15/15 [02:05<00:00,  8.36s/it]\n",
      "                 Class     Images  Instances      Box(P          R      mAP50  mAP50-95): 100%|██████████| 8/8 [00:32<00:00,  4.12s/it]"
     ]
    },
    {
     "name": "stdout",
     "output_type": "stream",
     "text": [
      "                   all        120       2040      0.295      0.147      0.198     0.0772\n"
     ]
    },
    {
     "name": "stderr",
     "output_type": "stream",
     "text": [
      "\n"
     ]
    },
    {
     "name": "stdout",
     "output_type": "stream",
     "text": [
      "\n",
      "      Epoch    GPU_mem   box_loss   cls_loss   dfl_loss  Instances       Size\n"
     ]
    },
    {
     "name": "stderr",
     "output_type": "stream",
     "text": [
      "     39/100      19.6G     0.3064     0.2288     0.8972        257       1024: 100%|██████████| 15/15 [02:00<00:00,  8.06s/it]\n",
      "                 Class     Images  Instances      Box(P          R      mAP50  mAP50-95): 100%|██████████| 8/8 [00:40<00:00,  5.05s/it]"
     ]
    },
    {
     "name": "stdout",
     "output_type": "stream",
     "text": [
      "                   all        120       2040      0.166     0.0789     0.0921     0.0204\n"
     ]
    },
    {
     "name": "stderr",
     "output_type": "stream",
     "text": [
      "\n"
     ]
    },
    {
     "name": "stdout",
     "output_type": "stream",
     "text": [
      "\n",
      "      Epoch    GPU_mem   box_loss   cls_loss   dfl_loss  Instances       Size\n"
     ]
    },
    {
     "name": "stderr",
     "output_type": "stream",
     "text": [
      "     40/100      19.6G     0.3146     0.2356     0.9067        180       1024: 100%|██████████| 15/15 [01:44<00:00,  6.98s/it]\n",
      "                 Class     Images  Instances      Box(P          R      mAP50  mAP50-95): 100%|██████████| 8/8 [00:44<00:00,  5.59s/it]"
     ]
    },
    {
     "name": "stdout",
     "output_type": "stream",
     "text": [
      "                   all        120       2040          1          1      0.995      0.985\n"
     ]
    },
    {
     "name": "stderr",
     "output_type": "stream",
     "text": [
      "\n"
     ]
    },
    {
     "name": "stdout",
     "output_type": "stream",
     "text": [
      "\n",
      "      Epoch    GPU_mem   box_loss   cls_loss   dfl_loss  Instances       Size\n"
     ]
    },
    {
     "name": "stderr",
     "output_type": "stream",
     "text": [
      "     41/100      19.6G      0.291     0.2229     0.8952        164       1024: 100%|██████████| 15/15 [01:55<00:00,  7.69s/it]\n",
      "                 Class     Images  Instances      Box(P          R      mAP50  mAP50-95): 100%|██████████| 8/8 [00:36<00:00,  4.52s/it]"
     ]
    },
    {
     "name": "stdout",
     "output_type": "stream",
     "text": [
      "                   all        120       2040          1          1      0.995      0.993\n"
     ]
    },
    {
     "name": "stderr",
     "output_type": "stream",
     "text": [
      "\n"
     ]
    },
    {
     "name": "stdout",
     "output_type": "stream",
     "text": [
      "\n",
      "      Epoch    GPU_mem   box_loss   cls_loss   dfl_loss  Instances       Size\n"
     ]
    },
    {
     "name": "stderr",
     "output_type": "stream",
     "text": [
      "     42/100      19.5G     0.2918     0.2222     0.8858        216       1024: 100%|██████████| 15/15 [01:31<00:00,  6.12s/it]\n",
      "                 Class     Images  Instances      Box(P          R      mAP50  mAP50-95): 100%|██████████| 8/8 [00:33<00:00,  4.16s/it]"
     ]
    },
    {
     "name": "stdout",
     "output_type": "stream",
     "text": [
      "                   all        120       2040          1          1      0.995      0.987\n"
     ]
    },
    {
     "name": "stderr",
     "output_type": "stream",
     "text": [
      "\n"
     ]
    },
    {
     "name": "stdout",
     "output_type": "stream",
     "text": [
      "\n",
      "      Epoch    GPU_mem   box_loss   cls_loss   dfl_loss  Instances       Size\n"
     ]
    },
    {
     "name": "stderr",
     "output_type": "stream",
     "text": [
      "     43/100      19.6G      0.279     0.2198     0.8914        182       1024: 100%|██████████| 15/15 [01:53<00:00,  7.58s/it]\n",
      "                 Class     Images  Instances      Box(P          R      mAP50  mAP50-95): 100%|██████████| 8/8 [00:38<00:00,  4.86s/it]"
     ]
    },
    {
     "name": "stdout",
     "output_type": "stream",
     "text": [
      "                   all        120       2040          1          1      0.995      0.992\n"
     ]
    },
    {
     "name": "stderr",
     "output_type": "stream",
     "text": [
      "\n"
     ]
    },
    {
     "name": "stdout",
     "output_type": "stream",
     "text": [
      "\n",
      "      Epoch    GPU_mem   box_loss   cls_loss   dfl_loss  Instances       Size\n"
     ]
    },
    {
     "name": "stderr",
     "output_type": "stream",
     "text": [
      "     44/100      19.5G     0.2894     0.2226     0.9003        175       1024: 100%|██████████| 15/15 [01:47<00:00,  7.17s/it]\n",
      "                 Class     Images  Instances      Box(P          R      mAP50  mAP50-95): 100%|██████████| 8/8 [00:25<00:00,  3.14s/it]"
     ]
    },
    {
     "name": "stdout",
     "output_type": "stream",
     "text": [
      "                   all        120       2040          1      0.999      0.995      0.959\n"
     ]
    },
    {
     "name": "stderr",
     "output_type": "stream",
     "text": [
      "\n"
     ]
    },
    {
     "name": "stdout",
     "output_type": "stream",
     "text": [
      "\n",
      "      Epoch    GPU_mem   box_loss   cls_loss   dfl_loss  Instances       Size\n"
     ]
    },
    {
     "name": "stderr",
     "output_type": "stream",
     "text": [
      "     45/100      19.5G     0.3042     0.2295     0.9028        218       1024: 100%|██████████| 15/15 [01:43<00:00,  6.88s/it]\n",
      "                 Class     Images  Instances      Box(P          R      mAP50  mAP50-95): 100%|██████████| 8/8 [00:29<00:00,  3.66s/it]"
     ]
    },
    {
     "name": "stdout",
     "output_type": "stream",
     "text": [
      "                   all        120       2040          1          1      0.995      0.973\n"
     ]
    },
    {
     "name": "stderr",
     "output_type": "stream",
     "text": [
      "\n"
     ]
    },
    {
     "name": "stdout",
     "output_type": "stream",
     "text": [
      "\n",
      "      Epoch    GPU_mem   box_loss   cls_loss   dfl_loss  Instances       Size\n"
     ]
    },
    {
     "name": "stderr",
     "output_type": "stream",
     "text": [
      "     46/100      19.3G     0.2765     0.2155     0.8932        242       1024: 100%|██████████| 15/15 [01:47<00:00,  7.19s/it]\n",
      "                 Class     Images  Instances      Box(P          R      mAP50  mAP50-95): 100%|██████████| 8/8 [00:32<00:00,  4.10s/it]"
     ]
    },
    {
     "name": "stdout",
     "output_type": "stream",
     "text": [
      "                   all        120       2040          1          1      0.995      0.986\n"
     ]
    },
    {
     "name": "stderr",
     "output_type": "stream",
     "text": [
      "\n"
     ]
    },
    {
     "name": "stdout",
     "output_type": "stream",
     "text": [
      "\n",
      "      Epoch    GPU_mem   box_loss   cls_loss   dfl_loss  Instances       Size\n"
     ]
    },
    {
     "name": "stderr",
     "output_type": "stream",
     "text": [
      "     47/100      19.7G     0.2952     0.2234        0.9        184       1024: 100%|██████████| 15/15 [01:35<00:00,  6.34s/it]\n",
      "                 Class     Images  Instances      Box(P          R      mAP50  mAP50-95): 100%|██████████| 8/8 [00:30<00:00,  3.84s/it]"
     ]
    },
    {
     "name": "stdout",
     "output_type": "stream",
     "text": [
      "                   all        120       2040          1          1      0.995      0.995\n"
     ]
    },
    {
     "name": "stderr",
     "output_type": "stream",
     "text": [
      "\n"
     ]
    },
    {
     "name": "stdout",
     "output_type": "stream",
     "text": [
      "\n",
      "      Epoch    GPU_mem   box_loss   cls_loss   dfl_loss  Instances       Size\n"
     ]
    },
    {
     "name": "stderr",
     "output_type": "stream",
     "text": [
      "     48/100      19.5G     0.3097     0.2352     0.9078        168       1024: 100%|██████████| 15/15 [02:03<00:00,  8.22s/it]\n",
      "                 Class     Images  Instances      Box(P          R      mAP50  mAP50-95): 100%|██████████| 8/8 [00:29<00:00,  3.74s/it]"
     ]
    },
    {
     "name": "stdout",
     "output_type": "stream",
     "text": [
      "                   all        120       2040          1          1      0.995      0.991\n"
     ]
    },
    {
     "name": "stderr",
     "output_type": "stream",
     "text": [
      "\n"
     ]
    },
    {
     "name": "stdout",
     "output_type": "stream",
     "text": [
      "\n",
      "      Epoch    GPU_mem   box_loss   cls_loss   dfl_loss  Instances       Size\n"
     ]
    },
    {
     "name": "stderr",
     "output_type": "stream",
     "text": [
      "     49/100      19.6G      0.298     0.2208     0.8729        207       1024: 100%|██████████| 15/15 [01:44<00:00,  6.94s/it]\n",
      "                 Class     Images  Instances      Box(P          R      mAP50  mAP50-95): 100%|██████████| 8/8 [00:29<00:00,  3.74s/it]"
     ]
    },
    {
     "name": "stdout",
     "output_type": "stream",
     "text": [
      "                   all        120       2040          1          1      0.995      0.994\n"
     ]
    },
    {
     "name": "stderr",
     "output_type": "stream",
     "text": [
      "\n"
     ]
    },
    {
     "name": "stdout",
     "output_type": "stream",
     "text": [
      "\n",
      "      Epoch    GPU_mem   box_loss   cls_loss   dfl_loss  Instances       Size\n"
     ]
    },
    {
     "name": "stderr",
     "output_type": "stream",
     "text": [
      "     50/100      19.6G     0.2836     0.2096      0.877        209       1024: 100%|██████████| 15/15 [01:48<00:00,  7.23s/it]\n",
      "                 Class     Images  Instances      Box(P          R      mAP50  mAP50-95): 100%|██████████| 8/8 [00:32<00:00,  4.02s/it]"
     ]
    },
    {
     "name": "stdout",
     "output_type": "stream",
     "text": [
      "                   all        120       2040          1          1      0.995      0.991\n"
     ]
    },
    {
     "name": "stderr",
     "output_type": "stream",
     "text": [
      "\n"
     ]
    },
    {
     "name": "stdout",
     "output_type": "stream",
     "text": [
      "\n",
      "      Epoch    GPU_mem   box_loss   cls_loss   dfl_loss  Instances       Size\n"
     ]
    },
    {
     "name": "stderr",
     "output_type": "stream",
     "text": [
      "     51/100      19.5G     0.2662     0.2061       0.88        179       1024: 100%|██████████| 15/15 [01:55<00:00,  7.68s/it]\n",
      "                 Class     Images  Instances      Box(P          R      mAP50  mAP50-95): 100%|██████████| 8/8 [00:41<00:00,  5.23s/it]"
     ]
    },
    {
     "name": "stdout",
     "output_type": "stream",
     "text": [
      "                   all        120       2040          1          1      0.995      0.994\n"
     ]
    },
    {
     "name": "stderr",
     "output_type": "stream",
     "text": [
      "\n"
     ]
    },
    {
     "name": "stdout",
     "output_type": "stream",
     "text": [
      "\n",
      "      Epoch    GPU_mem   box_loss   cls_loss   dfl_loss  Instances       Size\n"
     ]
    },
    {
     "name": "stderr",
     "output_type": "stream",
     "text": [
      "     52/100      19.5G     0.2633      0.201     0.8769        254       1024: 100%|██████████| 15/15 [01:55<00:00,  7.72s/it]\n",
      "                 Class     Images  Instances      Box(P          R      mAP50  mAP50-95): 100%|██████████| 8/8 [00:33<00:00,  4.18s/it]"
     ]
    },
    {
     "name": "stdout",
     "output_type": "stream",
     "text": [
      "                   all        120       2040          1          1      0.995      0.988\n"
     ]
    },
    {
     "name": "stderr",
     "output_type": "stream",
     "text": [
      "\n"
     ]
    },
    {
     "name": "stdout",
     "output_type": "stream",
     "text": [
      "\n",
      "      Epoch    GPU_mem   box_loss   cls_loss   dfl_loss  Instances       Size\n"
     ]
    },
    {
     "name": "stderr",
     "output_type": "stream",
     "text": [
      "     53/100      19.5G     0.2828     0.2104     0.8785        159       1024: 100%|██████████| 15/15 [01:49<00:00,  7.29s/it]\n",
      "                 Class     Images  Instances      Box(P          R      mAP50  mAP50-95): 100%|██████████| 8/8 [00:33<00:00,  4.15s/it]"
     ]
    },
    {
     "name": "stdout",
     "output_type": "stream",
     "text": [
      "                   all        120       2040          1          1      0.995      0.995\n"
     ]
    },
    {
     "name": "stderr",
     "output_type": "stream",
     "text": [
      "\n"
     ]
    },
    {
     "name": "stdout",
     "output_type": "stream",
     "text": [
      "\n",
      "      Epoch    GPU_mem   box_loss   cls_loss   dfl_loss  Instances       Size\n"
     ]
    },
    {
     "name": "stderr",
     "output_type": "stream",
     "text": [
      "     54/100      19.4G     0.2511     0.1954     0.8555        219       1024: 100%|██████████| 15/15 [01:50<00:00,  7.40s/it]\n",
      "                 Class     Images  Instances      Box(P          R      mAP50  mAP50-95): 100%|██████████| 8/8 [00:30<00:00,  3.81s/it]"
     ]
    },
    {
     "name": "stdout",
     "output_type": "stream",
     "text": [
      "                   all        120       2040          1          1      0.995      0.995\n"
     ]
    },
    {
     "name": "stderr",
     "output_type": "stream",
     "text": [
      "\n"
     ]
    },
    {
     "name": "stdout",
     "output_type": "stream",
     "text": [
      "\n",
      "      Epoch    GPU_mem   box_loss   cls_loss   dfl_loss  Instances       Size\n"
     ]
    },
    {
     "name": "stderr",
     "output_type": "stream",
     "text": [
      "     55/100      19.5G      0.249     0.1942     0.8598        139       1024: 100%|██████████| 15/15 [01:36<00:00,  6.45s/it]\n",
      "                 Class     Images  Instances      Box(P          R      mAP50  mAP50-95): 100%|██████████| 8/8 [00:29<00:00,  3.74s/it]"
     ]
    },
    {
     "name": "stdout",
     "output_type": "stream",
     "text": [
      "                   all        120       2040          1          1      0.995      0.994\n"
     ]
    },
    {
     "name": "stderr",
     "output_type": "stream",
     "text": [
      "\n"
     ]
    },
    {
     "name": "stdout",
     "output_type": "stream",
     "text": [
      "\n",
      "      Epoch    GPU_mem   box_loss   cls_loss   dfl_loss  Instances       Size\n"
     ]
    },
    {
     "name": "stderr",
     "output_type": "stream",
     "text": [
      "     56/100      19.6G     0.2561      0.196     0.8668        243       1024: 100%|██████████| 15/15 [01:53<00:00,  7.57s/it]\n",
      "                 Class     Images  Instances      Box(P          R      mAP50  mAP50-95): 100%|██████████| 8/8 [00:31<00:00,  3.94s/it]"
     ]
    },
    {
     "name": "stdout",
     "output_type": "stream",
     "text": [
      "                   all        120       2040          1          1      0.995      0.993\n"
     ]
    },
    {
     "name": "stderr",
     "output_type": "stream",
     "text": [
      "\n"
     ]
    },
    {
     "name": "stdout",
     "output_type": "stream",
     "text": [
      "\n",
      "      Epoch    GPU_mem   box_loss   cls_loss   dfl_loss  Instances       Size\n"
     ]
    },
    {
     "name": "stderr",
     "output_type": "stream",
     "text": [
      "     57/100      19.5G     0.2459     0.1935     0.8753        224       1024: 100%|██████████| 15/15 [02:01<00:00,  8.11s/it]\n",
      "                 Class     Images  Instances      Box(P          R      mAP50  mAP50-95): 100%|██████████| 8/8 [00:36<00:00,  4.51s/it]"
     ]
    },
    {
     "name": "stdout",
     "output_type": "stream",
     "text": [
      "                   all        120       2040          1          1      0.995      0.995\n"
     ]
    },
    {
     "name": "stderr",
     "output_type": "stream",
     "text": [
      "\n"
     ]
    },
    {
     "name": "stdout",
     "output_type": "stream",
     "text": [
      "\n",
      "      Epoch    GPU_mem   box_loss   cls_loss   dfl_loss  Instances       Size\n"
     ]
    },
    {
     "name": "stderr",
     "output_type": "stream",
     "text": [
      "     58/100      19.6G     0.2512     0.1882     0.8732        201       1024: 100%|██████████| 15/15 [01:55<00:00,  7.70s/it]\n",
      "                 Class     Images  Instances      Box(P          R      mAP50  mAP50-95): 100%|██████████| 8/8 [00:32<00:00,  4.08s/it]"
     ]
    },
    {
     "name": "stdout",
     "output_type": "stream",
     "text": [
      "                   all        120       2040          1          1      0.995      0.995\n"
     ]
    },
    {
     "name": "stderr",
     "output_type": "stream",
     "text": [
      "\n"
     ]
    },
    {
     "name": "stdout",
     "output_type": "stream",
     "text": [
      "\n",
      "      Epoch    GPU_mem   box_loss   cls_loss   dfl_loss  Instances       Size\n"
     ]
    },
    {
     "name": "stderr",
     "output_type": "stream",
     "text": [
      "     59/100      19.5G     0.2523     0.1926      0.872        207       1024: 100%|██████████| 15/15 [01:58<00:00,  7.91s/it]\n",
      "                 Class     Images  Instances      Box(P          R      mAP50  mAP50-95): 100%|██████████| 8/8 [00:44<00:00,  5.51s/it]"
     ]
    },
    {
     "name": "stdout",
     "output_type": "stream",
     "text": [
      "                   all        120       2040          1          1      0.995      0.995\n"
     ]
    },
    {
     "name": "stderr",
     "output_type": "stream",
     "text": [
      "\n"
     ]
    },
    {
     "name": "stdout",
     "output_type": "stream",
     "text": [
      "\n",
      "      Epoch    GPU_mem   box_loss   cls_loss   dfl_loss  Instances       Size\n"
     ]
    },
    {
     "name": "stderr",
     "output_type": "stream",
     "text": [
      "     60/100      19.6G     0.2386      0.184      0.873        170       1024: 100%|██████████| 15/15 [01:57<00:00,  7.81s/it]\n",
      "                 Class     Images  Instances      Box(P          R      mAP50  mAP50-95): 100%|██████████| 8/8 [00:37<00:00,  4.74s/it]"
     ]
    },
    {
     "name": "stdout",
     "output_type": "stream",
     "text": [
      "                   all        120       2040          1          1      0.995      0.995\n"
     ]
    },
    {
     "name": "stderr",
     "output_type": "stream",
     "text": [
      "\n"
     ]
    },
    {
     "name": "stdout",
     "output_type": "stream",
     "text": [
      "\n",
      "      Epoch    GPU_mem   box_loss   cls_loss   dfl_loss  Instances       Size\n"
     ]
    },
    {
     "name": "stderr",
     "output_type": "stream",
     "text": [
      "     61/100      19.6G     0.2438      0.189     0.8632        177       1024: 100%|██████████| 15/15 [01:44<00:00,  6.95s/it]\n",
      "                 Class     Images  Instances      Box(P          R      mAP50  mAP50-95): 100%|██████████| 8/8 [00:33<00:00,  4.21s/it]"
     ]
    },
    {
     "name": "stdout",
     "output_type": "stream",
     "text": [
      "                   all        120       2040          1          1      0.995      0.995\n"
     ]
    },
    {
     "name": "stderr",
     "output_type": "stream",
     "text": [
      "\n"
     ]
    },
    {
     "name": "stdout",
     "output_type": "stream",
     "text": [
      "\n",
      "      Epoch    GPU_mem   box_loss   cls_loss   dfl_loss  Instances       Size\n"
     ]
    },
    {
     "name": "stderr",
     "output_type": "stream",
     "text": [
      "     62/100      19.4G     0.2419     0.1824     0.8519        265       1024: 100%|██████████| 15/15 [01:51<00:00,  7.46s/it]\n",
      "                 Class     Images  Instances      Box(P          R      mAP50  mAP50-95): 100%|██████████| 8/8 [00:33<00:00,  4.24s/it]"
     ]
    },
    {
     "name": "stdout",
     "output_type": "stream",
     "text": [
      "                   all        120       2040          1      0.996      0.995       0.98\n"
     ]
    },
    {
     "name": "stderr",
     "output_type": "stream",
     "text": [
      "\n"
     ]
    },
    {
     "name": "stdout",
     "output_type": "stream",
     "text": [
      "\n",
      "      Epoch    GPU_mem   box_loss   cls_loss   dfl_loss  Instances       Size\n"
     ]
    },
    {
     "name": "stderr",
     "output_type": "stream",
     "text": [
      "     63/100      19.5G     0.2241     0.1809     0.8562        254       1024: 100%|██████████| 15/15 [02:08<00:00,  8.55s/it]\n",
      "                 Class     Images  Instances      Box(P          R      mAP50  mAP50-95): 100%|██████████| 8/8 [00:42<00:00,  5.27s/it]"
     ]
    },
    {
     "name": "stdout",
     "output_type": "stream",
     "text": [
      "                   all        120       2040      0.985       0.69      0.905      0.816\n"
     ]
    },
    {
     "name": "stderr",
     "output_type": "stream",
     "text": [
      "\n"
     ]
    },
    {
     "name": "stdout",
     "output_type": "stream",
     "text": [
      "\n",
      "      Epoch    GPU_mem   box_loss   cls_loss   dfl_loss  Instances       Size\n"
     ]
    },
    {
     "name": "stderr",
     "output_type": "stream",
     "text": [
      "     64/100      19.6G     0.2128      0.174      0.853        204       1024: 100%|██████████| 15/15 [02:12<00:00,  8.82s/it]\n",
      "                 Class     Images  Instances      Box(P          R      mAP50  mAP50-95): 100%|██████████| 8/8 [00:51<00:00,  6.39s/it]"
     ]
    },
    {
     "name": "stdout",
     "output_type": "stream",
     "text": [
      "                   all        120       2040          1          1      0.995      0.995\n"
     ]
    },
    {
     "name": "stderr",
     "output_type": "stream",
     "text": [
      "\n"
     ]
    },
    {
     "name": "stdout",
     "output_type": "stream",
     "text": [
      "\n",
      "      Epoch    GPU_mem   box_loss   cls_loss   dfl_loss  Instances       Size\n"
     ]
    },
    {
     "name": "stderr",
     "output_type": "stream",
     "text": [
      "     65/100      19.6G     0.2301     0.1839     0.8523        166       1024: 100%|██████████| 15/15 [01:49<00:00,  7.29s/it]\n",
      "                 Class     Images  Instances      Box(P          R      mAP50  mAP50-95): 100%|██████████| 8/8 [00:42<00:00,  5.27s/it]"
     ]
    },
    {
     "name": "stdout",
     "output_type": "stream",
     "text": [
      "                   all        120       2040          1          1      0.995      0.995\n"
     ]
    },
    {
     "name": "stderr",
     "output_type": "stream",
     "text": [
      "\n"
     ]
    },
    {
     "name": "stdout",
     "output_type": "stream",
     "text": [
      "\n",
      "      Epoch    GPU_mem   box_loss   cls_loss   dfl_loss  Instances       Size\n"
     ]
    },
    {
     "name": "stderr",
     "output_type": "stream",
     "text": [
      "     66/100      19.6G     0.2242       0.18     0.8544        263       1024: 100%|██████████| 15/15 [02:01<00:00,  8.07s/it]\n",
      "                 Class     Images  Instances      Box(P          R      mAP50  mAP50-95): 100%|██████████| 8/8 [00:37<00:00,  4.73s/it]"
     ]
    },
    {
     "name": "stdout",
     "output_type": "stream",
     "text": [
      "                   all        120       2040      0.978      0.878      0.974      0.947\n"
     ]
    },
    {
     "name": "stderr",
     "output_type": "stream",
     "text": [
      "\n"
     ]
    },
    {
     "name": "stdout",
     "output_type": "stream",
     "text": [
      "\n",
      "      Epoch    GPU_mem   box_loss   cls_loss   dfl_loss  Instances       Size\n"
     ]
    },
    {
     "name": "stderr",
     "output_type": "stream",
     "text": [
      "     67/100      19.5G     0.2188     0.1759     0.8464        216       1024: 100%|██████████| 15/15 [01:50<00:00,  7.37s/it]\n",
      "                 Class     Images  Instances      Box(P          R      mAP50  mAP50-95): 100%|██████████| 8/8 [00:38<00:00,  4.77s/it]"
     ]
    },
    {
     "name": "stdout",
     "output_type": "stream",
     "text": [
      "                   all        120       2040      0.874      0.462      0.695      0.534\n"
     ]
    },
    {
     "name": "stderr",
     "output_type": "stream",
     "text": [
      "\n"
     ]
    },
    {
     "name": "stdout",
     "output_type": "stream",
     "text": [
      "\n",
      "      Epoch    GPU_mem   box_loss   cls_loss   dfl_loss  Instances       Size\n"
     ]
    },
    {
     "name": "stderr",
     "output_type": "stream",
     "text": [
      "     68/100      19.6G     0.2052     0.1772     0.8646        216       1024: 100%|██████████| 15/15 [01:48<00:00,  7.25s/it]\n",
      "                 Class     Images  Instances      Box(P          R      mAP50  mAP50-95): 100%|██████████| 8/8 [00:47<00:00,  5.96s/it]"
     ]
    },
    {
     "name": "stdout",
     "output_type": "stream",
     "text": [
      "                   all        120       2040      0.883      0.857      0.948       0.88\n"
     ]
    },
    {
     "name": "stderr",
     "output_type": "stream",
     "text": [
      "\n"
     ]
    },
    {
     "name": "stdout",
     "output_type": "stream",
     "text": [
      "\n",
      "      Epoch    GPU_mem   box_loss   cls_loss   dfl_loss  Instances       Size\n"
     ]
    },
    {
     "name": "stderr",
     "output_type": "stream",
     "text": [
      "     69/100      19.5G     0.2069     0.1754      0.841        230       1024: 100%|██████████| 15/15 [01:45<00:00,  7.02s/it]\n",
      "                 Class     Images  Instances      Box(P          R      mAP50  mAP50-95): 100%|██████████| 8/8 [00:40<00:00,  5.01s/it]"
     ]
    },
    {
     "name": "stdout",
     "output_type": "stream",
     "text": [
      "                   all        120       2040          1          1      0.995      0.992\n"
     ]
    },
    {
     "name": "stderr",
     "output_type": "stream",
     "text": [
      "\n"
     ]
    },
    {
     "name": "stdout",
     "output_type": "stream",
     "text": [
      "\n",
      "      Epoch    GPU_mem   box_loss   cls_loss   dfl_loss  Instances       Size\n"
     ]
    },
    {
     "name": "stderr",
     "output_type": "stream",
     "text": [
      "     70/100      19.3G     0.1948     0.1696     0.8331        156       1024: 100%|██████████| 15/15 [01:59<00:00,  7.94s/it]\n",
      "                 Class     Images  Instances      Box(P          R      mAP50  mAP50-95): 100%|██████████| 8/8 [00:28<00:00,  3.56s/it]"
     ]
    },
    {
     "name": "stdout",
     "output_type": "stream",
     "text": [
      "                   all        120       2040          1          1      0.995      0.986\n"
     ]
    },
    {
     "name": "stderr",
     "output_type": "stream",
     "text": [
      "\n"
     ]
    },
    {
     "name": "stdout",
     "output_type": "stream",
     "text": [
      "\n",
      "      Epoch    GPU_mem   box_loss   cls_loss   dfl_loss  Instances       Size\n"
     ]
    },
    {
     "name": "stderr",
     "output_type": "stream",
     "text": [
      "     71/100      19.6G     0.1961     0.1671     0.8476        172       1024: 100%|██████████| 15/15 [01:42<00:00,  6.83s/it]\n",
      "                 Class     Images  Instances      Box(P          R      mAP50  mAP50-95): 100%|██████████| 8/8 [00:33<00:00,  4.13s/it]"
     ]
    },
    {
     "name": "stdout",
     "output_type": "stream",
     "text": [
      "                   all        120       2040          1          1      0.995      0.995\n"
     ]
    },
    {
     "name": "stderr",
     "output_type": "stream",
     "text": [
      "\n"
     ]
    },
    {
     "name": "stdout",
     "output_type": "stream",
     "text": [
      "\n",
      "      Epoch    GPU_mem   box_loss   cls_loss   dfl_loss  Instances       Size\n"
     ]
    },
    {
     "name": "stderr",
     "output_type": "stream",
     "text": [
      "     72/100      19.5G     0.1963     0.1687     0.8423        202       1024: 100%|██████████| 15/15 [02:05<00:00,  8.37s/it]\n",
      "                 Class     Images  Instances      Box(P          R      mAP50  mAP50-95): 100%|██████████| 8/8 [00:38<00:00,  4.87s/it]"
     ]
    },
    {
     "name": "stdout",
     "output_type": "stream",
     "text": [
      "                   all        120       2040          1          1      0.995      0.995\n"
     ]
    },
    {
     "name": "stderr",
     "output_type": "stream",
     "text": [
      "\n"
     ]
    },
    {
     "name": "stdout",
     "output_type": "stream",
     "text": [
      "\n",
      "      Epoch    GPU_mem   box_loss   cls_loss   dfl_loss  Instances       Size\n"
     ]
    },
    {
     "name": "stderr",
     "output_type": "stream",
     "text": [
      "     73/100      19.5G     0.1816     0.1595     0.8458        243       1024: 100%|██████████| 15/15 [01:55<00:00,  7.72s/it]\n",
      "                 Class     Images  Instances      Box(P          R      mAP50  mAP50-95): 100%|██████████| 8/8 [00:37<00:00,  4.72s/it]"
     ]
    },
    {
     "name": "stdout",
     "output_type": "stream",
     "text": [
      "                   all        120       2040          1          1      0.995      0.995\n"
     ]
    },
    {
     "name": "stderr",
     "output_type": "stream",
     "text": [
      "\n"
     ]
    },
    {
     "name": "stdout",
     "output_type": "stream",
     "text": [
      "\n",
      "      Epoch    GPU_mem   box_loss   cls_loss   dfl_loss  Instances       Size\n"
     ]
    },
    {
     "name": "stderr",
     "output_type": "stream",
     "text": [
      "     74/100      19.5G     0.1836      0.155     0.8332        193       1024: 100%|██████████| 15/15 [02:00<00:00,  8.05s/it]\n",
      "                 Class     Images  Instances      Box(P          R      mAP50  mAP50-95): 100%|██████████| 8/8 [00:42<00:00,  5.30s/it]"
     ]
    },
    {
     "name": "stdout",
     "output_type": "stream",
     "text": [
      "                   all        120       2040          1          1      0.995      0.995\n"
     ]
    },
    {
     "name": "stderr",
     "output_type": "stream",
     "text": [
      "\n"
     ]
    },
    {
     "name": "stdout",
     "output_type": "stream",
     "text": [
      "\n",
      "      Epoch    GPU_mem   box_loss   cls_loss   dfl_loss  Instances       Size\n"
     ]
    },
    {
     "name": "stderr",
     "output_type": "stream",
     "text": [
      "     75/100      19.5G     0.1751     0.1517     0.8447        288       1024: 100%|██████████| 15/15 [03:08<00:00, 12.54s/it]\n",
      "                 Class     Images  Instances      Box(P          R      mAP50  mAP50-95): 100%|██████████| 8/8 [00:25<00:00,  3.14s/it]"
     ]
    },
    {
     "name": "stdout",
     "output_type": "stream",
     "text": [
      "                   all        120       2040          1          1      0.995      0.995\n"
     ]
    },
    {
     "name": "stderr",
     "output_type": "stream",
     "text": [
      "\n"
     ]
    },
    {
     "name": "stdout",
     "output_type": "stream",
     "text": [
      "\n",
      "      Epoch    GPU_mem   box_loss   cls_loss   dfl_loss  Instances       Size\n"
     ]
    },
    {
     "name": "stderr",
     "output_type": "stream",
     "text": [
      "     76/100      19.6G     0.1981     0.1656     0.8391        278       1024: 100%|██████████| 15/15 [01:22<00:00,  5.53s/it]\n",
      "                 Class     Images  Instances      Box(P          R      mAP50  mAP50-95): 100%|██████████| 8/8 [00:26<00:00,  3.36s/it]"
     ]
    },
    {
     "name": "stdout",
     "output_type": "stream",
     "text": [
      "                   all        120       2040          1          1      0.995      0.995\n"
     ]
    },
    {
     "name": "stderr",
     "output_type": "stream",
     "text": [
      "\n"
     ]
    },
    {
     "name": "stdout",
     "output_type": "stream",
     "text": [
      "\n",
      "      Epoch    GPU_mem   box_loss   cls_loss   dfl_loss  Instances       Size\n"
     ]
    },
    {
     "name": "stderr",
     "output_type": "stream",
     "text": [
      "     77/100      19.5G     0.1974      0.164     0.8536        291       1024: 100%|██████████| 15/15 [00:58<00:00,  3.87s/it]\n",
      "                 Class     Images  Instances      Box(P          R      mAP50  mAP50-95): 100%|██████████| 8/8 [00:29<00:00,  3.64s/it]"
     ]
    },
    {
     "name": "stdout",
     "output_type": "stream",
     "text": [
      "                   all        120       2040          1          1      0.995      0.995\n"
     ]
    },
    {
     "name": "stderr",
     "output_type": "stream",
     "text": [
      "\n"
     ]
    },
    {
     "name": "stdout",
     "output_type": "stream",
     "text": [
      "\n",
      "      Epoch    GPU_mem   box_loss   cls_loss   dfl_loss  Instances       Size\n"
     ]
    },
    {
     "name": "stderr",
     "output_type": "stream",
     "text": [
      "     78/100      19.4G     0.1917      0.161     0.8462        248       1024: 100%|██████████| 15/15 [01:17<00:00,  5.18s/it]\n",
      "                 Class     Images  Instances      Box(P          R      mAP50  mAP50-95): 100%|██████████| 8/8 [00:20<00:00,  2.53s/it]"
     ]
    },
    {
     "name": "stdout",
     "output_type": "stream",
     "text": [
      "                   all        120       2040          1          1      0.995      0.995\n"
     ]
    },
    {
     "name": "stderr",
     "output_type": "stream",
     "text": [
      "\n"
     ]
    },
    {
     "name": "stdout",
     "output_type": "stream",
     "text": [
      "\n",
      "      Epoch    GPU_mem   box_loss   cls_loss   dfl_loss  Instances       Size\n"
     ]
    },
    {
     "name": "stderr",
     "output_type": "stream",
     "text": [
      "     79/100      19.6G     0.1803     0.1555     0.8533        212       1024: 100%|██████████| 15/15 [01:21<00:00,  5.42s/it]\n",
      "                 Class     Images  Instances      Box(P          R      mAP50  mAP50-95): 100%|██████████| 8/8 [00:26<00:00,  3.30s/it]"
     ]
    },
    {
     "name": "stdout",
     "output_type": "stream",
     "text": [
      "                   all        120       2040          1          1      0.995      0.995\n"
     ]
    },
    {
     "name": "stderr",
     "output_type": "stream",
     "text": [
      "\n"
     ]
    },
    {
     "name": "stdout",
     "output_type": "stream",
     "text": [
      "\n",
      "      Epoch    GPU_mem   box_loss   cls_loss   dfl_loss  Instances       Size\n"
     ]
    },
    {
     "name": "stderr",
     "output_type": "stream",
     "text": [
      "     80/100      19.7G     0.1838     0.1608      0.851        259       1024: 100%|██████████| 15/15 [01:22<00:00,  5.48s/it]\n",
      "                 Class     Images  Instances      Box(P          R      mAP50  mAP50-95): 100%|██████████| 8/8 [00:18<00:00,  2.31s/it]"
     ]
    },
    {
     "name": "stdout",
     "output_type": "stream",
     "text": [
      "                   all        120       2040          1          1      0.995      0.995\n"
     ]
    },
    {
     "name": "stderr",
     "output_type": "stream",
     "text": [
      "\n"
     ]
    },
    {
     "name": "stdout",
     "output_type": "stream",
     "text": [
      "\n",
      "      Epoch    GPU_mem   box_loss   cls_loss   dfl_loss  Instances       Size\n"
     ]
    },
    {
     "name": "stderr",
     "output_type": "stream",
     "text": [
      "     81/100      19.6G     0.1784     0.1506     0.8396        245       1024: 100%|██████████| 15/15 [00:57<00:00,  3.82s/it]\n",
      "                 Class     Images  Instances      Box(P          R      mAP50  mAP50-95): 100%|██████████| 8/8 [00:26<00:00,  3.32s/it]"
     ]
    },
    {
     "name": "stdout",
     "output_type": "stream",
     "text": [
      "                   all        120       2040          1          1      0.995      0.995\n"
     ]
    },
    {
     "name": "stderr",
     "output_type": "stream",
     "text": [
      "\n"
     ]
    },
    {
     "name": "stdout",
     "output_type": "stream",
     "text": [
      "\n",
      "      Epoch    GPU_mem   box_loss   cls_loss   dfl_loss  Instances       Size\n"
     ]
    },
    {
     "name": "stderr",
     "output_type": "stream",
     "text": [
      "     82/100      19.6G     0.1682     0.1487     0.8354        184       1024: 100%|██████████| 15/15 [01:29<00:00,  5.95s/it]\n",
      "                 Class     Images  Instances      Box(P          R      mAP50  mAP50-95): 100%|██████████| 8/8 [00:19<00:00,  2.48s/it]"
     ]
    },
    {
     "name": "stdout",
     "output_type": "stream",
     "text": [
      "                   all        120       2040          1          1      0.995      0.995\n"
     ]
    },
    {
     "name": "stderr",
     "output_type": "stream",
     "text": [
      "\n"
     ]
    },
    {
     "name": "stdout",
     "output_type": "stream",
     "text": [
      "\n",
      "      Epoch    GPU_mem   box_loss   cls_loss   dfl_loss  Instances       Size\n"
     ]
    },
    {
     "name": "stderr",
     "output_type": "stream",
     "text": [
      "     83/100      19.5G     0.1568     0.1395     0.8266        219       1024: 100%|██████████| 15/15 [01:15<00:00,  5.06s/it]\n",
      "                 Class     Images  Instances      Box(P          R      mAP50  mAP50-95): 100%|██████████| 8/8 [00:25<00:00,  3.18s/it]"
     ]
    },
    {
     "name": "stdout",
     "output_type": "stream",
     "text": [
      "                   all        120       2040          1          1      0.995      0.995\n"
     ]
    },
    {
     "name": "stderr",
     "output_type": "stream",
     "text": [
      "\n"
     ]
    },
    {
     "name": "stdout",
     "output_type": "stream",
     "text": [
      "\n",
      "      Epoch    GPU_mem   box_loss   cls_loss   dfl_loss  Instances       Size\n"
     ]
    },
    {
     "name": "stderr",
     "output_type": "stream",
     "text": [
      "     84/100      19.6G     0.1643     0.1418     0.8294        242       1024: 100%|██████████| 15/15 [01:23<00:00,  5.57s/it]\n",
      "                 Class     Images  Instances      Box(P          R      mAP50  mAP50-95): 100%|██████████| 8/8 [00:24<00:00,  3.04s/it]"
     ]
    },
    {
     "name": "stdout",
     "output_type": "stream",
     "text": [
      "                   all        120       2040          1          1      0.995      0.995\n"
     ]
    },
    {
     "name": "stderr",
     "output_type": "stream",
     "text": [
      "\n"
     ]
    },
    {
     "name": "stdout",
     "output_type": "stream",
     "text": [
      "\n",
      "      Epoch    GPU_mem   box_loss   cls_loss   dfl_loss  Instances       Size\n"
     ]
    },
    {
     "name": "stderr",
     "output_type": "stream",
     "text": [
      "     85/100      19.6G     0.1567     0.1404     0.8264        197       1024: 100%|██████████| 15/15 [01:15<00:00,  5.04s/it]\n",
      "                 Class     Images  Instances      Box(P          R      mAP50  mAP50-95): 100%|██████████| 8/8 [00:21<00:00,  2.73s/it]"
     ]
    },
    {
     "name": "stdout",
     "output_type": "stream",
     "text": [
      "                   all        120       2040          1          1      0.995      0.995\n"
     ]
    },
    {
     "name": "stderr",
     "output_type": "stream",
     "text": [
      "\n"
     ]
    },
    {
     "name": "stdout",
     "output_type": "stream",
     "text": [
      "\n",
      "      Epoch    GPU_mem   box_loss   cls_loss   dfl_loss  Instances       Size\n"
     ]
    },
    {
     "name": "stderr",
     "output_type": "stream",
     "text": [
      "     86/100      19.4G     0.1522     0.1393     0.8357        262       1024: 100%|██████████| 15/15 [01:16<00:00,  5.08s/it]\n",
      "                 Class     Images  Instances      Box(P          R      mAP50  mAP50-95): 100%|██████████| 8/8 [00:19<00:00,  2.39s/it]"
     ]
    },
    {
     "name": "stdout",
     "output_type": "stream",
     "text": [
      "                   all        120       2040          1          1      0.995      0.995\n"
     ]
    },
    {
     "name": "stderr",
     "output_type": "stream",
     "text": [
      "\n"
     ]
    },
    {
     "name": "stdout",
     "output_type": "stream",
     "text": [
      "\n",
      "      Epoch    GPU_mem   box_loss   cls_loss   dfl_loss  Instances       Size\n"
     ]
    },
    {
     "name": "stderr",
     "output_type": "stream",
     "text": [
      "     87/100      19.5G     0.1556     0.1341      0.817        258       1024: 100%|██████████| 15/15 [01:04<00:00,  4.32s/it]\n",
      "                 Class     Images  Instances      Box(P          R      mAP50  mAP50-95): 100%|██████████| 8/8 [00:27<00:00,  3.48s/it]"
     ]
    },
    {
     "name": "stdout",
     "output_type": "stream",
     "text": [
      "                   all        120       2040          1          1      0.995      0.995\n"
     ]
    },
    {
     "name": "stderr",
     "output_type": "stream",
     "text": [
      "\n"
     ]
    },
    {
     "name": "stdout",
     "output_type": "stream",
     "text": [
      "\n",
      "      Epoch    GPU_mem   box_loss   cls_loss   dfl_loss  Instances       Size\n"
     ]
    },
    {
     "name": "stderr",
     "output_type": "stream",
     "text": [
      "     88/100      19.5G     0.1642     0.1401     0.8277        189       1024: 100%|██████████| 15/15 [01:30<00:00,  6.02s/it]\n",
      "                 Class     Images  Instances      Box(P          R      mAP50  mAP50-95): 100%|██████████| 8/8 [00:18<00:00,  2.34s/it]"
     ]
    },
    {
     "name": "stdout",
     "output_type": "stream",
     "text": [
      "                   all        120       2040          1          1      0.995      0.995\n"
     ]
    },
    {
     "name": "stderr",
     "output_type": "stream",
     "text": [
      "\n"
     ]
    },
    {
     "name": "stdout",
     "output_type": "stream",
     "text": [
      "\n",
      "      Epoch    GPU_mem   box_loss   cls_loss   dfl_loss  Instances       Size\n"
     ]
    },
    {
     "name": "stderr",
     "output_type": "stream",
     "text": [
      "     89/100      19.6G     0.1619     0.1447     0.8424        252       1024: 100%|██████████| 15/15 [01:15<00:00,  5.03s/it]\n",
      "                 Class     Images  Instances      Box(P          R      mAP50  mAP50-95): 100%|██████████| 8/8 [00:21<00:00,  2.72s/it]"
     ]
    },
    {
     "name": "stdout",
     "output_type": "stream",
     "text": [
      "                   all        120       2040          1          1      0.995      0.995\n"
     ]
    },
    {
     "name": "stderr",
     "output_type": "stream",
     "text": [
      "\n"
     ]
    },
    {
     "name": "stdout",
     "output_type": "stream",
     "text": [
      "\n",
      "      Epoch    GPU_mem   box_loss   cls_loss   dfl_loss  Instances       Size\n"
     ]
    },
    {
     "name": "stderr",
     "output_type": "stream",
     "text": [
      "     90/100      19.6G     0.1494     0.1345     0.8262        372       1024: 100%|██████████| 15/15 [01:16<00:00,  5.07s/it]\n",
      "                 Class     Images  Instances      Box(P          R      mAP50  mAP50-95): 100%|██████████| 8/8 [00:18<00:00,  2.33s/it]"
     ]
    },
    {
     "name": "stdout",
     "output_type": "stream",
     "text": [
      "                   all        120       2040          1          1      0.995      0.995\n"
     ]
    },
    {
     "name": "stderr",
     "output_type": "stream",
     "text": [
      "\n"
     ]
    },
    {
     "name": "stdout",
     "output_type": "stream",
     "text": [
      "Closing dataloader mosaic\n",
      "\u001b[34m\u001b[1malbumentations: \u001b[0mBlur(p=0.01, blur_limit=(3, 7)), MedianBlur(p=0.01, blur_limit=(3, 7)), ToGray(p=0.01, method='weighted_average', num_output_channels=3), CLAHE(p=0.01, clip_limit=(1.0, 4.0), tile_grid_size=(8, 8))\n",
      "\n",
      "      Epoch    GPU_mem   box_loss   cls_loss   dfl_loss  Instances       Size\n"
     ]
    },
    {
     "name": "stderr",
     "output_type": "stream",
     "text": [
      "     91/100      19.6G     0.1163     0.1148     0.7975        156       1024: 100%|██████████| 15/15 [01:12<00:00,  4.80s/it]\n",
      "                 Class     Images  Instances      Box(P          R      mAP50  mAP50-95): 100%|██████████| 8/8 [00:21<00:00,  2.66s/it]"
     ]
    },
    {
     "name": "stdout",
     "output_type": "stream",
     "text": [
      "                   all        120       2040          1          1      0.995      0.995\n"
     ]
    },
    {
     "name": "stderr",
     "output_type": "stream",
     "text": [
      "\n"
     ]
    },
    {
     "name": "stdout",
     "output_type": "stream",
     "text": [
      "\n",
      "      Epoch    GPU_mem   box_loss   cls_loss   dfl_loss  Instances       Size\n"
     ]
    },
    {
     "name": "stderr",
     "output_type": "stream",
     "text": [
      "     92/100      19.6G     0.1213     0.1154     0.7947        152       1024: 100%|██████████| 15/15 [01:08<00:00,  4.55s/it]\n",
      "                 Class     Images  Instances      Box(P          R      mAP50  mAP50-95): 100%|██████████| 8/8 [00:22<00:00,  2.83s/it]"
     ]
    },
    {
     "name": "stdout",
     "output_type": "stream",
     "text": [
      "                   all        120       2040          1          1      0.995      0.995\n"
     ]
    },
    {
     "name": "stderr",
     "output_type": "stream",
     "text": [
      "\n"
     ]
    },
    {
     "name": "stdout",
     "output_type": "stream",
     "text": [
      "\n",
      "      Epoch    GPU_mem   box_loss   cls_loss   dfl_loss  Instances       Size\n"
     ]
    },
    {
     "name": "stderr",
     "output_type": "stream",
     "text": [
      "     93/100      19.6G     0.1224     0.1151     0.7897        116       1024: 100%|██████████| 15/15 [01:08<00:00,  4.59s/it]\n",
      "                 Class     Images  Instances      Box(P          R      mAP50  mAP50-95): 100%|██████████| 8/8 [00:23<00:00,  2.90s/it]"
     ]
    },
    {
     "name": "stdout",
     "output_type": "stream",
     "text": [
      "                   all        120       2040          1          1      0.995      0.995\n"
     ]
    },
    {
     "name": "stderr",
     "output_type": "stream",
     "text": [
      "\n"
     ]
    },
    {
     "name": "stdout",
     "output_type": "stream",
     "text": [
      "\n",
      "      Epoch    GPU_mem   box_loss   cls_loss   dfl_loss  Instances       Size\n"
     ]
    },
    {
     "name": "stderr",
     "output_type": "stream",
     "text": [
      "     94/100      19.4G     0.1103     0.1066     0.8071        138       1024: 100%|██████████| 15/15 [01:19<00:00,  5.30s/it]\n",
      "                 Class     Images  Instances      Box(P          R      mAP50  mAP50-95): 100%|██████████| 8/8 [00:22<00:00,  2.76s/it]"
     ]
    },
    {
     "name": "stdout",
     "output_type": "stream",
     "text": [
      "                   all        120       2040          1          1      0.995      0.995\n"
     ]
    },
    {
     "name": "stderr",
     "output_type": "stream",
     "text": [
      "\n"
     ]
    },
    {
     "name": "stdout",
     "output_type": "stream",
     "text": [
      "\n",
      "      Epoch    GPU_mem   box_loss   cls_loss   dfl_loss  Instances       Size\n"
     ]
    },
    {
     "name": "stderr",
     "output_type": "stream",
     "text": [
      "     95/100      19.6G     0.1098     0.1075     0.7972        136       1024: 100%|██████████| 15/15 [01:13<00:00,  4.91s/it]\n",
      "                 Class     Images  Instances      Box(P          R      mAP50  mAP50-95): 100%|██████████| 8/8 [00:22<00:00,  2.76s/it]"
     ]
    },
    {
     "name": "stdout",
     "output_type": "stream",
     "text": [
      "                   all        120       2040          1          1      0.995      0.995\n"
     ]
    },
    {
     "name": "stderr",
     "output_type": "stream",
     "text": [
      "\n"
     ]
    },
    {
     "name": "stdout",
     "output_type": "stream",
     "text": [
      "\n",
      "      Epoch    GPU_mem   box_loss   cls_loss   dfl_loss  Instances       Size\n"
     ]
    },
    {
     "name": "stderr",
     "output_type": "stream",
     "text": [
      "     96/100      19.6G     0.1099      0.108     0.8074        144       1024: 100%|██████████| 15/15 [01:09<00:00,  4.61s/it]\n",
      "                 Class     Images  Instances      Box(P          R      mAP50  mAP50-95): 100%|██████████| 8/8 [00:25<00:00,  3.22s/it]"
     ]
    },
    {
     "name": "stdout",
     "output_type": "stream",
     "text": [
      "                   all        120       2040          1          1      0.995      0.995\n"
     ]
    },
    {
     "name": "stderr",
     "output_type": "stream",
     "text": [
      "\n"
     ]
    },
    {
     "name": "stdout",
     "output_type": "stream",
     "text": [
      "\n",
      "      Epoch    GPU_mem   box_loss   cls_loss   dfl_loss  Instances       Size\n"
     ]
    },
    {
     "name": "stderr",
     "output_type": "stream",
     "text": [
      "     97/100      19.6G     0.1159     0.1143     0.8027        133       1024: 100%|██████████| 15/15 [01:26<00:00,  5.79s/it]\n",
      "                 Class     Images  Instances      Box(P          R      mAP50  mAP50-95): 100%|██████████| 8/8 [00:28<00:00,  3.55s/it]"
     ]
    },
    {
     "name": "stdout",
     "output_type": "stream",
     "text": [
      "                   all        120       2040          1          1      0.995      0.995\n"
     ]
    },
    {
     "name": "stderr",
     "output_type": "stream",
     "text": [
      "\n"
     ]
    },
    {
     "name": "stdout",
     "output_type": "stream",
     "text": [
      "\n",
      "      Epoch    GPU_mem   box_loss   cls_loss   dfl_loss  Instances       Size\n"
     ]
    },
    {
     "name": "stderr",
     "output_type": "stream",
     "text": [
      "     98/100      19.6G     0.1121     0.1125     0.8073        135       1024: 100%|██████████| 15/15 [01:21<00:00,  5.43s/it]\n",
      "                 Class     Images  Instances      Box(P          R      mAP50  mAP50-95): 100%|██████████| 8/8 [00:20<00:00,  2.59s/it]"
     ]
    },
    {
     "name": "stdout",
     "output_type": "stream",
     "text": [
      "                   all        120       2040          1          1      0.995      0.995\n"
     ]
    },
    {
     "name": "stderr",
     "output_type": "stream",
     "text": [
      "\n"
     ]
    },
    {
     "name": "stdout",
     "output_type": "stream",
     "text": [
      "\n",
      "      Epoch    GPU_mem   box_loss   cls_loss   dfl_loss  Instances       Size\n"
     ]
    },
    {
     "name": "stderr",
     "output_type": "stream",
     "text": [
      "     99/100      19.6G     0.1073     0.1068     0.7981        150       1024: 100%|██████████| 15/15 [01:13<00:00,  4.92s/it]\n",
      "                 Class     Images  Instances      Box(P          R      mAP50  mAP50-95): 100%|██████████| 8/8 [00:19<00:00,  2.48s/it]"
     ]
    },
    {
     "name": "stdout",
     "output_type": "stream",
     "text": [
      "                   all        120       2040          1          1      0.995      0.995\n"
     ]
    },
    {
     "name": "stderr",
     "output_type": "stream",
     "text": [
      "\n"
     ]
    },
    {
     "name": "stdout",
     "output_type": "stream",
     "text": [
      "\n",
      "      Epoch    GPU_mem   box_loss   cls_loss   dfl_loss  Instances       Size\n"
     ]
    },
    {
     "name": "stderr",
     "output_type": "stream",
     "text": [
      "    100/100      19.6G    0.09833     0.1008      0.806        132       1024: 100%|██████████| 15/15 [01:14<00:00,  4.99s/it]\n",
      "                 Class     Images  Instances      Box(P          R      mAP50  mAP50-95): 100%|██████████| 8/8 [00:34<00:00,  4.26s/it]"
     ]
    },
    {
     "name": "stdout",
     "output_type": "stream",
     "text": [
      "                   all        120       2040          1          1      0.995      0.995\n"
     ]
    },
    {
     "name": "stderr",
     "output_type": "stream",
     "text": [
      "\n"
     ]
    },
    {
     "name": "stdout",
     "output_type": "stream",
     "text": [
      "\n",
      "100 epochs completed in 3.998 hours.\n",
      "Optimizer stripped from runs/detect/person_entry_model5/weights/last.pt, 114.5MB\n",
      "Optimizer stripped from runs/detect/person_entry_model5/weights/best.pt, 114.5MB\n",
      "\n",
      "Validating runs/detect/person_entry_model5/weights/best.pt...\n",
      "Ultralytics 8.3.144 🚀 Python-3.11.9 torch-2.6.0+cu124 CUDA:0 (NVIDIA GeForce RTX 4070 Ti SUPER, 16376MiB)\n",
      "YOLO11x summary (fused): 190 layers, 56,828,179 parameters, 0 gradients, 194.4 GFLOPs\n"
     ]
    },
    {
     "name": "stderr",
     "output_type": "stream",
     "text": [
      "                 Class     Images  Instances      Box(P          R      mAP50  mAP50-95): 100%|██████████| 8/8 [00:10<00:00,  1.26s/it]\n"
     ]
    },
    {
     "name": "stdout",
     "output_type": "stream",
     "text": [
      "                   all        120       2040          1          1      0.995      0.995\n",
      "Speed: 0.7ms preprocess, 68.5ms inference, 0.0ms loss, 3.3ms postprocess per image\n",
      "Results saved to \u001b[1mruns/detect/person_entry_model5\u001b[0m\n"
     ]
    },
    {
     "data": {
      "text/plain": [
       "ultralytics.utils.metrics.DetMetrics object with attributes:\n",
       "\n",
       "ap_class_index: array([0])\n",
       "box: ultralytics.utils.metrics.Metric object\n",
       "confusion_matrix: <ultralytics.utils.metrics.ConfusionMatrix object at 0x76980db69450>\n",
       "curves: ['Precision-Recall(B)', 'F1-Confidence(B)', 'Precision-Confidence(B)', 'Recall-Confidence(B)']\n",
       "curves_results: [[array([          0,    0.001001,    0.002002,    0.003003,    0.004004,    0.005005,    0.006006,    0.007007,    0.008008,    0.009009,     0.01001,    0.011011,    0.012012,    0.013013,    0.014014,    0.015015,    0.016016,    0.017017,    0.018018,    0.019019,     0.02002,    0.021021,    0.022022,    0.023023,\n",
       "          0.024024,    0.025025,    0.026026,    0.027027,    0.028028,    0.029029,     0.03003,    0.031031,    0.032032,    0.033033,    0.034034,    0.035035,    0.036036,    0.037037,    0.038038,    0.039039,     0.04004,    0.041041,    0.042042,    0.043043,    0.044044,    0.045045,    0.046046,    0.047047,\n",
       "          0.048048,    0.049049,     0.05005,    0.051051,    0.052052,    0.053053,    0.054054,    0.055055,    0.056056,    0.057057,    0.058058,    0.059059,     0.06006,    0.061061,    0.062062,    0.063063,    0.064064,    0.065065,    0.066066,    0.067067,    0.068068,    0.069069,     0.07007,    0.071071,\n",
       "          0.072072,    0.073073,    0.074074,    0.075075,    0.076076,    0.077077,    0.078078,    0.079079,     0.08008,    0.081081,    0.082082,    0.083083,    0.084084,    0.085085,    0.086086,    0.087087,    0.088088,    0.089089,     0.09009,    0.091091,    0.092092,    0.093093,    0.094094,    0.095095,\n",
       "          0.096096,    0.097097,    0.098098,    0.099099,      0.1001,      0.1011,      0.1021,      0.1031,      0.1041,     0.10511,     0.10611,     0.10711,     0.10811,     0.10911,     0.11011,     0.11111,     0.11211,     0.11311,     0.11411,     0.11512,     0.11612,     0.11712,     0.11812,     0.11912,\n",
       "           0.12012,     0.12112,     0.12212,     0.12312,     0.12412,     0.12513,     0.12613,     0.12713,     0.12813,     0.12913,     0.13013,     0.13113,     0.13213,     0.13313,     0.13413,     0.13514,     0.13614,     0.13714,     0.13814,     0.13914,     0.14014,     0.14114,     0.14214,     0.14314,\n",
       "           0.14414,     0.14515,     0.14615,     0.14715,     0.14815,     0.14915,     0.15015,     0.15115,     0.15215,     0.15315,     0.15415,     0.15516,     0.15616,     0.15716,     0.15816,     0.15916,     0.16016,     0.16116,     0.16216,     0.16316,     0.16416,     0.16517,     0.16617,     0.16717,\n",
       "           0.16817,     0.16917,     0.17017,     0.17117,     0.17217,     0.17317,     0.17417,     0.17518,     0.17618,     0.17718,     0.17818,     0.17918,     0.18018,     0.18118,     0.18218,     0.18318,     0.18418,     0.18519,     0.18619,     0.18719,     0.18819,     0.18919,     0.19019,     0.19119,\n",
       "           0.19219,     0.19319,     0.19419,      0.1952,      0.1962,      0.1972,      0.1982,      0.1992,      0.2002,      0.2012,      0.2022,      0.2032,      0.2042,     0.20521,     0.20621,     0.20721,     0.20821,     0.20921,     0.21021,     0.21121,     0.21221,     0.21321,     0.21421,     0.21522,\n",
       "           0.21622,     0.21722,     0.21822,     0.21922,     0.22022,     0.22122,     0.22222,     0.22322,     0.22422,     0.22523,     0.22623,     0.22723,     0.22823,     0.22923,     0.23023,     0.23123,     0.23223,     0.23323,     0.23423,     0.23524,     0.23624,     0.23724,     0.23824,     0.23924,\n",
       "           0.24024,     0.24124,     0.24224,     0.24324,     0.24424,     0.24525,     0.24625,     0.24725,     0.24825,     0.24925,     0.25025,     0.25125,     0.25225,     0.25325,     0.25425,     0.25526,     0.25626,     0.25726,     0.25826,     0.25926,     0.26026,     0.26126,     0.26226,     0.26326,\n",
       "           0.26426,     0.26527,     0.26627,     0.26727,     0.26827,     0.26927,     0.27027,     0.27127,     0.27227,     0.27327,     0.27427,     0.27528,     0.27628,     0.27728,     0.27828,     0.27928,     0.28028,     0.28128,     0.28228,     0.28328,     0.28428,     0.28529,     0.28629,     0.28729,\n",
       "           0.28829,     0.28929,     0.29029,     0.29129,     0.29229,     0.29329,     0.29429,      0.2953,      0.2963,      0.2973,      0.2983,      0.2993,      0.3003,      0.3013,      0.3023,      0.3033,      0.3043,     0.30531,     0.30631,     0.30731,     0.30831,     0.30931,     0.31031,     0.31131,\n",
       "           0.31231,     0.31331,     0.31431,     0.31532,     0.31632,     0.31732,     0.31832,     0.31932,     0.32032,     0.32132,     0.32232,     0.32332,     0.32432,     0.32533,     0.32633,     0.32733,     0.32833,     0.32933,     0.33033,     0.33133,     0.33233,     0.33333,     0.33433,     0.33534,\n",
       "           0.33634,     0.33734,     0.33834,     0.33934,     0.34034,     0.34134,     0.34234,     0.34334,     0.34434,     0.34535,     0.34635,     0.34735,     0.34835,     0.34935,     0.35035,     0.35135,     0.35235,     0.35335,     0.35435,     0.35536,     0.35636,     0.35736,     0.35836,     0.35936,\n",
       "           0.36036,     0.36136,     0.36236,     0.36336,     0.36436,     0.36537,     0.36637,     0.36737,     0.36837,     0.36937,     0.37037,     0.37137,     0.37237,     0.37337,     0.37437,     0.37538,     0.37638,     0.37738,     0.37838,     0.37938,     0.38038,     0.38138,     0.38238,     0.38338,\n",
       "           0.38438,     0.38539,     0.38639,     0.38739,     0.38839,     0.38939,     0.39039,     0.39139,     0.39239,     0.39339,     0.39439,      0.3954,      0.3964,      0.3974,      0.3984,      0.3994,      0.4004,      0.4014,      0.4024,      0.4034,      0.4044,     0.40541,     0.40641,     0.40741,\n",
       "           0.40841,     0.40941,     0.41041,     0.41141,     0.41241,     0.41341,     0.41441,     0.41542,     0.41642,     0.41742,     0.41842,     0.41942,     0.42042,     0.42142,     0.42242,     0.42342,     0.42442,     0.42543,     0.42643,     0.42743,     0.42843,     0.42943,     0.43043,     0.43143,\n",
       "           0.43243,     0.43343,     0.43443,     0.43544,     0.43644,     0.43744,     0.43844,     0.43944,     0.44044,     0.44144,     0.44244,     0.44344,     0.44444,     0.44545,     0.44645,     0.44745,     0.44845,     0.44945,     0.45045,     0.45145,     0.45245,     0.45345,     0.45445,     0.45546,\n",
       "           0.45646,     0.45746,     0.45846,     0.45946,     0.46046,     0.46146,     0.46246,     0.46346,     0.46446,     0.46547,     0.46647,     0.46747,     0.46847,     0.46947,     0.47047,     0.47147,     0.47247,     0.47347,     0.47447,     0.47548,     0.47648,     0.47748,     0.47848,     0.47948,\n",
       "           0.48048,     0.48148,     0.48248,     0.48348,     0.48448,     0.48549,     0.48649,     0.48749,     0.48849,     0.48949,     0.49049,     0.49149,     0.49249,     0.49349,     0.49449,      0.4955,      0.4965,      0.4975,      0.4985,      0.4995,      0.5005,      0.5015,      0.5025,      0.5035,\n",
       "            0.5045,     0.50551,     0.50651,     0.50751,     0.50851,     0.50951,     0.51051,     0.51151,     0.51251,     0.51351,     0.51451,     0.51552,     0.51652,     0.51752,     0.51852,     0.51952,     0.52052,     0.52152,     0.52252,     0.52352,     0.52452,     0.52553,     0.52653,     0.52753,\n",
       "           0.52853,     0.52953,     0.53053,     0.53153,     0.53253,     0.53353,     0.53453,     0.53554,     0.53654,     0.53754,     0.53854,     0.53954,     0.54054,     0.54154,     0.54254,     0.54354,     0.54454,     0.54555,     0.54655,     0.54755,     0.54855,     0.54955,     0.55055,     0.55155,\n",
       "           0.55255,     0.55355,     0.55455,     0.55556,     0.55656,     0.55756,     0.55856,     0.55956,     0.56056,     0.56156,     0.56256,     0.56356,     0.56456,     0.56557,     0.56657,     0.56757,     0.56857,     0.56957,     0.57057,     0.57157,     0.57257,     0.57357,     0.57457,     0.57558,\n",
       "           0.57658,     0.57758,     0.57858,     0.57958,     0.58058,     0.58158,     0.58258,     0.58358,     0.58458,     0.58559,     0.58659,     0.58759,     0.58859,     0.58959,     0.59059,     0.59159,     0.59259,     0.59359,     0.59459,      0.5956,      0.5966,      0.5976,      0.5986,      0.5996,\n",
       "            0.6006,      0.6016,      0.6026,      0.6036,      0.6046,     0.60561,     0.60661,     0.60761,     0.60861,     0.60961,     0.61061,     0.61161,     0.61261,     0.61361,     0.61461,     0.61562,     0.61662,     0.61762,     0.61862,     0.61962,     0.62062,     0.62162,     0.62262,     0.62362,\n",
       "           0.62462,     0.62563,     0.62663,     0.62763,     0.62863,     0.62963,     0.63063,     0.63163,     0.63263,     0.63363,     0.63463,     0.63564,     0.63664,     0.63764,     0.63864,     0.63964,     0.64064,     0.64164,     0.64264,     0.64364,     0.64464,     0.64565,     0.64665,     0.64765,\n",
       "           0.64865,     0.64965,     0.65065,     0.65165,     0.65265,     0.65365,     0.65465,     0.65566,     0.65666,     0.65766,     0.65866,     0.65966,     0.66066,     0.66166,     0.66266,     0.66366,     0.66466,     0.66567,     0.66667,     0.66767,     0.66867,     0.66967,     0.67067,     0.67167,\n",
       "           0.67267,     0.67367,     0.67467,     0.67568,     0.67668,     0.67768,     0.67868,     0.67968,     0.68068,     0.68168,     0.68268,     0.68368,     0.68468,     0.68569,     0.68669,     0.68769,     0.68869,     0.68969,     0.69069,     0.69169,     0.69269,     0.69369,     0.69469,      0.6957,\n",
       "            0.6967,      0.6977,      0.6987,      0.6997,      0.7007,      0.7017,      0.7027,      0.7037,      0.7047,     0.70571,     0.70671,     0.70771,     0.70871,     0.70971,     0.71071,     0.71171,     0.71271,     0.71371,     0.71471,     0.71572,     0.71672,     0.71772,     0.71872,     0.71972,\n",
       "           0.72072,     0.72172,     0.72272,     0.72372,     0.72472,     0.72573,     0.72673,     0.72773,     0.72873,     0.72973,     0.73073,     0.73173,     0.73273,     0.73373,     0.73473,     0.73574,     0.73674,     0.73774,     0.73874,     0.73974,     0.74074,     0.74174,     0.74274,     0.74374,\n",
       "           0.74474,     0.74575,     0.74675,     0.74775,     0.74875,     0.74975,     0.75075,     0.75175,     0.75275,     0.75375,     0.75475,     0.75576,     0.75676,     0.75776,     0.75876,     0.75976,     0.76076,     0.76176,     0.76276,     0.76376,     0.76476,     0.76577,     0.76677,     0.76777,\n",
       "           0.76877,     0.76977,     0.77077,     0.77177,     0.77277,     0.77377,     0.77477,     0.77578,     0.77678,     0.77778,     0.77878,     0.77978,     0.78078,     0.78178,     0.78278,     0.78378,     0.78478,     0.78579,     0.78679,     0.78779,     0.78879,     0.78979,     0.79079,     0.79179,\n",
       "           0.79279,     0.79379,     0.79479,      0.7958,      0.7968,      0.7978,      0.7988,      0.7998,      0.8008,      0.8018,      0.8028,      0.8038,      0.8048,     0.80581,     0.80681,     0.80781,     0.80881,     0.80981,     0.81081,     0.81181,     0.81281,     0.81381,     0.81481,     0.81582,\n",
       "           0.81682,     0.81782,     0.81882,     0.81982,     0.82082,     0.82182,     0.82282,     0.82382,     0.82482,     0.82583,     0.82683,     0.82783,     0.82883,     0.82983,     0.83083,     0.83183,     0.83283,     0.83383,     0.83483,     0.83584,     0.83684,     0.83784,     0.83884,     0.83984,\n",
       "           0.84084,     0.84184,     0.84284,     0.84384,     0.84484,     0.84585,     0.84685,     0.84785,     0.84885,     0.84985,     0.85085,     0.85185,     0.85285,     0.85385,     0.85485,     0.85586,     0.85686,     0.85786,     0.85886,     0.85986,     0.86086,     0.86186,     0.86286,     0.86386,\n",
       "           0.86486,     0.86587,     0.86687,     0.86787,     0.86887,     0.86987,     0.87087,     0.87187,     0.87287,     0.87387,     0.87487,     0.87588,     0.87688,     0.87788,     0.87888,     0.87988,     0.88088,     0.88188,     0.88288,     0.88388,     0.88488,     0.88589,     0.88689,     0.88789,\n",
       "           0.88889,     0.88989,     0.89089,     0.89189,     0.89289,     0.89389,     0.89489,      0.8959,      0.8969,      0.8979,      0.8989,      0.8999,      0.9009,      0.9019,      0.9029,      0.9039,      0.9049,     0.90591,     0.90691,     0.90791,     0.90891,     0.90991,     0.91091,     0.91191,\n",
       "           0.91291,     0.91391,     0.91491,     0.91592,     0.91692,     0.91792,     0.91892,     0.91992,     0.92092,     0.92192,     0.92292,     0.92392,     0.92492,     0.92593,     0.92693,     0.92793,     0.92893,     0.92993,     0.93093,     0.93193,     0.93293,     0.93393,     0.93493,     0.93594,\n",
       "           0.93694,     0.93794,     0.93894,     0.93994,     0.94094,     0.94194,     0.94294,     0.94394,     0.94494,     0.94595,     0.94695,     0.94795,     0.94895,     0.94995,     0.95095,     0.95195,     0.95295,     0.95395,     0.95495,     0.95596,     0.95696,     0.95796,     0.95896,     0.95996,\n",
       "           0.96096,     0.96196,     0.96296,     0.96396,     0.96496,     0.96597,     0.96697,     0.96797,     0.96897,     0.96997,     0.97097,     0.97197,     0.97297,     0.97397,     0.97497,     0.97598,     0.97698,     0.97798,     0.97898,     0.97998,     0.98098,     0.98198,     0.98298,     0.98398,\n",
       "           0.98498,     0.98599,     0.98699,     0.98799,     0.98899,     0.98999,     0.99099,     0.99199,     0.99299,     0.99399,     0.99499,       0.996,       0.997,       0.998,       0.999,           1]), array([[          1,           1,           1,           1,           1,           1,           1,           1,           1,           1,           1,           1,           1,           1,           1,           1,           1,           1,           1,           1,           1,           1,           1,\n",
       "                  1,           1,           1,           1,           1,           1,           1,           1,           1,           1,           1,           1,           1,           1,           1,           1,           1,           1,           1,           1,           1,           1,           1,\n",
       "                  1,           1,           1,           1,           1,           1,           1,           1,           1,           1,           1,           1,           1,           1,           1,           1,           1,           1,           1,           1,           1,           1,           1,\n",
       "                  1,           1,           1,           1,           1,           1,           1,           1,           1,           1,           1,           1,           1,           1,           1,           1,           1,           1,           1,           1,           1,           1,           1,\n",
       "                  1,           1,           1,           1,           1,           1,           1,           1,           1,           1,           1,           1,           1,           1,           1,           1,           1,           1,           1,           1,           1,           1,           1,\n",
       "                  1,           1,           1,           1,           1,           1,           1,           1,           1,           1,           1,           1,           1,           1,           1,           1,           1,           1,           1,           1,           1,           1,           1,\n",
       "                  1,           1,           1,           1,           1,           1,           1,           1,           1,           1,           1,           1,           1,           1,           1,           1,           1,           1,           1,           1,           1,           1,           1,\n",
       "                  1,           1,           1,           1,           1,           1,           1,           1,           1,           1,           1,           1,           1,           1,           1,           1,           1,           1,           1,           1,           1,           1,           1,\n",
       "                  1,           1,           1,           1,           1,           1,           1,           1,           1,           1,           1,           1,           1,           1,           1,           1,           1,           1,           1,           1,           1,           1,           1,\n",
       "                  1,           1,           1,           1,           1,           1,           1,           1,           1,           1,           1,           1,           1,           1,           1,           1,           1,           1,           1,           1,           1,           1,           1,\n",
       "                  1,           1,           1,           1,           1,           1,           1,           1,           1,           1,           1,           1,           1,           1,           1,           1,           1,           1,           1,           1,           1,           1,           1,\n",
       "                  1,           1,           1,           1,           1,           1,           1,           1,           1,           1,           1,           1,           1,           1,           1,           1,           1,           1,           1,           1,           1,           1,           1,\n",
       "                  1,           1,           1,           1,           1,           1,           1,           1,           1,           1,           1,           1,           1,           1,           1,           1,           1,           1,           1,           1,           1,           1,           1,\n",
       "                  1,           1,           1,           1,           1,           1,           1,           1,           1,           1,           1,           1,           1,           1,           1,           1,           1,           1,           1,           1,           1,           1,           1,\n",
       "                  1,           1,           1,           1,           1,           1,           1,           1,           1,           1,           1,           1,           1,           1,           1,           1,           1,           1,           1,           1,           1,           1,           1,\n",
       "                  1,           1,           1,           1,           1,           1,           1,           1,           1,           1,           1,           1,           1,           1,           1,           1,           1,           1,           1,           1,           1,           1,           1,\n",
       "                  1,           1,           1,           1,           1,           1,           1,           1,           1,           1,           1,           1,           1,           1,           1,           1,           1,           1,           1,           1,           1,           1,           1,\n",
       "                  1,           1,           1,           1,           1,           1,           1,           1,           1,           1,           1,           1,           1,           1,           1,           1,           1,           1,           1,           1,           1,           1,           1,\n",
       "                  1,           1,           1,           1,           1,           1,           1,           1,           1,           1,           1,           1,           1,           1,           1,           1,           1,           1,           1,           1,           1,           1,           1,\n",
       "                  1,           1,           1,           1,           1,           1,           1,           1,           1,           1,           1,           1,           1,           1,           1,           1,           1,           1,           1,           1,           1,           1,           1,\n",
       "                  1,           1,           1,           1,           1,           1,           1,           1,           1,           1,           1,           1,           1,           1,           1,           1,           1,           1,           1,           1,           1,           1,           1,\n",
       "                  1,           1,           1,           1,           1,           1,           1,           1,           1,           1,           1,           1,           1,           1,           1,           1,           1,           1,           1,           1,           1,           1,           1,\n",
       "                  1,           1,           1,           1,           1,           1,           1,           1,           1,           1,           1,           1,           1,           1,           1,           1,           1,           1,           1,           1,           1,           1,           1,\n",
       "                  1,           1,           1,           1,           1,           1,           1,           1,           1,           1,           1,           1,           1,           1,           1,           1,           1,           1,           1,           1,           1,           1,           1,\n",
       "                  1,           1,           1,           1,           1,           1,           1,           1,           1,           1,           1,           1,           1,           1,           1,           1,           1,           1,           1,           1,           1,           1,           1,\n",
       "                  1,           1,           1,           1,           1,           1,           1,           1,           1,           1,           1,           1,           1,           1,           1,           1,           1,           1,           1,           1,           1,           1,           1,\n",
       "                  1,           1,           1,           1,           1,           1,           1,           1,           1,           1,           1,           1,           1,           1,           1,           1,           1,           1,           1,           1,           1,           1,           1,\n",
       "                  1,           1,           1,           1,           1,           1,           1,           1,           1,           1,           1,           1,           1,           1,           1,           1,           1,           1,           1,           1,           1,           1,           1,\n",
       "                  1,           1,           1,           1,           1,           1,           1,           1,           1,           1,           1,           1,           1,           1,           1,           1,           1,           1,           1,           1,           1,           1,           1,\n",
       "                  1,           1,           1,           1,           1,           1,           1,           1,           1,           1,           1,           1,           1,           1,           1,           1,           1,           1,           1,           1,           1,           1,           1,\n",
       "                  1,           1,           1,           1,           1,           1,           1,           1,           1,           1,           1,           1,           1,           1,           1,           1,           1,           1,           1,           1,           1,           1,           1,\n",
       "                  1,           1,           1,           1,           1,           1,           1,           1,           1,           1,           1,           1,           1,           1,           1,           1,           1,           1,           1,           1,           1,           1,           1,\n",
       "                  1,           1,           1,           1,           1,           1,           1,           1,           1,           1,           1,           1,           1,           1,           1,           1,           1,           1,           1,           1,           1,           1,           1,\n",
       "                  1,           1,           1,           1,           1,           1,           1,           1,           1,           1,           1,           1,           1,           1,           1,           1,           1,           1,           1,           1,           1,           1,           1,\n",
       "                  1,           1,           1,           1,           1,           1,           1,           1,           1,           1,           1,           1,           1,           1,           1,           1,           1,           1,           1,           1,           1,           1,           1,\n",
       "                  1,           1,           1,           1,           1,           1,           1,           1,           1,           1,           1,           1,           1,           1,           1,           1,           1,           1,           1,           1,           1,           1,           1,\n",
       "                  1,           1,           1,           1,           1,           1,           1,           1,           1,           1,           1,           1,           1,           1,           1,           1,           1,           1,           1,           1,           1,           1,           1,\n",
       "                  1,           1,           1,           1,           1,           1,           1,           1,           1,           1,           1,           1,           1,           1,           1,           1,           1,           1,           1,           1,           1,           1,           1,\n",
       "                  1,           1,           1,           1,           1,           1,           1,           1,           1,           1,           1,           1,           1,           1,           1,           1,           1,           1,           1,           1,           1,           1,           1,\n",
       "                  1,           1,           1,           1,           1,           1,           1,           1,           1,           1,           1,           1,           1,           1,           1,           1,           1,           1,           1,           1,           1,           1,           1,\n",
       "                  1,           1,           1,           1,           1,           1,           1,           1,           1,           1,           1,           1,           1,           1,           1,           1,           1,           1,           1,           1,           1,           1,           1,\n",
       "                  1,           1,           1,           1,           1,           1,           1,           1,           1,           1,           1,           1,           1,           1,           1,           1,           1,           1,           1,           1,           1,           1,           1,\n",
       "                  1,           1,           1,           1,           1,           1,           1,           1,           1,           1,           1,           1,           1,           1,           1,           1,           1,           1,           1,           1,           1,           1,           1,\n",
       "                  1,           1,           1,           1,           1,           1,           1,           1,           1,           1,           0]]), 'Recall', 'Precision'], [array([          0,    0.001001,    0.002002,    0.003003,    0.004004,    0.005005,    0.006006,    0.007007,    0.008008,    0.009009,     0.01001,    0.011011,    0.012012,    0.013013,    0.014014,    0.015015,    0.016016,    0.017017,    0.018018,    0.019019,     0.02002,    0.021021,    0.022022,    0.023023,\n",
       "          0.024024,    0.025025,    0.026026,    0.027027,    0.028028,    0.029029,     0.03003,    0.031031,    0.032032,    0.033033,    0.034034,    0.035035,    0.036036,    0.037037,    0.038038,    0.039039,     0.04004,    0.041041,    0.042042,    0.043043,    0.044044,    0.045045,    0.046046,    0.047047,\n",
       "          0.048048,    0.049049,     0.05005,    0.051051,    0.052052,    0.053053,    0.054054,    0.055055,    0.056056,    0.057057,    0.058058,    0.059059,     0.06006,    0.061061,    0.062062,    0.063063,    0.064064,    0.065065,    0.066066,    0.067067,    0.068068,    0.069069,     0.07007,    0.071071,\n",
       "          0.072072,    0.073073,    0.074074,    0.075075,    0.076076,    0.077077,    0.078078,    0.079079,     0.08008,    0.081081,    0.082082,    0.083083,    0.084084,    0.085085,    0.086086,    0.087087,    0.088088,    0.089089,     0.09009,    0.091091,    0.092092,    0.093093,    0.094094,    0.095095,\n",
       "          0.096096,    0.097097,    0.098098,    0.099099,      0.1001,      0.1011,      0.1021,      0.1031,      0.1041,     0.10511,     0.10611,     0.10711,     0.10811,     0.10911,     0.11011,     0.11111,     0.11211,     0.11311,     0.11411,     0.11512,     0.11612,     0.11712,     0.11812,     0.11912,\n",
       "           0.12012,     0.12112,     0.12212,     0.12312,     0.12412,     0.12513,     0.12613,     0.12713,     0.12813,     0.12913,     0.13013,     0.13113,     0.13213,     0.13313,     0.13413,     0.13514,     0.13614,     0.13714,     0.13814,     0.13914,     0.14014,     0.14114,     0.14214,     0.14314,\n",
       "           0.14414,     0.14515,     0.14615,     0.14715,     0.14815,     0.14915,     0.15015,     0.15115,     0.15215,     0.15315,     0.15415,     0.15516,     0.15616,     0.15716,     0.15816,     0.15916,     0.16016,     0.16116,     0.16216,     0.16316,     0.16416,     0.16517,     0.16617,     0.16717,\n",
       "           0.16817,     0.16917,     0.17017,     0.17117,     0.17217,     0.17317,     0.17417,     0.17518,     0.17618,     0.17718,     0.17818,     0.17918,     0.18018,     0.18118,     0.18218,     0.18318,     0.18418,     0.18519,     0.18619,     0.18719,     0.18819,     0.18919,     0.19019,     0.19119,\n",
       "           0.19219,     0.19319,     0.19419,      0.1952,      0.1962,      0.1972,      0.1982,      0.1992,      0.2002,      0.2012,      0.2022,      0.2032,      0.2042,     0.20521,     0.20621,     0.20721,     0.20821,     0.20921,     0.21021,     0.21121,     0.21221,     0.21321,     0.21421,     0.21522,\n",
       "           0.21622,     0.21722,     0.21822,     0.21922,     0.22022,     0.22122,     0.22222,     0.22322,     0.22422,     0.22523,     0.22623,     0.22723,     0.22823,     0.22923,     0.23023,     0.23123,     0.23223,     0.23323,     0.23423,     0.23524,     0.23624,     0.23724,     0.23824,     0.23924,\n",
       "           0.24024,     0.24124,     0.24224,     0.24324,     0.24424,     0.24525,     0.24625,     0.24725,     0.24825,     0.24925,     0.25025,     0.25125,     0.25225,     0.25325,     0.25425,     0.25526,     0.25626,     0.25726,     0.25826,     0.25926,     0.26026,     0.26126,     0.26226,     0.26326,\n",
       "           0.26426,     0.26527,     0.26627,     0.26727,     0.26827,     0.26927,     0.27027,     0.27127,     0.27227,     0.27327,     0.27427,     0.27528,     0.27628,     0.27728,     0.27828,     0.27928,     0.28028,     0.28128,     0.28228,     0.28328,     0.28428,     0.28529,     0.28629,     0.28729,\n",
       "           0.28829,     0.28929,     0.29029,     0.29129,     0.29229,     0.29329,     0.29429,      0.2953,      0.2963,      0.2973,      0.2983,      0.2993,      0.3003,      0.3013,      0.3023,      0.3033,      0.3043,     0.30531,     0.30631,     0.30731,     0.30831,     0.30931,     0.31031,     0.31131,\n",
       "           0.31231,     0.31331,     0.31431,     0.31532,     0.31632,     0.31732,     0.31832,     0.31932,     0.32032,     0.32132,     0.32232,     0.32332,     0.32432,     0.32533,     0.32633,     0.32733,     0.32833,     0.32933,     0.33033,     0.33133,     0.33233,     0.33333,     0.33433,     0.33534,\n",
       "           0.33634,     0.33734,     0.33834,     0.33934,     0.34034,     0.34134,     0.34234,     0.34334,     0.34434,     0.34535,     0.34635,     0.34735,     0.34835,     0.34935,     0.35035,     0.35135,     0.35235,     0.35335,     0.35435,     0.35536,     0.35636,     0.35736,     0.35836,     0.35936,\n",
       "           0.36036,     0.36136,     0.36236,     0.36336,     0.36436,     0.36537,     0.36637,     0.36737,     0.36837,     0.36937,     0.37037,     0.37137,     0.37237,     0.37337,     0.37437,     0.37538,     0.37638,     0.37738,     0.37838,     0.37938,     0.38038,     0.38138,     0.38238,     0.38338,\n",
       "           0.38438,     0.38539,     0.38639,     0.38739,     0.38839,     0.38939,     0.39039,     0.39139,     0.39239,     0.39339,     0.39439,      0.3954,      0.3964,      0.3974,      0.3984,      0.3994,      0.4004,      0.4014,      0.4024,      0.4034,      0.4044,     0.40541,     0.40641,     0.40741,\n",
       "           0.40841,     0.40941,     0.41041,     0.41141,     0.41241,     0.41341,     0.41441,     0.41542,     0.41642,     0.41742,     0.41842,     0.41942,     0.42042,     0.42142,     0.42242,     0.42342,     0.42442,     0.42543,     0.42643,     0.42743,     0.42843,     0.42943,     0.43043,     0.43143,\n",
       "           0.43243,     0.43343,     0.43443,     0.43544,     0.43644,     0.43744,     0.43844,     0.43944,     0.44044,     0.44144,     0.44244,     0.44344,     0.44444,     0.44545,     0.44645,     0.44745,     0.44845,     0.44945,     0.45045,     0.45145,     0.45245,     0.45345,     0.45445,     0.45546,\n",
       "           0.45646,     0.45746,     0.45846,     0.45946,     0.46046,     0.46146,     0.46246,     0.46346,     0.46446,     0.46547,     0.46647,     0.46747,     0.46847,     0.46947,     0.47047,     0.47147,     0.47247,     0.47347,     0.47447,     0.47548,     0.47648,     0.47748,     0.47848,     0.47948,\n",
       "           0.48048,     0.48148,     0.48248,     0.48348,     0.48448,     0.48549,     0.48649,     0.48749,     0.48849,     0.48949,     0.49049,     0.49149,     0.49249,     0.49349,     0.49449,      0.4955,      0.4965,      0.4975,      0.4985,      0.4995,      0.5005,      0.5015,      0.5025,      0.5035,\n",
       "            0.5045,     0.50551,     0.50651,     0.50751,     0.50851,     0.50951,     0.51051,     0.51151,     0.51251,     0.51351,     0.51451,     0.51552,     0.51652,     0.51752,     0.51852,     0.51952,     0.52052,     0.52152,     0.52252,     0.52352,     0.52452,     0.52553,     0.52653,     0.52753,\n",
       "           0.52853,     0.52953,     0.53053,     0.53153,     0.53253,     0.53353,     0.53453,     0.53554,     0.53654,     0.53754,     0.53854,     0.53954,     0.54054,     0.54154,     0.54254,     0.54354,     0.54454,     0.54555,     0.54655,     0.54755,     0.54855,     0.54955,     0.55055,     0.55155,\n",
       "           0.55255,     0.55355,     0.55455,     0.55556,     0.55656,     0.55756,     0.55856,     0.55956,     0.56056,     0.56156,     0.56256,     0.56356,     0.56456,     0.56557,     0.56657,     0.56757,     0.56857,     0.56957,     0.57057,     0.57157,     0.57257,     0.57357,     0.57457,     0.57558,\n",
       "           0.57658,     0.57758,     0.57858,     0.57958,     0.58058,     0.58158,     0.58258,     0.58358,     0.58458,     0.58559,     0.58659,     0.58759,     0.58859,     0.58959,     0.59059,     0.59159,     0.59259,     0.59359,     0.59459,      0.5956,      0.5966,      0.5976,      0.5986,      0.5996,\n",
       "            0.6006,      0.6016,      0.6026,      0.6036,      0.6046,     0.60561,     0.60661,     0.60761,     0.60861,     0.60961,     0.61061,     0.61161,     0.61261,     0.61361,     0.61461,     0.61562,     0.61662,     0.61762,     0.61862,     0.61962,     0.62062,     0.62162,     0.62262,     0.62362,\n",
       "           0.62462,     0.62563,     0.62663,     0.62763,     0.62863,     0.62963,     0.63063,     0.63163,     0.63263,     0.63363,     0.63463,     0.63564,     0.63664,     0.63764,     0.63864,     0.63964,     0.64064,     0.64164,     0.64264,     0.64364,     0.64464,     0.64565,     0.64665,     0.64765,\n",
       "           0.64865,     0.64965,     0.65065,     0.65165,     0.65265,     0.65365,     0.65465,     0.65566,     0.65666,     0.65766,     0.65866,     0.65966,     0.66066,     0.66166,     0.66266,     0.66366,     0.66466,     0.66567,     0.66667,     0.66767,     0.66867,     0.66967,     0.67067,     0.67167,\n",
       "           0.67267,     0.67367,     0.67467,     0.67568,     0.67668,     0.67768,     0.67868,     0.67968,     0.68068,     0.68168,     0.68268,     0.68368,     0.68468,     0.68569,     0.68669,     0.68769,     0.68869,     0.68969,     0.69069,     0.69169,     0.69269,     0.69369,     0.69469,      0.6957,\n",
       "            0.6967,      0.6977,      0.6987,      0.6997,      0.7007,      0.7017,      0.7027,      0.7037,      0.7047,     0.70571,     0.70671,     0.70771,     0.70871,     0.70971,     0.71071,     0.71171,     0.71271,     0.71371,     0.71471,     0.71572,     0.71672,     0.71772,     0.71872,     0.71972,\n",
       "           0.72072,     0.72172,     0.72272,     0.72372,     0.72472,     0.72573,     0.72673,     0.72773,     0.72873,     0.72973,     0.73073,     0.73173,     0.73273,     0.73373,     0.73473,     0.73574,     0.73674,     0.73774,     0.73874,     0.73974,     0.74074,     0.74174,     0.74274,     0.74374,\n",
       "           0.74474,     0.74575,     0.74675,     0.74775,     0.74875,     0.74975,     0.75075,     0.75175,     0.75275,     0.75375,     0.75475,     0.75576,     0.75676,     0.75776,     0.75876,     0.75976,     0.76076,     0.76176,     0.76276,     0.76376,     0.76476,     0.76577,     0.76677,     0.76777,\n",
       "           0.76877,     0.76977,     0.77077,     0.77177,     0.77277,     0.77377,     0.77477,     0.77578,     0.77678,     0.77778,     0.77878,     0.77978,     0.78078,     0.78178,     0.78278,     0.78378,     0.78478,     0.78579,     0.78679,     0.78779,     0.78879,     0.78979,     0.79079,     0.79179,\n",
       "           0.79279,     0.79379,     0.79479,      0.7958,      0.7968,      0.7978,      0.7988,      0.7998,      0.8008,      0.8018,      0.8028,      0.8038,      0.8048,     0.80581,     0.80681,     0.80781,     0.80881,     0.80981,     0.81081,     0.81181,     0.81281,     0.81381,     0.81481,     0.81582,\n",
       "           0.81682,     0.81782,     0.81882,     0.81982,     0.82082,     0.82182,     0.82282,     0.82382,     0.82482,     0.82583,     0.82683,     0.82783,     0.82883,     0.82983,     0.83083,     0.83183,     0.83283,     0.83383,     0.83483,     0.83584,     0.83684,     0.83784,     0.83884,     0.83984,\n",
       "           0.84084,     0.84184,     0.84284,     0.84384,     0.84484,     0.84585,     0.84685,     0.84785,     0.84885,     0.84985,     0.85085,     0.85185,     0.85285,     0.85385,     0.85485,     0.85586,     0.85686,     0.85786,     0.85886,     0.85986,     0.86086,     0.86186,     0.86286,     0.86386,\n",
       "           0.86486,     0.86587,     0.86687,     0.86787,     0.86887,     0.86987,     0.87087,     0.87187,     0.87287,     0.87387,     0.87487,     0.87588,     0.87688,     0.87788,     0.87888,     0.87988,     0.88088,     0.88188,     0.88288,     0.88388,     0.88488,     0.88589,     0.88689,     0.88789,\n",
       "           0.88889,     0.88989,     0.89089,     0.89189,     0.89289,     0.89389,     0.89489,      0.8959,      0.8969,      0.8979,      0.8989,      0.8999,      0.9009,      0.9019,      0.9029,      0.9039,      0.9049,     0.90591,     0.90691,     0.90791,     0.90891,     0.90991,     0.91091,     0.91191,\n",
       "           0.91291,     0.91391,     0.91491,     0.91592,     0.91692,     0.91792,     0.91892,     0.91992,     0.92092,     0.92192,     0.92292,     0.92392,     0.92492,     0.92593,     0.92693,     0.92793,     0.92893,     0.92993,     0.93093,     0.93193,     0.93293,     0.93393,     0.93493,     0.93594,\n",
       "           0.93694,     0.93794,     0.93894,     0.93994,     0.94094,     0.94194,     0.94294,     0.94394,     0.94494,     0.94595,     0.94695,     0.94795,     0.94895,     0.94995,     0.95095,     0.95195,     0.95295,     0.95395,     0.95495,     0.95596,     0.95696,     0.95796,     0.95896,     0.95996,\n",
       "           0.96096,     0.96196,     0.96296,     0.96396,     0.96496,     0.96597,     0.96697,     0.96797,     0.96897,     0.96997,     0.97097,     0.97197,     0.97297,     0.97397,     0.97497,     0.97598,     0.97698,     0.97798,     0.97898,     0.97998,     0.98098,     0.98198,     0.98298,     0.98398,\n",
       "           0.98498,     0.98599,     0.98699,     0.98799,     0.98899,     0.98999,     0.99099,     0.99199,     0.99299,     0.99399,     0.99499,       0.996,       0.997,       0.998,       0.999,           1]), array([[    0.82876,     0.82876,     0.95371,     0.96866,     0.97494,     0.97832,     0.98046,     0.98333,     0.98554,     0.98673,      0.9875,     0.98901,     0.98963,      0.9901,     0.99022,     0.99093,     0.99201,     0.99215,     0.99261,     0.99306,     0.99322,     0.99338,     0.99363,\n",
       "            0.99463,     0.99476,     0.99493,     0.99518,     0.99524,     0.99531,     0.99562,     0.99586,     0.99603,     0.99613,      0.9962,     0.99627,     0.99634,     0.99647,     0.99659,     0.99664,     0.99669,     0.99674,     0.99679,     0.99685,     0.99695,     0.99706,     0.99715,\n",
       "            0.99724,     0.99734,     0.99747,     0.99762,     0.99778,     0.99787,     0.99795,     0.99802,     0.99816,     0.99854,     0.99857,     0.99861,     0.99864,     0.99868,     0.99871,     0.99874,     0.99878,     0.99886,     0.99894,     0.99902,     0.99906,     0.99911,     0.99915,\n",
       "             0.9992,     0.99924,     0.99927,     0.99929,     0.99931,     0.99933,     0.99935,     0.99937,     0.99939,      0.9994,     0.99942,     0.99944,     0.99946,     0.99948,      0.9995,     0.99953,     0.99962,     0.99972,     0.99976,     0.99976,     0.99976,     0.99976,     0.99976,\n",
       "            0.99976,     0.99976,     0.99976,     0.99976,     0.99976,     0.99976,     0.99976,     0.99976,     0.99976,     0.99976,     0.99976,     0.99976,     0.99976,     0.99976,     0.99976,     0.99976,     0.99976,     0.99976,     0.99976,     0.99976,     0.99976,     0.99976,     0.99976,\n",
       "            0.99976,     0.99976,     0.99976,     0.99976,     0.99976,     0.99976,     0.99976,     0.99976,     0.99977,     0.99977,     0.99977,     0.99977,     0.99977,     0.99977,     0.99977,     0.99977,     0.99977,     0.99977,     0.99977,     0.99977,     0.99977,     0.99977,     0.99977,\n",
       "            0.99977,     0.99977,     0.99977,     0.99977,     0.99977,     0.99977,     0.99977,     0.99977,     0.99977,     0.99977,     0.99977,     0.99977,     0.99977,     0.99977,     0.99977,     0.99977,     0.99977,     0.99977,     0.99977,     0.99977,     0.99977,     0.99978,     0.99978,\n",
       "            0.99978,     0.99978,     0.99978,     0.99978,     0.99978,     0.99978,     0.99978,     0.99978,     0.99978,     0.99978,     0.99978,     0.99978,     0.99978,     0.99978,     0.99978,     0.99978,     0.99978,     0.99978,     0.99978,     0.99978,     0.99978,     0.99978,     0.99978,\n",
       "            0.99978,     0.99978,     0.99978,     0.99978,     0.99978,     0.99978,     0.99978,     0.99978,     0.99978,     0.99978,     0.99978,     0.99979,     0.99979,     0.99979,     0.99979,     0.99979,     0.99979,     0.99979,     0.99979,     0.99979,     0.99979,     0.99979,     0.99979,\n",
       "            0.99979,     0.99979,     0.99979,     0.99979,     0.99979,     0.99979,     0.99979,     0.99979,     0.99979,     0.99979,     0.99979,     0.99979,     0.99979,     0.99979,     0.99979,     0.99979,     0.99979,     0.99979,     0.99979,     0.99979,     0.99979,     0.99979,     0.99979,\n",
       "            0.99979,      0.9998,      0.9998,      0.9998,      0.9998,      0.9998,      0.9998,      0.9998,      0.9998,      0.9998,      0.9998,      0.9998,      0.9998,      0.9998,      0.9998,      0.9998,      0.9998,      0.9998,      0.9998,      0.9998,      0.9998,      0.9998,      0.9998,\n",
       "             0.9998,      0.9998,      0.9998,      0.9998,      0.9998,      0.9998,      0.9998,      0.9998,      0.9998,      0.9998,      0.9998,      0.9998,      0.9998,      0.9998,     0.99981,     0.99981,     0.99981,     0.99981,     0.99981,     0.99981,     0.99981,     0.99981,     0.99981,\n",
       "            0.99981,     0.99981,     0.99981,     0.99981,     0.99981,     0.99981,     0.99981,     0.99981,     0.99981,     0.99981,     0.99981,     0.99981,     0.99981,     0.99981,     0.99981,     0.99981,     0.99981,     0.99981,     0.99981,     0.99981,     0.99981,     0.99981,     0.99981,\n",
       "            0.99981,     0.99981,     0.99981,     0.99981,     0.99981,     0.99982,     0.99982,     0.99982,     0.99982,     0.99982,     0.99982,     0.99982,     0.99982,     0.99982,     0.99982,     0.99982,     0.99982,     0.99982,     0.99982,     0.99982,     0.99982,     0.99982,     0.99982,\n",
       "            0.99982,     0.99982,     0.99982,     0.99982,     0.99982,     0.99982,     0.99982,     0.99982,     0.99982,     0.99982,     0.99982,     0.99982,     0.99982,     0.99982,     0.99982,     0.99982,     0.99982,     0.99982,     0.99983,     0.99983,     0.99983,     0.99983,     0.99983,\n",
       "            0.99983,     0.99983,     0.99983,     0.99983,     0.99983,     0.99983,     0.99983,     0.99983,     0.99983,     0.99983,     0.99983,     0.99983,     0.99983,     0.99983,     0.99983,     0.99983,     0.99983,     0.99983,     0.99983,     0.99983,     0.99983,     0.99983,     0.99983,\n",
       "            0.99983,     0.99983,     0.99983,     0.99983,     0.99983,     0.99983,     0.99983,     0.99983,     0.99984,     0.99984,     0.99984,     0.99984,     0.99984,     0.99984,     0.99984,     0.99984,     0.99984,     0.99984,     0.99984,     0.99984,     0.99984,     0.99984,     0.99984,\n",
       "            0.99984,     0.99984,     0.99984,     0.99984,     0.99984,     0.99984,     0.99984,     0.99984,     0.99984,     0.99984,     0.99984,     0.99984,     0.99984,     0.99984,     0.99984,     0.99984,     0.99984,     0.99984,     0.99984,     0.99984,     0.99984,     0.99985,     0.99985,\n",
       "            0.99985,     0.99985,     0.99985,     0.99985,     0.99985,     0.99985,     0.99985,     0.99985,     0.99985,     0.99985,     0.99985,     0.99985,     0.99985,     0.99985,     0.99985,     0.99985,     0.99985,     0.99985,     0.99985,     0.99985,     0.99985,     0.99985,     0.99985,\n",
       "            0.99985,     0.99985,     0.99985,     0.99985,     0.99985,     0.99985,     0.99985,     0.99985,     0.99985,     0.99985,     0.99985,     0.99986,     0.99986,     0.99986,     0.99986,     0.99986,     0.99986,     0.99986,     0.99986,     0.99986,     0.99986,     0.99986,     0.99986,\n",
       "            0.99986,     0.99986,     0.99986,     0.99986,     0.99986,     0.99986,     0.99986,     0.99986,     0.99986,     0.99986,     0.99986,     0.99986,     0.99986,     0.99986,     0.99986,     0.99986,     0.99986,     0.99986,     0.99986,     0.99986,     0.99986,     0.99986,     0.99986,\n",
       "            0.99986,     0.99987,     0.99987,     0.99987,     0.99987,     0.99987,     0.99987,     0.99987,     0.99987,     0.99987,     0.99987,     0.99987,     0.99987,     0.99987,     0.99987,     0.99987,     0.99987,     0.99987,     0.99987,     0.99987,     0.99987,     0.99987,     0.99987,\n",
       "            0.99987,     0.99987,     0.99987,     0.99987,     0.99987,     0.99987,     0.99987,     0.99987,     0.99987,     0.99987,     0.99987,     0.99987,     0.99987,     0.99987,     0.99988,     0.99988,     0.99988,     0.99988,     0.99988,     0.99988,     0.99988,     0.99988,     0.99988,\n",
       "            0.99988,     0.99988,     0.99988,     0.99988,     0.99988,     0.99988,     0.99988,     0.99988,     0.99988,     0.99988,     0.99988,     0.99988,     0.99988,     0.99988,     0.99988,     0.99988,     0.99988,     0.99988,     0.99988,     0.99988,     0.99988,     0.99988,     0.99988,\n",
       "            0.99988,     0.99988,     0.99988,     0.99988,     0.99989,     0.99989,     0.99989,     0.99989,     0.99989,     0.99989,     0.99989,     0.99989,     0.99989,     0.99989,     0.99989,     0.99989,     0.99989,     0.99989,     0.99989,     0.99989,     0.99989,     0.99989,     0.99989,\n",
       "            0.99989,     0.99989,     0.99989,     0.99989,     0.99989,     0.99989,     0.99989,     0.99989,     0.99989,     0.99989,     0.99989,     0.99989,     0.99989,     0.99989,     0.99989,     0.99989,     0.99989,      0.9999,      0.9999,      0.9999,      0.9999,      0.9999,      0.9999,\n",
       "             0.9999,      0.9999,      0.9999,      0.9999,      0.9999,      0.9999,      0.9999,      0.9999,      0.9999,      0.9999,      0.9999,      0.9999,      0.9999,      0.9999,      0.9999,      0.9999,      0.9999,      0.9999,      0.9999,      0.9999,      0.9999,      0.9999,      0.9999,\n",
       "             0.9999,      0.9999,      0.9999,      0.9999,      0.9999,      0.9999,      0.9999,     0.99991,     0.99991,     0.99991,     0.99991,     0.99991,     0.99991,     0.99991,     0.99991,     0.99991,     0.99991,     0.99991,     0.99991,     0.99991,     0.99991,     0.99991,     0.99991,\n",
       "            0.99991,     0.99991,     0.99991,     0.99991,     0.99991,     0.99991,     0.99991,     0.99991,     0.99991,     0.99991,     0.99991,     0.99991,     0.99991,     0.99991,     0.99991,     0.99991,     0.99991,     0.99991,     0.99991,     0.99991,     0.99992,     0.99992,     0.99992,\n",
       "            0.99992,     0.99992,     0.99992,     0.99992,     0.99992,     0.99992,     0.99992,     0.99992,     0.99992,     0.99992,     0.99992,     0.99992,     0.99992,     0.99992,     0.99992,     0.99992,     0.99992,     0.99992,     0.99992,     0.99992,     0.99992,     0.99992,     0.99992,\n",
       "            0.99992,     0.99992,     0.99992,     0.99992,     0.99992,     0.99992,     0.99992,     0.99992,     0.99992,     0.99992,     0.99993,     0.99993,     0.99993,     0.99993,     0.99993,     0.99993,     0.99993,     0.99993,     0.99993,     0.99993,     0.99993,     0.99993,     0.99993,\n",
       "            0.99993,     0.99993,     0.99993,     0.99993,     0.99993,     0.99993,     0.99993,     0.99993,     0.99993,     0.99993,     0.99993,     0.99993,     0.99993,     0.99993,     0.99993,     0.99993,     0.99993,     0.99993,     0.99993,     0.99993,     0.99993,     0.99993,     0.99993,\n",
       "            0.99993,     0.99994,     0.99994,     0.99994,     0.99994,     0.99994,     0.99994,     0.99994,     0.99994,     0.99994,     0.99994,     0.99994,     0.99994,     0.99994,     0.99994,     0.99994,     0.99994,     0.99994,     0.99994,     0.99994,     0.99994,     0.99994,     0.99994,\n",
       "            0.99994,     0.99994,     0.99994,     0.99994,     0.99994,     0.99994,     0.99994,     0.99994,     0.99994,     0.99994,     0.99994,     0.99994,     0.99994,     0.99994,     0.99995,     0.99995,     0.99995,     0.99995,     0.99995,     0.99995,     0.99995,     0.99995,     0.99995,\n",
       "            0.99995,     0.99995,     0.99995,     0.99995,     0.99995,     0.99995,     0.99995,     0.99995,     0.99995,     0.99995,     0.99995,     0.99995,     0.99995,     0.99995,     0.99995,     0.99995,     0.99995,     0.99995,     0.99995,     0.99995,     0.99995,     0.99995,     0.99995,\n",
       "            0.99995,     0.99995,     0.99995,     0.99995,     0.99996,     0.99996,     0.99996,     0.99996,     0.99996,     0.99996,     0.99996,     0.99996,     0.99996,     0.99996,     0.99996,     0.99996,     0.99996,     0.99996,     0.99996,     0.99996,     0.99996,     0.99996,     0.99996,\n",
       "            0.99996,     0.99996,     0.99996,     0.99996,     0.99996,     0.99996,     0.99996,     0.99996,     0.99996,     0.99996,     0.99996,     0.99996,     0.99996,     0.99996,     0.99996,     0.99996,     0.99996,     0.99997,     0.99997,     0.99997,     0.99997,     0.99997,     0.99997,\n",
       "            0.99997,     0.99997,     0.99997,     0.99997,     0.99997,     0.99997,     0.99997,     0.99997,     0.99997,     0.99997,     0.99997,     0.99997,     0.99997,     0.99997,     0.99997,     0.99997,     0.99997,     0.99997,     0.99997,     0.99997,     0.99997,     0.99997,     0.99997,\n",
       "            0.99997,     0.99997,     0.99997,     0.99997,     0.99997,     0.99997,     0.99997,     0.99998,     0.99998,     0.99998,     0.99998,     0.99998,     0.99998,     0.99998,     0.99998,     0.99998,     0.99998,     0.99998,     0.99998,     0.99998,     0.99998,     0.99998,     0.99998,\n",
       "            0.99998,     0.99998,     0.99998,     0.99998,     0.99998,     0.99998,     0.99998,     0.99998,     0.99998,     0.99998,     0.99998,     0.99998,     0.99998,     0.99998,     0.99998,     0.99998,     0.99998,     0.99998,     0.99998,     0.99998,     0.99999,     0.99999,     0.99999,\n",
       "            0.99999,     0.99999,     0.99999,     0.99999,     0.99999,     0.99999,     0.99999,     0.99999,     0.99999,     0.99999,     0.99999,     0.99999,     0.99999,     0.99999,     0.99999,     0.99999,     0.99999,     0.99999,     0.99999,     0.99999,     0.99999,     0.99999,     0.99999,\n",
       "            0.99999,     0.99999,     0.99999,     0.99999,     0.99999,     0.99999,     0.99999,     0.99999,     0.99999,     0.99999,           1,           1,           1,           1,           1,           1,           1,           1,           1,           1,           1,           1,           1,\n",
       "                  1,           1,           1,           1,           1,     0.99961,     0.99812,     0.99117,     0.96924,     0.90417,     0.75805,     0.58975,     0.32996,     0.15718,    0.045931,   0.0057685,           0,           0,           0,           0,           0,           0,           0,\n",
       "                  0,           0,           0,           0,           0,           0,           0,           0,           0,           0,           0]]), 'Confidence', 'F1'], [array([          0,    0.001001,    0.002002,    0.003003,    0.004004,    0.005005,    0.006006,    0.007007,    0.008008,    0.009009,     0.01001,    0.011011,    0.012012,    0.013013,    0.014014,    0.015015,    0.016016,    0.017017,    0.018018,    0.019019,     0.02002,    0.021021,    0.022022,    0.023023,\n",
       "          0.024024,    0.025025,    0.026026,    0.027027,    0.028028,    0.029029,     0.03003,    0.031031,    0.032032,    0.033033,    0.034034,    0.035035,    0.036036,    0.037037,    0.038038,    0.039039,     0.04004,    0.041041,    0.042042,    0.043043,    0.044044,    0.045045,    0.046046,    0.047047,\n",
       "          0.048048,    0.049049,     0.05005,    0.051051,    0.052052,    0.053053,    0.054054,    0.055055,    0.056056,    0.057057,    0.058058,    0.059059,     0.06006,    0.061061,    0.062062,    0.063063,    0.064064,    0.065065,    0.066066,    0.067067,    0.068068,    0.069069,     0.07007,    0.071071,\n",
       "          0.072072,    0.073073,    0.074074,    0.075075,    0.076076,    0.077077,    0.078078,    0.079079,     0.08008,    0.081081,    0.082082,    0.083083,    0.084084,    0.085085,    0.086086,    0.087087,    0.088088,    0.089089,     0.09009,    0.091091,    0.092092,    0.093093,    0.094094,    0.095095,\n",
       "          0.096096,    0.097097,    0.098098,    0.099099,      0.1001,      0.1011,      0.1021,      0.1031,      0.1041,     0.10511,     0.10611,     0.10711,     0.10811,     0.10911,     0.11011,     0.11111,     0.11211,     0.11311,     0.11411,     0.11512,     0.11612,     0.11712,     0.11812,     0.11912,\n",
       "           0.12012,     0.12112,     0.12212,     0.12312,     0.12412,     0.12513,     0.12613,     0.12713,     0.12813,     0.12913,     0.13013,     0.13113,     0.13213,     0.13313,     0.13413,     0.13514,     0.13614,     0.13714,     0.13814,     0.13914,     0.14014,     0.14114,     0.14214,     0.14314,\n",
       "           0.14414,     0.14515,     0.14615,     0.14715,     0.14815,     0.14915,     0.15015,     0.15115,     0.15215,     0.15315,     0.15415,     0.15516,     0.15616,     0.15716,     0.15816,     0.15916,     0.16016,     0.16116,     0.16216,     0.16316,     0.16416,     0.16517,     0.16617,     0.16717,\n",
       "           0.16817,     0.16917,     0.17017,     0.17117,     0.17217,     0.17317,     0.17417,     0.17518,     0.17618,     0.17718,     0.17818,     0.17918,     0.18018,     0.18118,     0.18218,     0.18318,     0.18418,     0.18519,     0.18619,     0.18719,     0.18819,     0.18919,     0.19019,     0.19119,\n",
       "           0.19219,     0.19319,     0.19419,      0.1952,      0.1962,      0.1972,      0.1982,      0.1992,      0.2002,      0.2012,      0.2022,      0.2032,      0.2042,     0.20521,     0.20621,     0.20721,     0.20821,     0.20921,     0.21021,     0.21121,     0.21221,     0.21321,     0.21421,     0.21522,\n",
       "           0.21622,     0.21722,     0.21822,     0.21922,     0.22022,     0.22122,     0.22222,     0.22322,     0.22422,     0.22523,     0.22623,     0.22723,     0.22823,     0.22923,     0.23023,     0.23123,     0.23223,     0.23323,     0.23423,     0.23524,     0.23624,     0.23724,     0.23824,     0.23924,\n",
       "           0.24024,     0.24124,     0.24224,     0.24324,     0.24424,     0.24525,     0.24625,     0.24725,     0.24825,     0.24925,     0.25025,     0.25125,     0.25225,     0.25325,     0.25425,     0.25526,     0.25626,     0.25726,     0.25826,     0.25926,     0.26026,     0.26126,     0.26226,     0.26326,\n",
       "           0.26426,     0.26527,     0.26627,     0.26727,     0.26827,     0.26927,     0.27027,     0.27127,     0.27227,     0.27327,     0.27427,     0.27528,     0.27628,     0.27728,     0.27828,     0.27928,     0.28028,     0.28128,     0.28228,     0.28328,     0.28428,     0.28529,     0.28629,     0.28729,\n",
       "           0.28829,     0.28929,     0.29029,     0.29129,     0.29229,     0.29329,     0.29429,      0.2953,      0.2963,      0.2973,      0.2983,      0.2993,      0.3003,      0.3013,      0.3023,      0.3033,      0.3043,     0.30531,     0.30631,     0.30731,     0.30831,     0.30931,     0.31031,     0.31131,\n",
       "           0.31231,     0.31331,     0.31431,     0.31532,     0.31632,     0.31732,     0.31832,     0.31932,     0.32032,     0.32132,     0.32232,     0.32332,     0.32432,     0.32533,     0.32633,     0.32733,     0.32833,     0.32933,     0.33033,     0.33133,     0.33233,     0.33333,     0.33433,     0.33534,\n",
       "           0.33634,     0.33734,     0.33834,     0.33934,     0.34034,     0.34134,     0.34234,     0.34334,     0.34434,     0.34535,     0.34635,     0.34735,     0.34835,     0.34935,     0.35035,     0.35135,     0.35235,     0.35335,     0.35435,     0.35536,     0.35636,     0.35736,     0.35836,     0.35936,\n",
       "           0.36036,     0.36136,     0.36236,     0.36336,     0.36436,     0.36537,     0.36637,     0.36737,     0.36837,     0.36937,     0.37037,     0.37137,     0.37237,     0.37337,     0.37437,     0.37538,     0.37638,     0.37738,     0.37838,     0.37938,     0.38038,     0.38138,     0.38238,     0.38338,\n",
       "           0.38438,     0.38539,     0.38639,     0.38739,     0.38839,     0.38939,     0.39039,     0.39139,     0.39239,     0.39339,     0.39439,      0.3954,      0.3964,      0.3974,      0.3984,      0.3994,      0.4004,      0.4014,      0.4024,      0.4034,      0.4044,     0.40541,     0.40641,     0.40741,\n",
       "           0.40841,     0.40941,     0.41041,     0.41141,     0.41241,     0.41341,     0.41441,     0.41542,     0.41642,     0.41742,     0.41842,     0.41942,     0.42042,     0.42142,     0.42242,     0.42342,     0.42442,     0.42543,     0.42643,     0.42743,     0.42843,     0.42943,     0.43043,     0.43143,\n",
       "           0.43243,     0.43343,     0.43443,     0.43544,     0.43644,     0.43744,     0.43844,     0.43944,     0.44044,     0.44144,     0.44244,     0.44344,     0.44444,     0.44545,     0.44645,     0.44745,     0.44845,     0.44945,     0.45045,     0.45145,     0.45245,     0.45345,     0.45445,     0.45546,\n",
       "           0.45646,     0.45746,     0.45846,     0.45946,     0.46046,     0.46146,     0.46246,     0.46346,     0.46446,     0.46547,     0.46647,     0.46747,     0.46847,     0.46947,     0.47047,     0.47147,     0.47247,     0.47347,     0.47447,     0.47548,     0.47648,     0.47748,     0.47848,     0.47948,\n",
       "           0.48048,     0.48148,     0.48248,     0.48348,     0.48448,     0.48549,     0.48649,     0.48749,     0.48849,     0.48949,     0.49049,     0.49149,     0.49249,     0.49349,     0.49449,      0.4955,      0.4965,      0.4975,      0.4985,      0.4995,      0.5005,      0.5015,      0.5025,      0.5035,\n",
       "            0.5045,     0.50551,     0.50651,     0.50751,     0.50851,     0.50951,     0.51051,     0.51151,     0.51251,     0.51351,     0.51451,     0.51552,     0.51652,     0.51752,     0.51852,     0.51952,     0.52052,     0.52152,     0.52252,     0.52352,     0.52452,     0.52553,     0.52653,     0.52753,\n",
       "           0.52853,     0.52953,     0.53053,     0.53153,     0.53253,     0.53353,     0.53453,     0.53554,     0.53654,     0.53754,     0.53854,     0.53954,     0.54054,     0.54154,     0.54254,     0.54354,     0.54454,     0.54555,     0.54655,     0.54755,     0.54855,     0.54955,     0.55055,     0.55155,\n",
       "           0.55255,     0.55355,     0.55455,     0.55556,     0.55656,     0.55756,     0.55856,     0.55956,     0.56056,     0.56156,     0.56256,     0.56356,     0.56456,     0.56557,     0.56657,     0.56757,     0.56857,     0.56957,     0.57057,     0.57157,     0.57257,     0.57357,     0.57457,     0.57558,\n",
       "           0.57658,     0.57758,     0.57858,     0.57958,     0.58058,     0.58158,     0.58258,     0.58358,     0.58458,     0.58559,     0.58659,     0.58759,     0.58859,     0.58959,     0.59059,     0.59159,     0.59259,     0.59359,     0.59459,      0.5956,      0.5966,      0.5976,      0.5986,      0.5996,\n",
       "            0.6006,      0.6016,      0.6026,      0.6036,      0.6046,     0.60561,     0.60661,     0.60761,     0.60861,     0.60961,     0.61061,     0.61161,     0.61261,     0.61361,     0.61461,     0.61562,     0.61662,     0.61762,     0.61862,     0.61962,     0.62062,     0.62162,     0.62262,     0.62362,\n",
       "           0.62462,     0.62563,     0.62663,     0.62763,     0.62863,     0.62963,     0.63063,     0.63163,     0.63263,     0.63363,     0.63463,     0.63564,     0.63664,     0.63764,     0.63864,     0.63964,     0.64064,     0.64164,     0.64264,     0.64364,     0.64464,     0.64565,     0.64665,     0.64765,\n",
       "           0.64865,     0.64965,     0.65065,     0.65165,     0.65265,     0.65365,     0.65465,     0.65566,     0.65666,     0.65766,     0.65866,     0.65966,     0.66066,     0.66166,     0.66266,     0.66366,     0.66466,     0.66567,     0.66667,     0.66767,     0.66867,     0.66967,     0.67067,     0.67167,\n",
       "           0.67267,     0.67367,     0.67467,     0.67568,     0.67668,     0.67768,     0.67868,     0.67968,     0.68068,     0.68168,     0.68268,     0.68368,     0.68468,     0.68569,     0.68669,     0.68769,     0.68869,     0.68969,     0.69069,     0.69169,     0.69269,     0.69369,     0.69469,      0.6957,\n",
       "            0.6967,      0.6977,      0.6987,      0.6997,      0.7007,      0.7017,      0.7027,      0.7037,      0.7047,     0.70571,     0.70671,     0.70771,     0.70871,     0.70971,     0.71071,     0.71171,     0.71271,     0.71371,     0.71471,     0.71572,     0.71672,     0.71772,     0.71872,     0.71972,\n",
       "           0.72072,     0.72172,     0.72272,     0.72372,     0.72472,     0.72573,     0.72673,     0.72773,     0.72873,     0.72973,     0.73073,     0.73173,     0.73273,     0.73373,     0.73473,     0.73574,     0.73674,     0.73774,     0.73874,     0.73974,     0.74074,     0.74174,     0.74274,     0.74374,\n",
       "           0.74474,     0.74575,     0.74675,     0.74775,     0.74875,     0.74975,     0.75075,     0.75175,     0.75275,     0.75375,     0.75475,     0.75576,     0.75676,     0.75776,     0.75876,     0.75976,     0.76076,     0.76176,     0.76276,     0.76376,     0.76476,     0.76577,     0.76677,     0.76777,\n",
       "           0.76877,     0.76977,     0.77077,     0.77177,     0.77277,     0.77377,     0.77477,     0.77578,     0.77678,     0.77778,     0.77878,     0.77978,     0.78078,     0.78178,     0.78278,     0.78378,     0.78478,     0.78579,     0.78679,     0.78779,     0.78879,     0.78979,     0.79079,     0.79179,\n",
       "           0.79279,     0.79379,     0.79479,      0.7958,      0.7968,      0.7978,      0.7988,      0.7998,      0.8008,      0.8018,      0.8028,      0.8038,      0.8048,     0.80581,     0.80681,     0.80781,     0.80881,     0.80981,     0.81081,     0.81181,     0.81281,     0.81381,     0.81481,     0.81582,\n",
       "           0.81682,     0.81782,     0.81882,     0.81982,     0.82082,     0.82182,     0.82282,     0.82382,     0.82482,     0.82583,     0.82683,     0.82783,     0.82883,     0.82983,     0.83083,     0.83183,     0.83283,     0.83383,     0.83483,     0.83584,     0.83684,     0.83784,     0.83884,     0.83984,\n",
       "           0.84084,     0.84184,     0.84284,     0.84384,     0.84484,     0.84585,     0.84685,     0.84785,     0.84885,     0.84985,     0.85085,     0.85185,     0.85285,     0.85385,     0.85485,     0.85586,     0.85686,     0.85786,     0.85886,     0.85986,     0.86086,     0.86186,     0.86286,     0.86386,\n",
       "           0.86486,     0.86587,     0.86687,     0.86787,     0.86887,     0.86987,     0.87087,     0.87187,     0.87287,     0.87387,     0.87487,     0.87588,     0.87688,     0.87788,     0.87888,     0.87988,     0.88088,     0.88188,     0.88288,     0.88388,     0.88488,     0.88589,     0.88689,     0.88789,\n",
       "           0.88889,     0.88989,     0.89089,     0.89189,     0.89289,     0.89389,     0.89489,      0.8959,      0.8969,      0.8979,      0.8989,      0.8999,      0.9009,      0.9019,      0.9029,      0.9039,      0.9049,     0.90591,     0.90691,     0.90791,     0.90891,     0.90991,     0.91091,     0.91191,\n",
       "           0.91291,     0.91391,     0.91491,     0.91592,     0.91692,     0.91792,     0.91892,     0.91992,     0.92092,     0.92192,     0.92292,     0.92392,     0.92492,     0.92593,     0.92693,     0.92793,     0.92893,     0.92993,     0.93093,     0.93193,     0.93293,     0.93393,     0.93493,     0.93594,\n",
       "           0.93694,     0.93794,     0.93894,     0.93994,     0.94094,     0.94194,     0.94294,     0.94394,     0.94494,     0.94595,     0.94695,     0.94795,     0.94895,     0.94995,     0.95095,     0.95195,     0.95295,     0.95395,     0.95495,     0.95596,     0.95696,     0.95796,     0.95896,     0.95996,\n",
       "           0.96096,     0.96196,     0.96296,     0.96396,     0.96496,     0.96597,     0.96697,     0.96797,     0.96897,     0.96997,     0.97097,     0.97197,     0.97297,     0.97397,     0.97497,     0.97598,     0.97698,     0.97798,     0.97898,     0.97998,     0.98098,     0.98198,     0.98298,     0.98398,\n",
       "           0.98498,     0.98599,     0.98699,     0.98799,     0.98899,     0.98999,     0.99099,     0.99199,     0.99299,     0.99399,     0.99499,       0.996,       0.997,       0.998,       0.999,           1]), array([[     0.7076,      0.7076,     0.91152,     0.93922,      0.9511,     0.95756,     0.96166,     0.96721,      0.9715,     0.97382,     0.97531,     0.97827,     0.97948,     0.98039,     0.98063,     0.98202,     0.98415,     0.98442,     0.98532,     0.98621,     0.98653,     0.98685,     0.98734,\n",
       "            0.98933,     0.98957,     0.98992,      0.9904,     0.99053,     0.99066,     0.99128,     0.99175,     0.99208,      0.9923,     0.99243,     0.99256,      0.9927,     0.99297,      0.9932,      0.9933,      0.9934,     0.99349,     0.99359,     0.99371,     0.99393,     0.99414,     0.99432,\n",
       "             0.9945,      0.9947,     0.99496,     0.99525,     0.99558,     0.99575,      0.9959,     0.99605,     0.99632,     0.99708,     0.99715,     0.99722,     0.99728,     0.99735,     0.99742,     0.99749,     0.99757,     0.99772,     0.99788,     0.99803,     0.99813,     0.99822,     0.99831,\n",
       "             0.9984,     0.99849,     0.99855,     0.99859,     0.99862,     0.99866,      0.9987,     0.99873,     0.99877,     0.99881,     0.99884,     0.99888,     0.99892,     0.99896,     0.99899,     0.99906,     0.99925,     0.99944,     0.99951,     0.99951,     0.99951,     0.99951,     0.99951,\n",
       "            0.99951,     0.99951,     0.99951,     0.99951,     0.99952,     0.99952,     0.99952,     0.99952,     0.99952,     0.99952,     0.99952,     0.99952,     0.99952,     0.99952,     0.99952,     0.99952,     0.99952,     0.99952,     0.99952,     0.99952,     0.99952,     0.99952,     0.99953,\n",
       "            0.99953,     0.99953,     0.99953,     0.99953,     0.99953,     0.99953,     0.99953,     0.99953,     0.99953,     0.99953,     0.99953,     0.99953,     0.99953,     0.99953,     0.99953,     0.99953,     0.99953,     0.99954,     0.99954,     0.99954,     0.99954,     0.99954,     0.99954,\n",
       "            0.99954,     0.99954,     0.99954,     0.99954,     0.99954,     0.99954,     0.99954,     0.99954,     0.99954,     0.99954,     0.99954,     0.99954,     0.99955,     0.99955,     0.99955,     0.99955,     0.99955,     0.99955,     0.99955,     0.99955,     0.99955,     0.99955,     0.99955,\n",
       "            0.99955,     0.99955,     0.99955,     0.99955,     0.99955,     0.99955,     0.99955,     0.99956,     0.99956,     0.99956,     0.99956,     0.99956,     0.99956,     0.99956,     0.99956,     0.99956,     0.99956,     0.99956,     0.99956,     0.99956,     0.99956,     0.99956,     0.99956,\n",
       "            0.99956,     0.99956,     0.99957,     0.99957,     0.99957,     0.99957,     0.99957,     0.99957,     0.99957,     0.99957,     0.99957,     0.99957,     0.99957,     0.99957,     0.99957,     0.99957,     0.99957,     0.99957,     0.99957,     0.99957,     0.99958,     0.99958,     0.99958,\n",
       "            0.99958,     0.99958,     0.99958,     0.99958,     0.99958,     0.99958,     0.99958,     0.99958,     0.99958,     0.99958,     0.99958,     0.99958,     0.99958,     0.99958,     0.99958,     0.99959,     0.99959,     0.99959,     0.99959,     0.99959,     0.99959,     0.99959,     0.99959,\n",
       "            0.99959,     0.99959,     0.99959,     0.99959,     0.99959,     0.99959,     0.99959,     0.99959,     0.99959,     0.99959,      0.9996,      0.9996,      0.9996,      0.9996,      0.9996,      0.9996,      0.9996,      0.9996,      0.9996,      0.9996,      0.9996,      0.9996,      0.9996,\n",
       "             0.9996,      0.9996,      0.9996,      0.9996,      0.9996,     0.99961,     0.99961,     0.99961,     0.99961,     0.99961,     0.99961,     0.99961,     0.99961,     0.99961,     0.99961,     0.99961,     0.99961,     0.99961,     0.99961,     0.99961,     0.99961,     0.99961,     0.99961,\n",
       "            0.99962,     0.99962,     0.99962,     0.99962,     0.99962,     0.99962,     0.99962,     0.99962,     0.99962,     0.99962,     0.99962,     0.99962,     0.99962,     0.99962,     0.99962,     0.99962,     0.99962,     0.99962,     0.99963,     0.99963,     0.99963,     0.99963,     0.99963,\n",
       "            0.99963,     0.99963,     0.99963,     0.99963,     0.99963,     0.99963,     0.99963,     0.99963,     0.99963,     0.99963,     0.99963,     0.99963,     0.99963,     0.99964,     0.99964,     0.99964,     0.99964,     0.99964,     0.99964,     0.99964,     0.99964,     0.99964,     0.99964,\n",
       "            0.99964,     0.99964,     0.99964,     0.99964,     0.99964,     0.99964,     0.99964,     0.99964,     0.99965,     0.99965,     0.99965,     0.99965,     0.99965,     0.99965,     0.99965,     0.99965,     0.99965,     0.99965,     0.99965,     0.99965,     0.99965,     0.99965,     0.99965,\n",
       "            0.99965,     0.99965,     0.99965,     0.99965,     0.99966,     0.99966,     0.99966,     0.99966,     0.99966,     0.99966,     0.99966,     0.99966,     0.99966,     0.99966,     0.99966,     0.99966,     0.99966,     0.99966,     0.99966,     0.99966,     0.99966,     0.99966,     0.99967,\n",
       "            0.99967,     0.99967,     0.99967,     0.99967,     0.99967,     0.99967,     0.99967,     0.99967,     0.99967,     0.99967,     0.99967,     0.99967,     0.99967,     0.99967,     0.99967,     0.99967,     0.99967,     0.99968,     0.99968,     0.99968,     0.99968,     0.99968,     0.99968,\n",
       "            0.99968,     0.99968,     0.99968,     0.99968,     0.99968,     0.99968,     0.99968,     0.99968,     0.99968,     0.99968,     0.99968,     0.99968,     0.99969,     0.99969,     0.99969,     0.99969,     0.99969,     0.99969,     0.99969,     0.99969,     0.99969,     0.99969,     0.99969,\n",
       "            0.99969,     0.99969,     0.99969,     0.99969,     0.99969,     0.99969,     0.99969,      0.9997,      0.9997,      0.9997,      0.9997,      0.9997,      0.9997,      0.9997,      0.9997,      0.9997,      0.9997,      0.9997,      0.9997,      0.9997,      0.9997,      0.9997,      0.9997,\n",
       "             0.9997,      0.9997,     0.99971,     0.99971,     0.99971,     0.99971,     0.99971,     0.99971,     0.99971,     0.99971,     0.99971,     0.99971,     0.99971,     0.99971,     0.99971,     0.99971,     0.99971,     0.99971,     0.99971,     0.99971,     0.99972,     0.99972,     0.99972,\n",
       "            0.99972,     0.99972,     0.99972,     0.99972,     0.99972,     0.99972,     0.99972,     0.99972,     0.99972,     0.99972,     0.99972,     0.99972,     0.99972,     0.99972,     0.99972,     0.99973,     0.99973,     0.99973,     0.99973,     0.99973,     0.99973,     0.99973,     0.99973,\n",
       "            0.99973,     0.99973,     0.99973,     0.99973,     0.99973,     0.99973,     0.99973,     0.99973,     0.99973,     0.99973,     0.99974,     0.99974,     0.99974,     0.99974,     0.99974,     0.99974,     0.99974,     0.99974,     0.99974,     0.99974,     0.99974,     0.99974,     0.99974,\n",
       "            0.99974,     0.99974,     0.99974,     0.99974,     0.99974,     0.99975,     0.99975,     0.99975,     0.99975,     0.99975,     0.99975,     0.99975,     0.99975,     0.99975,     0.99975,     0.99975,     0.99975,     0.99975,     0.99975,     0.99975,     0.99975,     0.99975,     0.99975,\n",
       "            0.99976,     0.99976,     0.99976,     0.99976,     0.99976,     0.99976,     0.99976,     0.99976,     0.99976,     0.99976,     0.99976,     0.99976,     0.99976,     0.99976,     0.99976,     0.99976,     0.99976,     0.99976,     0.99977,     0.99977,     0.99977,     0.99977,     0.99977,\n",
       "            0.99977,     0.99977,     0.99977,     0.99977,     0.99977,     0.99977,     0.99977,     0.99977,     0.99977,     0.99977,     0.99977,     0.99977,     0.99977,     0.99978,     0.99978,     0.99978,     0.99978,     0.99978,     0.99978,     0.99978,     0.99978,     0.99978,     0.99978,\n",
       "            0.99978,     0.99978,     0.99978,     0.99978,     0.99978,     0.99978,     0.99978,     0.99978,     0.99979,     0.99979,     0.99979,     0.99979,     0.99979,     0.99979,     0.99979,     0.99979,     0.99979,     0.99979,     0.99979,     0.99979,     0.99979,     0.99979,     0.99979,\n",
       "            0.99979,     0.99979,     0.99979,      0.9998,      0.9998,      0.9998,      0.9998,      0.9998,      0.9998,      0.9998,      0.9998,      0.9998,      0.9998,      0.9998,      0.9998,      0.9998,      0.9998,      0.9998,      0.9998,      0.9998,      0.9998,     0.99981,     0.99981,\n",
       "            0.99981,     0.99981,     0.99981,     0.99981,     0.99981,     0.99981,     0.99981,     0.99981,     0.99981,     0.99981,     0.99981,     0.99981,     0.99981,     0.99981,     0.99981,     0.99981,     0.99982,     0.99982,     0.99982,     0.99982,     0.99982,     0.99982,     0.99982,\n",
       "            0.99982,     0.99982,     0.99982,     0.99982,     0.99982,     0.99982,     0.99982,     0.99982,     0.99982,     0.99982,     0.99982,     0.99983,     0.99983,     0.99983,     0.99983,     0.99983,     0.99983,     0.99983,     0.99983,     0.99983,     0.99983,     0.99983,     0.99983,\n",
       "            0.99983,     0.99983,     0.99983,     0.99983,     0.99983,     0.99983,     0.99984,     0.99984,     0.99984,     0.99984,     0.99984,     0.99984,     0.99984,     0.99984,     0.99984,     0.99984,     0.99984,     0.99984,     0.99984,     0.99984,     0.99984,     0.99984,     0.99984,\n",
       "            0.99984,     0.99985,     0.99985,     0.99985,     0.99985,     0.99985,     0.99985,     0.99985,     0.99985,     0.99985,     0.99985,     0.99985,     0.99985,     0.99985,     0.99985,     0.99985,     0.99985,     0.99985,     0.99985,     0.99985,     0.99986,     0.99986,     0.99986,\n",
       "            0.99986,     0.99986,     0.99986,     0.99986,     0.99986,     0.99986,     0.99986,     0.99986,     0.99986,     0.99986,     0.99986,     0.99986,     0.99986,     0.99986,     0.99986,     0.99987,     0.99987,     0.99987,     0.99987,     0.99987,     0.99987,     0.99987,     0.99987,\n",
       "            0.99987,     0.99987,     0.99987,     0.99987,     0.99987,     0.99987,     0.99987,     0.99987,     0.99987,     0.99987,     0.99988,     0.99988,     0.99988,     0.99988,     0.99988,     0.99988,     0.99988,     0.99988,     0.99988,     0.99988,     0.99988,     0.99988,     0.99988,\n",
       "            0.99988,     0.99988,     0.99988,     0.99988,     0.99988,     0.99989,     0.99989,     0.99989,     0.99989,     0.99989,     0.99989,     0.99989,     0.99989,     0.99989,     0.99989,     0.99989,     0.99989,     0.99989,     0.99989,     0.99989,     0.99989,     0.99989,     0.99989,\n",
       "             0.9999,      0.9999,      0.9999,      0.9999,      0.9999,      0.9999,      0.9999,      0.9999,      0.9999,      0.9999,      0.9999,      0.9999,      0.9999,      0.9999,      0.9999,      0.9999,      0.9999,      0.9999,     0.99991,     0.99991,     0.99991,     0.99991,     0.99991,\n",
       "            0.99991,     0.99991,     0.99991,     0.99991,     0.99991,     0.99991,     0.99991,     0.99991,     0.99991,     0.99991,     0.99991,     0.99991,     0.99991,     0.99992,     0.99992,     0.99992,     0.99992,     0.99992,     0.99992,     0.99992,     0.99992,     0.99992,     0.99992,\n",
       "            0.99992,     0.99992,     0.99992,     0.99992,     0.99992,     0.99992,     0.99992,     0.99992,     0.99993,     0.99993,     0.99993,     0.99993,     0.99993,     0.99993,     0.99993,     0.99993,     0.99993,     0.99993,     0.99993,     0.99993,     0.99993,     0.99993,     0.99993,\n",
       "            0.99993,     0.99993,     0.99993,     0.99994,     0.99994,     0.99994,     0.99994,     0.99994,     0.99994,     0.99994,     0.99994,     0.99994,     0.99994,     0.99994,     0.99994,     0.99994,     0.99994,     0.99994,     0.99994,     0.99994,     0.99994,     0.99995,     0.99995,\n",
       "            0.99995,     0.99995,     0.99995,     0.99995,     0.99995,     0.99995,     0.99995,     0.99995,     0.99995,     0.99995,     0.99995,     0.99995,     0.99995,     0.99995,     0.99995,     0.99995,     0.99996,     0.99996,     0.99996,     0.99996,     0.99996,     0.99996,     0.99996,\n",
       "            0.99996,     0.99996,     0.99996,     0.99996,     0.99996,     0.99996,     0.99996,     0.99996,     0.99996,     0.99996,     0.99996,     0.99997,     0.99997,     0.99997,     0.99997,     0.99997,     0.99997,     0.99997,     0.99997,     0.99997,     0.99997,     0.99997,     0.99997,\n",
       "            0.99997,     0.99997,     0.99997,     0.99997,     0.99997,     0.99997,     0.99998,     0.99998,     0.99998,     0.99998,     0.99998,     0.99998,     0.99998,     0.99998,     0.99998,     0.99998,     0.99998,     0.99998,     0.99998,     0.99998,     0.99998,     0.99998,     0.99998,\n",
       "            0.99998,     0.99999,     0.99999,     0.99999,     0.99999,     0.99999,     0.99999,     0.99999,     0.99999,     0.99999,     0.99999,     0.99999,     0.99999,     0.99999,     0.99999,     0.99999,     0.99999,     0.99999,     0.99999,           1,           1,           1,           1,\n",
       "                  1,           1,           1,           1,           1,           1,           1,           1,           1,           1,           1,           1,           1,           1,           1,           1,           1,           1,           1,           1,           1,           1,           1,\n",
       "                  1,           1,           1,           1,           1,           1,           1,           1,           1,           1,           1]]), 'Confidence', 'Precision'], [array([          0,    0.001001,    0.002002,    0.003003,    0.004004,    0.005005,    0.006006,    0.007007,    0.008008,    0.009009,     0.01001,    0.011011,    0.012012,    0.013013,    0.014014,    0.015015,    0.016016,    0.017017,    0.018018,    0.019019,     0.02002,    0.021021,    0.022022,    0.023023,\n",
       "          0.024024,    0.025025,    0.026026,    0.027027,    0.028028,    0.029029,     0.03003,    0.031031,    0.032032,    0.033033,    0.034034,    0.035035,    0.036036,    0.037037,    0.038038,    0.039039,     0.04004,    0.041041,    0.042042,    0.043043,    0.044044,    0.045045,    0.046046,    0.047047,\n",
       "          0.048048,    0.049049,     0.05005,    0.051051,    0.052052,    0.053053,    0.054054,    0.055055,    0.056056,    0.057057,    0.058058,    0.059059,     0.06006,    0.061061,    0.062062,    0.063063,    0.064064,    0.065065,    0.066066,    0.067067,    0.068068,    0.069069,     0.07007,    0.071071,\n",
       "          0.072072,    0.073073,    0.074074,    0.075075,    0.076076,    0.077077,    0.078078,    0.079079,     0.08008,    0.081081,    0.082082,    0.083083,    0.084084,    0.085085,    0.086086,    0.087087,    0.088088,    0.089089,     0.09009,    0.091091,    0.092092,    0.093093,    0.094094,    0.095095,\n",
       "          0.096096,    0.097097,    0.098098,    0.099099,      0.1001,      0.1011,      0.1021,      0.1031,      0.1041,     0.10511,     0.10611,     0.10711,     0.10811,     0.10911,     0.11011,     0.11111,     0.11211,     0.11311,     0.11411,     0.11512,     0.11612,     0.11712,     0.11812,     0.11912,\n",
       "           0.12012,     0.12112,     0.12212,     0.12312,     0.12412,     0.12513,     0.12613,     0.12713,     0.12813,     0.12913,     0.13013,     0.13113,     0.13213,     0.13313,     0.13413,     0.13514,     0.13614,     0.13714,     0.13814,     0.13914,     0.14014,     0.14114,     0.14214,     0.14314,\n",
       "           0.14414,     0.14515,     0.14615,     0.14715,     0.14815,     0.14915,     0.15015,     0.15115,     0.15215,     0.15315,     0.15415,     0.15516,     0.15616,     0.15716,     0.15816,     0.15916,     0.16016,     0.16116,     0.16216,     0.16316,     0.16416,     0.16517,     0.16617,     0.16717,\n",
       "           0.16817,     0.16917,     0.17017,     0.17117,     0.17217,     0.17317,     0.17417,     0.17518,     0.17618,     0.17718,     0.17818,     0.17918,     0.18018,     0.18118,     0.18218,     0.18318,     0.18418,     0.18519,     0.18619,     0.18719,     0.18819,     0.18919,     0.19019,     0.19119,\n",
       "           0.19219,     0.19319,     0.19419,      0.1952,      0.1962,      0.1972,      0.1982,      0.1992,      0.2002,      0.2012,      0.2022,      0.2032,      0.2042,     0.20521,     0.20621,     0.20721,     0.20821,     0.20921,     0.21021,     0.21121,     0.21221,     0.21321,     0.21421,     0.21522,\n",
       "           0.21622,     0.21722,     0.21822,     0.21922,     0.22022,     0.22122,     0.22222,     0.22322,     0.22422,     0.22523,     0.22623,     0.22723,     0.22823,     0.22923,     0.23023,     0.23123,     0.23223,     0.23323,     0.23423,     0.23524,     0.23624,     0.23724,     0.23824,     0.23924,\n",
       "           0.24024,     0.24124,     0.24224,     0.24324,     0.24424,     0.24525,     0.24625,     0.24725,     0.24825,     0.24925,     0.25025,     0.25125,     0.25225,     0.25325,     0.25425,     0.25526,     0.25626,     0.25726,     0.25826,     0.25926,     0.26026,     0.26126,     0.26226,     0.26326,\n",
       "           0.26426,     0.26527,     0.26627,     0.26727,     0.26827,     0.26927,     0.27027,     0.27127,     0.27227,     0.27327,     0.27427,     0.27528,     0.27628,     0.27728,     0.27828,     0.27928,     0.28028,     0.28128,     0.28228,     0.28328,     0.28428,     0.28529,     0.28629,     0.28729,\n",
       "           0.28829,     0.28929,     0.29029,     0.29129,     0.29229,     0.29329,     0.29429,      0.2953,      0.2963,      0.2973,      0.2983,      0.2993,      0.3003,      0.3013,      0.3023,      0.3033,      0.3043,     0.30531,     0.30631,     0.30731,     0.30831,     0.30931,     0.31031,     0.31131,\n",
       "           0.31231,     0.31331,     0.31431,     0.31532,     0.31632,     0.31732,     0.31832,     0.31932,     0.32032,     0.32132,     0.32232,     0.32332,     0.32432,     0.32533,     0.32633,     0.32733,     0.32833,     0.32933,     0.33033,     0.33133,     0.33233,     0.33333,     0.33433,     0.33534,\n",
       "           0.33634,     0.33734,     0.33834,     0.33934,     0.34034,     0.34134,     0.34234,     0.34334,     0.34434,     0.34535,     0.34635,     0.34735,     0.34835,     0.34935,     0.35035,     0.35135,     0.35235,     0.35335,     0.35435,     0.35536,     0.35636,     0.35736,     0.35836,     0.35936,\n",
       "           0.36036,     0.36136,     0.36236,     0.36336,     0.36436,     0.36537,     0.36637,     0.36737,     0.36837,     0.36937,     0.37037,     0.37137,     0.37237,     0.37337,     0.37437,     0.37538,     0.37638,     0.37738,     0.37838,     0.37938,     0.38038,     0.38138,     0.38238,     0.38338,\n",
       "           0.38438,     0.38539,     0.38639,     0.38739,     0.38839,     0.38939,     0.39039,     0.39139,     0.39239,     0.39339,     0.39439,      0.3954,      0.3964,      0.3974,      0.3984,      0.3994,      0.4004,      0.4014,      0.4024,      0.4034,      0.4044,     0.40541,     0.40641,     0.40741,\n",
       "           0.40841,     0.40941,     0.41041,     0.41141,     0.41241,     0.41341,     0.41441,     0.41542,     0.41642,     0.41742,     0.41842,     0.41942,     0.42042,     0.42142,     0.42242,     0.42342,     0.42442,     0.42543,     0.42643,     0.42743,     0.42843,     0.42943,     0.43043,     0.43143,\n",
       "           0.43243,     0.43343,     0.43443,     0.43544,     0.43644,     0.43744,     0.43844,     0.43944,     0.44044,     0.44144,     0.44244,     0.44344,     0.44444,     0.44545,     0.44645,     0.44745,     0.44845,     0.44945,     0.45045,     0.45145,     0.45245,     0.45345,     0.45445,     0.45546,\n",
       "           0.45646,     0.45746,     0.45846,     0.45946,     0.46046,     0.46146,     0.46246,     0.46346,     0.46446,     0.46547,     0.46647,     0.46747,     0.46847,     0.46947,     0.47047,     0.47147,     0.47247,     0.47347,     0.47447,     0.47548,     0.47648,     0.47748,     0.47848,     0.47948,\n",
       "           0.48048,     0.48148,     0.48248,     0.48348,     0.48448,     0.48549,     0.48649,     0.48749,     0.48849,     0.48949,     0.49049,     0.49149,     0.49249,     0.49349,     0.49449,      0.4955,      0.4965,      0.4975,      0.4985,      0.4995,      0.5005,      0.5015,      0.5025,      0.5035,\n",
       "            0.5045,     0.50551,     0.50651,     0.50751,     0.50851,     0.50951,     0.51051,     0.51151,     0.51251,     0.51351,     0.51451,     0.51552,     0.51652,     0.51752,     0.51852,     0.51952,     0.52052,     0.52152,     0.52252,     0.52352,     0.52452,     0.52553,     0.52653,     0.52753,\n",
       "           0.52853,     0.52953,     0.53053,     0.53153,     0.53253,     0.53353,     0.53453,     0.53554,     0.53654,     0.53754,     0.53854,     0.53954,     0.54054,     0.54154,     0.54254,     0.54354,     0.54454,     0.54555,     0.54655,     0.54755,     0.54855,     0.54955,     0.55055,     0.55155,\n",
       "           0.55255,     0.55355,     0.55455,     0.55556,     0.55656,     0.55756,     0.55856,     0.55956,     0.56056,     0.56156,     0.56256,     0.56356,     0.56456,     0.56557,     0.56657,     0.56757,     0.56857,     0.56957,     0.57057,     0.57157,     0.57257,     0.57357,     0.57457,     0.57558,\n",
       "           0.57658,     0.57758,     0.57858,     0.57958,     0.58058,     0.58158,     0.58258,     0.58358,     0.58458,     0.58559,     0.58659,     0.58759,     0.58859,     0.58959,     0.59059,     0.59159,     0.59259,     0.59359,     0.59459,      0.5956,      0.5966,      0.5976,      0.5986,      0.5996,\n",
       "            0.6006,      0.6016,      0.6026,      0.6036,      0.6046,     0.60561,     0.60661,     0.60761,     0.60861,     0.60961,     0.61061,     0.61161,     0.61261,     0.61361,     0.61461,     0.61562,     0.61662,     0.61762,     0.61862,     0.61962,     0.62062,     0.62162,     0.62262,     0.62362,\n",
       "           0.62462,     0.62563,     0.62663,     0.62763,     0.62863,     0.62963,     0.63063,     0.63163,     0.63263,     0.63363,     0.63463,     0.63564,     0.63664,     0.63764,     0.63864,     0.63964,     0.64064,     0.64164,     0.64264,     0.64364,     0.64464,     0.64565,     0.64665,     0.64765,\n",
       "           0.64865,     0.64965,     0.65065,     0.65165,     0.65265,     0.65365,     0.65465,     0.65566,     0.65666,     0.65766,     0.65866,     0.65966,     0.66066,     0.66166,     0.66266,     0.66366,     0.66466,     0.66567,     0.66667,     0.66767,     0.66867,     0.66967,     0.67067,     0.67167,\n",
       "           0.67267,     0.67367,     0.67467,     0.67568,     0.67668,     0.67768,     0.67868,     0.67968,     0.68068,     0.68168,     0.68268,     0.68368,     0.68468,     0.68569,     0.68669,     0.68769,     0.68869,     0.68969,     0.69069,     0.69169,     0.69269,     0.69369,     0.69469,      0.6957,\n",
       "            0.6967,      0.6977,      0.6987,      0.6997,      0.7007,      0.7017,      0.7027,      0.7037,      0.7047,     0.70571,     0.70671,     0.70771,     0.70871,     0.70971,     0.71071,     0.71171,     0.71271,     0.71371,     0.71471,     0.71572,     0.71672,     0.71772,     0.71872,     0.71972,\n",
       "           0.72072,     0.72172,     0.72272,     0.72372,     0.72472,     0.72573,     0.72673,     0.72773,     0.72873,     0.72973,     0.73073,     0.73173,     0.73273,     0.73373,     0.73473,     0.73574,     0.73674,     0.73774,     0.73874,     0.73974,     0.74074,     0.74174,     0.74274,     0.74374,\n",
       "           0.74474,     0.74575,     0.74675,     0.74775,     0.74875,     0.74975,     0.75075,     0.75175,     0.75275,     0.75375,     0.75475,     0.75576,     0.75676,     0.75776,     0.75876,     0.75976,     0.76076,     0.76176,     0.76276,     0.76376,     0.76476,     0.76577,     0.76677,     0.76777,\n",
       "           0.76877,     0.76977,     0.77077,     0.77177,     0.77277,     0.77377,     0.77477,     0.77578,     0.77678,     0.77778,     0.77878,     0.77978,     0.78078,     0.78178,     0.78278,     0.78378,     0.78478,     0.78579,     0.78679,     0.78779,     0.78879,     0.78979,     0.79079,     0.79179,\n",
       "           0.79279,     0.79379,     0.79479,      0.7958,      0.7968,      0.7978,      0.7988,      0.7998,      0.8008,      0.8018,      0.8028,      0.8038,      0.8048,     0.80581,     0.80681,     0.80781,     0.80881,     0.80981,     0.81081,     0.81181,     0.81281,     0.81381,     0.81481,     0.81582,\n",
       "           0.81682,     0.81782,     0.81882,     0.81982,     0.82082,     0.82182,     0.82282,     0.82382,     0.82482,     0.82583,     0.82683,     0.82783,     0.82883,     0.82983,     0.83083,     0.83183,     0.83283,     0.83383,     0.83483,     0.83584,     0.83684,     0.83784,     0.83884,     0.83984,\n",
       "           0.84084,     0.84184,     0.84284,     0.84384,     0.84484,     0.84585,     0.84685,     0.84785,     0.84885,     0.84985,     0.85085,     0.85185,     0.85285,     0.85385,     0.85485,     0.85586,     0.85686,     0.85786,     0.85886,     0.85986,     0.86086,     0.86186,     0.86286,     0.86386,\n",
       "           0.86486,     0.86587,     0.86687,     0.86787,     0.86887,     0.86987,     0.87087,     0.87187,     0.87287,     0.87387,     0.87487,     0.87588,     0.87688,     0.87788,     0.87888,     0.87988,     0.88088,     0.88188,     0.88288,     0.88388,     0.88488,     0.88589,     0.88689,     0.88789,\n",
       "           0.88889,     0.88989,     0.89089,     0.89189,     0.89289,     0.89389,     0.89489,      0.8959,      0.8969,      0.8979,      0.8989,      0.8999,      0.9009,      0.9019,      0.9029,      0.9039,      0.9049,     0.90591,     0.90691,     0.90791,     0.90891,     0.90991,     0.91091,     0.91191,\n",
       "           0.91291,     0.91391,     0.91491,     0.91592,     0.91692,     0.91792,     0.91892,     0.91992,     0.92092,     0.92192,     0.92292,     0.92392,     0.92492,     0.92593,     0.92693,     0.92793,     0.92893,     0.92993,     0.93093,     0.93193,     0.93293,     0.93393,     0.93493,     0.93594,\n",
       "           0.93694,     0.93794,     0.93894,     0.93994,     0.94094,     0.94194,     0.94294,     0.94394,     0.94494,     0.94595,     0.94695,     0.94795,     0.94895,     0.94995,     0.95095,     0.95195,     0.95295,     0.95395,     0.95495,     0.95596,     0.95696,     0.95796,     0.95896,     0.95996,\n",
       "           0.96096,     0.96196,     0.96296,     0.96396,     0.96496,     0.96597,     0.96697,     0.96797,     0.96897,     0.96997,     0.97097,     0.97197,     0.97297,     0.97397,     0.97497,     0.97598,     0.97698,     0.97798,     0.97898,     0.97998,     0.98098,     0.98198,     0.98298,     0.98398,\n",
       "           0.98498,     0.98599,     0.98699,     0.98799,     0.98899,     0.98999,     0.99099,     0.99199,     0.99299,     0.99399,     0.99499,       0.996,       0.997,       0.998,       0.999,           1]), array([[          1,           1,           1,           1,           1,           1,           1,           1,           1,           1,           1,           1,           1,           1,           1,           1,           1,           1,           1,           1,           1,           1,           1,\n",
       "                  1,           1,           1,           1,           1,           1,           1,           1,           1,           1,           1,           1,           1,           1,           1,           1,           1,           1,           1,           1,           1,           1,           1,\n",
       "                  1,           1,           1,           1,           1,           1,           1,           1,           1,           1,           1,           1,           1,           1,           1,           1,           1,           1,           1,           1,           1,           1,           1,\n",
       "                  1,           1,           1,           1,           1,           1,           1,           1,           1,           1,           1,           1,           1,           1,           1,           1,           1,           1,           1,           1,           1,           1,           1,\n",
       "                  1,           1,           1,           1,           1,           1,           1,           1,           1,           1,           1,           1,           1,           1,           1,           1,           1,           1,           1,           1,           1,           1,           1,\n",
       "                  1,           1,           1,           1,           1,           1,           1,           1,           1,           1,           1,           1,           1,           1,           1,           1,           1,           1,           1,           1,           1,           1,           1,\n",
       "                  1,           1,           1,           1,           1,           1,           1,           1,           1,           1,           1,           1,           1,           1,           1,           1,           1,           1,           1,           1,           1,           1,           1,\n",
       "                  1,           1,           1,           1,           1,           1,           1,           1,           1,           1,           1,           1,           1,           1,           1,           1,           1,           1,           1,           1,           1,           1,           1,\n",
       "                  1,           1,           1,           1,           1,           1,           1,           1,           1,           1,           1,           1,           1,           1,           1,           1,           1,           1,           1,           1,           1,           1,           1,\n",
       "                  1,           1,           1,           1,           1,           1,           1,           1,           1,           1,           1,           1,           1,           1,           1,           1,           1,           1,           1,           1,           1,           1,           1,\n",
       "                  1,           1,           1,           1,           1,           1,           1,           1,           1,           1,           1,           1,           1,           1,           1,           1,           1,           1,           1,           1,           1,           1,           1,\n",
       "                  1,           1,           1,           1,           1,           1,           1,           1,           1,           1,           1,           1,           1,           1,           1,           1,           1,           1,           1,           1,           1,           1,           1,\n",
       "                  1,           1,           1,           1,           1,           1,           1,           1,           1,           1,           1,           1,           1,           1,           1,           1,           1,           1,           1,           1,           1,           1,           1,\n",
       "                  1,           1,           1,           1,           1,           1,           1,           1,           1,           1,           1,           1,           1,           1,           1,           1,           1,           1,           1,           1,           1,           1,           1,\n",
       "                  1,           1,           1,           1,           1,           1,           1,           1,           1,           1,           1,           1,           1,           1,           1,           1,           1,           1,           1,           1,           1,           1,           1,\n",
       "                  1,           1,           1,           1,           1,           1,           1,           1,           1,           1,           1,           1,           1,           1,           1,           1,           1,           1,           1,           1,           1,           1,           1,\n",
       "                  1,           1,           1,           1,           1,           1,           1,           1,           1,           1,           1,           1,           1,           1,           1,           1,           1,           1,           1,           1,           1,           1,           1,\n",
       "                  1,           1,           1,           1,           1,           1,           1,           1,           1,           1,           1,           1,           1,           1,           1,           1,           1,           1,           1,           1,           1,           1,           1,\n",
       "                  1,           1,           1,           1,           1,           1,           1,           1,           1,           1,           1,           1,           1,           1,           1,           1,           1,           1,           1,           1,           1,           1,           1,\n",
       "                  1,           1,           1,           1,           1,           1,           1,           1,           1,           1,           1,           1,           1,           1,           1,           1,           1,           1,           1,           1,           1,           1,           1,\n",
       "                  1,           1,           1,           1,           1,           1,           1,           1,           1,           1,           1,           1,           1,           1,           1,           1,           1,           1,           1,           1,           1,           1,           1,\n",
       "                  1,           1,           1,           1,           1,           1,           1,           1,           1,           1,           1,           1,           1,           1,           1,           1,           1,           1,           1,           1,           1,           1,           1,\n",
       "                  1,           1,           1,           1,           1,           1,           1,           1,           1,           1,           1,           1,           1,           1,           1,           1,           1,           1,           1,           1,           1,           1,           1,\n",
       "                  1,           1,           1,           1,           1,           1,           1,           1,           1,           1,           1,           1,           1,           1,           1,           1,           1,           1,           1,           1,           1,           1,           1,\n",
       "                  1,           1,           1,           1,           1,           1,           1,           1,           1,           1,           1,           1,           1,           1,           1,           1,           1,           1,           1,           1,           1,           1,           1,\n",
       "                  1,           1,           1,           1,           1,           1,           1,           1,           1,           1,           1,           1,           1,           1,           1,           1,           1,           1,           1,           1,           1,           1,           1,\n",
       "                  1,           1,           1,           1,           1,           1,           1,           1,           1,           1,           1,           1,           1,           1,           1,           1,           1,           1,           1,           1,           1,           1,           1,\n",
       "                  1,           1,           1,           1,           1,           1,           1,           1,           1,           1,           1,           1,           1,           1,           1,           1,           1,           1,           1,           1,           1,           1,           1,\n",
       "                  1,           1,           1,           1,           1,           1,           1,           1,           1,           1,           1,           1,           1,           1,           1,           1,           1,           1,           1,           1,           1,           1,           1,\n",
       "                  1,           1,           1,           1,           1,           1,           1,           1,           1,           1,           1,           1,           1,           1,           1,           1,           1,           1,           1,           1,           1,           1,           1,\n",
       "                  1,           1,           1,           1,           1,           1,           1,           1,           1,           1,           1,           1,           1,           1,           1,           1,           1,           1,           1,           1,           1,           1,           1,\n",
       "                  1,           1,           1,           1,           1,           1,           1,           1,           1,           1,           1,           1,           1,           1,           1,           1,           1,           1,           1,           1,           1,           1,           1,\n",
       "                  1,           1,           1,           1,           1,           1,           1,           1,           1,           1,           1,           1,           1,           1,           1,           1,           1,           1,           1,           1,           1,           1,           1,\n",
       "                  1,           1,           1,           1,           1,           1,           1,           1,           1,           1,           1,           1,           1,           1,           1,           1,           1,           1,           1,           1,           1,           1,           1,\n",
       "                  1,           1,           1,           1,           1,           1,           1,           1,           1,           1,           1,           1,           1,           1,           1,           1,           1,           1,           1,           1,           1,           1,           1,\n",
       "                  1,           1,           1,           1,           1,           1,           1,           1,           1,           1,           1,           1,           1,           1,           1,           1,           1,           1,           1,           1,           1,           1,           1,\n",
       "                  1,           1,           1,           1,           1,           1,           1,           1,           1,           1,           1,           1,           1,           1,           1,           1,           1,           1,           1,           1,           1,           1,           1,\n",
       "                  1,           1,           1,           1,           1,           1,           1,           1,           1,           1,           1,           1,           1,           1,           1,           1,           1,           1,           1,           1,           1,           1,           1,\n",
       "                  1,           1,           1,           1,           1,           1,           1,           1,           1,           1,           1,           1,           1,           1,           1,           1,           1,           1,           1,           1,           1,           1,           1,\n",
       "                  1,           1,           1,           1,           1,           1,           1,           1,           1,           1,           1,           1,           1,           1,           1,           1,           1,           1,           1,           1,           1,           1,           1,\n",
       "                  1,           1,           1,           1,           1,           1,           1,           1,           1,           1,           1,           1,           1,           1,           1,           1,           1,           1,           1,           1,           1,           1,           1,\n",
       "                  1,           1,           1,           1,           1,           1,           1,           1,           1,           1,           1,           1,           1,           1,           1,           1,           1,           1,           1,           1,           1,           1,           1,\n",
       "                  1,           1,           1,           1,           1,     0.99922,     0.99625,      0.9825,     0.94032,      0.8251,     0.61037,     0.41819,     0.19757,    0.085295,    0.023505,   0.0028926,           0,           0,           0,           0,           0,           0,           0,\n",
       "                  0,           0,           0,           0,           0,           0,           0,           0,           0,           0,           0]]), 'Confidence', 'Recall']]\n",
       "fitness: np.float64(0.995)\n",
       "keys: ['metrics/precision(B)', 'metrics/recall(B)', 'metrics/mAP50(B)', 'metrics/mAP50-95(B)']\n",
       "maps: array([      0.995])\n",
       "names: {0: 'person_entry'}\n",
       "plot: True\n",
       "results_dict: {'metrics/precision(B)': np.float64(0.9999719049280945), 'metrics/recall(B)': np.float64(1.0), 'metrics/mAP50(B)': np.float64(0.995), 'metrics/mAP50-95(B)': np.float64(0.9949999999999999), 'fitness': np.float64(0.995)}\n",
       "save_dir: PosixPath('runs/detect/person_entry_model5')\n",
       "speed: {'preprocess': 0.6814970499969301, 'inference': 68.50029098330499, 'loss': 0.0008877583240973763, 'postprocess': 3.3429267250085104}\n",
       "task: 'detect'"
      ]
     },
     "execution_count": 30,
     "metadata": {},
     "output_type": "execute_result"
    }
   ],
   "source": [
    "from ultralytics import YOLO\n",
    "\n",
    "model = YOLO('yolo11x.pt')\n",
    "\n",
    "model.train(\n",
    "    data='person_entry.yaml',\n",
    "    epochs=100,\n",
    "    imgsz=1024,\n",
    "    batch=8,\n",
    "    name='person_entry_model'\n",
    ")"
   ]
  },
  {
   "cell_type": "code",
   "execution_count": 32,
   "id": "f31af2ab",
   "metadata": {},
   "outputs": [
    {
     "name": "stdout",
     "output_type": "stream",
     "text": [
      "\n",
      "image 1/120 /repos/uni-si/R2S4/DNN/End_project/images/test/card_1.jpg: 928x1024 12 person_entrys, 26.5ms\n",
      "image 2/120 /repos/uni-si/R2S4/DNN/End_project/images/test/card_10.jpg: 928x1024 12 person_entrys, 25.3ms\n",
      "image 3/120 /repos/uni-si/R2S4/DNN/End_project/images/test/card_100.jpg: 928x1024 12 person_entrys, 25.5ms\n",
      "image 4/120 /repos/uni-si/R2S4/DNN/End_project/images/test/card_101.jpg: 928x1024 12 person_entrys, 25.3ms\n",
      "image 5/120 /repos/uni-si/R2S4/DNN/End_project/images/test/card_102.jpg: 928x1024 12 person_entrys, 25.0ms\n",
      "image 6/120 /repos/uni-si/R2S4/DNN/End_project/images/test/card_103.jpg: 928x1024 12 person_entrys, 23.8ms\n",
      "image 7/120 /repos/uni-si/R2S4/DNN/End_project/images/test/card_104.jpg: 928x1024 12 person_entrys, 24.2ms\n",
      "image 8/120 /repos/uni-si/R2S4/DNN/End_project/images/test/card_105.jpg: 928x1024 12 person_entrys, 23.5ms\n",
      "image 9/120 /repos/uni-si/R2S4/DNN/End_project/images/test/card_106.jpg: 928x1024 12 person_entrys, 24.4ms\n",
      "image 10/120 /repos/uni-si/R2S4/DNN/End_project/images/test/card_107.jpg: 928x1024 12 person_entrys, 24.2ms\n",
      "image 11/120 /repos/uni-si/R2S4/DNN/End_project/images/test/card_108.jpg: 928x1024 12 person_entrys, 23.6ms\n",
      "image 12/120 /repos/uni-si/R2S4/DNN/End_project/images/test/card_109.jpg: 928x1024 12 person_entrys, 24.4ms\n",
      "image 13/120 /repos/uni-si/R2S4/DNN/End_project/images/test/card_11.jpg: 928x1024 12 person_entrys, 39.9ms\n",
      "image 14/120 /repos/uni-si/R2S4/DNN/End_project/images/test/card_110.jpg: 928x1024 12 person_entrys, 23.8ms\n",
      "image 15/120 /repos/uni-si/R2S4/DNN/End_project/images/test/card_111.jpg: 928x1024 12 person_entrys, 26.7ms\n",
      "image 16/120 /repos/uni-si/R2S4/DNN/End_project/images/test/card_112.jpg: 928x1024 12 person_entrys, 24.2ms\n",
      "image 17/120 /repos/uni-si/R2S4/DNN/End_project/images/test/card_113.jpg: 928x1024 12 person_entrys, 24.7ms\n",
      "image 18/120 /repos/uni-si/R2S4/DNN/End_project/images/test/card_114.jpg: 928x1024 12 person_entrys, 24.6ms\n",
      "image 19/120 /repos/uni-si/R2S4/DNN/End_project/images/test/card_115.jpg: 928x1024 12 person_entrys, 43.1ms\n",
      "image 20/120 /repos/uni-si/R2S4/DNN/End_project/images/test/card_116.jpg: 928x1024 12 person_entrys, 24.4ms\n",
      "image 21/120 /repos/uni-si/R2S4/DNN/End_project/images/test/card_117.jpg: 928x1024 12 person_entrys, 24.5ms\n",
      "image 22/120 /repos/uni-si/R2S4/DNN/End_project/images/test/card_118.jpg: 928x1024 12 person_entrys, 23.8ms\n",
      "image 23/120 /repos/uni-si/R2S4/DNN/End_project/images/test/card_119.jpg: 928x1024 12 person_entrys, 24.6ms\n",
      "image 24/120 /repos/uni-si/R2S4/DNN/End_project/images/test/card_12.jpg: 928x1024 12 person_entrys, 23.9ms\n",
      "image 25/120 /repos/uni-si/R2S4/DNN/End_project/images/test/card_120.jpg: 928x1024 12 person_entrys, 24.2ms\n",
      "image 26/120 /repos/uni-si/R2S4/DNN/End_project/images/test/card_13.jpg: 928x1024 12 person_entrys, 23.9ms\n",
      "image 27/120 /repos/uni-si/R2S4/DNN/End_project/images/test/card_14.jpg: 928x1024 12 person_entrys, 24.3ms\n",
      "image 28/120 /repos/uni-si/R2S4/DNN/End_project/images/test/card_15.jpg: 928x1024 12 person_entrys, 23.6ms\n",
      "image 29/120 /repos/uni-si/R2S4/DNN/End_project/images/test/card_16.jpg: 928x1024 20 person_entrys, 24.5ms\n",
      "image 30/120 /repos/uni-si/R2S4/DNN/End_project/images/test/card_17.jpg: 928x1024 20 person_entrys, 24.2ms\n",
      "image 31/120 /repos/uni-si/R2S4/DNN/End_project/images/test/card_18.jpg: 928x1024 20 person_entrys, 24.5ms\n",
      "image 32/120 /repos/uni-si/R2S4/DNN/End_project/images/test/card_19.jpg: 928x1024 20 person_entrys, 24.5ms\n",
      "image 33/120 /repos/uni-si/R2S4/DNN/End_project/images/test/card_2.jpg: 928x1024 12 person_entrys, 23.8ms\n",
      "image 34/120 /repos/uni-si/R2S4/DNN/End_project/images/test/card_20.jpg: 928x1024 20 person_entrys, 24.4ms\n",
      "image 35/120 /repos/uni-si/R2S4/DNN/End_project/images/test/card_21.jpg: 928x1024 20 person_entrys, 24.5ms\n",
      "image 36/120 /repos/uni-si/R2S4/DNN/End_project/images/test/card_22.jpg: 928x1024 20 person_entrys, 24.4ms\n",
      "image 37/120 /repos/uni-si/R2S4/DNN/End_project/images/test/card_23.jpg: 928x1024 20 person_entrys, 24.2ms\n",
      "image 38/120 /repos/uni-si/R2S4/DNN/End_project/images/test/card_24.jpg: 928x1024 20 person_entrys, 23.9ms\n",
      "image 39/120 /repos/uni-si/R2S4/DNN/End_project/images/test/card_25.jpg: 928x1024 20 person_entrys, 24.3ms\n",
      "image 40/120 /repos/uni-si/R2S4/DNN/End_project/images/test/card_26.jpg: 928x1024 20 person_entrys, 24.1ms\n",
      "image 41/120 /repos/uni-si/R2S4/DNN/End_project/images/test/card_27.jpg: 928x1024 20 person_entrys, 25.8ms\n",
      "image 42/120 /repos/uni-si/R2S4/DNN/End_project/images/test/card_28.jpg: 928x1024 20 person_entrys, 24.1ms\n",
      "image 43/120 /repos/uni-si/R2S4/DNN/End_project/images/test/card_29.jpg: 928x1024 20 person_entrys, 24.2ms\n",
      "image 44/120 /repos/uni-si/R2S4/DNN/End_project/images/test/card_3.jpg: 928x1024 12 person_entrys, 23.5ms\n",
      "image 45/120 /repos/uni-si/R2S4/DNN/End_project/images/test/card_30.jpg: 928x1024 20 person_entrys, 24.5ms\n",
      "image 46/120 /repos/uni-si/R2S4/DNN/End_project/images/test/card_31.jpg: 928x1024 20 person_entrys, 39.5ms\n",
      "image 47/120 /repos/uni-si/R2S4/DNN/End_project/images/test/card_32.jpg: 928x1024 20 person_entrys, 45.2ms\n",
      "image 48/120 /repos/uni-si/R2S4/DNN/End_project/images/test/card_33.jpg: 928x1024 20 person_entrys, 24.4ms\n",
      "image 49/120 /repos/uni-si/R2S4/DNN/End_project/images/test/card_34.jpg: 928x1024 20 person_entrys, 24.2ms\n",
      "image 50/120 /repos/uni-si/R2S4/DNN/End_project/images/test/card_35.jpg: 928x1024 20 person_entrys, 25.8ms\n",
      "image 51/120 /repos/uni-si/R2S4/DNN/End_project/images/test/card_36.jpg: 928x1024 20 person_entrys, 24.3ms\n",
      "image 52/120 /repos/uni-si/R2S4/DNN/End_project/images/test/card_37.jpg: 928x1024 20 person_entrys, 24.3ms\n",
      "image 53/120 /repos/uni-si/R2S4/DNN/End_project/images/test/card_38.jpg: 928x1024 20 person_entrys, 23.9ms\n",
      "image 54/120 /repos/uni-si/R2S4/DNN/End_project/images/test/card_39.jpg: 928x1024 20 person_entrys, 24.2ms\n",
      "image 55/120 /repos/uni-si/R2S4/DNN/End_project/images/test/card_4.jpg: 928x1024 12 person_entrys, 23.6ms\n",
      "image 56/120 /repos/uni-si/R2S4/DNN/End_project/images/test/card_40.jpg: 928x1024 20 person_entrys, 24.3ms\n",
      "image 57/120 /repos/uni-si/R2S4/DNN/End_project/images/test/card_41.jpg: 928x1024 20 person_entrys, 23.7ms\n",
      "image 58/120 /repos/uni-si/R2S4/DNN/End_project/images/test/card_42.jpg: 928x1024 20 person_entrys, 24.5ms\n",
      "image 59/120 /repos/uni-si/R2S4/DNN/End_project/images/test/card_43.jpg: 928x1024 20 person_entrys, 24.4ms\n",
      "image 60/120 /repos/uni-si/R2S4/DNN/End_project/images/test/card_44.jpg: 928x1024 20 person_entrys, 38.7ms\n",
      "image 61/120 /repos/uni-si/R2S4/DNN/End_project/images/test/card_45.jpg: 928x1024 20 person_entrys, 23.8ms\n",
      "image 62/120 /repos/uni-si/R2S4/DNN/End_project/images/test/card_46.jpg: 928x1024 20 person_entrys, 24.8ms\n",
      "image 63/120 /repos/uni-si/R2S4/DNN/End_project/images/test/card_47.jpg: 928x1024 20 person_entrys, 24.1ms\n",
      "image 64/120 /repos/uni-si/R2S4/DNN/End_project/images/test/card_48.jpg: 928x1024 20 person_entrys, 42.8ms\n",
      "image 65/120 /repos/uni-si/R2S4/DNN/End_project/images/test/card_49.jpg: 928x1024 20 person_entrys, 50.5ms\n",
      "image 66/120 /repos/uni-si/R2S4/DNN/End_project/images/test/card_5.jpg: 928x1024 12 person_entrys, 24.5ms\n",
      "image 67/120 /repos/uni-si/R2S4/DNN/End_project/images/test/card_50.jpg: 928x1024 20 person_entrys, 23.6ms\n",
      "image 68/120 /repos/uni-si/R2S4/DNN/End_project/images/test/card_51.jpg: 928x1024 20 person_entrys, 24.3ms\n",
      "image 69/120 /repos/uni-si/R2S4/DNN/End_project/images/test/card_52.jpg: 928x1024 20 person_entrys, 24.6ms\n",
      "image 70/120 /repos/uni-si/R2S4/DNN/End_project/images/test/card_53.jpg: 928x1024 20 person_entrys, 24.6ms\n",
      "image 71/120 /repos/uni-si/R2S4/DNN/End_project/images/test/card_54.jpg: 928x1024 20 person_entrys, 24.4ms\n",
      "image 72/120 /repos/uni-si/R2S4/DNN/End_project/images/test/card_55.jpg: 928x1024 20 person_entrys, 42.5ms\n",
      "image 73/120 /repos/uni-si/R2S4/DNN/End_project/images/test/card_56.jpg: 928x1024 20 person_entrys, 24.5ms\n",
      "image 74/120 /repos/uni-si/R2S4/DNN/End_project/images/test/card_57.jpg: 928x1024 20 person_entrys, 23.8ms\n",
      "image 75/120 /repos/uni-si/R2S4/DNN/End_project/images/test/card_58.jpg: 928x1024 20 person_entrys, 32.8ms\n",
      "image 76/120 /repos/uni-si/R2S4/DNN/End_project/images/test/card_59.jpg: 928x1024 20 person_entrys, 24.6ms\n",
      "image 77/120 /repos/uni-si/R2S4/DNN/End_project/images/test/card_6.jpg: 928x1024 12 person_entrys, 23.8ms\n",
      "image 78/120 /repos/uni-si/R2S4/DNN/End_project/images/test/card_60.jpg: 928x1024 20 person_entrys, 24.4ms\n",
      "image 79/120 /repos/uni-si/R2S4/DNN/End_project/images/test/card_61.jpg: 928x1024 20 person_entrys, 24.3ms\n",
      "image 80/120 /repos/uni-si/R2S4/DNN/End_project/images/test/card_62.jpg: 928x1024 20 person_entrys, 48.4ms\n",
      "image 81/120 /repos/uni-si/R2S4/DNN/End_project/images/test/card_63.jpg: 928x1024 20 person_entrys, 24.5ms\n",
      "image 82/120 /repos/uni-si/R2S4/DNN/End_project/images/test/card_64.jpg: 928x1024 20 person_entrys, 24.7ms\n",
      "image 83/120 /repos/uni-si/R2S4/DNN/End_project/images/test/card_65.jpg: 928x1024 20 person_entrys, 24.7ms\n",
      "image 84/120 /repos/uni-si/R2S4/DNN/End_project/images/test/card_66.jpg: 928x1024 20 person_entrys, 23.8ms\n",
      "image 85/120 /repos/uni-si/R2S4/DNN/End_project/images/test/card_67.jpg: 928x1024 20 person_entrys, 24.5ms\n",
      "image 86/120 /repos/uni-si/R2S4/DNN/End_project/images/test/card_68.jpg: 928x1024 20 person_entrys, 24.6ms\n",
      "image 87/120 /repos/uni-si/R2S4/DNN/End_project/images/test/card_69.jpg: 928x1024 20 person_entrys, 23.8ms\n",
      "image 88/120 /repos/uni-si/R2S4/DNN/End_project/images/test/card_7.jpg: 928x1024 12 person_entrys, 24.3ms\n",
      "image 89/120 /repos/uni-si/R2S4/DNN/End_project/images/test/card_70.jpg: 928x1024 20 person_entrys, 23.8ms\n",
      "image 90/120 /repos/uni-si/R2S4/DNN/End_project/images/test/card_71.jpg: 928x1024 20 person_entrys, 24.3ms\n",
      "image 91/120 /repos/uni-si/R2S4/DNN/End_project/images/test/card_72.jpg: 928x1024 20 person_entrys, 24.7ms\n",
      "image 92/120 /repos/uni-si/R2S4/DNN/End_project/images/test/card_73.jpg: 928x1024 20 person_entrys, 23.9ms\n",
      "image 93/120 /repos/uni-si/R2S4/DNN/End_project/images/test/card_74.jpg: 928x1024 20 person_entrys, 24.6ms\n",
      "image 94/120 /repos/uni-si/R2S4/DNN/End_project/images/test/card_75.jpg: 928x1024 20 person_entrys, 24.4ms\n",
      "image 95/120 /repos/uni-si/R2S4/DNN/End_project/images/test/card_76.jpg: 928x1024 20 person_entrys, 23.7ms\n",
      "image 96/120 /repos/uni-si/R2S4/DNN/End_project/images/test/card_77.jpg: 928x1024 20 person_entrys, 24.2ms\n",
      "image 97/120 /repos/uni-si/R2S4/DNN/End_project/images/test/card_78.jpg: 928x1024 20 person_entrys, 24.5ms\n",
      "image 98/120 /repos/uni-si/R2S4/DNN/End_project/images/test/card_79.jpg: 928x1024 20 person_entrys, 24.0ms\n",
      "image 99/120 /repos/uni-si/R2S4/DNN/End_project/images/test/card_8.jpg: 928x1024 12 person_entrys, 32.4ms\n",
      "image 100/120 /repos/uni-si/R2S4/DNN/End_project/images/test/card_80.jpg: 928x1024 20 person_entrys, 24.5ms\n",
      "image 101/120 /repos/uni-si/R2S4/DNN/End_project/images/test/card_81.jpg: 928x1024 20 person_entrys, 24.5ms\n",
      "image 102/120 /repos/uni-si/R2S4/DNN/End_project/images/test/card_82.jpg: 928x1024 20 person_entrys, 24.2ms\n",
      "image 103/120 /repos/uni-si/R2S4/DNN/End_project/images/test/card_83.jpg: 928x1024 20 person_entrys, 24.5ms\n",
      "image 104/120 /repos/uni-si/R2S4/DNN/End_project/images/test/card_84.jpg: 928x1024 20 person_entrys, 24.6ms\n",
      "image 105/120 /repos/uni-si/R2S4/DNN/End_project/images/test/card_85.jpg: 928x1024 20 person_entrys, 23.7ms\n",
      "image 106/120 /repos/uni-si/R2S4/DNN/End_project/images/test/card_86.jpg: 928x1024 20 person_entrys, 24.3ms\n",
      "image 107/120 /repos/uni-si/R2S4/DNN/End_project/images/test/card_87.jpg: 928x1024 20 person_entrys, 24.4ms\n",
      "image 108/120 /repos/uni-si/R2S4/DNN/End_project/images/test/card_88.jpg: 928x1024 20 person_entrys, 23.6ms\n",
      "image 109/120 /repos/uni-si/R2S4/DNN/End_project/images/test/card_89.jpg: 928x1024 20 person_entrys, 24.3ms\n",
      "image 110/120 /repos/uni-si/R2S4/DNN/End_project/images/test/card_9.jpg: 928x1024 12 person_entrys, 24.5ms\n",
      "image 111/120 /repos/uni-si/R2S4/DNN/End_project/images/test/card_90.jpg: 928x1024 20 person_entrys, 24.2ms\n",
      "image 112/120 /repos/uni-si/R2S4/DNN/End_project/images/test/card_91.jpg: 928x1024 12 person_entrys, 24.5ms\n",
      "image 113/120 /repos/uni-si/R2S4/DNN/End_project/images/test/card_92.jpg: 928x1024 12 person_entrys, 35.7ms\n",
      "image 114/120 /repos/uni-si/R2S4/DNN/End_project/images/test/card_93.jpg: 928x1024 12 person_entrys, 24.4ms\n",
      "image 115/120 /repos/uni-si/R2S4/DNN/End_project/images/test/card_94.jpg: 928x1024 12 person_entrys, 24.3ms\n",
      "image 116/120 /repos/uni-si/R2S4/DNN/End_project/images/test/card_95.jpg: 928x1024 12 person_entrys, 24.0ms\n",
      "image 117/120 /repos/uni-si/R2S4/DNN/End_project/images/test/card_96.jpg: 928x1024 12 person_entrys, 24.3ms\n",
      "image 118/120 /repos/uni-si/R2S4/DNN/End_project/images/test/card_97.jpg: 928x1024 12 person_entrys, 23.9ms\n",
      "image 119/120 /repos/uni-si/R2S4/DNN/End_project/images/test/card_98.jpg: 928x1024 12 person_entrys, 24.4ms\n",
      "image 120/120 /repos/uni-si/R2S4/DNN/End_project/images/test/card_99.jpg: 928x1024 12 person_entrys, 23.8ms\n",
      "Speed: 2.9ms preprocess, 26.0ms inference, 1.8ms postprocess per image at shape (1, 3, 928, 1024)\n",
      "Results saved to \u001b[1mruns/detect/predict\u001b[0m\n"
     ]
    }
   ],
   "source": [
    "from ultralytics import YOLO\n",
    "\n",
    "# Załaduj wytrenowany model\n",
    "model = YOLO('runs/detect/person_entry_model5/weights/best.pt')\n",
    "\n",
    "# Uruchom inferencję na folderze testowym\n",
    "results = model.predict(\n",
    "    source='images/test',\n",
    "    save=True,\n",
    "    conf=0.25,\n",
    "    imgsz=1024\n",
    ")"
   ]
  },
  {
   "cell_type": "code",
   "execution_count": null,
   "id": "297a5e9c",
   "metadata": {},
   "outputs": [],
   "source": [
    "def prepare_yolo2_training_data(cards_path, yolo1_results, output_img_dir, output_lbl_dir):\n",
    "    cards_dir = Path(cards_path)\n",
    "    Path(output_img_dir).mkdir(parents=True, exist_ok=True)\n",
    "    Path(output_lbl_dir).mkdir(parents=True, exist_ok=True)\n",
    "\n",
    "    # Mapowanie nazwy pliku na pełną ścieżkę\n",
    "    card_paths = {p.name: p for p in cards_dir.glob(\"*.jpg\")}\n",
    "\n",
    "    for result in yolo1_results:\n",
    "        img_path = Path(result.path)\n",
    "        img_name = img_path.name\n",
    "\n",
    "        if img_name not in card_paths:\n",
    "            print(f\"Warning: {img_name} not found in cards_dir.\")\n",
    "            continue\n",
    "\n",
    "        # Wyciągnięcie ID karty z nazwy pliku\n",
    "        img_id = int(img_name.split(\"_\")[1].split(\".\")[0])\n",
    "\n",
    "        # Dobranie odpowiedniego ratio na podstawie img_id\n",
    "        if img_id <= 30:\n",
    "            photo_height_ratio = 0.82\n",
    "        elif img_id <= 60:\n",
    "            photo_height_ratio = 0.80\n",
    "        elif img_id <= 90:\n",
    "            photo_height_ratio = 0.75\n",
    "        elif img_id <= 105:\n",
    "            photo_height_ratio = 0.77\n",
    "        else:\n",
    "            photo_height_ratio = 0.842\n",
    "\n",
    "        id_height_ratio = 1.0 - photo_height_ratio\n",
    "\n",
    "        img = cv2.imread(str(card_paths[img_name]))\n",
    "        h, w = img.shape[:2]\n",
    "\n",
    "        boxes = result.boxes.xywhn.cpu().numpy()\n",
    "        classes = result.boxes.cls.cpu().numpy().astype(int)\n",
    "\n",
    "        for idx, (box, cls) in enumerate(zip(boxes, classes)):\n",
    "            x_c, y_c, bw, bh = box\n",
    "\n",
    "            # Przeliczenie boxa YOLO na piksele\n",
    "            x_min = int((x_c - bw / 2) * w)\n",
    "            x_max = int((x_c + bw / 2) * w)\n",
    "            y_min = int((y_c - bh / 2) * h)\n",
    "            y_max = int((y_c + bh / 2) * h)\n",
    "\n",
    "            # Wycinamy crop z oryginalnego obrazu\n",
    "            crop = img[y_min:y_max, x_min:x_max]\n",
    "\n",
    "            # Zapis cropa do output_img_dir\n",
    "            crop_filename = f\"{img_name[:-4]}_entry_{idx}.jpg\"\n",
    "            cv2.imwrite(str(Path(output_img_dir) / crop_filename), crop)\n",
    "\n",
    "            # Tworzymy label dla drugiego modelu\n",
    "            labels = []\n",
    "\n",
    "            # Box dla zdjęcia (klasa 0)\n",
    "            px_c = 0.5\n",
    "            py_c = photo_height_ratio / 2\n",
    "            pw = 1.0\n",
    "            ph = photo_height_ratio\n",
    "            labels.append(f\"0 {px_c:.6f} {py_c:.6f} {pw:.6f} {ph:.6f}\")\n",
    "\n",
    "            # Box dla ID (klasa 1)\n",
    "            ix_c = 0.5\n",
    "            iy_c = photo_height_ratio + id_height_ratio / 2\n",
    "            iw = 1.0\n",
    "            ih = id_height_ratio\n",
    "            labels.append(f\"1 {ix_c:.6f} {iy_c:.6f} {iw:.6f} {ih:.6f}\")\n",
    "\n",
    "            label_filename = f\"{img_name[:-4]}_entry_{idx}.txt\"\n",
    "            with open(Path(output_lbl_dir) / label_filename, \"w\") as f:\n",
    "                f.write(\"\\n\".join(labels))\n"
   ]
  },
  {
   "cell_type": "code",
   "execution_count": 75,
   "id": "c5248465",
   "metadata": {},
   "outputs": [
    {
     "name": "stdout",
     "output_type": "stream",
     "text": [
      "\n",
      "image 1/120 /repos/uni-si/R2S4/DNN/End_project/images/train_v2/card_1.jpg: 928x1024 12 person_entrys, 25.2ms\n",
      "image 2/120 /repos/uni-si/R2S4/DNN/End_project/images/train_v2/card_10.jpg: 928x1024 12 person_entrys, 37.7ms\n",
      "image 3/120 /repos/uni-si/R2S4/DNN/End_project/images/train_v2/card_100.jpg: 928x1024 24 person_entrys, 25.5ms\n",
      "image 4/120 /repos/uni-si/R2S4/DNN/End_project/images/train_v2/card_101.jpg: 928x1024 24 person_entrys, 24.7ms\n",
      "image 5/120 /repos/uni-si/R2S4/DNN/End_project/images/train_v2/card_102.jpg: 928x1024 24 person_entrys, 24.7ms\n",
      "image 6/120 /repos/uni-si/R2S4/DNN/End_project/images/train_v2/card_103.jpg: 928x1024 24 person_entrys, 25.4ms\n",
      "image 7/120 /repos/uni-si/R2S4/DNN/End_project/images/train_v2/card_104.jpg: 928x1024 24 person_entrys, 24.6ms\n",
      "image 8/120 /repos/uni-si/R2S4/DNN/End_project/images/train_v2/card_105.jpg: 928x1024 24 person_entrys, 24.6ms\n",
      "image 9/120 /repos/uni-si/R2S4/DNN/End_project/images/train_v2/card_106.jpg: 928x1024 12 person_entrys, 23.7ms\n",
      "image 10/120 /repos/uni-si/R2S4/DNN/End_project/images/train_v2/card_107.jpg: 928x1024 12 person_entrys, 23.6ms\n",
      "image 11/120 /repos/uni-si/R2S4/DNN/End_project/images/train_v2/card_108.jpg: 928x1024 12 person_entrys, 41.5ms\n",
      "image 12/120 /repos/uni-si/R2S4/DNN/End_project/images/train_v2/card_109.jpg: 928x1024 12 person_entrys, 24.3ms\n",
      "image 13/120 /repos/uni-si/R2S4/DNN/End_project/images/train_v2/card_11.jpg: 928x1024 12 person_entrys, 23.9ms\n",
      "image 14/120 /repos/uni-si/R2S4/DNN/End_project/images/train_v2/card_110.jpg: 928x1024 12 person_entrys, 23.9ms\n",
      "image 15/120 /repos/uni-si/R2S4/DNN/End_project/images/train_v2/card_111.jpg: 928x1024 12 person_entrys, 23.9ms\n",
      "image 16/120 /repos/uni-si/R2S4/DNN/End_project/images/train_v2/card_112.jpg: 928x1024 12 person_entrys, 24.6ms\n",
      "image 17/120 /repos/uni-si/R2S4/DNN/End_project/images/train_v2/card_113.jpg: 928x1024 12 person_entrys, 24.1ms\n",
      "image 18/120 /repos/uni-si/R2S4/DNN/End_project/images/train_v2/card_114.jpg: 928x1024 12 person_entrys, 42.3ms\n",
      "image 19/120 /repos/uni-si/R2S4/DNN/End_project/images/train_v2/card_115.jpg: 928x1024 12 person_entrys, 24.7ms\n",
      "image 20/120 /repos/uni-si/R2S4/DNN/End_project/images/train_v2/card_116.jpg: 928x1024 12 person_entrys, 24.2ms\n",
      "image 21/120 /repos/uni-si/R2S4/DNN/End_project/images/train_v2/card_117.jpg: 928x1024 12 person_entrys, 24.4ms\n",
      "image 22/120 /repos/uni-si/R2S4/DNN/End_project/images/train_v2/card_118.jpg: 928x1024 12 person_entrys, 24.5ms\n",
      "image 23/120 /repos/uni-si/R2S4/DNN/End_project/images/train_v2/card_119.jpg: 928x1024 12 person_entrys, 34.2ms\n",
      "image 24/120 /repos/uni-si/R2S4/DNN/End_project/images/train_v2/card_12.jpg: 928x1024 12 person_entrys, 36.0ms\n",
      "image 25/120 /repos/uni-si/R2S4/DNN/End_project/images/train_v2/card_120.jpg: 928x1024 12 person_entrys, 24.4ms\n",
      "image 26/120 /repos/uni-si/R2S4/DNN/End_project/images/train_v2/card_13.jpg: 928x1024 12 person_entrys, 23.9ms\n",
      "image 27/120 /repos/uni-si/R2S4/DNN/End_project/images/train_v2/card_14.jpg: 928x1024 12 person_entrys, 30.8ms\n",
      "image 28/120 /repos/uni-si/R2S4/DNN/End_project/images/train_v2/card_15.jpg: 928x1024 12 person_entrys, 24.4ms\n",
      "image 29/120 /repos/uni-si/R2S4/DNN/End_project/images/train_v2/card_16.jpg: 928x1024 12 person_entrys, 24.4ms\n",
      "image 30/120 /repos/uni-si/R2S4/DNN/End_project/images/train_v2/card_17.jpg: 928x1024 12 person_entrys, 25.0ms\n",
      "image 31/120 /repos/uni-si/R2S4/DNN/End_project/images/train_v2/card_18.jpg: 928x1024 12 person_entrys, 23.9ms\n",
      "image 32/120 /repos/uni-si/R2S4/DNN/End_project/images/train_v2/card_19.jpg: 928x1024 12 person_entrys, 23.7ms\n",
      "image 33/120 /repos/uni-si/R2S4/DNN/End_project/images/train_v2/card_2.jpg: 928x1024 12 person_entrys, 34.6ms\n",
      "image 34/120 /repos/uni-si/R2S4/DNN/End_project/images/train_v2/card_20.jpg: 928x1024 12 person_entrys, 24.5ms\n",
      "image 35/120 /repos/uni-si/R2S4/DNN/End_project/images/train_v2/card_21.jpg: 928x1024 12 person_entrys, 24.6ms\n",
      "image 36/120 /repos/uni-si/R2S4/DNN/End_project/images/train_v2/card_22.jpg: 928x1024 12 person_entrys, 24.1ms\n",
      "image 37/120 /repos/uni-si/R2S4/DNN/End_project/images/train_v2/card_23.jpg: 928x1024 12 person_entrys, 24.3ms\n",
      "image 38/120 /repos/uni-si/R2S4/DNN/End_project/images/train_v2/card_24.jpg: 928x1024 12 person_entrys, 24.4ms\n",
      "image 39/120 /repos/uni-si/R2S4/DNN/End_project/images/train_v2/card_25.jpg: 928x1024 12 person_entrys, 24.9ms\n",
      "image 40/120 /repos/uni-si/R2S4/DNN/End_project/images/train_v2/card_26.jpg: 928x1024 12 person_entrys, 24.9ms\n",
      "image 41/120 /repos/uni-si/R2S4/DNN/End_project/images/train_v2/card_27.jpg: 928x1024 12 person_entrys, 31.9ms\n",
      "image 42/120 /repos/uni-si/R2S4/DNN/End_project/images/train_v2/card_28.jpg: 928x1024 12 person_entrys, 23.6ms\n",
      "image 43/120 /repos/uni-si/R2S4/DNN/End_project/images/train_v2/card_29.jpg: 928x1024 12 person_entrys, 24.4ms\n",
      "image 44/120 /repos/uni-si/R2S4/DNN/End_project/images/train_v2/card_3.jpg: 928x1024 12 person_entrys, 24.2ms\n",
      "image 45/120 /repos/uni-si/R2S4/DNN/End_project/images/train_v2/card_30.jpg: 928x1024 12 person_entrys, 24.4ms\n",
      "image 46/120 /repos/uni-si/R2S4/DNN/End_project/images/train_v2/card_31.jpg: 928x1024 20 person_entrys, 24.5ms\n",
      "image 47/120 /repos/uni-si/R2S4/DNN/End_project/images/train_v2/card_32.jpg: 928x1024 20 person_entrys, 24.4ms\n",
      "image 48/120 /repos/uni-si/R2S4/DNN/End_project/images/train_v2/card_33.jpg: 928x1024 20 person_entrys, 23.8ms\n",
      "image 49/120 /repos/uni-si/R2S4/DNN/End_project/images/train_v2/card_34.jpg: 928x1024 20 person_entrys, 23.8ms\n",
      "image 50/120 /repos/uni-si/R2S4/DNN/End_project/images/train_v2/card_35.jpg: 928x1024 20 person_entrys, 23.8ms\n",
      "image 51/120 /repos/uni-si/R2S4/DNN/End_project/images/train_v2/card_36.jpg: 928x1024 20 person_entrys, 24.2ms\n",
      "image 52/120 /repos/uni-si/R2S4/DNN/End_project/images/train_v2/card_37.jpg: 928x1024 20 person_entrys, 48.3ms\n",
      "image 53/120 /repos/uni-si/R2S4/DNN/End_project/images/train_v2/card_38.jpg: 928x1024 20 person_entrys, 24.5ms\n",
      "image 54/120 /repos/uni-si/R2S4/DNN/End_project/images/train_v2/card_39.jpg: 928x1024 20 person_entrys, 24.4ms\n",
      "image 55/120 /repos/uni-si/R2S4/DNN/End_project/images/train_v2/card_4.jpg: 928x1024 12 person_entrys, 24.6ms\n",
      "image 56/120 /repos/uni-si/R2S4/DNN/End_project/images/train_v2/card_40.jpg: 928x1024 20 person_entrys, 24.7ms\n",
      "image 57/120 /repos/uni-si/R2S4/DNN/End_project/images/train_v2/card_41.jpg: 928x1024 20 person_entrys, 23.8ms\n",
      "image 58/120 /repos/uni-si/R2S4/DNN/End_project/images/train_v2/card_42.jpg: 928x1024 20 person_entrys, 23.8ms\n",
      "image 59/120 /repos/uni-si/R2S4/DNN/End_project/images/train_v2/card_43.jpg: 928x1024 20 person_entrys, 24.1ms\n",
      "image 60/120 /repos/uni-si/R2S4/DNN/End_project/images/train_v2/card_44.jpg: 928x1024 20 person_entrys, 25.2ms\n",
      "image 61/120 /repos/uni-si/R2S4/DNN/End_project/images/train_v2/card_45.jpg: 928x1024 20 person_entrys, 24.1ms\n",
      "image 62/120 /repos/uni-si/R2S4/DNN/End_project/images/train_v2/card_46.jpg: 928x1024 20 person_entrys, 24.3ms\n",
      "image 63/120 /repos/uni-si/R2S4/DNN/End_project/images/train_v2/card_47.jpg: 928x1024 20 person_entrys, 24.6ms\n",
      "image 64/120 /repos/uni-si/R2S4/DNN/End_project/images/train_v2/card_48.jpg: 928x1024 20 person_entrys, 24.6ms\n",
      "image 65/120 /repos/uni-si/R2S4/DNN/End_project/images/train_v2/card_49.jpg: 928x1024 20 person_entrys, 24.1ms\n",
      "image 66/120 /repos/uni-si/R2S4/DNN/End_project/images/train_v2/card_5.jpg: 928x1024 12 person_entrys, 24.6ms\n",
      "image 67/120 /repos/uni-si/R2S4/DNN/End_project/images/train_v2/card_50.jpg: 928x1024 20 person_entrys, 24.7ms\n",
      "image 68/120 /repos/uni-si/R2S4/DNN/End_project/images/train_v2/card_51.jpg: 928x1024 20 person_entrys, 24.5ms\n",
      "image 69/120 /repos/uni-si/R2S4/DNN/End_project/images/train_v2/card_52.jpg: 928x1024 20 person_entrys, 24.0ms\n",
      "image 70/120 /repos/uni-si/R2S4/DNN/End_project/images/train_v2/card_53.jpg: 928x1024 20 person_entrys, 23.8ms\n",
      "image 71/120 /repos/uni-si/R2S4/DNN/End_project/images/train_v2/card_54.jpg: 928x1024 20 person_entrys, 24.5ms\n",
      "image 72/120 /repos/uni-si/R2S4/DNN/End_project/images/train_v2/card_55.jpg: 928x1024 20 person_entrys, 24.5ms\n",
      "image 73/120 /repos/uni-si/R2S4/DNN/End_project/images/train_v2/card_56.jpg: 928x1024 20 person_entrys, 24.6ms\n",
      "image 74/120 /repos/uni-si/R2S4/DNN/End_project/images/train_v2/card_57.jpg: 928x1024 20 person_entrys, 24.4ms\n",
      "image 75/120 /repos/uni-si/R2S4/DNN/End_project/images/train_v2/card_58.jpg: 928x1024 20 person_entrys, 38.3ms\n",
      "image 76/120 /repos/uni-si/R2S4/DNN/End_project/images/train_v2/card_59.jpg: 928x1024 20 person_entrys, 24.4ms\n",
      "image 77/120 /repos/uni-si/R2S4/DNN/End_project/images/train_v2/card_6.jpg: 928x1024 12 person_entrys, 24.2ms\n",
      "image 78/120 /repos/uni-si/R2S4/DNN/End_project/images/train_v2/card_60.jpg: 928x1024 20 person_entrys, 24.6ms\n",
      "image 79/120 /repos/uni-si/R2S4/DNN/End_project/images/train_v2/card_61.jpg: 928x1024 30 person_entrys, 24.5ms\n",
      "image 80/120 /repos/uni-si/R2S4/DNN/End_project/images/train_v2/card_62.jpg: 928x1024 30 person_entrys, 23.8ms\n",
      "image 81/120 /repos/uni-si/R2S4/DNN/End_project/images/train_v2/card_63.jpg: 928x1024 30 person_entrys, 34.4ms\n",
      "image 82/120 /repos/uni-si/R2S4/DNN/End_project/images/train_v2/card_64.jpg: 928x1024 30 person_entrys, 45.0ms\n",
      "image 83/120 /repos/uni-si/R2S4/DNN/End_project/images/train_v2/card_65.jpg: 928x1024 30 person_entrys, 24.5ms\n",
      "image 84/120 /repos/uni-si/R2S4/DNN/End_project/images/train_v2/card_66.jpg: 928x1024 30 person_entrys, 44.0ms\n",
      "image 85/120 /repos/uni-si/R2S4/DNN/End_project/images/train_v2/card_67.jpg: 928x1024 30 person_entrys, 24.5ms\n",
      "image 86/120 /repos/uni-si/R2S4/DNN/End_project/images/train_v2/card_68.jpg: 928x1024 30 person_entrys, 24.5ms\n",
      "image 87/120 /repos/uni-si/R2S4/DNN/End_project/images/train_v2/card_69.jpg: 928x1024 30 person_entrys, 24.5ms\n",
      "image 88/120 /repos/uni-si/R2S4/DNN/End_project/images/train_v2/card_7.jpg: 928x1024 12 person_entrys, 23.8ms\n",
      "image 89/120 /repos/uni-si/R2S4/DNN/End_project/images/train_v2/card_70.jpg: 928x1024 30 person_entrys, 23.7ms\n",
      "image 90/120 /repos/uni-si/R2S4/DNN/End_project/images/train_v2/card_71.jpg: 928x1024 30 person_entrys, 24.2ms\n",
      "image 91/120 /repos/uni-si/R2S4/DNN/End_project/images/train_v2/card_72.jpg: 928x1024 30 person_entrys, 24.5ms\n",
      "image 92/120 /repos/uni-si/R2S4/DNN/End_project/images/train_v2/card_73.jpg: 928x1024 30 person_entrys, 24.3ms\n",
      "image 93/120 /repos/uni-si/R2S4/DNN/End_project/images/train_v2/card_74.jpg: 928x1024 30 person_entrys, 24.6ms\n",
      "image 94/120 /repos/uni-si/R2S4/DNN/End_project/images/train_v2/card_75.jpg: 928x1024 30 person_entrys, 24.3ms\n",
      "image 95/120 /repos/uni-si/R2S4/DNN/End_project/images/train_v2/card_76.jpg: 928x1024 30 person_entrys, 23.8ms\n",
      "image 96/120 /repos/uni-si/R2S4/DNN/End_project/images/train_v2/card_77.jpg: 928x1024 30 person_entrys, 24.2ms\n",
      "image 97/120 /repos/uni-si/R2S4/DNN/End_project/images/train_v2/card_78.jpg: 928x1024 30 person_entrys, 37.4ms\n",
      "image 98/120 /repos/uni-si/R2S4/DNN/End_project/images/train_v2/card_79.jpg: 928x1024 30 person_entrys, 23.9ms\n",
      "image 99/120 /repos/uni-si/R2S4/DNN/End_project/images/train_v2/card_8.jpg: 928x1024 12 person_entrys, 33.4ms\n",
      "image 100/120 /repos/uni-si/R2S4/DNN/End_project/images/train_v2/card_80.jpg: 928x1024 30 person_entrys, 24.1ms\n",
      "image 101/120 /repos/uni-si/R2S4/DNN/End_project/images/train_v2/card_81.jpg: 928x1024 30 person_entrys, 24.4ms\n",
      "image 102/120 /repos/uni-si/R2S4/DNN/End_project/images/train_v2/card_82.jpg: 928x1024 30 person_entrys, 35.8ms\n",
      "image 103/120 /repos/uni-si/R2S4/DNN/End_project/images/train_v2/card_83.jpg: 928x1024 30 person_entrys, 24.3ms\n",
      "image 104/120 /repos/uni-si/R2S4/DNN/End_project/images/train_v2/card_84.jpg: 928x1024 30 person_entrys, 24.4ms\n",
      "image 105/120 /repos/uni-si/R2S4/DNN/End_project/images/train_v2/card_85.jpg: 928x1024 30 person_entrys, 24.5ms\n",
      "image 106/120 /repos/uni-si/R2S4/DNN/End_project/images/train_v2/card_86.jpg: 928x1024 30 person_entrys, 31.2ms\n",
      "image 107/120 /repos/uni-si/R2S4/DNN/End_project/images/train_v2/card_87.jpg: 928x1024 30 person_entrys, 24.0ms\n",
      "image 108/120 /repos/uni-si/R2S4/DNN/End_project/images/train_v2/card_88.jpg: 928x1024 30 person_entrys, 24.6ms\n",
      "image 109/120 /repos/uni-si/R2S4/DNN/End_project/images/train_v2/card_89.jpg: 928x1024 30 person_entrys, 25.4ms\n",
      "image 110/120 /repos/uni-si/R2S4/DNN/End_project/images/train_v2/card_9.jpg: 928x1024 12 person_entrys, 24.3ms\n",
      "image 111/120 /repos/uni-si/R2S4/DNN/End_project/images/train_v2/card_90.jpg: 928x1024 30 person_entrys, 23.8ms\n",
      "image 112/120 /repos/uni-si/R2S4/DNN/End_project/images/train_v2/card_91.jpg: 928x1024 24 person_entrys, 24.1ms\n",
      "image 113/120 /repos/uni-si/R2S4/DNN/End_project/images/train_v2/card_92.jpg: 928x1024 24 person_entrys, 24.4ms\n",
      "image 114/120 /repos/uni-si/R2S4/DNN/End_project/images/train_v2/card_93.jpg: 928x1024 24 person_entrys, 49.7ms\n",
      "image 115/120 /repos/uni-si/R2S4/DNN/End_project/images/train_v2/card_94.jpg: 928x1024 24 person_entrys, 24.5ms\n",
      "image 116/120 /repos/uni-si/R2S4/DNN/End_project/images/train_v2/card_95.jpg: 928x1024 24 person_entrys, 24.3ms\n",
      "image 117/120 /repos/uni-si/R2S4/DNN/End_project/images/train_v2/card_96.jpg: 928x1024 24 person_entrys, 24.4ms\n",
      "image 118/120 /repos/uni-si/R2S4/DNN/End_project/images/train_v2/card_97.jpg: 928x1024 24 person_entrys, 24.2ms\n",
      "image 119/120 /repos/uni-si/R2S4/DNN/End_project/images/train_v2/card_98.jpg: 928x1024 24 person_entrys, 23.6ms\n",
      "image 120/120 /repos/uni-si/R2S4/DNN/End_project/images/train_v2/card_99.jpg: 928x1024 24 person_entrys, 31.9ms\n",
      "Speed: 2.9ms preprocess, 26.5ms inference, 1.8ms postprocess per image at shape (1, 3, 928, 1024)\n",
      "\n",
      "image 1/120 /repos/uni-si/R2S4/DNN/End_project/images/valid_v2/card_1.jpg: 928x1024 12 person_entrys, 86.9ms\n",
      "image 2/120 /repos/uni-si/R2S4/DNN/End_project/images/valid_v2/card_10.jpg: 928x1024 12 person_entrys, 85.4ms\n",
      "image 3/120 /repos/uni-si/R2S4/DNN/End_project/images/valid_v2/card_100.jpg: 928x1024 24 person_entrys, 42.3ms\n",
      "image 4/120 /repos/uni-si/R2S4/DNN/End_project/images/valid_v2/card_101.jpg: 928x1024 24 person_entrys, 25.7ms\n",
      "image 5/120 /repos/uni-si/R2S4/DNN/End_project/images/valid_v2/card_102.jpg: 928x1024 24 person_entrys, 25.3ms\n",
      "image 6/120 /repos/uni-si/R2S4/DNN/End_project/images/valid_v2/card_103.jpg: 928x1024 24 person_entrys, 25.3ms\n",
      "image 7/120 /repos/uni-si/R2S4/DNN/End_project/images/valid_v2/card_104.jpg: 928x1024 24 person_entrys, 25.5ms\n",
      "image 8/120 /repos/uni-si/R2S4/DNN/End_project/images/valid_v2/card_105.jpg: 928x1024 24 person_entrys, 25.3ms\n",
      "image 9/120 /repos/uni-si/R2S4/DNN/End_project/images/valid_v2/card_106.jpg: 928x1024 12 person_entrys, 24.8ms\n",
      "image 10/120 /repos/uni-si/R2S4/DNN/End_project/images/valid_v2/card_107.jpg: 928x1024 12 person_entrys, 24.5ms\n",
      "image 11/120 /repos/uni-si/R2S4/DNN/End_project/images/valid_v2/card_108.jpg: 928x1024 12 person_entrys, 24.0ms\n",
      "image 12/120 /repos/uni-si/R2S4/DNN/End_project/images/valid_v2/card_109.jpg: 928x1024 12 person_entrys, 23.5ms\n",
      "image 13/120 /repos/uni-si/R2S4/DNN/End_project/images/valid_v2/card_11.jpg: 928x1024 12 person_entrys, 23.7ms\n",
      "image 14/120 /repos/uni-si/R2S4/DNN/End_project/images/valid_v2/card_110.jpg: 928x1024 12 person_entrys, 39.1ms\n",
      "image 15/120 /repos/uni-si/R2S4/DNN/End_project/images/valid_v2/card_111.jpg: 928x1024 12 person_entrys, 24.6ms\n",
      "image 16/120 /repos/uni-si/R2S4/DNN/End_project/images/valid_v2/card_112.jpg: 928x1024 12 person_entrys, 24.5ms\n",
      "image 17/120 /repos/uni-si/R2S4/DNN/End_project/images/valid_v2/card_113.jpg: 928x1024 12 person_entrys, 24.4ms\n",
      "image 18/120 /repos/uni-si/R2S4/DNN/End_project/images/valid_v2/card_114.jpg: 928x1024 12 person_entrys, 24.7ms\n",
      "image 19/120 /repos/uni-si/R2S4/DNN/End_project/images/valid_v2/card_115.jpg: 928x1024 12 person_entrys, 24.1ms\n",
      "image 20/120 /repos/uni-si/R2S4/DNN/End_project/images/valid_v2/card_116.jpg: 928x1024 12 person_entrys, 24.5ms\n",
      "image 21/120 /repos/uni-si/R2S4/DNN/End_project/images/valid_v2/card_117.jpg: 928x1024 12 person_entrys, 25.6ms\n",
      "image 22/120 /repos/uni-si/R2S4/DNN/End_project/images/valid_v2/card_118.jpg: 928x1024 12 person_entrys, 23.7ms\n",
      "image 23/120 /repos/uni-si/R2S4/DNN/End_project/images/valid_v2/card_119.jpg: 928x1024 12 person_entrys, 24.0ms\n",
      "image 24/120 /repos/uni-si/R2S4/DNN/End_project/images/valid_v2/card_12.jpg: 928x1024 12 person_entrys, 26.8ms\n",
      "image 25/120 /repos/uni-si/R2S4/DNN/End_project/images/valid_v2/card_120.jpg: 928x1024 12 person_entrys, 24.4ms\n",
      "image 26/120 /repos/uni-si/R2S4/DNN/End_project/images/valid_v2/card_13.jpg: 928x1024 12 person_entrys, 24.7ms\n",
      "image 27/120 /repos/uni-si/R2S4/DNN/End_project/images/valid_v2/card_14.jpg: 928x1024 12 person_entrys, 24.5ms\n",
      "image 28/120 /repos/uni-si/R2S4/DNN/End_project/images/valid_v2/card_15.jpg: 928x1024 12 person_entrys, 24.2ms\n",
      "image 29/120 /repos/uni-si/R2S4/DNN/End_project/images/valid_v2/card_16.jpg: 928x1024 12 person_entrys, 24.5ms\n",
      "image 30/120 /repos/uni-si/R2S4/DNN/End_project/images/valid_v2/card_17.jpg: 928x1024 12 person_entrys, 24.6ms\n",
      "image 31/120 /repos/uni-si/R2S4/DNN/End_project/images/valid_v2/card_18.jpg: 928x1024 12 person_entrys, 24.5ms\n",
      "image 32/120 /repos/uni-si/R2S4/DNN/End_project/images/valid_v2/card_19.jpg: 928x1024 12 person_entrys, 24.1ms\n",
      "image 33/120 /repos/uni-si/R2S4/DNN/End_project/images/valid_v2/card_2.jpg: 928x1024 12 person_entrys, 23.9ms\n",
      "image 34/120 /repos/uni-si/R2S4/DNN/End_project/images/valid_v2/card_20.jpg: 928x1024 12 person_entrys, 23.8ms\n",
      "image 35/120 /repos/uni-si/R2S4/DNN/End_project/images/valid_v2/card_21.jpg: 928x1024 12 person_entrys, 24.8ms\n",
      "image 36/120 /repos/uni-si/R2S4/DNN/End_project/images/valid_v2/card_22.jpg: 928x1024 12 person_entrys, 24.3ms\n",
      "image 37/120 /repos/uni-si/R2S4/DNN/End_project/images/valid_v2/card_23.jpg: 928x1024 12 person_entrys, 24.2ms\n",
      "image 38/120 /repos/uni-si/R2S4/DNN/End_project/images/valid_v2/card_24.jpg: 928x1024 12 person_entrys, 24.4ms\n",
      "image 39/120 /repos/uni-si/R2S4/DNN/End_project/images/valid_v2/card_25.jpg: 928x1024 12 person_entrys, 27.9ms\n",
      "image 40/120 /repos/uni-si/R2S4/DNN/End_project/images/valid_v2/card_26.jpg: 928x1024 12 person_entrys, 24.9ms\n",
      "image 41/120 /repos/uni-si/R2S4/DNN/End_project/images/valid_v2/card_27.jpg: 928x1024 12 person_entrys, 23.7ms\n",
      "image 42/120 /repos/uni-si/R2S4/DNN/End_project/images/valid_v2/card_28.jpg: 928x1024 12 person_entrys, 23.8ms\n",
      "image 43/120 /repos/uni-si/R2S4/DNN/End_project/images/valid_v2/card_29.jpg: 928x1024 12 person_entrys, 24.3ms\n",
      "image 44/120 /repos/uni-si/R2S4/DNN/End_project/images/valid_v2/card_3.jpg: 928x1024 12 person_entrys, 46.8ms\n",
      "image 45/120 /repos/uni-si/R2S4/DNN/End_project/images/valid_v2/card_30.jpg: 928x1024 12 person_entrys, 35.3ms\n",
      "image 46/120 /repos/uni-si/R2S4/DNN/End_project/images/valid_v2/card_31.jpg: 928x1024 20 person_entrys, 24.3ms\n",
      "image 47/120 /repos/uni-si/R2S4/DNN/End_project/images/valid_v2/card_32.jpg: 928x1024 20 person_entrys, 24.5ms\n",
      "image 48/120 /repos/uni-si/R2S4/DNN/End_project/images/valid_v2/card_33.jpg: 928x1024 20 person_entrys, 25.1ms\n",
      "image 49/120 /repos/uni-si/R2S4/DNN/End_project/images/valid_v2/card_34.jpg: 928x1024 20 person_entrys, 24.3ms\n",
      "image 50/120 /repos/uni-si/R2S4/DNN/End_project/images/valid_v2/card_35.jpg: 928x1024 20 person_entrys, 24.7ms\n",
      "image 51/120 /repos/uni-si/R2S4/DNN/End_project/images/valid_v2/card_36.jpg: 928x1024 20 person_entrys, 24.4ms\n",
      "image 52/120 /repos/uni-si/R2S4/DNN/End_project/images/valid_v2/card_37.jpg: 928x1024 20 person_entrys, 24.4ms\n",
      "image 53/120 /repos/uni-si/R2S4/DNN/End_project/images/valid_v2/card_38.jpg: 928x1024 20 person_entrys, 24.3ms\n",
      "image 54/120 /repos/uni-si/R2S4/DNN/End_project/images/valid_v2/card_39.jpg: 928x1024 20 person_entrys, 23.7ms\n",
      "image 55/120 /repos/uni-si/R2S4/DNN/End_project/images/valid_v2/card_4.jpg: 928x1024 12 person_entrys, 23.8ms\n",
      "image 56/120 /repos/uni-si/R2S4/DNN/End_project/images/valid_v2/card_40.jpg: 928x1024 20 person_entrys, 55.3ms\n",
      "image 57/120 /repos/uni-si/R2S4/DNN/End_project/images/valid_v2/card_41.jpg: 928x1024 20 person_entrys, 23.9ms\n",
      "image 58/120 /repos/uni-si/R2S4/DNN/End_project/images/valid_v2/card_42.jpg: 928x1024 20 person_entrys, 23.8ms\n",
      "image 59/120 /repos/uni-si/R2S4/DNN/End_project/images/valid_v2/card_43.jpg: 928x1024 20 person_entrys, 24.0ms\n",
      "image 60/120 /repos/uni-si/R2S4/DNN/End_project/images/valid_v2/card_44.jpg: 928x1024 20 person_entrys, 24.1ms\n",
      "image 61/120 /repos/uni-si/R2S4/DNN/End_project/images/valid_v2/card_45.jpg: 928x1024 20 person_entrys, 25.7ms\n",
      "image 62/120 /repos/uni-si/R2S4/DNN/End_project/images/valid_v2/card_46.jpg: 928x1024 20 person_entrys, 24.5ms\n",
      "image 63/120 /repos/uni-si/R2S4/DNN/End_project/images/valid_v2/card_47.jpg: 928x1024 20 person_entrys, 24.6ms\n",
      "image 64/120 /repos/uni-si/R2S4/DNN/End_project/images/valid_v2/card_48.jpg: 928x1024 20 person_entrys, 24.5ms\n",
      "image 65/120 /repos/uni-si/R2S4/DNN/End_project/images/valid_v2/card_49.jpg: 928x1024 20 person_entrys, 24.4ms\n",
      "image 66/120 /repos/uni-si/R2S4/DNN/End_project/images/valid_v2/card_5.jpg: 928x1024 12 person_entrys, 24.2ms\n",
      "image 67/120 /repos/uni-si/R2S4/DNN/End_project/images/valid_v2/card_50.jpg: 928x1024 20 person_entrys, 48.8ms\n",
      "image 68/120 /repos/uni-si/R2S4/DNN/End_project/images/valid_v2/card_51.jpg: 928x1024 20 person_entrys, 24.4ms\n",
      "image 69/120 /repos/uni-si/R2S4/DNN/End_project/images/valid_v2/card_52.jpg: 928x1024 20 person_entrys, 24.6ms\n",
      "image 70/120 /repos/uni-si/R2S4/DNN/End_project/images/valid_v2/card_53.jpg: 928x1024 20 person_entrys, 55.5ms\n",
      "image 71/120 /repos/uni-si/R2S4/DNN/End_project/images/valid_v2/card_54.jpg: 928x1024 20 person_entrys, 28.4ms\n",
      "image 72/120 /repos/uni-si/R2S4/DNN/End_project/images/valid_v2/card_55.jpg: 928x1024 20 person_entrys, 27.5ms\n",
      "image 73/120 /repos/uni-si/R2S4/DNN/End_project/images/valid_v2/card_56.jpg: 928x1024 20 person_entrys, 31.6ms\n",
      "image 74/120 /repos/uni-si/R2S4/DNN/End_project/images/valid_v2/card_57.jpg: 928x1024 20 person_entrys, 24.6ms\n",
      "image 75/120 /repos/uni-si/R2S4/DNN/End_project/images/valid_v2/card_58.jpg: 928x1024 20 person_entrys, 24.6ms\n",
      "image 76/120 /repos/uni-si/R2S4/DNN/End_project/images/valid_v2/card_59.jpg: 928x1024 20 person_entrys, 23.7ms\n",
      "image 77/120 /repos/uni-si/R2S4/DNN/End_project/images/valid_v2/card_6.jpg: 928x1024 12 person_entrys, 23.7ms\n",
      "image 78/120 /repos/uni-si/R2S4/DNN/End_project/images/valid_v2/card_60.jpg: 928x1024 20 person_entrys, 23.5ms\n",
      "image 79/120 /repos/uni-si/R2S4/DNN/End_project/images/valid_v2/card_61.jpg: 928x1024 30 person_entrys, 23.6ms\n",
      "image 80/120 /repos/uni-si/R2S4/DNN/End_project/images/valid_v2/card_62.jpg: 928x1024 30 person_entrys, 36.8ms\n",
      "image 81/120 /repos/uni-si/R2S4/DNN/End_project/images/valid_v2/card_63.jpg: 928x1024 30 person_entrys, 24.1ms\n",
      "image 82/120 /repos/uni-si/R2S4/DNN/End_project/images/valid_v2/card_64.jpg: 928x1024 30 person_entrys, 24.4ms\n",
      "image 83/120 /repos/uni-si/R2S4/DNN/End_project/images/valid_v2/card_65.jpg: 928x1024 30 person_entrys, 24.6ms\n",
      "image 84/120 /repos/uni-si/R2S4/DNN/End_project/images/valid_v2/card_66.jpg: 928x1024 30 person_entrys, 25.2ms\n",
      "image 85/120 /repos/uni-si/R2S4/DNN/End_project/images/valid_v2/card_67.jpg: 928x1024 30 person_entrys, 24.5ms\n",
      "image 86/120 /repos/uni-si/R2S4/DNN/End_project/images/valid_v2/card_68.jpg: 928x1024 30 person_entrys, 26.7ms\n",
      "image 87/120 /repos/uni-si/R2S4/DNN/End_project/images/valid_v2/card_69.jpg: 928x1024 30 person_entrys, 23.8ms\n",
      "image 88/120 /repos/uni-si/R2S4/DNN/End_project/images/valid_v2/card_7.jpg: 928x1024 12 person_entrys, 24.2ms\n",
      "image 89/120 /repos/uni-si/R2S4/DNN/End_project/images/valid_v2/card_70.jpg: 928x1024 30 person_entrys, 24.4ms\n",
      "image 90/120 /repos/uni-si/R2S4/DNN/End_project/images/valid_v2/card_71.jpg: 928x1024 30 person_entrys, 24.2ms\n",
      "image 91/120 /repos/uni-si/R2S4/DNN/End_project/images/valid_v2/card_72.jpg: 928x1024 30 person_entrys, 24.3ms\n",
      "image 92/120 /repos/uni-si/R2S4/DNN/End_project/images/valid_v2/card_73.jpg: 928x1024 30 person_entrys, 24.4ms\n",
      "image 93/120 /repos/uni-si/R2S4/DNN/End_project/images/valid_v2/card_74.jpg: 928x1024 30 person_entrys, 24.7ms\n",
      "image 94/120 /repos/uni-si/R2S4/DNN/End_project/images/valid_v2/card_75.jpg: 928x1024 30 person_entrys, 24.3ms\n",
      "image 95/120 /repos/uni-si/R2S4/DNN/End_project/images/valid_v2/card_76.jpg: 928x1024 30 person_entrys, 24.3ms\n",
      "image 96/120 /repos/uni-si/R2S4/DNN/End_project/images/valid_v2/card_77.jpg: 928x1024 30 person_entrys, 50.1ms\n",
      "image 97/120 /repos/uni-si/R2S4/DNN/End_project/images/valid_v2/card_78.jpg: 928x1024 30 person_entrys, 24.6ms\n",
      "image 98/120 /repos/uni-si/R2S4/DNN/End_project/images/valid_v2/card_79.jpg: 928x1024 30 person_entrys, 24.3ms\n",
      "image 99/120 /repos/uni-si/R2S4/DNN/End_project/images/valid_v2/card_8.jpg: 928x1024 12 person_entrys, 24.2ms\n",
      "image 100/120 /repos/uni-si/R2S4/DNN/End_project/images/valid_v2/card_80.jpg: 928x1024 30 person_entrys, 24.4ms\n",
      "image 101/120 /repos/uni-si/R2S4/DNN/End_project/images/valid_v2/card_81.jpg: 928x1024 30 person_entrys, 24.1ms\n",
      "image 102/120 /repos/uni-si/R2S4/DNN/End_project/images/valid_v2/card_82.jpg: 928x1024 30 person_entrys, 23.8ms\n",
      "image 103/120 /repos/uni-si/R2S4/DNN/End_project/images/valid_v2/card_83.jpg: 928x1024 30 person_entrys, 23.9ms\n",
      "image 104/120 /repos/uni-si/R2S4/DNN/End_project/images/valid_v2/card_84.jpg: 928x1024 30 person_entrys, 23.6ms\n",
      "image 105/120 /repos/uni-si/R2S4/DNN/End_project/images/valid_v2/card_85.jpg: 928x1024 30 person_entrys, 25.5ms\n",
      "image 106/120 /repos/uni-si/R2S4/DNN/End_project/images/valid_v2/card_86.jpg: 928x1024 30 person_entrys, 24.7ms\n",
      "image 107/120 /repos/uni-si/R2S4/DNN/End_project/images/valid_v2/card_87.jpg: 928x1024 30 person_entrys, 24.2ms\n",
      "image 108/120 /repos/uni-si/R2S4/DNN/End_project/images/valid_v2/card_88.jpg: 928x1024 30 person_entrys, 24.4ms\n",
      "image 109/120 /repos/uni-si/R2S4/DNN/End_project/images/valid_v2/card_89.jpg: 928x1024 30 person_entrys, 24.7ms\n",
      "image 110/120 /repos/uni-si/R2S4/DNN/End_project/images/valid_v2/card_9.jpg: 928x1024 12 person_entrys, 24.2ms\n",
      "image 111/120 /repos/uni-si/R2S4/DNN/End_project/images/valid_v2/card_90.jpg: 928x1024 30 person_entrys, 24.4ms\n",
      "image 112/120 /repos/uni-si/R2S4/DNN/End_project/images/valid_v2/card_91.jpg: 928x1024 24 person_entrys, 39.1ms\n",
      "image 113/120 /repos/uni-si/R2S4/DNN/End_project/images/valid_v2/card_92.jpg: 928x1024 24 person_entrys, 24.3ms\n",
      "image 114/120 /repos/uni-si/R2S4/DNN/End_project/images/valid_v2/card_93.jpg: 928x1024 24 person_entrys, 50.2ms\n",
      "image 115/120 /repos/uni-si/R2S4/DNN/End_project/images/valid_v2/card_94.jpg: 928x1024 24 person_entrys, 23.8ms\n",
      "image 116/120 /repos/uni-si/R2S4/DNN/End_project/images/valid_v2/card_95.jpg: 928x1024 24 person_entrys, 23.9ms\n",
      "image 117/120 /repos/uni-si/R2S4/DNN/End_project/images/valid_v2/card_96.jpg: 928x1024 24 person_entrys, 24.3ms\n",
      "image 118/120 /repos/uni-si/R2S4/DNN/End_project/images/valid_v2/card_97.jpg: 928x1024 24 person_entrys, 24.1ms\n",
      "image 119/120 /repos/uni-si/R2S4/DNN/End_project/images/valid_v2/card_98.jpg: 928x1024 24 person_entrys, 24.6ms\n",
      "image 120/120 /repos/uni-si/R2S4/DNN/End_project/images/valid_v2/card_99.jpg: 928x1024 24 person_entrys, 24.3ms\n",
      "Speed: 3.0ms preprocess, 27.5ms inference, 2.0ms postprocess per image at shape (1, 3, 928, 1024)\n",
      "\n",
      "image 1/120 /repos/uni-si/R2S4/DNN/End_project/images/test_v2/card_1.jpg: 928x1024 12 person_entrys, 78.0ms\n",
      "image 2/120 /repos/uni-si/R2S4/DNN/End_project/images/test_v2/card_10.jpg: 928x1024 12 person_entrys, 70.2ms\n",
      "image 3/120 /repos/uni-si/R2S4/DNN/End_project/images/test_v2/card_100.jpg: 928x1024 24 person_entrys, 49.7ms\n",
      "image 4/120 /repos/uni-si/R2S4/DNN/End_project/images/test_v2/card_101.jpg: 928x1024 24 person_entrys, 50.7ms\n",
      "image 5/120 /repos/uni-si/R2S4/DNN/End_project/images/test_v2/card_102.jpg: 928x1024 24 person_entrys, 49.1ms\n",
      "image 6/120 /repos/uni-si/R2S4/DNN/End_project/images/test_v2/card_103.jpg: 928x1024 24 person_entrys, 25.4ms\n",
      "image 7/120 /repos/uni-si/R2S4/DNN/End_project/images/test_v2/card_104.jpg: 928x1024 24 person_entrys, 26.0ms\n",
      "image 8/120 /repos/uni-si/R2S4/DNN/End_project/images/test_v2/card_105.jpg: 928x1024 24 person_entrys, 45.0ms\n",
      "image 9/120 /repos/uni-si/R2S4/DNN/End_project/images/test_v2/card_106.jpg: 928x1024 12 person_entrys, 25.1ms\n",
      "image 10/120 /repos/uni-si/R2S4/DNN/End_project/images/test_v2/card_107.jpg: 928x1024 12 person_entrys, 30.7ms\n",
      "image 11/120 /repos/uni-si/R2S4/DNN/End_project/images/test_v2/card_108.jpg: 928x1024 12 person_entrys, 29.6ms\n",
      "image 12/120 /repos/uni-si/R2S4/DNN/End_project/images/test_v2/card_109.jpg: 928x1024 12 person_entrys, 24.1ms\n",
      "image 13/120 /repos/uni-si/R2S4/DNN/End_project/images/test_v2/card_11.jpg: 928x1024 12 person_entrys, 24.2ms\n",
      "image 14/120 /repos/uni-si/R2S4/DNN/End_project/images/test_v2/card_110.jpg: 928x1024 12 person_entrys, 24.1ms\n",
      "image 15/120 /repos/uni-si/R2S4/DNN/End_project/images/test_v2/card_111.jpg: 928x1024 12 person_entrys, 24.3ms\n",
      "image 16/120 /repos/uni-si/R2S4/DNN/End_project/images/test_v2/card_112.jpg: 928x1024 12 person_entrys, 24.2ms\n",
      "image 17/120 /repos/uni-si/R2S4/DNN/End_project/images/test_v2/card_113.jpg: 928x1024 12 person_entrys, 23.6ms\n",
      "image 18/120 /repos/uni-si/R2S4/DNN/End_project/images/test_v2/card_114.jpg: 928x1024 12 person_entrys, 23.6ms\n",
      "image 19/120 /repos/uni-si/R2S4/DNN/End_project/images/test_v2/card_115.jpg: 928x1024 12 person_entrys, 24.5ms\n",
      "image 20/120 /repos/uni-si/R2S4/DNN/End_project/images/test_v2/card_116.jpg: 928x1024 12 person_entrys, 38.8ms\n",
      "image 21/120 /repos/uni-si/R2S4/DNN/End_project/images/test_v2/card_117.jpg: 928x1024 12 person_entrys, 27.9ms\n",
      "image 22/120 /repos/uni-si/R2S4/DNN/End_project/images/test_v2/card_118.jpg: 928x1024 12 person_entrys, 24.2ms\n",
      "image 23/120 /repos/uni-si/R2S4/DNN/End_project/images/test_v2/card_119.jpg: 928x1024 12 person_entrys, 24.3ms\n",
      "image 24/120 /repos/uni-si/R2S4/DNN/End_project/images/test_v2/card_12.jpg: 928x1024 12 person_entrys, 27.9ms\n",
      "image 25/120 /repos/uni-si/R2S4/DNN/End_project/images/test_v2/card_120.jpg: 928x1024 12 person_entrys, 32.9ms\n",
      "image 26/120 /repos/uni-si/R2S4/DNN/End_project/images/test_v2/card_13.jpg: 928x1024 12 person_entrys, 25.9ms\n",
      "image 27/120 /repos/uni-si/R2S4/DNN/End_project/images/test_v2/card_14.jpg: 928x1024 12 person_entrys, 24.5ms\n",
      "image 28/120 /repos/uni-si/R2S4/DNN/End_project/images/test_v2/card_15.jpg: 928x1024 12 person_entrys, 23.8ms\n",
      "image 29/120 /repos/uni-si/R2S4/DNN/End_project/images/test_v2/card_16.jpg: 928x1024 12 person_entrys, 23.6ms\n",
      "image 30/120 /repos/uni-si/R2S4/DNN/End_project/images/test_v2/card_17.jpg: 928x1024 12 person_entrys, 23.4ms\n",
      "image 31/120 /repos/uni-si/R2S4/DNN/End_project/images/test_v2/card_18.jpg: 928x1024 12 person_entrys, 24.0ms\n",
      "image 32/120 /repos/uni-si/R2S4/DNN/End_project/images/test_v2/card_19.jpg: 928x1024 12 person_entrys, 24.4ms\n",
      "image 33/120 /repos/uni-si/R2S4/DNN/End_project/images/test_v2/card_2.jpg: 928x1024 12 person_entrys, 24.1ms\n",
      "image 34/120 /repos/uni-si/R2S4/DNN/End_project/images/test_v2/card_20.jpg: 928x1024 12 person_entrys, 24.2ms\n",
      "image 35/120 /repos/uni-si/R2S4/DNN/End_project/images/test_v2/card_21.jpg: 928x1024 12 person_entrys, 26.1ms\n",
      "image 36/120 /repos/uni-si/R2S4/DNN/End_project/images/test_v2/card_22.jpg: 928x1024 12 person_entrys, 30.7ms\n",
      "image 37/120 /repos/uni-si/R2S4/DNN/End_project/images/test_v2/card_23.jpg: 928x1024 12 person_entrys, 24.2ms\n",
      "image 38/120 /repos/uni-si/R2S4/DNN/End_project/images/test_v2/card_24.jpg: 928x1024 12 person_entrys, 25.9ms\n",
      "image 39/120 /repos/uni-si/R2S4/DNN/End_project/images/test_v2/card_25.jpg: 928x1024 12 person_entrys, 24.7ms\n",
      "image 40/120 /repos/uni-si/R2S4/DNN/End_project/images/test_v2/card_26.jpg: 928x1024 12 person_entrys, 29.1ms\n",
      "image 41/120 /repos/uni-si/R2S4/DNN/End_project/images/test_v2/card_27.jpg: 928x1024 12 person_entrys, 30.9ms\n",
      "image 42/120 /repos/uni-si/R2S4/DNN/End_project/images/test_v2/card_28.jpg: 928x1024 12 person_entrys, 24.3ms\n",
      "image 43/120 /repos/uni-si/R2S4/DNN/End_project/images/test_v2/card_29.jpg: 928x1024 12 person_entrys, 25.5ms\n",
      "image 44/120 /repos/uni-si/R2S4/DNN/End_project/images/test_v2/card_3.jpg: 928x1024 12 person_entrys, 24.3ms\n",
      "image 45/120 /repos/uni-si/R2S4/DNN/End_project/images/test_v2/card_30.jpg: 928x1024 12 person_entrys, 24.2ms\n",
      "image 46/120 /repos/uni-si/R2S4/DNN/End_project/images/test_v2/card_31.jpg: 928x1024 20 person_entrys, 23.5ms\n",
      "image 47/120 /repos/uni-si/R2S4/DNN/End_project/images/test_v2/card_32.jpg: 928x1024 20 person_entrys, 24.3ms\n",
      "image 48/120 /repos/uni-si/R2S4/DNN/End_project/images/test_v2/card_33.jpg: 928x1024 20 person_entrys, 24.1ms\n",
      "image 49/120 /repos/uni-si/R2S4/DNN/End_project/images/test_v2/card_34.jpg: 928x1024 20 person_entrys, 24.3ms\n",
      "image 50/120 /repos/uni-si/R2S4/DNN/End_project/images/test_v2/card_35.jpg: 928x1024 20 person_entrys, 24.3ms\n",
      "image 51/120 /repos/uni-si/R2S4/DNN/End_project/images/test_v2/card_36.jpg: 928x1024 20 person_entrys, 35.5ms\n",
      "image 52/120 /repos/uni-si/R2S4/DNN/End_project/images/test_v2/card_37.jpg: 928x1024 20 person_entrys, 24.0ms\n",
      "image 53/120 /repos/uni-si/R2S4/DNN/End_project/images/test_v2/card_38.jpg: 928x1024 20 person_entrys, 24.3ms\n",
      "image 54/120 /repos/uni-si/R2S4/DNN/End_project/images/test_v2/card_39.jpg: 928x1024 20 person_entrys, 24.2ms\n",
      "image 55/120 /repos/uni-si/R2S4/DNN/End_project/images/test_v2/card_4.jpg: 928x1024 12 person_entrys, 24.0ms\n",
      "image 56/120 /repos/uni-si/R2S4/DNN/End_project/images/test_v2/card_40.jpg: 928x1024 20 person_entrys, 23.7ms\n",
      "image 57/120 /repos/uni-si/R2S4/DNN/End_project/images/test_v2/card_41.jpg: 928x1024 20 person_entrys, 23.4ms\n",
      "image 58/120 /repos/uni-si/R2S4/DNN/End_project/images/test_v2/card_42.jpg: 928x1024 20 person_entrys, 24.1ms\n",
      "image 59/120 /repos/uni-si/R2S4/DNN/End_project/images/test_v2/card_43.jpg: 928x1024 20 person_entrys, 24.1ms\n",
      "image 60/120 /repos/uni-si/R2S4/DNN/End_project/images/test_v2/card_44.jpg: 928x1024 20 person_entrys, 24.1ms\n",
      "image 61/120 /repos/uni-si/R2S4/DNN/End_project/images/test_v2/card_45.jpg: 928x1024 20 person_entrys, 24.2ms\n",
      "image 62/120 /repos/uni-si/R2S4/DNN/End_project/images/test_v2/card_46.jpg: 928x1024 20 person_entrys, 23.6ms\n",
      "image 63/120 /repos/uni-si/R2S4/DNN/End_project/images/test_v2/card_47.jpg: 928x1024 20 person_entrys, 39.4ms\n",
      "image 64/120 /repos/uni-si/R2S4/DNN/End_project/images/test_v2/card_48.jpg: 928x1024 20 person_entrys, 24.2ms\n",
      "image 65/120 /repos/uni-si/R2S4/DNN/End_project/images/test_v2/card_49.jpg: 928x1024 20 person_entrys, 40.0ms\n",
      "image 66/120 /repos/uni-si/R2S4/DNN/End_project/images/test_v2/card_5.jpg: 928x1024 12 person_entrys, 24.4ms\n",
      "image 67/120 /repos/uni-si/R2S4/DNN/End_project/images/test_v2/card_50.jpg: 928x1024 20 person_entrys, 24.4ms\n",
      "image 68/120 /repos/uni-si/R2S4/DNN/End_project/images/test_v2/card_51.jpg: 928x1024 20 person_entrys, 23.3ms\n",
      "image 69/120 /repos/uni-si/R2S4/DNN/End_project/images/test_v2/card_52.jpg: 928x1024 20 person_entrys, 23.6ms\n",
      "image 70/120 /repos/uni-si/R2S4/DNN/End_project/images/test_v2/card_53.jpg: 928x1024 20 person_entrys, 23.9ms\n",
      "image 71/120 /repos/uni-si/R2S4/DNN/End_project/images/test_v2/card_54.jpg: 928x1024 20 person_entrys, 24.4ms\n",
      "image 72/120 /repos/uni-si/R2S4/DNN/End_project/images/test_v2/card_55.jpg: 928x1024 20 person_entrys, 24.1ms\n",
      "image 73/120 /repos/uni-si/R2S4/DNN/End_project/images/test_v2/card_56.jpg: 928x1024 20 person_entrys, 32.4ms\n",
      "image 74/120 /repos/uni-si/R2S4/DNN/End_project/images/test_v2/card_57.jpg: 928x1024 20 person_entrys, 24.1ms\n",
      "image 75/120 /repos/uni-si/R2S4/DNN/End_project/images/test_v2/card_58.jpg: 928x1024 20 person_entrys, 24.0ms\n",
      "image 76/120 /repos/uni-si/R2S4/DNN/End_project/images/test_v2/card_59.jpg: 928x1024 20 person_entrys, 24.2ms\n",
      "image 77/120 /repos/uni-si/R2S4/DNN/End_project/images/test_v2/card_6.jpg: 928x1024 12 person_entrys, 24.2ms\n",
      "image 78/120 /repos/uni-si/R2S4/DNN/End_project/images/test_v2/card_60.jpg: 928x1024 20 person_entrys, 24.2ms\n",
      "image 79/120 /repos/uni-si/R2S4/DNN/End_project/images/test_v2/card_61.jpg: 928x1024 30 person_entrys, 23.6ms\n",
      "image 80/120 /repos/uni-si/R2S4/DNN/End_project/images/test_v2/card_62.jpg: 928x1024 30 person_entrys, 23.3ms\n",
      "image 81/120 /repos/uni-si/R2S4/DNN/End_project/images/test_v2/card_63.jpg: 928x1024 30 person_entrys, 24.1ms\n",
      "image 82/120 /repos/uni-si/R2S4/DNN/End_project/images/test_v2/card_64.jpg: 928x1024 30 person_entrys, 24.4ms\n",
      "image 83/120 /repos/uni-si/R2S4/DNN/End_project/images/test_v2/card_65.jpg: 928x1024 30 person_entrys, 24.2ms\n",
      "image 84/120 /repos/uni-si/R2S4/DNN/End_project/images/test_v2/card_66.jpg: 928x1024 30 person_entrys, 24.4ms\n",
      "image 85/120 /repos/uni-si/R2S4/DNN/End_project/images/test_v2/card_67.jpg: 928x1024 30 person_entrys, 24.0ms\n",
      "image 86/120 /repos/uni-si/R2S4/DNN/End_project/images/test_v2/card_68.jpg: 928x1024 30 person_entrys, 23.4ms\n",
      "image 87/120 /repos/uni-si/R2S4/DNN/End_project/images/test_v2/card_69.jpg: 928x1024 30 person_entrys, 43.4ms\n",
      "image 88/120 /repos/uni-si/R2S4/DNN/End_project/images/test_v2/card_7.jpg: 928x1024 12 person_entrys, 23.6ms\n",
      "image 89/120 /repos/uni-si/R2S4/DNN/End_project/images/test_v2/card_70.jpg: 928x1024 30 person_entrys, 23.5ms\n",
      "image 90/120 /repos/uni-si/R2S4/DNN/End_project/images/test_v2/card_71.jpg: 928x1024 30 person_entrys, 23.3ms\n",
      "image 91/120 /repos/uni-si/R2S4/DNN/End_project/images/test_v2/card_72.jpg: 928x1024 30 person_entrys, 24.2ms\n",
      "image 92/120 /repos/uni-si/R2S4/DNN/End_project/images/test_v2/card_73.jpg: 928x1024 30 person_entrys, 24.0ms\n",
      "image 93/120 /repos/uni-si/R2S4/DNN/End_project/images/test_v2/card_74.jpg: 928x1024 30 person_entrys, 24.2ms\n",
      "image 94/120 /repos/uni-si/R2S4/DNN/End_project/images/test_v2/card_75.jpg: 928x1024 30 person_entrys, 24.5ms\n",
      "image 95/120 /repos/uni-si/R2S4/DNN/End_project/images/test_v2/card_76.jpg: 928x1024 30 person_entrys, 23.4ms\n",
      "image 96/120 /repos/uni-si/R2S4/DNN/End_project/images/test_v2/card_77.jpg: 928x1024 30 person_entrys, 23.6ms\n",
      "image 97/120 /repos/uni-si/R2S4/DNN/End_project/images/test_v2/card_78.jpg: 928x1024 30 person_entrys, 24.1ms\n",
      "image 98/120 /repos/uni-si/R2S4/DNN/End_project/images/test_v2/card_79.jpg: 928x1024 30 person_entrys, 24.4ms\n",
      "image 99/120 /repos/uni-si/R2S4/DNN/End_project/images/test_v2/card_8.jpg: 928x1024 12 person_entrys, 24.2ms\n",
      "image 100/120 /repos/uni-si/R2S4/DNN/End_project/images/test_v2/card_80.jpg: 928x1024 30 person_entrys, 24.0ms\n",
      "image 101/120 /repos/uni-si/R2S4/DNN/End_project/images/test_v2/card_81.jpg: 928x1024 30 person_entrys, 24.0ms\n",
      "image 102/120 /repos/uni-si/R2S4/DNN/End_project/images/test_v2/card_82.jpg: 928x1024 30 person_entrys, 23.9ms\n",
      "image 103/120 /repos/uni-si/R2S4/DNN/End_project/images/test_v2/card_83.jpg: 928x1024 30 person_entrys, 24.1ms\n",
      "image 104/120 /repos/uni-si/R2S4/DNN/End_project/images/test_v2/card_84.jpg: 928x1024 30 person_entrys, 23.9ms\n",
      "image 105/120 /repos/uni-si/R2S4/DNN/End_project/images/test_v2/card_85.jpg: 928x1024 30 person_entrys, 24.4ms\n",
      "image 106/120 /repos/uni-si/R2S4/DNN/End_project/images/test_v2/card_86.jpg: 928x1024 30 person_entrys, 24.4ms\n",
      "image 107/120 /repos/uni-si/R2S4/DNN/End_project/images/test_v2/card_87.jpg: 928x1024 30 person_entrys, 23.6ms\n",
      "image 108/120 /repos/uni-si/R2S4/DNN/End_project/images/test_v2/card_88.jpg: 928x1024 30 person_entrys, 23.5ms\n",
      "image 109/120 /repos/uni-si/R2S4/DNN/End_project/images/test_v2/card_89.jpg: 928x1024 30 person_entrys, 23.9ms\n",
      "image 110/120 /repos/uni-si/R2S4/DNN/End_project/images/test_v2/card_9.jpg: 928x1024 12 person_entrys, 24.2ms\n",
      "image 111/120 /repos/uni-si/R2S4/DNN/End_project/images/test_v2/card_90.jpg: 928x1024 30 person_entrys, 24.1ms\n",
      "image 112/120 /repos/uni-si/R2S4/DNN/End_project/images/test_v2/card_91.jpg: 928x1024 24 person_entrys, 24.3ms\n",
      "image 113/120 /repos/uni-si/R2S4/DNN/End_project/images/test_v2/card_92.jpg: 928x1024 24 person_entrys, 23.7ms\n",
      "image 114/120 /repos/uni-si/R2S4/DNN/End_project/images/test_v2/card_93.jpg: 928x1024 24 person_entrys, 23.5ms\n",
      "image 115/120 /repos/uni-si/R2S4/DNN/End_project/images/test_v2/card_94.jpg: 928x1024 24 person_entrys, 23.5ms\n",
      "image 116/120 /repos/uni-si/R2S4/DNN/End_project/images/test_v2/card_95.jpg: 928x1024 24 person_entrys, 23.4ms\n",
      "image 117/120 /repos/uni-si/R2S4/DNN/End_project/images/test_v2/card_96.jpg: 928x1024 24 person_entrys, 24.3ms\n",
      "image 118/120 /repos/uni-si/R2S4/DNN/End_project/images/test_v2/card_97.jpg: 928x1024 24 person_entrys, 24.2ms\n",
      "image 119/120 /repos/uni-si/R2S4/DNN/End_project/images/test_v2/card_98.jpg: 928x1024 24 person_entrys, 24.5ms\n",
      "image 120/120 /repos/uni-si/R2S4/DNN/End_project/images/test_v2/card_99.jpg: 928x1024 24 person_entrys, 24.1ms\n",
      "Speed: 2.9ms preprocess, 26.9ms inference, 1.8ms postprocess per image at shape (1, 3, 928, 1024)\n"
     ]
    }
   ],
   "source": [
    "from ultralytics import YOLO\n",
    "model = YOLO('runs/detect/person_entry_model5/weights/best.pt')\n",
    "\n",
    "for i in ['train_v2', 'valid_v2', 'test_v2']:\n",
    "    results = model.predict(\n",
    "        source=f'images/{i}',\n",
    "        save=False,\n",
    "        conf=0.25,\n",
    "        imgsz=1024\n",
    "    )\n",
    "\n",
    "    prepare_yolo2_training_data(f'images/{i}', results, output_img_dir=f'images/{i}_yolo2', output_lbl_dir=f'labels/{i}_yolo2')"
   ]
  },
  {
   "cell_type": "code",
   "execution_count": null,
   "id": "09349832",
   "metadata": {},
   "outputs": [],
   "source": [
    "from ultralytics import YOLO\n",
    "\n",
    "model = YOLO('yolo11x.pt')\n",
    "\n",
    "model.train(\n",
    "    data='split_image_id.yaml',\n",
    "    epochs=100,\n",
    "    imgsz=1024,\n",
    "    batch=8,\n",
    "    name='split_image_id_model'\n",
    ")"
   ]
  },
  {
   "cell_type": "code",
   "execution_count": 64,
   "id": "b2660841",
   "metadata": {},
   "outputs": [],
   "source": [
    "class CardProcessor:\n",
    "    def __init__(self, detection_model=\"yolo11x.pt\", pose_model=\"yolo11x-pose.pt\"):\n",
    "        self.detection_model = YOLO(detection_model)\n",
    "        self.pose_model = YOLO(pose_model)\n",
    "\n",
    "        self.debug_ocr_path = Path(\"debug_ocr_images\")\n",
    "        self.debug_ocr_path.mkdir(exist_ok=True)\n",
    "        self.ocr_debug_counter = 0\n",
    "\n",
    "        try:\n",
    "            self.trocr_processor = TrOCRProcessor.from_pretrained('microsoft/trocr-small-stage1', use_fast=True)\n",
    "            self.trocr_model = VisionEncoderDecoderModel.from_pretrained('microsoft/trocr-small-stage1')\n",
    "            if torch.cuda.is_available() and self.trocr_model is not None:\n",
    "                self.trocr_model.to('cuda')\n",
    "            print(\"TrOCR model loaded successfully.\")\n",
    "        except Exception as e:\n",
    "            print(f\"Error loading TrOCR model: {e}. TrOCR will not be available.\")\n",
    "            self.trocr_processor = None\n",
    "            self.trocr_model = None\n",
    "    \n",
    "    def process_card(self, card_path):\n",
    "        card = cv2.imread(card_path)\n",
    "\n",
    "        image_regions = self.detect_image_regions(card)\n",
    "\n",
    "        print(f\"Found {len(image_regions)} image regions.\")\n",
    "\n",
    "        results = []\n",
    "        valid_count = 0\n",
    "        for i, region in enumerate(image_regions):\n",
    "            crop = self.extract_crop(card, region)\n",
    "            if crop.shape[0] < 50 or crop.shape[1] < 50:\n",
    "                continue\n",
    "        \n",
    "            rotated_crop, angle = self.correct_orientation(crop)\n",
    "        \n",
    "            is_valid = self.validate_photo(rotated_crop)\n",
    "\n",
    "            if is_valid:\n",
    "                valid_count += 1\n",
    "                id = self.find_id(card, region)\n",
    "\n",
    "                results.append({\n",
    "                    'id': id,\n",
    "                    'rotated_crop': rotated_crop,\n",
    "                    'angle': angle,\n",
    "                    'source_card': Path(card_path).name,\n",
    "                    'region_idx': i,\n",
    "                    'region': region\n",
    "                })\n",
    "        print(f\"Valid faces found: {valid_count}/{len(image_regions)}\")\n",
    "        return results\n",
    "    \n",
    "    def detect_image_regions(self, card):\n",
    "        # This method will now primarily use YOLO to detect image content.\n",
    "        # Padding will be added to YOLO detections to make them less tightly cropped.\n",
    "        \n",
    "        yolo_detected_content_regions = []\n",
    "        yolo_results = self.detection_model(card, classes=[0], verbose=False) # classes=[0] for person/face\n",
    "        \n",
    "        # Define padding percentage (e.g., 15% added to each side, so total increase is 30% of original)\n",
    "        # Or, simpler: increase width and height by a factor. Let's try increasing w and h by 20%.\n",
    "        padding_factor_w = 1.20 # Increase width by 20%\n",
    "        padding_factor_h = 1.20 # Increase height by 20%\n",
    "\n",
    "        card_h_for_bounds, card_w_for_bounds = card.shape[:2]\n",
    "\n",
    "        for result in yolo_results:\n",
    "            if result.boxes is not None:\n",
    "                for box in result.boxes:\n",
    "                    if box.conf[0] > 0.3: \n",
    "                        x1, y1, x2, y2 = box.xyxy[0].cpu().numpy()\n",
    "                        \n",
    "                        orig_x, orig_y = int(x1), int(y1)\n",
    "                        orig_w, orig_h = int(x2 - x1), int(y2 - y1)\n",
    "\n",
    "                        if orig_w <= 0 or orig_h <= 0: # Skip invalid original detections\n",
    "                            continue\n",
    "\n",
    "                        # Calculate new dimensions with padding\n",
    "                        padded_w = int(orig_w * padding_factor_w)\n",
    "                        padded_h = int(orig_h * padding_factor_h)\n",
    "\n",
    "                        # Calculate new top-left coordinates, keeping the center\n",
    "                        # delta_w = padded_w - orig_w\n",
    "                        # delta_h = padded_h - orig_h\n",
    "                        # new_x = orig_x - delta_w // 2\n",
    "                        # new_y = orig_y - delta_h // 2\n",
    "                        \n",
    "                        # Simpler: calculate center, then new x1,y1 from new w,h\n",
    "                        center_x = orig_x + orig_w / 2\n",
    "                        center_y = orig_y + orig_h / 2\n",
    "\n",
    "                        new_x = int(round(center_x - padded_w / 2))\n",
    "                        new_y = int(round(center_y - padded_h / 2))\n",
    "                        \n",
    "                        # Ensure padded region is within card boundaries\n",
    "                        final_x = max(0, new_x)\n",
    "                        final_y = max(0, new_y)\n",
    "                        final_w = min(padded_w, card_w_for_bounds - final_x)\n",
    "                        final_h = min(padded_h, card_h_for_bounds - final_y)\n",
    "\n",
    "                        if final_w > 0 and final_h > 0: \n",
    "                            yolo_detected_content_regions.append((final_x, final_y, final_w, final_h))\n",
    "                            \n",
    "        print(f\"YOLO detected and padded {len(yolo_detected_content_regions)} raw content regions.\")\n",
    "\n",
    "        # Deduplicate regions detected by YOLO\n",
    "        unique_yolo_regions = self.remove_duplicate_regions(yolo_detected_content_regions, iou_threshold=0.4) \n",
    "        print(f\"Unique content regions after YOLO deduplication: {len(unique_yolo_regions)}\")\n",
    "        \n",
    "        # Filter these content regions using your existing filter_valid_regions method\n",
    "        # The filter_valid_regions parameters (min_expected_content_dimension = 180, \n",
    "        # max_expected_content_dimension = 330) should be appropriate for these padded regions.\n",
    "        # Original content ~200-283. Padded by 1.2 factor -> ~240-340. This range is mostly\n",
    "        # covered by [180,330], though the upper bound might clip some slightly.\n",
    "        # If issues persist, max_expected_content_dimension might need a slight increase.\n",
    "        valid_content_regions = self.filter_valid_regions(unique_yolo_regions, card.shape)\n",
    "        print(f\"Valid content regions after filtering: {len(valid_content_regions)}\")\n",
    "\n",
    "        final_regions_sorted = sorted(valid_content_regions, key=lambda r: (r[1], r[0]))\n",
    "        \n",
    "        return final_regions_sorted\n",
    "    \n",
    "    def remove_duplicate_regions(self, regions, iou_threshold=0.4):\n",
    "        if not regions:\n",
    "            return []\n",
    "        \n",
    "        regions_list = list(regions)\n",
    "        unique_regions = []\n",
    "\n",
    "        while regions_list:\n",
    "            current_region = regions_list.pop(0) \n",
    "            unique_regions.append(current_region)\n",
    "\n",
    "            remaining_regions_after_check = []\n",
    "            for region_to_compare in regions_list:\n",
    "                iou = self.calculate_iou(current_region, region_to_compare)\n",
    "                if iou <= iou_threshold: \n",
    "                    remaining_regions_after_check.append(region_to_compare)\n",
    "\n",
    "            regions_list = remaining_regions_after_check \n",
    "            \n",
    "        return unique_regions\n",
    "    \n",
    "    def calculate_iou(self, region1, region2):\n",
    "        x1, y1, w1, h1 = region1\n",
    "        x2, y2, w2, h2 = region2\n",
    "\n",
    "        x_intersect = max(x1, x2)\n",
    "        y_intersect = max(y1, y2)\n",
    "        w_intersect = min(x1 + w1, x2 + w2)\n",
    "        h_intersect = min(y1 + h1, y2 + h2)\n",
    "\n",
    "        if w_intersect <= x_intersect or h_intersect <= y_intersect:\n",
    "            return 0\n",
    "        \n",
    "        intersection = (w_intersect - x_intersect) * (h_intersect - y_intersect)\n",
    "\n",
    "        area1 = w1 * h1\n",
    "        area2 = w2 * h2\n",
    "\n",
    "        if area1 == 0 or area2 == 0:\n",
    "            return 0\n",
    "        \n",
    "        iou = intersection / float(area1 + area2 - intersection)\n",
    "\n",
    "        return iou\n",
    "    \n",
    "    def filter_valid_regions(self, regions, card_shape):\n",
    "        valid_regions = []\n",
    "        card_h, card_w = card_shape[:2]\n",
    "        min_size = 100\n",
    "        max_size = min(card_h, card_w) // 3\n",
    "\n",
    "        for x, y, w, h in regions:\n",
    "            aspect_ratio = max(w, h) / min(w, h) if min(w,h) > 0 else 0 \n",
    "            if aspect_ratio > 1.5:\n",
    "                continue\n",
    "            if min_size <= min(w, h) and max(w, h) <= max_size:\n",
    "                margin = 5\n",
    "                if (margin < x < card_w - w - margin and\n",
    "                    margin < y < card_h - h - margin):\n",
    "                    valid_regions.append((x, y, w, h))\n",
    "\n",
    "        return valid_regions\n",
    "    \n",
    "    def find_id(self, card, region):\n",
    "        x, y, w, h = region\n",
    "\n",
    "        search_areas = []\n",
    "\n",
    "        below_y = y + h\n",
    "        below_h = min(80, card.shape[0] - below_y)\n",
    "        search_x = max(0, x + 10)\n",
    "        search_w = min(card.shape[1] - search_x, w + 40)\n",
    "\n",
    "        if below_y + below_h <= card.shape[0] and search_x + search_w <= card.shape[1] and below_h > 0 and search_w > 0:\n",
    "            search_areas.append(('below', (search_x, below_y, search_w, below_h)))\n",
    "        \n",
    "        #above_h = min(60, y)\n",
    "        #if above_h > 10:\n",
    "        #    search_areas.append(('above', (x, max(0, y - above_h), w, above_h)))\n",
    "\n",
    "        #right_x = x + w + 2\n",
    "        #right_w = min(100, card.shape[1] - right_x)\n",
    "        #if right_x + right_w <= card.shape[1]:\n",
    "        #    search_areas.append(('right', (right_x, y, right_w, h)))\n",
    "        \n",
    "        #left_w = min(100, x)\n",
    "        #if left_w > 10:\n",
    "        #    search_areas.append(('left', (max(0, x - left_w), y, left_w, h)))\n",
    "\n",
    "        for location, (sx, sy, sw, sh) in search_areas:\n",
    "            id = self.extract_id(card, (sx, sy, sw, sh))\n",
    "\n",
    "            if id not in [\"ID_NOT_FOUND\", \"ID_NOT_DETECTED\", \"OCR_ERROR\"]:\n",
    "                return id\n",
    "            \n",
    "        return \"ID_NOT_DETECTED\"\n",
    "    \n",
    "    def extract_id(self, card, region):\n",
    "        if self.trocr_model is None or self.trocr_processor is None:\n",
    "            print(\"Debug - TrOCR model not initialized, skipping OCR.\")\n",
    "            return \"OCR_ERROR\"\n",
    "        \n",
    "        x, y, w, h = region\n",
    "\n",
    "        x = max(0, x)\n",
    "        y = max(0, y)\n",
    "        w = min(w, card.shape[1] - x)\n",
    "        h = min(h, card.shape[0] - y)\n",
    "\n",
    "        if w <= 0 or h <= 0:\n",
    "            print(f\"Debug - Invalid crop dimensions for OCR: w={w}, h={h}\")\n",
    "            return \"ID_NOT_FOUND\"\n",
    "        \n",
    "        id_crop = card[y:y+h, x:x+w]\n",
    "\n",
    "        if id_crop.size == 0:\n",
    "            print(f\"Debug - Empty crop for OCR for region {region}\")\n",
    "            return \"ID_NOT_FOUND\"\n",
    "        \n",
    "        min_crop_dim_for_ocr = 10\n",
    "        if id_crop.shape[0] < min_crop_dim_for_ocr or id_crop.shape[1] < min_crop_dim_for_ocr:\n",
    "            print(f\"Debug - OCR crop too small: {id_crop.shape}\")\n",
    "            return \"ID_NOT_DETECTED\"\n",
    "        \n",
    "        ocr_attempt_filename_prefix = f\"ocr_input_{self.ocr_debug_counter}\"\n",
    "        self.ocr_debug_counter += 1\n",
    "\n",
    "        try:\n",
    "            pil_image = Image.fromarray(cv2.cvtColor(id_crop, cv2.COLOR_BGR2RGB))\n",
    "            \n",
    "            pixel_values = self.trocr_processor(images=pil_image, return_tensors=\"pt\").pixel_values\n",
    "            if torch.cuda.is_available():\n",
    "                 pixel_values = pixel_values.to(self.trocr_model.device)\n",
    "\n",
    "            generated_ids = self.trocr_model.generate(pixel_values, max_length=10) \n",
    "\n",
    "            decoded_texts = self.trocr_processor.batch_decode(generated_ids, skip_special_tokens=True)\n",
    "\n",
    "            if not decoded_texts or not decoded_texts[0].strip():\n",
    "                debug_filename = self.debug_ocr_path / f\"{ocr_attempt_filename_prefix}_fails_empty.png\"\n",
    "                cv2.imwrite(str(debug_filename), id_crop)\n",
    "                print(f\"Debug - Saved empty/whitespace OCR crop to {debug_filename}\")\n",
    "                return \"ID_NOT_DETECTED\"\n",
    "\n",
    "            id_text_from_ocr = decoded_texts[0].strip()\n",
    "\n",
    "            numeric_id_text = \"\".join(filter(str.isdigit, id_text_from_ocr))\n",
    "\n",
    "            if not numeric_id_text:\n",
    "                debug_filename = self.debug_ocr_path / f\"{ocr_attempt_filename_prefix}_fails_nonumeric_{id_text_from_ocr.replace(' ','_')}.png\"\n",
    "                cv2.imwrite(str(debug_filename), id_crop)\n",
    "                print(f\"Debug - Saved non-numeric OCR crop to {debug_filename} (Raw: '{id_text_from_ocr}')\")\n",
    "                return \"ID_NOT_DETECTED\"\n",
    "            \n",
    "            print(f\"Debug - TrOCR extracted ID: {numeric_id_text} from region {region}\")\n",
    "            return numeric_id_text\n",
    "\n",
    "        except Exception as e:\n",
    "            print(f\"Debug - Exception during TrOCR processing in extract_id for region {region}: {e}\")\n",
    "            return \"OCR_ERROR\"\n",
    "        \n",
    "    def correct_orientation(self, crop):\n",
    "        best_crop = crop.copy()\n",
    "        best_angle = 0\n",
    "        best_score = 0\n",
    "\n",
    "        angles = list(range(0, 360, 15))\n",
    "\n",
    "        for angle in angles:\n",
    "            if angle == 0:\n",
    "                rotated = crop\n",
    "            else:\n",
    "                rotated = self.rotate_image(crop, angle)\n",
    "\n",
    "            orientation_data = self.analyze_face_orientation(rotated)\n",
    "\n",
    "            if orientation_data['has_face']:\n",
    "                score = self.calculate_orientation_score(orientation_data)\n",
    "                if score > best_score:\n",
    "                    best_score = score\n",
    "                    best_crop = rotated.copy()\n",
    "                    best_angle = angle\n",
    "\n",
    "        if best_angle > 0:\n",
    "            angles = list(range(max(0, best_angle - 10), min(360, best_angle + 11), 1))\n",
    "\n",
    "            for angle in angles:\n",
    "                rotated = self.rotate_image(crop, angle)\n",
    "                orientation_data = self.analyze_face_orientation(rotated)\n",
    "\n",
    "                if orientation_data['has_face']:\n",
    "                    score = self.calculate_orientation_score(orientation_data)\n",
    "                    if score > best_score:\n",
    "                        best_score = score\n",
    "                        best_crop = rotated.copy()\n",
    "                        best_angle = angle\n",
    "\n",
    "        return best_crop, best_angle\n",
    "\n",
    "    def analyze_face_orientation(self, image):\n",
    "\n",
    "        try:\n",
    "            results = self.pose_model(image, verbose=False)\n",
    "\n",
    "            orientation_data = {\n",
    "                'has_face': False,\n",
    "                'confidence': 0,\n",
    "                'face_upright': False,\n",
    "                'keypoints': {},\n",
    "            }\n",
    "\n",
    "            for result in results:\n",
    "                keypoints = result.keypoints\n",
    "                boxes = result.boxes\n",
    "\n",
    "                if keypoints is not None and boxes is not None and len(boxes) > 0:\n",
    "                    if boxes.conf.is_cuda:\n",
    "                        best_idx = torch.argmax(boxes.conf).item()\n",
    "                    else:\n",
    "                        best_idx = np.argmax(boxes.conf.cpu().numpy()).item()\n",
    "\n",
    "                    kp = keypoints[best_idx].cpu()\n",
    "                    box_conf = boxes.conf[best_idx].cpu().item()\n",
    "\n",
    "                    nose_tensor = kp.xy[0][0]\n",
    "                    left_eye_tensor = kp.xy[0][1]\n",
    "                    right_eye_tensor = kp.xy[0][2]\n",
    "\n",
    "                    nose = nose_tensor.tolist() if torch.is_tensor(nose_tensor) and nose_tensor.numel() == 2 else [0,0]\n",
    "                    left_eye = left_eye_tensor.tolist() if torch.is_tensor(left_eye_tensor) and left_eye_tensor.numel() == 2 else [0,0]\n",
    "                    right_eye = right_eye_tensor.tolist() if torch.is_tensor(right_eye_tensor) and right_eye_tensor.numel() == 2 else [0,0]\n",
    "\n",
    "                    valid_keypoints = 0\n",
    "                    if nose[0] > 0 and nose[1] > 0:\n",
    "                        orientation_data['keypoints']['nose'] = nose\n",
    "                        valid_keypoints += 1\n",
    "\n",
    "                    if left_eye[0] > 0 and left_eye[1] > 0:\n",
    "                        orientation_data['keypoints']['left_eye'] = left_eye\n",
    "                        valid_keypoints += 1\n",
    "\n",
    "                    if right_eye[0] > 0 and right_eye[1] > 0:\n",
    "                        orientation_data['keypoints']['right_eye'] = right_eye\n",
    "                        valid_keypoints +=1\n",
    "\n",
    "                    if valid_keypoints >= 2:\n",
    "                        orientation_data['has_face'] = True\n",
    "                        orientation_data['confidence'] = box_conf\n",
    "\n",
    "                        if 'nose' in orientation_data['keypoints'] and ('left_eye' in orientation_data['keypoints'] or 'right_eye' in orientation_data['keypoints']):\n",
    "                            nose_y = orientation_data['keypoints']['nose'][1]\n",
    "                            \n",
    "                            if 'left_eye' in orientation_data['keypoints'] and 'right_eye' in orientation_data['keypoints']:\n",
    "                                avg_eye_y = (orientation_data['keypoints']['left_eye'][1] + orientation_data['keypoints']['right_eye'][1]) / 2\n",
    "                                orientation_data['face_upright'] = avg_eye_y < nose_y\n",
    "                            elif 'left_eye' in orientation_data['keypoints']:\n",
    "                                orientation_data['face_upright'] = orientation_data['keypoints']['left_eye'][1] < nose_y\n",
    "                            elif 'right_eye' in orientation_data['keypoints']:\n",
    "                                orientation_data['face_upright'] = orientation_data['keypoints']['right_eye'][1] < nose_y\n",
    "                            else:\n",
    "                                orientation_data['face_upright'] = False\n",
    "                        else:\n",
    "                            orientation_data['face_upright'] = False\n",
    "                        break\n",
    "            return orientation_data\n",
    "        \n",
    "        except Exception as e:\n",
    "            return {'has_face': False, 'confidence': 0, 'face_upright': False, 'keypoints': {}}\n",
    "        \n",
    "    def calculate_orientation_score(self, orientation_data):\n",
    "        if not orientation_data['has_face']:\n",
    "            return 0\n",
    "        \n",
    "        score = orientation_data['confidence'] * 100\n",
    "\n",
    "        if orientation_data['face_upright']:\n",
    "            score += 50\n",
    "\n",
    "        keypoint_count = len(orientation_data['keypoints'])\n",
    "        score += keypoint_count * 5\n",
    "\n",
    "        return score\n",
    "    \n",
    "    def rotate_image(self, image, angle):\n",
    "        h, w = image.shape[:2]\n",
    "        center = (w // 2, h // 2)\n",
    "\n",
    "        rotation_matrix = cv2.getRotationMatrix2D(center, angle, 1.0)\n",
    "\n",
    "        cos_val = abs(rotation_matrix[0, 0])\n",
    "        sin_val = abs(rotation_matrix[0, 1])\n",
    "        new_w = int((h * sin_val) + (w * cos_val))\n",
    "        new_h = int((h * cos_val) + (w * sin_val))\n",
    "\n",
    "        rotation_matrix[0, 2] += (new_w / 2) - center[0]\n",
    "        rotation_matrix[1, 2] += (new_h / 2) - center[1]\n",
    "\n",
    "        rotated = cv2.warpAffine(image, rotation_matrix, (new_w, new_h), borderMode=cv2.BORDER_CONSTANT, borderValue=(255, 255, 255))\n",
    "\n",
    "        return rotated\n",
    "    \n",
    "    def extract_crop(self, card, region):\n",
    "        x, y, w, h = region\n",
    "        padding = 5\n",
    "        x = max(0, x - padding)\n",
    "        y = max(0, y - padding)\n",
    "        w = min(card.shape[1] - x, w + 2 * padding)\n",
    "        h = min(card.shape[0] - y, h + 2 * padding)\n",
    "\n",
    "        crop = card[y:y+h, x:x+w]\n",
    "        return crop\n",
    "    \n",
    "    def validate_photo(self, crop):\n",
    "        try:\n",
    "            results = self.detection_model(crop, classes=[0], verbose=False)\n",
    "\n",
    "            for result in results:\n",
    "                if result.boxes is not None and len(result.boxes) > 0:\n",
    "                    max_conf = 0\n",
    "                    if result.boxes.conf is not None and len(result.boxes.conf) > 0:\n",
    "                         max_conf = result.boxes.conf.max().item()\n",
    "                    \n",
    "                    return max_conf > 0.05\n",
    "                \n",
    "            return False\n",
    "        except:\n",
    "            return False\n",
    "        \n",
    "\n",
    "def process_cards(input_dir, output_dir):\n",
    "    processor = CardProcessor()\n",
    "\n",
    "    input_path = Path(input_dir)\n",
    "    output_path = Path(output_dir)\n",
    "    output_path.mkdir(exist_ok=True)\n",
    "\n",
    "    all_images_info = []\n",
    "\n",
    "    for image_file in input_path.glob('*.jpg'):\n",
    "        print(f\"Processing {image_file.name}...\")\n",
    "        results = processor.process_card(str(image_file))\n",
    "\n",
    "        for result in results:\n",
    "            id = result['id']\n",
    "            if id in [\"ID_NOT_FOUND\", \"ID_NOT_DETECTED\", \"OCR_ERROR\"]:\n",
    "                filename = f\"unknown_{result['source_card']}_{result['region_idx']}.jpg\"\n",
    "            else:\n",
    "                filename = f\"{id}.jpg\"\n",
    "\n",
    "            output_file = output_path / filename\n",
    "\n",
    "            counter = 1\n",
    "            while output_file.exists():\n",
    "                if id in [\"ID_NOT_FOUND\", \"ID_NOT_DETECTED\", \"OCR_ERROR\"]:\n",
    "                    filename = f\"unknown_{result['source_card']}_{result['region_idx']}_{counter}.jpg\"\n",
    "                else:\n",
    "                    filename = f\"{id}_{counter}.jpg\"\n",
    "                output_file = output_path / filename\n",
    "                counter += 1\n",
    "            \n",
    "            cv2.imwrite(str(output_file), result['rotated_crop'])\n",
    "\n",
    "            all_images_info.append({\n",
    "                'id': result['id'],\n",
    "                'filename': filename,\n",
    "                'source_card': result['source_card'],\n",
    "                'region_idx': result['region_idx'],\n",
    "                'angle': result['angle'],\n",
    "                'region_x': result['region'][0],\n",
    "                'region_y': result['region'][1],\n",
    "                'region_w': result['region'][2],\n",
    "                'region_h': result['region'][3],\n",
    "            })\n",
    "\n",
    "            print(f\"  Saved: {filename} (ID: {result['id']}, rotated: {result['angle']}°)\")\n",
    "\n",
    "    if all_images_info:\n",
    "        df = pd.DataFrame(all_images_info)\n",
    "        df.to_csv(output_path / 'images_info.csv', index=False)\n",
    "\n",
    "        print(f\"\\nProcessing complete!\")\n",
    "        print(f\"Total images saved: {len(all_images_info)}\")\n",
    "        print(f\"All images saved to: {output_path}\")\n",
    "        print(f\"Image info saved to: {output_path / 'all_images.csv'}\")\n",
    "\n",
    "    return all_images_info"
   ]
  },
  {
   "cell_type": "code",
   "execution_count": 65,
   "id": "10184397",
   "metadata": {},
   "outputs": [
    {
     "name": "stderr",
     "output_type": "stream",
     "text": [
      "Config of the encoder: <class 'transformers.models.deit.modeling_deit.DeiTModel'> is overwritten by shared encoder config: DeiTConfig {\n",
      "  \"attention_probs_dropout_prob\": 0.0,\n",
      "  \"encoder_stride\": 16,\n",
      "  \"hidden_act\": \"gelu\",\n",
      "  \"hidden_dropout_prob\": 0.0,\n",
      "  \"hidden_size\": 384,\n",
      "  \"image_size\": 384,\n",
      "  \"initializer_range\": 0.02,\n",
      "  \"intermediate_size\": 1536,\n",
      "  \"layer_norm_eps\": 1e-12,\n",
      "  \"model_type\": \"deit\",\n",
      "  \"num_attention_heads\": 6,\n",
      "  \"num_channels\": 3,\n",
      "  \"num_hidden_layers\": 12,\n",
      "  \"patch_size\": 16,\n",
      "  \"pooler_act\": \"tanh\",\n",
      "  \"pooler_output_size\": 384,\n",
      "  \"qkv_bias\": true,\n",
      "  \"torch_dtype\": \"float32\",\n",
      "  \"transformers_version\": \"4.51.2\"\n",
      "}\n",
      "\n",
      "Config of the decoder: <class 'transformers.models.trocr.modeling_trocr.TrOCRForCausalLM'> is overwritten by shared decoder config: TrOCRConfig {\n",
      "  \"activation_dropout\": 0.0,\n",
      "  \"activation_function\": \"relu\",\n",
      "  \"add_cross_attention\": true,\n",
      "  \"attention_dropout\": 0.0,\n",
      "  \"bos_token_id\": 0,\n",
      "  \"classifier_dropout\": 0.0,\n",
      "  \"cross_attention_hidden_size\": 384,\n",
      "  \"d_model\": 256,\n",
      "  \"decoder_attention_heads\": 8,\n",
      "  \"decoder_ffn_dim\": 1024,\n",
      "  \"decoder_layerdrop\": 0.0,\n",
      "  \"decoder_layers\": 6,\n",
      "  \"decoder_start_token_id\": 2,\n",
      "  \"dropout\": 0.1,\n",
      "  \"eos_token_id\": 2,\n",
      "  \"init_std\": 0.02,\n",
      "  \"is_decoder\": true,\n",
      "  \"layernorm_embedding\": true,\n",
      "  \"max_position_embeddings\": 512,\n",
      "  \"model_type\": \"trocr\",\n",
      "  \"pad_token_id\": 1,\n",
      "  \"scale_embedding\": true,\n",
      "  \"tie_word_embeddings\": false,\n",
      "  \"torch_dtype\": \"float32\",\n",
      "  \"transformers_version\": \"4.51.2\",\n",
      "  \"use_cache\": false,\n",
      "  \"use_learned_position_embeddings\": true,\n",
      "  \"vocab_size\": 64044\n",
      "}\n",
      "\n",
      "Some weights of VisionEncoderDecoderModel were not initialized from the model checkpoint at microsoft/trocr-small-stage1 and are newly initialized: ['encoder.pooler.dense.bias', 'encoder.pooler.dense.weight']\n",
      "You should probably TRAIN this model on a down-stream task to be able to use it for predictions and inference.\n"
     ]
    },
    {
     "name": "stdout",
     "output_type": "stream",
     "text": [
      "TrOCR model loaded successfully.\n",
      "Processing card_2.jpg...\n",
      "YOLO detected and padded 20 raw content regions.\n",
      "Unique content regions after YOLO deduplication: 20\n",
      "Valid content regions after filtering: 20\n",
      "Found 20 image regions.\n",
      "Debug - TrOCR extracted ID: 21 from region (38, 318, 302, 80)\n",
      "Debug - Saved non-numeric OCR crop to debug_ocr_images/ocr_input_1_fails_nonumeric_......png (Raw: '.....')\n",
      "Debug - TrOCR extracted ID: 22 from region (386, 279, 274, 80)\n",
      "Debug - TrOCR extracted ID: 23 from region (702, 276, 282, 80)\n",
      "Debug - TrOCR extracted ID: 25 from region (1366, 270, 298, 80)\n",
      "Debug - TrOCR extracted ID: 30 from region (1365, 686, 304, 80)\n",
      "Debug - Saved non-numeric OCR crop to debug_ocr_images/ocr_input_6_fails_nonumeric_-.png (Raw: '-')\n",
      "Debug - TrOCR extracted ID: 27 from region (374, 640, 286, 80)\n"
     ]
    },
    {
     "ename": "KeyboardInterrupt",
     "evalue": "",
     "output_type": "error",
     "traceback": [
      "\u001b[0;31m---------------------------------------------------------------------------\u001b[0m",
      "\u001b[0;31mKeyboardInterrupt\u001b[0m                         Traceback (most recent call last)",
      "Cell \u001b[0;32mIn[65], line 1\u001b[0m\n\u001b[0;32m----> 1\u001b[0m results \u001b[38;5;241m=\u001b[39m \u001b[43mprocess_cards\u001b[49m\u001b[43m(\u001b[49m\u001b[38;5;124;43m'\u001b[39;49m\u001b[38;5;124;43mcards\u001b[39;49m\u001b[38;5;124;43m'\u001b[39;49m\u001b[43m,\u001b[49m\u001b[43m \u001b[49m\u001b[38;5;124;43m'\u001b[39;49m\u001b[38;5;124;43mextracted\u001b[39;49m\u001b[38;5;124;43m'\u001b[39;49m\u001b[43m)\u001b[49m\n",
      "Cell \u001b[0;32mIn[64], line 465\u001b[0m, in \u001b[0;36mprocess_cards\u001b[0;34m(input_dir, output_dir)\u001b[0m\n\u001b[1;32m    463\u001b[0m \u001b[38;5;28;01mfor\u001b[39;00m image_file \u001b[38;5;129;01min\u001b[39;00m input_path\u001b[38;5;241m.\u001b[39mglob(\u001b[38;5;124m'\u001b[39m\u001b[38;5;124m*.jpg\u001b[39m\u001b[38;5;124m'\u001b[39m):\n\u001b[1;32m    464\u001b[0m     \u001b[38;5;28mprint\u001b[39m(\u001b[38;5;124mf\u001b[39m\u001b[38;5;124m\"\u001b[39m\u001b[38;5;124mProcessing \u001b[39m\u001b[38;5;132;01m{\u001b[39;00mimage_file\u001b[38;5;241m.\u001b[39mname\u001b[38;5;132;01m}\u001b[39;00m\u001b[38;5;124m...\u001b[39m\u001b[38;5;124m\"\u001b[39m)\n\u001b[0;32m--> 465\u001b[0m     results \u001b[38;5;241m=\u001b[39m \u001b[43mprocessor\u001b[49m\u001b[38;5;241;43m.\u001b[39;49m\u001b[43mprocess_card\u001b[49m\u001b[43m(\u001b[49m\u001b[38;5;28;43mstr\u001b[39;49m\u001b[43m(\u001b[49m\u001b[43mimage_file\u001b[49m\u001b[43m)\u001b[49m\u001b[43m)\u001b[49m\n\u001b[1;32m    467\u001b[0m     \u001b[38;5;28;01mfor\u001b[39;00m result \u001b[38;5;129;01min\u001b[39;00m results:\n\u001b[1;32m    468\u001b[0m         \u001b[38;5;28mid\u001b[39m \u001b[38;5;241m=\u001b[39m result[\u001b[38;5;124m'\u001b[39m\u001b[38;5;124mid\u001b[39m\u001b[38;5;124m'\u001b[39m]\n",
      "Cell \u001b[0;32mIn[64], line 35\u001b[0m, in \u001b[0;36mCardProcessor.process_card\u001b[0;34m(self, card_path)\u001b[0m\n\u001b[1;32m     32\u001b[0m \u001b[38;5;28;01mif\u001b[39;00m crop\u001b[38;5;241m.\u001b[39mshape[\u001b[38;5;241m0\u001b[39m] \u001b[38;5;241m<\u001b[39m \u001b[38;5;241m50\u001b[39m \u001b[38;5;129;01mor\u001b[39;00m crop\u001b[38;5;241m.\u001b[39mshape[\u001b[38;5;241m1\u001b[39m] \u001b[38;5;241m<\u001b[39m \u001b[38;5;241m50\u001b[39m:\n\u001b[1;32m     33\u001b[0m     \u001b[38;5;28;01mcontinue\u001b[39;00m\n\u001b[0;32m---> 35\u001b[0m rotated_crop, angle \u001b[38;5;241m=\u001b[39m \u001b[38;5;28;43mself\u001b[39;49m\u001b[38;5;241;43m.\u001b[39;49m\u001b[43mcorrect_orientation\u001b[49m\u001b[43m(\u001b[49m\u001b[43mcrop\u001b[49m\u001b[43m)\u001b[49m\n\u001b[1;32m     37\u001b[0m is_valid \u001b[38;5;241m=\u001b[39m \u001b[38;5;28mself\u001b[39m\u001b[38;5;241m.\u001b[39mvalidate_photo(rotated_crop)\n\u001b[1;32m     39\u001b[0m \u001b[38;5;28;01mif\u001b[39;00m is_valid:\n",
      "Cell \u001b[0;32mIn[64], line 313\u001b[0m, in \u001b[0;36mCardProcessor.correct_orientation\u001b[0;34m(self, crop)\u001b[0m\n\u001b[1;32m    311\u001b[0m \u001b[38;5;28;01mfor\u001b[39;00m angle \u001b[38;5;129;01min\u001b[39;00m angles:\n\u001b[1;32m    312\u001b[0m     rotated \u001b[38;5;241m=\u001b[39m \u001b[38;5;28mself\u001b[39m\u001b[38;5;241m.\u001b[39mrotate_image(crop, angle)\n\u001b[0;32m--> 313\u001b[0m     orientation_data \u001b[38;5;241m=\u001b[39m \u001b[38;5;28;43mself\u001b[39;49m\u001b[38;5;241;43m.\u001b[39;49m\u001b[43manalyze_face_orientation\u001b[49m\u001b[43m(\u001b[49m\u001b[43mrotated\u001b[49m\u001b[43m)\u001b[49m\n\u001b[1;32m    315\u001b[0m     \u001b[38;5;28;01mif\u001b[39;00m orientation_data[\u001b[38;5;124m'\u001b[39m\u001b[38;5;124mhas_face\u001b[39m\u001b[38;5;124m'\u001b[39m]:\n\u001b[1;32m    316\u001b[0m         score \u001b[38;5;241m=\u001b[39m \u001b[38;5;28mself\u001b[39m\u001b[38;5;241m.\u001b[39mcalculate_orientation_score(orientation_data)\n",
      "Cell \u001b[0;32mIn[64], line 327\u001b[0m, in \u001b[0;36mCardProcessor.analyze_face_orientation\u001b[0;34m(self, image)\u001b[0m\n\u001b[1;32m    324\u001b[0m \u001b[38;5;28;01mdef\u001b[39;00m \u001b[38;5;21manalyze_face_orientation\u001b[39m(\u001b[38;5;28mself\u001b[39m, image):\n\u001b[1;32m    326\u001b[0m     \u001b[38;5;28;01mtry\u001b[39;00m:\n\u001b[0;32m--> 327\u001b[0m         results \u001b[38;5;241m=\u001b[39m \u001b[38;5;28;43mself\u001b[39;49m\u001b[38;5;241;43m.\u001b[39;49m\u001b[43mpose_model\u001b[49m\u001b[43m(\u001b[49m\u001b[43mimage\u001b[49m\u001b[43m,\u001b[49m\u001b[43m \u001b[49m\u001b[43mverbose\u001b[49m\u001b[38;5;241;43m=\u001b[39;49m\u001b[38;5;28;43;01mFalse\u001b[39;49;00m\u001b[43m)\u001b[49m\n\u001b[1;32m    329\u001b[0m         orientation_data \u001b[38;5;241m=\u001b[39m {\n\u001b[1;32m    330\u001b[0m             \u001b[38;5;124m'\u001b[39m\u001b[38;5;124mhas_face\u001b[39m\u001b[38;5;124m'\u001b[39m: \u001b[38;5;28;01mFalse\u001b[39;00m,\n\u001b[1;32m    331\u001b[0m             \u001b[38;5;124m'\u001b[39m\u001b[38;5;124mconfidence\u001b[39m\u001b[38;5;124m'\u001b[39m: \u001b[38;5;241m0\u001b[39m,\n\u001b[1;32m    332\u001b[0m             \u001b[38;5;124m'\u001b[39m\u001b[38;5;124mface_upright\u001b[39m\u001b[38;5;124m'\u001b[39m: \u001b[38;5;28;01mFalse\u001b[39;00m,\n\u001b[1;32m    333\u001b[0m             \u001b[38;5;124m'\u001b[39m\u001b[38;5;124mkeypoints\u001b[39m\u001b[38;5;124m'\u001b[39m: {},\n\u001b[1;32m    334\u001b[0m         }\n\u001b[1;32m    336\u001b[0m         \u001b[38;5;28;01mfor\u001b[39;00m result \u001b[38;5;129;01min\u001b[39;00m results:\n",
      "File \u001b[0;32m/usr/lib/python3.11/site-packages/ultralytics/engine/model.py:185\u001b[0m, in \u001b[0;36mModel.__call__\u001b[0;34m(self, source, stream, **kwargs)\u001b[0m\n\u001b[1;32m    156\u001b[0m \u001b[38;5;28;01mdef\u001b[39;00m \u001b[38;5;21m__call__\u001b[39m(\n\u001b[1;32m    157\u001b[0m     \u001b[38;5;28mself\u001b[39m,\n\u001b[1;32m    158\u001b[0m     source: Union[\u001b[38;5;28mstr\u001b[39m, Path, \u001b[38;5;28mint\u001b[39m, Image\u001b[38;5;241m.\u001b[39mImage, \u001b[38;5;28mlist\u001b[39m, \u001b[38;5;28mtuple\u001b[39m, np\u001b[38;5;241m.\u001b[39mndarray, torch\u001b[38;5;241m.\u001b[39mTensor] \u001b[38;5;241m=\u001b[39m \u001b[38;5;28;01mNone\u001b[39;00m,\n\u001b[1;32m    159\u001b[0m     stream: \u001b[38;5;28mbool\u001b[39m \u001b[38;5;241m=\u001b[39m \u001b[38;5;28;01mFalse\u001b[39;00m,\n\u001b[1;32m    160\u001b[0m     \u001b[38;5;241m*\u001b[39m\u001b[38;5;241m*\u001b[39mkwargs: Any,\n\u001b[1;32m    161\u001b[0m ) \u001b[38;5;241m-\u001b[39m\u001b[38;5;241m>\u001b[39m \u001b[38;5;28mlist\u001b[39m:\n\u001b[1;32m    162\u001b[0m \u001b[38;5;250m    \u001b[39m\u001b[38;5;124;03m\"\"\"\u001b[39;00m\n\u001b[1;32m    163\u001b[0m \u001b[38;5;124;03m    Alias for the predict method, enabling the model instance to be callable for predictions.\u001b[39;00m\n\u001b[1;32m    164\u001b[0m \n\u001b[0;32m   (...)\u001b[0m\n\u001b[1;32m    183\u001b[0m \u001b[38;5;124;03m        ...     print(f\"Detected {len(r)} objects in image\")\u001b[39;00m\n\u001b[1;32m    184\u001b[0m \u001b[38;5;124;03m    \"\"\"\u001b[39;00m\n\u001b[0;32m--> 185\u001b[0m     \u001b[38;5;28;01mreturn\u001b[39;00m \u001b[38;5;28;43mself\u001b[39;49m\u001b[38;5;241;43m.\u001b[39;49m\u001b[43mpredict\u001b[49m\u001b[43m(\u001b[49m\u001b[43msource\u001b[49m\u001b[43m,\u001b[49m\u001b[43m \u001b[49m\u001b[43mstream\u001b[49m\u001b[43m,\u001b[49m\u001b[43m \u001b[49m\u001b[38;5;241;43m*\u001b[39;49m\u001b[38;5;241;43m*\u001b[39;49m\u001b[43mkwargs\u001b[49m\u001b[43m)\u001b[49m\n",
      "File \u001b[0;32m/usr/lib/python3.11/site-packages/ultralytics/engine/model.py:555\u001b[0m, in \u001b[0;36mModel.predict\u001b[0;34m(self, source, stream, predictor, **kwargs)\u001b[0m\n\u001b[1;32m    553\u001b[0m \u001b[38;5;28;01mif\u001b[39;00m prompts \u001b[38;5;129;01mand\u001b[39;00m \u001b[38;5;28mhasattr\u001b[39m(\u001b[38;5;28mself\u001b[39m\u001b[38;5;241m.\u001b[39mpredictor, \u001b[38;5;124m\"\u001b[39m\u001b[38;5;124mset_prompts\u001b[39m\u001b[38;5;124m\"\u001b[39m):  \u001b[38;5;66;03m# for SAM-type models\u001b[39;00m\n\u001b[1;32m    554\u001b[0m     \u001b[38;5;28mself\u001b[39m\u001b[38;5;241m.\u001b[39mpredictor\u001b[38;5;241m.\u001b[39mset_prompts(prompts)\n\u001b[0;32m--> 555\u001b[0m \u001b[38;5;28;01mreturn\u001b[39;00m \u001b[38;5;28mself\u001b[39m\u001b[38;5;241m.\u001b[39mpredictor\u001b[38;5;241m.\u001b[39mpredict_cli(source\u001b[38;5;241m=\u001b[39msource) \u001b[38;5;28;01mif\u001b[39;00m is_cli \u001b[38;5;28;01melse\u001b[39;00m \u001b[38;5;28;43mself\u001b[39;49m\u001b[38;5;241;43m.\u001b[39;49m\u001b[43mpredictor\u001b[49m\u001b[43m(\u001b[49m\u001b[43msource\u001b[49m\u001b[38;5;241;43m=\u001b[39;49m\u001b[43msource\u001b[49m\u001b[43m,\u001b[49m\u001b[43m \u001b[49m\u001b[43mstream\u001b[49m\u001b[38;5;241;43m=\u001b[39;49m\u001b[43mstream\u001b[49m\u001b[43m)\u001b[49m\n",
      "File \u001b[0;32m/usr/lib/python3.11/site-packages/ultralytics/engine/predictor.py:227\u001b[0m, in \u001b[0;36mBasePredictor.__call__\u001b[0;34m(self, source, model, stream, *args, **kwargs)\u001b[0m\n\u001b[1;32m    225\u001b[0m     \u001b[38;5;28;01mreturn\u001b[39;00m \u001b[38;5;28mself\u001b[39m\u001b[38;5;241m.\u001b[39mstream_inference(source, model, \u001b[38;5;241m*\u001b[39margs, \u001b[38;5;241m*\u001b[39m\u001b[38;5;241m*\u001b[39mkwargs)\n\u001b[1;32m    226\u001b[0m \u001b[38;5;28;01melse\u001b[39;00m:\n\u001b[0;32m--> 227\u001b[0m     \u001b[38;5;28;01mreturn\u001b[39;00m \u001b[38;5;28mlist\u001b[39m(\u001b[38;5;28mself\u001b[39m\u001b[38;5;241m.\u001b[39mstream_inference(source, model, \u001b[38;5;241m*\u001b[39margs, \u001b[38;5;241m*\u001b[39m\u001b[38;5;241m*\u001b[39mkwargs))\n",
      "File \u001b[0;32m/usr/lib/python3.11/site-packages/torch/utils/_contextlib.py:36\u001b[0m, in \u001b[0;36m_wrap_generator.<locals>.generator_context\u001b[0;34m(*args, **kwargs)\u001b[0m\n\u001b[1;32m     33\u001b[0m \u001b[38;5;28;01mtry\u001b[39;00m:\n\u001b[1;32m     34\u001b[0m     \u001b[38;5;66;03m# Issuing `None` to a generator fires it up\u001b[39;00m\n\u001b[1;32m     35\u001b[0m     \u001b[38;5;28;01mwith\u001b[39;00m ctx_factory():\n\u001b[0;32m---> 36\u001b[0m         response \u001b[38;5;241m=\u001b[39m gen\u001b[38;5;241m.\u001b[39msend(\u001b[38;5;28;01mNone\u001b[39;00m)\n\u001b[1;32m     38\u001b[0m     \u001b[38;5;28;01mwhile\u001b[39;00m \u001b[38;5;28;01mTrue\u001b[39;00m:\n\u001b[1;32m     39\u001b[0m         \u001b[38;5;28;01mtry\u001b[39;00m:\n\u001b[1;32m     40\u001b[0m             \u001b[38;5;66;03m# Forward the response to our caller and get its next request\u001b[39;00m\n",
      "File \u001b[0;32m/usr/lib/python3.11/site-packages/ultralytics/engine/predictor.py:330\u001b[0m, in \u001b[0;36mBasePredictor.stream_inference\u001b[0;34m(self, source, model, *args, **kwargs)\u001b[0m\n\u001b[1;32m    328\u001b[0m \u001b[38;5;66;03m# Inference\u001b[39;00m\n\u001b[1;32m    329\u001b[0m \u001b[38;5;28;01mwith\u001b[39;00m profilers[\u001b[38;5;241m1\u001b[39m]:\n\u001b[0;32m--> 330\u001b[0m     preds \u001b[38;5;241m=\u001b[39m \u001b[38;5;28;43mself\u001b[39;49m\u001b[38;5;241;43m.\u001b[39;49m\u001b[43minference\u001b[49m\u001b[43m(\u001b[49m\u001b[43mim\u001b[49m\u001b[43m,\u001b[49m\u001b[43m \u001b[49m\u001b[38;5;241;43m*\u001b[39;49m\u001b[43margs\u001b[49m\u001b[43m,\u001b[49m\u001b[43m \u001b[49m\u001b[38;5;241;43m*\u001b[39;49m\u001b[38;5;241;43m*\u001b[39;49m\u001b[43mkwargs\u001b[49m\u001b[43m)\u001b[49m\n\u001b[1;32m    331\u001b[0m     \u001b[38;5;28;01mif\u001b[39;00m \u001b[38;5;28mself\u001b[39m\u001b[38;5;241m.\u001b[39margs\u001b[38;5;241m.\u001b[39membed:\n\u001b[1;32m    332\u001b[0m         \u001b[38;5;28;01myield from\u001b[39;00m [preds] \u001b[38;5;28;01mif\u001b[39;00m \u001b[38;5;28misinstance\u001b[39m(preds, torch\u001b[38;5;241m.\u001b[39mTensor) \u001b[38;5;28;01melse\u001b[39;00m preds  \u001b[38;5;66;03m# yield embedding tensors\u001b[39;00m\n",
      "File \u001b[0;32m/usr/lib/python3.11/site-packages/ultralytics/engine/predictor.py:182\u001b[0m, in \u001b[0;36mBasePredictor.inference\u001b[0;34m(self, im, *args, **kwargs)\u001b[0m\n\u001b[1;32m    176\u001b[0m \u001b[38;5;250m\u001b[39m\u001b[38;5;124;03m\"\"\"Run inference on a given image using the specified model and arguments.\"\"\"\u001b[39;00m\n\u001b[1;32m    177\u001b[0m visualize \u001b[38;5;241m=\u001b[39m (\n\u001b[1;32m    178\u001b[0m     increment_path(\u001b[38;5;28mself\u001b[39m\u001b[38;5;241m.\u001b[39msave_dir \u001b[38;5;241m/\u001b[39m Path(\u001b[38;5;28mself\u001b[39m\u001b[38;5;241m.\u001b[39mbatch[\u001b[38;5;241m0\u001b[39m][\u001b[38;5;241m0\u001b[39m])\u001b[38;5;241m.\u001b[39mstem, mkdir\u001b[38;5;241m=\u001b[39m\u001b[38;5;28;01mTrue\u001b[39;00m)\n\u001b[1;32m    179\u001b[0m     \u001b[38;5;28;01mif\u001b[39;00m \u001b[38;5;28mself\u001b[39m\u001b[38;5;241m.\u001b[39margs\u001b[38;5;241m.\u001b[39mvisualize \u001b[38;5;129;01mand\u001b[39;00m (\u001b[38;5;129;01mnot\u001b[39;00m \u001b[38;5;28mself\u001b[39m\u001b[38;5;241m.\u001b[39msource_type\u001b[38;5;241m.\u001b[39mtensor)\n\u001b[1;32m    180\u001b[0m     \u001b[38;5;28;01melse\u001b[39;00m \u001b[38;5;28;01mFalse\u001b[39;00m\n\u001b[1;32m    181\u001b[0m )\n\u001b[0;32m--> 182\u001b[0m \u001b[38;5;28;01mreturn\u001b[39;00m \u001b[38;5;28;43mself\u001b[39;49m\u001b[38;5;241;43m.\u001b[39;49m\u001b[43mmodel\u001b[49m\u001b[43m(\u001b[49m\u001b[43mim\u001b[49m\u001b[43m,\u001b[49m\u001b[43m \u001b[49m\u001b[43maugment\u001b[49m\u001b[38;5;241;43m=\u001b[39;49m\u001b[38;5;28;43mself\u001b[39;49m\u001b[38;5;241;43m.\u001b[39;49m\u001b[43margs\u001b[49m\u001b[38;5;241;43m.\u001b[39;49m\u001b[43maugment\u001b[49m\u001b[43m,\u001b[49m\u001b[43m \u001b[49m\u001b[43mvisualize\u001b[49m\u001b[38;5;241;43m=\u001b[39;49m\u001b[43mvisualize\u001b[49m\u001b[43m,\u001b[49m\u001b[43m \u001b[49m\u001b[43membed\u001b[49m\u001b[38;5;241;43m=\u001b[39;49m\u001b[38;5;28;43mself\u001b[39;49m\u001b[38;5;241;43m.\u001b[39;49m\u001b[43margs\u001b[49m\u001b[38;5;241;43m.\u001b[39;49m\u001b[43membed\u001b[49m\u001b[43m,\u001b[49m\u001b[43m \u001b[49m\u001b[38;5;241;43m*\u001b[39;49m\u001b[43margs\u001b[49m\u001b[43m,\u001b[49m\u001b[43m \u001b[49m\u001b[38;5;241;43m*\u001b[39;49m\u001b[38;5;241;43m*\u001b[39;49m\u001b[43mkwargs\u001b[49m\u001b[43m)\u001b[49m\n",
      "File \u001b[0;32m/usr/lib/python3.11/site-packages/torch/nn/modules/module.py:1739\u001b[0m, in \u001b[0;36mModule._wrapped_call_impl\u001b[0;34m(self, *args, **kwargs)\u001b[0m\n\u001b[1;32m   1737\u001b[0m     \u001b[38;5;28;01mreturn\u001b[39;00m \u001b[38;5;28mself\u001b[39m\u001b[38;5;241m.\u001b[39m_compiled_call_impl(\u001b[38;5;241m*\u001b[39margs, \u001b[38;5;241m*\u001b[39m\u001b[38;5;241m*\u001b[39mkwargs)  \u001b[38;5;66;03m# type: ignore[misc]\u001b[39;00m\n\u001b[1;32m   1738\u001b[0m \u001b[38;5;28;01melse\u001b[39;00m:\n\u001b[0;32m-> 1739\u001b[0m     \u001b[38;5;28;01mreturn\u001b[39;00m \u001b[38;5;28;43mself\u001b[39;49m\u001b[38;5;241;43m.\u001b[39;49m\u001b[43m_call_impl\u001b[49m\u001b[43m(\u001b[49m\u001b[38;5;241;43m*\u001b[39;49m\u001b[43margs\u001b[49m\u001b[43m,\u001b[49m\u001b[43m \u001b[49m\u001b[38;5;241;43m*\u001b[39;49m\u001b[38;5;241;43m*\u001b[39;49m\u001b[43mkwargs\u001b[49m\u001b[43m)\u001b[49m\n",
      "File \u001b[0;32m/usr/lib/python3.11/site-packages/torch/nn/modules/module.py:1750\u001b[0m, in \u001b[0;36mModule._call_impl\u001b[0;34m(self, *args, **kwargs)\u001b[0m\n\u001b[1;32m   1745\u001b[0m \u001b[38;5;66;03m# If we don't have any hooks, we want to skip the rest of the logic in\u001b[39;00m\n\u001b[1;32m   1746\u001b[0m \u001b[38;5;66;03m# this function, and just call forward.\u001b[39;00m\n\u001b[1;32m   1747\u001b[0m \u001b[38;5;28;01mif\u001b[39;00m \u001b[38;5;129;01mnot\u001b[39;00m (\u001b[38;5;28mself\u001b[39m\u001b[38;5;241m.\u001b[39m_backward_hooks \u001b[38;5;129;01mor\u001b[39;00m \u001b[38;5;28mself\u001b[39m\u001b[38;5;241m.\u001b[39m_backward_pre_hooks \u001b[38;5;129;01mor\u001b[39;00m \u001b[38;5;28mself\u001b[39m\u001b[38;5;241m.\u001b[39m_forward_hooks \u001b[38;5;129;01mor\u001b[39;00m \u001b[38;5;28mself\u001b[39m\u001b[38;5;241m.\u001b[39m_forward_pre_hooks\n\u001b[1;32m   1748\u001b[0m         \u001b[38;5;129;01mor\u001b[39;00m _global_backward_pre_hooks \u001b[38;5;129;01mor\u001b[39;00m _global_backward_hooks\n\u001b[1;32m   1749\u001b[0m         \u001b[38;5;129;01mor\u001b[39;00m _global_forward_hooks \u001b[38;5;129;01mor\u001b[39;00m _global_forward_pre_hooks):\n\u001b[0;32m-> 1750\u001b[0m     \u001b[38;5;28;01mreturn\u001b[39;00m \u001b[43mforward_call\u001b[49m\u001b[43m(\u001b[49m\u001b[38;5;241;43m*\u001b[39;49m\u001b[43margs\u001b[49m\u001b[43m,\u001b[49m\u001b[43m \u001b[49m\u001b[38;5;241;43m*\u001b[39;49m\u001b[38;5;241;43m*\u001b[39;49m\u001b[43mkwargs\u001b[49m\u001b[43m)\u001b[49m\n\u001b[1;32m   1752\u001b[0m result \u001b[38;5;241m=\u001b[39m \u001b[38;5;28;01mNone\u001b[39;00m\n\u001b[1;32m   1753\u001b[0m called_always_called_hooks \u001b[38;5;241m=\u001b[39m \u001b[38;5;28mset\u001b[39m()\n",
      "File \u001b[0;32m/usr/lib/python3.11/site-packages/ultralytics/nn/autobackend.py:636\u001b[0m, in \u001b[0;36mAutoBackend.forward\u001b[0;34m(self, im, augment, visualize, embed, **kwargs)\u001b[0m\n\u001b[1;32m    634\u001b[0m \u001b[38;5;66;03m# PyTorch\u001b[39;00m\n\u001b[1;32m    635\u001b[0m \u001b[38;5;28;01mif\u001b[39;00m \u001b[38;5;28mself\u001b[39m\u001b[38;5;241m.\u001b[39mpt \u001b[38;5;129;01mor\u001b[39;00m \u001b[38;5;28mself\u001b[39m\u001b[38;5;241m.\u001b[39mnn_module:\n\u001b[0;32m--> 636\u001b[0m     y \u001b[38;5;241m=\u001b[39m \u001b[38;5;28;43mself\u001b[39;49m\u001b[38;5;241;43m.\u001b[39;49m\u001b[43mmodel\u001b[49m\u001b[43m(\u001b[49m\u001b[43mim\u001b[49m\u001b[43m,\u001b[49m\u001b[43m \u001b[49m\u001b[43maugment\u001b[49m\u001b[38;5;241;43m=\u001b[39;49m\u001b[43maugment\u001b[49m\u001b[43m,\u001b[49m\u001b[43m \u001b[49m\u001b[43mvisualize\u001b[49m\u001b[38;5;241;43m=\u001b[39;49m\u001b[43mvisualize\u001b[49m\u001b[43m,\u001b[49m\u001b[43m \u001b[49m\u001b[43membed\u001b[49m\u001b[38;5;241;43m=\u001b[39;49m\u001b[43membed\u001b[49m\u001b[43m,\u001b[49m\u001b[43m \u001b[49m\u001b[38;5;241;43m*\u001b[39;49m\u001b[38;5;241;43m*\u001b[39;49m\u001b[43mkwargs\u001b[49m\u001b[43m)\u001b[49m\n\u001b[1;32m    638\u001b[0m \u001b[38;5;66;03m# TorchScript\u001b[39;00m\n\u001b[1;32m    639\u001b[0m \u001b[38;5;28;01melif\u001b[39;00m \u001b[38;5;28mself\u001b[39m\u001b[38;5;241m.\u001b[39mjit:\n",
      "File \u001b[0;32m/usr/lib/python3.11/site-packages/torch/nn/modules/module.py:1739\u001b[0m, in \u001b[0;36mModule._wrapped_call_impl\u001b[0;34m(self, *args, **kwargs)\u001b[0m\n\u001b[1;32m   1737\u001b[0m     \u001b[38;5;28;01mreturn\u001b[39;00m \u001b[38;5;28mself\u001b[39m\u001b[38;5;241m.\u001b[39m_compiled_call_impl(\u001b[38;5;241m*\u001b[39margs, \u001b[38;5;241m*\u001b[39m\u001b[38;5;241m*\u001b[39mkwargs)  \u001b[38;5;66;03m# type: ignore[misc]\u001b[39;00m\n\u001b[1;32m   1738\u001b[0m \u001b[38;5;28;01melse\u001b[39;00m:\n\u001b[0;32m-> 1739\u001b[0m     \u001b[38;5;28;01mreturn\u001b[39;00m \u001b[38;5;28;43mself\u001b[39;49m\u001b[38;5;241;43m.\u001b[39;49m\u001b[43m_call_impl\u001b[49m\u001b[43m(\u001b[49m\u001b[38;5;241;43m*\u001b[39;49m\u001b[43margs\u001b[49m\u001b[43m,\u001b[49m\u001b[43m \u001b[49m\u001b[38;5;241;43m*\u001b[39;49m\u001b[38;5;241;43m*\u001b[39;49m\u001b[43mkwargs\u001b[49m\u001b[43m)\u001b[49m\n",
      "File \u001b[0;32m/usr/lib/python3.11/site-packages/torch/nn/modules/module.py:1750\u001b[0m, in \u001b[0;36mModule._call_impl\u001b[0;34m(self, *args, **kwargs)\u001b[0m\n\u001b[1;32m   1745\u001b[0m \u001b[38;5;66;03m# If we don't have any hooks, we want to skip the rest of the logic in\u001b[39;00m\n\u001b[1;32m   1746\u001b[0m \u001b[38;5;66;03m# this function, and just call forward.\u001b[39;00m\n\u001b[1;32m   1747\u001b[0m \u001b[38;5;28;01mif\u001b[39;00m \u001b[38;5;129;01mnot\u001b[39;00m (\u001b[38;5;28mself\u001b[39m\u001b[38;5;241m.\u001b[39m_backward_hooks \u001b[38;5;129;01mor\u001b[39;00m \u001b[38;5;28mself\u001b[39m\u001b[38;5;241m.\u001b[39m_backward_pre_hooks \u001b[38;5;129;01mor\u001b[39;00m \u001b[38;5;28mself\u001b[39m\u001b[38;5;241m.\u001b[39m_forward_hooks \u001b[38;5;129;01mor\u001b[39;00m \u001b[38;5;28mself\u001b[39m\u001b[38;5;241m.\u001b[39m_forward_pre_hooks\n\u001b[1;32m   1748\u001b[0m         \u001b[38;5;129;01mor\u001b[39;00m _global_backward_pre_hooks \u001b[38;5;129;01mor\u001b[39;00m _global_backward_hooks\n\u001b[1;32m   1749\u001b[0m         \u001b[38;5;129;01mor\u001b[39;00m _global_forward_hooks \u001b[38;5;129;01mor\u001b[39;00m _global_forward_pre_hooks):\n\u001b[0;32m-> 1750\u001b[0m     \u001b[38;5;28;01mreturn\u001b[39;00m \u001b[43mforward_call\u001b[49m\u001b[43m(\u001b[49m\u001b[38;5;241;43m*\u001b[39;49m\u001b[43margs\u001b[49m\u001b[43m,\u001b[49m\u001b[43m \u001b[49m\u001b[38;5;241;43m*\u001b[39;49m\u001b[38;5;241;43m*\u001b[39;49m\u001b[43mkwargs\u001b[49m\u001b[43m)\u001b[49m\n\u001b[1;32m   1752\u001b[0m result \u001b[38;5;241m=\u001b[39m \u001b[38;5;28;01mNone\u001b[39;00m\n\u001b[1;32m   1753\u001b[0m called_always_called_hooks \u001b[38;5;241m=\u001b[39m \u001b[38;5;28mset\u001b[39m()\n",
      "File \u001b[0;32m/usr/lib/python3.11/site-packages/ultralytics/nn/tasks.py:138\u001b[0m, in \u001b[0;36mBaseModel.forward\u001b[0;34m(self, x, *args, **kwargs)\u001b[0m\n\u001b[1;32m    136\u001b[0m \u001b[38;5;28;01mif\u001b[39;00m \u001b[38;5;28misinstance\u001b[39m(x, \u001b[38;5;28mdict\u001b[39m):  \u001b[38;5;66;03m# for cases of training and validating while training.\u001b[39;00m\n\u001b[1;32m    137\u001b[0m     \u001b[38;5;28;01mreturn\u001b[39;00m \u001b[38;5;28mself\u001b[39m\u001b[38;5;241m.\u001b[39mloss(x, \u001b[38;5;241m*\u001b[39margs, \u001b[38;5;241m*\u001b[39m\u001b[38;5;241m*\u001b[39mkwargs)\n\u001b[0;32m--> 138\u001b[0m \u001b[38;5;28;01mreturn\u001b[39;00m \u001b[38;5;28;43mself\u001b[39;49m\u001b[38;5;241;43m.\u001b[39;49m\u001b[43mpredict\u001b[49m\u001b[43m(\u001b[49m\u001b[43mx\u001b[49m\u001b[43m,\u001b[49m\u001b[43m \u001b[49m\u001b[38;5;241;43m*\u001b[39;49m\u001b[43margs\u001b[49m\u001b[43m,\u001b[49m\u001b[43m \u001b[49m\u001b[38;5;241;43m*\u001b[39;49m\u001b[38;5;241;43m*\u001b[39;49m\u001b[43mkwargs\u001b[49m\u001b[43m)\u001b[49m\n",
      "File \u001b[0;32m/usr/lib/python3.11/site-packages/ultralytics/nn/tasks.py:156\u001b[0m, in \u001b[0;36mBaseModel.predict\u001b[0;34m(self, x, profile, visualize, augment, embed)\u001b[0m\n\u001b[1;32m    154\u001b[0m \u001b[38;5;28;01mif\u001b[39;00m augment:\n\u001b[1;32m    155\u001b[0m     \u001b[38;5;28;01mreturn\u001b[39;00m \u001b[38;5;28mself\u001b[39m\u001b[38;5;241m.\u001b[39m_predict_augment(x)\n\u001b[0;32m--> 156\u001b[0m \u001b[38;5;28;01mreturn\u001b[39;00m \u001b[38;5;28;43mself\u001b[39;49m\u001b[38;5;241;43m.\u001b[39;49m\u001b[43m_predict_once\u001b[49m\u001b[43m(\u001b[49m\u001b[43mx\u001b[49m\u001b[43m,\u001b[49m\u001b[43m \u001b[49m\u001b[43mprofile\u001b[49m\u001b[43m,\u001b[49m\u001b[43m \u001b[49m\u001b[43mvisualize\u001b[49m\u001b[43m,\u001b[49m\u001b[43m \u001b[49m\u001b[43membed\u001b[49m\u001b[43m)\u001b[49m\n",
      "File \u001b[0;32m/usr/lib/python3.11/site-packages/ultralytics/nn/tasks.py:179\u001b[0m, in \u001b[0;36mBaseModel._predict_once\u001b[0;34m(self, x, profile, visualize, embed)\u001b[0m\n\u001b[1;32m    177\u001b[0m \u001b[38;5;28;01mif\u001b[39;00m profile:\n\u001b[1;32m    178\u001b[0m     \u001b[38;5;28mself\u001b[39m\u001b[38;5;241m.\u001b[39m_profile_one_layer(m, x, dt)\n\u001b[0;32m--> 179\u001b[0m x \u001b[38;5;241m=\u001b[39m \u001b[43mm\u001b[49m\u001b[43m(\u001b[49m\u001b[43mx\u001b[49m\u001b[43m)\u001b[49m  \u001b[38;5;66;03m# run\u001b[39;00m\n\u001b[1;32m    180\u001b[0m y\u001b[38;5;241m.\u001b[39mappend(x \u001b[38;5;28;01mif\u001b[39;00m m\u001b[38;5;241m.\u001b[39mi \u001b[38;5;129;01min\u001b[39;00m \u001b[38;5;28mself\u001b[39m\u001b[38;5;241m.\u001b[39msave \u001b[38;5;28;01melse\u001b[39;00m \u001b[38;5;28;01mNone\u001b[39;00m)  \u001b[38;5;66;03m# save output\u001b[39;00m\n\u001b[1;32m    181\u001b[0m \u001b[38;5;28;01mif\u001b[39;00m visualize:\n",
      "File \u001b[0;32m/usr/lib/python3.11/site-packages/torch/nn/modules/module.py:1739\u001b[0m, in \u001b[0;36mModule._wrapped_call_impl\u001b[0;34m(self, *args, **kwargs)\u001b[0m\n\u001b[1;32m   1737\u001b[0m     \u001b[38;5;28;01mreturn\u001b[39;00m \u001b[38;5;28mself\u001b[39m\u001b[38;5;241m.\u001b[39m_compiled_call_impl(\u001b[38;5;241m*\u001b[39margs, \u001b[38;5;241m*\u001b[39m\u001b[38;5;241m*\u001b[39mkwargs)  \u001b[38;5;66;03m# type: ignore[misc]\u001b[39;00m\n\u001b[1;32m   1738\u001b[0m \u001b[38;5;28;01melse\u001b[39;00m:\n\u001b[0;32m-> 1739\u001b[0m     \u001b[38;5;28;01mreturn\u001b[39;00m \u001b[38;5;28;43mself\u001b[39;49m\u001b[38;5;241;43m.\u001b[39;49m\u001b[43m_call_impl\u001b[49m\u001b[43m(\u001b[49m\u001b[38;5;241;43m*\u001b[39;49m\u001b[43margs\u001b[49m\u001b[43m,\u001b[49m\u001b[43m \u001b[49m\u001b[38;5;241;43m*\u001b[39;49m\u001b[38;5;241;43m*\u001b[39;49m\u001b[43mkwargs\u001b[49m\u001b[43m)\u001b[49m\n",
      "File \u001b[0;32m/usr/lib/python3.11/site-packages/torch/nn/modules/module.py:1750\u001b[0m, in \u001b[0;36mModule._call_impl\u001b[0;34m(self, *args, **kwargs)\u001b[0m\n\u001b[1;32m   1745\u001b[0m \u001b[38;5;66;03m# If we don't have any hooks, we want to skip the rest of the logic in\u001b[39;00m\n\u001b[1;32m   1746\u001b[0m \u001b[38;5;66;03m# this function, and just call forward.\u001b[39;00m\n\u001b[1;32m   1747\u001b[0m \u001b[38;5;28;01mif\u001b[39;00m \u001b[38;5;129;01mnot\u001b[39;00m (\u001b[38;5;28mself\u001b[39m\u001b[38;5;241m.\u001b[39m_backward_hooks \u001b[38;5;129;01mor\u001b[39;00m \u001b[38;5;28mself\u001b[39m\u001b[38;5;241m.\u001b[39m_backward_pre_hooks \u001b[38;5;129;01mor\u001b[39;00m \u001b[38;5;28mself\u001b[39m\u001b[38;5;241m.\u001b[39m_forward_hooks \u001b[38;5;129;01mor\u001b[39;00m \u001b[38;5;28mself\u001b[39m\u001b[38;5;241m.\u001b[39m_forward_pre_hooks\n\u001b[1;32m   1748\u001b[0m         \u001b[38;5;129;01mor\u001b[39;00m _global_backward_pre_hooks \u001b[38;5;129;01mor\u001b[39;00m _global_backward_hooks\n\u001b[1;32m   1749\u001b[0m         \u001b[38;5;129;01mor\u001b[39;00m _global_forward_hooks \u001b[38;5;129;01mor\u001b[39;00m _global_forward_pre_hooks):\n\u001b[0;32m-> 1750\u001b[0m     \u001b[38;5;28;01mreturn\u001b[39;00m \u001b[43mforward_call\u001b[49m\u001b[43m(\u001b[49m\u001b[38;5;241;43m*\u001b[39;49m\u001b[43margs\u001b[49m\u001b[43m,\u001b[49m\u001b[43m \u001b[49m\u001b[38;5;241;43m*\u001b[39;49m\u001b[38;5;241;43m*\u001b[39;49m\u001b[43mkwargs\u001b[49m\u001b[43m)\u001b[49m\n\u001b[1;32m   1752\u001b[0m result \u001b[38;5;241m=\u001b[39m \u001b[38;5;28;01mNone\u001b[39;00m\n\u001b[1;32m   1753\u001b[0m called_always_called_hooks \u001b[38;5;241m=\u001b[39m \u001b[38;5;28mset\u001b[39m()\n",
      "File \u001b[0;32m/usr/lib/python3.11/site-packages/ultralytics/nn/modules/block.py:318\u001b[0m, in \u001b[0;36mC2f.forward\u001b[0;34m(self, x)\u001b[0m\n\u001b[1;32m    316\u001b[0m \u001b[38;5;250m\u001b[39m\u001b[38;5;124;03m\"\"\"Forward pass through C2f layer.\"\"\"\u001b[39;00m\n\u001b[1;32m    317\u001b[0m y \u001b[38;5;241m=\u001b[39m \u001b[38;5;28mlist\u001b[39m(\u001b[38;5;28mself\u001b[39m\u001b[38;5;241m.\u001b[39mcv1(x)\u001b[38;5;241m.\u001b[39mchunk(\u001b[38;5;241m2\u001b[39m, \u001b[38;5;241m1\u001b[39m))\n\u001b[0;32m--> 318\u001b[0m y\u001b[38;5;241m.\u001b[39mextend(m(y[\u001b[38;5;241m-\u001b[39m\u001b[38;5;241m1\u001b[39m]) \u001b[38;5;28;01mfor\u001b[39;00m m \u001b[38;5;129;01min\u001b[39;00m \u001b[38;5;28mself\u001b[39m\u001b[38;5;241m.\u001b[39mm)\n\u001b[1;32m    319\u001b[0m \u001b[38;5;28;01mreturn\u001b[39;00m \u001b[38;5;28mself\u001b[39m\u001b[38;5;241m.\u001b[39mcv2(torch\u001b[38;5;241m.\u001b[39mcat(y, \u001b[38;5;241m1\u001b[39m))\n",
      "File \u001b[0;32m/usr/lib/python3.11/site-packages/ultralytics/nn/modules/block.py:318\u001b[0m, in \u001b[0;36m<genexpr>\u001b[0;34m(.0)\u001b[0m\n\u001b[1;32m    316\u001b[0m \u001b[38;5;250m\u001b[39m\u001b[38;5;124;03m\"\"\"Forward pass through C2f layer.\"\"\"\u001b[39;00m\n\u001b[1;32m    317\u001b[0m y \u001b[38;5;241m=\u001b[39m \u001b[38;5;28mlist\u001b[39m(\u001b[38;5;28mself\u001b[39m\u001b[38;5;241m.\u001b[39mcv1(x)\u001b[38;5;241m.\u001b[39mchunk(\u001b[38;5;241m2\u001b[39m, \u001b[38;5;241m1\u001b[39m))\n\u001b[0;32m--> 318\u001b[0m y\u001b[38;5;241m.\u001b[39mextend(\u001b[43mm\u001b[49m\u001b[43m(\u001b[49m\u001b[43my\u001b[49m\u001b[43m[\u001b[49m\u001b[38;5;241;43m-\u001b[39;49m\u001b[38;5;241;43m1\u001b[39;49m\u001b[43m]\u001b[49m\u001b[43m)\u001b[49m \u001b[38;5;28;01mfor\u001b[39;00m m \u001b[38;5;129;01min\u001b[39;00m \u001b[38;5;28mself\u001b[39m\u001b[38;5;241m.\u001b[39mm)\n\u001b[1;32m    319\u001b[0m \u001b[38;5;28;01mreturn\u001b[39;00m \u001b[38;5;28mself\u001b[39m\u001b[38;5;241m.\u001b[39mcv2(torch\u001b[38;5;241m.\u001b[39mcat(y, \u001b[38;5;241m1\u001b[39m))\n",
      "File \u001b[0;32m/usr/lib/python3.11/site-packages/torch/nn/modules/module.py:1739\u001b[0m, in \u001b[0;36mModule._wrapped_call_impl\u001b[0;34m(self, *args, **kwargs)\u001b[0m\n\u001b[1;32m   1737\u001b[0m     \u001b[38;5;28;01mreturn\u001b[39;00m \u001b[38;5;28mself\u001b[39m\u001b[38;5;241m.\u001b[39m_compiled_call_impl(\u001b[38;5;241m*\u001b[39margs, \u001b[38;5;241m*\u001b[39m\u001b[38;5;241m*\u001b[39mkwargs)  \u001b[38;5;66;03m# type: ignore[misc]\u001b[39;00m\n\u001b[1;32m   1738\u001b[0m \u001b[38;5;28;01melse\u001b[39;00m:\n\u001b[0;32m-> 1739\u001b[0m     \u001b[38;5;28;01mreturn\u001b[39;00m \u001b[38;5;28;43mself\u001b[39;49m\u001b[38;5;241;43m.\u001b[39;49m\u001b[43m_call_impl\u001b[49m\u001b[43m(\u001b[49m\u001b[38;5;241;43m*\u001b[39;49m\u001b[43margs\u001b[49m\u001b[43m,\u001b[49m\u001b[43m \u001b[49m\u001b[38;5;241;43m*\u001b[39;49m\u001b[38;5;241;43m*\u001b[39;49m\u001b[43mkwargs\u001b[49m\u001b[43m)\u001b[49m\n",
      "File \u001b[0;32m/usr/lib/python3.11/site-packages/torch/nn/modules/module.py:1750\u001b[0m, in \u001b[0;36mModule._call_impl\u001b[0;34m(self, *args, **kwargs)\u001b[0m\n\u001b[1;32m   1745\u001b[0m \u001b[38;5;66;03m# If we don't have any hooks, we want to skip the rest of the logic in\u001b[39;00m\n\u001b[1;32m   1746\u001b[0m \u001b[38;5;66;03m# this function, and just call forward.\u001b[39;00m\n\u001b[1;32m   1747\u001b[0m \u001b[38;5;28;01mif\u001b[39;00m \u001b[38;5;129;01mnot\u001b[39;00m (\u001b[38;5;28mself\u001b[39m\u001b[38;5;241m.\u001b[39m_backward_hooks \u001b[38;5;129;01mor\u001b[39;00m \u001b[38;5;28mself\u001b[39m\u001b[38;5;241m.\u001b[39m_backward_pre_hooks \u001b[38;5;129;01mor\u001b[39;00m \u001b[38;5;28mself\u001b[39m\u001b[38;5;241m.\u001b[39m_forward_hooks \u001b[38;5;129;01mor\u001b[39;00m \u001b[38;5;28mself\u001b[39m\u001b[38;5;241m.\u001b[39m_forward_pre_hooks\n\u001b[1;32m   1748\u001b[0m         \u001b[38;5;129;01mor\u001b[39;00m _global_backward_pre_hooks \u001b[38;5;129;01mor\u001b[39;00m _global_backward_hooks\n\u001b[1;32m   1749\u001b[0m         \u001b[38;5;129;01mor\u001b[39;00m _global_forward_hooks \u001b[38;5;129;01mor\u001b[39;00m _global_forward_pre_hooks):\n\u001b[0;32m-> 1750\u001b[0m     \u001b[38;5;28;01mreturn\u001b[39;00m \u001b[43mforward_call\u001b[49m\u001b[43m(\u001b[49m\u001b[38;5;241;43m*\u001b[39;49m\u001b[43margs\u001b[49m\u001b[43m,\u001b[49m\u001b[43m \u001b[49m\u001b[38;5;241;43m*\u001b[39;49m\u001b[38;5;241;43m*\u001b[39;49m\u001b[43mkwargs\u001b[49m\u001b[43m)\u001b[49m\n\u001b[1;32m   1752\u001b[0m result \u001b[38;5;241m=\u001b[39m \u001b[38;5;28;01mNone\u001b[39;00m\n\u001b[1;32m   1753\u001b[0m called_always_called_hooks \u001b[38;5;241m=\u001b[39m \u001b[38;5;28mset\u001b[39m()\n",
      "File \u001b[0;32m/usr/lib/python3.11/site-packages/ultralytics/nn/modules/block.py:353\u001b[0m, in \u001b[0;36mC3.forward\u001b[0;34m(self, x)\u001b[0m\n\u001b[1;32m    351\u001b[0m \u001b[38;5;28;01mdef\u001b[39;00m \u001b[38;5;21mforward\u001b[39m(\u001b[38;5;28mself\u001b[39m, x: torch\u001b[38;5;241m.\u001b[39mTensor) \u001b[38;5;241m-\u001b[39m\u001b[38;5;241m>\u001b[39m torch\u001b[38;5;241m.\u001b[39mTensor:\n\u001b[1;32m    352\u001b[0m \u001b[38;5;250m    \u001b[39m\u001b[38;5;124;03m\"\"\"Forward pass through the CSP bottleneck with 3 convolutions.\"\"\"\u001b[39;00m\n\u001b[0;32m--> 353\u001b[0m     \u001b[38;5;28;01mreturn\u001b[39;00m \u001b[38;5;28;43mself\u001b[39;49m\u001b[38;5;241;43m.\u001b[39;49m\u001b[43mcv3\u001b[49m\u001b[43m(\u001b[49m\u001b[43mtorch\u001b[49m\u001b[38;5;241;43m.\u001b[39;49m\u001b[43mcat\u001b[49m\u001b[43m(\u001b[49m\u001b[43m(\u001b[49m\u001b[38;5;28;43mself\u001b[39;49m\u001b[38;5;241;43m.\u001b[39;49m\u001b[43mm\u001b[49m\u001b[43m(\u001b[49m\u001b[38;5;28;43mself\u001b[39;49m\u001b[38;5;241;43m.\u001b[39;49m\u001b[43mcv1\u001b[49m\u001b[43m(\u001b[49m\u001b[43mx\u001b[49m\u001b[43m)\u001b[49m\u001b[43m)\u001b[49m\u001b[43m,\u001b[49m\u001b[43m \u001b[49m\u001b[38;5;28;43mself\u001b[39;49m\u001b[38;5;241;43m.\u001b[39;49m\u001b[43mcv2\u001b[49m\u001b[43m(\u001b[49m\u001b[43mx\u001b[49m\u001b[43m)\u001b[49m\u001b[43m)\u001b[49m\u001b[43m,\u001b[49m\u001b[43m \u001b[49m\u001b[38;5;241;43m1\u001b[39;49m\u001b[43m)\u001b[49m\u001b[43m)\u001b[49m\n",
      "File \u001b[0;32m/usr/lib/python3.11/site-packages/torch/nn/modules/module.py:1739\u001b[0m, in \u001b[0;36mModule._wrapped_call_impl\u001b[0;34m(self, *args, **kwargs)\u001b[0m\n\u001b[1;32m   1737\u001b[0m     \u001b[38;5;28;01mreturn\u001b[39;00m \u001b[38;5;28mself\u001b[39m\u001b[38;5;241m.\u001b[39m_compiled_call_impl(\u001b[38;5;241m*\u001b[39margs, \u001b[38;5;241m*\u001b[39m\u001b[38;5;241m*\u001b[39mkwargs)  \u001b[38;5;66;03m# type: ignore[misc]\u001b[39;00m\n\u001b[1;32m   1738\u001b[0m \u001b[38;5;28;01melse\u001b[39;00m:\n\u001b[0;32m-> 1739\u001b[0m     \u001b[38;5;28;01mreturn\u001b[39;00m \u001b[38;5;28;43mself\u001b[39;49m\u001b[38;5;241;43m.\u001b[39;49m\u001b[43m_call_impl\u001b[49m\u001b[43m(\u001b[49m\u001b[38;5;241;43m*\u001b[39;49m\u001b[43margs\u001b[49m\u001b[43m,\u001b[49m\u001b[43m \u001b[49m\u001b[38;5;241;43m*\u001b[39;49m\u001b[38;5;241;43m*\u001b[39;49m\u001b[43mkwargs\u001b[49m\u001b[43m)\u001b[49m\n",
      "File \u001b[0;32m/usr/lib/python3.11/site-packages/torch/nn/modules/module.py:1750\u001b[0m, in \u001b[0;36mModule._call_impl\u001b[0;34m(self, *args, **kwargs)\u001b[0m\n\u001b[1;32m   1745\u001b[0m \u001b[38;5;66;03m# If we don't have any hooks, we want to skip the rest of the logic in\u001b[39;00m\n\u001b[1;32m   1746\u001b[0m \u001b[38;5;66;03m# this function, and just call forward.\u001b[39;00m\n\u001b[1;32m   1747\u001b[0m \u001b[38;5;28;01mif\u001b[39;00m \u001b[38;5;129;01mnot\u001b[39;00m (\u001b[38;5;28mself\u001b[39m\u001b[38;5;241m.\u001b[39m_backward_hooks \u001b[38;5;129;01mor\u001b[39;00m \u001b[38;5;28mself\u001b[39m\u001b[38;5;241m.\u001b[39m_backward_pre_hooks \u001b[38;5;129;01mor\u001b[39;00m \u001b[38;5;28mself\u001b[39m\u001b[38;5;241m.\u001b[39m_forward_hooks \u001b[38;5;129;01mor\u001b[39;00m \u001b[38;5;28mself\u001b[39m\u001b[38;5;241m.\u001b[39m_forward_pre_hooks\n\u001b[1;32m   1748\u001b[0m         \u001b[38;5;129;01mor\u001b[39;00m _global_backward_pre_hooks \u001b[38;5;129;01mor\u001b[39;00m _global_backward_hooks\n\u001b[1;32m   1749\u001b[0m         \u001b[38;5;129;01mor\u001b[39;00m _global_forward_hooks \u001b[38;5;129;01mor\u001b[39;00m _global_forward_pre_hooks):\n\u001b[0;32m-> 1750\u001b[0m     \u001b[38;5;28;01mreturn\u001b[39;00m \u001b[43mforward_call\u001b[49m\u001b[43m(\u001b[49m\u001b[38;5;241;43m*\u001b[39;49m\u001b[43margs\u001b[49m\u001b[43m,\u001b[49m\u001b[43m \u001b[49m\u001b[38;5;241;43m*\u001b[39;49m\u001b[38;5;241;43m*\u001b[39;49m\u001b[43mkwargs\u001b[49m\u001b[43m)\u001b[49m\n\u001b[1;32m   1752\u001b[0m result \u001b[38;5;241m=\u001b[39m \u001b[38;5;28;01mNone\u001b[39;00m\n\u001b[1;32m   1753\u001b[0m called_always_called_hooks \u001b[38;5;241m=\u001b[39m \u001b[38;5;28mset\u001b[39m()\n",
      "File \u001b[0;32m/usr/lib/python3.11/site-packages/ultralytics/nn/modules/conv.py:92\u001b[0m, in \u001b[0;36mConv.forward_fuse\u001b[0;34m(self, x)\u001b[0m\n\u001b[1;32m     82\u001b[0m \u001b[38;5;28;01mdef\u001b[39;00m \u001b[38;5;21mforward_fuse\u001b[39m(\u001b[38;5;28mself\u001b[39m, x):\n\u001b[1;32m     83\u001b[0m \u001b[38;5;250m    \u001b[39m\u001b[38;5;124;03m\"\"\"\u001b[39;00m\n\u001b[1;32m     84\u001b[0m \u001b[38;5;124;03m    Apply convolution and activation without batch normalization.\u001b[39;00m\n\u001b[1;32m     85\u001b[0m \n\u001b[0;32m   (...)\u001b[0m\n\u001b[1;32m     90\u001b[0m \u001b[38;5;124;03m        (torch.Tensor): Output tensor.\u001b[39;00m\n\u001b[1;32m     91\u001b[0m \u001b[38;5;124;03m    \"\"\"\u001b[39;00m\n\u001b[0;32m---> 92\u001b[0m     \u001b[38;5;28;01mreturn\u001b[39;00m \u001b[38;5;28mself\u001b[39m\u001b[38;5;241m.\u001b[39mact(\u001b[38;5;28;43mself\u001b[39;49m\u001b[38;5;241;43m.\u001b[39;49m\u001b[43mconv\u001b[49m\u001b[43m(\u001b[49m\u001b[43mx\u001b[49m\u001b[43m)\u001b[49m)\n",
      "File \u001b[0;32m/usr/lib/python3.11/site-packages/torch/nn/modules/module.py:1739\u001b[0m, in \u001b[0;36mModule._wrapped_call_impl\u001b[0;34m(self, *args, **kwargs)\u001b[0m\n\u001b[1;32m   1737\u001b[0m     \u001b[38;5;28;01mreturn\u001b[39;00m \u001b[38;5;28mself\u001b[39m\u001b[38;5;241m.\u001b[39m_compiled_call_impl(\u001b[38;5;241m*\u001b[39margs, \u001b[38;5;241m*\u001b[39m\u001b[38;5;241m*\u001b[39mkwargs)  \u001b[38;5;66;03m# type: ignore[misc]\u001b[39;00m\n\u001b[1;32m   1738\u001b[0m \u001b[38;5;28;01melse\u001b[39;00m:\n\u001b[0;32m-> 1739\u001b[0m     \u001b[38;5;28;01mreturn\u001b[39;00m \u001b[38;5;28;43mself\u001b[39;49m\u001b[38;5;241;43m.\u001b[39;49m\u001b[43m_call_impl\u001b[49m\u001b[43m(\u001b[49m\u001b[38;5;241;43m*\u001b[39;49m\u001b[43margs\u001b[49m\u001b[43m,\u001b[49m\u001b[43m \u001b[49m\u001b[38;5;241;43m*\u001b[39;49m\u001b[38;5;241;43m*\u001b[39;49m\u001b[43mkwargs\u001b[49m\u001b[43m)\u001b[49m\n",
      "File \u001b[0;32m/usr/lib/python3.11/site-packages/torch/nn/modules/module.py:1750\u001b[0m, in \u001b[0;36mModule._call_impl\u001b[0;34m(self, *args, **kwargs)\u001b[0m\n\u001b[1;32m   1745\u001b[0m \u001b[38;5;66;03m# If we don't have any hooks, we want to skip the rest of the logic in\u001b[39;00m\n\u001b[1;32m   1746\u001b[0m \u001b[38;5;66;03m# this function, and just call forward.\u001b[39;00m\n\u001b[1;32m   1747\u001b[0m \u001b[38;5;28;01mif\u001b[39;00m \u001b[38;5;129;01mnot\u001b[39;00m (\u001b[38;5;28mself\u001b[39m\u001b[38;5;241m.\u001b[39m_backward_hooks \u001b[38;5;129;01mor\u001b[39;00m \u001b[38;5;28mself\u001b[39m\u001b[38;5;241m.\u001b[39m_backward_pre_hooks \u001b[38;5;129;01mor\u001b[39;00m \u001b[38;5;28mself\u001b[39m\u001b[38;5;241m.\u001b[39m_forward_hooks \u001b[38;5;129;01mor\u001b[39;00m \u001b[38;5;28mself\u001b[39m\u001b[38;5;241m.\u001b[39m_forward_pre_hooks\n\u001b[1;32m   1748\u001b[0m         \u001b[38;5;129;01mor\u001b[39;00m _global_backward_pre_hooks \u001b[38;5;129;01mor\u001b[39;00m _global_backward_hooks\n\u001b[1;32m   1749\u001b[0m         \u001b[38;5;129;01mor\u001b[39;00m _global_forward_hooks \u001b[38;5;129;01mor\u001b[39;00m _global_forward_pre_hooks):\n\u001b[0;32m-> 1750\u001b[0m     \u001b[38;5;28;01mreturn\u001b[39;00m \u001b[43mforward_call\u001b[49m\u001b[43m(\u001b[49m\u001b[38;5;241;43m*\u001b[39;49m\u001b[43margs\u001b[49m\u001b[43m,\u001b[49m\u001b[43m \u001b[49m\u001b[38;5;241;43m*\u001b[39;49m\u001b[38;5;241;43m*\u001b[39;49m\u001b[43mkwargs\u001b[49m\u001b[43m)\u001b[49m\n\u001b[1;32m   1752\u001b[0m result \u001b[38;5;241m=\u001b[39m \u001b[38;5;28;01mNone\u001b[39;00m\n\u001b[1;32m   1753\u001b[0m called_always_called_hooks \u001b[38;5;241m=\u001b[39m \u001b[38;5;28mset\u001b[39m()\n",
      "File \u001b[0;32m/usr/lib/python3.11/site-packages/torch/nn/modules/conv.py:554\u001b[0m, in \u001b[0;36mConv2d.forward\u001b[0;34m(self, input)\u001b[0m\n\u001b[1;32m    553\u001b[0m \u001b[38;5;28;01mdef\u001b[39;00m \u001b[38;5;21mforward\u001b[39m(\u001b[38;5;28mself\u001b[39m, \u001b[38;5;28minput\u001b[39m: Tensor) \u001b[38;5;241m-\u001b[39m\u001b[38;5;241m>\u001b[39m Tensor:\n\u001b[0;32m--> 554\u001b[0m     \u001b[38;5;28;01mreturn\u001b[39;00m \u001b[38;5;28;43mself\u001b[39;49m\u001b[38;5;241;43m.\u001b[39;49m\u001b[43m_conv_forward\u001b[49m\u001b[43m(\u001b[49m\u001b[38;5;28;43minput\u001b[39;49m\u001b[43m,\u001b[49m\u001b[43m \u001b[49m\u001b[38;5;28;43mself\u001b[39;49m\u001b[38;5;241;43m.\u001b[39;49m\u001b[43mweight\u001b[49m\u001b[43m,\u001b[49m\u001b[43m \u001b[49m\u001b[38;5;28;43mself\u001b[39;49m\u001b[38;5;241;43m.\u001b[39;49m\u001b[43mbias\u001b[49m\u001b[43m)\u001b[49m\n",
      "File \u001b[0;32m/usr/lib/python3.11/site-packages/torch/nn/modules/conv.py:549\u001b[0m, in \u001b[0;36mConv2d._conv_forward\u001b[0;34m(self, input, weight, bias)\u001b[0m\n\u001b[1;32m    537\u001b[0m \u001b[38;5;28;01mif\u001b[39;00m \u001b[38;5;28mself\u001b[39m\u001b[38;5;241m.\u001b[39mpadding_mode \u001b[38;5;241m!=\u001b[39m \u001b[38;5;124m\"\u001b[39m\u001b[38;5;124mzeros\u001b[39m\u001b[38;5;124m\"\u001b[39m:\n\u001b[1;32m    538\u001b[0m     \u001b[38;5;28;01mreturn\u001b[39;00m F\u001b[38;5;241m.\u001b[39mconv2d(\n\u001b[1;32m    539\u001b[0m         F\u001b[38;5;241m.\u001b[39mpad(\n\u001b[1;32m    540\u001b[0m             \u001b[38;5;28minput\u001b[39m, \u001b[38;5;28mself\u001b[39m\u001b[38;5;241m.\u001b[39m_reversed_padding_repeated_twice, mode\u001b[38;5;241m=\u001b[39m\u001b[38;5;28mself\u001b[39m\u001b[38;5;241m.\u001b[39mpadding_mode\n\u001b[0;32m   (...)\u001b[0m\n\u001b[1;32m    547\u001b[0m         \u001b[38;5;28mself\u001b[39m\u001b[38;5;241m.\u001b[39mgroups,\n\u001b[1;32m    548\u001b[0m     )\n\u001b[0;32m--> 549\u001b[0m \u001b[38;5;28;01mreturn\u001b[39;00m \u001b[43mF\u001b[49m\u001b[38;5;241;43m.\u001b[39;49m\u001b[43mconv2d\u001b[49m\u001b[43m(\u001b[49m\n\u001b[1;32m    550\u001b[0m \u001b[43m    \u001b[49m\u001b[38;5;28;43minput\u001b[39;49m\u001b[43m,\u001b[49m\u001b[43m \u001b[49m\u001b[43mweight\u001b[49m\u001b[43m,\u001b[49m\u001b[43m \u001b[49m\u001b[43mbias\u001b[49m\u001b[43m,\u001b[49m\u001b[43m \u001b[49m\u001b[38;5;28;43mself\u001b[39;49m\u001b[38;5;241;43m.\u001b[39;49m\u001b[43mstride\u001b[49m\u001b[43m,\u001b[49m\u001b[43m \u001b[49m\u001b[38;5;28;43mself\u001b[39;49m\u001b[38;5;241;43m.\u001b[39;49m\u001b[43mpadding\u001b[49m\u001b[43m,\u001b[49m\u001b[43m \u001b[49m\u001b[38;5;28;43mself\u001b[39;49m\u001b[38;5;241;43m.\u001b[39;49m\u001b[43mdilation\u001b[49m\u001b[43m,\u001b[49m\u001b[43m \u001b[49m\u001b[38;5;28;43mself\u001b[39;49m\u001b[38;5;241;43m.\u001b[39;49m\u001b[43mgroups\u001b[49m\n\u001b[1;32m    551\u001b[0m \u001b[43m\u001b[49m\u001b[43m)\u001b[49m\n",
      "\u001b[0;31mKeyboardInterrupt\u001b[0m: "
     ]
    }
   ],
   "source": [
    "results = process_cards('cards', 'extracted')"
   ]
  },
  {
   "cell_type": "code",
   "execution_count": null,
   "id": "1deccb99",
   "metadata": {},
   "outputs": [
    {
     "data": {
      "image/png": "[encoded data removed]",
      "text/plain": [
       "<Figure size 640x480 with 1 Axes>"
      ]
     },
     "metadata": {},
     "output_type": "display_data"
    }
   ],
   "source": [
    "img = cv2.imread('cards/card_2.jpg')\n",
    "#Check region (30, 1012, 245, 120)\n",
    "x, y, w, h = 60, 1040, 245, 65\n",
    "crop = img[y:y+h, x:x+w]\n",
    "plt.imshow(crop)\n",
    "plt.axis('off')\n",
    "plt.show()"
   ]
  }
 ],
 "metadata": {
  "kernelspec": {
   "display_name": "Python 3",
   "language": "python",
   "name": "python3"
  },
  "language_info": {
   "codemirror_mode": {
    "name": "ipython",
    "version": 3
   },
   "file_extension": ".py",
   "mimetype": "text/x-python",
   "name": "python",
   "nbconvert_exporter": "python",
   "pygments_lexer": "ipython3",
   "version": "3.11.9"
  }
 },
 "nbformat": 4,
 "nbformat_minor": 5
}
