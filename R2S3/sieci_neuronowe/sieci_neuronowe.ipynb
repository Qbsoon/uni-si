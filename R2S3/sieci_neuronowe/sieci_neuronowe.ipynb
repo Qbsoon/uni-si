{
 "cells": [
  {
   "cell_type": "code",
   "execution_count": null,
   "metadata": {},
   "outputs": [],
   "source": [
    "import tensorflow as tf"
   ]
  },
  {
   "cell_type": "code",
   "execution_count": 11,
   "metadata": {},
   "outputs": [],
   "source": [
    "(train_images, train_labels), (test_images, test_labels) = tf.keras.datasets.mnist.load_data()"
   ]
  },
  {
   "cell_type": "code",
   "execution_count": 12,
   "metadata": {},
   "outputs": [
    {
     "name": "stderr",
     "output_type": "stream",
     "text": [
      "/SI/si/lib/python3.11/site-packages/keras/src/layers/core/dense.py:87: UserWarning: Do not pass an `input_shape`/`input_dim` argument to a layer. When using Sequential models, prefer using an `Input(shape)` object as the first layer in the model instead.\n",
      "  super().__init__(activity_regularizer=activity_regularizer, **kwargs)\n"
     ]
    },
    {
     "name": "stdout",
     "output_type": "stream",
     "text": [
      "Epoch 1/5\n",
      "\u001b[1m469/469\u001b[0m \u001b[32m━━━━━━━━━━━━━━━━━━━━\u001b[0m\u001b[37m\u001b[0m \u001b[1m3s\u001b[0m 5ms/step - accuracy: 0.8737 - loss: 0.4405\n",
      "Epoch 2/5\n",
      "\u001b[1m469/469\u001b[0m \u001b[32m━━━━━━━━━━━━━━━━━━━━\u001b[0m\u001b[37m\u001b[0m \u001b[1m2s\u001b[0m 5ms/step - accuracy: 0.9676 - loss: 0.1150\n",
      "Epoch 3/5\n",
      "\u001b[1m469/469\u001b[0m \u001b[32m━━━━━━━━━━━━━━━━━━━━\u001b[0m\u001b[37m\u001b[0m \u001b[1m2s\u001b[0m 5ms/step - accuracy: 0.9785 - loss: 0.0750\n",
      "Epoch 4/5\n",
      "\u001b[1m469/469\u001b[0m \u001b[32m━━━━━━━━━━━━━━━━━━━━\u001b[0m\u001b[37m\u001b[0m \u001b[1m2s\u001b[0m 4ms/step - accuracy: 0.9846 - loss: 0.0521\n",
      "Epoch 5/5\n",
      "\u001b[1m469/469\u001b[0m \u001b[32m━━━━━━━━━━━━━━━━━━━━\u001b[0m\u001b[37m\u001b[0m \u001b[1m2s\u001b[0m 5ms/step - accuracy: 0.9892 - loss: 0.0360\n"
     ]
    },
    {
     "data": {
      "text/plain": [
       "<keras.src.callbacks.history.History at 0x7f05f20277d0>"
      ]
     },
     "execution_count": 12,
     "metadata": {},
     "output_type": "execute_result"
    }
   ],
   "source": [
    "network = tf.keras.models.Sequential()\n",
    "network.add(tf.keras.layers.Dense(512, activation='relu', input_shape=(28 * 28,)))\n",
    "network.add(tf.keras.layers.Dense(10, activation='softmax'))\n",
    "\n",
    "network.compile(optimizer='rmsprop',\n",
    "                loss='categorical_crossentropy',\n",
    "                metrics=['accuracy'])\n",
    "\n",
    "train_images = train_images.reshape((60000, 28 * 28))\n",
    "train_images = train_images.astype('float32') / 255\n",
    "\n",
    "test_images = test_images.reshape((10000, 28 * 28))\n",
    "test_images = test_images.astype('float32') / 255\n",
    "\n",
    "train_labels = tf.keras.utils.to_categorical(train_labels)\n",
    "test_labels = tf.keras.utils.to_categorical(test_labels)\n",
    "\n",
    "network.fit(train_images, train_labels, epochs=5, batch_size=128)"
   ]
  },
  {
   "cell_type": "code",
   "execution_count": 14,
   "metadata": {},
   "outputs": [
    {
     "name": "stdout",
     "output_type": "stream",
     "text": [
      "\u001b[1m313/313\u001b[0m \u001b[32m━━━━━━━━━━━━━━━━━━━━\u001b[0m\u001b[37m\u001b[0m \u001b[1m1s\u001b[0m 2ms/step - accuracy: 0.9758 - loss: 0.0772\n"
     ]
    },
    {
     "data": {
      "text/plain": [
       "0.9793000221252441"
      ]
     },
     "execution_count": 14,
     "metadata": {},
     "output_type": "execute_result"
    }
   ],
   "source": [
    "test_loss, test_acc = network.evaluate(test_images, test_labels)\n",
    "test_acc"
   ]
  },
  {
   "cell_type": "markdown",
   "metadata": {},
   "source": [
    "Zadanie 1:\n",
    "\n",
    "Modele probabilistyczne:\n",
    "\n",
    " - Naiwny klasyfikator bayesowski\n",
    "    - Schemat: Oblicza prawdopodobieństwa przy założeniu niezależność cech, wybiera klasę z najwyższym prawdopodobieństwem.  \n",
    "    - Zastosowania: Filtrowanie spamu, klasyfikacja tekstu.  \n",
    "\n",
    " - Regresja logistyczna\n",
    "    - Schemat: Przekształca sumę ważoną cech w prawdopodobieństwo przynależności do klasy za pomocą funkcji sigmoid.\n",
    "    - Zastosowania: Przewidywanie konwersji, prognozowanie chorób.\n",
    "\n",
    "\n",
    "Metody jądrowe:  \n",
    "\n",
    " - SVM (metoda wektorów nośnych)\n",
    "    - Schemat: Szuka rozdzielenia danych w przestrzeni cech, przekształca dane w przestrzeń o wyższym wymiarze.\n",
    "    - Zastosowania: Rozpoznawanie obrazów, analiza sentymentu.\n",
    "\n",
    "\n",
    "Drzewa decyzyjne:\n",
    "\n",
    " - Lasy losowe\n",
    "    - Schemat: Uśrednianie wyników wielu drzew uczonych na losowych próbkach.  \n",
    "    - Zastosowania: Segmentacja klientów, ocena ryzyka kredytowego.\n",
    "\n",
    " - Gradient Boosting  \n",
    "    - Schemat: Kolejne proste modele (drzewa) uczą się na błędach poprzednich.  \n",
    "    - Zastosowania: Optymalizacja rankingów, systemy rekomendacji.\n",
    "\n",
    "\n",
    "Modele regresyjne:\n",
    "\n",
    " - Regresja liniowa\n",
    "    - Schemat: Zakłada liniową zależność, tworzy prostą dopasowaną do danych.\n",
    "    - Zastosowania: Przewidywanie cen, analiza trendów sprzedaży.\n",
    "\n",
    "\n",
    "Modele oparte na podobieństwie:\n",
    "\n",
    " - KNN (k-najbliższych sąsiadów)\n",
    "    - Schemat: Klasyfikuje nowy punkt na podstawie większości klas jego k najbliższych sąsiadów.  \n",
    "    - Zastosowania: Wykrywanie anomalii, rozpoznawanie wzorców.\n",
    "\n",
    "\n",
    "Metody klastrowania:\n",
    "\n",
    " - K-średnich\n",
    "    - Schemat: Dobiera k centroidów, przypisuje punkty do najbliższych, iteracyjnie aktualizuje pozycje centroidów.  \n",
    "    - Zastosowania: Kompresja obrazów, grupowanie danych.  \n",
    "\n",
    " - Metoda aglomeracyjna/deaglomeracyjna\n",
    "    - Schemat: Metoda aglomeracyjna łączy najbliższe klastry od punktów do grup, deaglomeracyjna dzieli duże klastry na mniejsze.  \n",
    "    - Zastosowania: Analiza hierarchiczna danych, budowa dendrogramów.\n",
    "\n",
    "\n",
    "\n",
    "Zastanawiałem się długo nad wnioskami oraz przemyśleniami i nie mam za bardzo żadnych, łatwiej mi przychodziło ich opracowanie do konkretnych przykładów, gdzie pracowałem nad kodem, łatwiej mi przychodzi praktyka niż teoria. Ale mogę napisać, że dla każdej z tych metod zrozumiałem, jak ważna jest standaryzacja wartości i odpowiedni dobór cech."
   ]
  }
 ],
 "metadata": {
  "kernelspec": {
   "display_name": "si",
   "language": "python",
   "name": "python3"
  },
  "language_info": {
   "codemirror_mode": {
    "name": "ipython",
    "version": 3
   },
   "file_extension": ".py",
   "mimetype": "text/x-python",
   "name": "python",
   "nbconvert_exporter": "python",
   "pygments_lexer": "ipython3",
   "version": "3.11.9"
  }
 },
 "nbformat": 4,
 "nbformat_minor": 2
}
