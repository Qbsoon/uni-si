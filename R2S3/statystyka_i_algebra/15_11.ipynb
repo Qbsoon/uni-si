{
 "cells": [
  {
   "cell_type": "code",
   "execution_count": 1,
   "metadata": {},
   "outputs": [],
   "source": [
    "import math\n",
    "import numpy as np"
   ]
  },
  {
   "cell_type": "code",
   "execution_count": 2,
   "metadata": {},
   "outputs": [],
   "source": [
    "def Sar(mat):\n",
    "    if len(mat)!=len(mat[0]):\n",
    "        return f'Zle wymiary'\n",
    "    mat_n=len(mat)\n",
    "    if mat_n>=3:\n",
    "        for i in range(len(mat)-1):\n",
    "            to_add = []\n",
    "            for j in range(mat_n):\n",
    "                to_add.append(mat[j][i])\n",
    "            mat = np.c_[mat, to_add]\n",
    "    res = 0\n",
    "    if len(mat)==2:\n",
    "        res+=mat[0][0]*mat[1][1]\n",
    "        res-=mat[1][0]*mat[0][1]\n",
    "        return res\n",
    "    for i in range(mat_n):\n",
    "        res_add = 1\n",
    "        for j in range(mat_n):\n",
    "            res_add*=mat[j][j+i]\n",
    "        res+=res_add\n",
    "    for i in range(mat_n):\n",
    "        res_ded = 1\n",
    "        for j in range(mat_n):\n",
    "            res_ded*=mat[j][mat_n-1-j+i]\n",
    "        res-=res_ded\n",
    "    return res\n"
   ]
  },
  {
   "cell_type": "code",
   "execution_count": 38,
   "metadata": {},
   "outputs": [],
   "source": [
    "def Rep(mat, r, n):\n",
    "    if len(r)!=len(mat):\n",
    "        return f'Zle wymiary'\n",
    "    for i in range(len(r)):\n",
    "        mat[i][n]=r[i]\n",
    "    return mat"
   ]
  },
  {
   "cell_type": "code",
   "execution_count": null,
   "metadata": {},
   "outputs": [],
   "source": [
    "def Cram(mat, Z):\n",
    "    W = Sar(mat.copy())\n",
    "    res_t=[]\n",
    "    for i in range(len(mat)):\n",
    "        res_t.append(Sar(Rep(mat.copy(), Z, i))/W)\n",
    "    res = f''\n",
    "    for i in range(len(res_t)):\n",
    "        res=res+f'x{i} = {res_t[i]}\\n'\n",
    "    return res\n"
   ]
  },
  {
   "cell_type": "code",
   "execution_count": 55,
   "metadata": {},
   "outputs": [
    {
     "name": "stdout",
     "output_type": "stream",
     "text": [
      "x0 = 2.0\n",
      "x1 = 0.0\n",
      "x2 = 1.0\n",
      "\n"
     ]
    }
   ],
   "source": [
    "mat2 = np.array([[3,4],[2,3]])\n",
    "mat3 = np.array([[3,4,5],[1,2,3],[2,3,4]])\n",
    "z1 = np.array([[1,1,1], [1,-1,2],[3,-1,-1]])\n",
    "print(Cram(z1, [3,4,5]))"
   ]
  },
  {
   "cell_type": "code",
   "execution_count": 6,
   "metadata": {},
   "outputs": [
    {
     "data": {
      "text/plain": [
       "[[1, -1, 2, 4], [0, 1, 0, 3], [5, 7, -2, 0], [2, 0, -1, 4]]"
      ]
     },
     "execution_count": 6,
     "metadata": {},
     "output_type": "execute_result"
    }
   ],
   "source": [
    "mat = [[1,-1,2,4],[0,1,0,3],[5,7,-2,0],[2,0,-1,4]]\n",
    "mat2= [[1,-2,0,3],[1,0,-4,5],[5,2,0,2],[1,-5,-2,1]]\n",
    "Sar(mat)\n",
    "mat"
   ]
  }
 ],
 "metadata": {
  "kernelspec": {
   "display_name": "Python 3",
   "language": "python",
   "name": "python3"
  },
  "language_info": {
   "codemirror_mode": {
    "name": "ipython",
    "version": 3
   },
   "file_extension": ".py",
   "mimetype": "text/x-python",
   "name": "python",
   "nbconvert_exporter": "python",
   "pygments_lexer": "ipython3",
   "version": "3.12.5"
  }
 },
 "nbformat": 4,
 "nbformat_minor": 2
}
