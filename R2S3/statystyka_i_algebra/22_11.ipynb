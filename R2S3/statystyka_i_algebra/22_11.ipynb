{
 "cells": [
  {
   "cell_type": "code",
   "execution_count": 93,
   "metadata": {},
   "outputs": [],
   "source": [
    "import math\n",
    "import numpy as np"
   ]
  },
  {
   "cell_type": "code",
   "execution_count": 94,
   "metadata": {},
   "outputs": [],
   "source": [
    "def Sar(mat):\n",
    "    if len(mat)==1:\n",
    "        return mat[0][0]\n",
    "    if len(mat)!=len(mat[0]):\n",
    "        return f'Zle wymiary'\n",
    "    mat_n=len(mat)\n",
    "    if mat_n>=3:\n",
    "        for i in range(len(mat)-1):\n",
    "            to_add = []\n",
    "            for j in range(mat_n):\n",
    "                to_add.append(mat[j][i])\n",
    "            mat = np.c_[mat, to_add]\n",
    "    res = 0\n",
    "    if len(mat)==2:\n",
    "        res+=mat[0][0]*mat[1][1]\n",
    "        res-=mat[1][0]*mat[0][1]\n",
    "        return res\n",
    "    for i in range(mat_n):\n",
    "        res_add = 1\n",
    "        for j in range(mat_n):\n",
    "            res_add*=mat[j][j+i]\n",
    "        res+=res_add\n",
    "    for i in range(mat_n):\n",
    "        res_ded = 1\n",
    "        for j in range(mat_n):\n",
    "            res_ded*=mat[j][mat_n-1-j+i]\n",
    "        res-=res_ded\n",
    "    return res\n"
   ]
  },
  {
   "cell_type": "code",
   "execution_count": 95,
   "metadata": {},
   "outputs": [],
   "source": [
    "def multi(t1,t2):\n",
    "    r=[]\n",
    "    for i in range(len(t1)):\n",
    "        temp=[]\n",
    "        for j in range(len(t2[0])):\n",
    "            temp2=0\n",
    "            for k in range(len(t1[0])):\n",
    "                to_temp2=t1[i][k]*t2[k][j]\n",
    "                to_temp2_round = np.round(to_temp2, 4)\n",
    "                temp2+=to_temp2_round\n",
    "            temp.append(np.round(temp2,2))\n",
    "        r.append(temp)\n",
    "    return r"
   ]
  },
  {
   "cell_type": "code",
   "execution_count": 96,
   "metadata": {},
   "outputs": [],
   "source": [
    "def multi_skalar(t1, t2=1):\n",
    "    r=[]\n",
    "    for i in range(len(t1)):\n",
    "        r_t=[]\n",
    "        for j in range(len(t1[0])):\n",
    "            r_t_t = t1[i][j]*(t2)\n",
    "            r_t.append(np.round(r_t_t,4))\n",
    "        r.append(r_t)\n",
    "    return r"
   ]
  },
  {
   "cell_type": "code",
   "execution_count": 97,
   "metadata": {},
   "outputs": [],
   "source": [
    "def Short(mat, i, j):\n",
    "    mat_S=[]\n",
    "    for i_i in range(len(mat)):\n",
    "        if i_i!=i:\n",
    "            mat_S.append(list(mat[i_i].copy()))\n",
    "    for j_i in range(len(mat_S)):\n",
    "        mat_S[j_i].pop(j)\n",
    "    return Sar(np.array(mat_S.copy()))"
   ]
  },
  {
   "cell_type": "code",
   "execution_count": 98,
   "metadata": {},
   "outputs": [],
   "source": [
    "def M(mat):\n",
    "    mat_M=[]\n",
    "    for i in range(len(mat)):\n",
    "        mat_M_i=[]\n",
    "        for j in range(len(mat)):\n",
    "            minus=1\n",
    "            if (i+j)%2==1:\n",
    "                minus=-1\n",
    "            mat_M_i.append(minus*Short(mat,i,j))\n",
    "        mat_M.append(mat_M_i)\n",
    "    return mat_M"
   ]
  },
  {
   "cell_type": "code",
   "execution_count": 99,
   "metadata": {},
   "outputs": [],
   "source": [
    "def Lapl(mat):\n",
    "    L_M = M(mat)\n",
    "    res_L = 0\n",
    "    for i in range(len(mat[1])):\n",
    "        res_L+=mat[1][i]*L_M[1][i]\n",
    "    return res_L"
   ]
  },
  {
   "cell_type": "code",
   "execution_count": 100,
   "metadata": {},
   "outputs": [],
   "source": [
    "def Rev(mat):\n",
    "    R_M=M(mat)\n",
    "    print(f'M: {np.array(R_M)}')\n",
    "    mat_Rev=np.array(R_M).T\n",
    "    print(f'M_T: {mat_Rev}')\n",
    "    if len(mat)<=3:\n",
    "        det = Sar(mat.copy())\n",
    "    if len(mat)>3:\n",
    "        det = Lapl(mat)\n",
    "    print(f'det: {det}')\n",
    "    if det==0:\n",
    "        return \"Macierz jest osobliwa i nie ma odwrotności\"\n",
    "    mat_Rev=multi_skalar(mat_Rev, 1/det)\n",
    "    return mat_Rev"
   ]
  },
  {
   "cell_type": "code",
   "execution_count": 101,
   "metadata": {},
   "outputs": [
    {
     "name": "stdout",
     "output_type": "stream",
     "text": [
      "M: [[ -1  38 -27]\n",
      " [  1 -41  29]\n",
      " [ -1  34 -24]]\n",
      "M_T: [[ -1   1  -1]\n",
      " [ 38 -41  34]\n",
      " [-27  29 -24]]\n",
      "det: -1\n",
      "[[  1.  -1.   1.]\n",
      " [-38.  41. -34.]\n",
      " [ 27. -29.  24.]]\n",
      "[[1. 0. 0.]\n",
      " [0. 1. 0.]\n",
      " [0. 0. 1.]]\n"
     ]
    }
   ],
   "source": [
    "x=[[2,5,7],[6,3,4],[5,-2,-3]]\n",
    "y=[[1,-1,2,4],[0,1,0,3],[5,7,-2,0],[2,0,-1,4]]\n",
    "z=[[1,2,-1],[1,1,-1],[2,1,0]]\n",
    "z1=[[-2,3],[-4,7]]\n",
    "#Rev(z)\n",
    "#x =multi(z, Rev(z))\n",
    "#x\n",
    "# xx = np.linalg.inv(y)\n",
    "# x = np.dot(y, np.linalg.inv(y))\n",
    "# x\n",
    "_x= Rev(x)\n",
    "print(np.array(_x))\n",
    "print(np.array(multi(x,_x)))\n"
   ]
  },
  {
   "cell_type": "code",
   "execution_count": 102,
   "metadata": {},
   "outputs": [],
   "source": [
    "x=[0,0,0]"
   ]
  }
 ],
 "metadata": {
  "kernelspec": {
   "display_name": "Python 3",
   "language": "python",
   "name": "python3"
  },
  "language_info": {
   "codemirror_mode": {
    "name": "ipython",
    "version": 3
   },
   "file_extension": ".py",
   "mimetype": "text/x-python",
   "name": "python",
   "nbconvert_exporter": "python",
   "pygments_lexer": "ipython3",
   "version": "3.12.5"
  }
 },
 "nbformat": 4,
 "nbformat_minor": 2
}
