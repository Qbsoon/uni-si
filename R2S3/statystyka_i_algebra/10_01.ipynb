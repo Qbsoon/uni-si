{
 "cells": [
  {
   "cell_type": "code",
   "execution_count": 7,
   "metadata": {},
   "outputs": [],
   "source": [
    "import numpy as np"
   ]
  },
  {
   "cell_type": "code",
   "execution_count": 45,
   "metadata": {},
   "outputs": [],
   "source": [
    "def gauss(mat):\n",
    "    mod_det=1\n",
    "    l = len(mat)\n",
    "    for col in range(l-1):\n",
    "        if mat[col][col]==0:\n",
    "            for cand in range(col+1, l):\n",
    "                if mat[cand][col]!=0:\n",
    "                    row_temp = mat[cand].copy()\n",
    "                    mat[cand]=mat[col].copy()\n",
    "                    mat[col]=row_temp.copy()\n",
    "                    mod_det*=-1\n",
    "                    break\n",
    "                if cand==l-1:\n",
    "                    return f'Nie można przez zera w kolumnie {col}'\n",
    "        for row in range(col+1,l):\n",
    "            factor = mat[row][col]/mat[col][col]\n",
    "            for el in range(col, l):\n",
    "                mat[row][el] = mat[row][el] - (factor*mat[col][el])\n",
    "    det=1\n",
    "    for i in range(l):\n",
    "        det*=mat[i][i]\n",
    "    return round(det*mod_det)"
   ]
  },
  {
   "cell_type": "code",
   "execution_count": 58,
   "metadata": {},
   "outputs": [
    {
     "name": "stdout",
     "output_type": "stream",
     "text": [
      "[[  9   9 -10   6   9]\n",
      " [ -4   5  -1 -10   0]\n",
      " [  9  -4  -8  -8  -2]\n",
      " [ -3   9   0   0  -3]\n",
      " [  3   2   8  -5   4]]\n"
     ]
    },
    {
     "data": {
      "text/plain": [
       "166455"
      ]
     },
     "execution_count": 58,
     "metadata": {},
     "output_type": "execute_result"
    }
   ],
   "source": [
    "x = np.array([[np.random.randint(-10,10) for y in range(5)] for z in range(5)])\n",
    "print(x)\n",
    "gauss(x)"
   ]
  },
  {
   "cell_type": "code",
   "execution_count": 370,
   "metadata": {},
   "outputs": [],
   "source": [
    "def mgj_rev(mat):\n",
    "    l = len(mat)\n",
    "    res = np.eye(l)\n",
    "    for col in range(l-1):\n",
    "        if mat[col][col]==0:\n",
    "            for cand in range(col+1, l):\n",
    "                if mat[cand][col]!=0:\n",
    "                    row_temp = mat[cand].copy()\n",
    "                    mat[cand]=mat[col].copy()\n",
    "                    mat[col]=row_temp.copy()\n",
    "                    row_temp = res[cand].copy()\n",
    "                    res[cand]=res[col].copy()\n",
    "                    res[col]=row_temp.copy()\n",
    "                    break\n",
    "                if cand==l-1:\n",
    "                    return f'Nie można przez zera w kolumnie', f'{col}'\n",
    "        for row in range(col+1,l):\n",
    "            factor = mat[row][col]/mat[col][col]\n",
    "            for el in range(col, l):\n",
    "                mat[row][el] = mat[row][el] - (factor*mat[col][el])\n",
    "            for el in range(l):\n",
    "                res[row][el] = res[row][el] - (factor*res[col][el])\n",
    "    for one in range(l):\n",
    "        if mat[one][one]==0:\n",
    "            print (f'Macierz nieodwracalna')\n",
    "            return f'macierz', f'nieodwracalna'\n",
    "    for col in range(1, l):\n",
    "        for row in range(col):\n",
    "            factor = mat[row][col]/mat[col][col]\n",
    "            for el in range(col, l):\n",
    "                mat[row][el] = mat[row][el] - (factor*mat[col][el])\n",
    "            for el in range(l):\n",
    "                res[row][el] = res[row][el] - (factor*res[col][el])\n",
    "    for one in range(l):\n",
    "        if mat[one][one]!=1:\n",
    "            skalar = mat[one][one]\n",
    "            for el in range(l):\n",
    "                res[one][el] = res[one][el]/skalar\n",
    "                mat[one][el] = mat[one][el]/skalar\n",
    "    return mat, res"
   ]
  },
  {
   "cell_type": "code",
   "execution_count": 406,
   "metadata": {},
   "outputs": [
    {
     "name": "stdout",
     "output_type": "stream",
     "text": [
      "[[ -3   0  -6]\n",
      " [ -2   2   8]\n",
      " [  4  -8 -10]]\n",
      "mat: [[1 0 0]\n",
      " [0 1 0]\n",
      " [0 0 1]]\n",
      " rev: [[-0.24444444 -0.26666667 -0.06666667]\n",
      " [-0.06666667 -0.3        -0.2       ]\n",
      " [-0.04444444  0.13333333  0.03333333]]\n"
     ]
    }
   ],
   "source": [
    "x = np.array([[np.random.randint(-10,10) for y in range(3)] for z in range(3)])\n",
    "xx = np.array([[1,1,2],[2,3,4],[2,1,5]])\n",
    "print(x)\n",
    "y, z = mgj_rev(x)\n",
    "print(f'mat: {y}\\n rev: {z}')"
   ]
  }
 ],
 "metadata": {
  "kernelspec": {
   "display_name": "si",
   "language": "python",
   "name": "python3"
  },
  "language_info": {
   "codemirror_mode": {
    "name": "ipython",
    "version": 3
   },
   "file_extension": ".py",
   "mimetype": "text/x-python",
   "name": "python",
   "nbconvert_exporter": "python",
   "pygments_lexer": "ipython3",
   "version": "3.11.9"
  }
 },
 "nbformat": 4,
 "nbformat_minor": 2
}
