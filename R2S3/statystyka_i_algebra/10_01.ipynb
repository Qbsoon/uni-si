{
 "cells": [
  {
   "cell_type": "code",
   "execution_count": 3,
   "metadata": {},
   "outputs": [],
   "source": [
    "import numpy as np"
   ]
  },
  {
   "cell_type": "code",
   "execution_count": 108,
   "metadata": {},
   "outputs": [],
   "source": [
    "def gauss(mat):\n",
    "    mod_det=1\n",
    "    l = len(mat)\n",
    "    for col in range(l-1):\n",
    "        if mat[col][col]==0:\n",
    "            for cand in range(col+1, l):\n",
    "                if mat[cand][col]!=0:\n",
    "                    row_temp = mat[cand].copy()\n",
    "                    mat[cand]=mat[col].copy()\n",
    "                    mat[col]=row_temp.copy()\n",
    "                    mod_det*=-1\n",
    "                    print(mod_det)\n",
    "                    break\n",
    "                if cand==l-1:\n",
    "                    return f'Nie można przez zera w kolumnie {col}'\n",
    "        for row in range(col+1,l):\n",
    "            factor = mat[row][col]/mat[col][col]\n",
    "            for el in range(col, l):\n",
    "                mat[row][el] = mat[row][el] - (factor*mat[col][el])\n",
    "    det=1\n",
    "    for i in range(l):\n",
    "        det*=mat[i][i]\n",
    "    return round(det*mod_det)"
   ]
  },
  {
   "cell_type": "code",
   "execution_count": 128,
   "metadata": {},
   "outputs": [
    {
     "name": "stdout",
     "output_type": "stream",
     "text": [
      "[[ -1  -8  -7   0  -5   3   1   0   2]\n",
      " [  6   6  -2   9   3  -7   3   4  -7]\n",
      " [ -9  -7  -5   3  -5   6  -3 -10   2]\n",
      " [ -6   5   9  -5   0  -5  -5  -8   9]\n",
      " [ -8  -4  -3   9   9  -5   9  -5   6]\n",
      " [ -1   4  -4   6   4  -4   0   2   4]\n",
      " [ -7  -7  -9   1   7   8  -3   0 -10]\n",
      " [  8   1   9  -9   4  -4   7  -2  -2]\n",
      " [ -2  -9   5  -4   8  -8  -1   5   3]]\n",
      "-1\n"
     ]
    },
    {
     "data": {
      "text/plain": [
       "495331200"
      ]
     },
     "execution_count": 128,
     "metadata": {},
     "output_type": "execute_result"
    }
   ],
   "source": [
    "x = np.array([[np.random.randint(-10,10) for y in range(9)] for z in range(9)])\n",
    "print(x)\n",
    "gauss(x)"
   ]
  }
 ],
 "metadata": {
  "kernelspec": {
   "display_name": "si",
   "language": "python",
   "name": "python3"
  },
  "language_info": {
   "codemirror_mode": {
    "name": "ipython",
    "version": 3
   },
   "file_extension": ".py",
   "mimetype": "text/x-python",
   "name": "python",
   "nbconvert_exporter": "python",
   "pygments_lexer": "ipython3",
   "version": "3.11.9"
  }
 },
 "nbformat": 4,
 "nbformat_minor": 2
}
