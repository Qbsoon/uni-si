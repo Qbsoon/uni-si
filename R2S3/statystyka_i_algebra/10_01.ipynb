{
 "cells": [
  {
   "cell_type": "code",
   "execution_count": 25,
   "metadata": {},
   "outputs": [],
   "source": [
    "def gauss(mat):\n",
    "    l = len(mat)\n",
    "    for col in range(l-1):\n",
    "        for row in range(col+1,l):\n",
    "            factor = mat[row][col]/mat[col][col]\n",
    "            for el in range(col, l):\n",
    "                mat[row][el] = mat[row][el] - (factor*mat[col][el])\n",
    "    det=1\n",
    "    for i in range(l):\n",
    "        det*=mat[i][i]\n",
    "    return round(det)"
   ]
  },
  {
   "cell_type": "code",
   "execution_count": 26,
   "metadata": {},
   "outputs": [
    {
     "data": {
      "text/plain": [
       "-7"
      ]
     },
     "execution_count": 26,
     "metadata": {},
     "output_type": "execute_result"
    }
   ],
   "source": [
    "x = [[5, 4, -7],[1,3,-2],[2,0,-3]]\n",
    "gauss(x)"
   ]
  }
 ],
 "metadata": {
  "kernelspec": {
   "display_name": "si",
   "language": "python",
   "name": "python3"
  },
  "language_info": {
   "codemirror_mode": {
    "name": "ipython",
    "version": 3
   },
   "file_extension": ".py",
   "mimetype": "text/x-python",
   "name": "python",
   "nbconvert_exporter": "python",
   "pygments_lexer": "ipython3",
   "version": "3.11.9"
  }
 },
 "nbformat": 4,
 "nbformat_minor": 2
}
