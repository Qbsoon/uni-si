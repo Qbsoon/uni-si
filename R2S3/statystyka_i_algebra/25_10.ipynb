{
 "cells": [
  {
   "cell_type": "code",
   "execution_count": null,
   "metadata": {},
   "outputs": [],
   "source": []
  },
  {
   "cell_type": "code",
   "execution_count": 7,
   "metadata": {},
   "outputs": [],
   "source": [
    "#1 Dodawanie\n",
    "def add(t1, t2):\n",
    "    r=[]\n",
    "    for i in range(len(t1)):\n",
    "        r.append([])\n",
    "        for j in range(len(t1[0])):\n",
    "            r[i].append(t1[i][j]+t2[i][j])\n",
    "    return r"
   ]
  },
  {
   "cell_type": "code",
   "execution_count": 19,
   "metadata": {},
   "outputs": [],
   "source": [
    "#2 Odejmowanie\n",
    "def ded(t1, t2):\n",
    "    r=[]\n",
    "    for i in range(len(t1)):\n",
    "        r.append([])\n",
    "        for j in range(len(t1[0])):\n",
    "            r[i].append(t1[i][j]-t2[i][j])\n",
    "    return r"
   ]
  },
  {
   "cell_type": "code",
   "execution_count": 9,
   "metadata": {},
   "outputs": [],
   "source": [
    "#3 Przesuwanie\n",
    "def shift(t1, t2=1):\n",
    "    r=t1.copy()\n",
    "    for i in range(len(t1)):\n",
    "        r[i][i]+=t2\n",
    "    return r"
   ]
  },
  {
   "cell_type": "code",
   "execution_count": 39,
   "metadata": {},
   "outputs": [],
   "source": [
    "#4 Iloczyn Hadamarda\n",
    "def had(t1, t2):\n",
    "    r=[]\n",
    "    for i in range(len(t1)):\n",
    "        r.append(([]))\n",
    "        for j in range(len(t1[0])):\n",
    "            r[i].append(t1[i][j]*t2[i][j])\n",
    "    return r"
   ]
  },
  {
   "cell_type": "code",
   "execution_count": 28,
   "metadata": {},
   "outputs": [],
   "source": [
    "#5 Mnożenie przez skalar\n",
    "def multi_skalar(t1, t2=1):\n",
    "    r=t1.copy()\n",
    "    for i in range(len(r)):\n",
    "        for j in range(len(r[0])):\n",
    "            r[i][j]*=t2\n",
    "    return r"
   ]
  },
  {
   "cell_type": "code",
   "execution_count": 30,
   "metadata": {},
   "outputs": [],
   "source": [
    "#6 Mnożenie macierzy\n",
    "def multi(t1,t2):\n",
    "    r=[]\n",
    "    for i in range(len(t2[0])):\n",
    "        temp=[]\n",
    "        for j in range(len(t2[0])):\n",
    "            temp2=0\n",
    "            for k in range(len(t1[0])):\n",
    "                temp2+=t1[i][k]*t2[k][j]\n",
    "            temp.append(temp2)\n",
    "        r.append(temp)\n",
    "    return r"
   ]
  },
  {
   "cell_type": "code",
   "execution_count": 37,
   "metadata": {},
   "outputs": [],
   "source": [
    "#7 Transpozycja\n",
    "def Tr(t1):\n",
    "    r=[]\n",
    "    for i in range(len(t1[0])):\n",
    "        r.append([])\n",
    "    for i in range(len(t1)):\n",
    "        for j in range(len(t1[0])):\n",
    "            r[j].append(t1[i][j])\n",
    "    return r"
   ]
  },
  {
   "cell_type": "code",
   "execution_count": 40,
   "metadata": {},
   "outputs": [
    {
     "name": "stdout",
     "output_type": "stream",
     "text": [
      "[[10, 12, 14, 16], [18, 20, 22, 24]]\n",
      "[[8, 8, 8, 8], [8, 8, 8, 8]]\n",
      "[[4, 2, 3], [4, 8, 6], [7, 8, 12]]\n",
      "[[9, 20, 33, 48], [65, 84, 105, 128]]\n",
      "[[3, 6, 9, 12], [15, 18, 21, 24]]\n",
      "[[150, 180], [342, 420]]\n",
      "[[3, 15], [6, 18], [9, 21], [12, 24]]\n"
     ]
    }
   ],
   "source": [
    "x = [[1,2,3,4],[5,6,7,8]]\n",
    "y = [[1,2,3],[4,5,6],[7,8,9]]\n",
    "z = 3\n",
    "a = [[1,2],[3,4],[5,6],[7,8]]\n",
    "b = [[9,10,11,12],[13,14,15,16]]\n",
    "print(add(x.copy(),b.copy()))\n",
    "print(ded(b.copy(),x.copy()))\n",
    "print(shift(y.copy(),z))\n",
    "print(had(x.copy(),b.copy()))\n",
    "print(multi_skalar(x.copy(),z))\n",
    "print(multi(x.copy(),a.copy()))\n",
    "print(Tr(x.copy()))"
   ]
  },
  {
   "cell_type": "code",
   "execution_count": 5,
   "metadata": {},
   "outputs": [
    {
     "name": "stdout",
     "output_type": "stream",
     "text": [
      "Inverse of the matrix:\n",
      "[np.float64(0.6041666666666666), np.float64(-1.5833333333333333), np.float64(0.3125), np.float64(0.5833333333333333)]\n",
      "[np.float64(-0.0625), np.float64(1.0833333333333333), np.float64(0.3125), np.float64(-0.75)]\n",
      "[np.float64(1.2916666666666665), np.float64(-0.16666666666666666), np.float64(0.20833333333333331), np.float64(-1.1666666666666665)]\n",
      "[np.float64(0.020833333333333332), np.float64(0.75), np.float64(-0.10416666666666666), np.float64(0.25)]\n",
      "Result of multiplying the original matrix by its inverse:\n",
      "[np.float64(3.333333333333333), np.float64(0.0), np.float64(0.0), np.float64(2.220446049250313e-16)]\n",
      "[np.float64(0.0), np.float64(3.333333333333333), np.float64(0.0), np.float64(0.0)]\n",
      "[np.float64(0.0), np.float64(2.7755575615628914e-16), np.float64(3.3333333333333335), np.float64(-8.881784197001252e-16)]\n",
      "[np.float64(6.938893903907228e-17), np.float64(0.0), np.float64(5.551115123125783e-17), np.float64(3.333333333333333)]\n"
     ]
    }
   ],
   "source": [
    "import numpy as np\n",
    "\n",
    "def Sar(mat):\n",
    "    if len(mat) != len(mat[0]):\n",
    "        return 'Zle wymiary'\n",
    "    mat_n = len(mat)\n",
    "    if mat_n == 2:\n",
    "        return mat[0][0] * mat[1][1] - mat[1][0] * mat[0][1]\n",
    "    res = 0\n",
    "    for i in range(mat_n):\n",
    "        res_add = 1\n",
    "        for j in range(mat_n):\n",
    "            res_add *= mat[j][(j + i) % mat_n]\n",
    "        res += res_add\n",
    "    for i in range(mat_n):\n",
    "        res_ded = 1\n",
    "        for j in range(mat_n):\n",
    "            res_ded *= mat[j][(mat_n - 1 - j + i) % mat_n]\n",
    "        res -= res_ded\n",
    "    return res\n",
    "\n",
    "def M(mat, i, j):\n",
    "    mat_M = []\n",
    "    for i_i in range(len(mat)):\n",
    "        if i_i != i:\n",
    "            mat_M.append(list(mat[i_i]))\n",
    "    for j_i in range(len(mat_M)):\n",
    "        mat_M[j_i].pop(j)\n",
    "    return Sar(np.array(mat_M))\n",
    "\n",
    "def multi_skalar(t1, t2=1):\n",
    "    r = []\n",
    "    for i in range(len(t1)):\n",
    "        r_t = []\n",
    "        for j in range(len(t1[0])):\n",
    "            r_t.append(t1[i][j] * t2)\n",
    "        r.append(r_t)\n",
    "    return r\n",
    "\n",
    "def Rev(mat):\n",
    "    mat_Rev = []\n",
    "    for i in range(len(mat)):\n",
    "        mat_Rev_i = []\n",
    "        for j in range(len(mat)):\n",
    "            minus = 1\n",
    "            if (i + j) % 2 == 1:\n",
    "                minus = -1\n",
    "            mat_Rev_i.append(minus * M(mat, i, j))\n",
    "        mat_Rev.append(mat_Rev_i)\n",
    "    mat_Rev = np.array(mat_Rev).T\n",
    "    det = Sar(mat)\n",
    "    if det == 0:\n",
    "        return 'Macierz jest osobliwa i nie ma odwrotności'\n",
    "    mat_Rev = multi_skalar(mat_Rev, 1 / det)\n",
    "    return mat_Rev\n",
    "\n",
    "def multi(t1, t2):\n",
    "    r = []\n",
    "    for i in range(len(t1)):\n",
    "        temp = []\n",
    "        for j in range(len(t2[0])):\n",
    "            temp2 = 0\n",
    "            for k in range(len(t1[0])):\n",
    "                temp2 += t1[i][k] * t2[k][j]\n",
    "            temp.append(temp2)\n",
    "        r.append(temp)\n",
    "    return r\n",
    "\n",
    "# Original matrix\n",
    "matrix = [\n",
    "    [1, -1, 2, 4],\n",
    "    [0, 1, 0, 3],\n",
    "    [5, 7, -2, 0],\n",
    "    [2, 0, -1, 4]\n",
    "]\n",
    "\n",
    "# Calculate inverse\n",
    "inverse_matrix = Rev(matrix)\n",
    "\n",
    "# Multiply original matrix by its inverse\n",
    "identity_matrix = multi(matrix, inverse_matrix)\n",
    "\n",
    "print(\"Inverse of the matrix:\")\n",
    "for row in inverse_matrix:\n",
    "    print(row)\n",
    "\n",
    "print(\"Result of multiplying the original matrix by its inverse:\")\n",
    "for row in identity_matrix:\n",
    "    print(row)\n"
   ]
  }
 ],
 "metadata": {
  "kernelspec": {
   "display_name": "Python 3",
   "language": "python",
   "name": "python3"
  },
  "language_info": {
   "codemirror_mode": {
    "name": "ipython",
    "version": 3
   },
   "file_extension": ".py",
   "mimetype": "text/x-python",
   "name": "python",
   "nbconvert_exporter": "python",
   "pygments_lexer": "ipython3",
   "version": "3.12.5"
  }
 },
 "nbformat": 4,
 "nbformat_minor": 2
}
